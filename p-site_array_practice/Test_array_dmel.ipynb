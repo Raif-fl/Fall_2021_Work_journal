{
 "cells": [
  {
   "cell_type": "markdown",
   "id": "f8c6b56a-a1bc-48c3-9aee-f9e5852a02a7",
   "metadata": {},
   "source": [
    "You dolt, you cannot use that bed file you just made it is the wrong type of bed file, You need to have an actual bed file. The GTF_Transcript asembler function from the gff.py file should work. \n",
    "\n",
    "## I very much need to change the path to all of these files I am going to be opening. "
   ]
  },
  {
   "cell_type": "code",
   "execution_count": 75,
   "id": "ef4ccd24-5ff1-481e-b87e-f68fe4f83a68",
   "metadata": {},
   "outputs": [],
   "source": [
    "from plastid import GTF2_TranscriptAssembler"
   ]
  },
  {
   "cell_type": "code",
   "execution_count": 76,
   "id": "6602aae6-6ecf-4e5f-b146-24a11b3409fe",
   "metadata": {},
   "outputs": [],
   "source": [
    "# import plastid\n",
    "# data structure for mapping read alignments to genomic positions\n",
    "from plastid import BAMGenomeArray, FivePrimeMapFactory, \\\n",
    "                        BED_Reader, Transcript\n",
    "import numpy as np\n",
    "\n",
    "# load the transcript annotations from the BED file.\n",
    "# BED_Reader returns an iterator, so here we convert it to a list.\n",
    "transcripts = list(GTF2_TranscriptAssembler(open(\"Drosophila_melanogaster.BDGP6.32.103.gtf\"),return_type=Transcript))"
   ]
  },
  {
   "cell_type": "code",
   "execution_count": 78,
   "id": "745290ea-ee82-428b-94a0-3cda4af55eae",
   "metadata": {},
   "outputs": [],
   "source": [
    "from plastid import *\n",
    "maprule = VariableFivePrimeMapFactory.from_file(open(\"dmel_Fmr1_2_riboprofile_p_offsets.txt\"))\n",
    "\n",
    "# load ribosome profiling data\n",
    "alignments = BAMGenomeArray(\"dmel_Fmr1_RPF_2_Aligned.sortedByCoord.out.bam\")\n",
    "\n",
    "# set P-site mapping as 14 nucleotides from 5' end\n",
    "alignments.set_mapping(maprule)"
   ]
  },
  {
   "cell_type": "code",
   "execution_count": 79,
   "id": "be78e106-cf69-4f6b-b056-edfebb36627d",
   "metadata": {},
   "outputs": [],
   "source": [
    "# create a list to hold the vectors\n",
    "count_vectors = []\n",
    "\n",
    "# get counts for each transcript\n",
    "for transcript in transcripts:\n",
    "    count_vectors.append(transcript.get_counts(alignments))"
   ]
  },
  {
   "cell_type": "code",
   "execution_count": 139,
   "id": "e0972b1b-ad28-4411-98b2-afd91cca06cc",
   "metadata": {},
   "outputs": [],
   "source": [
    "# Create a function that finds the proteins I need. \n",
    "def find_transcript(prot,transcripts = transcripts, count_vectors = count_vectors):\n",
    "    '''\n",
    "    A function that finds the transcripts from the protein name. \n",
    "    '''\n",
    "    for i in transcripts:\n",
    "        if i.attr['transcript_biotype'] == 'protein_coding':\n",
    "            if i.attr['gene_name'] == prot:\n",
    "                my_transcript = i\n",
    "                my_vector = count_vectors[transcripts.index(i)]\n",
    "                \n",
    "    return my_transcript, my_vector"
   ]
  },
  {
   "cell_type": "code",
   "execution_count": 147,
   "id": "3b1fd565-4baf-4429-9e21-d288ae1882d4",
   "metadata": {},
   "outputs": [],
   "source": [
    "#Get the transcript and vector for the gene of interest\n",
    "my_transcript, my_vector = find_transcript('lost')"
   ]
  },
  {
   "cell_type": "code",
   "execution_count": 148,
   "id": "0e8710d7-7aac-404d-a281-ec55c7050ac7",
   "metadata": {},
   "outputs": [
    {
     "data": {
      "text/plain": [
       "(2691, 2691)"
      ]
     },
     "execution_count": 148,
     "metadata": {},
     "output_type": "execute_result"
    }
   ],
   "source": [
    "# lengths should match\n",
    "my_transcript.length, len(my_vector)"
   ]
  },
  {
   "cell_type": "code",
   "execution_count": 149,
   "id": "45eb4727-72d6-4db3-80e5-81f6cfa14cf9",
   "metadata": {},
   "outputs": [
    {
     "data": {
      "text/plain": [
       "3279.0"
      ]
     },
     "execution_count": 149,
     "metadata": {},
     "output_type": "execute_result"
    }
   ],
   "source": [
    "# get total counts over entire array\n",
    "my_vector.sum()"
   ]
  },
  {
   "cell_type": "code",
   "execution_count": 150,
   "id": "ec4904ac-040d-4d01-b051-349b1171425a",
   "metadata": {},
   "outputs": [
    {
     "data": {
      "text/plain": [
       "<matplotlib.lines.Line2D at 0x1414b9ac0>"
      ]
     },
     "execution_count": 150,
     "metadata": {},
     "output_type": "execute_result"
    },
    {
     "data": {
      "image/png": "[encoded data removed]",
      "text/plain": [
       "<Figure size 432x288 with 1 Axes>"
      ]
     },
     "metadata": {
      "needs_background": "light"
     },
     "output_type": "display_data"
    }
   ],
   "source": [
    "import numpy\n",
    "\n",
    "# mean & variance in coverage\n",
    "my_vector.mean(), my_vector.var()\n",
    "\n",
    "# location of highest peak\n",
    "my_vector.argmax()\n",
    "237\n",
    "\n",
    "# take cumulative sum\n",
    "my_vector.cumsum()\n",
    "\n",
    "# 30-codon sliding window average\n",
    "window = numpy.ones(90).astype(float)/90.0\n",
    "sliding_window_avg = numpy.convolve(my_vector,window,mode=\"valid\")\n",
    "\n",
    "\n",
    "# plot\n",
    "%matplotlib inline\n",
    "import matplotlib.pyplot as plt\n",
    "\n",
    "plt.plot(my_vector,label=\"%s counts\" % my_transcript.get_name())\n",
    "plt.plot(sliding_window_avg,label=\"30 codon average\")\n",
    "plt.xlabel(\"Position in transcript (5' to 3')\")\n",
    "plt.ylabel(\"Ribosome counts\")\n",
    "\n",
    "# add outlines at start & stop codons\n",
    "plt.axvline(my_transcript.cds_start,color=\"#999999\",dashes=[3,2],zorder=-1)\n",
    "plt.axvline(my_transcript.cds_end,color=\"#999999\",dashes=[3,2],zorder=-1)"
   ]
  },
  {
   "cell_type": "markdown",
   "id": "8fc2dbd4-5da7-4363-a89e-927220eda1f9",
   "metadata": {},
   "source": [
    "Ok, there is clearly way too much data in this GTF file and I need to find the specific set of the GTF file that is useful to me, at the moment it just gives me everything in a fly that ever was. \n",
    "\n",
    "Hmmmm, I definitely need to pick genes that have a decent number of reads in order to see anything. "
   ]
  },
  {
   "cell_type": "code",
   "execution_count": null,
   "id": "b9e3ce58-475b-4dfd-8951-2f6c25c933af",
   "metadata": {},
   "outputs": [],
   "source": []
  }
 ],
 "metadata": {
  "kernelspec": {
   "display_name": "Python 3 (ipykernel)",
   "language": "python",
   "name": "python3"
  },
  "language_info": {
   "codemirror_mode": {
    "name": "ipython",
    "version": 3
   },
   "file_extension": ".py",
   "mimetype": "text/x-python",
   "name": "python",
   "nbconvert_exporter": "python",
   "pygments_lexer": "ipython3",
   "version": "3.8.10"
  }
 },
 "nbformat": 4,
 "nbformat_minor": 5
}
