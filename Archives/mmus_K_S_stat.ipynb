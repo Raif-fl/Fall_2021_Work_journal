{
 "cells": [
  {
   "cell_type": "markdown",
   "id": "407afc7b-e0bb-43e2-8a30-5a1afa2a9f8f",
   "metadata": {
    "tags": []
   },
   "source": [
    "## Loading up packages"
   ]
  },
  {
   "cell_type": "code",
   "execution_count": 1,
   "id": "1d507586-1d97-4b9a-bb43-80b58f0ca41b",
   "metadata": {},
   "outputs": [],
   "source": [
    "import sys\n",
    "sys.path.append('/home/keeganfl/Desktop/Work_Fall_2021/Fall_2021_Work_journal/tools/')"
   ]
  },
  {
   "cell_type": "code",
   "execution_count": 2,
   "id": "c4424cc3-8403-401e-873f-71c4ebf88a88",
   "metadata": {},
   "outputs": [],
   "source": [
    "# import plastid\n",
    "# data structure for mapping read alignments to genomic positions\n",
    "from plastid import BAMGenomeArray, VariableFivePrimeMapFactory, \\\n",
    "                        GTF2_TranscriptAssembler, GFF3_TranscriptAssembler, \\\n",
    "                        Transcript, ThreePrimeMapFactory\n",
    "import numpy as np\n",
    "import os\n",
    "from Bio import SeqIO\n",
    "import numpy\n",
    "import math\n",
    "import pandas as pd\n",
    "from scipy import stats\n",
    "import keegan_analysis_tools as kat\n",
    "from statsmodels.nonparametric.smoothers_lowess import lowess\n",
    "import warnings\n",
    "import matplotlib.pyplot as plt\n",
    "%matplotlib inline\n",
    "import csv\n",
    "from scipy.sparse.linalg import lsqr"
   ]
  },
  {
   "cell_type": "code",
   "execution_count": 3,
   "id": "b436b1f9-91ae-4f93-b9ba-21c915a8da75",
   "metadata": {},
   "outputs": [],
   "source": [
    "# Define the path to our Bam files\n",
    "data_path = '/home/keeganfl/Desktop/Work_Fall_2021/genomes_&_samples/mmus/'\n",
    "csv_path = '/home/keeganfl/Desktop/Work_Fall_2021/data_tables/position_counts/mmus/'\n",
    "save_path = '/home/keeganfl/Desktop/Work_Fall_2021/data_tables/KS_stats/mmus/'\n",
    "gtf_name = 'mm10.refGene.gtf'\n",
    "mutation = 'Fmr1'\n",
    "samp_num = '3'\n",
    "if os.path.isfile(save_path + \"ks_table_\" + samp_num + \".csv\") == True:\n",
    "    pre_load = True\n",
    "else:\n",
    "    pre_load = False"
   ]
  },
  {
   "cell_type": "markdown",
   "id": "cc7a78f0-244a-42fa-ad9d-40bd1a7ade83",
   "metadata": {
    "tags": []
   },
   "source": [
    "## Loading up the data files "
   ]
  },
  {
   "cell_type": "code",
   "execution_count": 4,
   "id": "b4c04f4f-32e7-45d2-a49e-b5ccff516548",
   "metadata": {
    "tags": []
   },
   "outputs": [],
   "source": [
    "# load the transcript annotations from the GTF file.\n",
    "# GTF2_TranscriptAssembler returns an iterator, so here we convert it to a list.\n",
    "transcripts = list(GTF2_TranscriptAssembler(open(data_path + gtf_name),return_type=Transcript))"
   ]
  },
  {
   "cell_type": "markdown",
   "id": "a9e0489c-ce17-4fca-891a-ea4c97e6b42d",
   "metadata": {
    "tags": []
   },
   "source": [
    "# Loading up the csv file."
   ]
  },
  {
   "cell_type": "code",
   "execution_count": 5,
   "id": "1b038bd6-aa99-42db-92ce-685c02486c18",
   "metadata": {},
   "outputs": [],
   "source": [
    "data_mutant = kat.load_count_positions(mutation+\"_RPF_\"+samp_num+\"_counts.csv\",csv_path)\n",
    "data_control = kat.load_count_positions(\"control_RPF_\"+ samp_num +\"_counts.csv\",csv_path)"
   ]
  },
  {
   "cell_type": "markdown",
   "id": "56eabfe8-9fb3-4f24-a315-300f7774dbfa",
   "metadata": {},
   "source": [
    "## Determine KS statistic for all transcripts"
   ]
  },
  {
   "cell_type": "code",
   "execution_count": 6,
   "id": "9874557a-3945-4b2c-a8bc-dc1059645d0f",
   "metadata": {},
   "outputs": [
    {
     "data": {
      "text/plain": [
       "44446"
      ]
     },
     "execution_count": 6,
     "metadata": {},
     "output_type": "execute_result"
    }
   ],
   "source": [
    "len(transcripts)"
   ]
  },
  {
   "cell_type": "code",
   "execution_count": 7,
   "id": "21b6d859-b977-4185-bbcc-86087fbffdbb",
   "metadata": {
    "tags": []
   },
   "outputs": [],
   "source": [
    "# Find the correlation between all of the controls and the samples.\n",
    "# Note that many of the lowest values spring from very short transcripts or transcripts with few reads. \n",
    "if pre_load == False:\n",
    "    ks_list = []\n",
    "    p_list = []\n",
    "    gene_list = []\n",
    "    tr_id = []\n",
    "    for tr_m, tr_c, transcript in zip(data_mutant, data_control, transcripts):\n",
    "        if len(tr_m) > 200 and sum(tr_m)/len(tr_m) > 0.5 and sum(tr_c)/len(tr_c) > 0.5:\n",
    "            position = np.array(list(range(len(tr_m))))\n",
    "            smoothed_vec_m, cumul_m = kat.get_smoothed_vector(position, tr_m+0.00000000001)\n",
    "            smoothed_vec_c, cumul_c = kat.get_smoothed_vector(position, tr_c+0.00000000001)\n",
    "            ks, p = stats.ks_2samp(cumul_m, cumul_c)\n",
    "            ks_list.append(ks)\n",
    "            p_list.append(p)\n",
    "            gene_list.append(transcript.attr[\"gene_name\"])\n",
    "            tr_id.append(transcript.get_name())\n",
    "            \n",
    "\n",
    "    # Calculate the -10 log of the P values in order to visualize the smallest values. \n",
    "    log_p = []\n",
    "    for p in p_list:\n",
    "        if p != 0:\n",
    "            log_p.append(math.log(p, 0.1))\n",
    "        else:\n",
    "            log_p.append(200)\n",
    "            \n",
    "    # reorganizing the lists into a dataframe. \n",
    "    df = pd.DataFrame(list(zip(p_list, log_p, ks_list, gene_list, tr_id)))\n",
    "    df.columns = [\"p_value\",\"-10log(p)\",\"ks_stat\", \"gene_ID\",\"transcript_ID\"]"
   ]
  },
  {
   "cell_type": "code",
   "execution_count": 9,
   "id": "742baa9d-4e95-4c03-a8f7-22a77a72c704",
   "metadata": {},
   "outputs": [],
   "source": [
    "# Save as a csv\n",
    "if pre_load == False:\n",
    "    df.to_csv(save_path + \"ks_table_\" + samp_num + \".csv\", index=False)"
   ]
  },
  {
   "cell_type": "code",
   "execution_count": 10,
   "id": "f89dee3b-bcda-49e2-80f1-3e4162e792fb",
   "metadata": {},
   "outputs": [],
   "source": [
    "# An optional line that loads up a pre-made dataset\n",
    "if pre_load == True:\n",
    "    df = pd.read_csv(save_path + \"ks_table_\" + samp_num + \".csv\")"
   ]
  },
  {
   "cell_type": "code",
   "execution_count": 11,
   "id": "3cde654c-3b55-4f0c-a7b1-d2a4dcc1d1dd",
   "metadata": {},
   "outputs": [],
   "source": [
    "# Load in the table of Fmr1 targets\n",
    "Fmr1_targets = pd.read_csv('/home/keeganfl/Desktop/Work_Fall_2021/Fall_2021_Work_journal/Fmr1_targets.csv')"
   ]
  },
  {
   "cell_type": "code",
   "execution_count": 12,
   "id": "d7d0e905-95be-45b2-a1d5-2096b1e33c8f",
   "metadata": {},
   "outputs": [
    {
     "data": {
      "text/plain": [
       "Text(0.5, 1.0, '-10log transformed p-values of all KS tests (mouse)')"
      ]
     },
     "execution_count": 12,
     "metadata": {},
     "output_type": "execute_result"
    },
    {
     "data": {
      "image/png": "[encoded data removed]",
      "text/plain": [
       "<Figure size 432x288 with 1 Axes>"
      ]
     },
     "metadata": {
      "needs_background": "light"
     },
     "output_type": "display_data"
    }
   ],
   "source": [
    "# plot the -10log p_values for the Fmr1 targets\n",
    "df2 = pd.merge(df, Fmr1_targets, how = \"inner\", left_on=\"gene_ID\", right_on=\"MOUSE\")\n",
    "plt.scatter(list(range(len(df2['-10log(p)']))), df2['-10log(p)'])\n",
    "#plt.ylabel(\"P-value\")\n",
    "#plt.xlabel(\"Transcript index\")\n",
    "plt.title(\"-10log transformed p-values of all KS tests (mouse)\")\n",
    "#plt.plot([0,len(p_list)],[0.506,0.506], \"r\")"
   ]
  },
  {
   "cell_type": "code",
   "execution_count": 13,
   "id": "e9a36a2b-dbce-43f2-ab48-1714e243ac22",
   "metadata": {},
   "outputs": [],
   "source": [
    "# print out all of the genes with P-values below a certain threshold. \n",
    "diff_dist = zip(df[\"transcript_ID\"][df['-10log(p)'] > 100],df[\"gene_ID\"][df['-10log(p)'] > 100])"
   ]
  },
  {
   "cell_type": "code",
   "execution_count": 14,
   "id": "5e352fd5-d50c-43d8-9012-46995aa2bd6e",
   "metadata": {
    "tags": []
   },
   "outputs": [
    {
     "data": {
      "text/plain": [
       "[('NR_149827', 'Hnrnpu'),\n",
       " ('NR_153503', 'Hnrnpk'),\n",
       " ('NR_153504', 'Hnrnpk'),\n",
       " ('NR_153501', 'Hnrnpk'),\n",
       " ('NR_153502', 'Hnrnpk'),\n",
       " ('NR_152441', 'Rangap1'),\n",
       " ('NR_002883_2', 'Gm5643'),\n",
       " ('NR_038091', 'Morf4l1-ps1'),\n",
       " ('NR_037854', 'Atp6v0c-ps2'),\n",
       " ('NR_046233', 'Rn45s'),\n",
       " ('NR_045524', 'Osbpl1a'),\n",
       " ('NR_149318', 'Snap25'),\n",
       " ('NM_001077507', 'Gnas'),\n",
       " ('NM_010309', 'Gnas'),\n",
       " ('NR_133683', 'Stx1a'),\n",
       " ('NR_152855', 'Stx1a'),\n",
       " ('NM_008808', 'Pdgfa'),\n",
       " ('NM_001363271', 'Pdgfa'),\n",
       " ('NR_104468', 'Hnrnpa2b1'),\n",
       " ('NR_151824', 'Nptn'),\n",
       " ('NR_002883', 'Gm5643')]"
      ]
     },
     "execution_count": 14,
     "metadata": {},
     "output_type": "execute_result"
    }
   ],
   "source": [
    "list(diff_dist)"
   ]
  },
  {
   "cell_type": "code",
   "execution_count": 15,
   "id": "828b1c71-a5cc-4ded-ac36-d11820d7341f",
   "metadata": {},
   "outputs": [
    {
     "data": {
      "text/plain": [
       "Text(0.5, 1.0, 'KS statistic of all mouse transcripts')"
      ]
     },
     "execution_count": 15,
     "metadata": {},
     "output_type": "execute_result"
    },
    {
     "data": {
      "image/png": "[encoded data removed]",
      "text/plain": [
       "<Figure size 432x288 with 1 Axes>"
      ]
     },
     "metadata": {
      "needs_background": "light"
     },
     "output_type": "display_data"
    }
   ],
   "source": [
    "plt.scatter(list(range(len(df[\"ks_stat\"]))), df[\"ks_stat\"])\n",
    "plt.ylabel(\"KS_statistic\")\n",
    "plt.xlabel(\"Transcript index\")\n",
    "plt.title(\"KS statistic of all mouse transcripts\")"
   ]
  },
  {
   "cell_type": "code",
   "execution_count": 173,
   "id": "cf761a9c-9679-4593-a54d-f897c5e5803a",
   "metadata": {},
   "outputs": [
    {
     "data": {
      "text/plain": [
       "Text(0.5, 1.0, '-10log transformed p-values of all KS tests (mouse)')"
      ]
     },
     "execution_count": 173,
     "metadata": {},
     "output_type": "execute_result"
    },
    {
     "data": {
      "image/png": "[encoded data removed]",
      "text/plain": [
       "<Figure size 432x288 with 1 Axes>"
      ]
     },
     "metadata": {
      "needs_background": "light"
     },
     "output_type": "display_data"
    }
   ],
   "source": [
    "plt.scatter(list(range(len(log_p))), log_p)\n",
    "#plt.ylabel(\"P-value\")\n",
    "#plt.xlabel(\"Transcript index\")\n",
    "plt.title(\"-10log transformed p-values of all KS tests (mouse)\")\n",
    "#plt.plot([0,len(p_list)],[0.506,0.506], \"r\")"
   ]
  },
  {
   "cell_type": "markdown",
   "id": "0e2950c0-8b8b-41d8-8721-e6f32b504843",
   "metadata": {
    "tags": []
   },
   "source": [
    "## Choose the gene of interest and smooth out the array."
   ]
  },
  {
   "cell_type": "code",
   "execution_count": 208,
   "id": "e9e222ab-3f99-455b-9aaa-454116d24f74",
   "metadata": {},
   "outputs": [],
   "source": [
    "# Choosing a gene of interest to calculate the elongation rates of. \n",
    "# Get the transcript and vector for the gene of interest.\n",
    "my_transcript, my_vec_mutant, my_vec_control, index = kat.find_trans_mmus('Gm5643', \n",
    "                                           transcripts, data_mutant, data_control)"
   ]
  },
  {
   "cell_type": "code",
   "execution_count": 209,
   "id": "ea406fbf-2a51-4d80-91ba-04eb3ad9b49d",
   "metadata": {},
   "outputs": [],
   "source": [
    "# Create a vector that just reflects the positions along the transcript\n",
    "my_position = np.array(list(range(len(my_vec_mutant))))"
   ]
  },
  {
   "cell_type": "code",
   "execution_count": 210,
   "id": "218ec96c-a7b7-467a-b209-1af258bab3af",
   "metadata": {},
   "outputs": [
    {
     "data": {
      "text/plain": [
       "0.8517022504327756"
      ]
     },
     "execution_count": 210,
     "metadata": {},
     "output_type": "execute_result"
    }
   ],
   "source": [
    "sum(my_vec_control)/len(my_vec_control)"
   ]
  },
  {
   "cell_type": "code",
   "execution_count": 211,
   "id": "4754c6b9-6197-437d-9fab-e4df6125f303",
   "metadata": {},
   "outputs": [
    {
     "data": {
      "image/png": "[encoded data removed]",
      "text/plain": [
       "<Figure size 432x288 with 1 Axes>"
      ]
     },
     "metadata": {
      "needs_background": "light"
     },
     "output_type": "display_data"
    },
    {
     "data": {
      "text/plain": [
       "Text(0.5, 1.0, 'control')"
      ]
     },
     "execution_count": 211,
     "metadata": {},
     "output_type": "execute_result"
    },
    {
     "data": {
      "image/png": "[encoded data removed]",
      "text/plain": [
       "<Figure size 432x288 with 1 Axes>"
      ]
     },
     "metadata": {
      "needs_background": "light"
     },
     "output_type": "display_data"
    }
   ],
   "source": [
    "plt.plot(my_vec_mutant)\n",
    "plt.ylim([0,max(my_vec_control)+5])\n",
    "plt.title(\"mutant\")\n",
    "plt.show()\n",
    "plt.plot(my_vec_control)\n",
    "plt.ylim([0,max(my_vec_control)+5])\n",
    "plt.title(\"control\")"
   ]
  },
  {
   "cell_type": "markdown",
   "id": "f26a260c-13fb-4273-b4bb-b74d0ffc2670",
   "metadata": {},
   "source": [
    "When looking at the absolute largest values of P, we find this shape where the reads completely smooth out over time very consistently. "
   ]
  },
  {
   "cell_type": "code",
   "execution_count": 212,
   "id": "6c7305a5-9f56-49b7-9c98-71362924cb77",
   "metadata": {},
   "outputs": [
    {
     "data": {
      "text/plain": [
       "916"
      ]
     },
     "execution_count": 212,
     "metadata": {},
     "output_type": "execute_result"
    }
   ],
   "source": [
    "sum(my_vec_mutant)"
   ]
  },
  {
   "cell_type": "code",
   "execution_count": 236,
   "id": "fe9bf9ed-9ba7-4a4d-bce2-c863ec9a32bc",
   "metadata": {},
   "outputs": [],
   "source": [
    "def get_smoothed_vector(positions, vector, frac = 0.05):\n",
    "    loess = kat.Loess(positions, vector)\n",
    "    smoothed_vec = []\n",
    "    for x in positions:\n",
    "        y = loess.estimate(x, window=int(len(positions)*frac), use_matrix=False, degree=1)\n",
    "        smoothed_vec.append(y)\n",
    "    smoothed_vec = np.array(smoothed_vec)\n",
    "    cumsum = np.cumsum(smoothed_vec)/sum(smoothed_vec)\n",
    "    return smoothed_vec, cumsum"
   ]
  },
  {
   "cell_type": "code",
   "execution_count": 237,
   "id": "379f2078-e92f-43ea-834b-b2ef8427db11",
   "metadata": {},
   "outputs": [],
   "source": [
    "smoothed_vec_m, cumul_m = kat.get_smoothed_vector(my_position, my_vec_mutant+0.00000000001)\n",
    "smoothed_vec_c, cumul_c = kat.get_smoothed_vector(my_position, my_vec_control+0.00000000001)\n",
    "smoothed_vec_m2, cumul_m2 = get_smoothed_vector(my_position, my_vec_mutant+0.00000000001)\n",
    "smoothed_vec_c2, cumul_c2 = get_smoothed_vector(my_position, my_vec_control+0.00000000001)\n"
   ]
  },
  {
   "cell_type": "code",
   "execution_count": 238,
   "id": "417aece7-123f-4a97-9e21-6c1a2a735fe7",
   "metadata": {},
   "outputs": [
    {
     "data": {
      "text/plain": [
       "<matplotlib.legend.Legend at 0x7fe1cba084c0>"
      ]
     },
     "execution_count": 238,
     "metadata": {},
     "output_type": "execute_result"
    },
    {
     "data": {
      "image/png": "[encoded data removed]",
      "text/plain": [
       "<Figure size 432x288 with 1 Axes>"
      ]
     },
     "metadata": {
      "needs_background": "light"
     },
     "output_type": "display_data"
    }
   ],
   "source": [
    "plt.plot(smoothed_vec_m, label = \"Fmr1-1\")\n",
    "#plt.plot(my_vec_mutant/sum(my_vec_mutant))\n",
    "plt.plot(smoothed_vec_c, label = \"wt\")\n",
    "plt.ylabel(\"Read Density\")\n",
    "plt.xlabel(\"Transcript Position\")\n",
    "plt.title(\"Smoothed and normalized count vectors\")\n",
    "plt.legend()"
   ]
  },
  {
   "cell_type": "markdown",
   "id": "4145245a-ba88-41b1-9b2f-41f1be1e00af",
   "metadata": {},
   "source": [
    "## Plot and calculate the correlation of the cumulative sum * The transcript position"
   ]
  },
  {
   "cell_type": "code",
   "execution_count": 244,
   "id": "a6e6da1d-fb2f-481b-b41d-aaa0450c2781",
   "metadata": {},
   "outputs": [
    {
     "data": {
      "text/plain": [
       "<matplotlib.legend.Legend at 0x7fe215eaf220>"
      ]
     },
     "execution_count": 244,
     "metadata": {},
     "output_type": "execute_result"
    },
    {
     "data": {
      "image/png": "[encoded data removed]",
      "text/plain": [
       "<Figure size 432x288 with 1 Axes>"
      ]
     },
     "metadata": {
      "needs_background": "light"
     },
     "output_type": "display_data"
    }
   ],
   "source": [
    "plt.plot(my_position, cumul_m2, label = \"Fmr1-1\")\n",
    "plt.plot(my_position, cumul_c2, label = \"wt\")\n",
    "plt.ylabel(\"Cumulative Sum\")\n",
    "plt.xlabel(\"Transcript Position\")\n",
    "plt.title(\"Correlation of ribosome profiles\")\n",
    "plt.legend()"
   ]
  },
  {
   "cell_type": "code",
   "execution_count": 246,
   "id": "380637f4-cf1f-48e9-a76f-24f6749e4ee4",
   "metadata": {},
   "outputs": [
    {
     "data": {
      "text/plain": [
       "KstestResult(statistic=0.3641084824004616, pvalue=1.6633534714409111e-102)"
      ]
     },
     "execution_count": 246,
     "metadata": {},
     "output_type": "execute_result"
    }
   ],
   "source": [
    "stats.ks_2samp(cumul_m, cumul_c)"
   ]
  },
  {
   "cell_type": "code",
   "execution_count": 247,
   "id": "ff38ad14-5dd7-4ed1-a964-e5a146c32f05",
   "metadata": {},
   "outputs": [
    {
     "data": {
      "text/plain": [
       "(0.9983354562281074, 0.0)"
      ]
     },
     "execution_count": 247,
     "metadata": {},
     "output_type": "execute_result"
    }
   ],
   "source": [
    "stats.pearsonr(cumul_m, cumul_c)"
   ]
  },
  {
   "cell_type": "markdown",
   "id": "2843856f-9bdf-4ae7-b87e-b4e4611ae3d0",
   "metadata": {},
   "source": [
    "Wait a second, if I am using the cumulative sum for these KS-tests than wouldn't the P-values scale up with the length of the transcript since the function is going to take the number of inputs as the number of independent samples? like, if it sees a bunch of zeroes it is going to think that we actually ran a test and got a bunch of zeroes wont it? and this would apply to the normal data too. "
   ]
  },
  {
   "cell_type": "code",
   "execution_count": 130,
   "id": "9ad6288e-8626-4004-b703-bd878b33a02e",
   "metadata": {},
   "outputs": [
    {
     "data": {
      "text/html": [
       "<div>\n",
       "<style scoped>\n",
       "    .dataframe tbody tr th:only-of-type {\n",
       "        vertical-align: middle;\n",
       "    }\n",
       "\n",
       "    .dataframe tbody tr th {\n",
       "        vertical-align: top;\n",
       "    }\n",
       "\n",
       "    .dataframe thead th {\n",
       "        text-align: right;\n",
       "    }\n",
       "</style>\n",
       "<table border=\"1\" class=\"dataframe\">\n",
       "  <thead>\n",
       "    <tr style=\"text-align: right;\">\n",
       "      <th></th>\n",
       "      <th>p_value</th>\n",
       "      <th>-10log(p)</th>\n",
       "      <th>ks_stat</th>\n",
       "      <th>gene_ID</th>\n",
       "      <th>transcript_ID</th>\n",
       "    </tr>\n",
       "  </thead>\n",
       "  <tbody>\n",
       "    <tr>\n",
       "      <th>3324</th>\n",
       "      <td>0.000961</td>\n",
       "      <td>1.508569</td>\n",
       "      <td>0.080372</td>\n",
       "      <td>Zcchc18</td>\n",
       "      <td>NM_001358437</td>\n",
       "    </tr>\n",
       "    <tr>\n",
       "      <th>3325</th>\n",
       "      <td>0.000961</td>\n",
       "      <td>1.508569</td>\n",
       "      <td>0.080372</td>\n",
       "      <td>Zcchc18</td>\n",
       "      <td>NM_001358441</td>\n",
       "    </tr>\n",
       "    <tr>\n",
       "      <th>3326</th>\n",
       "      <td>0.000961</td>\n",
       "      <td>1.508569</td>\n",
       "      <td>0.080372</td>\n",
       "      <td>Zcchc18</td>\n",
       "      <td>NM_001358439</td>\n",
       "    </tr>\n",
       "    <tr>\n",
       "      <th>3327</th>\n",
       "      <td>0.000961</td>\n",
       "      <td>1.508569</td>\n",
       "      <td>0.080372</td>\n",
       "      <td>Zcchc18</td>\n",
       "      <td>NM_025893</td>\n",
       "    </tr>\n",
       "    <tr>\n",
       "      <th>3328</th>\n",
       "      <td>0.000961</td>\n",
       "      <td>1.899596</td>\n",
       "      <td>0.080372</td>\n",
       "      <td>Zcchc18</td>\n",
       "      <td>NM_001035509</td>\n",
       "    </tr>\n",
       "    <tr>\n",
       "      <th>3329</th>\n",
       "      <td>0.000961</td>\n",
       "      <td>0.819879</td>\n",
       "      <td>0.080372</td>\n",
       "      <td>Zcchc18</td>\n",
       "      <td>NM_001035510</td>\n",
       "    </tr>\n",
       "    <tr>\n",
       "      <th>3330</th>\n",
       "      <td>0.000961</td>\n",
       "      <td>50.889508</td>\n",
       "      <td>0.080372</td>\n",
       "      <td>Zcchc18</td>\n",
       "      <td>NM_001358440</td>\n",
       "    </tr>\n",
       "  </tbody>\n",
       "</table>\n",
       "</div>"
      ],
      "text/plain": [
       "       p_value  -10log(p)   ks_stat  gene_ID transcript_ID\n",
       "3324  0.000961   1.508569  0.080372  Zcchc18  NM_001358437\n",
       "3325  0.000961   1.508569  0.080372  Zcchc18  NM_001358441\n",
       "3326  0.000961   1.508569  0.080372  Zcchc18  NM_001358439\n",
       "3327  0.000961   1.508569  0.080372  Zcchc18     NM_025893\n",
       "3328  0.000961   1.899596  0.080372  Zcchc18  NM_001035509\n",
       "3329  0.000961   0.819879  0.080372  Zcchc18  NM_001035510\n",
       "3330  0.000961  50.889508  0.080372  Zcchc18  NM_001358440"
      ]
     },
     "execution_count": 130,
     "metadata": {},
     "output_type": "execute_result"
    }
   ],
   "source": [
    "df[df[\"gene_ID\"] == \"Zcchc18\"]"
   ]
  },
  {
   "cell_type": "code",
   "execution_count": 220,
   "id": "d3884364-df57-4981-b746-2249820cba0c",
   "metadata": {},
   "outputs": [],
   "source": [
    "import inspect"
   ]
  },
  {
   "cell_type": "code",
   "execution_count": null,
   "id": "4a7e634f-e4fe-4722-9196-f4a0a14fc276",
   "metadata": {},
   "outputs": [],
   "source": []
  }
 ],
 "metadata": {
  "kernelspec": {
   "display_name": "Python 3 (ipykernel)",
   "language": "python",
   "name": "python3"
  },
  "language_info": {
   "codemirror_mode": {
    "name": "ipython",
    "version": 3
   },
   "file_extension": ".py",
   "mimetype": "text/x-python",
   "name": "python",
   "nbconvert_exporter": "python",
   "pygments_lexer": "ipython3",
   "version": "3.8.12"
  }
 },
 "nbformat": 4,
 "nbformat_minor": 5
}
