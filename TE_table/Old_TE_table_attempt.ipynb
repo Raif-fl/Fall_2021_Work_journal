{
 "cells": [
  {
   "cell_type": "code",
   "execution_count": 1,
   "id": "0472fb71-254d-4288-8b24-c96b34d6b0a6",
   "metadata": {},
   "outputs": [],
   "source": [
    "import pandas as pd\n",
    "import numpy as np\n",
    "PATH = \"/Users/keeganflanagan/Desktop/Khanh_position/genomes_and_samples/Fly/\"\n",
    "%matplotlib inline\n",
    "import matplotlib.pyplot as plt\n",
    "from plastid import *"
   ]
  },
  {
   "cell_type": "code",
   "execution_count": 2,
   "id": "3ba2a026-5030-490f-b14b-4bfa9b650a63",
   "metadata": {},
   "outputs": [],
   "source": [
    "gtf_reads=list(GTF2_TranscriptAssembler(open(PATH + \"Drosophila_melanogaster.BDGP6.32.103.gtf\"),return_type=Transcript))"
   ]
  },
  {
   "cell_type": "code",
   "execution_count": 5,
   "id": "59af0b19-bcbc-4707-987a-6010a29fbd73",
   "metadata": {},
   "outputs": [],
   "source": [
    "df = pd.read_csv(\"raw_read_count_copy.txt\", sep=\"\\t\")"
   ]
  },
  {
   "cell_type": "code",
   "execution_count": null,
   "id": "1f79bce0-e243-43f6-86fd-5cfd7527dc08",
   "metadata": {},
   "outputs": [],
   "source": [
    "# Create a function that finds the proteins I need. \n",
    "def get_gene_length(prot,transcripts = transcripts, count_vectors = count_vectors):\n",
    "    '''\n",
    "    A function that takes the name of a gene as input and finds \n",
    "    the corresponding transcript from a transcript list. \n",
    "    \n",
    "    returns both the transcript in question and the vector of counts for that transcript.\n",
    "    '''\n",
    "    for i in transcripts:\n",
    "        if i.attr['gene_name'] == prot:\n",
    "            length = i.attr[\"cds_genome_end\"] - [\"cds_genome_start\"]\n",
    "                \n",
    "    return my_transcript, my_vector"
   ]
  },
  {
   "cell_type": "code",
   "execution_count": 9,
   "id": "ea4cbb71-516b-4912-8509-b2b0d76c6783",
   "metadata": {},
   "outputs": [
    {
     "data": {
      "text/plain": [
       "3.834"
      ]
     },
     "execution_count": 9,
     "metadata": {},
     "output_type": "execute_result"
    }
   ],
   "source": [
    "0.07668*50"
   ]
  },
  {
   "cell_type": "markdown",
   "id": "3d758737-57bf-4016-850f-d9672841bbcd",
   "metadata": {},
   "source": [
    "50? I just used 50? Why on earth did I just use 50? Was it the read length? did I just use the read length? Why did that work? "
   ]
  },
  {
   "cell_type": "code",
   "execution_count": null,
   "id": "d3cd0cb5-ade5-4f88-aee7-88d56035a83e",
   "metadata": {},
   "outputs": [],
   "source": []
  }
 ],
 "metadata": {
  "kernelspec": {
   "display_name": "Python 3 (ipykernel)",
   "language": "python",
   "name": "python3"
  },
  "language_info": {
   "codemirror_mode": {
    "name": "ipython",
    "version": 3
   },
   "file_extension": ".py",
   "mimetype": "text/x-python",
   "name": "python",
   "nbconvert_exporter": "python",
   "pygments_lexer": "ipython3",
   "version": "3.8.10"
  }
 },
 "nbformat": 4,
 "nbformat_minor": 5
}
