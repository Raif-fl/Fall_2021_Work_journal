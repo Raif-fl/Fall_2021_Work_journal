{
 "cells": [
  {
   "cell_type": "markdown",
   "id": "96200f08-1d1d-4973-97f5-8a14ba2b0f30",
   "metadata": {
    "tags": []
   },
   "source": [
    "## Loading up packages"
   ]
  },
  {
   "cell_type": "code",
   "execution_count": 2,
   "id": "fd69578e-89fd-442e-8b47-c603f923d981",
   "metadata": {},
   "outputs": [],
   "source": [
    "import sys\n",
    "sys.path.append('/home/keeganfl/Desktop/Work_Fall_2021/Fall_2021_Work_journal/tools/')"
   ]
  },
  {
   "cell_type": "code",
   "execution_count": 3,
   "id": "963bc9ea-3e06-4b44-9518-155717a8afc7",
   "metadata": {},
   "outputs": [],
   "source": [
    "# import plastid\n",
    "# data structure for mapping read alignments to genomic positions\n",
    "from plastid import BAMGenomeArray, GenomeArray, VariableFivePrimeMapFactory, \\\n",
    "                        GTF2_TranscriptAssembler, GFF3_TranscriptAssembler, \\\n",
    "                        Transcript, ThreePrimeMapFactory, CenterMapFactory\n",
    "import plastid\n",
    "from plastid.plotting.plots import *\n",
    "import numpy as np\n",
    "import os\n",
    "from Bio import SeqIO\n",
    "import numpy\n",
    "import math\n",
    "import pandas as pd\n",
    "from scipy import stats\n",
    "import keegan_analysis_tools as kat\n",
    "from statsmodels.nonparametric.smoothers_lowess import lowess\n",
    "import warnings\n",
    "import matplotlib.pyplot as plt\n",
    "%matplotlib inline\n",
    "import csv\n",
    "from scipy.sparse.linalg import lsqr\n",
    "from tqdm import tqdm"
   ]
  },
  {
   "cell_type": "code",
   "execution_count": 4,
   "id": "5e541396-7840-4d28-96ae-38510f770d3e",
   "metadata": {
    "tags": []
   },
   "outputs": [],
   "source": [
    "# Define the path to our Bam files\n",
    "data_path = \"/home/keeganfl/Desktop/Work_Fall_2021/genomes_&_samples/dmel/\"\n",
    "position_count_path = \"/home/keeganfl/Desktop/Work_Fall_2021/data_tables/position_counts_codon_resolution/dmel/\"\n",
    "te_table_path = '/home/keeganfl/Desktop/Work_Fall_2021/data_tables/TE_tables/dmel/'\n",
    "save_path = \"/home/keeganfl/Desktop/Work_Fall_2021/data_tables/elongation_rates/dmel/\"\n",
    "save_path2 = \"/home/keeganfl/Desktop/Work_Fall_2021/data_tables/initiation_rates/dmel/\"\n",
    "save_path3 = \"/home/keeganfl/Desktop/Work_Fall_2021/data_tables/termination_rates/dmel/\"\n",
    "elon_path = '/home/keeganfl/Desktop/Work_Fall_2021/data_tables/elongation_rates/dmel/'\n",
    "gtf_name = \"Drosophila_melanogaster.BDGP6.32.103.gtf\"\n",
    "mutation = 'Fmr1'\n",
    "samp_num = '3'"
   ]
  },
  {
   "cell_type": "markdown",
   "id": "25c8e4e2-e3c0-45f0-a648-51d418bf82a1",
   "metadata": {
    "tags": []
   },
   "source": [
    "## Loading up the data files "
   ]
  },
  {
   "cell_type": "code",
   "execution_count": 5,
   "id": "0d138168-3569-493a-9028-667c51b532da",
   "metadata": {},
   "outputs": [],
   "source": [
    "init_mutant = np.loadtxt(save_path2 + mutation + '_' + samp_num + '_adjusted_initiation_rates', delimiter = \",\")"
   ]
  },
  {
   "cell_type": "code",
   "execution_count": 6,
   "id": "6da832d5-73a4-4730-854a-42c7478bca64",
   "metadata": {},
   "outputs": [],
   "source": [
    "term_mutant = np.loadtxt(save_path3 + mutation + '_' + samp_num + '_adjusted_termination_rates', delimiter = \",\")"
   ]
  },
  {
   "cell_type": "code",
   "execution_count": 7,
   "id": "19950ed4-5d42-42e4-8754-48f0989709a1",
   "metadata": {},
   "outputs": [],
   "source": [
    "def load_elongation_rates_v2(csv_name, csv_path):\n",
    "    data = []\n",
    "    gene_names = []\n",
    "    tr_ids = []\n",
    "    with open(csv_path + csv_name, newline = '') as csvfile:\n",
    "        reader = csv.reader(csvfile)\n",
    "        for row in reader:\n",
    "            data.append(row)\n",
    "    blank=data.pop(0)\n",
    "            \n",
    "    for i,ii in zip(data, range(len(data))):\n",
    "        for j,jj in zip(i, range(len(i))):\n",
    "            try:\n",
    "                x = float(j)\n",
    "                data[ii][jj] = x\n",
    "            except:\n",
    "                pass\n",
    "            \n",
    "    # Remove empty space\n",
    "    for i,ii in zip(data, range(len(data))):\n",
    "        x = list(filter(('').__ne__, i))\n",
    "        data[ii] = x\n",
    "        \n",
    "    # Convert lists to np.arrays\n",
    "    for i,ii in zip(data, range(len(data))):\n",
    "        gene_names.append(data[ii][1])\n",
    "        tr_ids.append(data[ii][0])\n",
    "        data[ii] = np.array(data[ii][2:]) # I think that this is my target, I just need it to also capture\n",
    "    \n",
    "    return data, gene_names, tr_ids"
   ]
  },
  {
   "cell_type": "code",
   "execution_count": 8,
   "id": "e22fc9dd-1cf4-4fa8-86c0-e6915ac6e213",
   "metadata": {},
   "outputs": [],
   "source": [
    "# Load in the elongation rates data.\n",
    "elon_mutant, gene_names, tr_ids = load_elongation_rates_v2(mutation + '_' + samp_num + '_adjusted_elongation_rates', elon_path)\n",
    "#elon_control = kat.load_elongation_rates('control' + '_' + samp_num + '_elongation_rates', elon_path)"
   ]
  },
  {
   "cell_type": "code",
   "execution_count": 9,
   "id": "8fa3dbde-1245-42ec-8d6d-be501701a6fd",
   "metadata": {},
   "outputs": [],
   "source": [
    "# Load in the count positions data.\n",
    "counts_mutant = kat.load_count_positions(mutation+\"_\"+samp_num+\"_counts.csv\",position_count_path)\n",
    "counts_control = kat.load_count_positions(\"control_\"+ samp_num +\"_counts.csv\",position_count_path)"
   ]
  },
  {
   "cell_type": "markdown",
   "id": "0f6d8163-d686-4ec0-a3ac-d884670d0623",
   "metadata": {},
   "source": [
    "## Define functions"
   ]
  },
  {
   "cell_type": "code",
   "execution_count": 10,
   "id": "2bf8fa71-9a74-412b-af23-5f366ba331f6",
   "metadata": {},
   "outputs": [],
   "source": [
    "def get_density(lamb, a, B, I = 10, intermediates = False):\n",
    "    lamb_c = copy.deepcopy(lamb)# Create a copy of lamb to work on. \n",
    "    Jmax = min(lamb_c)/((1+np.sqrt(I))**2)\n",
    "    crit_a = ((lamb_c[0] - (I-1) * Jmax) / 2)*(1 - np.sqrt(1 - (4*lamb_c[0]*Jmax)/((lamb_c[0] - (I - 1)*Jmax)**2)))\n",
    "    crit_B = ((lamb_c[-1] - (I-1) * Jmax) / 2)*(1 - np.sqrt(1 - (4*lamb_c[-1]*Jmax)/((lamb_c[-1] - (I - 1)*Jmax)**2)))\n",
    "    if a < crit_a and B > crit_B:\n",
    "        p = low_density(lamb_c, a, I)\n",
    "        density = \"LD\"\n",
    "    elif a > crit_a and B < crit_B:\n",
    "        p = high_density(lamb_c, B, I)\n",
    "        density = \"HD\"\n",
    "    elif a < crit_a and B < crit_B:\n",
    "        Jl = (a*(lamb[0]-a))/(lamb[0] + (I-1)*a)\n",
    "        JR = (B*(lamb[-1]-B))/(lamb[-1] + (I-1)*B)\n",
    "        sign = Jl - JR \n",
    "        if sign > 0:\n",
    "            p = low_density(lamb_c, a, I)\n",
    "            density = \"LD\"\n",
    "        elif sign < 0:\n",
    "            p = high_density(lamb_c, B, I)\n",
    "            density = \"HD\"\n",
    "    elif a > crit_a and B > crit_B:\n",
    "        p = maximum_current(lamb_c, a, B, I)\n",
    "        density = \"MC\"\n",
    "    if intermediates == False:\n",
    "        return p, density\n",
    "    elif intermediates == True:\n",
    "        return p, a, B, crit_a, crit_B, min(lamb_c), lamb_c[0]\n",
    "    \n",
    "def get_critical_values(lamb, a, B, I = 10):\n",
    "    lamb_c = copy.deepcopy(lamb)# Create a copy of lamb to work on. \n",
    "    Jmax = min(lamb_c)/((1+np.sqrt(I))**2)\n",
    "    crit_a = ((lamb_c[0] - (I-1) * Jmax) / 2)*(1 - np.sqrt(1 - (4*lamb_c[0]*Jmax)/((lamb_c[0] - (I - 1)*Jmax)**2)))\n",
    "    crit_B = ((lamb_c[-1] - (I-1) * Jmax) / 2)*(1 - np.sqrt(1 - (4*lamb_c[-1]*Jmax)/((lamb_c[-1] - (I - 1)*Jmax)**2)))\n",
    "    return(crit_a, crit_B)"
   ]
  },
  {
   "cell_type": "markdown",
   "id": "18fa65cf-4876-456e-8ee0-fc413eb7340b",
   "metadata": {},
   "source": [
    "## Clean data"
   ]
  },
  {
   "cell_type": "code",
   "execution_count": 68,
   "id": "45e0efdf-962c-4fa5-a29c-c1746f004f97",
   "metadata": {},
   "outputs": [
    {
     "data": {
      "text/plain": [
       "array([365.935774  , 365.935774  , 278.28031191, 265.53039809,\n",
       "       265.53039809, 253.88916335, 253.88916335, 181.85873   ,\n",
       "       123.10970413, 113.27964589, 104.87935339,  97.61802678,\n",
       "       106.86276161, 101.12130574,  97.61802678, 101.12130574,\n",
       "       111.05842075,  88.40163085,  71.40848757,  69.61242073,\n",
       "        70.49936862,  74.27750893,  58.5024523 ,  36.78022654,\n",
       "        33.90710637,  30.86022703,  26.22105135,  22.72124913,\n",
       "        25.94853217,  23.37300082,  21.60852818,  21.60852818,\n",
       "        23.59786668,  31.42783904,  33.04111523,  35.28879044,\n",
       "        37.04039433,  44.89690988,  43.79214201,  49.9024153 ,\n",
       "        56.6803606 ,  47.69309575,  45.27704165,  43.08394934,\n",
       "        45.27704165,  46.45512548,  50.84186038,  65.48348913,\n",
       "        63.96179891,  72.34061953,  78.46964594, 102.96677744,\n",
       "       115.58971586, 148.81882965, 148.81882965, 134.76853253,\n",
       "       156.98315759, 148.81882965, 187.79674965, 200.90132314,\n",
       "        61.11473842,  42.73795965,  41.40524295,  40.45639048,\n",
       "        37.57127293,  37.30405287,  35.77311174,  36.52348062,\n",
       "        35.28879044,  34.1302829 ,  55.52516794,  84.40329978,\n",
       "        91.27872014,  92.78686672, 102.96677744, 117.99407012,\n",
       "       141.45100112, 113.27964589, 113.27964589, 111.05842075,\n",
       "       101.12130574, 106.86276161,  92.78686672,  89.81769987,\n",
       "        87.02846982,  84.40329978,  88.40163085,  94.34445728,\n",
       "        95.95396403, 106.86276161, 131.65510253, 128.68004255,\n",
       "       156.98315759, 176.280584  , 200.90132314, 152.79357101,\n",
       "       120.49860145, 117.99407012, 128.68004255, 128.68004255,\n",
       "       106.86276161, 102.96677744,  81.92812747,  80.74282924,\n",
       "        74.27750893,  83.14777912,  92.78686672, 106.86276161,\n",
       "       106.86276161])"
      ]
     },
     "execution_count": 68,
     "metadata": {},
     "output_type": "execute_result"
    }
   ],
   "source": [
    "elon_mutant[30703]"
   ]
  },
  {
   "cell_type": "code",
   "execution_count": 128,
   "id": "3aefaa58-61eb-4519-80c7-d42ac5bc3e4d",
   "metadata": {},
   "outputs": [],
   "source": [
    "x = [np.array([-2,-5,-6]), np.array([4,6,7]), np.array([4,8,8, -0.00003])]"
   ]
  },
  {
   "cell_type": "code",
   "execution_count": 141,
   "id": "53f29aca-1543-419a-ba9e-43ce9322c914",
   "metadata": {
    "collapsed": true,
    "jupyter": {
     "outputs_hidden": true
    },
    "tags": []
   },
   "outputs": [
    {
     "name": "stdout",
     "output_type": "stream",
     "text": [
      "1\n",
      "2\n",
      "3\n",
      "4\n",
      "5\n",
      "6\n",
      "7\n",
      "8\n",
      "9\n",
      "10\n",
      "11\n",
      "12\n",
      "13\n",
      "14\n",
      "15\n",
      "16\n",
      "17\n",
      "18\n",
      "19\n",
      "20\n",
      "21\n",
      "22\n",
      "23\n",
      "24\n",
      "25\n",
      "26\n",
      "27\n",
      "28\n",
      "29\n",
      "30\n",
      "31\n",
      "32\n",
      "33\n",
      "34\n",
      "35\n",
      "36\n",
      "37\n",
      "38\n",
      "39\n",
      "40\n",
      "42\n",
      "43\n",
      "44\n",
      "45\n",
      "46\n",
      "47\n",
      "48\n",
      "49\n",
      "50\n",
      "51\n",
      "52\n",
      "53\n",
      "54\n",
      "55\n",
      "56\n",
      "57\n",
      "58\n",
      "59\n",
      "60\n",
      "61\n",
      "62\n",
      "63\n",
      "64\n",
      "65\n",
      "66\n",
      "67\n",
      "68\n",
      "69\n",
      "70\n",
      "71\n",
      "72\n",
      "73\n",
      "74\n",
      "75\n",
      "76\n",
      "77\n",
      "78\n",
      "79\n",
      "80\n",
      "81\n",
      "82\n",
      "83\n",
      "84\n",
      "85\n",
      "86\n",
      "87\n",
      "88\n",
      "89\n",
      "90\n",
      "91\n",
      "92\n",
      "93\n",
      "94\n",
      "95\n",
      "96\n",
      "97\n",
      "98\n",
      "99\n",
      "100\n",
      "101\n",
      "102\n",
      "103\n",
      "104\n",
      "105\n",
      "106\n",
      "107\n",
      "108\n",
      "109\n",
      "110\n",
      "111\n",
      "112\n",
      "113\n",
      "114\n",
      "115\n",
      "116\n",
      "117\n",
      "118\n",
      "119\n",
      "120\n",
      "121\n",
      "122\n",
      "123\n",
      "124\n",
      "125\n",
      "126\n",
      "127\n",
      "128\n",
      "129\n",
      "130\n",
      "131\n",
      "132\n",
      "133\n",
      "134\n",
      "135\n",
      "136\n",
      "137\n",
      "138\n",
      "139\n",
      "140\n",
      "141\n",
      "142\n",
      "143\n",
      "144\n",
      "145\n",
      "146\n",
      "147\n",
      "148\n",
      "149\n",
      "150\n",
      "151\n",
      "152\n",
      "153\n",
      "154\n",
      "155\n",
      "156\n",
      "157\n",
      "158\n",
      "159\n",
      "160\n",
      "161\n",
      "162\n",
      "163\n",
      "164\n",
      "165\n",
      "166\n",
      "167\n",
      "168\n",
      "169\n",
      "170\n",
      "171\n",
      "172\n",
      "173\n",
      "174\n",
      "175\n",
      "176\n",
      "177\n",
      "178\n",
      "179\n",
      "180\n",
      "181\n",
      "182\n",
      "183\n",
      "184\n",
      "185\n",
      "186\n",
      "187\n",
      "188\n",
      "189\n",
      "190\n",
      "191\n",
      "192\n",
      "193\n",
      "194\n",
      "195\n",
      "196\n",
      "197\n",
      "198\n",
      "199\n",
      "200\n",
      "201\n",
      "202\n",
      "203\n",
      "204\n",
      "205\n",
      "206\n",
      "207\n",
      "208\n",
      "209\n",
      "210\n",
      "211\n",
      "212\n",
      "213\n",
      "214\n",
      "215\n",
      "216\n",
      "217\n",
      "218\n",
      "219\n",
      "220\n",
      "221\n",
      "222\n",
      "223\n",
      "224\n",
      "225\n",
      "226\n",
      "227\n",
      "228\n",
      "229\n",
      "230\n",
      "231\n",
      "232\n",
      "233\n",
      "234\n",
      "235\n",
      "236\n",
      "237\n",
      "238\n",
      "239\n",
      "240\n",
      "241\n",
      "242\n",
      "243\n",
      "244\n",
      "245\n",
      "246\n",
      "247\n",
      "248\n",
      "249\n"
     ]
    }
   ],
   "source": [
    "x = 0\n",
    "for el_m in Fmr1_elon_table.elon_rate:\n",
    "    x = x+1\n",
    "    if np.any(el_m<0) == False:\n",
    "        print(x)"
   ]
  },
  {
   "cell_type": "code",
   "execution_count": 142,
   "id": "0892d528-d31e-44b1-ad74-081289f171b6",
   "metadata": {},
   "outputs": [],
   "source": [
    "# Find the correlation between all of the controls and the samples.\n",
    "# Note that many of the lowest values spring from very short transcripts or transcripts with few reads. \n",
    "clean_elons = []\n",
    "clean_inits = []\n",
    "clean_terms = []\n",
    "clean_gene_names = []\n",
    "clean_tr_ids = []\n",
    "for tr_m, tr_c, el_m, in_m, term_m, gi, tr_id in zip(counts_mutant, counts_control, elon_mutant, init_mutant, term_mutant, gene_names, tr_ids):\n",
    "    if len(tr_m) > 200 and sum(tr_m)/len(tr_m) > 0.15 and sum(tr_c)/len(tr_c) > 0.15 and np.any(el_m<0) == False:\n",
    "        clean_elons.append(el_m)\n",
    "        clean_inits.append(in_m)\n",
    "        clean_terms.append(term_m)\n",
    "        clean_gene_names.append(gi)\n",
    "        clean_tr_ids.append(tr_id)"
   ]
  },
  {
   "cell_type": "code",
   "execution_count": 143,
   "id": "55c4be11-d143-4b38-89fd-15eb82d3bfc3",
   "metadata": {},
   "outputs": [
    {
     "data": {
      "text/plain": [
       "7852"
      ]
     },
     "execution_count": 143,
     "metadata": {},
     "output_type": "execute_result"
    }
   ],
   "source": [
    "len(clean_elons)"
   ]
  },
  {
   "cell_type": "code",
   "execution_count": 144,
   "id": "ffb63960-8401-4936-9849-8c62563b6f2e",
   "metadata": {},
   "outputs": [],
   "source": [
    "crit_as = []\n",
    "crit_Bs = []\n",
    "for ce, ci, ct in zip(clean_elons, clean_inits, clean_terms):\n",
    "    crit_a, crit_B = get_critical_values(ce, ci, ct)\n",
    "    crit_as.append(crit_a)\n",
    "    crit_Bs.append(crit_B)"
   ]
  },
  {
   "cell_type": "code",
   "execution_count": 145,
   "id": "6c20c743-a21b-4031-8195-712dd0520c8f",
   "metadata": {},
   "outputs": [],
   "source": [
    "ratio_a = (np.array(clean_inits)/np.array(crit_as))\n",
    "ratio_B = (np.array(clean_terms))/np.array(crit_Bs)"
   ]
  },
  {
   "cell_type": "code",
   "execution_count": 165,
   "id": "f422c49a-dbd5-406f-88ae-584da26a2c73",
   "metadata": {},
   "outputs": [
    {
     "data": {
      "text/plain": [
       "[<matplotlib.lines.Line2D at 0x7f879bb12fd0>]"
      ]
     },
     "execution_count": 165,
     "metadata": {},
     "output_type": "execute_result"
    },
    {
     "data": {
      "image/png": "[encoded data removed]",
      "text/plain": [
       "<Figure size 432x288 with 1 Axes>"
      ]
     },
     "metadata": {
      "needs_background": "light"
     },
     "output_type": "display_data"
    }
   ],
   "source": [
    "plt.scatter((np.array(clean_inits)/np.array(crit_as)), ((np.array(clean_terms))/np.array(crit_Bs)), s = 10, alpha = 0.4)\n",
    "#plt.ylim([-1,9])\n",
    "#plt.xlim([-1,9])\n",
    "plt.xlabel(r'$\\alpha / \\alpha * $')\n",
    "plt.ylabel(r'$\\beta / \\beta * $')\n",
    "plt.plot([1, 1], [1, 10], 'k-', lw=2)\n",
    "plt.plot([1, 10], [1,1], 'k-', lw = 2)\n",
    "plt.plot([0, 1], [0,1], 'k-', lw = 2)\n",
    "plt.plot([0, 1], [1,1], 'k--', lw = 2)\n",
    "plt.plot([1, 1], [0,1], 'k--', lw = 2)"
   ]
  },
  {
   "cell_type": "markdown",
   "id": "b453acb9-965a-49d7-bd8c-8a982ce16efb",
   "metadata": {},
   "source": [
    "## Next Step, look at Mutant\n",
    "\n",
    "Also, calculate the median or mean change in elongation rate necessary to "
   ]
  },
  {
   "cell_type": "code",
   "execution_count": 15,
   "id": "339923ee-f67b-4b73-a674-484aaafa29c5",
   "metadata": {
    "collapsed": true,
    "jupyter": {
     "outputs_hidden": true
    },
    "tags": []
   },
   "outputs": [
    {
     "name": "stdout",
     "output_type": "stream",
     "text": [
      "-169.84759258774125\n",
      "342\n",
      "-131.68191935796568\n",
      "618\n",
      "-194.37361892241034\n",
      "642\n",
      "-213.9420853987796\n",
      "643\n",
      "-1483.6184928333169\n",
      "644\n",
      "-0.7902137614218889\n",
      "973\n",
      "-0.7563891753002296\n",
      "974\n",
      "-0.7964611646993768\n",
      "975\n",
      "-0.6127426711039634\n",
      "976\n",
      "-18.34360921794664\n",
      "1511\n",
      "-18.49703545940002\n",
      "1512\n",
      "-19.383857164910292\n",
      "1860\n",
      "-7.963695546268841\n",
      "2459\n",
      "-0.24525174025596397\n",
      "2551\n",
      "-0.1822461190695566\n",
      "2552\n",
      "-1090.073712783298\n",
      "2882\n",
      "-61.2379679462496\n",
      "3242\n",
      "-56.319822235787996\n",
      "3243\n",
      "-63.79489148173274\n",
      "3244\n",
      "-51.48740517317185\n",
      "3245\n",
      "-151.32589865533447\n",
      "3388\n",
      "-1431.0396249444493\n",
      "3432\n",
      "-32.301935653268224\n",
      "3569\n",
      "-2.987402770473238\n",
      "4411\n",
      "-2.95464582574311\n",
      "4412\n",
      "-488.5951137068656\n",
      "4466\n",
      "-116.73132915791042\n",
      "4467\n",
      "-827.528112626078\n",
      "4468\n",
      "-93.01653220187846\n",
      "4469\n",
      "-0.9184368394278188\n",
      "4685\n",
      "-499.3636786249462\n",
      "4805\n",
      "-970.1748583811681\n",
      "4806\n",
      "-2.0446498523758665\n",
      "4996\n",
      "-1.9986919647419858\n",
      "4997\n",
      "-2.4171025864199787\n",
      "4998\n",
      "-47.960298775151074\n",
      "5055\n",
      "-11.245876589372306\n",
      "5125\n",
      "-8.759677349169218\n",
      "5126\n",
      "-10.407944936205023\n",
      "5127\n",
      "-222.7781747797193\n",
      "5910\n",
      "-207.63653730390376\n",
      "5911\n",
      "-98.33876718830517\n",
      "5912\n",
      "-194.9187419735595\n",
      "5913\n",
      "-306.19062336631333\n",
      "6312\n",
      "-52.687355227088055\n",
      "6528\n",
      "-0.4197047688487789\n",
      "6718\n",
      "-16.55852437196098\n",
      "6750\n",
      "-186.39223919490598\n",
      "6835\n",
      "-176.48394554163502\n",
      "6949\n",
      "-154.59142742969175\n",
      "6950\n",
      "-121.83987112243354\n",
      "6951\n",
      "-122.08495770179687\n",
      "6952\n",
      "-265.4099390134486\n",
      "6953\n",
      "-174.2051546054076\n",
      "6954\n",
      "-1713.6670815818302\n",
      "7510\n",
      "-2113.0126411200235\n",
      "7511\n",
      "-6861.75804392873\n",
      "7512\n",
      "-3707.246345494218\n",
      "7513\n",
      "-0.43396384054705084\n",
      "7791\n",
      "-0.4534353683609503\n",
      "7792\n",
      "-0.9983271262399073\n",
      "7793\n",
      "-322.0257156427656\n",
      "7915\n"
     ]
    }
   ],
   "source": [
    "x = 0\n",
    "for i in ratio_B:\n",
    "    x = x+1\n",
    "    if i < 0:\n",
    "        print(i)\n",
    "        print(x)"
   ]
  },
  {
   "cell_type": "code",
   "execution_count": 16,
   "id": "1dbda74b-04e7-45b4-985c-3c9a639eef59",
   "metadata": {},
   "outputs": [
    {
     "data": {
      "text/plain": [
       "'Rrp40'"
      ]
     },
     "execution_count": 16,
     "metadata": {},
     "output_type": "execute_result"
    }
   ],
   "source": [
    "clean_gene_names[120]"
   ]
  },
  {
   "cell_type": "markdown",
   "id": "07852f71-6ad5-40af-88de-1c37f716271e",
   "metadata": {},
   "source": [
    "## Look at just the Fmr1 targets"
   ]
  },
  {
   "cell_type": "code",
   "execution_count": 147,
   "id": "a6a445a9-6275-4677-a88d-249c5d1abfc6",
   "metadata": {},
   "outputs": [],
   "source": [
    "target_path = '/home/keeganfl/Desktop/Work_Fall_2021/data_tables/Fmr1_targets/'"
   ]
  },
  {
   "cell_type": "code",
   "execution_count": 148,
   "id": "65462b67-2cad-47c5-a4a6-9fb3c5af4b53",
   "metadata": {},
   "outputs": [],
   "source": [
    "Fmr1_table = pd.read_csv(target_path + 'Fmr1_dmel_downreg_genes.txt', names = [\"gene_name\"])\n",
    "\n",
    "df = pd.DataFrame(list(zip(clean_gene_names, clean_tr_ids, clean_elons, clean_inits, clean_terms)))\n",
    "df.columns = [\"gene_name\",\"transcript_ID\", \"elon_rate\", \"a\", \"B\"]\n",
    "\n",
    "Fmr1_elon_table = pd.merge(df, Fmr1_table, how='inner', on='gene_name')"
   ]
  },
  {
   "cell_type": "code",
   "execution_count": 149,
   "id": "aaca8253-2bac-4fb9-a688-7722799c0632",
   "metadata": {},
   "outputs": [],
   "source": [
    "# Keep only one copy of each gene in the Fmr1 table. \n",
    "Fmr1_elon_table.sort_values(\"gene_name\", inplace = True)\n",
    "Fmr1_elon_table.drop_duplicates(subset =\"gene_name\",keep = \"first\", inplace = True) \n",
    "Fmr1_elon_table = Fmr1_elon_table.reset_index()"
   ]
  },
  {
   "cell_type": "code",
   "execution_count": 150,
   "id": "4a30c237-77ad-47bb-aba0-3efc787b0397",
   "metadata": {},
   "outputs": [],
   "source": [
    "Fmr1_crit_as = []\n",
    "Fmr1_crit_Bs = []\n",
    "for ce, ci, ct in zip(Fmr1_elon_table.elon_rate, Fmr1_elon_table.a, Fmr1_elon_table.B):\n",
    "    crit_a, crit_B = get_critical_values(ce, ci, ct)\n",
    "    Fmr1_crit_as.append(crit_a)\n",
    "    Fmr1_crit_Bs.append(crit_B)"
   ]
  },
  {
   "cell_type": "code",
   "execution_count": 151,
   "id": "0b96e49b-3527-430a-b96f-f81b96fb6024",
   "metadata": {},
   "outputs": [],
   "source": [
    "ratio_a = (np.array(Fmr1_elon_table.a)/np.array(Fmr1_crit_as))\n",
    "ratio_B = (np.array(Fmr1_elon_table.B))/np.array(Fmr1_crit_Bs)"
   ]
  },
  {
   "cell_type": "code",
   "execution_count": 152,
   "id": "cb487217-ba18-4120-8ecc-51e63c7cb8a0",
   "metadata": {},
   "outputs": [],
   "source": [
    "Fmr1_elon_table[\"ratio_a\"] = ratio_a\n",
    "Fmr1_elon_table[\"ratio_B\"] = ratio_B"
   ]
  },
  {
   "cell_type": "code",
   "execution_count": 169,
   "id": "c72f72e3-0ac1-4f21-bbe8-21d0ad6ff684",
   "metadata": {},
   "outputs": [
    {
     "data": {
      "text/plain": [
       "[<matplotlib.lines.Line2D at 0x7f8781b9cd00>]"
      ]
     },
     "execution_count": 169,
     "metadata": {},
     "output_type": "execute_result"
    },
    {
     "data": {
      "image/png": "[encoded data removed]",
      "text/plain": [
       "<Figure size 432x288 with 1 Axes>"
      ]
     },
     "metadata": {
      "needs_background": "light"
     },
     "output_type": "display_data"
    }
   ],
   "source": [
    "plt.scatter(ratio_a, ratio_B/10, s = 10, alpha = 0.4)\n",
    "plt.ylim([-.5,16])\n",
    "plt.xlim([-.5,9])\n",
    "plt.plot([1, 1], [1, 18], 'k-', lw=2)\n",
    "plt.plot([1, 10], [1,1], 'k-', lw = 2)\n",
    "plt.plot([0, 1], [0,1], 'k-', lw = 2)\n",
    "plt.plot([0, 1], [1,1], 'k--', lw = 2)\n",
    "plt.plot([1, 1], [0,1], 'k--', lw = 2)"
   ]
  },
  {
   "cell_type": "code",
   "execution_count": 160,
   "id": "c0dd35d4-cdb4-4a28-93ec-d1fe59a0035f",
   "metadata": {},
   "outputs": [
    {
     "data": {
      "text/html": [
       "<div>\n",
       "<style scoped>\n",
       "    .dataframe tbody tr th:only-of-type {\n",
       "        vertical-align: middle;\n",
       "    }\n",
       "\n",
       "    .dataframe tbody tr th {\n",
       "        vertical-align: top;\n",
       "    }\n",
       "\n",
       "    .dataframe thead th {\n",
       "        text-align: right;\n",
       "    }\n",
       "</style>\n",
       "<table border=\"1\" class=\"dataframe\">\n",
       "  <thead>\n",
       "    <tr style=\"text-align: right;\">\n",
       "      <th></th>\n",
       "      <th>index</th>\n",
       "      <th>gene_name</th>\n",
       "      <th>transcript_ID</th>\n",
       "      <th>elon_rate</th>\n",
       "      <th>a</th>\n",
       "      <th>B</th>\n",
       "      <th>ratio_a</th>\n",
       "      <th>ratio_B</th>\n",
       "    </tr>\n",
       "  </thead>\n",
       "  <tbody>\n",
       "    <tr>\n",
       "      <th>5</th>\n",
       "      <td>268</td>\n",
       "      <td>Act57B</td>\n",
       "      <td>FBtr0071519</td>\n",
       "      <td>[1.9662305743261106, 1.96623057432611, 1.96623...</td>\n",
       "      <td>0.004578</td>\n",
       "      <td>0.343220</td>\n",
       "      <td>0.780204</td>\n",
       "      <td>55.395919</td>\n",
       "    </tr>\n",
       "    <tr>\n",
       "      <th>21</th>\n",
       "      <td>29</td>\n",
       "      <td>CG13992</td>\n",
       "      <td>FBtr0309288</td>\n",
       "      <td>[0.4103868816429291, 0.3445016583948867, 0.472...</td>\n",
       "      <td>0.022011</td>\n",
       "      <td>1.563565</td>\n",
       "      <td>0.778675</td>\n",
       "      <td>80.121208</td>\n",
       "    </tr>\n",
       "    <tr>\n",
       "      <th>105</th>\n",
       "      <td>63</td>\n",
       "      <td>Lip4</td>\n",
       "      <td>FBtr0304119</td>\n",
       "      <td>[1.5449510659752097, 1.4465985135939787, 1.210...</td>\n",
       "      <td>0.017178</td>\n",
       "      <td>0.534635</td>\n",
       "      <td>0.740969</td>\n",
       "      <td>9.248128</td>\n",
       "    </tr>\n",
       "    <tr>\n",
       "      <th>169</th>\n",
       "      <td>547</td>\n",
       "      <td>SpdS</td>\n",
       "      <td>FBtr0082078</td>\n",
       "      <td>[1.4269386349695703, 1.8459972902976327, 1.845...</td>\n",
       "      <td>0.036793</td>\n",
       "      <td>0.358423</td>\n",
       "      <td>3.771191</td>\n",
       "      <td>21.239972</td>\n",
       "    </tr>\n",
       "    <tr>\n",
       "      <th>195</th>\n",
       "      <td>658</td>\n",
       "      <td>betaTub97EF</td>\n",
       "      <td>FBtr0334906</td>\n",
       "      <td>[0.7894090504526006, 1.1328334406940848, 1.132...</td>\n",
       "      <td>0.009432</td>\n",
       "      <td>1.201301</td>\n",
       "      <td>35.159287</td>\n",
       "      <td>4478.073851</td>\n",
       "    </tr>\n",
       "  </tbody>\n",
       "</table>\n",
       "</div>"
      ],
      "text/plain": [
       "     index    gene_name transcript_ID  \\\n",
       "5      268       Act57B   FBtr0071519   \n",
       "21      29      CG13992   FBtr0309288   \n",
       "105     63         Lip4   FBtr0304119   \n",
       "169    547         SpdS   FBtr0082078   \n",
       "195    658  betaTub97EF   FBtr0334906   \n",
       "\n",
       "                                             elon_rate         a         B  \\\n",
       "5    [1.9662305743261106, 1.96623057432611, 1.96623...  0.004578  0.343220   \n",
       "21   [0.4103868816429291, 0.3445016583948867, 0.472...  0.022011  1.563565   \n",
       "105  [1.5449510659752097, 1.4465985135939787, 1.210...  0.017178  0.534635   \n",
       "169  [1.4269386349695703, 1.8459972902976327, 1.845...  0.036793  0.358423   \n",
       "195  [0.7894090504526006, 1.1328334406940848, 1.132...  0.009432  1.201301   \n",
       "\n",
       "       ratio_a      ratio_B  \n",
       "5     0.780204    55.395919  \n",
       "21    0.778675    80.121208  \n",
       "105   0.740969     9.248128  \n",
       "169   3.771191    21.239972  \n",
       "195  35.159287  4478.073851  "
      ]
     },
     "execution_count": 160,
     "metadata": {},
     "output_type": "execute_result"
    }
   ],
   "source": [
    "Fmr1_elon_table[Fmr1_elon_table.ratio_a > 0.6]"
   ]
  },
  {
   "cell_type": "markdown",
   "id": "3c44a1ce-cc41-459f-9654-20752746b3b9",
   "metadata": {},
   "source": [
    "show reduced elongation rate by 50% and look at how that effects it. "
   ]
  }
 ],
 "metadata": {
  "kernelspec": {
   "display_name": "Python 3 (ipykernel)",
   "language": "python",
   "name": "python3"
  },
  "language_info": {
   "codemirror_mode": {
    "name": "ipython",
    "version": 3
   },
   "file_extension": ".py",
   "mimetype": "text/x-python",
   "name": "python",
   "nbconvert_exporter": "python",
   "pygments_lexer": "ipython3",
   "version": "3.8.12"
  }
 },
 "nbformat": 4,
 "nbformat_minor": 5
}
