{
 "cells": [
  {
   "cell_type": "markdown",
   "id": "0e7d6787-2834-4eb1-8d99-cad38c75e817",
   "metadata": {},
   "source": [
    "### Step 1\n",
    "Activate the Plastid conda environment and open up a Jupyter Lab session (alternatively, a python file can be run in this python environment)\n",
    "\n",
    "### Step 2\n",
    "Load in all of the necessary Python packages."
   ]
  },
  {
   "cell_type": "code",
   "execution_count": 1,
   "id": "76f57fce-39f5-42a0-aa87-f40caf55e894",
   "metadata": {},
   "outputs": [],
   "source": [
    "# Let the program know where to find your tools file.\n",
    "import sys\n",
    "sys.path.append('/home/keeganfl/Desktop/Work_Fall_2021/Fall_2021_Work_journal/tools/')"
   ]
  },
  {
   "cell_type": "code",
   "execution_count": 2,
   "id": "e53df0b7-e3ea-4657-800b-9da1bb416b30",
   "metadata": {},
   "outputs": [],
   "source": [
    "# Load up the necessary packages \n",
    "from plastid import BAMGenomeArray, VariableFivePrimeMapFactory, \\\n",
    "                        GTF2_TranscriptAssembler, GFF3_TranscriptAssembler, \\\n",
    "                        Transcript, ThreePrimeMapFactory\n",
    "import numpy as np\n",
    "import os\n",
    "from Bio import SeqIO\n",
    "import numpy\n",
    "import math\n",
    "import pandas as pd\n",
    "from plastid.plotting.plots import *\n",
    "from scipy import stats\n",
    "from scipy.stats import kstwo\n",
    "from statsmodels.stats.proportion import proportions_ztest\n",
    "import keegan_analysis_tools as kat\n",
    "from statsmodels.nonparametric.smoothers_lowess import lowess\n",
    "import warnings\n",
    "import matplotlib.pyplot as plt\n",
    "from matplotlib.pyplot import figure\n",
    "%matplotlib inline\n",
    "import csv\n",
    "from scipy.sparse.linalg import lsqr\n",
    "from tqdm import tqdm\n",
    "from multiprocess import Pool\n",
    "import copy\n",
    "import seaborn as sns"
   ]
  },
  {
   "cell_type": "code",
   "execution_count": 3,
   "id": "43e42030-a90b-44a9-8916-b21539f8017a",
   "metadata": {},
   "outputs": [],
   "source": [
    "# Define the path to our data files and the path we want to save our outputs in. \n",
    "target_path = '/home/keeganfl/Desktop/Work_Fall_2021/data_tables/Larp1_targets/'\n",
    "ks_human_path = '/home/keeganfl/Desktop/Work_Fall_2021/data_tables/KS_stats/human/'\n",
    "save_path = '/home/keeganfl/Desktop/Work_Fall_2021/Presentation_figures/'\n",
    "samp_num = '2'"
   ]
  },
  {
   "cell_type": "markdown",
   "id": "75a4b383-e0ac-462e-9b45-99aeea7faf06",
   "metadata": {},
   "source": [
    "### Step 3\n",
    "Load up a table containing a list of targets for your mutant gene and load up the KS table you created during the previous section using pandas pd.read_csv()."
   ]
  },
  {
   "cell_type": "code",
   "execution_count": 4,
   "id": "7a4a8674-f7d7-4404-9a82-fe65d6f53458",
   "metadata": {},
   "outputs": [],
   "source": [
    "# Load up the target gene names. \n",
    "Larp1_table = pd.read_csv(target_path + 'Top_containing_genes.csv', names = [\"gene_name\"])\n",
    "\n",
    "# Load up the tables of KS statistics\n",
    "df_human = pd.read_csv(ks_human_path + \"ks_table_\" + samp_num + \".csv\")"
   ]
  },
  {
   "cell_type": "markdown",
   "id": "292ef358-93ac-4cfb-8206-71be5de10967",
   "metadata": {
    "tags": []
   },
   "source": [
    "### Step 4\n",
    "Merge the table of KS statistics and the table of targets into a new table using pd.merge()"
   ]
  },
  {
   "cell_type": "code",
   "execution_count": 5,
   "id": "aa47ea1b-282e-48f9-9a96-476441662a6a",
   "metadata": {},
   "outputs": [],
   "source": [
    "# Merge the ecoli ks table with the list of gene names\n",
    "Larp1_ks_table = pd.merge(df_human, Larp1_table, how='inner', right_on='gene_name', left_on='gene_ID')"
   ]
  },
  {
   "cell_type": "markdown",
   "id": "49898ad2-f654-4e86-93cd-3f5fbe2f635a",
   "metadata": {},
   "source": [
    "### Step 5\n",
    "Clean up your new table by removing any duplicates that may have been caused by multiple transcripts having the same gene name. "
   ]
  },
  {
   "cell_type": "code",
   "execution_count": 6,
   "id": "b4bede31-7541-4456-82ba-3395570d6084",
   "metadata": {},
   "outputs": [],
   "source": [
    "# Keep only one copy of each gene in the Larp1 table. \n",
    "Larp1_ks_table.sort_values(\"gene_name\", inplace = True)\n",
    "Larp1_ks_table.drop_duplicates(subset =\"gene_name\",keep = \"first\", inplace = True) "
   ]
  },
  {
   "cell_type": "markdown",
   "id": "392f73f2-c27f-417a-9a27-22f40ab4c589",
   "metadata": {},
   "source": [
    "### Step 6\n",
    "Look at the KS statistic from the control mutant comparisons for all genes and for just the Fmr1 targets. This will help you get an initial sense for how you want to divide up the low, medium, and high KS fractions. For both the merged table and the original table of KS statistics, sort the KS values from smallest to largest using the sorted() function and then plot them as a scatter plot."
   ]
  },
  {
   "cell_type": "code",
   "execution_count": 7,
   "id": "b3a6fc4b-8b17-4296-b877-f505eff5e612",
   "metadata": {},
   "outputs": [
    {
     "data": {
      "text/plain": [
       "(0.0, 0.7)"
      ]
     },
     "execution_count": 7,
     "metadata": {},
     "output_type": "execute_result"
    },
    {
     "data": {
      "image/png": "[encoded data removed]",
      "text/plain": [
       "<Figure size 936x432 with 1 Axes>"
      ]
     },
     "metadata": {
      "needs_background": "light"
     },
     "output_type": "display_data"
    },
    {
     "data": {
      "image/png": "[encoded data removed]",
      "text/plain": [
       "<Figure size 936x432 with 1 Axes>"
      ]
     },
     "metadata": {
      "needs_background": "light"
     },
     "output_type": "display_data"
    }
   ],
   "source": [
    "# Plot the KS values for each gene from lowest to highest. \n",
    "figure(figsize = (13,6))\n",
    "plt.scatter(list(range(len(df_human[\"ks_stat\"]))), sorted(df_human[\"ks_stat\"]), s=6, alpha = 0.4)\n",
    "plt.ylabel(\"KS_statistic\")\n",
    "plt.xlabel(\"Rank\")\n",
    "plt.title(\"KS statistic of all fly genes\")\n",
    "plt.ylim(0,0.7)\n",
    "plt.show\n",
    "figure(figsize = (13,6))\n",
    "plt.scatter(list(range(len(Larp1_ks_table[\"ks_stat\"]))), sorted(Larp1_ks_table[\"ks_stat\"]), s=12, alpha = 0.7)\n",
    "plt.ylabel(\"KS_statistic\")\n",
    "plt.xlabel(\"Rank\")\n",
    "plt.title(\"KS statistic of all Larp1 targets\")\n",
    "plt.ylim(0,0.7)"
   ]
  },
  {
   "cell_type": "code",
   "execution_count": 8,
   "id": "0be15c05-47f7-427b-a7ec-6456f6f7831c",
   "metadata": {},
   "outputs": [
    {
     "name": "stdout",
     "output_type": "stream",
     "text": [
      "mean KS statistic of Larp1 target genes = 0.09193389826945918\n",
      "mean KS statistic of all D.mel genes = 0.0871622006891959\n"
     ]
    }
   ],
   "source": [
    "# print out the mean of all polyprolne motif containing genes (efp targets)\n",
    "print(\"mean KS statistic of Larp1 target genes = \" + str(np.mean(Larp1_ks_table.ks_stat)))\n",
    "print(\"mean KS statistic of all D.mel genes = \" + str(np.mean(df_human.ks_stat)))"
   ]
  },
  {
   "cell_type": "markdown",
   "id": "81565329-bfb0-4784-a8ad-d676e97821cf",
   "metadata": {},
   "source": [
    "### Step 7\n",
    "Calculate the upper KS statistic by taking the average KS stat of the top 10\\% of transcripts with the highest KS stat. transcripts that have a higher KS statistic then the upper KS statistic will be within the high KS fraction. Then we choose the number of fractions we would like to observe. Then we use the determine_enrichment() function to determine the ratio between the targets and the total genes within each KS fraction."
   ]
  },
  {
   "cell_type": "code",
   "execution_count": 9,
   "id": "aeb7d8b2-3a94-4b53-9d72-5ab295d8e7d2",
   "metadata": {},
   "outputs": [],
   "source": [
    "# Calculate the upper KS value as the average of the 10% of transcripts with the highest KS stat. \n",
    "# The upper KS fraction will include all of the transcripts with a KS score above this value.\n",
    "perc = int(len(df_human)*0.9)\n",
    "upper_ks = np.mean(sorted(df_human.ks_stat)[perc:-1])\n",
    "\n",
    "# Calculate the proportion of genes which are Larp1 targets in a high, medium, and low KS fraction\n",
    "N_cats = 2\n",
    "ratios_human, sections_human = kat.determine_enrichment(Larp1_ks_table, df_human, upper_ks, N_cats)"
   ]
  },
  {
   "cell_type": "markdown",
   "id": "c33a950f-76c5-42cd-8f82-3667e29cd37a",
   "metadata": {},
   "source": [
    "### Step 8\n",
    "Use matplotlib.pyplot.bar() function to create a series of barplots that show the observed percentage of genes that are targets in each fraction. Then you can draw a a line through this barplot using matplotlib.pyplot.plot() that shows the expected percentage of genes that are targets if there is no enrichment.  "
   ]
  },
  {
   "cell_type": "code",
   "execution_count": 10,
   "id": "d16fc2e9-5aa5-4a2d-8a43-10fa620e0917",
   "metadata": {},
   "outputs": [
    {
     "name": "stderr",
     "output_type": "stream",
     "text": [
      "---------------------------------------------------------------------------\n",
      "UserWarning\n",
      "FixedFormatter should only be used together with FixedLocator\n",
      "in /tmp/ipykernel_172357/3264457137.py, line 17:\n",
      "\n",
      "15 axes = plt.gca()\n",
      "16 axes.yaxis.grid(linestyle = \"--\")\n",
      "17 axes.set_yticklabels([0.5, 1, 1.5, 2, 2.5, 3, 3.5, 4])\n",
      "18 plt.text(3.45, expected*0.96, \"All proteins\", fontsize = 10)\n",
      "\n",
      "---------------------------------------------------------------------------\n"
     ]
    },
    {
     "data": {
      "image/png": "[encoded data removed]",
      "text/plain": [
       "<Figure size 468x396 with 1 Axes>"
      ]
     },
     "metadata": {
      "needs_background": "light"
     },
     "output_type": "display_data"
    }
   ],
   "source": [
    "# Calculate the expected proportion of targets\n",
    "expected = len(Larp1_ks_table.ks_stat)/len(df_human.ks_stat)\n",
    "\n",
    "# Create a bar plot that shows the proportion of genes which are Larp1 targets in each KS fraction.\n",
    "expected = len(Larp1_ks_table.ks_stat)/len(df_human.ks_stat)\n",
    "figure(figsize = (6.5,5.5))\n",
    "plt.bar([1,2,3],ratios_human, width = 0.5,\n",
    "        tick_label = [\"Low KS fraction\",\"Medium KS fraction\",\"High KS fraction\"],\n",
    "       color = [\"g\", 'b', 'm'], edgecolor = 'black')\n",
    "plt.xticks(fontsize = 13)\n",
    "plt.xlim(0.6,3.4)\n",
    "plt.ylim(0, 0.04)\n",
    "plt.ylabel(\"% Larp1 targets\", fontsize = 13)\n",
    "plt.title(\"Larp1 mutant vs Control (Human kidney cells)\", fontsize = 14)\n",
    "axes = plt.gca()\n",
    "axes.yaxis.grid(linestyle = \"--\")\n",
    "axes.set_yticklabels([0.5, 1, 1.5, 2, 2.5, 3, 3.5, 4])\n",
    "plt.text(3.45, expected*0.96, \"All proteins\", fontsize = 10)\n",
    "\n",
    "# Create a line showing the expected proportion of targets. \n",
    "plt.plot([0,6],[expected,expected], color = \"black\", linestyle = \"--\")\n",
    "plt.savefig(save_path + 'human_proportions.pdf', bbox_inches = \"tight\")"
   ]
  },
  {
   "cell_type": "markdown",
   "id": "5d4d8fb4-7a18-49a9-bfb4-a6070a64a141",
   "metadata": {},
   "source": [
    "### Step 9\n",
    "Now we want to perform a proportion Z-test to determine if the difference between our observed and expected target proportions are significant. We can use the det_p_values() function to automatically calculate these P-values for each of the KS fractions."
   ]
  },
  {
   "cell_type": "code",
   "execution_count": 11,
   "id": "2e5ee737-39cb-4823-b9a3-1f85ee3d1c77",
   "metadata": {},
   "outputs": [
    {
     "data": {
      "text/plain": [
       "[0.9157687274986958, 0.9706096925337946, 0.6319207608584559]"
      ]
     },
     "execution_count": 11,
     "metadata": {},
     "output_type": "execute_result"
    }
   ],
   "source": [
    "# determine if the difference betwqeen the expected proportion of targets \n",
    "# and the observed proportion of targets is significant\n",
    "kat.det_p_values(Larp1_ks_table, df_human, sections_human)"
   ]
  },
  {
   "cell_type": "markdown",
   "id": "39625ec8-b2bd-48d9-b4e3-8adfa52204d9",
   "metadata": {},
   "source": [
    "## Plot the distribution of the KS-statistic for all genes and for the target genes. "
   ]
  },
  {
   "cell_type": "code",
   "execution_count": 12,
   "id": "f66102f8-517e-492f-a22f-8251004f69d7",
   "metadata": {},
   "outputs": [
    {
     "data": {
      "text/plain": [
       "<matplotlib.legend.Legend at 0x7f5d724034f0>"
      ]
     },
     "execution_count": 12,
     "metadata": {},
     "output_type": "execute_result"
    },
    {
     "data": {
      "image/png": "[encoded data removed]",
      "text/plain": [
       "<Figure size 720x432 with 1 Axes>"
      ]
     },
     "metadata": {
      "needs_background": "light"
     },
     "output_type": "display_data"
    }
   ],
   "source": [
    "figure(figsize = (10,6))\n",
    "sns.kdeplot(df_human.ks_stat, label = \"All human genes\")\n",
    "sns.kdeplot(Larp1_ks_table.ks_stat, label = \"Larp1 targets\")\n",
    "plt.ylabel(\"Density\")\n",
    "plt.xlabel(\"KS Statistic\")\n",
    "plt.title(\"Density plot comparison for Larp1 targets and all genes\")\n",
    "plt.legend()"
   ]
  },
  {
   "cell_type": "code",
   "execution_count": 16,
   "id": "be35b44a-bc7d-4d50-b562-1b80b72d9176",
   "metadata": {},
   "outputs": [
    {
     "data": {
      "text/plain": [
       "['EEF1A1',\n",
       " 'EEF1B2',\n",
       " 'EEF1D',\n",
       " 'EEF1G',\n",
       " 'EEF2',\n",
       " 'EIF3A',\n",
       " 'EIF3E',\n",
       " 'EIF3F',\n",
       " 'EIF3H',\n",
       " 'EIF4B',\n",
       " 'FAU',\n",
       " 'HNRNPA1',\n",
       " 'NAP1L1',\n",
       " 'PABPC1',\n",
       " 'RPL10',\n",
       " 'RPL10A',\n",
       " 'RPL11',\n",
       " 'RPL12',\n",
       " 'RPL13',\n",
       " 'RPL13A',\n",
       " 'RPL14',\n",
       " 'RPL15',\n",
       " 'RPL17',\n",
       " 'RPL18',\n",
       " 'RPL18A',\n",
       " 'RPL19',\n",
       " 'RPL21',\n",
       " 'RPL22',\n",
       " 'RPL23',\n",
       " 'RPL23A',\n",
       " 'RPL24',\n",
       " 'RPL26',\n",
       " 'RPL27',\n",
       " 'RPL27A',\n",
       " 'RPL28',\n",
       " 'RPL29',\n",
       " 'RPL3',\n",
       " 'RPL30',\n",
       " 'RPL31',\n",
       " 'RPL32',\n",
       " 'RPL34',\n",
       " 'RPL35',\n",
       " 'RPL35A',\n",
       " 'RPL36',\n",
       " 'RPL36A',\n",
       " 'RPL37',\n",
       " 'RPL4',\n",
       " 'RPL5',\n",
       " 'RPL6',\n",
       " 'RPL7',\n",
       " 'RPL7A',\n",
       " 'RPL8',\n",
       " 'RPL9',\n",
       " 'RPLP0',\n",
       " 'RPLP1',\n",
       " 'RPLP2',\n",
       " 'RPS10',\n",
       " 'RPS11',\n",
       " 'RPS12',\n",
       " 'RPS13',\n",
       " 'RPS14',\n",
       " 'RPS15',\n",
       " 'RPS15A',\n",
       " 'RPS16',\n",
       " 'RPS17',\n",
       " 'RPS18',\n",
       " 'RPS19',\n",
       " 'RPS2',\n",
       " 'RPS20',\n",
       " 'RPS23',\n",
       " 'RPS24',\n",
       " 'RPS25',\n",
       " 'RPS26',\n",
       " 'RPS27A',\n",
       " 'RPS3',\n",
       " 'RPS3A',\n",
       " 'RPS4X',\n",
       " 'RPS5',\n",
       " 'RPS6',\n",
       " 'RPS7',\n",
       " 'RPS8',\n",
       " 'RPS9',\n",
       " 'RPSA',\n",
       " 'TPT1',\n",
       " 'VIM']"
      ]
     },
     "execution_count": 16,
     "metadata": {},
     "output_type": "execute_result"
    }
   ],
   "source": [
    "list(Larp1_ks_table.gene_ID)"
   ]
  },
  {
   "cell_type": "code",
   "execution_count": null,
   "id": "205fb392-9b91-4821-b71b-8892f322a59b",
   "metadata": {},
   "outputs": [],
   "source": []
  }
 ],
 "metadata": {
  "kernelspec": {
   "display_name": "Python 3 (ipykernel)",
   "language": "python",
   "name": "python3"
  },
  "language_info": {
   "codemirror_mode": {
    "name": "ipython",
    "version": 3
   },
   "file_extension": ".py",
   "mimetype": "text/x-python",
   "name": "python",
   "nbconvert_exporter": "python",
   "pygments_lexer": "ipython3",
   "version": "3.8.12"
  }
 },
 "nbformat": 4,
 "nbformat_minor": 5
}
