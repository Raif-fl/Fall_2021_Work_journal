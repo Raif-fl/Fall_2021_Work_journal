{
 "cells": [
  {
   "cell_type": "markdown",
   "id": "f98a5dcf-4a69-4081-8eb2-503252be9404",
   "metadata": {
    "tags": []
   },
   "source": [
    "# Calculating Gene expression. \n",
    "\n",
    "This script calculates gene expression in raw read counts, RPKM and TPM (So we are looking at the raw reads and a normalizsed measure of gene expression) using matched samples of RNA-seq and ribosome profiling data. "
   ]
  },
  {
   "cell_type": "markdown",
   "id": "bcde13b1-3297-4103-a24a-b850c56ab134",
   "metadata": {},
   "source": [
    "### Step 1\n",
    "Activate the Plastid conda environment and open up a Jupyter Lab session (alternatively, a python file can be run in this python environment)\n",
    "\n",
    "### Step 2\n",
    "Load in all of the necessary packages from Plastid"
   ]
  },
  {
   "cell_type": "code",
   "execution_count": 1,
   "id": "a8439eed-ddbc-45d4-8038-4198ab5ba4d1",
   "metadata": {},
   "outputs": [],
   "source": [
    "# Loading up the path to my tools file. \n",
    "import sys\n",
    "sys.path.append('/home/keeganfl/Desktop/Work_Fall_2021/Fall_2021_Work_journal/tools/')"
   ]
  },
  {
   "cell_type": "code",
   "execution_count": 2,
   "id": "e6666e9b-13d6-41ed-a8e3-d1f2583e1b30",
   "metadata": {},
   "outputs": [],
   "source": [
    "# Loading up required packages\n",
    "from plastid import BAMGenomeArray, VariableFivePrimeMapFactory, \\\n",
    "                        GTF2_TranscriptAssembler, GFF3_TranscriptAssembler, \\\n",
    "                        Transcript, ThreePrimeMapFactory, CenterMapFactory\n",
    "from plastid.plotting.plots import *\n",
    "import numpy as np\n",
    "import os\n",
    "from Bio import SeqIO\n",
    "import numpy\n",
    "import math\n",
    "import pandas as pd\n",
    "from scipy import stats\n",
    "import keegan_analysis_tools as kat\n",
    "from statsmodels.nonparametric.smoothers_lowess import lowess\n",
    "import warnings\n",
    "import matplotlib.pyplot as plt\n",
    "%matplotlib inline\n",
    "import csv\n",
    "from scipy.sparse.linalg import lsqr"
   ]
  },
  {
   "cell_type": "code",
   "execution_count": 3,
   "id": "51054253-af94-40e4-b65a-f04c4189885c",
   "metadata": {},
   "outputs": [],
   "source": [
    "# Define important paths. \n",
    "data_path = \"/home/keeganfl/Desktop/Work_Fall_2021/genomes_&_samples/mmus/\"\n",
    "feat_counts_path = \"/home/keeganfl/Desktop/Work_Fall_2021/feature_counts/mmus/\"\n",
    "save_path = \"/home/keeganfl/Desktop/Work_Fall_2021/data_tables/TE_tables/mmus/\"\n",
    "p_site_path = \"/home/keeganfl/Desktop/Work_Fall_2021/data_tables/p-site_offsets/mmus/\"\n",
    "gtf_name = 'mm10.refGene.gtf'\n",
    "mutation = 'Fmr1'\n",
    "samp_num = '3'\n",
    "special = \"\""
   ]
  },
  {
   "cell_type": "markdown",
   "id": "3279a5ec-6b19-4bcf-a1ef-69566c0cb6cc",
   "metadata": {},
   "source": [
    "### Step 3\n",
    "Load in your P-site offset files using the read_csv() function from pandas"
   ]
  },
  {
   "cell_type": "code",
   "execution_count": null,
   "id": "814402db-65c2-4941-a5de-a8fcee933f00",
   "metadata": {},
   "outputs": [],
   "source": [
    "# Load in the table of P-site offsets. \n",
    "p_offsets=pd.read_csv(p_site_path + mutation +\"_RPF_\" + samp_num + \"_Aligned.toTranscriptome.out_p-site-offsets\", sep=\"\\t\")"
   ]
  },
  {
   "cell_type": "markdown",
   "id": "19442ba3-83f5-4e5e-84c7-cec71c5432ff",
   "metadata": {},
   "source": [
    "### Step 4\n",
    "Load in a GTF genome annotation file into python using Plastid's GTF2_TranscriptAssembler() function. This function will load in the transcripts as an iterator of transcript type objects which we will convert to a list."
   ]
  },
  {
   "cell_type": "code",
   "execution_count": 4,
   "id": "711cc90b-2078-46af-bf18-3c20a05c2fc4",
   "metadata": {
    "tags": []
   },
   "outputs": [],
   "source": [
    "# Load up the genome annotation as a list of transcript objects\n",
    "gtf_reads=list(GTF2_TranscriptAssembler(open(data_path + gtf_name),return_type=Transcript))"
   ]
  },
  {
   "cell_type": "markdown",
   "id": "1d1a9db7-b23f-4b3f-930f-61abbebf72e7",
   "metadata": {},
   "source": [
    "### Step 5\n",
    "Load in the Bam files containing the Ribosome Profiling data and the RNA sequencing data as a Bam Genome Array using Plastid's BamGenomeArray() function."
   ]
  },
  {
   "cell_type": "code",
   "execution_count": 5,
   "id": "ce6a3f16-521b-4604-8fb5-57569da65967",
   "metadata": {},
   "outputs": [],
   "source": [
    "# Open the read alignments, storing each dataset in a BAMGenomeArray:\n",
    "my_datasets = { \"ribosome_profiling\" : data_path + mutation +\"_RPF_\" + samp_num + \"_Aligned.sortedByCoord.out.bam\",\n",
    "                \"RNA-seq\"            : data_path + mutation +\"_RNA_\" + samp_num + \"_Aligned.sortedByCoord.out.bam\",\n",
    "              }\n",
    "\n",
    "my_datasets = { K : BAMGenomeArray(V) for K,V in my_datasets.items() }"
   ]
  },
  {
   "cell_type": "markdown",
   "id": "35a95129-02cf-44b4-8c81-be48da1819d0",
   "metadata": {
    "tags": []
   },
   "source": [
    "### Step 6\n",
    "Map the read alignments to their corresponding P-sites. Again we are going to need to use our custom VariableThreePrimeMapFactory function in order to assign P-site offsets for the ribosome profiling data. For the mRNA sequencing data we are going to use Plastid's CenterMapFactory() function to map the mRNA sequences across the entire length of the alignment."
   ]
  },
  {
   "cell_type": "code",
   "execution_count": 6,
   "id": "8f0ba4d0-bcbf-4281-9422-0b9687752475",
   "metadata": {},
   "outputs": [],
   "source": [
    "# Map the ribosome profiling alignments to the p-site. \n",
    "my_datasets[\"ribosome_profiling\"].set_mapping(kat.VariableThreePrimeMapFactory(p_offsets=p_offsets))\n",
    "\n",
    "# Map the RNA sequence alignments along the entire length of each alignment. \n",
    "my_datasets[\"RNA-seq\"].set_mapping(CenterMapFactory())"
   ]
  },
  {
   "cell_type": "markdown",
   "id": "187eecaf-592b-4451-ab70-a1a107e842e9",
   "metadata": {},
   "source": [
    "### Step 7\n",
    "Create an empty dictionary in python that contains a list for each transcript in our GTF file and each metric we wish to calculate (e.g. length, number of counts, rpk)."
   ]
  },
  {
   "cell_type": "code",
   "execution_count": null,
   "id": "a790d0c1-76ad-445e-8aab-cf1905a7fc16",
   "metadata": {},
   "outputs": [],
   "source": [
    "# we will calculate both total counts and RPKM\n",
    "metrics = (\"counts\",\"rpk\",\"lengths\")\n",
    "\n",
    "# create an empty list for each sample, region, and metric\n",
    "my_data = { \"%s_%s\" % (SAMPLE,METRIC) : copy.deepcopy([])\\\n",
    "                                                  for SAMPLE in my_datasets.keys()\\\n",
    "                                                  for METRIC in metrics }\n",
    "\n",
    "# add a list to our dictionary of lists to store transcript IDs\n",
    "my_data[\"transcript_ID\"] = []\n",
    "my_data[\"gene_ID\"] = []"
   ]
  },
  {
   "cell_type": "markdown",
   "id": "13e0babe-df71-48e9-9f6d-dd363fe08285",
   "metadata": {},
   "source": [
    "### Step 8\n",
    "Fill up the dictionary with the required metrics and then convert the dictionary to a pandas dataframe for easier organization. "
   ]
  },
  {
   "cell_type": "code",
   "execution_count": 7,
   "id": "941e2ea7-d7ae-4497-893c-2e9d24f84522",
   "metadata": {
    "tags": []
   },
   "outputs": [],
   "source": [
    "for transcript in gtf_reads:\n",
    "        \n",
    "    # First, save ID of transcript we are evaluating\n",
    "    my_data[\"transcript_ID\"].append(transcript.get_name())\n",
    "    my_data[\"gene_ID\"].append(transcript.attr[\"gene_name\"])\n",
    "\n",
    "    # Iterate over each sample, getting the counts over each region\n",
    "    for sample_name, sample_data in my_datasets.items():\n",
    "        counts = sum(transcript.get_counts(sample_data))\n",
    "        rpk   = float(counts)/(transcript.length/1000)\n",
    "        lengths = transcript.length\n",
    "        my_data[\"%s_counts\" % (sample_name)].append(counts)\n",
    "        my_data[\"%s_rpk\"   % (sample_name)].append(rpk)\n",
    "        my_data[\"%s_lengths\" % (sample_name)].append(lengths)\n",
    "        \n",
    "# convert to Dataframe\n",
    "df = pd.DataFrame(my_data)"
   ]
  },
  {
   "cell_type": "markdown",
   "id": "31b85144-ae0d-4a33-8f0f-d56e24ebb96c",
   "metadata": {},
   "source": [
    "### Step 9\n",
    "Calculate RPKM and TPM for the ribo-profile and RNA-seq data for each transcript using the equations <br />\n",
    "$\n",
    "RPKM = 10^9 * \\frac{reads\\: mapped\\: to\\: the\\: transcript}{total\\: reads * transcript\\: length}\n",
    "$\n",
    "<br />\n",
    "&\n",
    "<br />\n",
    "$TPM = 10^6 * \\frac{reads\\: mapped\\: to\\: the\\: transcript\\:/\\: transcript\\: length }{Sum(reads\\: mapped\\: to\\: each\\: transcript\\:/\\: each\\: transcript's\\: length)}\n",
    "$\n",
    "<br />\n",
    "Then add them as new columns to the pandas dataframe."
   ]
  },
  {
   "cell_type": "code",
   "execution_count": 9,
   "id": "5c2c70c0-5e60-4d90-8326-1a812062ea6c",
   "metadata": {},
   "outputs": [],
   "source": [
    "# Calculate tpm using rpk from our new dataframe. \n",
    "for sample_name, sample_data in my_datasets.items():\n",
    "    per_m_s = sum(df[\"%s_rpk\"   % (sample_name)])/1e6\n",
    "    df[\"%s_tpm\" % (sample_name)] = (df[\"%s_rpk\"   % (sample_name)])/per_m_s\n",
    "    \n",
    "# Calculate rpkm using the read counts.\n",
    "for sample_name, sample_data in my_datasets.items():\n",
    "    counts = df[\"%s_counts\"   % (sample_name)]\n",
    "    rpkm   = counts / df[\"%s_lengths\"   % (sample_name)]*1000 * 1e6 / sum(counts)\n",
    "    df[\"%s_rpkm\" % (sample_name)] = rpkm"
   ]
  },
  {
   "cell_type": "markdown",
   "id": "9e32a9c4-29a0-498d-b44a-04cf0fa8c24a",
   "metadata": {},
   "source": [
    "### Step 10\n",
    "Calculate the TE by dividing the RPKM and TPM for the ribosome profiling data by the RPKM and TPM for the mRNA sequence data. Save the TE values as new columns in the pandas dataframe. "
   ]
  },
  {
   "cell_type": "code",
   "execution_count": null,
   "id": "f12eaa39-2c6e-4414-a38b-78e992ccf2c9",
   "metadata": {},
   "outputs": [],
   "source": [
    "# Calculate translation efficiency using tpm\n",
    "df[\"TE_tpm\"] = df[\"ribosome_profiling_tpm\"] / df[\"RNA-seq_tpm\"]\n",
    "\n",
    "# Calculate translation efficiency using rpkm\n",
    "df[\"TE_rpkm\"] = df[\"ribosome_profiling_rpkm\"] / df[\"RNA-seq_rpkm\"]"
   ]
  },
  {
   "cell_type": "code",
   "execution_count": 10,
   "id": "e0924fd1-4458-4120-af35-4c1f2467ff21",
   "metadata": {},
   "outputs": [],
   "source": [
    "# Rearranging Column names to make something more readable. \n",
    "cols = ['transcript_ID', \"gene_ID\", 'TE_tpm','TE_rpkm','ribosome_profiling_tpm',\n",
    "        'RNA-seq_tpm','ribosome_profiling_counts','RNA-seq_counts',\n",
    "        'ribosome_profiling_rpkm', 'RNA-seq_rpkm', 'ribosome_profiling_rpk', \n",
    "       'RNA-seq_rpk', 'ribosome_profiling_lengths', 'RNA-seq_lengths']\n",
    "df = df[cols]"
   ]
  },
  {
   "cell_type": "code",
   "execution_count": 14,
   "id": "69d374ce-6877-4eb1-98f4-baddaa2dbdc5",
   "metadata": {},
   "outputs": [],
   "source": [
    "df_clean=df[~df.isin([np.nan, np.inf, -np.inf, 0]).any(1)]\n",
    "df_interest=df_clean[(df_clean[\"TE_tpm\"] >= 5)&(df_clean[\"TE_tpm\"] <= 800)]"
   ]
  },
  {
   "cell_type": "markdown",
   "id": "7654573d-0fa3-4347-b599-76f9811e3a03",
   "metadata": {},
   "source": [
    "### Step 11\n",
    "Use a kernel density estimate plot to look at the distribution of TE's in your data. This is an important step for making sure nothing has gone wrong in the alignment, P-site offsetting, or TE calculation steps. In order to create these TE tables, we are going to need to remove all of the negative or infinite values from our data (these occur naturally as a result of there being zero reads for genes that have very low expression). Once these annoying values have been removed we can use Plastids kde_plot() function to look at the distribution of TE values. We are hoping to see the majority of our TE values being somewhere between 0 and 5 with just a small proportion of transcripts having higher TEs than that. "
   ]
  },
  {
   "cell_type": "code",
   "execution_count": 15,
   "id": "8832f9d4-4006-4b81-b569-978cb60e2e67",
   "metadata": {},
   "outputs": [
    {
     "data": {
      "text/plain": [
       "(0.0, 100.0)"
      ]
     },
     "execution_count": 15,
     "metadata": {},
     "output_type": "execute_result"
    },
    {
     "data": {
      "image/png": "[encoded data removed]",
      "text/plain": [
       "<Figure size 432x288 with 1 Axes>"
      ]
     },
     "metadata": {
      "needs_background": "light"
     },
     "output_type": "display_data"
    }
   ],
   "source": [
    "# plot kernel density estimates of A and B on the same axis\n",
    "fig, ax = kde_plot(df_clean[\"TE_rpkm\"],label=\"TE\")\n",
    "\n",
    "# make things look nice\n",
    "plt.xlabel(\"TE\")\n",
    "plt.ylabel(\"Probability density\")\n",
    "plt.title(\"kde_plot() demo\",y=1.1)\n",
    "plt.xlim(0,100)"
   ]
  },
  {
   "cell_type": "markdown",
   "id": "820a2cfc-1073-45ea-b72b-497b8d2f76c1",
   "metadata": {},
   "source": [
    "### Step 12\n",
    "save the dataframe using df.to_csv() so it can be used in future notebooks. "
   ]
  },
  {
   "cell_type": "code",
   "execution_count": 11,
   "id": "97622b7c-9329-4c54-955a-72d2bc82ffcc",
   "metadata": {},
   "outputs": [],
   "source": [
    "# save the data frame.\n",
    "if pre_load == False:\n",
    "    df.to_csv(save_path + mutation + '_' + samp_num + '_' + \"te_table\" + special + \".csv\", index=False)"
   ]
  }
 ],
 "metadata": {
  "kernelspec": {
   "display_name": "Python 3 (ipykernel)",
   "language": "python",
   "name": "python3"
  },
  "language_info": {
   "codemirror_mode": {
    "name": "ipython",
    "version": 3
   },
   "file_extension": ".py",
   "mimetype": "text/x-python",
   "name": "python",
   "nbconvert_exporter": "python",
   "pygments_lexer": "ipython3",
   "version": "3.8.12"
  }
 },
 "nbformat": 4,
 "nbformat_minor": 5
}
