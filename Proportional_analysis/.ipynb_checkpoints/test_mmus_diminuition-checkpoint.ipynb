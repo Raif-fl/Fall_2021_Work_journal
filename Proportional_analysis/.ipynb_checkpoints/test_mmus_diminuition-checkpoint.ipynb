{
 "cells": [
  {
   "cell_type": "markdown",
   "id": "90d3509e-0126-4702-a0db-82df3cb97c04",
   "metadata": {},
   "source": [
    "### Step 1\n",
    "Activate the Plastid conda environment and open up a Jupyter Lab session (alternatively, a python file can be run in this python environment)\n",
    "\n",
    "### Step 2\n",
    "Load in all of the necessary Python packages."
   ]
  },
  {
   "cell_type": "code",
   "execution_count": 56,
   "id": "76f57fce-39f5-42a0-aa87-f40caf55e894",
   "metadata": {},
   "outputs": [],
   "source": [
    "# Let the program know where to find your tools file.\n",
    "import sys\n",
    "sys.path.append('/home/keeganfl/Desktop/Work_Fall_2021/Fall_2021_Work_journal/tools/')"
   ]
  },
  {
   "cell_type": "code",
   "execution_count": 57,
   "id": "e53df0b7-e3ea-4657-800b-9da1bb416b30",
   "metadata": {},
   "outputs": [],
   "source": [
    "# Load up the necessary packages \n",
    "from plastid import BAMGenomeArray, VariableFivePrimeMapFactory, \\\n",
    "                        GTF2_TranscriptAssembler, GFF3_TranscriptAssembler, \\\n",
    "                        Transcript, ThreePrimeMapFactory\n",
    "import numpy as np\n",
    "import os\n",
    "from Bio import SeqIO\n",
    "import numpy\n",
    "import math\n",
    "import pandas as pd\n",
    "from plastid.plotting.plots import *\n",
    "from scipy import stats\n",
    "from scipy.stats import kstwo\n",
    "from statsmodels.stats.proportion import proportions_ztest\n",
    "import keegan_analysis_tools as kat\n",
    "from statsmodels.nonparametric.smoothers_lowess import lowess\n",
    "import warnings\n",
    "import matplotlib.pyplot as plt\n",
    "from matplotlib.pyplot import figure\n",
    "%matplotlib inline\n",
    "import csv\n",
    "from scipy.sparse.linalg import lsqr\n",
    "from tqdm import tqdm\n",
    "from multiprocess import Pool\n",
    "import copy\n",
    "import seaborn as sns"
   ]
  },
  {
   "cell_type": "code",
   "execution_count": 58,
   "id": "43e42030-a90b-44a9-8916-b21539f8017a",
   "metadata": {},
   "outputs": [],
   "source": [
    "# Define the path to our data files and the path we want to save our outputs in. \n",
    "target_path = '/home/keeganfl/Desktop/Work_Fall_2021/data_tables/Fmr1_targets/'\n",
    "ks_mmus_path = '/home/keeganfl/Desktop/Work_Fall_2021/data_tables/KS_stats/mmus/'\n",
    "save_path = '/home/keeganfl/Desktop/Work_Fall_2021/Presentation_figures/'\n",
    "samp_num = '2'"
   ]
  },
  {
   "cell_type": "markdown",
   "id": "d8443e06-0383-4ccf-8ba9-2280d3374f98",
   "metadata": {},
   "source": [
    "### Step 3\n",
    "Load up a table containing a list of targets for your mutant gene and load up the KS table you created during the previous section using pandas pd.read_csv()."
   ]
  },
  {
   "cell_type": "code",
   "execution_count": 59,
   "id": "e91c6faa-e55b-447e-956c-11505b899411",
   "metadata": {},
   "outputs": [],
   "source": [
    "# Load up the target gene names. \n",
    "Fmr1_mmus_table = pd.read_csv(target_path + 'Fmr1_mmus_downreg_genes.txt', names = [\"gene_name\"])\n",
    "\n",
    "# Load up the tables of KS statistics\n",
    "df_mmus = pd.read_csv(ks_mmus_path + \"ks_table_\" + samp_num + \".csv\")"
   ]
  },
  {
   "cell_type": "markdown",
   "id": "6505c85f-3e7d-4615-8c4f-02fb0eb36c55",
   "metadata": {
    "tags": []
   },
   "source": [
    "### Step 4\n",
    "Merge the table of KS statistics and the table of targets into a new table using pd.merge()"
   ]
  },
  {
   "cell_type": "code",
   "execution_count": 60,
   "id": "968af399-f698-416c-8770-fd4fb9547e45",
   "metadata": {},
   "outputs": [],
   "source": [
    "# Merge the ecoli ks table with the list of gene names\n",
    "Fmr1_mmus_ks_table = pd.merge(df_mmus, Fmr1_mmus_table, how='inner', right_on='gene_name', left_on='gene_ID')\n",
    "\n",
    "combo_df = pd.merge(df_mmus, Fmr1_mmus_table, how='left', right_on='gene_name', left_on='gene_ID')"
   ]
  },
  {
   "cell_type": "markdown",
   "id": "cd430304-d2fb-4611-af0a-4d0e098865e4",
   "metadata": {},
   "source": [
    "### Step 5\n",
    "Clean up your new table by removing any duplicates that may have been caused by multiple transcripts having the same gene name. "
   ]
  },
  {
   "cell_type": "code",
   "execution_count": 61,
   "id": "2022ae1f-4738-4189-b243-3ea898510de8",
   "metadata": {},
   "outputs": [],
   "source": [
    "# Keep only one copy of each gene in the Fmr1 table. \n",
    "Fmr1_mmus_ks_table.drop_duplicates(subset =\"gene_name\",keep = \"first\", inplace = True) \n",
    "\n",
    "df_mmus.drop_duplicates(subset =\"gene_ID\",keep = \"first\", inplace = True) \n",
    "\n",
    "combo_df.drop_duplicates(subset =\"gene_ID\",keep = \"first\", inplace = True) "
   ]
  },
  {
   "cell_type": "markdown",
   "id": "3cd9e17c-2854-4f73-8afe-42740507dbbb",
   "metadata": {},
   "source": [
    "### Step 6\n",
    "Look at the KS statistic from the control mutant comparisons for all genes and for just the Fmr1 targets. This will help you get an initial sense for how you want to divide up the low, medium, and high KS fractions. For both the merged table and the original table of KS statistics, sort the KS values from smallest to largest using the sorted() function and then plot them as a scatter plot."
   ]
  },
  {
   "cell_type": "code",
   "execution_count": 62,
   "id": "6b1b6e6d-68f6-4f07-b056-c70f73829a0d",
   "metadata": {},
   "outputs": [
    {
     "data": {
      "text/plain": [
       "(0.0, 0.7)"
      ]
     },
     "execution_count": 62,
     "metadata": {},
     "output_type": "execute_result"
    },
    {
     "data": {
      "image/png": "[encoded data removed]",
      "text/plain": [
       "<Figure size 936x432 with 1 Axes>"
      ]
     },
     "metadata": {
      "needs_background": "light"
     },
     "output_type": "display_data"
    },
    {
     "data": {
      "image/png": "[encoded data removed]",
      "text/plain": [
       "<Figure size 936x432 with 1 Axes>"
      ]
     },
     "metadata": {
      "needs_background": "light"
     },
     "output_type": "display_data"
    }
   ],
   "source": [
    "# Plot the KS values for each gene from lowest to highest. \n",
    "figure(figsize = (13,6))\n",
    "plt.scatter(list(range(len(df_mmus[\"ks_stat\"]))), sorted(df_mmus[\"ks_stat\"]), s=6, alpha = 0.4)\n",
    "plt.ylabel(\"KS_statistic\")\n",
    "plt.xlabel(\"Rank\")\n",
    "plt.title(\"KS statistic of all mouse genes\")\n",
    "plt.ylim(0,0.7)\n",
    "plt.show\n",
    "figure(figsize = (13,6))\n",
    "plt.scatter(list(range(len(Fmr1_mmus_ks_table[\"ks_stat\"]))), sorted(Fmr1_mmus_ks_table[\"ks_stat\"]), s=12, alpha = 0.7)\n",
    "plt.ylabel(\"KS_statistic\")\n",
    "plt.xlabel(\"Rank\")\n",
    "plt.title(\"KS statistic of all Fmr1 targets\")\n",
    "plt.ylim(0,0.7)"
   ]
  },
  {
   "cell_type": "code",
   "execution_count": 63,
   "id": "c99e899d-31fc-4df8-90d5-0ac866cd77c7",
   "metadata": {},
   "outputs": [],
   "source": [
    "combo_df = combo_df.sort_values(by = \"ks_stat\")\n",
    "combo_df = combo_df.reset_index()"
   ]
  },
  {
   "cell_type": "code",
   "execution_count": 64,
   "id": "77240048-7ebb-4045-995f-8653f9f76306",
   "metadata": {},
   "outputs": [],
   "source": [
    "targets = combo_df.dropna()\n",
    "#I will need to sort everything first. "
   ]
  },
  {
   "cell_type": "code",
   "execution_count": 65,
   "id": "7300dab4-420b-411d-9370-42bb9d3dda36",
   "metadata": {},
   "outputs": [],
   "source": [
    "targets.to_csv(\"/home/keeganfl/Desktop/Work_Fall_2021/raw_ks_data/mmus_fmr1_targets.csv\", index_label = \"index\")"
   ]
  },
  {
   "cell_type": "code",
   "execution_count": 66,
   "id": "531cd983-9f18-46cd-ad85-e04e536707ae",
   "metadata": {},
   "outputs": [],
   "source": [
    "non_targets = combo_df[combo_df[\"gene_name\"].isnull()]"
   ]
  },
  {
   "cell_type": "code",
   "execution_count": 67,
   "id": "01aef2cd-4879-4e36-80a2-96cea84ccdae",
   "metadata": {},
   "outputs": [],
   "source": [
    "non_targets.to_csv(\"/home/keeganfl/Desktop/Work_Fall_2021/raw_ks_data/mmus_non_targets.csv\", index_label = \"index\")"
   ]
  },
  {
   "cell_type": "code",
   "execution_count": 68,
   "id": "b6f8edd1-d561-433c-b1b1-ecbffd5e2d39",
   "metadata": {},
   "outputs": [
    {
     "data": {
      "text/plain": [
       "(0.0, 0.7)"
      ]
     },
     "execution_count": 68,
     "metadata": {},
     "output_type": "execute_result"
    },
    {
     "data": {
      "image/png": "[encoded data removed]",
      "text/plain": [
       "<Figure size 936x432 with 1 Axes>"
      ]
     },
     "metadata": {
      "needs_background": "light"
     },
     "output_type": "display_data"
    }
   ],
   "source": [
    "figure(figsize = (13,6))\n",
    "plt.scatter(list(targets.index), targets[\"ks_stat\"], s=100, alpha = 0.6, facecolors = 'none', edgecolors = 'magenta')\n",
    "plt.ylabel(\"KS_statistic\")\n",
    "plt.xlabel(\"Rank\")\n",
    "plt.title(\"KS statistic of all EFP targets\")\n",
    "plt.ylim(0,0.7)\n",
    "\n",
    "plt.scatter(list(non_targets.index), non_targets[\"ks_stat\"], s=6, alpha = 0.4, color = \"g\")\n",
    "plt.ylabel(\"KS_statistic\")\n",
    "plt.xlabel(\"Rank\")\n",
    "plt.title(\"KS statistic of all Mouse genes\")\n",
    "plt.ylim(0,0.7)"
   ]
  },
  {
   "cell_type": "code",
   "execution_count": 69,
   "id": "5f79ca14-bd9a-4cf0-9909-83538665e452",
   "metadata": {},
   "outputs": [
    {
     "name": "stdout",
     "output_type": "stream",
     "text": [
      "mean KS statistic of Fmr1 target genes = 0.05952969081726413\n",
      "mean KS statistic of all D.mel genes = 0.07700614788342712\n"
     ]
    }
   ],
   "source": [
    "# print out the mean of all polyprolne motif containing genes (efp targets)\n",
    "print(\"mean KS statistic of Fmr1 target genes = \" + str(np.mean(Fmr1_mmus_ks_table.ks_stat)))\n",
    "print(\"mean KS statistic of all D.mel genes = \" + str(np.mean(df_mmus.ks_stat)))"
   ]
  },
  {
   "cell_type": "code",
   "execution_count": 70,
   "id": "7312f817-c2ad-4ca8-ab6b-ebe227dde8f0",
   "metadata": {},
   "outputs": [
    {
     "data": {
      "text/html": [
       "<div>\n",
       "<style scoped>\n",
       "    .dataframe tbody tr th:only-of-type {\n",
       "        vertical-align: middle;\n",
       "    }\n",
       "\n",
       "    .dataframe tbody tr th {\n",
       "        vertical-align: top;\n",
       "    }\n",
       "\n",
       "    .dataframe thead th {\n",
       "        text-align: right;\n",
       "    }\n",
       "</style>\n",
       "<table border=\"1\" class=\"dataframe\">\n",
       "  <thead>\n",
       "    <tr style=\"text-align: right;\">\n",
       "      <th></th>\n",
       "      <th>gene_ID</th>\n",
       "      <th>ks_stat</th>\n",
       "      <th>gene_length</th>\n",
       "      <th>gene_name</th>\n",
       "    </tr>\n",
       "  </thead>\n",
       "  <tbody>\n",
       "    <tr>\n",
       "      <th>0</th>\n",
       "      <td>Rims1</td>\n",
       "      <td>0.064448</td>\n",
       "      <td>1192</td>\n",
       "      <td>Rims1</td>\n",
       "    </tr>\n",
       "    <tr>\n",
       "      <th>1</th>\n",
       "      <td>Sumo1</td>\n",
       "      <td>0.090042</td>\n",
       "      <td>102</td>\n",
       "      <td>Sumo1</td>\n",
       "    </tr>\n",
       "    <tr>\n",
       "      <th>2</th>\n",
       "      <td>Fam117b</td>\n",
       "      <td>0.053593</td>\n",
       "      <td>585</td>\n",
       "      <td>Fam117b</td>\n",
       "    </tr>\n",
       "    <tr>\n",
       "      <th>3</th>\n",
       "      <td>Kif1a</td>\n",
       "      <td>0.021191</td>\n",
       "      <td>1699</td>\n",
       "      <td>Kif1a</td>\n",
       "    </tr>\n",
       "    <tr>\n",
       "      <th>8</th>\n",
       "      <td>Tnr</td>\n",
       "      <td>0.030283</td>\n",
       "      <td>1359</td>\n",
       "      <td>Tnr</td>\n",
       "    </tr>\n",
       "    <tr>\n",
       "      <th>...</th>\n",
       "      <td>...</td>\n",
       "      <td>...</td>\n",
       "      <td>...</td>\n",
       "      <td>...</td>\n",
       "    </tr>\n",
       "    <tr>\n",
       "      <th>268</th>\n",
       "      <td>Syn1</td>\n",
       "      <td>0.081025</td>\n",
       "      <td>671</td>\n",
       "      <td>Syn1</td>\n",
       "    </tr>\n",
       "    <tr>\n",
       "      <th>270</th>\n",
       "      <td>Mecp2</td>\n",
       "      <td>0.033698</td>\n",
       "      <td>502</td>\n",
       "      <td>Mecp2</td>\n",
       "    </tr>\n",
       "    <tr>\n",
       "      <th>272</th>\n",
       "      <td>Fam50a</td>\n",
       "      <td>0.113338</td>\n",
       "      <td>340</td>\n",
       "      <td>Fam50a</td>\n",
       "    </tr>\n",
       "    <tr>\n",
       "      <th>273</th>\n",
       "      <td>Dlg3</td>\n",
       "      <td>0.060173</td>\n",
       "      <td>818</td>\n",
       "      <td>Dlg3</td>\n",
       "    </tr>\n",
       "    <tr>\n",
       "      <th>278</th>\n",
       "      <td>Tceal5</td>\n",
       "      <td>0.056388</td>\n",
       "      <td>201</td>\n",
       "      <td>Tceal5</td>\n",
       "    </tr>\n",
       "  </tbody>\n",
       "</table>\n",
       "<p>103 rows × 4 columns</p>\n",
       "</div>"
      ],
      "text/plain": [
       "     gene_ID   ks_stat  gene_length gene_name\n",
       "0      Rims1  0.064448         1192     Rims1\n",
       "1      Sumo1  0.090042          102     Sumo1\n",
       "2    Fam117b  0.053593          585   Fam117b\n",
       "3      Kif1a  0.021191         1699     Kif1a\n",
       "8        Tnr  0.030283         1359       Tnr\n",
       "..       ...       ...          ...       ...\n",
       "268     Syn1  0.081025          671      Syn1\n",
       "270    Mecp2  0.033698          502     Mecp2\n",
       "272   Fam50a  0.113338          340    Fam50a\n",
       "273     Dlg3  0.060173          818      Dlg3\n",
       "278   Tceal5  0.056388          201    Tceal5\n",
       "\n",
       "[103 rows x 4 columns]"
      ]
     },
     "execution_count": 70,
     "metadata": {},
     "output_type": "execute_result"
    }
   ],
   "source": [
    "Fmr1_mmus_ks_table"
   ]
  },
  {
   "cell_type": "code",
   "execution_count": 71,
   "id": "ffd75c66-4a08-40f3-9ada-847a5108240c",
   "metadata": {},
   "outputs": [
    {
     "data": {
      "text/html": [
       "<div>\n",
       "<style scoped>\n",
       "    .dataframe tbody tr th:only-of-type {\n",
       "        vertical-align: middle;\n",
       "    }\n",
       "\n",
       "    .dataframe tbody tr th {\n",
       "        vertical-align: top;\n",
       "    }\n",
       "\n",
       "    .dataframe thead th {\n",
       "        text-align: right;\n",
       "    }\n",
       "</style>\n",
       "<table border=\"1\" class=\"dataframe\">\n",
       "  <thead>\n",
       "    <tr style=\"text-align: right;\">\n",
       "      <th></th>\n",
       "      <th>gene_ID</th>\n",
       "      <th>ks_stat</th>\n",
       "      <th>gene_length</th>\n",
       "      <th>gene_name</th>\n",
       "    </tr>\n",
       "  </thead>\n",
       "  <tbody>\n",
       "    <tr>\n",
       "      <th>165</th>\n",
       "      <td>Celsr2</td>\n",
       "      <td>0.020678</td>\n",
       "      <td>2918</td>\n",
       "      <td>Celsr2</td>\n",
       "    </tr>\n",
       "    <tr>\n",
       "      <th>3</th>\n",
       "      <td>Kif1a</td>\n",
       "      <td>0.021191</td>\n",
       "      <td>1699</td>\n",
       "      <td>Kif1a</td>\n",
       "    </tr>\n",
       "    <tr>\n",
       "      <th>193</th>\n",
       "      <td>Atxn2</td>\n",
       "      <td>0.022952</td>\n",
       "      <td>1287</td>\n",
       "      <td>Atxn2</td>\n",
       "    </tr>\n",
       "    <tr>\n",
       "      <th>169</th>\n",
       "      <td>Rusc2</td>\n",
       "      <td>0.023930</td>\n",
       "      <td>1524</td>\n",
       "      <td>Rusc2</td>\n",
       "    </tr>\n",
       "    <tr>\n",
       "      <th>113</th>\n",
       "      <td>Prepl</td>\n",
       "      <td>0.025663</td>\n",
       "      <td>639</td>\n",
       "      <td>Prepl</td>\n",
       "    </tr>\n",
       "    <tr>\n",
       "      <th>...</th>\n",
       "      <td>...</td>\n",
       "      <td>...</td>\n",
       "      <td>...</td>\n",
       "      <td>...</td>\n",
       "    </tr>\n",
       "    <tr>\n",
       "      <th>140</th>\n",
       "      <td>Trim44</td>\n",
       "      <td>0.115953</td>\n",
       "      <td>346</td>\n",
       "      <td>Trim44</td>\n",
       "    </tr>\n",
       "    <tr>\n",
       "      <th>99</th>\n",
       "      <td>Prrt1</td>\n",
       "      <td>0.120451</td>\n",
       "      <td>270</td>\n",
       "      <td>Prrt1</td>\n",
       "    </tr>\n",
       "    <tr>\n",
       "      <th>21</th>\n",
       "      <td>Vamp2</td>\n",
       "      <td>0.134837</td>\n",
       "      <td>117</td>\n",
       "      <td>Vamp2</td>\n",
       "    </tr>\n",
       "    <tr>\n",
       "      <th>125</th>\n",
       "      <td>Eif3a</td>\n",
       "      <td>0.143426</td>\n",
       "      <td>1345</td>\n",
       "      <td>Eif3a</td>\n",
       "    </tr>\n",
       "    <tr>\n",
       "      <th>266</th>\n",
       "      <td>Polr2m</td>\n",
       "      <td>0.161876</td>\n",
       "      <td>367</td>\n",
       "      <td>Polr2m</td>\n",
       "    </tr>\n",
       "  </tbody>\n",
       "</table>\n",
       "<p>103 rows × 4 columns</p>\n",
       "</div>"
      ],
      "text/plain": [
       "    gene_ID   ks_stat  gene_length gene_name\n",
       "165  Celsr2  0.020678         2918    Celsr2\n",
       "3     Kif1a  0.021191         1699     Kif1a\n",
       "193   Atxn2  0.022952         1287     Atxn2\n",
       "169   Rusc2  0.023930         1524     Rusc2\n",
       "113   Prepl  0.025663          639     Prepl\n",
       "..      ...       ...          ...       ...\n",
       "140  Trim44  0.115953          346    Trim44\n",
       "99    Prrt1  0.120451          270     Prrt1\n",
       "21    Vamp2  0.134837          117     Vamp2\n",
       "125   Eif3a  0.143426         1345     Eif3a\n",
       "266  Polr2m  0.161876          367    Polr2m\n",
       "\n",
       "[103 rows x 4 columns]"
      ]
     },
     "execution_count": 71,
     "metadata": {},
     "output_type": "execute_result"
    }
   ],
   "source": [
    "Fmr1_mmus_ks_table.sort_values(by = \"ks_stat\")"
   ]
  },
  {
   "cell_type": "markdown",
   "id": "b6f79bb7-f252-4611-a960-7d02ff07bb6e",
   "metadata": {},
   "source": [
    "### Step 7\n",
    "Calculate the upper KS statistic by taking the average KS stat of the top 10% of transcripts with the highest KS stat. transcripts that have a higher KS statistic then the upper KS statistic will be within the high KS fraction. Then we choose the number of fractions we would like to observe. Then we use the determine_enrichment() function to determine the ratio between the targets and the total genes within each KS fraction."
   ]
  },
  {
   "cell_type": "code",
   "execution_count": 74,
   "id": "65fc1100-ff81-427f-a2f3-836bcd7931e8",
   "metadata": {},
   "outputs": [],
   "source": [
    "# Calculate the upper KS value as the average of the 10% of transcripts with the highest KS stat. \n",
    "# The upper KS fraction will include all of the transcripts with a KS score above this value.\n",
    "perc = int(len(df_mmus)*0.85)\n",
    "upper_ks = np.mean(sorted(df_mmus.ks_stat)[perc:-1])\n",
    "\n",
    "# Calculate the proportion of genes which are Fmr1 targets in a high, medium, and low KS fraction\n",
    "N_cats = 2\n",
    "ratios_mmus, sections_mmus = kat.determine_enrichment(Fmr1_mmus_ks_table, df_mmus, upper_ks, N_cats)"
   ]
  },
  {
   "cell_type": "markdown",
   "id": "3db6ccd5-5fca-4978-9150-f80c6b1e39f0",
   "metadata": {},
   "source": [
    "### Step 8\n",
    "Use matplotlib.pyplot.bar() function to create a series of barplots that show the observed percentage of genes that are targets in each fraction. Then you can draw a a line through this barplot using matplotlib.pyplot.plot() that shows the expected percentage of genes that are targets if there is no enrichment.  "
   ]
  },
  {
   "cell_type": "code",
   "execution_count": 75,
   "id": "f33da3ef-dc11-42b5-bd77-1bc3ba21e415",
   "metadata": {},
   "outputs": [
    {
     "name": "stderr",
     "output_type": "stream",
     "text": [
      "---------------------------------------------------------------------------\n",
      "UserWarning\n",
      "FixedFormatter should only be used together with FixedLocator\n",
      "in /tmp/ipykernel_87147/4050761934.py, line 16:\n",
      "\n",
      "14 axes = plt.gca()\n",
      "15 axes.yaxis.grid(linestyle = \"--\")\n",
      "16 axes.set_yticklabels([0,2,4,6,8,10])\n",
      "17 plt.text(3.45, expected*0.96, \"All proteins\", fontsize = 10)\n",
      "\n",
      "---------------------------------------------------------------------------\n"
     ]
    },
    {
     "data": {
      "image/png": "[encoded data removed]",
      "text/plain": [
       "<Figure size 468x396 with 1 Axes>"
      ]
     },
     "metadata": {
      "needs_background": "light"
     },
     "output_type": "display_data"
    }
   ],
   "source": [
    "# Calculate the expected proportion of targets\n",
    "expected = len(Fmr1_mmus_ks_table.ks_stat)/len(df_mmus.ks_stat)\n",
    "\n",
    "# Create a bar plot that shows the proportion of genes which are Larp1 targets in each KS fraction.\n",
    "figure(figsize = (6.5,5.5))\n",
    "plt.bar([1,2,3],ratios_mmus, width = 0.5,\n",
    "        tick_label = [\"Low KS Fraction\",\"Medium KS Fraction\",\"High KS Fraction\"],\n",
    "       color = [\"g\", 'b', 'm'], edgecolor = 'black')\n",
    "plt.xticks(fontsize = 13)\n",
    "plt.xlim(0.6,3.4)\n",
    "plt.ylim(0, 0.1)\n",
    "plt.ylabel(\"% Fmr1 targets (CLIP-seq)\", fontsize = 13)\n",
    "plt.title(\"Fmr1 KO vs Control (Mouse cortex)\", fontsize = 14)\n",
    "axes = plt.gca()\n",
    "axes.yaxis.grid(linestyle = \"--\")\n",
    "axes.set_yticklabels([0,2,4,6,8,10])\n",
    "plt.text(3.45, expected*0.96, \"All proteins\", fontsize = 10)\n",
    "\n",
    "# Create a line showing the expected proportion of targets. \n",
    "plt.plot([0,6],[expected,expected], color = \"black\", linestyle = \"--\")\n",
    "plt.savefig(save_path + 'mmus_proportions.pdf', bbox_inches = \"tight\")"
   ]
  },
  {
   "cell_type": "markdown",
   "id": "3af0d3b1-7b08-4dc9-8d38-24219f8dce91",
   "metadata": {},
   "source": [
    "### Step 9\n",
    "Now we want to perform a proportion Z-test to determine if the difference between our observed and expected target proportions are significant. We can use the det_p_values() function to automatically calculate these P-values for each of the KS fractions."
   ]
  },
  {
   "cell_type": "code",
   "execution_count": 55,
   "id": "c5199d42-f427-4fd2-ad25-8990feba4938",
   "metadata": {},
   "outputs": [
    {
     "data": {
      "text/plain": [
       "[0.000344706106857532, 2.5000778732870088e-14, 1.4262174814682596e-13]"
      ]
     },
     "execution_count": 55,
     "metadata": {},
     "output_type": "execute_result"
    }
   ],
   "source": [
    "# determine if the difference betwqeen the expected proportion of targets \n",
    "# and the observed proportion of targets is significant\n",
    "kat.det_p_values(Fmr1_mmus_ks_table, df_mmus, sections_mmus)"
   ]
  },
  {
   "cell_type": "markdown",
   "id": "39625ec8-b2bd-48d9-b4e3-8adfa52204d9",
   "metadata": {},
   "source": [
    "## Looking at the kernel density estimates"
   ]
  },
  {
   "cell_type": "code",
   "execution_count": 18,
   "id": "22018ba5-c7e7-4bec-beec-ce92967cf194",
   "metadata": {},
   "outputs": [
    {
     "data": {
      "text/plain": [
       "<matplotlib.legend.Legend at 0x7f2e840f00d0>"
      ]
     },
     "execution_count": 18,
     "metadata": {},
     "output_type": "execute_result"
    },
    {
     "data": {
      "image/png": "[encoded data removed]",
      "text/plain": [
       "<Figure size 720x432 with 1 Axes>"
      ]
     },
     "metadata": {
      "needs_background": "light"
     },
     "output_type": "display_data"
    }
   ],
   "source": [
    "figure(figsize = (10,6))\n",
    "sns.kdeplot(df_mmus.ks_stat, label = \"All mouse genes\")\n",
    "sns.kdeplot(Fmr1_mmus_ks_table.ks_stat, label = \"Fmr1 targets\")\n",
    "plt.ylabel(\"Density\")\n",
    "plt.xlabel(\"KS Statistic\")\n",
    "plt.title(\"Density plot comparison for Fmr1 mutants and all genes\")\n",
    "plt.legend()"
   ]
  }
 ],
 "metadata": {
  "kernelspec": {
   "display_name": "Python 3 (ipykernel)",
   "language": "python",
   "name": "python3"
  },
  "language_info": {
   "codemirror_mode": {
    "name": "ipython",
    "version": 3
   },
   "file_extension": ".py",
   "mimetype": "text/x-python",
   "name": "python",
   "nbconvert_exporter": "python",
   "pygments_lexer": "ipython3",
   "version": "3.8.12"
  }
 },
 "nbformat": 4,
 "nbformat_minor": 5
}
