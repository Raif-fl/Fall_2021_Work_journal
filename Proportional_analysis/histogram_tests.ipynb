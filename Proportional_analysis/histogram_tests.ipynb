{
 "cells": [
  {
   "cell_type": "markdown",
   "id": "27ba7b1f-2755-4168-b0b3-bb816113fab8",
   "metadata": {},
   "source": [
    "## Step 8.5\n",
    "Creating a histogram. "
   ]
  },
  {
   "cell_type": "markdown",
   "id": "1340ec44-fbaf-4c60-ae42-b6e39cd5dae8",
   "metadata": {},
   "source": [
    "I need to fundamentally change how they are being split into bins if I do the histogram the old fashioned way. \n",
    "\n",
    "Options:\n",
    " - Make a fake histogram with the KS stat along the bottom and the porportions being the bars.\n",
    " - make a fake histogram with the KS fractions along the bottom (10%,20%,30%,40%,50%,60%,etc) and then divide the two histograms by each other\n",
    "\n",
    "Ethan will probably want to see all options. \n",
    "\n",
    "Note: My determine enrichment function is currently unable to handle division by zero which would be an unavoidable problem in the case of selenocysteine. Also, real histograms will only make this ore difficult for me, fake histograms for the win."
   ]
  },
  {
   "cell_type": "markdown",
   "id": "ab58dcdf-013b-461f-aef6-b4b35b02b40b",
   "metadata": {},
   "source": [
    "# Histogram with fraction bins"
   ]
  },
  {
   "cell_type": "code",
   "execution_count": 73,
   "id": "bb04ce6e-b88f-4077-acec-7fd0ebe88da2",
   "metadata": {},
   "outputs": [],
   "source": [
    "def split_sections(combo_df, N_secs): \n",
    "    '''\n",
    "    A function that determine the proportion of target genes from target that are found in\n",
    "    all_g ks for a specified number of KS fractions. \n",
    "    '''\n",
    "    ratios = []\n",
    "    sections = np.array_split(combo_df,N_secs)\n",
    "    for i in sections:\n",
    "        N_t = 0\n",
    "        for j in i[\"Gene\"].notnull():\n",
    "            if j == True:\n",
    "                N_t = N_t+1\n",
    "        ratios.append(N_t/len(i))\n",
    "    return ratios\n"
   ]
  },
  {
   "cell_type": "code",
   "execution_count": 74,
   "id": "89bd63a6-5dfd-4633-9880-8f4e3fccc024",
   "metadata": {},
   "outputs": [],
   "source": [
    "ratios = split_sections(combo_df, 20)"
   ]
  },
  {
   "cell_type": "code",
   "execution_count": 75,
   "id": "0099814d-a52b-4a66-9e99-fa0555cf4d76",
   "metadata": {},
   "outputs": [
    {
     "data": {
      "text/plain": [
       "20"
      ]
     },
     "execution_count": 75,
     "metadata": {},
     "output_type": "execute_result"
    }
   ],
   "source": [
    "len(ratios)"
   ]
  },
  {
   "cell_type": "code",
   "execution_count": 80,
   "id": "28b8b92e-6711-4a1a-86e9-c516a621abec",
   "metadata": {},
   "outputs": [
    {
     "data": {
      "text/plain": [
       "[<matplotlib.lines.Line2D at 0x7f33ba14b850>]"
      ]
     },
     "execution_count": 80,
     "metadata": {},
     "output_type": "execute_result"
    },
    {
     "data": {
      "image/png": "[encoded data removed]",
      "text/plain": [
       "<Figure size 468x396 with 1 Axes>"
      ]
     },
     "metadata": {
      "needs_background": "light"
     },
     "output_type": "display_data"
    }
   ],
   "source": [
    "###!!! I need to figure out how to change the labels so that it is clear thateach bar is between say 0 and 10 or is the top 10%. \n",
    "figure(figsize = (6.5,5.5))\n",
    "plt.bar([0,1,2,3,4,5,6,7,8,9,10,11,12,13,14,15,16,17,18,19],ratios, width = 0.8)\n",
    "plt.xticks(fontsize = 13)\n",
    "plt.xlim(-1,20)\n",
    "#plt.ylim(0, 1)\n",
    "plt.ylabel(\"% Containing Polyproline Tracts\", fontsize = 12)\n",
    "plt.title(\"EFP mutant vs control (E.coli)\", fontsize = 14)\n",
    "axes = plt.gca()\n",
    "axes.yaxis.grid(linestyle = \"--\")\n",
    "#axes.set_yticklabels([0, 20, 40, 60, 80, 100])\n",
    "#plt.text(3.45, expected*0.96, \"All proteins\", fontsize = 10)\n",
    "\n",
    "# Create a line showing the expected proportion of targets. \n",
    "plt.plot([-350,3150],[expected,expected], color = \"black\", linestyle = \"--\")\n",
    "#plt.savefig(save_path + 'ecoli_proportions.pdf', bbox_inches = \"tight\")"
   ]
  },
  {
   "cell_type": "markdown",
   "id": "14e4dd42-2011-468d-9001-39f20961d65c",
   "metadata": {},
   "source": [
    "# Histogram with KS bins"
   ]
  },
  {
   "cell_type": "code",
   "execution_count": 81,
   "id": "627dd62e-3826-4942-8176-913e1cf74983",
   "metadata": {},
   "outputs": [],
   "source": [
    "# Calculate the upper KS value as the average of the 10% of transcripts with the highest KS stat. \n",
    "# The upper KS fraction will include all of the transcripts with a KS score above this value.\n",
    "perc = int(len(df_ecol)*0.9)\n",
    "upper_ks = sorted(df_ecol.ks_stat)[perc:-1]\n",
    "\n",
    "# Calculate the proportion of genes which are Fmr1 targets in a high, medium, and low KS fraction\n",
    "N_cats = 9\n",
    "ratios_ecol, sections_ecol = kat.determine_enrichment(PPP_ks_table, df_ecol, upper_ks[0], N_cats)"
   ]
  },
  {
   "cell_type": "code",
   "execution_count": 83,
   "id": "6cd18f8b-8b4f-4137-b857-79a8ca677332",
   "metadata": {},
   "outputs": [
    {
     "data": {
      "text/plain": [
       "<BarContainer object of 10 artists>"
      ]
     },
     "execution_count": 83,
     "metadata": {},
     "output_type": "execute_result"
    },
    {
     "data": {
      "image/png": "[encoded data removed]",
      "text/plain": [
       "<Figure size 432x288 with 1 Axes>"
      ]
     },
     "metadata": {
      "needs_background": "light"
     },
     "output_type": "display_data"
    }
   ],
   "source": [
    "plt.bar(sections_ecol,ratios_ecol, width = 0.013)"
   ]
  }
 ],
 "metadata": {
  "kernelspec": {
   "display_name": "Python 3 (ipykernel)",
   "language": "python",
   "name": "python3"
  },
  "language_info": {
   "codemirror_mode": {
    "name": "ipython",
    "version": 3
   },
   "file_extension": ".py",
   "mimetype": "text/x-python",
   "name": "python",
   "nbconvert_exporter": "python",
   "pygments_lexer": "ipython3",
   "version": "3.8.12"
  }
 },
 "nbformat": 4,
 "nbformat_minor": 5
}
