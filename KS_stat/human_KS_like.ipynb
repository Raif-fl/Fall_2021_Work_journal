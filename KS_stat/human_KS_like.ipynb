{
 "cells": [
  {
   "cell_type": "markdown",
   "id": "bba350ac-829c-40ef-8246-541c733ad0ef",
   "metadata": {
    "tags": []
   },
   "source": [
    "## Loading up packages"
   ]
  },
  {
   "cell_type": "code",
   "execution_count": 1,
   "id": "203ca705-c609-4f65-b68e-8d186a44d0e3",
   "metadata": {},
   "outputs": [],
   "source": [
    "# Let the program know where to find your tools file.\n",
    "import sys\n",
    "sys.path.append('/home/keeganfl/Desktop/Work_Fall_2021/Fall_2021_Work_journal/tools/')"
   ]
  },
  {
   "cell_type": "code",
   "execution_count": 2,
   "id": "fc74d07a-5fa5-4fae-acea-8976971a14d9",
   "metadata": {},
   "outputs": [],
   "source": [
    "# Load up the necessary packages \n",
    "from plastid import BAMGenomeArray, VariableFivePrimeMapFactory, \\\n",
    "                        GTF2_TranscriptAssembler, GFF3_TranscriptAssembler, \\\n",
    "                        Transcript, ThreePrimeMapFactory\n",
    "import numpy as np\n",
    "import os\n",
    "from Bio import SeqIO\n",
    "import numpy\n",
    "import math\n",
    "import pandas as pd\n",
    "from scipy import stats\n",
    "from scipy.stats import kstwo\n",
    "import keegan_analysis_tools as kat\n",
    "from statsmodels.nonparametric.smoothers_lowess import lowess\n",
    "import warnings\n",
    "import matplotlib.pyplot as plt\n",
    "from matplotlib.pyplot import figure\n",
    "%matplotlib inline\n",
    "import csv\n",
    "from scipy.sparse.linalg import lsqr\n",
    "from tqdm import tqdm\n",
    "from multiprocess import Pool\n",
    "import copy"
   ]
  },
  {
   "cell_type": "code",
   "execution_count": 3,
   "id": "7e956821-dc5b-480d-af5d-285747083fd8",
   "metadata": {},
   "outputs": [],
   "source": [
    "# Define the path to our data files and the path we want to save our outputs in. \n",
    "data_path = '/home/keeganfl/Desktop/Work_Fall_2021/genomes_&_samples/human/'\n",
    "counts_path = '/home/keeganfl/Desktop/Work_Fall_2021/data_tables/position_counts_codon_resolution/human/'\n",
    "elon_path = '/home/keeganfl/Desktop/Work_Fall_2021/data_tables/elongation_rates/human/'\n",
    "save_path = '/home/keeganfl/Desktop/Work_Fall_2021/data_tables/KS_stats/human/'\n",
    "image_path = '/home/keeganfl/Desktop/Work_Fall_2021/Presentation_figures/'\n",
    "mutation = 'Larp1'\n",
    "samp_num = '3'\n",
    "\n",
    "# figure out if the notebook has already been done for this dataset and only run the\n",
    "# visualizations. \n",
    "if os.path.isfile(save_path + \"ks_table_\" + samp_num + \".csv\") == True:\n",
    "    pre_load = True\n",
    "else:\n",
    "    pre_load = False"
   ]
  },
  {
   "cell_type": "markdown",
   "id": "f37cd84b-f675-4045-9b93-f12d8d03ff78",
   "metadata": {
    "tags": []
   },
   "source": [
    "## Loading up the data."
   ]
  },
  {
   "cell_type": "code",
   "execution_count": 4,
   "id": "c675344a-bf04-4b00-a3fd-59d76ca0cc3c",
   "metadata": {},
   "outputs": [],
   "source": [
    "# Load in the count positions data.\n",
    "data_mutant, names_mutant = kat.load_count_positions(mutation+\"_\"+samp_num+\"_counts.csv\",counts_path)\n",
    "data_control, names_control = kat.load_count_positions(\"control_\"+ samp_num +\"_counts.csv\",counts_path)"
   ]
  },
  {
   "cell_type": "markdown",
   "id": "39d3ef1b-92b3-4124-9247-bb89bcd7e339",
   "metadata": {},
   "source": [
    "## Calculate Smoothed Vector Arrays"
   ]
  },
  {
   "cell_type": "code",
   "execution_count": 5,
   "id": "73157090-4333-4b8b-8265-f318ef664e18",
   "metadata": {},
   "outputs": [],
   "source": [
    "# Find the correlation between all of the controls and the samples.\n",
    "# Note that many of the lowest values spring from very short transcripts or transcripts with few reads. \n",
    "mutant_list = []\n",
    "control_list = []\n",
    "gene_list = []\n",
    "for tr_m, tr_c, gene_name in zip(data_mutant, data_control, names_mutant):\n",
    "    if len(tr_m) > 100 and sum(tr_m)/len(tr_m) > 0.5 and sum(tr_c)/len(tr_c) > 0.5:\n",
    "        mutant_list.append(tr_m)\n",
    "        control_list.append(tr_c)\n",
    "        gene_list.append(gene_name)"
   ]
  },
  {
   "cell_type": "code",
   "execution_count": 6,
   "id": "48d0d92f-1258-4268-829a-6c015e1576b4",
   "metadata": {
    "tags": []
   },
   "outputs": [
    {
     "name": "stderr",
     "output_type": "stream",
     "text": [
      "100%|██████████████████████████████████████| 6954/6954 [00:16<00:00, 411.51it/s]\n"
     ]
    }
   ],
   "source": [
    "max_pool = 20\n",
    "\n",
    "# get smoothed vector arrays for all of the control data.\n",
    "if pre_load == False:\n",
    "    with Pool(max_pool) as p:\n",
    "        pool_control = list(\n",
    "            tqdm(\n",
    "                p.imap(kat.get_smoothed_vector_parallel,\n",
    "                       control_list),\n",
    "                total=len(control_list)\n",
    "            )\n",
    "        )    "
   ]
  },
  {
   "cell_type": "code",
   "execution_count": 7,
   "id": "43db3bdd-2f3c-4294-85b4-e357225e4331",
   "metadata": {
    "tags": []
   },
   "outputs": [
    {
     "name": "stderr",
     "output_type": "stream",
     "text": [
      "100%|██████████████████████████████████████| 6954/6954 [00:17<00:00, 407.47it/s]\n"
     ]
    }
   ],
   "source": [
    "# get smoothed vector arrays for all of the mutant data.\n",
    "if pre_load == False:\n",
    "    with Pool(max_pool) as p:\n",
    "        pool_mutant = list(\n",
    "            tqdm(\n",
    "                p.imap(kat.get_smoothed_vector_parallel,\n",
    "                       mutant_list),\n",
    "                total=len(mutant_list)\n",
    "            )\n",
    "        )    "
   ]
  },
  {
   "cell_type": "markdown",
   "id": "cdd8b969-36e8-4e8c-ac75-45a6e7c5960c",
   "metadata": {},
   "source": [
    "## Determine KS statistic for all transcripts"
   ]
  },
  {
   "cell_type": "code",
   "execution_count": 8,
   "id": "9b0334b5-72f8-413c-a776-f1f4df97e49c",
   "metadata": {},
   "outputs": [],
   "source": [
    "# Find the correlation between all of the controls and the samples.\n",
    "# Note that many of the lowest values spring from very short transcripts or transcripts with few reads. \n",
    "if pre_load == False:\n",
    "    ks_list = []\n",
    "    len_list = []\n",
    "    for tr_m, tr_c, index in zip(mutant_list, control_list, list(range(len(mutant_list)))):\n",
    "        position = np.array(list(range(len(tr_m))))\n",
    "        smoothed_vec_m, cumul_m = pool_mutant[index]\n",
    "        smoothed_vec_c, cumul_c = pool_control[index]\n",
    "        ks = max(abs(cumul_m - cumul_c))\n",
    "        ks_list.append(ks)\n",
    "        len_list.append(len(tr_m))\n",
    "            \n",
    "    # reorganizing the lists into a dataframe. \n",
    "    df_b = pd.DataFrame(list(zip(gene_list, ks_list, len_list)))\n",
    "    df_b.columns = [\"gene_ID\", \"ks_stat\", \"gene_length\"]\n",
    "    df_b.to_csv(save_path + \"ks_table_\" + samp_num + \".csv\", index=False)"
   ]
  },
  {
   "cell_type": "code",
   "execution_count": 9,
   "id": "c6d476ba-97f6-492b-8430-e649a287d604",
   "metadata": {},
   "outputs": [],
   "source": [
    "# An optional line that loads up a pre-made dataset\n",
    "if pre_load == True:\n",
    "    df_b = pd.read_csv(save_path + \"ks_table_\" + samp_num + \".csv\")"
   ]
  },
  {
   "cell_type": "code",
   "execution_count": 10,
   "id": "1c481c8d-9815-4275-b7af-150520a974e3",
   "metadata": {},
   "outputs": [
    {
     "data": {
      "text/plain": [
       "(0.0, 0.7)"
      ]
     },
     "execution_count": 10,
     "metadata": {},
     "output_type": "execute_result"
    },
    {
     "data": {
      "image/png": "[encoded data removed]",
      "text/plain": [
       "<Figure size 792x432 with 1 Axes>"
      ]
     },
     "metadata": {
      "needs_background": "light"
     },
     "output_type": "display_data"
    }
   ],
   "source": [
    "# Plot the KS values for each gene from lowest to highest. \n",
    "figure(figsize = (11,6))\n",
    "plt.scatter(list(range(len(df_b[\"ks_stat\"]))), sorted(df_b[\"ks_stat\"]), s=12, alpha = 0.7)\n",
    "plt.ylabel(\"KS_statistic\")\n",
    "plt.xlabel(\"Rank\")\n",
    "plt.title(\"KS statistic of all Human genes\")\n",
    "plt.ylim(0,0.7)"
   ]
  },
  {
   "cell_type": "code",
   "execution_count": 11,
   "id": "e77273d3-d7b2-4124-b851-a4a8914ed493",
   "metadata": {},
   "outputs": [],
   "source": [
    "# Create a column in the data frame containing the size group for each gene.\n",
    "size_groups = []\n",
    "for i in df_b[\"gene_length\"]:\n",
    "    if i < 220:\n",
    "        size_groups.append(1)\n",
    "    elif i >= 220 and i < 600:\n",
    "        size_groups.append(2)\n",
    "    elif i >= 600:\n",
    "        size_groups.append(3)\n",
    "df_b[\"size_groups\"] = size_groups"
   ]
  },
  {
   "cell_type": "code",
   "execution_count": 12,
   "id": "433a5afe-af0c-49a5-8ea1-33ac80487d1d",
   "metadata": {},
   "outputs": [],
   "source": [
    "# Find all of the transcripts with a KS stat above a certain threshold and group them by gene ID\n",
    "group = df_b[(df_b['ks_stat'] > 0.34) & (df_b['size_groups'] == 2)].groupby('gene_ID')\n",
    "\n",
    "# Create a list of all of the unique genes \n",
    "diff_dist = group.apply(lambda x: x['ks_stat'].unique())"
   ]
  },
  {
   "cell_type": "code",
   "execution_count": 13,
   "id": "ac1e608e-a086-42c1-9d8a-4b5f3d6cc3f7",
   "metadata": {},
   "outputs": [
    {
     "data": {
      "text/plain": [
       "0"
      ]
     },
     "execution_count": 13,
     "metadata": {},
     "output_type": "execute_result"
    }
   ],
   "source": [
    "len(diff_dist)"
   ]
  },
  {
   "cell_type": "code",
   "execution_count": 14,
   "id": "517c0d16-97c5-4b04-aea0-3681617bdc7a",
   "metadata": {
    "tags": []
   },
   "outputs": [
    {
     "ename": "ValueError",
     "evalue": "Number of rows must be a positive integer, not 0",
     "output_type": "error",
     "traceback": [
      "\u001b[0;31m---------------------------------------------------------------------------\u001b[0m",
      "\u001b[0;31mValueError\u001b[0m                                Traceback (most recent call last)",
      "\u001b[0;32m/tmp/ipykernel_30636/2412236832.py\u001b[0m in \u001b[0;36m<module>\u001b[0;34m\u001b[0m\n\u001b[1;32m      1\u001b[0m \u001b[0;31m# Look at the smoothed count distributions for each of the transcripts that passed the threshold\u001b[0m\u001b[0;34m\u001b[0m\u001b[0;34m\u001b[0m\u001b[0;34m\u001b[0m\u001b[0m\n\u001b[0;32m----> 2\u001b[0;31m \u001b[0max\u001b[0m \u001b[0;34m=\u001b[0m \u001b[0mkat\u001b[0m\u001b[0;34m.\u001b[0m\u001b[0mbig_dif\u001b[0m\u001b[0;34m(\u001b[0m\u001b[0mdiff_dist\u001b[0m\u001b[0;34m,\u001b[0m \u001b[0mgene_list\u001b[0m\u001b[0;34m,\u001b[0m \u001b[0mmutant_list\u001b[0m\u001b[0;34m,\u001b[0m \u001b[0mcontrol_list\u001b[0m\u001b[0;34m,\u001b[0m \u001b[0mfigsize\u001b[0m \u001b[0;34m=\u001b[0m \u001b[0;34m(\u001b[0m\u001b[0;36m16\u001b[0m\u001b[0;34m,\u001b[0m\u001b[0mlen\u001b[0m\u001b[0;34m(\u001b[0m\u001b[0mdiff_dist\u001b[0m\u001b[0;34m)\u001b[0m\u001b[0;34m*\u001b[0m\u001b[0;36m4\u001b[0m\u001b[0;34m)\u001b[0m\u001b[0;34m,\u001b[0m \u001b[0mfontsize\u001b[0m \u001b[0;34m=\u001b[0m \u001b[0;36m16\u001b[0m\u001b[0;34m)\u001b[0m\u001b[0;34m\u001b[0m\u001b[0;34m\u001b[0m\u001b[0m\n\u001b[0m",
      "\u001b[0;32m~/Desktop/Work_Fall_2021/Fall_2021_Work_journal/tools/keegan_analysis_tools.py\u001b[0m in \u001b[0;36mbig_dif\u001b[0;34m(diff_dist, gene_names, data_mutant, data_control, figsize, fontsize, stat_name)\u001b[0m\n\u001b[1;32m    570\u001b[0m     \u001b[0mreturns\u001b[0m \u001b[0ma\u001b[0m \u001b[0mmatplotlib\u001b[0m \u001b[0maxis\u001b[0m \u001b[0mobject\u001b[0m\u001b[0;34m.\u001b[0m\u001b[0;34m\u001b[0m\u001b[0;34m\u001b[0m\u001b[0m\n\u001b[1;32m    571\u001b[0m     '''\n\u001b[0;32m--> 572\u001b[0;31m     \u001b[0mfig\u001b[0m\u001b[0;34m,\u001b[0m\u001b[0max\u001b[0m \u001b[0;34m=\u001b[0m \u001b[0mplt\u001b[0m\u001b[0;34m.\u001b[0m\u001b[0msubplots\u001b[0m\u001b[0;34m(\u001b[0m\u001b[0mlen\u001b[0m\u001b[0;34m(\u001b[0m\u001b[0mdiff_dist\u001b[0m\u001b[0;34m)\u001b[0m\u001b[0;34m,\u001b[0m \u001b[0;36m2\u001b[0m\u001b[0;34m,\u001b[0m \u001b[0mfigsize\u001b[0m \u001b[0;34m=\u001b[0m \u001b[0mfigsize\u001b[0m\u001b[0;34m)\u001b[0m\u001b[0;34m\u001b[0m\u001b[0;34m\u001b[0m\u001b[0m\n\u001b[0m\u001b[1;32m    573\u001b[0m     \u001b[0;32mfor\u001b[0m \u001b[0maxi\u001b[0m\u001b[0;34m,\u001b[0m \u001b[0mstat\u001b[0m\u001b[0;34m,\u001b[0m \u001b[0mgi\u001b[0m \u001b[0;32min\u001b[0m \u001b[0mzip\u001b[0m\u001b[0;34m(\u001b[0m\u001b[0max\u001b[0m\u001b[0;34m,\u001b[0m \u001b[0mdiff_dist\u001b[0m\u001b[0;34m,\u001b[0m \u001b[0mdiff_dist\u001b[0m\u001b[0;34m.\u001b[0m\u001b[0mindex\u001b[0m\u001b[0;34m)\u001b[0m\u001b[0;34m:\u001b[0m\u001b[0;34m\u001b[0m\u001b[0;34m\u001b[0m\u001b[0m\n\u001b[1;32m    574\u001b[0m         \u001b[0;32mfor\u001b[0m \u001b[0mtr_m\u001b[0m\u001b[0;34m,\u001b[0m \u001b[0mtr_c\u001b[0m\u001b[0;34m,\u001b[0m \u001b[0mname\u001b[0m \u001b[0;32min\u001b[0m \u001b[0mzip\u001b[0m\u001b[0;34m(\u001b[0m\u001b[0mdata_mutant\u001b[0m\u001b[0;34m,\u001b[0m \u001b[0mdata_control\u001b[0m\u001b[0;34m,\u001b[0m \u001b[0mgene_names\u001b[0m\u001b[0;34m)\u001b[0m\u001b[0;34m:\u001b[0m\u001b[0;34m\u001b[0m\u001b[0;34m\u001b[0m\u001b[0m\n",
      "\u001b[0;32m~/miniconda3/envs/plastid/lib/python3.8/site-packages/matplotlib/pyplot.py\u001b[0m in \u001b[0;36msubplots\u001b[0;34m(nrows, ncols, sharex, sharey, squeeze, subplot_kw, gridspec_kw, **fig_kw)\u001b[0m\n\u001b[1;32m   1433\u001b[0m     \"\"\"\n\u001b[1;32m   1434\u001b[0m     \u001b[0mfig\u001b[0m \u001b[0;34m=\u001b[0m \u001b[0mfigure\u001b[0m\u001b[0;34m(\u001b[0m\u001b[0;34m**\u001b[0m\u001b[0mfig_kw\u001b[0m\u001b[0;34m)\u001b[0m\u001b[0;34m\u001b[0m\u001b[0;34m\u001b[0m\u001b[0m\n\u001b[0;32m-> 1435\u001b[0;31m     axs = fig.subplots(nrows=nrows, ncols=ncols, sharex=sharex, sharey=sharey,\n\u001b[0m\u001b[1;32m   1436\u001b[0m                        \u001b[0msqueeze\u001b[0m\u001b[0;34m=\u001b[0m\u001b[0msqueeze\u001b[0m\u001b[0;34m,\u001b[0m \u001b[0msubplot_kw\u001b[0m\u001b[0;34m=\u001b[0m\u001b[0msubplot_kw\u001b[0m\u001b[0;34m,\u001b[0m\u001b[0;34m\u001b[0m\u001b[0;34m\u001b[0m\u001b[0m\n\u001b[1;32m   1437\u001b[0m                        gridspec_kw=gridspec_kw)\n",
      "\u001b[0;32m~/miniconda3/envs/plastid/lib/python3.8/site-packages/matplotlib/figure.py\u001b[0m in \u001b[0;36msubplots\u001b[0;34m(self, nrows, ncols, sharex, sharey, squeeze, subplot_kw, gridspec_kw)\u001b[0m\n\u001b[1;32m    894\u001b[0m         \u001b[0;32mif\u001b[0m \u001b[0mgridspec_kw\u001b[0m \u001b[0;32mis\u001b[0m \u001b[0;32mNone\u001b[0m\u001b[0;34m:\u001b[0m\u001b[0;34m\u001b[0m\u001b[0;34m\u001b[0m\u001b[0m\n\u001b[1;32m    895\u001b[0m             \u001b[0mgridspec_kw\u001b[0m \u001b[0;34m=\u001b[0m \u001b[0;34m{\u001b[0m\u001b[0;34m}\u001b[0m\u001b[0;34m\u001b[0m\u001b[0;34m\u001b[0m\u001b[0m\n\u001b[0;32m--> 896\u001b[0;31m         \u001b[0mgs\u001b[0m \u001b[0;34m=\u001b[0m \u001b[0mself\u001b[0m\u001b[0;34m.\u001b[0m\u001b[0madd_gridspec\u001b[0m\u001b[0;34m(\u001b[0m\u001b[0mnrows\u001b[0m\u001b[0;34m,\u001b[0m \u001b[0mncols\u001b[0m\u001b[0;34m,\u001b[0m \u001b[0mfigure\u001b[0m\u001b[0;34m=\u001b[0m\u001b[0mself\u001b[0m\u001b[0;34m,\u001b[0m \u001b[0;34m**\u001b[0m\u001b[0mgridspec_kw\u001b[0m\u001b[0;34m)\u001b[0m\u001b[0;34m\u001b[0m\u001b[0;34m\u001b[0m\u001b[0m\n\u001b[0m\u001b[1;32m    897\u001b[0m         axs = gs.subplots(sharex=sharex, sharey=sharey, squeeze=squeeze,\n\u001b[1;32m    898\u001b[0m                           subplot_kw=subplot_kw)\n",
      "\u001b[0;32m~/miniconda3/envs/plastid/lib/python3.8/site-packages/matplotlib/figure.py\u001b[0m in \u001b[0;36madd_gridspec\u001b[0;34m(self, nrows, ncols, **kwargs)\u001b[0m\n\u001b[1;32m   1389\u001b[0m \u001b[0;34m\u001b[0m\u001b[0m\n\u001b[1;32m   1390\u001b[0m         \u001b[0m_\u001b[0m \u001b[0;34m=\u001b[0m \u001b[0mkwargs\u001b[0m\u001b[0;34m.\u001b[0m\u001b[0mpop\u001b[0m\u001b[0;34m(\u001b[0m\u001b[0;34m'figure'\u001b[0m\u001b[0;34m,\u001b[0m \u001b[0;32mNone\u001b[0m\u001b[0;34m)\u001b[0m  \u001b[0;31m# pop in case user has added this...\u001b[0m\u001b[0;34m\u001b[0m\u001b[0;34m\u001b[0m\u001b[0m\n\u001b[0;32m-> 1391\u001b[0;31m         \u001b[0mgs\u001b[0m \u001b[0;34m=\u001b[0m \u001b[0mGridSpec\u001b[0m\u001b[0;34m(\u001b[0m\u001b[0mnrows\u001b[0m\u001b[0;34m=\u001b[0m\u001b[0mnrows\u001b[0m\u001b[0;34m,\u001b[0m \u001b[0mncols\u001b[0m\u001b[0;34m=\u001b[0m\u001b[0mncols\u001b[0m\u001b[0;34m,\u001b[0m \u001b[0mfigure\u001b[0m\u001b[0;34m=\u001b[0m\u001b[0mself\u001b[0m\u001b[0;34m,\u001b[0m \u001b[0;34m**\u001b[0m\u001b[0mkwargs\u001b[0m\u001b[0;34m)\u001b[0m\u001b[0;34m\u001b[0m\u001b[0;34m\u001b[0m\u001b[0m\n\u001b[0m\u001b[1;32m   1392\u001b[0m         \u001b[0mself\u001b[0m\u001b[0;34m.\u001b[0m\u001b[0m_gridspecs\u001b[0m\u001b[0;34m.\u001b[0m\u001b[0mappend\u001b[0m\u001b[0;34m(\u001b[0m\u001b[0mgs\u001b[0m\u001b[0;34m)\u001b[0m\u001b[0;34m\u001b[0m\u001b[0;34m\u001b[0m\u001b[0m\n\u001b[1;32m   1393\u001b[0m         \u001b[0;32mreturn\u001b[0m \u001b[0mgs\u001b[0m\u001b[0;34m\u001b[0m\u001b[0;34m\u001b[0m\u001b[0m\n",
      "\u001b[0;32m~/miniconda3/envs/plastid/lib/python3.8/site-packages/matplotlib/gridspec.py\u001b[0m in \u001b[0;36m__init__\u001b[0;34m(self, nrows, ncols, figure, left, bottom, right, top, wspace, hspace, width_ratios, height_ratios)\u001b[0m\n\u001b[1;32m    381\u001b[0m         \u001b[0mself\u001b[0m\u001b[0;34m.\u001b[0m\u001b[0mfigure\u001b[0m \u001b[0;34m=\u001b[0m \u001b[0mfigure\u001b[0m\u001b[0;34m\u001b[0m\u001b[0;34m\u001b[0m\u001b[0m\n\u001b[1;32m    382\u001b[0m \u001b[0;34m\u001b[0m\u001b[0m\n\u001b[0;32m--> 383\u001b[0;31m         super().__init__(nrows, ncols,\n\u001b[0m\u001b[1;32m    384\u001b[0m                          \u001b[0mwidth_ratios\u001b[0m\u001b[0;34m=\u001b[0m\u001b[0mwidth_ratios\u001b[0m\u001b[0;34m,\u001b[0m\u001b[0;34m\u001b[0m\u001b[0;34m\u001b[0m\u001b[0m\n\u001b[1;32m    385\u001b[0m                          height_ratios=height_ratios)\n",
      "\u001b[0;32m~/miniconda3/envs/plastid/lib/python3.8/site-packages/matplotlib/gridspec.py\u001b[0m in \u001b[0;36m__init__\u001b[0;34m(self, nrows, ncols, height_ratios, width_ratios)\u001b[0m\n\u001b[1;32m     45\u001b[0m         \"\"\"\n\u001b[1;32m     46\u001b[0m         \u001b[0;32mif\u001b[0m \u001b[0;32mnot\u001b[0m \u001b[0misinstance\u001b[0m\u001b[0;34m(\u001b[0m\u001b[0mnrows\u001b[0m\u001b[0;34m,\u001b[0m \u001b[0mIntegral\u001b[0m\u001b[0;34m)\u001b[0m \u001b[0;32mor\u001b[0m \u001b[0mnrows\u001b[0m \u001b[0;34m<=\u001b[0m \u001b[0;36m0\u001b[0m\u001b[0;34m:\u001b[0m\u001b[0;34m\u001b[0m\u001b[0;34m\u001b[0m\u001b[0m\n\u001b[0;32m---> 47\u001b[0;31m             raise ValueError(\n\u001b[0m\u001b[1;32m     48\u001b[0m                 f\"Number of rows must be a positive integer, not {nrows!r}\")\n\u001b[1;32m     49\u001b[0m         \u001b[0;32mif\u001b[0m \u001b[0;32mnot\u001b[0m \u001b[0misinstance\u001b[0m\u001b[0;34m(\u001b[0m\u001b[0mncols\u001b[0m\u001b[0;34m,\u001b[0m \u001b[0mIntegral\u001b[0m\u001b[0;34m)\u001b[0m \u001b[0;32mor\u001b[0m \u001b[0mncols\u001b[0m \u001b[0;34m<=\u001b[0m \u001b[0;36m0\u001b[0m\u001b[0;34m:\u001b[0m\u001b[0;34m\u001b[0m\u001b[0;34m\u001b[0m\u001b[0m\n",
      "\u001b[0;31mValueError\u001b[0m: Number of rows must be a positive integer, not 0"
     ]
    },
    {
     "data": {
      "text/plain": [
       "<Figure size 1152x0 with 0 Axes>"
      ]
     },
     "metadata": {},
     "output_type": "display_data"
    }
   ],
   "source": [
    "# Look at the smoothed count distributions for each of the transcripts that passed the threshold\n",
    "ax = kat.big_dif(diff_dist, gene_list, mutant_list, control_list, figsize = (16,len(diff_dist)*4), fontsize = 16)"
   ]
  },
  {
   "cell_type": "markdown",
   "id": "c4f57389-ace0-4983-803d-843b703eff78",
   "metadata": {
    "tags": []
   },
   "source": [
    "## Choose a gene of interest and observe the smooth and unsmooth array."
   ]
  },
  {
   "cell_type": "code",
   "execution_count": null,
   "id": "c5cd65c2-6148-41ae-ad75-c1792b7e7e78",
   "metadata": {},
   "outputs": [],
   "source": [
    "# Choosing a gene of interest to calculate the elongation rates of. \n",
    "# Get the transcript and vector for the gene of interest.\n",
    "my_gene = 'IGSF8'\n",
    "for tr_m, tr_c, name in zip(data_mutant, data_control, names_mutant):\n",
    "    if name == my_gene:\n",
    "        my_vec_mutant = tr_m\n",
    "        my_vec_control = tr_c"
   ]
  },
  {
   "cell_type": "code",
   "execution_count": null,
   "id": "68989ea2-bd1a-4950-9098-b90ae54ef289",
   "metadata": {},
   "outputs": [],
   "source": [
    "smoothed_vec_m, cumul_m = kat.get_smoothed_vector(my_vec_mutant+0.00000000001)\n",
    "smoothed_vec_c, cumul_c = kat.get_smoothed_vector(my_vec_control+0.00000000001)"
   ]
  },
  {
   "cell_type": "code",
   "execution_count": null,
   "id": "34890eb5-9de3-41b8-9654-c4a7e1ea7a0c",
   "metadata": {},
   "outputs": [],
   "source": [
    "maxi = max([max(my_vec_mutant), max(my_vec_control)])\n",
    "\n",
    "plt.bar(list(range(len(my_vec_mutant))),my_vec_mutant, width = 1.4)\n",
    "plt.ylim([0,maxi*1.1])\n",
    "plt.ylabel(\"# of reads\", fontsize = 11)\n",
    "plt.xlabel(\"Transcript Position\", fontsize = 11)\n",
    "plt.title(\"Mutant \" + my_gene, fontsize = 13)\n",
    "axes = plt.gca()\n",
    "axes.yaxis.grid(linestyle = \"--\")\n",
    "plt.savefig(image_path + my_gene + '_mutant_array.pdf')\n",
    "plt.show()\n",
    "plt.bar(list(range(len(my_vec_mutant))), my_vec_control, color = \"darkorange\", width = 1.4)\n",
    "plt.ylim([0,maxi*1.1])\n",
    "plt.ylabel(\"# of reads\", fontsize = 11)\n",
    "plt.xlabel(\"Transcript Position\", fontsize = 11)\n",
    "plt.title(\"Control \" + my_gene, fontsize = 13)\n",
    "axes = plt.gca()\n",
    "axes.yaxis.grid(linestyle = \"--\")\n",
    "plt.savefig(image_path + my_gene + '_control_array.pdf')"
   ]
  },
  {
   "cell_type": "code",
   "execution_count": null,
   "id": "cb91bfd3-3391-4a17-a11f-25d1fa51ca7d",
   "metadata": {},
   "outputs": [],
   "source": [
    "plt.plot(smoothed_vec_m, label = \"efp-1\")\n",
    "#plt.plot(my_vec_mutant/sum(my_vec_mutant))\n",
    "plt.plot(smoothed_vec_c, label = \"control\", color = \"darkorange\")\n",
    "plt.ylabel(\"Read Density\", fontsize = 11)\n",
    "plt.xlabel(\"Transcript Position\", fontsize = 11)\n",
    "plt.title(\"Smoothed and Normalized Count Arrays\", fontsize = 13)\n",
    "plt.legend()\n",
    "axes = plt.gca()\n",
    "axes.yaxis.grid(linestyle = \"--\")\n",
    "plt.savefig(image_path + my_gene +'_smoothed.pdf')"
   ]
  },
  {
   "cell_type": "code",
   "execution_count": null,
   "id": "172cc793-17bb-4775-91e3-42b05f091cc3",
   "metadata": {},
   "outputs": [],
   "source": [
    "ks = max(abs(cumul_m - cumul_c))"
   ]
  },
  {
   "cell_type": "code",
   "execution_count": null,
   "id": "283da537-763f-42ac-961d-98fef1b6678b",
   "metadata": {},
   "outputs": [],
   "source": [
    "plt.plot(cumul_m, label = \"efp-1\")\n",
    "#plt.plot(my_vec_mutant/sum(my_vec_mutant))\n",
    "plt.plot(cumul_c, label = \"control\")\n",
    "plt.text(168, 0.2, \"KS stat = \" + str(round(ks,3)), fontsize = 11)\n",
    "plt.ylabel(\"Cumulative Read Density\", fontsize = 11)\n",
    "plt.xlabel(\"Transcript Position\", fontsize = 11)\n",
    "plt.title(\"Cumulative Distributions\", fontsize = 13)\n",
    "plt.legend()\n",
    "axes = plt.gca()\n",
    "axes.yaxis.grid(linestyle = \"--\")\n",
    "plt.savefig(image_path + my_gene + '_cumulative.pdf')"
   ]
  },
  {
   "cell_type": "code",
   "execution_count": null,
   "id": "56dda04f-3a5f-4700-8fab-b2164d4cb97c",
   "metadata": {},
   "outputs": [],
   "source": []
  }
 ],
 "metadata": {
  "kernelspec": {
   "display_name": "Python 3 (ipykernel)",
   "language": "python",
   "name": "python3"
  },
  "language_info": {
   "codemirror_mode": {
    "name": "ipython",
    "version": 3
   },
   "file_extension": ".py",
   "mimetype": "text/x-python",
   "name": "python",
   "nbconvert_exporter": "python",
   "pygments_lexer": "ipython3",
   "version": "3.8.12"
  }
 },
 "nbformat": 4,
 "nbformat_minor": 5
}
