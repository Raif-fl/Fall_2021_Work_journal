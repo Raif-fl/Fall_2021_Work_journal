{
 "cells": [
  {
   "cell_type": "markdown",
   "id": "4b1d2bb6-01b1-46c9-97ef-0543ae1d6638",
   "metadata": {
    "tags": []
   },
   "source": [
    "## Loading up packages"
   ]
  },
  {
   "cell_type": "code",
   "execution_count": 2,
   "id": "28741f13-d82b-4f1b-90cb-59a6a95668f9",
   "metadata": {},
   "outputs": [],
   "source": [
    "import sys\n",
    "sys.path.append('/home/keeganfl/Desktop/Work_Fall_2021/Fall_2021_Work_journal/tools/')"
   ]
  },
  {
   "cell_type": "code",
   "execution_count": 19,
   "id": "d40ee112-0234-4775-b01f-1107c572642f",
   "metadata": {},
   "outputs": [],
   "source": [
    "# import plastid\n",
    "# data structure for mapping read alignments to genomic positions\n",
    "from plastid import BAMGenomeArray, VariableFivePrimeMapFactory, \\\n",
    "                        GTF2_TranscriptAssembler, GFF3_TranscriptAssembler, \\\n",
    "                        Transcript, ThreePrimeMapFactory\n",
    "import numpy as np\n",
    "import os\n",
    "from Bio import SeqIO\n",
    "import numpy\n",
    "import csv\n",
    "import math\n",
    "import pandas as pd\n",
    "from scipy import stats\n",
    "from scipy.stats import kstwo\n",
    "import keegan_analysis_tools as kat\n",
    "from statsmodels.nonparametric.smoothers_lowess import lowess\n",
    "import warnings\n",
    "import matplotlib.pyplot as plt\n",
    "%matplotlib inline\n",
    "import csv\n",
    "from scipy.sparse.linalg import lsqr"
   ]
  },
  {
   "cell_type": "code",
   "execution_count": 4,
   "id": "0ef8d224-e5db-4a54-b14a-b7d1f018e1ef",
   "metadata": {},
   "outputs": [],
   "source": [
    "# Define the path to our Bam files\n",
    "data_path = '/home/keeganfl/Desktop/Work_Fall_2021/genomes_&_samples/dmel/'\n",
    "csv_path = '/home/keeganfl/Desktop/Work_Fall_2021/data_tables/position_counts/dmel/'\n",
    "save_path = '/home/keeganfl/Desktop/Work_Fall_2021/data_tables/KS_stats/dmel/'\n",
    "gtf_name = 'Drosophila_melanogaster.BDGP6.32.103.gtf'\n",
    "mutation = 'Fmr1'\n",
    "samp_num = '3'\n",
    "if os.path.isfile(save_path + \"ks_table_\" + samp_num + \".csv\") == True:\n",
    "    pre_load = True\n",
    "else:\n",
    "    pre_load = False"
   ]
  },
  {
   "cell_type": "markdown",
   "id": "656ebcc5-b17c-4e8b-b14c-3dbd988bb9f4",
   "metadata": {
    "tags": []
   },
   "source": [
    "## Loading up the data files "
   ]
  },
  {
   "cell_type": "code",
   "execution_count": 5,
   "id": "6d69712d-335a-4827-81fa-d5c360ee5696",
   "metadata": {
    "tags": []
   },
   "outputs": [],
   "source": [
    "# load the transcript annotations from the GTF file.\n",
    "# GTF2_TranscriptAssembler returns an iterator, so here we convert it to a list.\n",
    "transcripts = list(GTF2_TranscriptAssembler(open(data_path + gtf_name),return_type=Transcript))"
   ]
  },
  {
   "cell_type": "code",
   "execution_count": 6,
   "id": "9034d788-31ea-49e7-9307-925ab981b05e",
   "metadata": {
    "tags": []
   },
   "outputs": [],
   "source": [
    "# Remove non-protein coding transcripts from transcripts list. \n",
    "protein_coding = []\n",
    "for transcript in transcripts:\n",
    "    if transcript.attr['gene_biotype'] == 'protein_coding':\n",
    "        protein_coding.append(transcript)"
   ]
  },
  {
   "cell_type": "code",
   "execution_count": 7,
   "id": "0a81eb12-ac6e-4150-9416-e1e4d2848b40",
   "metadata": {},
   "outputs": [],
   "source": [
    "# clear up some memory by deleting original transcript list\n",
    "transcripts.clear()"
   ]
  },
  {
   "cell_type": "markdown",
   "id": "6f256c1c-06a6-4170-a8cb-2f1a614ba150",
   "metadata": {
    "tags": []
   },
   "source": [
    "## Loading up the csv file."
   ]
  },
  {
   "cell_type": "code",
   "execution_count": null,
   "id": "6ea7820c-ef4b-43ae-aa4c-60b6b3f0ad64",
   "metadata": {},
   "outputs": [],
   "source": [
    "data_mutant = kat.load_count_positions(mutation+\"_RPF_\"+samp_num+\"_counts.csv\",csv_path)\n",
    "data_control = kat.load_count_positions(\"control_RPF_\"+ samp_num +\"_counts.csv\",csv_path)"
   ]
  },
  {
   "cell_type": "markdown",
   "id": "f23a8272-b9c2-4719-8f9a-e4ed78b58306",
   "metadata": {},
   "source": [
    "## Running the KL divergence on some basic data. "
   ]
  },
  {
   "cell_type": "code",
   "execution_count": 208,
   "id": "5504c0b2-2947-4ffc-876f-5f22f89454b5",
   "metadata": {},
   "outputs": [],
   "source": [
    "my_transcript, tr_m, tr_c, index = kat.find_transcripts(\"RpS6\", protein_coding, data_mutant, data_control, )\n",
    "position = np.array(list(range(len(tr_m))))"
   ]
  },
  {
   "cell_type": "code",
   "execution_count": 209,
   "id": "56358533-0fd1-4716-9826-861ab52eefba",
   "metadata": {},
   "outputs": [],
   "source": [
    "smoothed_vec_m, cumul_m = kat.get_smoothed_vector(position, tr_m+0.00000000001)\n",
    "smoothed_vec_c, cumul_c = kat.get_smoothed_vector(position, tr_c+0.00000000001)"
   ]
  },
  {
   "cell_type": "code",
   "execution_count": 210,
   "id": "7d546b19-32d7-4e8f-92f9-62696820cb48",
   "metadata": {},
   "outputs": [],
   "source": [
    "for d, i in zip(smoothed_vec_m, list(range(len(smoothed_vec_m)))):\n",
    "    if d < 0:\n",
    "        smoothed_vec_m[i] = 0.000000000000000000001"
   ]
  },
  {
   "cell_type": "code",
   "execution_count": 211,
   "id": "2de97f51-3c30-4949-8696-ff468125c79a",
   "metadata": {},
   "outputs": [],
   "source": [
    "for d, i in zip(smoothed_vec_c, list(range(len(smoothed_vec_c)))):\n",
    "    if d < 0:\n",
    "        smoothed_vec_c[i] = 0.000000000000000000001"
   ]
  },
  {
   "cell_type": "code",
   "execution_count": 212,
   "id": "002faac6-539f-4fc6-ade2-cd502c4e70b7",
   "metadata": {},
   "outputs": [
    {
     "name": "stdout",
     "output_type": "stream",
     "text": [
      "0.7752796240788413\n"
     ]
    }
   ],
   "source": [
    "def KL(a, b):\n",
    "    a = np.asarray(a, dtype=float)\n",
    "    b = np.asarray(b, dtype=float)\n",
    "\n",
    "    return np.sum(np.where(a != 0, a * np.log(a / b), 0))\n",
    "\n",
    "\n",
    "values1 = [1.346112,1.337432,1.246655]\n",
    "values2 = [1.033836,1.082015,1.117323]\n",
    "\n",
    "print(KL(values1, values2))"
   ]
  },
  {
   "cell_type": "code",
   "execution_count": 213,
   "id": "11386c40-6515-49a3-af54-103ac3b761d7",
   "metadata": {},
   "outputs": [
    {
     "data": {
      "text/plain": [
       "<matplotlib.legend.Legend at 0x7ff7432d1400>"
      ]
     },
     "execution_count": 213,
     "metadata": {},
     "output_type": "execute_result"
    },
    {
     "data": {
      "image/png": "[encoded data removed]",
      "text/plain": [
       "<Figure size 432x288 with 1 Axes>"
      ]
     },
     "metadata": {
      "needs_background": "light"
     },
     "output_type": "display_data"
    }
   ],
   "source": [
    "plt.plot(smoothed_vec_m, label = \"Fmr1-1\")\n",
    "#plt.plot(my_vec_mutant/sum(my_vec_mutant))\n",
    "plt.plot(smoothed_vec_c, label = \"wt\")\n",
    "plt.ylabel(\"Read Density\")\n",
    "plt.xlabel(\"Transcript Position\")\n",
    "plt.title(\"Smoothed and normalized count vectors\")\n",
    "plt.legend()"
   ]
  },
  {
   "cell_type": "code",
   "execution_count": 214,
   "id": "d2d61b99-2da6-49f4-ad78-24c16c70e248",
   "metadata": {},
   "outputs": [
    {
     "data": {
      "text/plain": [
       "0.14363890291524214"
      ]
     },
     "execution_count": 214,
     "metadata": {},
     "output_type": "execute_result"
    }
   ],
   "source": [
    "KL(smoothed_vec_m, smoothed_vec_c)"
   ]
  },
  {
   "cell_type": "code",
   "execution_count": null,
   "id": "2178e488-151d-4fd6-b4da-c95f50789428",
   "metadata": {},
   "outputs": [
    {
     "data": {
      "text/plain": [
       "0.03899974873379677"
      ]
     },
     "execution_count": 16,
     "metadata": {},
     "output_type": "execute_result"
    }
   ],
   "source": [
    "stats.entropy(smoothed_vec_m, smoothed_vec_c)"
   ]
  },
  {
   "cell_type": "markdown",
   "id": "8282d1c5-8483-4af2-b2f2-8a322c434d7f",
   "metadata": {},
   "source": [
    "Hmmmm, I do not know why lowess smoothing occasionally returns negative values. The negative values are very low and very rare but they do occur. "
   ]
  },
  {
   "cell_type": "code",
   "execution_count": null,
   "id": "991f0feb-0ea8-47a6-b1b8-028e8d3a58c7",
   "metadata": {},
   "outputs": [
    {
     "name": "stdout",
     "output_type": "stream",
     "text": [
      "1e-21\n"
     ]
    }
   ],
   "source": [
    "for i in smoothed_vec_m:\n",
    "    if i == 0.000000000000000000001:\n",
    "        print(i)"
   ]
  },
  {
   "cell_type": "markdown",
   "id": "30eb4acb-fcb2-4b0b-8457-1cc286febe67",
   "metadata": {},
   "source": [
    "## Loading up and experimenting with elongation rates. "
   ]
  },
  {
   "cell_type": "code",
   "execution_count": 26,
   "id": "a9092a3c-31ae-4d61-9d25-4971710a7936",
   "metadata": {},
   "outputs": [],
   "source": [
    "with open('/home/keeganfl/Desktop/Work_Fall_2021/EGGTART/cysQ_gene_test.csv') as file_name:\n",
    "    array = np.loadtxt(file_name, delimiter=\",\")"
   ]
  },
  {
   "cell_type": "code",
   "execution_count": 27,
   "id": "3c3c3349-8484-4322-93d6-13799f5e4818",
   "metadata": {},
   "outputs": [
    {
     "data": {
      "text/plain": [
       "[<matplotlib.lines.Line2D at 0x7ff74fdb8400>]"
      ]
     },
     "execution_count": 27,
     "metadata": {},
     "output_type": "execute_result"
    },
    {
     "data": {
      "image/png": "[encoded data removed]",
      "text/plain": [
       "<Figure size 432x288 with 1 Axes>"
      ]
     },
     "metadata": {
      "needs_background": "light"
     },
     "output_type": "display_data"
    }
   ],
   "source": [
    "plt.plot(array)"
   ]
  },
  {
   "cell_type": "code",
   "execution_count": 319,
   "id": "f4290683-306d-4c06-ab1b-fe1ddf292e05",
   "metadata": {},
   "outputs": [],
   "source": [
    "a = 0.0029\n",
    "B = 0.008\n",
    "I = 10"
   ]
  },
  {
   "cell_type": "code",
   "execution_count": 320,
   "id": "c2c3cde1-deec-4baf-be11-39ede21d23f3",
   "metadata": {},
   "outputs": [],
   "source": [
    "Jmax = min(array)/((1+np.sqrt(I))**2)"
   ]
  },
  {
   "cell_type": "code",
   "execution_count": 321,
   "id": "de57df37-fed8-41ab-9077-7dc47df25797",
   "metadata": {},
   "outputs": [
    {
     "data": {
      "text/plain": [
       "0.002961452816286918"
      ]
     },
     "execution_count": 321,
     "metadata": {},
     "output_type": "execute_result"
    }
   ],
   "source": [
    "crit_a = ((array[0] - (I-1) * Jmax) / 2)*(1 - np.sqrt(1 - (4*array[0]*Jmax)/((array[0] - (I - 1)*Jmax)**2)))\n",
    "crit_a"
   ]
  },
  {
   "cell_type": "code",
   "execution_count": 322,
   "id": "8a555c7c-cbca-46e7-8e8a-fc8a0016f14f",
   "metadata": {},
   "outputs": [
    {
     "data": {
      "text/plain": [
       "0.0029414535903766782"
      ]
     },
     "execution_count": 322,
     "metadata": {},
     "output_type": "execute_result"
    }
   ],
   "source": [
    "crit_B = ((array[-1] - (I-1) * Jmax) / 2)*(1 - np.sqrt(1 - (4*array[-1]*Jmax)/((array[-1] - (I - 1)*Jmax)**2)))\n",
    "crit_B"
   ]
  },
  {
   "cell_type": "code",
   "execution_count": 323,
   "id": "d934bec7-2580-4d1d-b355-5869db2e9801",
   "metadata": {
    "tags": []
   },
   "outputs": [],
   "source": [
    "def low_density(lamb,a,I):\n",
    "    Jl = (a*(lamb[0]-a))/(lamb[0] + (I-1)*a)\n",
    "    pl = 1/(2*I) + (Jl*(I-1))/(2*I*lamb) - np.sqrt((1/(2*I) + (Jl*(I-1))/(2*I*lamb))**2 - Jl/(I*lamb))\n",
    "    return(pl) "
   ]
  },
  {
   "cell_type": "code",
   "execution_count": 324,
   "id": "397af5ec-0d89-45c5-8e84-0f20c471acc0",
   "metadata": {},
   "outputs": [],
   "source": [
    "def high_density(lamb,B,I):\n",
    "    JR = (B*(lamb[-1]-B))/(lamb[-1] + (I-1)*B)\n",
    "    pR = 1/(2*I) + (JR*(I-1))/(2*I*lamb) + np.sqrt((1/(2*I) + (JR*(I-1))/(2*I*lamb))**2 - JR/(I*lamb))\n",
    "    return(pR) "
   ]
  },
  {
   "cell_type": "code",
   "execution_count": 325,
   "id": "9e808566-87f5-4c8d-90fe-d48410c2a823",
   "metadata": {},
   "outputs": [],
   "source": [
    "def maximum_current(lamb,a,B,I):\n",
    "    Jmax = min(lamb)/((1+np.sqrt(I))**2)\n",
    "    flip = np.where(array == np.amin(array))[0][0]\n",
    "    pR = 1/(2*I) + (Jmax*(I-1))/(2*I*lamb[0:flip]) + np.sqrt((1/(2*I) + (Jmax*(I-1))/(\n",
    "        2*I*lamb[0:flip]))**2 - Jmax/(I*lamb[0:flip]))\n",
    "    pl = 1/(2*I) + (Jmax*(I-1))/(2*I*lamb[flip:]) - np.sqrt((1/(2*I) + (Jmax*(I-1))/(\n",
    "        2*I*lamb[flip:]))**2 - Jmax/(I*lamb[flip:]))\n",
    "    p = np.concatenate((pR,pl))\n",
    "    return(p) "
   ]
  },
  {
   "cell_type": "code",
   "execution_count": 326,
   "id": "25eaf431-596e-41bb-be5e-8f45910ab540",
   "metadata": {},
   "outputs": [],
   "source": [
    "pl = low_density(array,a = 0.0028,I = 10)"
   ]
  },
  {
   "cell_type": "code",
   "execution_count": 327,
   "id": "97f8e4b4-308d-422f-8f58-10e3293f69e5",
   "metadata": {},
   "outputs": [
    {
     "data": {
      "text/plain": [
       "[<matplotlib.lines.Line2D at 0x7ff75ad4fd30>]"
      ]
     },
     "execution_count": 327,
     "metadata": {},
     "output_type": "execute_result"
    },
    {
     "data": {
      "image/png": "[encoded data removed]",
      "text/plain": [
       "<Figure size 432x288 with 1 Axes>"
      ]
     },
     "metadata": {
      "needs_background": "light"
     },
     "output_type": "display_data"
    }
   ],
   "source": [
    "plt.plot(pl)"
   ]
  },
  {
   "cell_type": "markdown",
   "id": "643d4180-6179-4533-a342-5b087c6eebb9",
   "metadata": {},
   "source": [
    "This looks pretty good? I need to ask if it is important that the X-axis be normalized or if that is not really necessary. "
   ]
  },
  {
   "cell_type": "code",
   "execution_count": 307,
   "id": "fdd2dcec-30ab-42b7-ad4d-5863b09c463d",
   "metadata": {},
   "outputs": [
    {
     "name": "stderr",
     "output_type": "stream",
     "text": [
      "---------------------------------------------------------------------------\n",
      "RuntimeWarning\n",
      "invalid value encountered in sqrt\n",
      "in /tmp/ipykernel_399470/2775145101.py, line 3:\n",
      "\n",
      "1 def high_density(lamb,B,I):\n",
      "2     JR = (B*(lamb[-1]-B))/(lamb[-1] + (I-1)*B)\n",
      "3     pR = 1/(2*I) + (JR*(I-1))/(2*I*lamb) + np.sqrt((1/(2*I) + (JR*(I-1))/(2*I*lamb))**2 - JR/(I*lamb))\n",
      "4     return(pR) \n",
      "\n",
      "---------------------------------------------------------------------------\n"
     ]
    }
   ],
   "source": [
    "pR = high_density(array,B = 0.0028,I = 10)"
   ]
  },
  {
   "cell_type": "code",
   "execution_count": 308,
   "id": "1bd0be9a-2c7d-43a2-8f30-91997010bbdf",
   "metadata": {},
   "outputs": [
    {
     "data": {
      "text/plain": [
       "[<matplotlib.lines.Line2D at 0x7ff7457274f0>]"
      ]
     },
     "execution_count": 308,
     "metadata": {},
     "output_type": "execute_result"
    },
    {
     "data": {
      "image/png": "[encoded data removed]",
      "text/plain": [
       "<Figure size 432x288 with 1 Axes>"
      ]
     },
     "metadata": {
      "needs_background": "light"
     },
     "output_type": "display_data"
    }
   ],
   "source": [
    "plt.plot(pR)"
   ]
  },
  {
   "cell_type": "code",
   "execution_count": 328,
   "id": "58525460-7034-47fe-a7de-398fc8579dec",
   "metadata": {},
   "outputs": [],
   "source": [
    "p = maximum_current(array,a= 0.005,B = 0.009,I = 10)"
   ]
  },
  {
   "cell_type": "code",
   "execution_count": 329,
   "id": "66bf8a5c-5780-473c-81ae-109f6c03c1c0",
   "metadata": {},
   "outputs": [
    {
     "data": {
      "text/plain": [
       "[<matplotlib.lines.Line2D at 0x7ff75ed5a6a0>]"
      ]
     },
     "execution_count": 329,
     "metadata": {},
     "output_type": "execute_result"
    },
    {
     "data": {
      "image/png": "[encoded data removed]",
      "text/plain": [
       "<Figure size 432x288 with 1 Axes>"
      ]
     },
     "metadata": {
      "needs_background": "light"
     },
     "output_type": "display_data"
    }
   ],
   "source": [
    "plt.plot(p)"
   ]
  },
  {
   "cell_type": "code",
   "execution_count": null,
   "id": "ba340c53-38b3-4c69-9c1d-e948d2ca389a",
   "metadata": {},
   "outputs": [],
   "source": []
  }
 ],
 "metadata": {
  "kernelspec": {
   "display_name": "Python 3 (ipykernel)",
   "language": "python",
   "name": "python3"
  },
  "language_info": {
   "codemirror_mode": {
    "name": "ipython",
    "version": 3
   },
   "file_extension": ".py",
   "mimetype": "text/x-python",
   "name": "python",
   "nbconvert_exporter": "python",
   "pygments_lexer": "ipython3",
   "version": "3.8.12"
  }
 },
 "nbformat": 4,
 "nbformat_minor": 5
}
