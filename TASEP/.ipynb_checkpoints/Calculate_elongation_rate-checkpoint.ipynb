{
 "cells": [
  {
   "cell_type": "markdown",
   "id": "05b1a7d4-8ede-4530-8784-598021ff19b7",
   "metadata": {},
   "source": [
    "## Loading up packages"
   ]
  },
  {
   "cell_type": "code",
   "execution_count": 2,
   "id": "ceab2473-7d5f-44ca-9727-b10ab5a27f7b",
   "metadata": {},
   "outputs": [],
   "source": [
    "# import plastid\n",
    "# data structure for mapping read alignments to genomic positions\n",
    "from plastid import BAMGenomeArray, VariableFivePrimeMapFactory, \\\n",
    "                        GTF2_TranscriptAssembler, Transcript, ThreePrimeMapFactory\n",
    "import numpy as np\n",
    "import numpy\n",
    "import pandas as pd\n",
    "import warnings\n",
    "import csv"
   ]
  },
  {
   "cell_type": "markdown",
   "id": "b32bb390-4d54-4827-8361-e4af46cf4b5c",
   "metadata": {
    "tags": []
   },
   "source": [
    "# The Plan"
   ]
  },
  {
   "cell_type": "markdown",
   "id": "0d7a2676-c346-4ed4-b97f-69775f2db79a",
   "metadata": {},
   "source": [
    "Wait wait wait, why is this all in codons? I had this set up on a per nucleotide position basis but now it is asking for this on a per codon basis. I guess it does not really matter for this first test but this is something I need to ask Khanh about. \n",
    "\n",
    "Ok, so first I am going to take each position in my table and divide that position by the total number of transcripts... when he says transcripts does he really mean reads? It makes no sense to just use whatever number of transcripts happen to be in the genome, it would be much more sensical to use the sum of all of the reads for a transcript. \n",
    "\n",
    "Perhaps step 2 is just referring to calculating the average p per 10 codons? So, add up all 10 p values, then divide by 1/10. when he says it should add up to n-9, does that imply that we are finding the average for codons 1-10, then 2-11, then 3-12 all the way up until we can no longer take the average of 10 codons? \n",
    "\n",
    "Then, for each set of 10 codons (x entry) calculate the smoothed elongation rate using a pretty straight forward equation. \n",
    "\n",
    "Then calculate the scaled initiation rate and termination rate using fairly simple equations and the pbar values calculated for the first and last set of codons. \n",
    "\n",
    "Then, you create an array of size n-8-L (n is the length of the gene in codons and L is related to bias and will be set as 1 for now) which contains 10* lambda(x) (the smoother elongation rate for the entries) for which x is between L and n-9. \n",
    "\n",
    "Can someone please explain to me what n is in this context? like n is usually the number of something but I cannot figure out which number in this context. Is it always equal to the gene length in codons? "
   ]
  },
  {
   "cell_type": "markdown",
   "id": "3964f9cb-c183-4a98-ab01-37334ceeade8",
   "metadata": {
    "tags": []
   },
   "source": [
    "# Loading up the csv file."
   ]
  },
  {
   "cell_type": "code",
   "execution_count": 91,
   "id": "5837a43c-99f0-4fe2-9727-4c805131f835",
   "metadata": {},
   "outputs": [],
   "source": [
    "data = []\n",
    "with open(\"toy_data.csv\", newline = '') as csvfile:\n",
    "    reader = csv.reader(csvfile)\n",
    "    for row in reader:\n",
    "        data.append(row)"
   ]
  },
  {
   "cell_type": "code",
   "execution_count": 92,
   "id": "8acb5dbd-396b-4d6e-888b-48998f6dc6f8",
   "metadata": {},
   "outputs": [
    {
     "data": {
      "text/plain": [
       "['\\ufeffgene_id',\n",
       " 'transcript_id',\n",
       " '1',\n",
       " '2',\n",
       " '3',\n",
       " '4',\n",
       " '5',\n",
       " '6',\n",
       " '7',\n",
       " '8',\n",
       " '9',\n",
       " '10',\n",
       " '11',\n",
       " '12',\n",
       " '13',\n",
       " '14',\n",
       " '15',\n",
       " '16',\n",
       " '17',\n",
       " '18',\n",
       " '19',\n",
       " '20',\n",
       " '21',\n",
       " '22',\n",
       " '23',\n",
       " '24',\n",
       " '25',\n",
       " '26',\n",
       " '27',\n",
       " '28',\n",
       " '29',\n",
       " '30',\n",
       " '31',\n",
       " '32',\n",
       " '33',\n",
       " '34',\n",
       " '35',\n",
       " '36',\n",
       " '37',\n",
       " '38',\n",
       " '39',\n",
       " '40',\n",
       " '41',\n",
       " '42',\n",
       " '43']"
      ]
     },
     "execution_count": 92,
     "metadata": {},
     "output_type": "execute_result"
    }
   ],
   "source": [
    "blank=data.pop(0)"
   ]
  },
  {
   "cell_type": "code",
   "execution_count": 93,
   "id": "40668469-516e-4544-8de2-2f1913e1fd8c",
   "metadata": {},
   "outputs": [],
   "source": [
    "for i,ii in zip(data, range(len(data))):\n",
    "    for j,jj in zip(i, range(len(i))):\n",
    "        try:\n",
    "            x = int(j)\n",
    "            data[ii][jj] = x\n",
    "        except:\n",
    "            pass"
   ]
  },
  {
   "cell_type": "code",
   "execution_count": 94,
   "id": "f798c4ba-25a8-4c14-a0d5-ada794ffd463",
   "metadata": {},
   "outputs": [],
   "source": [
    "for i,ii in zip(data, range(len(data))):\n",
    "    x = list(filter(('').__ne__, i))\n",
    "    data[ii] = x"
   ]
  },
  {
   "cell_type": "code",
   "execution_count": 95,
   "id": "8379e568-7689-4314-82c9-63c480c67525",
   "metadata": {
    "tags": []
   },
   "outputs": [],
   "source": [
    "for i,ii in zip(data, range(len(data))):\n",
    "    data[ii] = np.array(data[ii][2:])"
   ]
  },
  {
   "cell_type": "code",
   "execution_count": 160,
   "id": "f393d412-93a9-4736-bc4d-abc0e3ac3cb7",
   "metadata": {},
   "outputs": [
    {
     "data": {
      "text/plain": [
       "[array([ 3,  0,  4,  5, 22,  1,  2,  0,  1,  7,  6,  8,  3, 59, 60,  3,  3,\n",
       "        30, 18, 41, 25, 31, 12, 24, 39, 45, 42, 31,  1, 33, 23, 41, 18,  2,\n",
       "        33, 47, 16, 47, 25, 44]),\n",
       " array([ 0,  0,  5,  8, 29,  4,  6,  2,  1,  0,  7,  0,  4, 38, 40,  5,  4,\n",
       "         9, 41, 32, 31,  4, 49, 36, 13, 22,  5, 31, 30, 17, 12, 40, 19, 32,\n",
       "        12,  8,  6, 13, 12, 38, 59, 68, 70]),\n",
       " array([  0,  30,  22,  12,  15,   6,   7,   7,   0,   2,   7,  12,   6,\n",
       "         12,   1,  40, 100,  41,  24,  23,  32,  11,  11,  13,  46,  40,\n",
       "         21,  16,  36,  45,   1,  36,  35,  18,  12,  38,  21,   1,  41,\n",
       "         13])]"
      ]
     },
     "execution_count": 160,
     "metadata": {},
     "output_type": "execute_result"
    }
   ],
   "source": [
    "data"
   ]
  },
  {
   "cell_type": "code",
   "execution_count": 161,
   "id": "5c751070-c12f-4445-a93a-72a22cc9065b",
   "metadata": {},
   "outputs": [],
   "source": [
    "def calculate_p(data):\n",
    "    p_list=[]\n",
    "    for i in data:\n",
    "        M = sum(i)\n",
    "        p = i/M\n",
    "        p_list.append(p)\n",
    "    return(p_list)"
   ]
  },
  {
   "cell_type": "code",
   "execution_count": 162,
   "id": "258b7055-d8b0-4e6a-bbb7-4b4c12070b91",
   "metadata": {},
   "outputs": [],
   "source": [
    "p_list = calculate_p(data)"
   ]
  },
  {
   "cell_type": "code",
   "execution_count": 164,
   "id": "17231693-a385-4ea1-9f76-20a8cf48f2a8",
   "metadata": {},
   "outputs": [],
   "source": [
    "def calculate_pbar(p_list):\n",
    "    pbar_list=[]\n",
    "    for p in p_list:\n",
    "        x=0\n",
    "        pbar=[]\n",
    "        for px in p:\n",
    "            pbar_x = 0.1*sum(p[x:x+10]) #it is x+10 not x+9 because python does not include the final index.\n",
    "            pbar.append(pbar_x)\n",
    "            x = x+1\n",
    "            if x  == len(p)-9:\n",
    "                break\n",
    "        pbar_list.append(np.array(pbar))\n",
    "    return(pbar_list)\n",
    "\n"
   ]
  },
  {
   "cell_type": "code",
   "execution_count": 165,
   "id": "8f382947-dd33-45fa-9ad2-0ded3d095c58",
   "metadata": {},
   "outputs": [],
   "source": [
    "pbar_list=calculate_pbar(p_list)"
   ]
  },
  {
   "cell_type": "code",
   "execution_count": 166,
   "id": "74dec0f8-e7d2-43eb-8005-079d4f0e423b",
   "metadata": {},
   "outputs": [],
   "source": [
    "def calculate_lbar(pbar_list):\n",
    "    lbar_list=[]\n",
    "    for pbar in pbar_list:\n",
    "        lbar = []\n",
    "        for pbarx in pbar:\n",
    "            lbar_x = (1-9*pbarx)/(pbarx*(1-pbarx))\n",
    "            lbar.append(lbar_x)\n",
    "        lbar_list.append(np.array(lbar))\n",
    "    return(lbar_list)\n",
    "            "
   ]
  },
  {
   "cell_type": "code",
   "execution_count": 167,
   "id": "bf2d5f49-df63-47c3-b4fb-3a1787f38c9e",
   "metadata": {},
   "outputs": [],
   "source": [
    "lbar_list=calculate_lbar(pbar_list)"
   ]
  },
  {
   "cell_type": "code",
   "execution_count": 168,
   "id": "7d19cd70-e4fd-4bc0-82e0-0c935e8eecc8",
   "metadata": {},
   "outputs": [
    {
     "data": {
      "text/plain": [
       "array([0.00350877, 0.        , 0.00467836, 0.00584795, 0.02573099,\n",
       "       0.00116959, 0.00233918, 0.        , 0.00116959, 0.00818713,\n",
       "       0.00701754, 0.00935673, 0.00350877, 0.06900585, 0.07017544,\n",
       "       0.00350877, 0.00350877, 0.03508772, 0.02105263, 0.04795322,\n",
       "       0.02923977, 0.03625731, 0.01403509, 0.02807018, 0.04561404,\n",
       "       0.05263158, 0.04912281, 0.03625731, 0.00116959, 0.03859649,\n",
       "       0.02690058, 0.04795322, 0.02105263, 0.00233918, 0.03859649,\n",
       "       0.05497076, 0.01871345, 0.05497076, 0.02923977, 0.05146199])"
      ]
     },
     "execution_count": 168,
     "metadata": {},
     "output_type": "execute_result"
    }
   ],
   "source": [
    "p_list[0]"
   ]
  },
  {
   "cell_type": "code",
   "execution_count": 169,
   "id": "00b4f9c6-203a-419e-8d4b-ea2cb47513d5",
   "metadata": {},
   "outputs": [],
   "source": [
    "# calculate the scaled initiation and termination rates\n",
    "\n",
    "init_r= []\n",
    "for pbar in pbar_list:\n",
    "    init_r.append(1/(1-10*pbar[0]))\n",
    "\n",
    "term_r = []\n",
    "for p in p_list:\n",
    "    term_r.append(1/p[-1])\n"
   ]
  },
  {
   "cell_type": "markdown",
   "id": "c65a8f23-3d0f-4a6e-b1c3-e01581ab3e5f",
   "metadata": {},
   "source": [
    "I think my initiation and termination rates look very strange because I tended to put very few reads at the beginning of my toy data so it think it is going super fast through that section. "
   ]
  },
  {
   "cell_type": "code",
   "execution_count": null,
   "id": "7e4337df-d5fb-4a8d-9792-8bcb9c700642",
   "metadata": {},
   "outputs": [],
   "source": []
  }
 ],
 "metadata": {
  "kernelspec": {
   "display_name": "Python 3 (ipykernel)",
   "language": "python",
   "name": "python3"
  },
  "language_info": {
   "codemirror_mode": {
    "name": "ipython",
    "version": 3
   },
   "file_extension": ".py",
   "mimetype": "text/x-python",
   "name": "python",
   "nbconvert_exporter": "python",
   "pygments_lexer": "ipython3",
   "version": "3.8.10"
  }
 },
 "nbformat": 4,
 "nbformat_minor": 5
}
