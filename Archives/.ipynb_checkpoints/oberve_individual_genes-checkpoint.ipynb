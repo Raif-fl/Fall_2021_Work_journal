{
 "cells": [
  {
   "cell_type": "markdown",
   "id": "4b1d2bb6-01b1-46c9-97ef-0543ae1d6638",
   "metadata": {
    "tags": []
   },
   "source": [
    "## Loading up packages"
   ]
  },
  {
   "cell_type": "code",
   "execution_count": 2,
   "id": "28741f13-d82b-4f1b-90cb-59a6a95668f9",
   "metadata": {},
   "outputs": [],
   "source": [
    "import sys\n",
    "sys.path.append('/home/keeganfl/Desktop/Work_Fall_2021/Fall_2021_Work_journal/tools/')"
   ]
  },
  {
   "cell_type": "code",
   "execution_count": 19,
   "id": "d40ee112-0234-4775-b01f-1107c572642f",
   "metadata": {},
   "outputs": [],
   "source": [
    "# import plastid\n",
    "# data structure for mapping read alignments to genomic positions\n",
    "from plastid import BAMGenomeArray, VariableFivePrimeMapFactory, \\\n",
    "                        GTF2_TranscriptAssembler, GFF3_TranscriptAssembler, \\\n",
    "                        Transcript, ThreePrimeMapFactory\n",
    "import numpy as np\n",
    "import os\n",
    "from Bio import SeqIO\n",
    "import numpy\n",
    "import csv\n",
    "import math\n",
    "import pandas as pd\n",
    "from scipy import stats\n",
    "from scipy.stats import kstwo\n",
    "import keegan_analysis_tools as kat\n",
    "from statsmodels.nonparametric.smoothers_lowess import lowess\n",
    "import warnings\n",
    "import matplotlib.pyplot as plt\n",
    "%matplotlib inline\n",
    "import csv\n",
    "from scipy.sparse.linalg import lsqr"
   ]
  },
  {
   "cell_type": "code",
   "execution_count": 4,
   "id": "0ef8d224-e5db-4a54-b14a-b7d1f018e1ef",
   "metadata": {},
   "outputs": [],
   "source": [
    "# Define the path to our Bam files\n",
    "data_path = '/home/keeganfl/Desktop/Work_Fall_2021/genomes_&_samples/dmel/'\n",
    "csv_path = '/home/keeganfl/Desktop/Work_Fall_2021/data_tables/position_counts/dmel/'\n",
    "save_path = '/home/keeganfl/Desktop/Work_Fall_2021/data_tables/KS_stats/dmel/'\n",
    "gtf_name = 'Drosophila_melanogaster.BDGP6.32.103.gtf'\n",
    "mutation = 'Fmr1'\n",
    "samp_num = '3'\n",
    "if os.path.isfile(save_path + \"ks_table_\" + samp_num + \".csv\") == True:\n",
    "    pre_load = True\n",
    "else:\n",
    "    pre_load = False"
   ]
  },
  {
   "cell_type": "markdown",
   "id": "656ebcc5-b17c-4e8b-b14c-3dbd988bb9f4",
   "metadata": {
    "tags": []
   },
   "source": [
    "## Loading up the data files "
   ]
  },
  {
   "cell_type": "code",
   "execution_count": 5,
   "id": "6d69712d-335a-4827-81fa-d5c360ee5696",
   "metadata": {
    "tags": []
   },
   "outputs": [],
   "source": [
    "# load the transcript annotations from the GTF file.\n",
    "# GTF2_TranscriptAssembler returns an iterator, so here we convert it to a list.\n",
    "transcripts = list(GTF2_TranscriptAssembler(open(data_path + gtf_name),return_type=Transcript))"
   ]
  },
  {
   "cell_type": "code",
   "execution_count": 6,
   "id": "9034d788-31ea-49e7-9307-925ab981b05e",
   "metadata": {
    "tags": []
   },
   "outputs": [],
   "source": [
    "# Remove non-protein coding transcripts from transcripts list. \n",
    "protein_coding = []\n",
    "for transcript in transcripts:\n",
    "    if transcript.attr['gene_biotype'] == 'protein_coding':\n",
    "        protein_coding.append(transcript)"
   ]
  },
  {
   "cell_type": "code",
   "execution_count": 7,
   "id": "0a81eb12-ac6e-4150-9416-e1e4d2848b40",
   "metadata": {},
   "outputs": [],
   "source": [
    "# clear up some memory by deleting original transcript list\n",
    "transcripts.clear()"
   ]
  },
  {
   "cell_type": "markdown",
   "id": "6f256c1c-06a6-4170-a8cb-2f1a614ba150",
   "metadata": {
    "tags": []
   },
   "source": [
    "## Loading up the csv file."
   ]
  },
  {
   "cell_type": "code",
   "execution_count": null,
   "id": "6ea7820c-ef4b-43ae-aa4c-60b6b3f0ad64",
   "metadata": {},
   "outputs": [],
   "source": [
    "data_mutant = kat.load_count_positions(mutation+\"_RPF_\"+samp_num+\"_counts.csv\",csv_path)\n",
    "data_control = kat.load_count_positions(\"control_RPF_\"+ samp_num +\"_counts.csv\",csv_path)"
   ]
  },
  {
   "cell_type": "markdown",
   "id": "f23a8272-b9c2-4719-8f9a-e4ed78b58306",
   "metadata": {},
   "source": [
    "## Running the KL divergence on some basic data. "
   ]
  },
  {
   "cell_type": "code",
   "execution_count": 208,
   "id": "5504c0b2-2947-4ffc-876f-5f22f89454b5",
   "metadata": {},
   "outputs": [],
   "source": [
    "my_transcript, tr_m, tr_c, index = kat.find_transcripts(\"RpS6\", protein_coding, data_mutant, data_control, )\n",
    "position = np.array(list(range(len(tr_m))))"
   ]
  },
  {
   "cell_type": "code",
   "execution_count": 209,
   "id": "56358533-0fd1-4716-9826-861ab52eefba",
   "metadata": {},
   "outputs": [],
   "source": [
    "smoothed_vec_m, cumul_m = kat.get_smoothed_vector(position, tr_m+0.00000000001)\n",
    "smoothed_vec_c, cumul_c = kat.get_smoothed_vector(position, tr_c+0.00000000001)"
   ]
  },
  {
   "cell_type": "code",
   "execution_count": 210,
   "id": "7d546b19-32d7-4e8f-92f9-62696820cb48",
   "metadata": {},
   "outputs": [],
   "source": [
    "for d, i in zip(smoothed_vec_m, list(range(len(smoothed_vec_m)))):\n",
    "    if d < 0:\n",
    "        smoothed_vec_m[i] = 0.000000000000000000001"
   ]
  },
  {
   "cell_type": "code",
   "execution_count": 211,
   "id": "2de97f51-3c30-4949-8696-ff468125c79a",
   "metadata": {},
   "outputs": [],
   "source": [
    "for d, i in zip(smoothed_vec_c, list(range(len(smoothed_vec_c)))):\n",
    "    if d < 0:\n",
    "        smoothed_vec_c[i] = 0.000000000000000000001"
   ]
  },
  {
   "cell_type": "code",
   "execution_count": 212,
   "id": "002faac6-539f-4fc6-ade2-cd502c4e70b7",
   "metadata": {},
   "outputs": [
    {
     "name": "stdout",
     "output_type": "stream",
     "text": [
      "0.7752796240788413\n"
     ]
    }
   ],
   "source": [
    "def KL(a, b):\n",
    "    a = np.asarray(a, dtype=float)\n",
    "    b = np.asarray(b, dtype=float)\n",
    "\n",
    "    return np.sum(np.where(a != 0, a * np.log(a / b), 0))\n",
    "\n",
    "\n",
    "values1 = [1.346112,1.337432,1.246655]\n",
    "values2 = [1.033836,1.082015,1.117323]\n",
    "\n",
    "print(KL(values1, values2))"
   ]
  },
  {
   "cell_type": "code",
   "execution_count": 213,
   "id": "11386c40-6515-49a3-af54-103ac3b761d7",
   "metadata": {},
   "outputs": [
    {
     "data": {
      "text/plain": [
       "<matplotlib.legend.Legend at 0x7ff7432d1400>"
      ]
     },
     "execution_count": 213,
     "metadata": {},
     "output_type": "execute_result"
    },
    {
     "data": {
      "image/png": "[encoded data removed]",
      "text/plain": [
       "<Figure size 432x288 with 1 Axes>"
      ]
     },
     "metadata": {
      "needs_background": "light"
     },
     "output_type": "display_data"
    }
   ],
   "source": [
    "plt.plot(smoothed_vec_m, label = \"Fmr1-1\")\n",
    "#plt.plot(my_vec_mutant/sum(my_vec_mutant))\n",
    "plt.plot(smoothed_vec_c, label = \"wt\")\n",
    "plt.ylabel(\"Read Density\")\n",
    "plt.xlabel(\"Transcript Position\")\n",
    "plt.title(\"Smoothed and normalized count vectors\")\n",
    "plt.legend()"
   ]
  },
  {
   "cell_type": "code",
   "execution_count": 214,
   "id": "d2d61b99-2da6-49f4-ad78-24c16c70e248",
   "metadata": {},
   "outputs": [
    {
     "data": {
      "text/plain": [
       "0.14363890291524214"
      ]
     },
     "execution_count": 214,
     "metadata": {},
     "output_type": "execute_result"
    }
   ],
   "source": [
    "KL(smoothed_vec_m, smoothed_vec_c)"
   ]
  },
  {
   "cell_type": "code",
   "execution_count": null,
   "id": "2178e488-151d-4fd6-b4da-c95f50789428",
   "metadata": {},
   "outputs": [
    {
     "data": {
      "text/plain": [
       "0.03899974873379677"
      ]
     },
     "execution_count": 16,
     "metadata": {},
     "output_type": "execute_result"
    }
   ],
   "source": [
    "stats.entropy(smoothed_vec_m, smoothed_vec_c)"
   ]
  },
  {
   "cell_type": "markdown",
   "id": "8282d1c5-8483-4af2-b2f2-8a322c434d7f",
   "metadata": {},
   "source": [
    "Hmmmm, I do not know why lowess smoothing occasionally returns negative values. The negative values are very low and very rare but they do occur. "
   ]
  },
  {
   "cell_type": "code",
   "execution_count": null,
   "id": "991f0feb-0ea8-47a6-b1b8-028e8d3a58c7",
   "metadata": {},
   "outputs": [
    {
     "name": "stdout",
     "output_type": "stream",
     "text": [
      "1e-21\n"
     ]
    }
   ],
   "source": [
    "for i in smoothed_vec_m:\n",
    "    if i == 0.000000000000000000001:\n",
    "        print(i)"
   ]
  },
  {
   "cell_type": "markdown",
   "id": "30eb4acb-fcb2-4b0b-8457-1cc286febe67",
   "metadata": {},
   "source": [
    "## Loading up and experimenting with elongation rates. "
   ]
  },
  {
   "cell_type": "code",
   "execution_count": 401,
   "id": "a9092a3c-31ae-4d61-9d25-4971710a7936",
   "metadata": {},
   "outputs": [],
   "source": [
    "with open('/home/keeganfl/Desktop/Work_Fall_2021/data_tables/elongation_rates/ecol/efp_cysQ_gene.csv') as mutant:\n",
    "    arr_m = np.loadtxt(mutant, delimiter=\",\")\n",
    "    \n",
    "with open('/home/keeganfl/Desktop/Work_Fall_2021/data_tables/elongation_rates/ecol/control_cysQ_gene.csv') as control:\n",
    "    arr_c = np.loadtxt(control, delimiter=\",\")"
   ]
  },
  {
   "cell_type": "code",
   "execution_count": 27,
   "id": "3c3c3349-8484-4322-93d6-13799f5e4818",
   "metadata": {},
   "outputs": [
    {
     "data": {
      "text/plain": [
       "[<matplotlib.lines.Line2D at 0x7ff74fdb8400>]"
      ]
     },
     "execution_count": 27,
     "metadata": {},
     "output_type": "execute_result"
    },
    {
     "data": {
      "image/png": "[encoded data removed]",
      "text/plain": [
       "<Figure size 432x288 with 1 Axes>"
      ]
     },
     "metadata": {
      "needs_background": "light"
     },
     "output_type": "display_data"
    }
   ],
   "source": [
    "plt.plot(arr_m)"
   ]
  },
  {
   "cell_type": "code",
   "execution_count": 319,
   "id": "f4290683-306d-4c06-ab1b-fe1ddf292e05",
   "metadata": {},
   "outputs": [],
   "source": [
    "a = 0.0029\n",
    "B = 0.008\n",
    "I = 10"
   ]
  },
  {
   "cell_type": "code",
   "execution_count": 375,
   "id": "c2c3cde1-deec-4baf-be11-39ede21d23f3",
   "metadata": {},
   "outputs": [],
   "source": [
    "Jmax = min(arr_m)/((1+np.sqrt(I))**2)"
   ]
  },
  {
   "cell_type": "code",
   "execution_count": 376,
   "id": "de57df37-fed8-41ab-9077-7dc47df25797",
   "metadata": {},
   "outputs": [
    {
     "data": {
      "text/plain": [
       "0.017772227199221217"
      ]
     },
     "execution_count": 376,
     "metadata": {},
     "output_type": "execute_result"
    }
   ],
   "source": [
    "crit_a = ((arr_m[0] - (I-1) * Jmax) / 2)*(1 - np.sqrt(1 - (4*arr_m[0]*Jmax)/((arr_m[0] - (I - 1)*Jmax)**2)))\n",
    "crit_a"
   ]
  },
  {
   "cell_type": "code",
   "execution_count": 377,
   "id": "8a555c7c-cbca-46e7-8e8a-fc8a0016f14f",
   "metadata": {},
   "outputs": [
    {
     "data": {
      "text/plain": [
       "0.01764845267069137"
      ]
     },
     "execution_count": 377,
     "metadata": {},
     "output_type": "execute_result"
    }
   ],
   "source": [
    "crit_B = ((arr_m[-1] - (I-1) * Jmax) / 2)*(1 - np.sqrt(1 - (4*arr_m[-1]*Jmax)/((arr_m[-1] - (I - 1)*Jmax)**2)))\n",
    "crit_B"
   ]
  },
  {
   "cell_type": "code",
   "execution_count": 347,
   "id": "d934bec7-2580-4d1d-b355-5869db2e9801",
   "metadata": {
    "tags": []
   },
   "outputs": [],
   "source": [
    "def low_density(lamb,a,I):\n",
    "    Jl = (a*(lamb[0]-a))/(lamb[0] + (I-1)*a)\n",
    "    pl = 1/(2*I) + (Jl*(I-1))/(2*I*lamb) - np.sqrt((1/(2*I) + (Jl*(I-1))/(2*I*lamb))**2 - Jl/(I*lamb))\n",
    "    return(pl) "
   ]
  },
  {
   "cell_type": "code",
   "execution_count": 348,
   "id": "397af5ec-0d89-45c5-8e84-0f20c471acc0",
   "metadata": {},
   "outputs": [],
   "source": [
    "def high_density(lamb,B,I):\n",
    "    JR = (B*(lamb[-1]-B))/(lamb[-1] + (I-1)*B)\n",
    "    pR = 1/(2*I) + (JR*(I-1))/(2*I*lamb) + np.sqrt((1/(2*I) + (JR*(I-1))/(2*I*lamb))**2 - JR/(I*lamb))\n",
    "    return(pR) "
   ]
  },
  {
   "cell_type": "code",
   "execution_count": 349,
   "id": "9e808566-87f5-4c8d-90fe-d48410c2a823",
   "metadata": {},
   "outputs": [],
   "source": [
    "def maximum_current(lamb,a,B,I):\n",
    "    Jmax = min(lamb)/((1+np.sqrt(I))**2)\n",
    "    flip = np.where(lamb == np.amin(lamb))[0][0]\n",
    "    pR = 1/(2*I) + (Jmax*(I-1))/(2*I*lamb[0:flip]) + np.sqrt((1/(2*I) + (Jmax*(I-1))/(\n",
    "        2*I*lamb[0:flip]))**2 - Jmax/(I*lamb[0:flip]))\n",
    "    pl = 1/(2*I) + (Jmax*(I-1))/(2*I*lamb[flip:]) - np.sqrt((1/(2*I) + (Jmax*(I-1))/(\n",
    "        2*I*lamb[flip:]))**2 - Jmax/(I*lamb[flip:]))\n",
    "    p = np.concatenate((pR,pl))\n",
    "    return(p) "
   ]
  },
  {
   "cell_type": "code",
   "execution_count": 368,
   "id": "25eaf431-596e-41bb-be5e-8f45910ab540",
   "metadata": {},
   "outputs": [],
   "source": [
    "pl = low_density(arr_m,a = 0.0098,I = 10)"
   ]
  },
  {
   "cell_type": "code",
   "execution_count": 369,
   "id": "97f8e4b4-308d-422f-8f58-10e3293f69e5",
   "metadata": {},
   "outputs": [
    {
     "data": {
      "text/plain": [
       "[<matplotlib.lines.Line2D at 0x7ff751e2b700>]"
      ]
     },
     "execution_count": 369,
     "metadata": {},
     "output_type": "execute_result"
    },
    {
     "data": {
      "image/png": "[encoded data removed]",
      "text/plain": [
       "<Figure size 432x288 with 1 Axes>"
      ]
     },
     "metadata": {
      "needs_background": "light"
     },
     "output_type": "display_data"
    }
   ],
   "source": [
    "plt.plot(pl)"
   ]
  },
  {
   "cell_type": "markdown",
   "id": "643d4180-6179-4533-a342-5b087c6eebb9",
   "metadata": {},
   "source": [
    "This looks pretty good? I need to ask if it is important that the X-axis be normalized or if that is not really necessary. "
   ]
  },
  {
   "cell_type": "code",
   "execution_count": 378,
   "id": "fdd2dcec-30ab-42b7-ad4d-5863b09c463d",
   "metadata": {},
   "outputs": [],
   "source": [
    "pR = high_density(arr_m,B = 0.010,I = 10)"
   ]
  },
  {
   "cell_type": "code",
   "execution_count": 379,
   "id": "1bd0be9a-2c7d-43a2-8f30-91997010bbdf",
   "metadata": {},
   "outputs": [
    {
     "data": {
      "text/plain": [
       "[<matplotlib.lines.Line2D at 0x7ff75c590280>]"
      ]
     },
     "execution_count": 379,
     "metadata": {},
     "output_type": "execute_result"
    },
    {
     "data": {
      "image/png": "[encoded data removed]",
      "text/plain": [
       "<Figure size 432x288 with 1 Axes>"
      ]
     },
     "metadata": {
      "needs_background": "light"
     },
     "output_type": "display_data"
    }
   ],
   "source": [
    "plt.plot(pR)"
   ]
  },
  {
   "cell_type": "code",
   "execution_count": 380,
   "id": "58525460-7034-47fe-a7de-398fc8579dec",
   "metadata": {},
   "outputs": [],
   "source": [
    "p = maximum_current(arr_m,a= 0.02,B = 0.08,I = 10)"
   ]
  },
  {
   "cell_type": "code",
   "execution_count": 381,
   "id": "66bf8a5c-5780-473c-81ae-109f6c03c1c0",
   "metadata": {},
   "outputs": [
    {
     "data": {
      "text/plain": [
       "[<matplotlib.lines.Line2D at 0x7ff74a27a1f0>]"
      ]
     },
     "execution_count": 381,
     "metadata": {},
     "output_type": "execute_result"
    },
    {
     "data": {
      "image/png": "[encoded data removed]",
      "text/plain": [
       "<Figure size 432x288 with 1 Axes>"
      ]
     },
     "metadata": {
      "needs_background": "light"
     },
     "output_type": "display_data"
    }
   ],
   "source": [
    "plt.plot(p)"
   ]
  },
  {
   "cell_type": "code",
   "execution_count": 418,
   "id": "fb413704-8b0e-4d67-821d-eb7b1837eeca",
   "metadata": {},
   "outputs": [],
   "source": [
    "def get_p(arr_c, arr_m, I = 10):\n",
    "    lam_c = arr_c\n",
    "    lam_m = arr_m\n",
    "    Jmax = min(lam_c)/((1+np.sqrt(I))**2)\n",
    "    crit_a = ((lam_c[0] - (I-1) * Jmax) / 2)*(1 - np.sqrt(1 - (4*lam_c[0]*Jmax)/((lam_c[0] - (I - 1)*Jmax)**2)))\n",
    "    crit_B = ((lam_c[-1] - (I-1) * Jmax) / 2)*(1 - np.sqrt(1 - (4*lam_c[-1]*Jmax)/((lam_c[-1] - (I - 1)*Jmax)**2)))\n",
    "    a = crit_a * 0.80\n",
    "    B = crit_B * 0.90\n",
    "    mut_min = np.where(lam_m == np.amin(lam_m))[0][0]\n",
    "    lam_c[mut_min] = lam_c[mut_min]*0.5 # It keeps doing this every run through. \n",
    "    Jmax = min(lam_c)/((1+np.sqrt(I))**2)\n",
    "    crit_a = ((lam_c[0] - (I-1) * Jmax) / 2)*(1 - np.sqrt(1 - (4*lam_c[0]*Jmax)/((lam_c[0] - (I - 1)*Jmax)**2)))\n",
    "    crit_B = ((lam_c[-1] - (I-1) * Jmax) / 2)*(1 - np.sqrt(1 - (4*lam_c[-1]*Jmax)/((lam_c[-1] - (I - 1)*Jmax)**2)))\n",
    "    print(crit_a, crit_B)"
   ]
  },
  {
   "cell_type": "code",
   "execution_count": 421,
   "id": "17ef6981-e1e6-44f5-b0ce-2a38d70b2607",
   "metadata": {},
   "outputs": [
    {
     "ename": "TypeError",
     "evalue": "'float' object is not iterable",
     "output_type": "error",
     "traceback": [
      "\u001b[0;31m---------------------------------------------------------------------------\u001b[0m",
      "\u001b[0;31mTypeError\u001b[0m                                 Traceback (most recent call last)",
      "\u001b[0;32m/tmp/ipykernel_399470/1774659805.py\u001b[0m in \u001b[0;36m<module>\u001b[0;34m\u001b[0m\n\u001b[0;32m----> 1\u001b[0;31m \u001b[0mget_p\u001b[0m\u001b[0;34m(\u001b[0m\u001b[0ma\u001b[0m\u001b[0;34m,\u001b[0m \u001b[0mB\u001b[0m\u001b[0;34m)\u001b[0m\u001b[0;34m\u001b[0m\u001b[0;34m\u001b[0m\u001b[0m\n\u001b[0m",
      "\u001b[0;32m/tmp/ipykernel_399470/142267087.py\u001b[0m in \u001b[0;36mget_p\u001b[0;34m(arr_c, arr_m, I)\u001b[0m\n\u001b[1;32m      2\u001b[0m     \u001b[0mlam_c\u001b[0m \u001b[0;34m=\u001b[0m \u001b[0marr_c\u001b[0m\u001b[0;34m\u001b[0m\u001b[0;34m\u001b[0m\u001b[0m\n\u001b[1;32m      3\u001b[0m     \u001b[0mlam_m\u001b[0m \u001b[0;34m=\u001b[0m \u001b[0marr_m\u001b[0m\u001b[0;34m\u001b[0m\u001b[0;34m\u001b[0m\u001b[0m\n\u001b[0;32m----> 4\u001b[0;31m     \u001b[0mJmax\u001b[0m \u001b[0;34m=\u001b[0m \u001b[0mmin\u001b[0m\u001b[0;34m(\u001b[0m\u001b[0mlam_c\u001b[0m\u001b[0;34m)\u001b[0m\u001b[0;34m/\u001b[0m\u001b[0;34m(\u001b[0m\u001b[0;34m(\u001b[0m\u001b[0;36m1\u001b[0m\u001b[0;34m+\u001b[0m\u001b[0mnp\u001b[0m\u001b[0;34m.\u001b[0m\u001b[0msqrt\u001b[0m\u001b[0;34m(\u001b[0m\u001b[0mI\u001b[0m\u001b[0;34m)\u001b[0m\u001b[0;34m)\u001b[0m\u001b[0;34m**\u001b[0m\u001b[0;36m2\u001b[0m\u001b[0;34m)\u001b[0m\u001b[0;34m\u001b[0m\u001b[0;34m\u001b[0m\u001b[0m\n\u001b[0m\u001b[1;32m      5\u001b[0m     \u001b[0mcrit_a\u001b[0m \u001b[0;34m=\u001b[0m \u001b[0;34m(\u001b[0m\u001b[0;34m(\u001b[0m\u001b[0mlam_c\u001b[0m\u001b[0;34m[\u001b[0m\u001b[0;36m0\u001b[0m\u001b[0;34m]\u001b[0m \u001b[0;34m-\u001b[0m \u001b[0;34m(\u001b[0m\u001b[0mI\u001b[0m\u001b[0;34m-\u001b[0m\u001b[0;36m1\u001b[0m\u001b[0;34m)\u001b[0m \u001b[0;34m*\u001b[0m \u001b[0mJmax\u001b[0m\u001b[0;34m)\u001b[0m \u001b[0;34m/\u001b[0m \u001b[0;36m2\u001b[0m\u001b[0;34m)\u001b[0m\u001b[0;34m*\u001b[0m\u001b[0;34m(\u001b[0m\u001b[0;36m1\u001b[0m \u001b[0;34m-\u001b[0m \u001b[0mnp\u001b[0m\u001b[0;34m.\u001b[0m\u001b[0msqrt\u001b[0m\u001b[0;34m(\u001b[0m\u001b[0;36m1\u001b[0m \u001b[0;34m-\u001b[0m \u001b[0;34m(\u001b[0m\u001b[0;36m4\u001b[0m\u001b[0;34m*\u001b[0m\u001b[0mlam_c\u001b[0m\u001b[0;34m[\u001b[0m\u001b[0;36m0\u001b[0m\u001b[0;34m]\u001b[0m\u001b[0;34m*\u001b[0m\u001b[0mJmax\u001b[0m\u001b[0;34m)\u001b[0m\u001b[0;34m/\u001b[0m\u001b[0;34m(\u001b[0m\u001b[0;34m(\u001b[0m\u001b[0mlam_c\u001b[0m\u001b[0;34m[\u001b[0m\u001b[0;36m0\u001b[0m\u001b[0;34m]\u001b[0m \u001b[0;34m-\u001b[0m \u001b[0;34m(\u001b[0m\u001b[0mI\u001b[0m \u001b[0;34m-\u001b[0m \u001b[0;36m1\u001b[0m\u001b[0;34m)\u001b[0m\u001b[0;34m*\u001b[0m\u001b[0mJmax\u001b[0m\u001b[0;34m)\u001b[0m\u001b[0;34m**\u001b[0m\u001b[0;36m2\u001b[0m\u001b[0;34m)\u001b[0m\u001b[0;34m)\u001b[0m\u001b[0;34m)\u001b[0m\u001b[0;34m\u001b[0m\u001b[0;34m\u001b[0m\u001b[0m\n\u001b[1;32m      6\u001b[0m     \u001b[0mcrit_B\u001b[0m \u001b[0;34m=\u001b[0m \u001b[0;34m(\u001b[0m\u001b[0;34m(\u001b[0m\u001b[0mlam_c\u001b[0m\u001b[0;34m[\u001b[0m\u001b[0;34m-\u001b[0m\u001b[0;36m1\u001b[0m\u001b[0;34m]\u001b[0m \u001b[0;34m-\u001b[0m \u001b[0;34m(\u001b[0m\u001b[0mI\u001b[0m\u001b[0;34m-\u001b[0m\u001b[0;36m1\u001b[0m\u001b[0;34m)\u001b[0m \u001b[0;34m*\u001b[0m \u001b[0mJmax\u001b[0m\u001b[0;34m)\u001b[0m \u001b[0;34m/\u001b[0m \u001b[0;36m2\u001b[0m\u001b[0;34m)\u001b[0m\u001b[0;34m*\u001b[0m\u001b[0;34m(\u001b[0m\u001b[0;36m1\u001b[0m \u001b[0;34m-\u001b[0m \u001b[0mnp\u001b[0m\u001b[0;34m.\u001b[0m\u001b[0msqrt\u001b[0m\u001b[0;34m(\u001b[0m\u001b[0;36m1\u001b[0m \u001b[0;34m-\u001b[0m \u001b[0;34m(\u001b[0m\u001b[0;36m4\u001b[0m\u001b[0;34m*\u001b[0m\u001b[0mlam_c\u001b[0m\u001b[0;34m[\u001b[0m\u001b[0;34m-\u001b[0m\u001b[0;36m1\u001b[0m\u001b[0;34m]\u001b[0m\u001b[0;34m*\u001b[0m\u001b[0mJmax\u001b[0m\u001b[0;34m)\u001b[0m\u001b[0;34m/\u001b[0m\u001b[0;34m(\u001b[0m\u001b[0;34m(\u001b[0m\u001b[0mlam_c\u001b[0m\u001b[0;34m[\u001b[0m\u001b[0;34m-\u001b[0m\u001b[0;36m1\u001b[0m\u001b[0;34m]\u001b[0m \u001b[0;34m-\u001b[0m \u001b[0;34m(\u001b[0m\u001b[0mI\u001b[0m \u001b[0;34m-\u001b[0m \u001b[0;36m1\u001b[0m\u001b[0;34m)\u001b[0m\u001b[0;34m*\u001b[0m\u001b[0mJmax\u001b[0m\u001b[0;34m)\u001b[0m\u001b[0;34m**\u001b[0m\u001b[0;36m2\u001b[0m\u001b[0;34m)\u001b[0m\u001b[0;34m)\u001b[0m\u001b[0;34m)\u001b[0m\u001b[0;34m\u001b[0m\u001b[0;34m\u001b[0m\u001b[0m\n",
      "\u001b[0;31mTypeError\u001b[0m: 'float' object is not iterable"
     ]
    }
   ],
   "source": [
    "get_p(a, B)"
   ]
  },
  {
   "cell_type": "markdown",
   "id": "ce6dac51-e0c1-4ab7-85bf-635bcce501b5",
   "metadata": {},
   "source": [
    "ok, define a decent initiation and termination rate\n",
    "My god trying to do this with arbitrary rates is infuriating. Like, every choice is just totally random, how far you need to drag it down, what you set as alpha and beta in the first place, and all of that effects everything else in like 50 different ways. "
   ]
  },
  {
   "cell_type": "code",
   "execution_count": null,
   "id": "796f835b-195a-4378-82d4-3139a6eda847",
   "metadata": {},
   "outputs": [],
   "source": []
  }
 ],
 "metadata": {
  "kernelspec": {
   "display_name": "Python 3 (ipykernel)",
   "language": "python",
   "name": "python3"
  },
  "language_info": {
   "codemirror_mode": {
    "name": "ipython",
    "version": 3
   },
   "file_extension": ".py",
   "mimetype": "text/x-python",
   "name": "python",
   "nbconvert_exporter": "python",
   "pygments_lexer": "ipython3",
   "version": "3.8.12"
  }
 },
 "nbformat": 4,
 "nbformat_minor": 5
}
