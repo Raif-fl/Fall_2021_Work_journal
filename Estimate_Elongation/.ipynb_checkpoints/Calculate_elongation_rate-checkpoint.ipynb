{
 "cells": [
  {
   "cell_type": "markdown",
   "id": "b3f621fd-8e88-4da0-9e60-9fc1278846a8",
   "metadata": {},
   "source": [
    "Note too self, I made the mistake of including that one extra nucleotide in all of the coding sequences of the csv file so this will be a little bit bigger than necessary. "
   ]
  },
  {
   "cell_type": "markdown",
   "id": "05b1a7d4-8ede-4530-8784-598021ff19b7",
   "metadata": {
    "tags": []
   },
   "source": [
    "## Loading up packages"
   ]
  },
  {
   "cell_type": "code",
   "execution_count": 1,
   "id": "4e246af2-7f5a-408f-9ee3-f49bdfc8c8dc",
   "metadata": {},
   "outputs": [],
   "source": [
    "# import plastid\n",
    "# data structure for mapping read alignments to genomic positions\n",
    "from plastid import BAMGenomeArray, VariableFivePrimeMapFactory, \\\n",
    "                        GTF2_TranscriptAssembler, Transcript, ThreePrimeMapFactory\n",
    "import numpy as np\n",
    "from Bio import SeqIO\n",
    "import numpy\n",
    "import pandas as pd\n",
    "import warnings\n",
    "import csv\n",
    "from scipy.sparse.linalg import lsqr"
   ]
  },
  {
   "cell_type": "code",
   "execution_count": 2,
   "id": "4e7ae4a1-f049-4e21-bbc8-4128f5b045ef",
   "metadata": {},
   "outputs": [],
   "source": [
    "# Define the path to our Bam files\n",
    "data_path = \"/Users/keeganflanagan/Desktop/Khanh_position/genomes_and_samples/Fly/\"\n",
    "p_site_path = \"/Users/keeganflanagan/Desktop/Khanh_position/Data/P-site_offsets/\"\n",
    "save_path = \"/Users/keeganflanagan/Desktop/Khanh_position/Data/position_count_csvs/\""
   ]
  },
  {
   "cell_type": "markdown",
   "id": "b468236a-0d91-4cf7-9c0c-82da07456871",
   "metadata": {
    "jp-MarkdownHeadingCollapsed": true,
    "tags": []
   },
   "source": [
    "## Defining Functions"
   ]
  },
  {
   "cell_type": "code",
   "execution_count": 3,
   "id": "1987536c-54c1-41ef-8160-32bd42f05f1e",
   "metadata": {},
   "outputs": [],
   "source": [
    "def variable_threeprime_map_function(alignments,segment,p_offsets):\n",
    "        '''\n",
    "        This function is used to map read alignments to the location of the ribosomal p-site \n",
    "        from their 3' end. The offsets to use for each read length are specified by file\n",
    "        generated using RiboWaltz.\n",
    "\n",
    "        alignments:\n",
    "            Information on the genome alignment of an individual read which is passed \n",
    "            to the function from a BamGenome array created by plastid. \n",
    "\n",
    "        segment:\n",
    "            Information on the individual read segment which is passed \n",
    "            to the function from a BamGenome array created by plastid. \n",
    "\n",
    "        p_offsets:\n",
    "            A pandas dataframe that has been loaded into the python environmemt.\n",
    "            This dataframe should follow this template. \n",
    "                length          P_offsets\n",
    "                 28              12\n",
    "                 29              12\n",
    "                 30              13\n",
    "                ...             ...\n",
    "\n",
    "        '''\n",
    "        reads_out = []\n",
    "        count_array = numpy.zeros(len(segment))\n",
    "        for read in alignments: \n",
    "            for length, offset in zip(p_offsets[\"length\"],p_offsets[\"p_offset\"]): \n",
    "                if length != len(read.positions):\n",
    "                    continue # skip read if it is not the length we are currently offsetting.\n",
    "\n",
    "             # count offset 3' to 5' if the `segment` is on the plus-strand\n",
    "             # or is unstranded\n",
    "                if segment.strand == \"+\":\n",
    "                    p_site = read.positions[-offset - 1]\n",
    "                elif segment.strand == \".\":\n",
    "                    p_site = read.positions[-offset - 1]\n",
    "             # count offset from other end if `segment` is on the minus-strand\n",
    "                elif segment.strand == \"-\":\n",
    "                    p_site = read.positions[offset]\n",
    "\n",
    "                if p_site >= segment.start and p_site < segment.end:\n",
    "                    reads_out.append(read)\n",
    "                    count_array[p_site - segment.start] += 1\n",
    "        return reads_out, count_array"
   ]
  },
  {
   "cell_type": "code",
   "execution_count": 4,
   "id": "1a8fac01-077d-40f6-8585-bad628cf5d7c",
   "metadata": {},
   "outputs": [],
   "source": [
    "def VariableThreePrimeMapFactory(p_offsets):\n",
    "    '''\n",
    "    BamGenome array objects will only be able to pass the alignments and segment\n",
    "    arguments to the variable_threeprime_map_function. This wrapper allows me to\n",
    "    also specify the offset that needs to be passed to the function. \n",
    "    '''\n",
    "    def new_func(alignments,segment):\n",
    "        return variable_threeprime_map_function(alignments,segment,p_offsets=p_offsets)\n",
    "\n",
    "    return new_func"
   ]
  },
  {
   "cell_type": "code",
   "execution_count": 85,
   "id": "dc11f8b1-ac4f-4888-bbc9-abffe39b0221",
   "metadata": {},
   "outputs": [],
   "source": [
    "# Create a function that finds the proteins I need. \n",
    "def find_transcript(gene,transcripts, count_vectors):\n",
    "    '''\n",
    "    A function that takes the name of a gene as input and finds \n",
    "    the corresponding transcript from a transcript list. \n",
    "    \n",
    "    returns both the transcript in question and the vector of counts for that transcript.\n",
    "    \n",
    "    This function is still a work in progress as for now it simply gives the last \n",
    "    transcript in the list that matches the gene ID. \n",
    "    '''\n",
    "    for i in transcripts:\n",
    "        if i.attr['transcript_biotype'] == 'protein_coding':\n",
    "            if i.attr['gene_name'] == gene:\n",
    "                my_transcript = i\n",
    "                index = transcripts.index(i)\n",
    "                my_vector = count_vectors[transcripts.index(i)]\n",
    "                \n",
    "    return my_transcript, my_vector, index"
   ]
  },
  {
   "cell_type": "code",
   "execution_count": 6,
   "id": "096fea3f-16de-4960-ae26-b50e6a775b5b",
   "metadata": {},
   "outputs": [],
   "source": [
    "def find_max_list(list):\n",
    "    ''' \n",
    "    A function that finds the longest list/array in a list of lists. \n",
    "    '''\n",
    "    list_len = [len(i) for i in list]\n",
    "    return(max(list_len))"
   ]
  },
  {
   "cell_type": "markdown",
   "id": "0020ce2d-6798-4126-b4a4-19b807e22235",
   "metadata": {
    "jp-MarkdownHeadingCollapsed": true,
    "tags": []
   },
   "source": [
    "## Loading up the data files "
   ]
  },
  {
   "cell_type": "code",
   "execution_count": 7,
   "id": "ce5ea620-1f72-44c2-b1df-f954a415662c",
   "metadata": {},
   "outputs": [],
   "source": [
    "# Load in the table of P-site offsets. \n",
    "p_offsets=pd.read_csv(p_site_path + \"control_RPF_2_p_offsets.txt\", sep=\"\\t\")"
   ]
  },
  {
   "cell_type": "code",
   "execution_count": 8,
   "id": "2f5d7d49-3fd4-43f9-af60-b5606a01146b",
   "metadata": {
    "tags": []
   },
   "outputs": [],
   "source": [
    "# load the transcript annotations from the GTF file.\n",
    "# GTF2_TranscriptAssembler returns an iterator, so here we convert it to a list.\n",
    "transcripts = list(GTF2_TranscriptAssembler(open(data_path + \"Drosophila_melanogaster.BDGP6.32.103.gtf\"),return_type=Transcript))"
   ]
  },
  {
   "cell_type": "code",
   "execution_count": 9,
   "id": "b993adda-5136-4a43-b862-0b279a75da54",
   "metadata": {},
   "outputs": [],
   "source": [
    "# Remove non-protein coding transcripts from transcripts list. \n",
    "protein_coding = []\n",
    "for transcript in transcripts:\n",
    "    if transcript.attr['transcript_biotype'] == 'protein_coding':\n",
    "        protein_coding.append(transcript)"
   ]
  },
  {
   "cell_type": "code",
   "execution_count": 10,
   "id": "bd341c37-774d-4d65-bccb-602680821fcd",
   "metadata": {},
   "outputs": [],
   "source": [
    "# clear up some memory by deleting original transcript list\n",
    "transcripts.clear()"
   ]
  },
  {
   "cell_type": "code",
   "execution_count": 11,
   "id": "ff0366ce-fd79-4b6e-915c-25e6f50d6a17",
   "metadata": {},
   "outputs": [],
   "source": [
    "# Read in the alignments from a BAM file and then have it map to the p-site \n",
    "alignments = BAMGenomeArray(data_path + \"dmel_control_RPF_2_Aligned.sortedByCoord.out.bam\")\n",
    "alignments.set_mapping(VariableThreePrimeMapFactory(p_offsets=p_offsets))"
   ]
  },
  {
   "cell_type": "markdown",
   "id": "3964f9cb-c183-4a98-ab01-37334ceeade8",
   "metadata": {
    "tags": []
   },
   "source": [
    "# Loading up the csv file."
   ]
  },
  {
   "cell_type": "code",
   "execution_count": 12,
   "id": "5837a43c-99f0-4fe2-9727-4c805131f835",
   "metadata": {},
   "outputs": [],
   "source": [
    "# Read in data row by row.\n",
    "data = []\n",
    "with open(save_path + \"cds_dmel_control_2_counts.csv\", newline = '') as csvfile:\n",
    "    reader = csv.reader(csvfile)\n",
    "    for row in reader:\n",
    "        data.append(row)"
   ]
  },
  {
   "cell_type": "code",
   "execution_count": 13,
   "id": "8acb5dbd-396b-4d6e-888b-48998f6dc6f8",
   "metadata": {},
   "outputs": [],
   "source": [
    "# Pop out the header row.\n",
    "blank=data.pop(0)"
   ]
  },
  {
   "cell_type": "code",
   "execution_count": 14,
   "id": "40668469-516e-4544-8de2-2f1913e1fd8c",
   "metadata": {},
   "outputs": [],
   "source": [
    "# convert everything to an integer if possible. \n",
    "for i,ii in zip(data, range(len(data))):\n",
    "    for j,jj in zip(i, range(len(i))):\n",
    "        try:\n",
    "            x = int(float(j))\n",
    "            data[ii][jj] = x\n",
    "        except:\n",
    "            pass"
   ]
  },
  {
   "cell_type": "code",
   "execution_count": 15,
   "id": "f798c4ba-25a8-4c14-a0d5-ada794ffd463",
   "metadata": {},
   "outputs": [],
   "source": [
    "# Remove empty space\n",
    "for i,ii in zip(data, range(len(data))):\n",
    "    x = list(filter(('').__ne__, i))\n",
    "    data[ii] = x"
   ]
  },
  {
   "cell_type": "code",
   "execution_count": 16,
   "id": "8379e568-7689-4314-82c9-63c480c67525",
   "metadata": {
    "tags": []
   },
   "outputs": [],
   "source": [
    "# Convert lists to np.arrays\n",
    "for i,ii in zip(data, range(len(data))):\n",
    "    data[ii] = np.array(data[ii][2:])"
   ]
  },
  {
   "cell_type": "markdown",
   "id": "95aa3b97-85d4-41a0-b929-b1662f6570b8",
   "metadata": {},
   "source": [
    "## Getting the codon sequence:\n",
    "\n",
    "If get.sequence returns the entire sequence, then it should be fairly simple to just index it with the numbers returned by get_cds stop and end so that I only have to look at the coding regions... Now how am I going to read through this such that each codon gets its own little name? "
   ]
  },
  {
   "cell_type": "markdown",
   "id": "53362441-bc40-4e3d-b09a-e6044c9c48f7",
   "metadata": {},
   "source": [
    "Perhaps I should consider trying to run biopython in such a way that I do not have to save it into it's own dictionary like this."
   ]
  },
  {
   "cell_type": "code",
   "execution_count": 17,
   "id": "f2b35044-5170-43e0-998b-235c6f21640f",
   "metadata": {},
   "outputs": [],
   "source": [
    "genome = SeqIO.to_dict(SeqIO.parse(\n",
    "    open(data_path + \"Drosophila_melanogaster.BDGP6.32.cds.all.fa\"),\"fasta\"))\n",
    "# Using this cds file leads to everything being in "
   ]
  },
  {
   "cell_type": "code",
   "execution_count": 18,
   "id": "18044aa0-05d1-4ee0-9b98-d870a1fcbe4d",
   "metadata": {},
   "outputs": [],
   "source": [
    "cds_sequence=[]\n",
    "\n",
    "for transcript in protein_coding:\n",
    "    t_id = transcript.attr[\"transcript_id\"]\n",
    "    cds_sequence.append(str(genome[t_id].seq))"
   ]
  },
  {
   "cell_type": "code",
   "execution_count": 20,
   "id": "cf940f97-e9e2-4595-b9b8-74a0f53d7dd5",
   "metadata": {},
   "outputs": [],
   "source": [
    "cd_dict = {'TTT':0,'TTC':1,'TTG':2,'TTA':3,\n",
    "          'TCT':4,'TCC':5,'TCG':6,'TCA':7,\n",
    "          'TGT':8,'TGC':9,'TGG':10,'TGA':11,\n",
    "          'TAT':12,'TAC':13,'TAG':14,'TAA':15,\n",
    "          'CTT':16,'CTC':17,'CTG':18,'CTA':19,\n",
    "          'CCT':20,'CCC':21,'CCG':22,'CCA':23,\n",
    "          'CGT':24,'CGC':25,'CGG':26,'CGA':27,\n",
    "          'CAT':28,'CAC':29,'CAG':30,'CAA':31,\n",
    "          'GTT':32,'GTC':33,'GTG':34,'GTA':35,\n",
    "          'GCT':36,'GCC':37,'GCG':38,'GCA':39,\n",
    "          'GGT':40,'GGC':41,'GGG':42,'GGA':43,\n",
    "          'GAT':44,'GAC':45,'GAG':46,'GAA':47,\n",
    "          'ATT':48,'ATC':49,'ATG':50,'ATA':51,\n",
    "          'ACT':52,'ACC':53,'ACG':54,'ACA':55,\n",
    "          'AGT':56,'AGC':57,'AGG':58,'AGA':59,\n",
    "          'AAT':60,'AAC':61,'AAG':62,'AAA':63}"
   ]
  },
  {
   "cell_type": "code",
   "execution_count": 21,
   "id": "2e012ccd-2a6d-4c78-9d2f-ebb128ba4f18",
   "metadata": {
    "tags": []
   },
   "outputs": [],
   "source": [
    "codon_seq_list = []\n",
    "\n",
    "for seq in cds_sequence:\n",
    "    codon_seq = []\n",
    "    for i in range(0, len(seq), 3):\n",
    "        try:\n",
    "            codon_seq.append(cd_dict[seq[i:i+3]])\n",
    "        except:\n",
    "            pass\n",
    "    codon_seq_list.append(codon_seq)"
   ]
  },
  {
   "cell_type": "markdown",
   "id": "428d4432-cf02-4462-a438-21089aead347",
   "metadata": {},
   "source": [
    "ok... I think i need to use the except pass thing because some of the coding sequences is not quite a multiple of three. I need to change that try, except, pass so that it gives me information on the gene in questions whenever it comes up. "
   ]
  },
  {
   "cell_type": "markdown",
   "id": "08464ce2-4693-460c-8f61-1b15a53f82fd",
   "metadata": {},
   "source": [
    "## Alter the count vectors to look at the codons over the cds region."
   ]
  },
  {
   "cell_type": "code",
   "execution_count": 22,
   "id": "2f9e9e22-c2ca-4e8f-be3c-ad0469f29fed",
   "metadata": {},
   "outputs": [],
   "source": [
    "# Create a list that contains all of the gene_ids and transcript_ids of the transcripts\n",
    "gene_id = []\n",
    "transcript_id = []\n",
    "\n",
    "for transcript in protein_coding:\n",
    "    gene_id.append(transcript.attr[\"gene_name\"])\n",
    "    transcript_id.append(transcript.attr[\"transcript_id\"])"
   ]
  },
  {
   "cell_type": "code",
   "execution_count": 23,
   "id": "6c166fb0-e408-485b-92b0-da1572a8d56c",
   "metadata": {},
   "outputs": [],
   "source": [
    "# Convert the count lists from nucleotide resolution to codon resolution\n",
    "codon_counts = []\n",
    "\n",
    "for i in data:\n",
    "    codon_counts.append(np.add.reduceat(i, np.arange(0, len(i),3)))"
   ]
  },
  {
   "cell_type": "markdown",
   "id": "e5feaf8e-eb9f-4c1b-9e73-e310e35330ad",
   "metadata": {
    "tags": []
   },
   "source": [
    "## Calculating Elongation rates"
   ]
  },
  {
   "cell_type": "code",
   "execution_count": 55,
   "id": "6b8a6ff2-b4bc-48f8-b8d1-0be4f8f960de",
   "metadata": {},
   "outputs": [],
   "source": [
    "save_path = \"/Users/keeganflanagan/Desktop/Khanh_position/Eggtart/\""
   ]
  },
  {
   "cell_type": "code",
   "execution_count": 117,
   "id": "f356c989-9dfb-4e72-93ad-ba9187e851b9",
   "metadata": {},
   "outputs": [],
   "source": [
    "# Choosing a gene of interest to calculate the elongation rates of. \n",
    "#Get the transcript and vector for the gene of interest\n",
    "my_transcript, my_vector, index = find_transcript(\"lost\", \n",
    "                                           protein_coding, codon_counts)"
   ]
  },
  {
   "cell_type": "code",
   "execution_count": 118,
   "id": "f69b9836-3d5f-4b13-9c06-beb924a7bbde",
   "metadata": {},
   "outputs": [],
   "source": [
    "# Add one to every point in my vector to create a new baseline\n",
    "my_vector = my_vector+1"
   ]
  },
  {
   "cell_type": "code",
   "execution_count": 119,
   "id": "d640d206-9a7f-4310-973b-307f95fbcbc4",
   "metadata": {},
   "outputs": [],
   "source": [
    "# calculate the normalized profile (p) of my vector of interest\n",
    "\n",
    "M = sum(my_vector)\n",
    "p = my_vector/M"
   ]
  },
  {
   "cell_type": "code",
   "execution_count": 89,
   "id": "d18c1844-f5fc-465f-b9d3-92fbefb3aa4f",
   "metadata": {},
   "outputs": [],
   "source": [
    "# Calculate the smoothed density vector pbar for xth entry with length n-9\n",
    "x=0\n",
    "pbar=[]\n",
    "for px in p:\n",
    "    pbar_x = 0.1*sum(p[x:x+10]) #it is x+10 not x+9 because python does not include the final index.\n",
    "    pbar.append(pbar_x)\n",
    "    x = x+1\n",
    "    if x  == len(p)-9:\n",
    "        break\n",
    "pbar = np.array(pbar)"
   ]
  },
  {
   "cell_type": "code",
   "execution_count": 90,
   "id": "d39287e5-0014-4ea2-aa9b-020856c43f67",
   "metadata": {},
   "outputs": [],
   "source": [
    "# calculate the smoothed, scaled elongation rate lambda bar \n",
    "lbar = []\n",
    "for pbarx in pbar:\n",
    "    lbar_x = (1-9*pbarx)/(pbarx*(1-pbarx))\n",
    "    lbar.append(lbar_x)\n",
    "lbar = np.array(lbar)"
   ]
  },
  {
   "cell_type": "code",
   "execution_count": 91,
   "id": "de24c55a-82cc-4c65-b28c-1710c87c801a",
   "metadata": {},
   "outputs": [],
   "source": [
    "# Calculate the scaled elongation and initiation rates\n",
    "sc_init = 1/(1-10*pbar[0])\n",
    "\n",
    "sc_term = 1/(p[-1])"
   ]
  },
  {
   "cell_type": "markdown",
   "id": "b0b2761f-41c2-4152-ad5e-17b85b69f727",
   "metadata": {},
   "source": [
    "## Deconvolution \n",
    "Ok, lets just try to create A. So I have my list of lambda... have you even considered that perhaps the fact that it is lambda bar and not lambda prime is not a mistake? \n",
    "\n",
    "nvm, so I have a list of codons, and if I read through those codons in batches of ten along the codon sequence I will get 10* lambda prime. So, for each lambda prime, I need to know...\n",
    "ok wait. The thing I do not know is the thing in the center which is what I am deconvolving for. So I have my list of lambdas b just like I used to do it, and then I have a matrix that, for each set of 10 codons along the entire sequence, says wether or not the codon appears in that set of 10. \n",
    "\n",
    "#### Questions:\n",
    "If a certain codon shows up more than once in a set of 10 codons, then should we count that codon twice? Like, are there any 2s in this matrix? Some As have more \n",
    "\n",
    "Bigger questions, does the order these are in matter? I guess they do because it will effect the order that B is in, but still it feels a bit arbitrary... maybe it is a bit arbitrary."
   ]
  },
  {
   "cell_type": "code",
   "execution_count": 92,
   "id": "fa2b0291-20ff-49db-935a-58d5f9b699a9",
   "metadata": {},
   "outputs": [],
   "source": [
    "A = np.zeros((len(lbar),64))"
   ]
  },
  {
   "cell_type": "code",
   "execution_count": 95,
   "id": "e2de019c-773c-4217-ac6c-303e0aba108f",
   "metadata": {
    "tags": []
   },
   "outputs": [],
   "source": [
    "for row, i in zip(A, range(len(A))):\n",
    "    set_of_10 = codon_seq_list[index][i:i+10]\n",
    "    for j in set_of_10:\n",
    "        row[j] = 1"
   ]
  },
  {
   "cell_type": "code",
   "execution_count": 96,
   "id": "8c86d12b-68f0-4ecd-a6a1-392f19767bdb",
   "metadata": {},
   "outputs": [],
   "source": [
    "b = 10*lbar"
   ]
  },
  {
   "cell_type": "code",
   "execution_count": 128,
   "id": "34753c74-e96d-49b8-b3e8-6eb73d3f003e",
   "metadata": {},
   "outputs": [],
   "source": [
    "ls_result = lsqr(A,b)"
   ]
  },
  {
   "cell_type": "code",
   "execution_count": 129,
   "id": "840c8787-e89c-4c57-99d8-dbb6b2a97720",
   "metadata": {},
   "outputs": [
    {
     "data": {
      "text/plain": [
       "(array([ 1.30159519e+03,  2.38461499e+03,  1.01984992e+03, -2.24910561e+02,\n",
       "        -1.41067392e+03, -4.63234440e+02,  1.25076235e+03,  4.58053671e+02,\n",
       "        -1.59506495e+03,  2.10567017e+03,  2.29973057e+03,  0.00000000e+00,\n",
       "         0.00000000e+00,  1.27449601e+03,  4.36914629e+03,  0.00000000e+00,\n",
       "         1.22111419e+03, -1.03356646e+03, -3.30558437e+02,  7.32600554e+02,\n",
       "        -5.37361536e+03,  7.91759932e+02, -1.20384662e-01, -2.13497450e+03,\n",
       "         1.64765412e+03, -3.26064073e+02,  1.42935620e+03,  3.41115452e+03,\n",
       "         1.64657501e+03, -1.06353456e+03,  3.36995329e+03,  8.70839885e+02,\n",
       "         3.13813972e+03,  4.25034695e+02,  2.22854069e+03,  2.82367926e+01,\n",
       "         9.92227389e+02,  3.45191077e+03,  1.44444304e+03,  1.95130449e+03,\n",
       "        -5.29539814e+02, -3.14655294e+02, -8.27879750e+02,  4.45207998e+02,\n",
       "         3.69502673e+02,  8.50124659e+02,  1.20594846e+03,  1.51488967e+02,\n",
       "         2.54964586e+03,  1.34515073e+03, -1.50609036e+03,  1.42265389e+03,\n",
       "         2.38891150e+02, -1.48444205e+03,  6.16843470e+01, -1.42464543e+01,\n",
       "        -1.82255654e+03,  7.88994973e+02,  1.05161558e+03,  2.90646238e+03,\n",
       "        -1.05890029e+02,  2.36676167e+03,  1.64526888e+03,  7.26630829e+02]),\n",
       " 2,\n",
       " 54,\n",
       " 62303.19318196492,\n",
       " 62303.19318196492,\n",
       " 98.46609937593261,\n",
       " 154.06675576144144,\n",
       " 0.03989403097605347,\n",
       " 13775.193331741899,\n",
       " array([0., 0., 0., 0., 0., 0., 0., 0., 0., 0., 0., 0., 0., 0., 0., 0., 0.,\n",
       "        0., 0., 0., 0., 0., 0., 0., 0., 0., 0., 0., 0., 0., 0., 0., 0., 0.,\n",
       "        0., 0., 0., 0., 0., 0., 0., 0., 0., 0., 0., 0., 0., 0., 0., 0., 0.,\n",
       "        0., 0., 0., 0., 0., 0., 0., 0., 0., 0., 0., 0., 0.]))"
      ]
     },
     "execution_count": 129,
     "metadata": {},
     "output_type": "execute_result"
    }
   ],
   "source": [
    "ls_result"
   ]
  },
  {
   "cell_type": "code",
   "execution_count": 130,
   "id": "12762302-2a02-41e9-aff2-81b8543002c8",
   "metadata": {},
   "outputs": [],
   "source": [
    "Ci = ls_result[0]"
   ]
  },
  {
   "cell_type": "code",
   "execution_count": 131,
   "id": "8a7b4503-472a-4b28-a31a-444f001299ba",
   "metadata": {},
   "outputs": [],
   "source": [
    "tau = Ci.mean()\n",
    "prod_r = 1/tau"
   ]
  },
  {
   "cell_type": "code",
   "execution_count": 132,
   "id": "299d8dd5-c5ee-4c6e-9e3f-dd9d140d7a49",
   "metadata": {},
   "outputs": [],
   "source": [
    "# Computing the unscaled rates\n",
    "elongation = lbar/tau\n",
    "termination = sc_term # This makes no sense, it always ends up being huge... maybe it is just len(p)/M?\n",
    "initiation = sc_init/tau"
   ]
  },
  {
   "cell_type": "code",
   "execution_count": 133,
   "id": "e6170e53-f4d5-447b-9d55-c77c9a0fe594",
   "metadata": {},
   "outputs": [],
   "source": [
    "with open(save_path + 'lost_gene_test2.csv', 'w', newline='') as f:\n",
    "    writer = csv.writer(f)\n",
    "    writer.writerows(np.atleast_2d(elongation).T)"
   ]
  },
  {
   "cell_type": "code",
   "execution_count": 126,
   "id": "8c84f01d-f413-4eb3-b05f-f530b6eae96a",
   "metadata": {},
   "outputs": [
    {
     "data": {
      "text/plain": [
       "1.0069879518072289"
      ]
     },
     "execution_count": 126,
     "metadata": {},
     "output_type": "execute_result"
    }
   ],
   "source": [
    "sc_init"
   ]
  },
  {
   "cell_type": "code",
   "execution_count": 75,
   "id": "25dd75d3-0741-46c6-85c2-d16cd43b4e2b",
   "metadata": {},
   "outputs": [
    {
     "data": {
      "text/plain": [
       "Text(0, 0.5, 'Ribosome counts')"
      ]
     },
     "execution_count": 75,
     "metadata": {},
     "output_type": "execute_result"
    },
    {
     "data": {
      "image/png": "[encoded data removed]",
      "text/plain": [
       "<Figure size 432x288 with 1 Axes>"
      ]
     },
     "metadata": {
      "needs_background": "light"
     },
     "output_type": "display_data"
    }
   ],
   "source": [
    "# 30-codon sliding window average\n",
    "window = np.ones(90).astype(float)/90.0\n",
    "sliding_window_avg = np.convolve(my_vector,window,mode=\"valid\")\n",
    "\n",
    "\n",
    "# plot\n",
    "%matplotlib inline\n",
    "import matplotlib.pyplot as plt\n",
    "\n",
    "plt.plot(my_vector,label=\"%s counts\" % my_transcript.get_name())\n",
    "plt.plot(sliding_window_avg,label=\"30 codon average\")\n",
    "plt.xlabel(\"Position in transcript (5' to 3')\")\n",
    "plt.ylabel(\"Ribosome counts\")\n",
    "\n",
    "# add outlines at start & stop codons\n",
    "#plt.axvline(my_transcript.cds_start,color=\"#999999\",dashes=[3,2],zorder=-1)\n",
    "#plt.axvline(my_transcript.cds_end,color=\"#999999\",dashes=[3,2],zorder=-1)"
   ]
  },
  {
   "cell_type": "code",
   "execution_count": null,
   "id": "e37683d7-592e-4b5e-aed2-4253b9bfb1f5",
   "metadata": {},
   "outputs": [],
   "source": []
  }
 ],
 "metadata": {
  "kernelspec": {
   "display_name": "Python 3 (ipykernel)",
   "language": "python",
   "name": "python3"
  },
  "language_info": {
   "codemirror_mode": {
    "name": "ipython",
    "version": 3
   },
   "file_extension": ".py",
   "mimetype": "text/x-python",
   "name": "python",
   "nbconvert_exporter": "python",
   "pygments_lexer": "ipython3",
   "version": "3.8.10"
  }
 },
 "nbformat": 4,
 "nbformat_minor": 5
}
