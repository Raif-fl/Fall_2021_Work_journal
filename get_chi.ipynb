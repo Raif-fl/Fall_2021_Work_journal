{
 "cells": [
  {
   "cell_type": "code",
   "execution_count": null,
   "id": "3f5484df-e9b8-45bf-a202-ee679d4591f3",
   "metadata": {},
   "outputs": [],
   "source": []
  },
  {
   "cell_type": "code",
   "execution_count": 51,
   "id": "53a9ac8b-ca8f-4841-b216-70be6d29bd79",
   "metadata": {},
   "outputs": [],
   "source": [
    "import sys\n",
    "sys.path.append('/home/keeganfl/Desktop/Work_Fall_2021/Fall_2021_Work_journal/tools/')"
   ]
  },
  {
   "cell_type": "code",
   "execution_count": 52,
   "id": "8e4c3877-b81f-4714-a73b-55332277fe7e",
   "metadata": {},
   "outputs": [],
   "source": [
    "# import plastid\n",
    "# data structure for mapping read alignments to genomic positions\n",
    "from plastid import BAMGenomeArray, VariableFivePrimeMapFactory, \\\n",
    "                        GTF2_TranscriptAssembler, GFF3_TranscriptAssembler, \\\n",
    "                        Transcript, ThreePrimeMapFactory\n",
    "import numpy as np\n",
    "import os\n",
    "from Bio import SeqIO\n",
    "import numpy\n",
    "import math\n",
    "import pandas as pd\n",
    "from scipy import stats\n",
    "import keegan_analysis_tools as kat\n",
    "from statsmodels.nonparametric.smoothers_lowess import lowess\n",
    "import warnings\n",
    "import matplotlib.pyplot as plt\n",
    "%matplotlib inline\n",
    "import csv\n",
    "from scipy.sparse.linalg import lsqr"
   ]
  },
  {
   "cell_type": "code",
   "execution_count": 53,
   "id": "69728d01-76cc-4ea9-ab4f-256239458f2c",
   "metadata": {},
   "outputs": [],
   "source": [
    "# Define the variables for the notebook\n",
    "data_path = '/home/keeganfl/Desktop/Work_Fall_2021/genomes_&_samples/dmel/'\n",
    "te_table_path = '/home/keeganfl/Desktop/Work_Fall_2021/data_tables/TE_tables/dmel/'\n",
    "ribo_count_path = '/home/keeganfl/Desktop/Work_Fall_2021/'\n",
    "gtf_name = 'Drosophila_melanogaster.BDGP6.32.103.gtf'\n",
    "mutation = \"Fmr1\"\n",
    "samp_num = \"2\""
   ]
  },
  {
   "cell_type": "code",
   "execution_count": 90,
   "id": "48ab1a9c-8a42-4386-a1aa-f39aca0eb51c",
   "metadata": {},
   "outputs": [],
   "source": [
    "te_table = pd.read_csv(te_table_path + \"control_2_te_table.csv\")"
   ]
  },
  {
   "cell_type": "code",
   "execution_count": 91,
   "id": "debc890a-40b8-41c3-9c29-065e2fedda0d",
   "metadata": {},
   "outputs": [],
   "source": [
    "ribo_count = pd.read_csv(ribo_count_path + \"ribosomes_per_gene.csv\")"
   ]
  },
  {
   "cell_type": "code",
   "execution_count": 92,
   "id": "030de5d8-50ce-4266-87a5-cd5bb7e0e01a",
   "metadata": {},
   "outputs": [],
   "source": [
    "df = pd.merge(ribo_count, te_table, how = \"inner\", right_on = \"gene_ID\", left_on = \"Gene\")"
   ]
  },
  {
   "cell_type": "code",
   "execution_count": 93,
   "id": "c5953175-0659-445b-8602-500a8ad38a16",
   "metadata": {},
   "outputs": [],
   "source": [
    "cols = [\"Gene\", \"# ribosomes\",\"TE_tpm\",\"TE_rpkm\", \"RNA-seq_lengths\"]\n",
    "df = df[cols]"
   ]
  },
  {
   "cell_type": "code",
   "execution_count": 94,
   "id": "d40be44a-f63b-4606-8929-b225999f308d",
   "metadata": {},
   "outputs": [],
   "source": [
    "df[\"ribo_density\"] = df[\"# ribosomes\"]/(df[\"RNA-seq_lengths\"]/1000)"
   ]
  },
  {
   "cell_type": "code",
   "execution_count": 95,
   "id": "63a1384d-222b-48c4-bcf9-4f3db39c986e",
   "metadata": {},
   "outputs": [],
   "source": [
    "df = df[df[\"TE_rpkm\"] <= 20]\n",
    "df = df[df[\"TE_rpkm\"] >= 0]"
   ]
  },
  {
   "cell_type": "code",
   "execution_count": 96,
   "id": "85e83154-105d-4100-b17c-ba81c9c6092e",
   "metadata": {},
   "outputs": [],
   "source": [
    "m,b=np.polyfit(df[\"TE_rpkm\"], df[\"ribo_density\"],1)"
   ]
  },
  {
   "cell_type": "code",
   "execution_count": 97,
   "id": "f914f941-c0d6-4b10-b38f-6d20406e1a46",
   "metadata": {},
   "outputs": [
    {
     "data": {
      "text/plain": [
       "[<matplotlib.lines.Line2D at 0x7f8e94b03d00>]"
      ]
     },
     "execution_count": 97,
     "metadata": {},
     "output_type": "execute_result"
    },
    {
     "data": {
      "image/png": "[encoded data removed]",
      "text/plain": [
       "<Figure size 432x288 with 1 Axes>"
      ]
     },
     "metadata": {
      "needs_background": "light"
     },
     "output_type": "display_data"
    }
   ],
   "source": [
    "plt.scatter(df[\"TE_rpkm\"], df[\"ribo_density\"])\n",
    "plt.plot(df[\"TE_rpkm\"], m*df[\"TE_rpkm\"] + b)"
   ]
  },
  {
   "cell_type": "code",
   "execution_count": 98,
   "id": "3c32fd14-9ba6-475c-9f58-dd791590ba92",
   "metadata": {},
   "outputs": [
    {
     "data": {
      "text/plain": [
       "0.0783203477923495"
      ]
     },
     "execution_count": 98,
     "metadata": {},
     "output_type": "execute_result"
    }
   ],
   "source": [
    "m"
   ]
  },
  {
   "cell_type": "code",
   "execution_count": null,
   "id": "3ab486fc-1641-43c9-94b8-86460a34b8c2",
   "metadata": {},
   "outputs": [],
   "source": []
  }
 ],
 "metadata": {
  "kernelspec": {
   "display_name": "Python 3 (ipykernel)",
   "language": "python",
   "name": "python3"
  },
  "language_info": {
   "codemirror_mode": {
    "name": "ipython",
    "version": 3
   },
   "file_extension": ".py",
   "mimetype": "text/x-python",
   "name": "python",
   "nbconvert_exporter": "python",
   "pygments_lexer": "ipython3",
   "version": "3.8.12"
  }
 },
 "nbformat": 4,
 "nbformat_minor": 5
}
