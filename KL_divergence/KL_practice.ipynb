{
 "cells": [
  {
   "cell_type": "markdown",
   "id": "6e408440-b313-4d46-91d4-b77e357ccca8",
   "metadata": {
    "tags": []
   },
   "source": [
    "## Loading up packages"
   ]
  },
  {
   "cell_type": "code",
   "execution_count": 1,
   "id": "4cd64c72-d747-40a8-8e63-5937cffa80e0",
   "metadata": {},
   "outputs": [],
   "source": [
    "import sys\n",
    "sys.path.append('/home/keeganfl/Desktop/Work_Fall_2021/Fall_2021_Work_journal/tools/')"
   ]
  },
  {
   "cell_type": "code",
   "execution_count": 2,
   "id": "b06a3ae6-64af-4b97-9b1b-f755e3a1f21e",
   "metadata": {},
   "outputs": [],
   "source": [
    "# import plastid\n",
    "# data structure for mapping read alignments to genomic positions\n",
    "from plastid import BAMGenomeArray, VariableFivePrimeMapFactory, \\\n",
    "                        GTF2_TranscriptAssembler, GFF3_TranscriptAssembler, \\\n",
    "                        Transcript, ThreePrimeMapFactory\n",
    "import numpy as np\n",
    "import os\n",
    "from Bio import SeqIO\n",
    "import copy\n",
    "import numpy\n",
    "import csv\n",
    "import math\n",
    "import pandas as pd\n",
    "from scipy import stats\n",
    "from scipy.stats import kstwo\n",
    "import keegan_analysis_tools as kat\n",
    "from statsmodels.nonparametric.smoothers_lowess import lowess\n",
    "import warnings\n",
    "import matplotlib.pyplot as plt\n",
    "%matplotlib inline\n",
    "import csv\n",
    "from scipy.sparse.linalg import lsqr"
   ]
  },
  {
   "cell_type": "code",
   "execution_count": 207,
   "id": "520dde04-192e-40eb-abd6-bcf8945be302",
   "metadata": {},
   "outputs": [],
   "source": [
    "# Define the path to our Bam files\n",
    "data_path = '/home/keeganfl/Desktop/Work_Fall_2021/genomes_&_samples/ecol/'\n",
    "csv_path = '/home/keeganfl/Desktop/Work_Fall_2021/data_tables/position_counts/ecol/'\n",
    "elon_path = '/home/keeganfl/Desktop/Work_Fall_2021/data_tables/elongation_rates/ecol/'\n",
    "save_path = '/home/keeganfl/Desktop/Work_Fall_2021/data_tables/KS_stats/ecol/'\n",
    "gtf_name = 'Escherichia_coli_str_k_12_substr_mg1655_gca_000005845.ASM584v2.51.gtf'\n",
    "mutation = 'efp'\n",
    "my_gene = \"rpoB\"\n",
    "samp_num = '1'\n",
    "#if os.path.isfile(save_path + \"ks_table_\" + samp_num + \".csv\") == True:\n",
    "#    pre_load = True\n",
    "#else:\n",
    "#    pre_load = False"
   ]
  },
  {
   "cell_type": "markdown",
   "id": "317e0842-8c47-4604-b125-f54e977d2a15",
   "metadata": {
    "tags": []
   },
   "source": [
    "## Loading up the data files "
   ]
  },
  {
   "cell_type": "code",
   "execution_count": 61,
   "id": "a3cb49ce-aa57-4c72-bba1-03668417a677",
   "metadata": {
    "tags": []
   },
   "outputs": [],
   "source": [
    "# load the transcript annotations from the GTF file.\n",
    "# GTF2_TranscriptAssembler returns an iterator, so here we convert it to a list.\n",
    "transcripts = list(GTF2_TranscriptAssembler(open(data_path + gtf_name),return_type=Transcript))"
   ]
  },
  {
   "cell_type": "code",
   "execution_count": 62,
   "id": "8ff2719c-9399-45f7-9795-a2b35dffb93c",
   "metadata": {
    "tags": []
   },
   "outputs": [],
   "source": [
    "# Remove non-protein coding transcripts from transcripts list. \n",
    "protein_coding = []\n",
    "for transcript in transcripts:\n",
    "    if transcript.attr['gene_biotype'] == 'protein_coding':\n",
    "        protein_coding.append(transcript)"
   ]
  },
  {
   "cell_type": "code",
   "execution_count": 63,
   "id": "4eded6ff-5889-43f0-a562-7571d6328f0e",
   "metadata": {},
   "outputs": [],
   "source": [
    "# clear up some memory by deleting original transcript list\n",
    "transcripts.clear()"
   ]
  },
  {
   "cell_type": "markdown",
   "id": "188b5eed-3e10-4116-a947-95b8b16cb606",
   "metadata": {
    "tags": []
   },
   "source": [
    "## Loading up the csv file."
   ]
  },
  {
   "cell_type": "code",
   "execution_count": 142,
   "id": "35674258-b36c-46b5-aefc-1774a8f40cfa",
   "metadata": {},
   "outputs": [],
   "source": [
    "data_mutant = kat.load_count_positions(mutation+\"_RPF_\"+samp_num+\"_counts.csv\",csv_path)\n",
    "data_control = kat.load_count_positions(\"control_RPF_\"+ samp_num +\"_counts.csv\",csv_path)"
   ]
  },
  {
   "cell_type": "markdown",
   "id": "63d5dc44-16ff-4bc1-b624-50a6c20ceaa2",
   "metadata": {},
   "source": [
    "## Running the KL divergence on some basic data. "
   ]
  },
  {
   "cell_type": "code",
   "execution_count": 208,
   "id": "e2922844-f7c6-42a1-938e-b107db39435b",
   "metadata": {},
   "outputs": [],
   "source": [
    "my_transcript, tr_m, tr_c, index = kat.find_transcripts(my_gene, protein_coding, data_mutant, data_control, )\n",
    "position = np.array(list(range(len(tr_m))))"
   ]
  },
  {
   "cell_type": "code",
   "execution_count": 209,
   "id": "e3461da7-9611-4962-b389-1958abc8a37a",
   "metadata": {},
   "outputs": [],
   "source": [
    "smoothed_vec_m, cumul_m = kat.get_smoothed_vector(position, tr_m+0.00000000001)\n",
    "smoothed_vec_c, cumul_c = kat.get_smoothed_vector(position, tr_c+0.00000000001)"
   ]
  },
  {
   "cell_type": "code",
   "execution_count": 210,
   "id": "14231ce1-8ec0-4313-b771-2e59400a9c5b",
   "metadata": {},
   "outputs": [],
   "source": [
    "for d, i in zip(smoothed_vec_m, list(range(len(smoothed_vec_m)))):\n",
    "    if d < 0:\n",
    "        smoothed_vec_m[i] = 0.000000000000000000001"
   ]
  },
  {
   "cell_type": "code",
   "execution_count": 211,
   "id": "33c2e1eb-14fa-4d70-9963-f61b85ece17e",
   "metadata": {},
   "outputs": [],
   "source": [
    "for d, i in zip(smoothed_vec_c, list(range(len(smoothed_vec_c)))):\n",
    "    if d < 0:\n",
    "        smoothed_vec_c[i] = 0.000000000000000000001"
   ]
  },
  {
   "cell_type": "code",
   "execution_count": 212,
   "id": "3382cf36-9074-482a-9225-fb82f1fba554",
   "metadata": {},
   "outputs": [
    {
     "name": "stdout",
     "output_type": "stream",
     "text": [
      "0.7752796240788413\n"
     ]
    }
   ],
   "source": [
    "def KL(a, b):\n",
    "    a = np.asarray(a, dtype=float)\n",
    "    b = np.asarray(b, dtype=float)\n",
    "\n",
    "    return np.sum(np.where(a != 0, a * np.log(a / b), 0))\n",
    "\n",
    "\n",
    "values1 = [1.346112,1.337432,1.246655]\n",
    "values2 = [1.033836,1.082015,1.117323]\n",
    "\n",
    "print(KL(values1, values2))"
   ]
  },
  {
   "cell_type": "code",
   "execution_count": 213,
   "id": "8fac4630-ec93-48a7-b2fa-ab912ff16954",
   "metadata": {},
   "outputs": [
    {
     "data": {
      "text/plain": [
       "<matplotlib.legend.Legend at 0x7fa620c3feb0>"
      ]
     },
     "execution_count": 213,
     "metadata": {},
     "output_type": "execute_result"
    },
    {
     "data": {
      "image/png": "[encoded data removed]",
      "text/plain": [
       "<Figure size 432x288 with 1 Axes>"
      ]
     },
     "metadata": {
      "needs_background": "light"
     },
     "output_type": "display_data"
    }
   ],
   "source": [
    "plt.plot(smoothed_vec_m, label = \"Fmr1-1\")\n",
    "#plt.plot(my_vec_mutant/sum(my_vec_mutant))\n",
    "plt.plot(smoothed_vec_c, label = \"wt\")\n",
    "plt.ylabel(\"Read Density\")\n",
    "plt.xlabel(\"Transcript Position\")\n",
    "plt.title(\"Smoothed and normalized count vectors\")\n",
    "plt.legend()"
   ]
  },
  {
   "cell_type": "code",
   "execution_count": 214,
   "id": "c5857d1f-6928-4834-b0c8-d853c3d90b1a",
   "metadata": {},
   "outputs": [
    {
     "data": {
      "text/plain": [
       "0.3171715992063264"
      ]
     },
     "execution_count": 214,
     "metadata": {},
     "output_type": "execute_result"
    }
   ],
   "source": [
    "KL(smoothed_vec_m, smoothed_vec_c)"
   ]
  },
  {
   "cell_type": "code",
   "execution_count": 215,
   "id": "24e75fca-d1db-4fb9-b441-12c3ad4b9f18",
   "metadata": {},
   "outputs": [
    {
     "data": {
      "text/plain": [
       "0.31801704976118494"
      ]
     },
     "execution_count": 215,
     "metadata": {},
     "output_type": "execute_result"
    }
   ],
   "source": [
    "stats.entropy(smoothed_vec_m, smoothed_vec_c)"
   ]
  },
  {
   "cell_type": "markdown",
   "id": "386c8233-8f98-4518-8759-2aacabd1da4e",
   "metadata": {},
   "source": [
    "Hmmmm, I do not know why lowess smoothing occasionally returns negative values. The negative values are very low and very rare but they do occur. "
   ]
  },
  {
   "cell_type": "code",
   "execution_count": 216,
   "id": "e4d005c8-c5c7-4e81-834b-c7ad9314fe7a",
   "metadata": {},
   "outputs": [],
   "source": [
    "for i in smoothed_vec_m:\n",
    "    if i == 0.000000000000000000001:\n",
    "        print(i)"
   ]
  }
 ],
 "metadata": {
  "kernelspec": {
   "display_name": "Python 3 (ipykernel)",
   "language": "python",
   "name": "python3"
  },
  "language_info": {
   "codemirror_mode": {
    "name": "ipython",
    "version": 3
   },
   "file_extension": ".py",
   "mimetype": "text/x-python",
   "name": "python",
   "nbconvert_exporter": "python",
   "pygments_lexer": "ipython3",
   "version": "3.8.12"
  }
 },
 "nbformat": 4,
 "nbformat_minor": 5
}
