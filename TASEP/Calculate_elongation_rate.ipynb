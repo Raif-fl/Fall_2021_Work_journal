{
 "cells": [
  {
   "cell_type": "markdown",
   "id": "05b1a7d4-8ede-4530-8784-598021ff19b7",
   "metadata": {
    "tags": []
   },
   "source": [
    "## Loading up packages"
   ]
  },
  {
   "cell_type": "code",
   "execution_count": 338,
   "id": "31ffa621-0bea-46de-a2b1-b7e6cff82372",
   "metadata": {},
   "outputs": [],
   "source": [
    "import sys\n",
    "sys.path.append('/home/keeganfl/Desktop/Work_Fall_2021/Fall_2021_Work_journal/tools/')"
   ]
  },
  {
   "cell_type": "code",
   "execution_count": 339,
   "id": "575f991d-45a5-437b-aae5-487a855e4948",
   "metadata": {},
   "outputs": [],
   "source": [
    "# import plastid\n",
    "# data structure for mapping read alignments to genomic positions\n",
    "from plastid import BAMGenomeArray, GenomeArray, VariableFivePrimeMapFactory, \\\n",
    "                        GTF2_TranscriptAssembler, GFF3_TranscriptAssembler, \\\n",
    "                        Transcript, ThreePrimeMapFactory, CenterMapFactory\n",
    "import plastid\n",
    "from plastid.plotting.plots import *\n",
    "import numpy as np\n",
    "import os\n",
    "from Bio import SeqIO\n",
    "import numpy\n",
    "import math\n",
    "import pandas as pd\n",
    "from scipy import stats\n",
    "import keegan_analysis_tools as kat\n",
    "from statsmodels.nonparametric.smoothers_lowess import lowess\n",
    "import warnings\n",
    "import matplotlib.pyplot as plt\n",
    "%matplotlib inline\n",
    "import csv\n",
    "from scipy.sparse.linalg import lsqr"
   ]
  },
  {
   "cell_type": "code",
   "execution_count": 340,
   "id": "26019a05-e6e3-4a60-847d-88ca6c65eced",
   "metadata": {},
   "outputs": [],
   "source": [
    "# Define the path to our Bam files\n",
    "data_path = \"/home/keeganfl/Desktop/Work_Fall_2021/genomes_&_samples/ecol/\"\n",
    "csv_path = \"/home/keeganfl/Desktop/Work_Fall_2021/data_tables/position_counts/ecol/\"\n",
    "save_path = \"/home/keeganfl/Desktop/Work_Fall_2021/data_tables/elongation_rates/ecol/\"\n",
    "gtf_name = \"Escherichia_coli_str_k_12_substr_mg1655_gca_000005845.ASM584v2.51.gtf\"\n",
    "mutation = 'control'\n",
    "samp_num = '1'"
   ]
  },
  {
   "cell_type": "markdown",
   "id": "0020ce2d-6798-4126-b4a4-19b807e22235",
   "metadata": {
    "tags": []
   },
   "source": [
    "## Loading up the data files "
   ]
  },
  {
   "cell_type": "code",
   "execution_count": 341,
   "id": "2f5d7d49-3fd4-43f9-af60-b5606a01146b",
   "metadata": {
    "tags": []
   },
   "outputs": [],
   "source": [
    "# load the transcript annotations from the GTF file.\n",
    "# GTF2_TranscriptAssembler returns an iterator, so here we convert it to a list.\n",
    "transcripts = list(GTF2_TranscriptAssembler(open(data_path + gtf_name),return_type=Transcript))"
   ]
  },
  {
   "cell_type": "code",
   "execution_count": 342,
   "id": "b993adda-5136-4a43-b862-0b279a75da54",
   "metadata": {},
   "outputs": [],
   "source": [
    "# Remove non-protein coding transcripts from transcripts list. \n",
    "protein_coding = []\n",
    "for transcript in transcripts:\n",
    "    if transcript.attr['gene_biotype'] == 'protein_coding':\n",
    "        protein_coding.append(transcript)"
   ]
  },
  {
   "cell_type": "code",
   "execution_count": 343,
   "id": "bd341c37-774d-4d65-bccb-602680821fcd",
   "metadata": {},
   "outputs": [],
   "source": [
    "# clear up some memory by deleting original transcript list\n",
    "transcripts.clear()"
   ]
  },
  {
   "cell_type": "markdown",
   "id": "3964f9cb-c183-4a98-ab01-37334ceeade8",
   "metadata": {
    "tags": []
   },
   "source": [
    "# Loading up the csv file."
   ]
  },
  {
   "cell_type": "code",
   "execution_count": 344,
   "id": "5837a43c-99f0-4fe2-9727-4c805131f835",
   "metadata": {},
   "outputs": [],
   "source": [
    "data = kat.load_count_positions(mutation+\"_RPF_\"+samp_num+\"_counts.csv\",csv_path)"
   ]
  },
  {
   "cell_type": "markdown",
   "id": "95aa3b97-85d4-41a0-b929-b1662f6570b8",
   "metadata": {},
   "source": [
    "## Getting the codon sequence:\n",
    "\n",
    "If get.sequence returns the entire sequence, then it should be fairly simple to just index it with the numbers returned by get_cds stop and end so that I only have to look at the coding regions... Now how am I going to read through this such that each codon gets its own little name? "
   ]
  },
  {
   "cell_type": "markdown",
   "id": "53362441-bc40-4e3d-b09a-e6044c9c48f7",
   "metadata": {},
   "source": [
    "Perhaps I should consider trying to run biopython in such a way that I do not have to save it into it's own dictionary like this."
   ]
  },
  {
   "cell_type": "code",
   "execution_count": 345,
   "id": "f2b35044-5170-43e0-998b-235c6f21640f",
   "metadata": {},
   "outputs": [],
   "source": [
    "genome = SeqIO.to_dict(SeqIO.parse(\n",
    "    open(data_path + \"Escherichia_coli_str_k_12_substr_mg1655_gca_000005845.ASM584v2.cdna.all.fa\"),\"fasta\"))\n",
    "# Using this cds file leads to everything being in "
   ]
  },
  {
   "cell_type": "code",
   "execution_count": 346,
   "id": "18044aa0-05d1-4ee0-9b98-d870a1fcbe4d",
   "metadata": {},
   "outputs": [],
   "source": [
    "cds_sequence=[]\n",
    "\n",
    "for transcript in protein_coding:\n",
    "    t_id = transcript.attr[\"transcript_id\"]\n",
    "    cds_sequence.append(str(genome[t_id].seq))"
   ]
  },
  {
   "cell_type": "code",
   "execution_count": 347,
   "id": "cf940f97-e9e2-4595-b9b8-74a0f53d7dd5",
   "metadata": {},
   "outputs": [],
   "source": [
    "cd_dict = {'TTT':0,'TTC':1,'TTG':2,'TTA':3,\n",
    "          'TCT':4,'TCC':5,'TCG':6,'TCA':7,\n",
    "          'TGT':8,'TGC':9,'TGG':10,'TGA':11,\n",
    "          'TAT':12,'TAC':13,'TAG':14,'TAA':15,\n",
    "          'CTT':16,'CTC':17,'CTG':18,'CTA':19,\n",
    "          'CCT':20,'CCC':21,'CCG':22,'CCA':23,\n",
    "          'CGT':24,'CGC':25,'CGG':26,'CGA':27,\n",
    "          'CAT':28,'CAC':29,'CAG':30,'CAA':31,\n",
    "          'GTT':32,'GTC':33,'GTG':34,'GTA':35,\n",
    "          'GCT':36,'GCC':37,'GCG':38,'GCA':39,\n",
    "          'GGT':40,'GGC':41,'GGG':42,'GGA':43,\n",
    "          'GAT':44,'GAC':45,'GAG':46,'GAA':47,\n",
    "          'ATT':48,'ATC':49,'ATG':50,'ATA':51,\n",
    "          'ACT':52,'ACC':53,'ACG':54,'ACA':55,\n",
    "          'AGT':56,'AGC':57,'AGG':58,'AGA':59,\n",
    "          'AAT':60,'AAC':61,'AAG':62,'AAA':63}"
   ]
  },
  {
   "cell_type": "code",
   "execution_count": 348,
   "id": "2e012ccd-2a6d-4c78-9d2f-ebb128ba4f18",
   "metadata": {
    "tags": []
   },
   "outputs": [],
   "source": [
    "codon_seq_list = []\n",
    "\n",
    "for seq in cds_sequence:\n",
    "    codon_seq = []\n",
    "    for i in range(0, len(seq), 3):\n",
    "        try:\n",
    "            codon_seq.append(cd_dict[seq[i:i+3]])\n",
    "        except:\n",
    "            pass\n",
    "    codon_seq_list.append(codon_seq)"
   ]
  },
  {
   "cell_type": "markdown",
   "id": "428d4432-cf02-4462-a438-21089aead347",
   "metadata": {},
   "source": [
    "ok... I think i need to use the except pass thing because some of the coding sequences is not quite a multiple of three. I need to change that try, except, pass so that it gives me information on the gene in questions whenever it comes up. "
   ]
  },
  {
   "cell_type": "markdown",
   "id": "e5feaf8e-eb9f-4c1b-9e73-e310e35330ad",
   "metadata": {
    "tags": []
   },
   "source": [
    "## Calculating Elongation rates"
   ]
  },
  {
   "cell_type": "code",
   "execution_count": 369,
   "id": "f293a3ed-cac8-439d-a1eb-6e24eb63a981",
   "metadata": {},
   "outputs": [
    {
     "data": {
      "text/plain": [
       "4239"
      ]
     },
     "execution_count": 369,
     "metadata": {},
     "output_type": "execute_result"
    }
   ],
   "source": [
    "len(protein_coding)"
   ]
  },
  {
   "cell_type": "code",
   "execution_count": 351,
   "id": "f356c989-9dfb-4e72-93ad-ba9187e851b9",
   "metadata": {},
   "outputs": [],
   "source": [
    "# Choosing a gene of interest to calculate the elongation rates of. \n",
    "#Get the transcript and vector for the gene of interest\n",
    "my_gene = \"cysQ\"\n",
    "my_transcript, my_vector, index = kat.find_transcript(my_gene, \n",
    "                                           protein_coding, data)"
   ]
  },
  {
   "cell_type": "code",
   "execution_count": 352,
   "id": "f69b9836-3d5f-4b13-9c06-beb924a7bbde",
   "metadata": {},
   "outputs": [],
   "source": [
    "# Add one to every point in my vector to create a new baseline\n",
    "my_vector = my_vector+1"
   ]
  },
  {
   "cell_type": "code",
   "execution_count": 353,
   "id": "d640d206-9a7f-4310-973b-307f95fbcbc4",
   "metadata": {},
   "outputs": [],
   "source": [
    "# calculate the normalized profile (p) of my vector of interest\n",
    "\n",
    "M = sum(my_vector)\n",
    "p = my_vector/M"
   ]
  },
  {
   "cell_type": "code",
   "execution_count": 354,
   "id": "d18c1844-f5fc-465f-b9d3-92fbefb3aa4f",
   "metadata": {},
   "outputs": [],
   "source": [
    "# Calculate the smoothed density vector pbar for xth entry with length n-9\n",
    "x=0\n",
    "pbar=[]\n",
    "for px in p:\n",
    "    pbar_x = 0.1*sum(p[x:x+10]) #it is x+10 not x+9 because python does not include the final index.\n",
    "    pbar.append(pbar_x)\n",
    "    x = x+1\n",
    "    if x  == len(p)-9:\n",
    "        break\n",
    "pbar = np.array(pbar)"
   ]
  },
  {
   "cell_type": "code",
   "execution_count": 355,
   "id": "d39287e5-0014-4ea2-aa9b-020856c43f67",
   "metadata": {},
   "outputs": [],
   "source": [
    "# calculate the smoothed, scaled elongation rate lambda bar \n",
    "lbar = []\n",
    "for pbarx in pbar:\n",
    "    lbar_x = (1-9*pbarx)/(pbarx*(1-pbarx))\n",
    "    lbar.append(lbar_x)\n",
    "lbar = np.array(lbar)"
   ]
  },
  {
   "cell_type": "code",
   "execution_count": 356,
   "id": "de24c55a-82cc-4c65-b28c-1710c87c801a",
   "metadata": {},
   "outputs": [],
   "source": [
    "# Calculate the scaled elongation and initiation rates\n",
    "sc_init = 1/(1-10*pbar[0])\n",
    "\n",
    "sc_term = 1/(p[-1])"
   ]
  },
  {
   "cell_type": "code",
   "execution_count": 357,
   "id": "72bbcfc1-ae62-4c11-964f-89d57550b72e",
   "metadata": {},
   "outputs": [
    {
     "data": {
      "text/plain": [
       "Text(0.5, 0, \"Position in transcript (5' to 3')\")"
      ]
     },
     "execution_count": 357,
     "metadata": {},
     "output_type": "execute_result"
    },
    {
     "data": {
      "image/png": "[encoded data removed]",
      "text/plain": [
       "<Figure size 432x288 with 1 Axes>"
      ]
     },
     "metadata": {
      "needs_background": "light"
     },
     "output_type": "display_data"
    }
   ],
   "source": [
    "%matplotlib inline\n",
    "plt.plot(pbar)\n",
    "plt.ylabel('smoothed density')\n",
    "plt.xlabel(\"Position in transcript (5' to 3')\")"
   ]
  },
  {
   "cell_type": "markdown",
   "id": "b0b2761f-41c2-4152-ad5e-17b85b69f727",
   "metadata": {},
   "source": [
    "## Deconvolution \n",
    "Ok, lets just try to create A. So I have my list of lambda... have you even considered that perhaps the fact that it is lambda bar and not lambda prime is not a mistake? \n",
    "\n",
    "nvm, so I have a list of codons, and if I read through those codons in batches of ten along the codon sequence I will get 10* lambda prime. So, for each lambda prime, I need to know...\n",
    "ok wait. The thing I do not know is the thing in the center which is what I am deconvolving for. So I have my list of lambdas b just like I used to do it, and then I have a matrix that, for each set of 10 codons along the entire sequence, says wether or not the codon appears in that set of 10. \n",
    "\n",
    "#### Questions:\n",
    "If a certain codon shows up more than once in a set of 10 codons, then should we count that codon twice? Like, are there any 2s in this matrix? Some As have more \n",
    "\n",
    "Bigger questions, does the order these are in matter? I guess they do because it will effect the order that B is in, but still it feels a bit arbitrary... maybe it is a bit arbitrary."
   ]
  },
  {
   "cell_type": "code",
   "execution_count": 358,
   "id": "fa2b0291-20ff-49db-935a-58d5f9b699a9",
   "metadata": {},
   "outputs": [],
   "source": [
    "A = np.zeros((len(lbar),64))"
   ]
  },
  {
   "cell_type": "code",
   "execution_count": 359,
   "id": "e2de019c-773c-4217-ac6c-303e0aba108f",
   "metadata": {
    "tags": []
   },
   "outputs": [],
   "source": [
    "for row, i in zip(A, range(len(A))):\n",
    "    set_of_10 = codon_seq_list[index][i:i+10]\n",
    "    for j in set_of_10:\n",
    "        row[j] = 1"
   ]
  },
  {
   "cell_type": "code",
   "execution_count": 360,
   "id": "8c86d12b-68f0-4ecd-a6a1-392f19767bdb",
   "metadata": {},
   "outputs": [],
   "source": [
    "b = 10*lbar"
   ]
  },
  {
   "cell_type": "code",
   "execution_count": 361,
   "id": "34753c74-e96d-49b8-b3e8-6eb73d3f003e",
   "metadata": {},
   "outputs": [],
   "source": [
    "ls_result = lsqr(A,b)"
   ]
  },
  {
   "cell_type": "code",
   "execution_count": 362,
   "id": "12762302-2a02-41e9-aff2-81b8543002c8",
   "metadata": {},
   "outputs": [],
   "source": [
    "Ci = ls_result[0]"
   ]
  },
  {
   "cell_type": "code",
   "execution_count": 363,
   "id": "8a7b4503-472a-4b28-a31a-444f001299ba",
   "metadata": {},
   "outputs": [],
   "source": [
    "tau = Ci.mean()\n",
    "prod_r = 1/tau"
   ]
  },
  {
   "cell_type": "code",
   "execution_count": 364,
   "id": "299d8dd5-c5ee-4c6e-9e3f-dd9d140d7a49",
   "metadata": {},
   "outputs": [],
   "source": [
    "# Computing the unscaled rates\n",
    "elongation = lbar/tau\n",
    "termination = sc_term # This makes no sense, it always ends up being huge... maybe it is just len(p)/M?\n",
    "initiation = sc_init/tau"
   ]
  },
  {
   "cell_type": "code",
   "execution_count": 365,
   "id": "e6170e53-f4d5-447b-9d55-c77c9a0fe594",
   "metadata": {},
   "outputs": [],
   "source": [
    "with open(save_path + mutation + '_' + my_gene +'_'+ samp_num +'.csv', 'w', newline='') as f:\n",
    "    writer = csv.writer(f)\n",
    "    writer.writerows(np.atleast_2d(elongation).T)"
   ]
  },
  {
   "cell_type": "code",
   "execution_count": 366,
   "id": "25dd75d3-0741-46c6-85c2-d16cd43b4e2b",
   "metadata": {},
   "outputs": [
    {
     "data": {
      "text/plain": [
       "Text(0, 0.5, 'Ribosome counts')"
      ]
     },
     "execution_count": 366,
     "metadata": {},
     "output_type": "execute_result"
    },
    {
     "data": {
      "image/png": "[encoded data removed]",
      "text/plain": [
       "<Figure size 432x288 with 1 Axes>"
      ]
     },
     "metadata": {
      "needs_background": "light"
     },
     "output_type": "display_data"
    }
   ],
   "source": [
    "# 30-codon sliding window average\n",
    "window = np.ones(30).astype(float)/30.0\n",
    "sliding_window_avg = np.convolve(my_vector,window,mode=\"valid\")\n",
    "\n",
    "\n",
    "# plot\n",
    "%matplotlib inline\n",
    "import matplotlib.pyplot as plt\n",
    "\n",
    "plt.plot(my_vector,label=\"%s counts\" % my_transcript.get_name())\n",
    "plt.plot(sliding_window_avg,label=\"30 codon average\")\n",
    "plt.xlabel(\"Position in transcript (5' to 3')\")\n",
    "plt.ylabel(\"Ribosome counts\")\n",
    "\n",
    "# add outlines at start & stop codons\n",
    "#plt.axvline(my_transcript.cds_start,color=\"#999999\",dashes=[3,2],zorder=-1)\n",
    "#plt.axvline(my_transcript.cds_end,color=\"#999999\",dashes=[3,2],zorder=-1)"
   ]
  },
  {
   "cell_type": "code",
   "execution_count": null,
   "id": "19df409d-9dd0-4a00-b3c7-0ce28ae5f130",
   "metadata": {},
   "outputs": [],
   "source": []
  }
 ],
 "metadata": {
  "kernelspec": {
   "display_name": "Python 3 (ipykernel)",
   "language": "python",
   "name": "python3"
  },
  "language_info": {
   "codemirror_mode": {
    "name": "ipython",
    "version": 3
   },
   "file_extension": ".py",
   "mimetype": "text/x-python",
   "name": "python",
   "nbconvert_exporter": "python",
   "pygments_lexer": "ipython3",
   "version": "3.8.12"
  }
 },
 "nbformat": 4,
 "nbformat_minor": 5
}
