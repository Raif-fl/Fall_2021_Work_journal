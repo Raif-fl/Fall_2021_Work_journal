{
 "cells": [
  {
   "cell_type": "markdown",
   "id": "752ed8ad-2df8-4950-9831-f6919a22df9b",
   "metadata": {
    "tags": []
   },
   "source": [
    "## Loading up packages"
   ]
  },
  {
   "cell_type": "code",
   "execution_count": 1,
   "id": "76f57fce-39f5-42a0-aa87-f40caf55e894",
   "metadata": {},
   "outputs": [],
   "source": [
    "# Let the program know where to find your tools file.\n",
    "import sys\n",
    "sys.path.append('/home/keeganfl/Desktop/Work_Fall_2021/Fall_2021_Work_journal/tools/')"
   ]
  },
  {
   "cell_type": "code",
   "execution_count": 2,
   "id": "e53df0b7-e3ea-4657-800b-9da1bb416b30",
   "metadata": {},
   "outputs": [],
   "source": [
    "# Load up the necessary packages \n",
    "from plastid import BAMGenomeArray, VariableFivePrimeMapFactory, \\\n",
    "                        GTF2_TranscriptAssembler, GFF3_TranscriptAssembler, \\\n",
    "                        Transcript, ThreePrimeMapFactory\n",
    "import numpy as np\n",
    "import os\n",
    "from Bio import SeqIO\n",
    "import numpy\n",
    "import math\n",
    "import pandas as pd\n",
    "from plastid.plotting.plots import *\n",
    "from scipy import stats\n",
    "from scipy.stats import kstwo\n",
    "from statsmodels.stats.proportion import proportions_ztest\n",
    "import keegan_analysis_tools as kat\n",
    "from statsmodels.nonparametric.smoothers_lowess import lowess\n",
    "import warnings\n",
    "import matplotlib.pyplot as plt\n",
    "from matplotlib.pyplot import figure\n",
    "%matplotlib inline\n",
    "import csv\n",
    "from scipy.sparse.linalg import lsqr\n",
    "from tqdm import tqdm\n",
    "from multiprocess import Pool\n",
    "import copy\n",
    "import seaborn as sns"
   ]
  },
  {
   "cell_type": "code",
   "execution_count": 3,
   "id": "43e42030-a90b-44a9-8916-b21539f8017a",
   "metadata": {},
   "outputs": [],
   "source": [
    "# Define the path to our data files and the path we want to save our outputs in. \n",
    "target_path = '/home/keeganfl/Desktop/Work_Fall_2021/data_tables/Selenoprotein_table.csv'\n",
    "ks_mmus_path = '/home/keeganfl/Desktop/Work_Fall_2021/data_tables/KS_stats/mmus/'\n",
    "save_path = '/home/keeganfl/Desktop/Work_Fall_2021/Presentation_figures/'\n",
    "samp_num = '1'"
   ]
  },
  {
   "cell_type": "markdown",
   "id": "ca946eb0-a7de-4ccd-883c-4ecd5ea9e2ae",
   "metadata": {},
   "source": [
    "## Defining functions"
   ]
  },
  {
   "cell_type": "code",
   "execution_count": 4,
   "id": "f4a148e3-7e89-448e-a8ea-64df6d2acded",
   "metadata": {},
   "outputs": [],
   "source": [
    "def split_equal(value, parts):\n",
    "    value = float(value)\n",
    "    return [i*value/parts for i in range(1,parts+1)]"
   ]
  },
  {
   "cell_type": "code",
   "execution_count": 5,
   "id": "e8088f20-e47f-4a05-8c9e-1485637d3e37",
   "metadata": {},
   "outputs": [],
   "source": [
    "def determine_enrichment(targ_ks, all_ks, N_cats, max_ks):\n",
    "    ratios = []\n",
    "    sections = split_equal(max_ks, N_cats)\n",
    "    ratios.append(len(targ_ks.ks_stat[targ_ks.ks_stat < sections[0]])/len(all_ks.ks_stat[all_ks.ks_stat < sections[0]]))\n",
    "    for sec, i in zip(sections, list(range(len(sections)))):\n",
    "        try:\n",
    "            ratios.append(len(targ_ks.ks_stat[(targ_ks.ks_stat > sec) & (targ_ks.ks_stat < sections[i+1])]\n",
    "                )/len(all_ks.ks_stat[(all_ks.ks_stat > sec) & (all_ks.ks_stat < sections[i+1])]))\n",
    "        except:\n",
    "            pass\n",
    "    ratios.append(len(targ_ks.ks_stat[targ_ks.ks_stat > sections[-1]])/len(all_ks.ks_stat[all_ks.ks_stat > sections[-1]]))\n",
    "    return ratios, sections"
   ]
  },
  {
   "cell_type": "code",
   "execution_count": 6,
   "id": "698852f3-5db6-48d6-be2b-cc94472c121c",
   "metadata": {},
   "outputs": [],
   "source": [
    "def det_p_values(targ_ks, all_ks, sections):\n",
    "    p_values = []\n",
    "    for sec, i in zip(sections, list(range(len(sections)))):\n",
    "        try:\n",
    "            obs = len(targ_ks.ks_stat[(targ_ks.ks_stat > sec) & (targ_ks.ks_stat < sections[i + 1])])\n",
    "            all_p = len(all_ks.ks_stat[(all_ks.ks_stat > sec) & (all_ks.ks_stat < sections[i + 1])])\n",
    "            p_v = proportions_ztest(obs, all_p, len(targ_ks)/len(all_ks))[1]\n",
    "            p_values.append(p_v)\n",
    "        except:\n",
    "            pass\n",
    "    obs = len(targ_ks.ks_stat[targ_ks.ks_stat > sections[-1]])\n",
    "    all_p = len(all_ks.ks_stat[all_ks.ks_stat > sections[-1]])\n",
    "    p_v = proportions_ztest(obs, all_p, len(targ_ks)/len(all_ks))[1]\n",
    "    p_values.append(p_v)\n",
    "    return p_values"
   ]
  },
  {
   "cell_type": "markdown",
   "id": "00fb52d5-1b60-496f-ba67-a0e63d300488",
   "metadata": {},
   "source": [
    "## Calculate the KS stat of all of the seleno targets in the Mouse data"
   ]
  },
  {
   "cell_type": "code",
   "execution_count": 8,
   "id": "e91c6faa-e55b-447e-956c-11505b899411",
   "metadata": {},
   "outputs": [],
   "source": [
    "# Load up the target gene names. \n",
    "seleno_mmus_table = pd.read_csv(target_path , names = [\"gene_name\"])\n",
    "\n",
    "# Load up the tables of KS statistics\n",
    "df_mmus = pd.read_csv(ks_mmus_path + \"ks_table_\" + samp_num + \".csv\")"
   ]
  },
  {
   "cell_type": "code",
   "execution_count": 9,
   "id": "968af399-f698-416c-8770-fd4fb9547e45",
   "metadata": {},
   "outputs": [],
   "source": [
    "# Merge the ecoli ks table with the list of gene names\n",
    "seleno_mmus_ks_table = pd.merge(df_mmus, seleno_mmus_table, how='inner', right_on='gene_name', left_on='gene_ID')"
   ]
  },
  {
   "cell_type": "code",
   "execution_count": 11,
   "id": "2022ae1f-4738-4189-b243-3ea898510de8",
   "metadata": {},
   "outputs": [],
   "source": [
    "# Keep only one copy of each gene in the seleno table. \n",
    "seleno_mmus_ks_table.sort_values(\"gene_name\", inplace = True)\n",
    "seleno_mmus_ks_table.drop_duplicates(subset =\"gene_name\",keep = \"first\", inplace = True) "
   ]
  },
  {
   "cell_type": "code",
   "execution_count": null,
   "id": "dd6394c0-459b-4cb5-97b6-4088f004ffe1",
   "metadata": {},
   "outputs": [],
   "source": [
    "seleno_mmu"
   ]
  },
  {
   "cell_type": "code",
   "execution_count": 13,
   "id": "b92e4b64-e2cf-453d-b06d-1ffbe3d69619",
   "metadata": {},
   "outputs": [
    {
     "data": {
      "text/html": [
       "<div>\n",
       "<style scoped>\n",
       "    .dataframe tbody tr th:only-of-type {\n",
       "        vertical-align: middle;\n",
       "    }\n",
       "\n",
       "    .dataframe tbody tr th {\n",
       "        vertical-align: top;\n",
       "    }\n",
       "\n",
       "    .dataframe thead th {\n",
       "        text-align: right;\n",
       "    }\n",
       "</style>\n",
       "<table border=\"1\" class=\"dataframe\">\n",
       "  <thead>\n",
       "    <tr style=\"text-align: right;\">\n",
       "      <th></th>\n",
       "      <th>gene_ID</th>\n",
       "      <th>transcript_ID</th>\n",
       "      <th>ks_stat</th>\n",
       "      <th>gene_length</th>\n",
       "      <th>gene_name</th>\n",
       "    </tr>\n",
       "  </thead>\n",
       "  <tbody>\n",
       "    <tr>\n",
       "      <th>6</th>\n",
       "      <td>Dio2</td>\n",
       "      <td>NM_010050</td>\n",
       "      <td>0.099315</td>\n",
       "      <td>263</td>\n",
       "      <td>Dio2</td>\n",
       "    </tr>\n",
       "    <tr>\n",
       "      <th>20</th>\n",
       "      <td>Gpx1</td>\n",
       "      <td>NM_008160</td>\n",
       "      <td>0.054335</td>\n",
       "      <td>202</td>\n",
       "      <td>Gpx1</td>\n",
       "    </tr>\n",
       "    <tr>\n",
       "      <th>0</th>\n",
       "      <td>Gpx4</td>\n",
       "      <td>NR_110342</td>\n",
       "      <td>0.063364</td>\n",
       "      <td>293</td>\n",
       "      <td>Gpx4</td>\n",
       "    </tr>\n",
       "    <tr>\n",
       "      <th>17</th>\n",
       "      <td>Secisbp2l</td>\n",
       "      <td>NM_177608</td>\n",
       "      <td>0.038659</td>\n",
       "      <td>1090</td>\n",
       "      <td>Secisbp2l</td>\n",
       "    </tr>\n",
       "    <tr>\n",
       "      <th>18</th>\n",
       "      <td>Selenoi</td>\n",
       "      <td>NM_027652</td>\n",
       "      <td>0.103018</td>\n",
       "      <td>399</td>\n",
       "      <td>Selenoi</td>\n",
       "    </tr>\n",
       "    <tr>\n",
       "      <th>10</th>\n",
       "      <td>Selenoo</td>\n",
       "      <td>NM_027905</td>\n",
       "      <td>0.099119</td>\n",
       "      <td>668</td>\n",
       "      <td>Selenoo</td>\n",
       "    </tr>\n",
       "    <tr>\n",
       "      <th>7</th>\n",
       "      <td>Selenop</td>\n",
       "      <td>NM_001042613</td>\n",
       "      <td>0.059501</td>\n",
       "      <td>381</td>\n",
       "      <td>Selenop</td>\n",
       "    </tr>\n",
       "    <tr>\n",
       "      <th>15</th>\n",
       "      <td>Sephs1</td>\n",
       "      <td>NM_001362708</td>\n",
       "      <td>0.104075</td>\n",
       "      <td>393</td>\n",
       "      <td>Sephs1</td>\n",
       "    </tr>\n",
       "    <tr>\n",
       "      <th>3</th>\n",
       "      <td>Txnrd1</td>\n",
       "      <td>NM_015762</td>\n",
       "      <td>0.048382</td>\n",
       "      <td>500</td>\n",
       "      <td>Txnrd1</td>\n",
       "    </tr>\n",
       "  </tbody>\n",
       "</table>\n",
       "</div>"
      ],
      "text/plain": [
       "      gene_ID transcript_ID   ks_stat  gene_length  gene_name\n",
       "6        Dio2     NM_010050  0.099315          263       Dio2\n",
       "20       Gpx1     NM_008160  0.054335          202       Gpx1\n",
       "0        Gpx4     NR_110342  0.063364          293       Gpx4\n",
       "17  Secisbp2l     NM_177608  0.038659         1090  Secisbp2l\n",
       "18    Selenoi     NM_027652  0.103018          399    Selenoi\n",
       "10    Selenoo     NM_027905  0.099119          668    Selenoo\n",
       "7     Selenop  NM_001042613  0.059501          381    Selenop\n",
       "15     Sephs1  NM_001362708  0.104075          393     Sephs1\n",
       "3      Txnrd1     NM_015762  0.048382          500     Txnrd1"
      ]
     },
     "execution_count": 13,
     "metadata": {},
     "output_type": "execute_result"
    }
   ],
   "source": [
    "seleno_mmus_ks_table"
   ]
  },
  {
   "cell_type": "code",
   "execution_count": 12,
   "id": "6b1b6e6d-68f6-4f07-b056-c70f73829a0d",
   "metadata": {},
   "outputs": [
    {
     "data": {
      "text/plain": [
       "(0.0, 0.7)"
      ]
     },
     "execution_count": 12,
     "metadata": {},
     "output_type": "execute_result"
    },
    {
     "data": {
      "image/png": "[encoded data removed]",
      "text/plain": [
       "<Figure size 936x432 with 1 Axes>"
      ]
     },
     "metadata": {
      "needs_background": "light"
     },
     "output_type": "display_data"
    },
    {
     "data": {
      "image/png": "[encoded data removed]",
      "text/plain": [
       "<Figure size 936x432 with 1 Axes>"
      ]
     },
     "metadata": {
      "needs_background": "light"
     },
     "output_type": "display_data"
    }
   ],
   "source": [
    "# Plot the KS values for each gene from lowest to highest. \n",
    "figure(figsize = (13,6))\n",
    "plt.scatter(list(range(len(df_mmus[\"ks_stat\"]))), sorted(df_mmus[\"ks_stat\"]), s=6, alpha = 0.4)\n",
    "plt.ylabel(\"KS_statistic\")\n",
    "plt.xlabel(\"Rank\")\n",
    "plt.title(\"KS statistic of all mouse genes\")\n",
    "plt.ylim(0,0.7)\n",
    "plt.show\n",
    "figure(figsize = (13,6))\n",
    "plt.scatter(list(range(len(seleno_mmus_ks_table[\"ks_stat\"]))), sorted(seleno_mmus_ks_table[\"ks_stat\"]), s=12, alpha = 0.7)\n",
    "plt.ylabel(\"KS_statistic\")\n",
    "plt.xlabel(\"Rank\")\n",
    "plt.title(\"KS statistic of all seleno targets\")\n",
    "plt.ylim(0,0.7)"
   ]
  },
  {
   "cell_type": "code",
   "execution_count": 14,
   "id": "5f79ca14-bd9a-4cf0-9909-83538665e452",
   "metadata": {},
   "outputs": [
    {
     "name": "stdout",
     "output_type": "stream",
     "text": [
      "mean KS statistic of Fmr1 target genes = 0.05875790095272582\n",
      "mean KS statistic of all D.mel genes = 0.07277019578897156\n"
     ]
    }
   ],
   "source": [
    "# print out the mean of all polyprolne motif containing genes (efp targets)\n",
    "print(\"mean KS statistic of seleno target genes = \" + str(np.mean(seleno_mmus_ks_table.ks_stat)))\n",
    "print(\"mean KS statistic of all D.mel genes = \" + str(np.mean(df_mmus.ks_stat)))"
   ]
  },
  {
   "cell_type": "code",
   "execution_count": 16,
   "id": "0dca1612-11ad-49cf-a81c-0692aa791cd0",
   "metadata": {},
   "outputs": [],
   "source": [
    "max_ks = 0.15\n",
    "N_cats = 2\n",
    "ratios_mmus, sections_mmus = determine_enrichment(seleno_mmus_ks_table, df_mmus, N_cats, max_ks)"
   ]
  },
  {
   "cell_type": "code",
   "execution_count": 18,
   "id": "b143b66a-0f5d-4e6a-bae3-564b915c72b6",
   "metadata": {},
   "outputs": [],
   "source": [
    "sections_mmus.insert(0,0)"
   ]
  },
  {
   "cell_type": "code",
   "execution_count": 19,
   "id": "b7f8cb1e-7397-44da-9368-f84f30afcf62",
   "metadata": {},
   "outputs": [
    {
     "data": {
      "text/plain": [
       "[0.13170882751912907, 0.042766929524434415, 0.0022901703276014583]"
      ]
     },
     "execution_count": 19,
     "metadata": {},
     "output_type": "execute_result"
    }
   ],
   "source": [
    "det_p_values(seleno_mmus_ks_table, df_mmus, sections_mmus)"
   ]
  },
  {
   "cell_type": "code",
   "execution_count": 25,
   "id": "24995f75-3be9-4ebe-a5af-1bb4b4a57158",
   "metadata": {},
   "outputs": [
    {
     "data": {
      "text/plain": [
       "0.011897886103731084"
      ]
     },
     "execution_count": 25,
     "metadata": {},
     "output_type": "execute_result"
    }
   ],
   "source": [
    "len(seleno_mmus_ks_table.ks_stat)/len(df_mmus.ks_stat)"
   ]
  },
  {
   "cell_type": "markdown",
   "id": "fc9a2cc7-f2c6-44cb-b622-5b97a9f7f3fa",
   "metadata": {},
   "source": [
    "## Looking at the proportion of the targets in each KS-stat categroy"
   ]
  },
  {
   "cell_type": "code",
   "execution_count": 20,
   "id": "65fc1100-ff81-427f-a2f3-836bcd7931e8",
   "metadata": {},
   "outputs": [],
   "source": [
    "max_ks = 0.15\n",
    "N_cats = 2\n",
    "ratios_mmus, sections_mmus = determine_enrichment(seleno_mmus_ks_table, df_mmus, N_cats, max_ks)"
   ]
  },
  {
   "cell_type": "code",
   "execution_count": 21,
   "id": "65cce505-978c-426d-b61c-63e85ed27bc0",
   "metadata": {},
   "outputs": [],
   "source": [
    "sections_mmus.insert(0,0)"
   ]
  },
  {
   "cell_type": "code",
   "execution_count": 26,
   "id": "f33da3ef-dc11-42b5-bd77-1bc3ba21e415",
   "metadata": {},
   "outputs": [
    {
     "data": {
      "image/png": "[encoded data removed]",
      "text/plain": [
       "<Figure size 648x432 with 1 Axes>"
      ]
     },
     "metadata": {
      "needs_background": "light"
     },
     "output_type": "display_data"
    }
   ],
   "source": [
    "expected = len(seleno_mmus_ks_table.ks_stat)/len(df_mmus.ks_stat)\n",
    "figure(figsize = (9,6))\n",
    "plt.bar([1,2,3],ratios_mmus, width = 0.5, color = \"darkblue\",\n",
    "        tick_label = [\"Low KS Fraction)\",\"Medium KS Fraction\",\"High KS Fraction\"])\n",
    "plt.xticks(fontsize = 13)\n",
    "plt.xlim(0.6,3.4)\n",
    "plt.ylim(0, 0.1)\n",
    "plt.ylabel(\"Proportion of seleno targets\", fontsize = 13)\n",
    "plt.title(\"Mus musculus\", fontsize = 14)\n",
    "#plt.xlabel(\"KS-stat\")\n",
    "plt.plot([0,6],[expected,expected], color = \"black\")\n",
    "plt.savefig(save_path + 'mmus_proportions.pdf')"
   ]
  },
  {
   "cell_type": "markdown",
   "id": "39625ec8-b2bd-48d9-b4e3-8adfa52204d9",
   "metadata": {},
   "source": [
    "## Looking at the kernel density estimates"
   ]
  },
  {
   "cell_type": "code",
   "execution_count": 27,
   "id": "22018ba5-c7e7-4bec-beec-ce92967cf194",
   "metadata": {},
   "outputs": [
    {
     "data": {
      "text/plain": [
       "<matplotlib.legend.Legend at 0x7fd688a40ac0>"
      ]
     },
     "execution_count": 27,
     "metadata": {},
     "output_type": "execute_result"
    },
    {
     "data": {
      "image/png": "[encoded data removed]",
      "text/plain": [
       "<Figure size 720x432 with 1 Axes>"
      ]
     },
     "metadata": {
      "needs_background": "light"
     },
     "output_type": "display_data"
    }
   ],
   "source": [
    "figure(figsize = (10,6))\n",
    "sns.kdeplot(df_mmus.ks_stat, label = \"All E.coli genes\")\n",
    "sns.kdeplot(seleno_mmus_ks_table.ks_stat, label = \"EFP targets\")\n",
    "plt.ylabel(\"Density\")\n",
    "plt.xlabel(\"KS Statistic\")\n",
    "plt.title(\"Density plot comparison for seleno and efp mutants\")\n",
    "plt.legend()"
   ]
  },
  {
   "cell_type": "code",
   "execution_count": null,
   "id": "be35b44a-bc7d-4d50-b562-1b80b72d9176",
   "metadata": {},
   "outputs": [],
   "source": []
  }
 ],
 "metadata": {
  "kernelspec": {
   "display_name": "Python 3 (ipykernel)",
   "language": "python",
   "name": "python3"
  },
  "language_info": {
   "codemirror_mode": {
    "name": "ipython",
    "version": 3
   },
   "file_extension": ".py",
   "mimetype": "text/x-python",
   "name": "python",
   "nbconvert_exporter": "python",
   "pygments_lexer": "ipython3",
   "version": "3.8.12"
  }
 },
 "nbformat": 4,
 "nbformat_minor": 5
}
