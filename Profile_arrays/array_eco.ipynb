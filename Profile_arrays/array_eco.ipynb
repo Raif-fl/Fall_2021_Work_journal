{
 "cells": [
  {
   "cell_type": "markdown",
   "id": "12dbf983-0403-4298-97f6-8d9fef7130ac",
   "metadata": {},
   "source": [
    "# Count Arrays for Woolstenhulme et al. E.coli data\n",
    "\n",
    "This notebook is a short pipeline that creates a list of count vectors that show the number of reads recorded for each gene at each codon position."
   ]
  },
  {
   "cell_type": "markdown",
   "id": "68e9a4c1-c344-4a0e-b915-7179691b46ba",
   "metadata": {},
   "source": [
    "### Step 1:\n",
    "Activate the Plastid conda environment and open up a Jupyter Lab session (alternatively, a python file can be run in this conda environment)"
   ]
  },
  {
   "cell_type": "markdown",
   "id": "90b66fc0-7eaa-4bfe-855d-47ab146308a0",
   "metadata": {
    "tags": []
   },
   "source": [
    "### Step 2: \n",
    "Load in all of the necessary packages from Plastid"
   ]
  },
  {
   "cell_type": "code",
   "execution_count": 1,
   "id": "f5951e5e-c002-4807-bd5c-c8828235b1db",
   "metadata": {},
   "outputs": [],
   "source": [
    "# Let the program know where to find your tools file.\n",
    "import sys\n",
    "sys.path.append('/home/keeganfl/Desktop/Work_Fall_2021/Fall_2021_Work_journal/tools/')"
   ]
  },
  {
   "cell_type": "code",
   "execution_count": 2,
   "id": "7dd81f8d-60ff-456a-9fd1-48fbf8e4d993",
   "metadata": {},
   "outputs": [],
   "source": [
    "# Import necessary packages\n",
    "from plastid import BAMGenomeArray, VariableFivePrimeMapFactory, \\\n",
    "                        GTF2_TranscriptAssembler, GFF3_TranscriptAssembler, \\\n",
    "                        Transcript, ThreePrimeMapFactory\n",
    "import numpy as np\n",
    "import os\n",
    "from Bio import SeqIO\n",
    "import numpy\n",
    "import math\n",
    "import pandas as pd\n",
    "from plastid.plotting.plots import *\n",
    "from scipy import stats\n",
    "from scipy.stats import kstwo\n",
    "import keegan_analysis_tools as kat\n",
    "from statsmodels.nonparametric.smoothers_lowess import lowess\n",
    "import warnings\n",
    "import matplotlib.pyplot as plt\n",
    "from matplotlib.pyplot import figure\n",
    "%matplotlib inline\n",
    "import csv\n",
    "from scipy.sparse.linalg import lsqr\n",
    "from tqdm import tqdm\n",
    "from multiprocess import Pool\n",
    "import copy\n",
    "import seaborn as sns"
   ]
  },
  {
   "cell_type": "code",
   "execution_count": 3,
   "id": "84883b2e-3335-4cd3-b13a-6e72d7bdbdd8",
   "metadata": {},
   "outputs": [],
   "source": [
    "# Define the path to important files\n",
    "data_path = '/home/keeganfl/Desktop/Work_Fall_2021/genomes_&_samples/ecol/'\n",
    "save_path = \"/home/keeganfl/Desktop/Work_Fall_2021/data_tables/position_counts_codon_resolution/ecol/\"\n",
    "p_site_path = '/home/keeganfl/Desktop/Work_Fall_2021/data_tables/p-site_offsets/ecol/'\n",
    "mutation = 'control'\n",
    "samp_num = '5'"
   ]
  },
  {
   "cell_type": "markdown",
   "id": "eddf4073-c47b-441b-a683-a3b805f59c11",
   "metadata": {
    "tags": []
   },
   "source": [
    "### Step 3\n",
    "For the data from Woolstenhulme et al. step 3 will be skipped and we will instead use a basic P-site offset of 13 bp from the 3' end. "
   ]
  },
  {
   "cell_type": "markdown",
   "id": "270c96f7-23a6-4894-b6a1-72c9ad2b0d95",
   "metadata": {},
   "source": [
    "### Step 4\n",
    "Load in a GTF genome annotation file into python using Plastid's GTF2_TranscriptAssembler() function. This function will load in the transcripts as an iterator of transcript type objects which we will convert to a list. In most cases, we will then want to filter this list so that only the protein coding genes transcripts are present. In the event that only protein coding genes are present in the GTF file this step should be skipped. "
   ]
  },
  {
   "cell_type": "code",
   "execution_count": 4,
   "id": "6602aae6-6ecf-4e5f-b146-24a11b3409fe",
   "metadata": {
    "tags": []
   },
   "outputs": [],
   "source": [
    "# load the transcript annotations from the GTF file.\n",
    "# GTF2_TranscriptAssembler returns an iterator, so here we convert it to a list.\n",
    "transcripts = list(GTF2_TranscriptAssembler(open(data_path + \"Escherichia_coli_str_k_12_substr_mg1655_gca_000005845.ASM584v2.51.gtf\"),return_type=Transcript))"
   ]
  },
  {
   "cell_type": "code",
   "execution_count": 5,
   "id": "20615756-c8c0-4960-8ed4-86e18726e377",
   "metadata": {},
   "outputs": [],
   "source": [
    "# Remove non-protein coding transcripts from transcripts list. \n",
    "protein_coding = []\n",
    "for transcript in transcripts:\n",
    "    if transcript.attr['transcript_biotype'] == 'protein_coding':\n",
    "        protein_coding.append(transcript)"
   ]
  },
  {
   "cell_type": "code",
   "execution_count": 6,
   "id": "6f73a1fb-75d0-4968-91ba-db2f25e86f91",
   "metadata": {},
   "outputs": [],
   "source": [
    "transcripts.clear()"
   ]
  },
  {
   "cell_type": "markdown",
   "id": "58c78780-4616-43d5-b6b7-d658522a1764",
   "metadata": {},
   "source": [
    "### Step 5\n",
    "item Load in the Bam file containing the Ribosome Profiling data as a Bam Genome Array using Plastid's BamGenomeArray() function. While loading in these bam files, map the read alignments to their corresponding P-sites. Plastid does not have a pre-built function that can assign P-site offsets from the 3' end for varying read lengths. Therefore, In order to apply the per read length P-site offsets we calculated using riboWaltz, it is necessary to create our own python function called \\verb|VariableThreePrimeMapFactory| based on the inner workings of the VariableFivePrimeMapFactory function that comes prepackaged with Plastid. You can find an example of this function in the keegan_analysis_tools.py file on the GitHub page."
   ]
  },
  {
   "cell_type": "code",
   "execution_count": 7,
   "id": "cec43099-d578-40bc-8286-3a59cabc59b0",
   "metadata": {},
   "outputs": [],
   "source": [
    "# Read in the alignments from a BAM file and then have it map to the p-site \n",
    "alignments = BAMGenomeArray(data_path + mutation + \"_RPF_\" + samp_num + \"_Aligned.sortedByCoord.out.bam\")\n",
    "alignments.set_mapping(ThreePrimeMapFactory(13))"
   ]
  },
  {
   "cell_type": "markdown",
   "id": "aad20c14-06a3-4b99-b472-aff103d4bc69",
   "metadata": {},
   "source": [
    "### Step 6\n",
    "For each \\verb|transcript| object in our list we are going to use plastids \\verb|get_counts()| method to to create a numpy array that contains the number of counts at each position in the transcript. "
   ]
  },
  {
   "cell_type": "code",
   "execution_count": null,
   "id": "ebc2d803-79d3-4707-a53b-e9db9df0d601",
   "metadata": {
    "tags": []
   },
   "outputs": [],
   "source": [
    "# create a list to hold the vectors\n",
    "count_vectors = []\n",
    "\n",
    "# get counts for each transcript\n",
    "for transcript in protein_coding:\n",
    "    count_vectors.append(transcript.get_counts(alignments))"
   ]
  },
  {
   "cell_type": "markdown",
   "id": "744b02ac-c4c2-4c25-aed9-b1fa23133aad",
   "metadata": {},
   "source": [
    "### Step 7\n",
    "Once we have created our count arrays we are going to want to convert them from nucleotide resolution to codon resolution for some of the modelling we are going to do later. This can be done easily by calculating the sum of the counts every three positions using numpy's \\verb|add.reduceat()| function."
   ]
  },
  {
   "cell_type": "code",
   "execution_count": null,
   "id": "73285e0f-8590-4c03-b9d0-531ed13a24c6",
   "metadata": {},
   "outputs": [],
   "source": [
    "# Calculate the loacation of the start and end of the coding region for each transcript. \n",
    "cds_starts = []\n",
    "cds_ends = []\n",
    "\n",
    "for transcript in protein_coding:\n",
    "    cds_starts.append(transcript.cds_start)\n",
    "    cds_ends.append(transcript.cds_end)"
   ]
  },
  {
   "cell_type": "code",
   "execution_count": null,
   "id": "21885a3f-487a-4ee1-9002-2e5b9094f0ec",
   "metadata": {},
   "outputs": [],
   "source": [
    "# Create a list of lists containing the counts at each position of the transcript cds regions.\n",
    "cds_counts_list = []\n",
    "\n",
    "for i in range(len(count_vectors)):\n",
    "    x = list(count_vectors[i][cds_starts[i]:cds_ends[i]])\n",
    "    cds_counts_list.append(x)"
   ]
  },
  {
   "cell_type": "code",
   "execution_count": null,
   "id": "0ca2150d-ad66-483b-8bdf-63183d05d126",
   "metadata": {},
   "outputs": [],
   "source": [
    "# Convert the count lists from nucleotide resolution to codon resolution\n",
    "codon_counts = []\n",
    "\n",
    "for i in cds_counts_list:\n",
    "    codon_counts.append(np.add.reduceat(i, np.arange(0, len(i),3)))"
   ]
  },
  {
   "cell_type": "code",
   "execution_count": null,
   "id": "642ee973-07bb-4bf1-b990-abda80167a23",
   "metadata": {},
   "outputs": [],
   "source": [
    "# Convert the unscaled elongation rates to a list so they can be more easily saved\n",
    "for count, i in zip(codon_counts, list(range(len(codon_counts)))):\n",
    "    codon_counts[i] = count.tolist()"
   ]
  },
  {
   "cell_type": "markdown",
   "id": "09679db5-e7d0-426e-b696-38f1a7501158",
   "metadata": {},
   "source": [
    "### Step 8\n",
    "save the count arrays to be used in future notebooks. You may find it helpful to use the save_count_positions() function from keegan_analysis_tools.py so that the count arrays are saved with their gene name and transcript ids. "
   ]
  },
  {
   "cell_type": "code",
   "execution_count": null,
   "id": "b4fb7ac2-de40-43d6-a1d5-914cef71f285",
   "metadata": {},
   "outputs": [],
   "source": [
    "kat.save_count_positions(protein_coding, codon_counts, save_path, mutation + \"_\" + samp_num + '_counts.csv')"
   ]
  },
  {
   "cell_type": "markdown",
   "id": "ffbd1b20-4b34-4c65-9425-5c399c974aac",
   "metadata": {},
   "source": [
    "## Analyzing the data files"
   ]
  },
  {
   "cell_type": "code",
   "execution_count": null,
   "id": "c86d33f5-c14c-4c29-a2c8-917ec86b1e0d",
   "metadata": {},
   "outputs": [],
   "source": [
    "#Get the transcript and vector for the gene of interest\n",
    "my_transcript, my_vector, index = kat.find_transcript('cysQ', protein_coding, count_vectors)"
   ]
  },
  {
   "cell_type": "code",
   "execution_count": null,
   "id": "6e673601-aab2-4ce7-88cd-a7d0989abc1a",
   "metadata": {},
   "outputs": [],
   "source": [
    "# 30-codon sliding window average\n",
    "window = np.ones(90).astype(float)/90.0\n",
    "sliding_window_avg = np.convolve(my_vector,window,mode=\"valid\")\n",
    "\n",
    "\n",
    "# plot\n",
    "%matplotlib inline\n",
    "import matplotlib.pyplot as plt\n",
    "\n",
    "plt.plot(my_vector,label=\"%s counts\" % my_transcript.get_name())\n",
    "plt.plot(sliding_window_avg,label=\"30 codon average\")\n",
    "plt.xlabel(\"Position in transcript (5' to 3')\")\n",
    "plt.ylabel(\"Ribosome counts\")\n",
    "plt.title(\"Ribosome footprint for\")\n",
    "\n",
    "# add outlines at start & stop codons\n",
    "plt.axvline(my_transcript.cds_start,color=\"#999999\",dashes=[3,2],zorder=-1)\n",
    "plt.axvline(my_transcript.cds_end,color=\"#999999\",dashes=[3,2],zorder=-1)"
   ]
  },
  {
   "cell_type": "code",
   "execution_count": null,
   "id": "6050eb37-ab1a-4854-8531-770be7924883",
   "metadata": {},
   "outputs": [],
   "source": []
  }
 ],
 "metadata": {
  "kernelspec": {
   "display_name": "Python 3 (ipykernel)",
   "language": "python",
   "name": "python3"
  },
  "language_info": {
   "codemirror_mode": {
    "name": "ipython",
    "version": 3
   },
   "file_extension": ".py",
   "mimetype": "text/x-python",
   "name": "python",
   "nbconvert_exporter": "python",
   "pygments_lexer": "ipython3",
   "version": "3.8.12"
  }
 },
 "nbformat": 4,
 "nbformat_minor": 5
}
