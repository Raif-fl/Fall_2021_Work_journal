{
 "cells": [
  {
   "cell_type": "markdown",
   "id": "437b0776-352c-4ee0-9b21-b561c4bdc62b",
   "metadata": {
    "tags": []
   },
   "source": [
    "# Calculating Gene expression. \n",
    "\n",
    "This script calculates gene expression in raw read counts, RPKM and TPM (So we are looking at the raw reads and a normalizsed measure of gene expression) using matched samples of RNA-seq and ribosome profiling data. Note that in order to calculate these values properly, data outputted by the feature counts package is required. This is because Plastid appears to struggle to properly load the RNA data for Drosophilia melanogaster"
   ]
  },
  {
   "cell_type": "markdown",
   "id": "a5766647-fab3-4e85-ba9f-f6b9cfbe32d0",
   "metadata": {},
   "source": [
    "### Step 1\n",
    "Activate the Plastid conda environment and open up a Jupyter Lab session (alternatively, a python file can be run in this python environment)\n",
    "\n",
    "### Step 2\n",
    "Load in all of the necessary packages from Plastid"
   ]
  },
  {
   "cell_type": "code",
   "execution_count": 1,
   "id": "85970a1e-58be-489c-bdb1-fd1c8e83cefb",
   "metadata": {},
   "outputs": [],
   "source": [
    "# Loading up the path to my tools file. \n",
    "import sys\n",
    "sys.path.append('/home/keeganfl/Desktop/Work_Fall_2021/Fall_2021_Work_journal/tools/')"
   ]
  },
  {
   "cell_type": "code",
   "execution_count": 2,
   "id": "3701f454-d539-44ef-bb00-27718993905c",
   "metadata": {},
   "outputs": [],
   "source": [
    "# Loading up required packages\n",
    "from plastid import BAMGenomeArray, GenomeArray, VariableFivePrimeMapFactory, \\\n",
    "                        GTF2_TranscriptAssembler, GFF3_TranscriptAssembler, \\\n",
    "                        Transcript, ThreePrimeMapFactory, CenterMapFactory\n",
    "import plastid\n",
    "from plastid.plotting.plots import *\n",
    "import numpy as np\n",
    "import os\n",
    "from Bio import SeqIO\n",
    "import numpy\n",
    "import math\n",
    "import pandas as pd\n",
    "from scipy import stats\n",
    "import keegan_analysis_tools as kat\n",
    "from statsmodels.nonparametric.smoothers_lowess import lowess\n",
    "import warnings\n",
    "import matplotlib.pyplot as plt\n",
    "%matplotlib inline\n",
    "import csv\n",
    "from scipy.sparse.linalg import lsqr"
   ]
  },
  {
   "cell_type": "code",
   "execution_count": 13,
   "id": "0dbc14a5-12ca-4bd5-ac08-ca4df78ad0fb",
   "metadata": {},
   "outputs": [],
   "source": [
    "# Define important paths. \n",
    "data_path = \"/home/keeganfl/Desktop/Work_Fall_2021/genomes_&_samples/dmel/\"\n",
    "feat_counts_path = \"/home/keeganfl/Desktop/Work_Fall_2021/genomes_&_samples/dmel/TE_results/\"\n",
    "save_path = \"/home/keeganfl/Desktop/Work_Fall_2021/data_tables/TE_tables/dmel/\"\n",
    "p_site_path = \"/home/keeganfl/Desktop/Work_Fall_2021/data_tables/p-site_offsets/dmel/\"\n",
    "gtf_name = \"Drosophila_melanogaster.BDGP6.32.103.gtf\"\n",
    "mutation = 'control'\n",
    "samp_num = '3'\n",
    "special = \"fc\""
   ]
  },
  {
   "cell_type": "markdown",
   "id": "b7eea3ec-7839-4580-a226-fb1469ce8179",
   "metadata": {},
   "source": [
    "### Step 3\n",
    "Load in your P-site offset files using the read_csv() function from pandas"
   ]
  },
  {
   "cell_type": "code",
   "execution_count": 4,
   "id": "8096b6d3-1bd8-49ce-8370-e03e1813eb93",
   "metadata": {},
   "outputs": [],
   "source": [
    "# Load in the table of P-site offsets. \n",
    "p_offsets=pd.read_csv(p_site_path + mutation + '_RPF_' + samp_num + \"_Aligned.toTranscriptome.out_p-site-offsets\", sep=\"\\t\")"
   ]
  },
  {
   "cell_type": "markdown",
   "id": "1074b287-a420-4f5d-b8aa-2d405423f7ae",
   "metadata": {},
   "source": [
    "### Step 4\n",
    "Load in a GTF genome annotation file into python using Plastid's GTF2_TranscriptAssembler() function. This function will load in the transcripts as an iterator of transcript type objects which we will convert to a list."
   ]
  },
  {
   "cell_type": "code",
   "execution_count": 5,
   "id": "47ce7229-65ab-44a8-b8e5-6ccaf9fe020a",
   "metadata": {
    "tags": []
   },
   "outputs": [],
   "source": [
    "# Load up the genome annotation as a list of transcript objects\n",
    "gtf_reads=list(GTF2_TranscriptAssembler(open(data_path + gtf_name),return_type=Transcript))"
   ]
  },
  {
   "cell_type": "markdown",
   "id": "a315e520-be75-4211-be72-d7ed6c1454b0",
   "metadata": {},
   "source": [
    "### Step 5\n",
    "Load in the Bam files containing the Ribosome Profiling data and the RNA sequencing data as a Bam Genome Array using Plastid's BamGenomeArray() function."
   ]
  },
  {
   "cell_type": "code",
   "execution_count": 6,
   "id": "ce6a3f16-521b-4604-8fb5-57569da65967",
   "metadata": {},
   "outputs": [],
   "source": [
    "# Open the read alignments, storing each dataset in a BAMGenomeArray:\n",
    "my_datasets = { \"ribosome_profiling\" : data_path + mutation +\"_RPF_\" + samp_num + \"_Aligned.sortedByCoord.out.bam\"}\n",
    "my_datasets = { K : BAMGenomeArray(V) for K,V in my_datasets.items() }"
   ]
  },
  {
   "cell_type": "markdown",
   "id": "24c0142c-2ed4-4565-9581-02e89b5fe1c7",
   "metadata": {},
   "source": [
    "### Step 6\n",
    "Map the read alignments to their corresponding P-sites. Again we are going to need to use our custom VariableThreePrimeMapFactory function in order to assign P-site offsets effectively."
   ]
  },
  {
   "cell_type": "code",
   "execution_count": 7,
   "id": "be3c8610-745c-4ca9-99dc-c31f03cabded",
   "metadata": {},
   "outputs": [],
   "source": [
    "# Map the ribosome profiling alignments to the p-site. \n",
    "my_datasets[\"ribosome_profiling\"].set_mapping(kat.VariableThreePrimeMapFactory(p_offsets=p_offsets))"
   ]
  },
  {
   "cell_type": "markdown",
   "id": "0dcb3f2f-6b1a-442e-8abb-b65fbf6c6ad1",
   "metadata": {},
   "source": [
    "### Step 7\n",
    "Create an empty dictionary in python that contains a list for each transcript in our GTF file and each metric we wish to calculate (e.g. length, number of counts, rpk)."
   ]
  },
  {
   "cell_type": "code",
   "execution_count": 8,
   "id": "2269c869-4c9d-464a-b638-0699a1d0ac0d",
   "metadata": {},
   "outputs": [],
   "source": [
    "# we will calculate both total counts and RPKM\n",
    "metrics = (\"counts\",\"rpk\",\"lengths\")\n",
    "\n",
    "# create an empty list for each sample and metric\n",
    "my_data = { \"%s_%s\" % (SAMPLE,METRIC) : copy.deepcopy([])\\\n",
    "                                                  for SAMPLE in my_datasets.keys()\\\n",
    "                                                  for METRIC in metrics }\n",
    "\n",
    "# add a list to our dictionary of lists to store transcript IDs, gene_names, and gene_IDs.\n",
    "my_data[\"transcript_ID\"] = []\n",
    "my_data[\"gene_name\"] = []\n",
    "my_data[\"gene_ID\"] = []"
   ]
  },
  {
   "cell_type": "markdown",
   "id": "ca883d4b-0145-4eef-b985-e4a9e789e76a",
   "metadata": {},
   "source": [
    "### Step 8\n",
    "Fill up the dictionary with the required metrics and then convert the dictionary to a pandas dataframe for easier organization. "
   ]
  },
  {
   "cell_type": "code",
   "execution_count": 9,
   "id": "941e2ea7-d7ae-4497-893c-2e9d24f84522",
   "metadata": {
    "tags": []
   },
   "outputs": [],
   "source": [
    "for transcript in gtf_reads:\n",
    "        \n",
    "    # First, save the ID of the transcript we are evaluating\n",
    "    if transcript.attr[\"transcript_biotype\"] == \"protein_coding\":\n",
    "        my_data[\"transcript_ID\"].append(transcript.get_name())\n",
    "        my_data[\"gene_ID\"].append(transcript.attr[\"gene_id\"])\n",
    "        my_data[\"gene_name\"].append(transcript.attr[\"gene_name\"])\n",
    "\n",
    "        # Iterate over each sample\n",
    "        for sample_name, sample_data in my_datasets.items():\n",
    "            counts = sum(transcript.get_counts(sample_data))\n",
    "            length = transcript.length\n",
    "            rpk   = float(counts)/(length/1000)\n",
    "            my_data[\"%s_counts\" % (sample_name)].append(counts)\n",
    "            my_data[\"%s_rpk\"   % (sample_name)].append(rpk)\n",
    "            my_data[\"%s_lengths\" % (sample_name)].append(length)\n",
    "            \n",
    "# Convert to a Dataframe\n",
    "df = pd.DataFrame(my_data)"
   ]
  },
  {
   "cell_type": "markdown",
   "id": "c8ab4890-a4ca-4756-a34a-9db7c90ac0f5",
   "metadata": {},
   "source": [
    "## Loading RNA sequencing data from feature counts"
   ]
  },
  {
   "cell_type": "code",
   "execution_count": 14,
   "id": "4159c977-cce1-4d96-bdb5-c4de5ba5f758",
   "metadata": {},
   "outputs": [],
   "source": [
    "# Load in feature counts data\n",
    "feature_counts = pd.read_csv(feat_counts_path + 'counts_' + mutation + '_RNA_' + samp_num + '.txt', delimiter = \"\\t\", comment='#')"
   ]
  },
  {
   "cell_type": "code",
   "execution_count": 15,
   "id": "da54719c-24e3-44b0-a6ac-caceb3a9ad9f",
   "metadata": {},
   "outputs": [],
   "source": [
    "# Select our columns of interest. \n",
    "cols = [\"Geneid\",\"Length\",mutation + '_RNA_' + samp_num + \"_Aligned.sortedByCoord.out.bam\"]\n",
    "feature_counts = feature_counts[cols]"
   ]
  },
  {
   "cell_type": "code",
   "execution_count": 16,
   "id": "35583471-8c11-4626-9715-70a59ceb0c13",
   "metadata": {},
   "outputs": [],
   "source": [
    "# Rename our columns to assist with the merge to the dataframe. \n",
    "feature_counts.rename(columns = {mutation + '_RNA_' + samp_num + \"_Aligned.sortedByCoord.out.bam\" : \"RNA-seq_counts\",\n",
    "                                \"Length\" : \"RNA-seq_lengths\", \"Geneid\" : \"gene_ID\"}, inplace = True)"
   ]
  },
  {
   "cell_type": "code",
   "execution_count": 17,
   "id": "5e645eb4-1cca-4b7f-93ff-d3c767e7944a",
   "metadata": {
    "tags": []
   },
   "outputs": [],
   "source": [
    "# create new columns that contain the calculations for tpm and rpkm. \n",
    "feature_counts[\"RNA-seq_rpk\"] = feature_counts[\"RNA-seq_counts\"]/feature_counts[\"RNA-seq_lengths\"]\n",
    "feature_counts[\"RNA-seq_tpm\"] = feature_counts[\"RNA-seq_rpk\"]/(sum(feature_counts[\"RNA-seq_rpk\"])/1e6)\n",
    "feature_counts[\"RNA-seq_rpkm\"] =feature_counts[\"RNA-seq_counts\"]/ feature_counts[\"RNA-seq_lengths\"]*1000 * 1e6 / sum(feature_counts[\"RNA-seq_counts\"])"
   ]
  },
  {
   "cell_type": "code",
   "execution_count": 18,
   "id": "7f56a34f-f2bc-424d-b728-abd00746158e",
   "metadata": {},
   "outputs": [],
   "source": [
    "# Merging the table from feature counts with the plastid dataframe based on the gene names. \n",
    "df_merged = pd.merge(df,feature_counts, how = \"inner\", on = \"gene_ID\")\n",
    "df = df_merged"
   ]
  },
  {
   "cell_type": "code",
   "execution_count": 19,
   "id": "3d5a655a-2685-4f17-8b76-8e69d939f7a7",
   "metadata": {},
   "outputs": [
    {
     "data": {
      "text/html": [
       "<div>\n",
       "<style scoped>\n",
       "    .dataframe tbody tr th:only-of-type {\n",
       "        vertical-align: middle;\n",
       "    }\n",
       "\n",
       "    .dataframe tbody tr th {\n",
       "        vertical-align: top;\n",
       "    }\n",
       "\n",
       "    .dataframe thead th {\n",
       "        text-align: right;\n",
       "    }\n",
       "</style>\n",
       "<table border=\"1\" class=\"dataframe\">\n",
       "  <thead>\n",
       "    <tr style=\"text-align: right;\">\n",
       "      <th></th>\n",
       "      <th>ribosome_profiling_counts</th>\n",
       "      <th>ribosome_profiling_rpk</th>\n",
       "      <th>ribosome_profiling_lengths</th>\n",
       "      <th>transcript_ID</th>\n",
       "      <th>gene_name</th>\n",
       "      <th>gene_ID</th>\n",
       "      <th>RNA-seq_lengths</th>\n",
       "      <th>RNA-seq_counts</th>\n",
       "      <th>RNA-seq_rpk</th>\n",
       "      <th>RNA-seq_tpm</th>\n",
       "      <th>RNA-seq_rpkm</th>\n",
       "    </tr>\n",
       "  </thead>\n",
       "  <tbody>\n",
       "    <tr>\n",
       "      <th>0</th>\n",
       "      <td>0.0</td>\n",
       "      <td>0.000000</td>\n",
       "      <td>264</td>\n",
       "      <td>FBtr0302344</td>\n",
       "      <td>CG40635</td>\n",
       "      <td>FBgn0085506</td>\n",
       "      <td>264</td>\n",
       "      <td>0</td>\n",
       "      <td>0.000000</td>\n",
       "      <td>0.000000</td>\n",
       "      <td>0.000000</td>\n",
       "    </tr>\n",
       "    <tr>\n",
       "      <th>1</th>\n",
       "      <td>0.0</td>\n",
       "      <td>0.000000</td>\n",
       "      <td>615</td>\n",
       "      <td>FBtr0300105</td>\n",
       "      <td>SteXh:CG42398</td>\n",
       "      <td>FBgn0259817</td>\n",
       "      <td>615</td>\n",
       "      <td>0</td>\n",
       "      <td>0.000000</td>\n",
       "      <td>0.000000</td>\n",
       "      <td>0.000000</td>\n",
       "    </tr>\n",
       "    <tr>\n",
       "      <th>2</th>\n",
       "      <td>3.0</td>\n",
       "      <td>2.100840</td>\n",
       "      <td>1428</td>\n",
       "      <td>FBtr0347010</td>\n",
       "      <td>CG41561</td>\n",
       "      <td>FBgn0085692</td>\n",
       "      <td>1428</td>\n",
       "      <td>0</td>\n",
       "      <td>0.000000</td>\n",
       "      <td>0.000000</td>\n",
       "      <td>0.000000</td>\n",
       "    </tr>\n",
       "    <tr>\n",
       "      <th>3</th>\n",
       "      <td>534.0</td>\n",
       "      <td>101.753049</td>\n",
       "      <td>5248</td>\n",
       "      <td>FBtr0078170</td>\n",
       "      <td>l(2)gl</td>\n",
       "      <td>FBgn0002121</td>\n",
       "      <td>5986</td>\n",
       "      <td>21635</td>\n",
       "      <td>3.614267</td>\n",
       "      <td>168.208107</td>\n",
       "      <td>84.627492</td>\n",
       "    </tr>\n",
       "    <tr>\n",
       "      <th>4</th>\n",
       "      <td>534.0</td>\n",
       "      <td>99.053979</td>\n",
       "      <td>5391</td>\n",
       "      <td>FBtr0078171</td>\n",
       "      <td>l(2)gl</td>\n",
       "      <td>FBgn0002121</td>\n",
       "      <td>5986</td>\n",
       "      <td>21635</td>\n",
       "      <td>3.614267</td>\n",
       "      <td>168.208107</td>\n",
       "      <td>84.627492</td>\n",
       "    </tr>\n",
       "    <tr>\n",
       "      <th>...</th>\n",
       "      <td>...</td>\n",
       "      <td>...</td>\n",
       "      <td>...</td>\n",
       "      <td>...</td>\n",
       "      <td>...</td>\n",
       "      <td>...</td>\n",
       "      <td>...</td>\n",
       "      <td>...</td>\n",
       "      <td>...</td>\n",
       "      <td>...</td>\n",
       "      <td>...</td>\n",
       "    </tr>\n",
       "    <tr>\n",
       "      <th>30705</th>\n",
       "      <td>1051.0</td>\n",
       "      <td>784.914115</td>\n",
       "      <td>1339</td>\n",
       "      <td>FBtr0433500</td>\n",
       "      <td>mt:ND4</td>\n",
       "      <td>FBgn0262952</td>\n",
       "      <td>1339</td>\n",
       "      <td>15071</td>\n",
       "      <td>11.255414</td>\n",
       "      <td>523.827421</td>\n",
       "      <td>263.543784</td>\n",
       "    </tr>\n",
       "    <tr>\n",
       "      <th>30706</th>\n",
       "      <td>443.0</td>\n",
       "      <td>1522.336770</td>\n",
       "      <td>291</td>\n",
       "      <td>FBtr0100880</td>\n",
       "      <td>mt:ND4L</td>\n",
       "      <td>FBgn0013683</td>\n",
       "      <td>291</td>\n",
       "      <td>148</td>\n",
       "      <td>0.508591</td>\n",
       "      <td>23.669848</td>\n",
       "      <td>11.908581</td>\n",
       "    </tr>\n",
       "    <tr>\n",
       "      <th>30707</th>\n",
       "      <td>469.0</td>\n",
       "      <td>893.333333</td>\n",
       "      <td>525</td>\n",
       "      <td>FBtr0100883</td>\n",
       "      <td>mt:ND6</td>\n",
       "      <td>FBgn0013685</td>\n",
       "      <td>525</td>\n",
       "      <td>99</td>\n",
       "      <td>0.188571</td>\n",
       "      <td>8.776122</td>\n",
       "      <td>4.415371</td>\n",
       "    </tr>\n",
       "    <tr>\n",
       "      <th>30708</th>\n",
       "      <td>3100.0</td>\n",
       "      <td>2726.473175</td>\n",
       "      <td>1137</td>\n",
       "      <td>FBtr0433502</td>\n",
       "      <td>mt:Cyt-b</td>\n",
       "      <td>FBgn0013678</td>\n",
       "      <td>1137</td>\n",
       "      <td>116568</td>\n",
       "      <td>102.522427</td>\n",
       "      <td>4771.397699</td>\n",
       "      <td>2400.546733</td>\n",
       "    </tr>\n",
       "    <tr>\n",
       "      <th>30709</th>\n",
       "      <td>1068.0</td>\n",
       "      <td>1137.380192</td>\n",
       "      <td>939</td>\n",
       "      <td>FBtr0433499</td>\n",
       "      <td>mt:ND1</td>\n",
       "      <td>FBgn0013679</td>\n",
       "      <td>939</td>\n",
       "      <td>13936</td>\n",
       "      <td>14.841321</td>\n",
       "      <td>690.715627</td>\n",
       "      <td>347.507218</td>\n",
       "    </tr>\n",
       "  </tbody>\n",
       "</table>\n",
       "<p>30710 rows × 11 columns</p>\n",
       "</div>"
      ],
      "text/plain": [
       "       ribosome_profiling_counts  ribosome_profiling_rpk  \\\n",
       "0                            0.0                0.000000   \n",
       "1                            0.0                0.000000   \n",
       "2                            3.0                2.100840   \n",
       "3                          534.0              101.753049   \n",
       "4                          534.0               99.053979   \n",
       "...                          ...                     ...   \n",
       "30705                     1051.0              784.914115   \n",
       "30706                      443.0             1522.336770   \n",
       "30707                      469.0              893.333333   \n",
       "30708                     3100.0             2726.473175   \n",
       "30709                     1068.0             1137.380192   \n",
       "\n",
       "       ribosome_profiling_lengths transcript_ID      gene_name      gene_ID  \\\n",
       "0                             264   FBtr0302344        CG40635  FBgn0085506   \n",
       "1                             615   FBtr0300105  SteXh:CG42398  FBgn0259817   \n",
       "2                            1428   FBtr0347010        CG41561  FBgn0085692   \n",
       "3                            5248   FBtr0078170         l(2)gl  FBgn0002121   \n",
       "4                            5391   FBtr0078171         l(2)gl  FBgn0002121   \n",
       "...                           ...           ...            ...          ...   \n",
       "30705                        1339   FBtr0433500         mt:ND4  FBgn0262952   \n",
       "30706                         291   FBtr0100880        mt:ND4L  FBgn0013683   \n",
       "30707                         525   FBtr0100883         mt:ND6  FBgn0013685   \n",
       "30708                        1137   FBtr0433502       mt:Cyt-b  FBgn0013678   \n",
       "30709                         939   FBtr0433499         mt:ND1  FBgn0013679   \n",
       "\n",
       "       RNA-seq_lengths  RNA-seq_counts  RNA-seq_rpk  RNA-seq_tpm  RNA-seq_rpkm  \n",
       "0                  264               0     0.000000     0.000000      0.000000  \n",
       "1                  615               0     0.000000     0.000000      0.000000  \n",
       "2                 1428               0     0.000000     0.000000      0.000000  \n",
       "3                 5986           21635     3.614267   168.208107     84.627492  \n",
       "4                 5986           21635     3.614267   168.208107     84.627492  \n",
       "...                ...             ...          ...          ...           ...  \n",
       "30705             1339           15071    11.255414   523.827421    263.543784  \n",
       "30706              291             148     0.508591    23.669848     11.908581  \n",
       "30707              525              99     0.188571     8.776122      4.415371  \n",
       "30708             1137          116568   102.522427  4771.397699   2400.546733  \n",
       "30709              939           13936    14.841321   690.715627    347.507218  \n",
       "\n",
       "[30710 rows x 11 columns]"
      ]
     },
     "execution_count": 19,
     "metadata": {},
     "output_type": "execute_result"
    }
   ],
   "source": [
    "df"
   ]
  },
  {
   "cell_type": "markdown",
   "id": "f66f26ba-237b-4308-bfc7-a0776070fb62",
   "metadata": {},
   "source": [
    "### Step 9\n",
    "Calculate RPKM and TPM for the ribo-profile and RNA-seq data for each transcript using the equations <br />\n",
    "$\n",
    "RPKM = 10^9 * \\frac{reads\\: mapped\\: to\\: the\\: transcript}{total\\: reads * transcript\\: length}\n",
    "$\n",
    "<br />\n",
    "&\n",
    "<br />\n",
    "$TPM = 10^6 * \\frac{reads\\: mapped\\: to\\: the\\: transcript\\:/\\: transcript\\: length }{Sum(reads\\: mapped\\: to\\: each\\: transcript\\:/\\: each\\: transcript's\\: length)}\n",
    "$\n",
    "<br />\n",
    "Then add them as new columns to the pandas dataframe."
   ]
  },
  {
   "cell_type": "code",
   "execution_count": 22,
   "id": "23054cd9-6fe5-4938-97a7-cb36103ebc51",
   "metadata": {},
   "outputs": [
    {
     "name": "stdout",
     "output_type": "stream",
     "text": [
      "ribosome_profiling\n"
     ]
    }
   ],
   "source": [
    "for sample_name in [\"ribosome_profiling\"]:\n",
    "    print(sample_name)"
   ]
  },
  {
   "cell_type": "code",
   "execution_count": 20,
   "id": "5c2c70c0-5e60-4d90-8326-1a812062ea6c",
   "metadata": {},
   "outputs": [],
   "source": [
    "# Calculate tpm using rpk from our new dataframe. \n",
    "for sample_name in [\"ribosome_profiling\"]:\n",
    "    per_m_s = sum(df[\"%s_rpk\"   % (sample_name)])/1e6\n",
    "    df[\"%s_tpm\" % (sample_name)] = (df[\"%s_rpk\"   % (sample_name)])/per_m_s\n",
    "    \n",
    "# Calculate rpkm using the read counts.\n",
    "for sample_name in [\"ribosome_profiling\"]:\n",
    "    counts = df[\"%s_counts\"   % (sample_name)]\n",
    "    rpkm   = counts / df[\"ribosome_profiling_lengths\"] * 1e9 / sum(counts)\n",
    "    df[\"%s_rpkm\" % (sample_name)] = rpkm"
   ]
  },
  {
   "cell_type": "markdown",
   "id": "141cedef-e165-498b-9a82-42560c80d73c",
   "metadata": {},
   "source": [
    "### Step 10\n",
    "Calculate the TE by dividing the RPKM and TPM for the ribosome profiling data by the RPKM and TPM for the mRNA sequence data. Save the TE values as new columns in the pandas dataframe. "
   ]
  },
  {
   "cell_type": "code",
   "execution_count": null,
   "id": "821d397a-c018-4dab-b25b-84ff7f50fd0b",
   "metadata": {},
   "outputs": [],
   "source": [
    "# Calculate translation efficiency using tpm\n",
    "df[\"TE_tpm\"] = df[\"ribosome_profiling_tpm\"] / df[\"RNA-seq_tpm\"]\n",
    "\n",
    "# Calculate translation efficiency using rpkm\n",
    "df[\"TE_rpkm\"] = df[\"ribosome_profiling_rpkm\"] / df[\"RNA-seq_rpkm\"]"
   ]
  },
  {
   "cell_type": "code",
   "execution_count": null,
   "id": "e0924fd1-4458-4120-af35-4c1f2467ff21",
   "metadata": {},
   "outputs": [],
   "source": [
    "# Rearranging Column names to make something more readable. \n",
    "cols = ['transcript_ID', \"gene_ID\",\"gene_name\", 'TE_tpm','TE_rpkm','ribosome_profiling_tpm',\n",
    "        'RNA-seq_tpm','ribosome_profiling_counts','RNA-seq_counts',\n",
    "        'ribosome_profiling_rpkm', 'RNA-seq_rpkm', 'ribosome_profiling_rpk', \n",
    "       'RNA-seq_rpk', 'ribosome_profiling_lengths', 'RNA-seq_lengths']\n",
    "df = df[cols]"
   ]
  },
  {
   "cell_type": "markdown",
   "id": "ae468aee-df90-4c79-a9b4-8c9af5a2a68c",
   "metadata": {},
   "source": [
    "### Step 11\n",
    "Use a kernel density estimate plot to look at the distribution of TE's in your data. This is an important step for making sure nothing has gone wrong in the alignment, P-site offsetting, or TE calculation steps. In order to create these TE tables, we are going to need to remove all of the negative or infinite values from our data (these occur naturally as a result of there being zero reads for genes that have very low expression). Once these annoying values have been removed we can use Plastids kde_plot() function to look at the distribution of TE values. We are hoping to see the majority of our TE values being somewhere between 0 and 5 with just a small proportion of transcripts having higher TEs than that. "
   ]
  },
  {
   "cell_type": "code",
   "execution_count": null,
   "id": "39f7da94-80e8-49a0-8502-3ec3b626c2c9",
   "metadata": {},
   "outputs": [],
   "source": [
    "# We need to remove zeroes and infinite values in order to make the kernel density estimates\n",
    "df_clean=df[~df.isin([np.nan, np.inf, -np.inf, 0]).any(1)]\n",
    "\n",
    "# We are only going to look at TE values that fall within a certain region. \n",
    "df_interest=df_clean[(df_clean[\"TE_tpm\"] >= 0)&(df_clean[\"TE_tpm\"] <= 800)]"
   ]
  },
  {
   "cell_type": "code",
   "execution_count": null,
   "id": "8c463de9-43b7-4f6a-964c-2862f3f3984f",
   "metadata": {},
   "outputs": [],
   "source": [
    "# plot kernel density estimates of A and B on the same axis\n",
    "fig, ax = kde_plot(df_interest[\"TE_tpm\"],label=\"TE\")\n",
    "\n",
    "# make things look nice\n",
    "plt.xlabel(\"TE\")\n",
    "plt.ylabel(\"Probability density\")\n",
    "plt.title(\"kde_plot() demo\",y=1.1)\n",
    "plt.xlim(0,20)"
   ]
  },
  {
   "cell_type": "markdown",
   "id": "5e66cd40-8bb7-45d8-a49c-814ac1c4ffb0",
   "metadata": {},
   "source": [
    "### Step 12\n",
    "save the dataframe using df.to_csv() so it can be used in future notebooks. "
   ]
  },
  {
   "cell_type": "code",
   "execution_count": null,
   "id": "79446599-eead-44f2-8383-1080d2c938a2",
   "metadata": {},
   "outputs": [],
   "source": [
    "# save the data frame.\n",
    "df.to_csv(save_path + mutation + '_' + samp_num + '_' + \"te_table\" + special + \".csv\", index = False)"
   ]
  }
 ],
 "metadata": {
  "kernelspec": {
   "display_name": "Python 3 (ipykernel)",
   "language": "python",
   "name": "python3"
  },
  "language_info": {
   "codemirror_mode": {
    "name": "ipython",
    "version": 3
   },
   "file_extension": ".py",
   "mimetype": "text/x-python",
   "name": "python",
   "nbconvert_exporter": "python",
   "pygments_lexer": "ipython3",
   "version": "3.8.12"
  }
 },
 "nbformat": 4,
 "nbformat_minor": 5
}
