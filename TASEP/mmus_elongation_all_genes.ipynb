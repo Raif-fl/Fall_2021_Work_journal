{
 "cells": [
  {
   "cell_type": "markdown",
   "id": "779d9827-e957-4a97-9015-48e82460dca8",
   "metadata": {
    "tags": []
   },
   "source": [
    "## Loading up packages"
   ]
  },
  {
   "cell_type": "code",
   "execution_count": 44,
   "id": "1cd7087e-32d4-407f-b326-ef09fba2653d",
   "metadata": {},
   "outputs": [],
   "source": [
    "import sys\n",
    "sys.path.append('/home/keeganfl/Desktop/Work_Fall_2021/Fall_2021_Work_journal/tools/')"
   ]
  },
  {
   "cell_type": "code",
   "execution_count": 45,
   "id": "53bfdebd-353f-41cb-8541-6cb06e933fd3",
   "metadata": {},
   "outputs": [],
   "source": [
    "# import plastid\n",
    "# data structure for mapping read alignments to genomic positions\n",
    "from plastid import BAMGenomeArray, GenomeArray, VariableFivePrimeMapFactory, \\\n",
    "                        GTF2_TranscriptAssembler, GFF3_TranscriptAssembler, \\\n",
    "                        Transcript, ThreePrimeMapFactory, CenterMapFactory\n",
    "import plastid\n",
    "from plastid.plotting.plots import *\n",
    "import numpy as np\n",
    "import os\n",
    "from Bio import SeqIO\n",
    "import numpy\n",
    "import math\n",
    "import pandas as pd\n",
    "from scipy import stats\n",
    "import keegan_analysis_tools as kat\n",
    "from statsmodels.nonparametric.smoothers_lowess import lowess\n",
    "import warnings\n",
    "import matplotlib.pyplot as plt\n",
    "%matplotlib inline\n",
    "import csv\n",
    "from scipy.sparse.linalg import lsqr"
   ]
  },
  {
   "cell_type": "code",
   "execution_count": 46,
   "id": "fa48d046-081f-4648-a6f8-0ae5e25b87cc",
   "metadata": {},
   "outputs": [],
   "source": [
    "# Define the path to our Bam files\n",
    "data_path = \"/home/keeganfl/Desktop/Work_Fall_2021/genomes_&_samples/mmus/\"\n",
    "csv_path = \"/home/keeganfl/Desktop/Work_Fall_2021/data_tables/position_counts/mmus/\"\n",
    "save_path = \"/home/keeganfl/Desktop/Work_Fall_2021/data_tables/elongation_rates/mmus/\"\n",
    "gtf_name = 'mm10.refGene.gtf'\n",
    "mutation = 'control'\n",
    "samp_num = '2'"
   ]
  },
  {
   "cell_type": "markdown",
   "id": "f5ffc562-1ca8-4d93-90bd-140ea120e85d",
   "metadata": {
    "tags": []
   },
   "source": [
    "## Loading up the data files "
   ]
  },
  {
   "cell_type": "code",
   "execution_count": 47,
   "id": "0516318c-08ad-453a-94e3-2ef962a36752",
   "metadata": {
    "tags": []
   },
   "outputs": [],
   "source": [
    "# load the transcript annotations from the GTF file.\n",
    "# GTF2_TranscriptAssembler returns an iterator, so here we convert it to a list.\n",
    "transcripts = list(GTF2_TranscriptAssembler(open(data_path + gtf_name),return_type=Transcript))"
   ]
  },
  {
   "cell_type": "markdown",
   "id": "659570ba-9b4a-4479-b37a-2169d2786291",
   "metadata": {
    "tags": []
   },
   "source": [
    "## Getting the codon sequence:\n",
    "\n",
    "For now I am deleting this section along with the normalization section since I believe that the raw rates will be sufficient once normalized. "
   ]
  },
  {
   "cell_type": "markdown",
   "id": "00604c92-66bd-4bff-86f3-d7eef66a1371",
   "metadata": {
    "tags": []
   },
   "source": [
    "## Loading up the csv file."
   ]
  },
  {
   "cell_type": "code",
   "execution_count": 48,
   "id": "98e0eb26-18f1-4224-841c-2fcb8c858c5a",
   "metadata": {},
   "outputs": [],
   "source": [
    "data = kat.load_count_positions(mutation+\"_RPF_\"+samp_num+\"_counts.csv\",csv_path)"
   ]
  },
  {
   "cell_type": "markdown",
   "id": "56c5bf48-f31f-4e55-bab0-734c985c8939",
   "metadata": {},
   "source": [
    "## Getting elongation rates for all genes"
   ]
  },
  {
   "cell_type": "code",
   "execution_count": 49,
   "id": "c96e2181-8c50-447c-a8dd-87da9069aff4",
   "metadata": {},
   "outputs": [],
   "source": [
    "p_list = kat.calculate_p(data)"
   ]
  },
  {
   "cell_type": "code",
   "execution_count": 50,
   "id": "fb85087c-aad8-4eed-9f99-0ea00519db19",
   "metadata": {},
   "outputs": [],
   "source": [
    "pbar_list = kat.calculate_pbar(p_list)"
   ]
  },
  {
   "cell_type": "code",
   "execution_count": 51,
   "id": "7698bd59-9e04-4cfe-a32b-bef3ed7b7561",
   "metadata": {},
   "outputs": [],
   "source": [
    "lbar_list = kat.calculate_lbar(pbar_list)"
   ]
  },
  {
   "cell_type": "code",
   "execution_count": 52,
   "id": "2e0ecb66-b639-4f9a-8f3d-893ff0b42465",
   "metadata": {},
   "outputs": [],
   "source": [
    "# calculate the scaled initiation and termination rates\n",
    "\n",
    "init_r= []\n",
    "for pbar in pbar_list:\n",
    "    if pbar[0] == 0:\n",
    "        init_r.append(1/(1-10*0.00001))\n",
    "    else:\n",
    "        init_r.append(1/(1-10*pbar[0]))\n",
    "\n",
    "term_r = []\n",
    "for p in p_list:\n",
    "    if p[-1] ==0:\n",
    "        term_r.append(1/0.00001)\n",
    "    else:\n",
    "        term_r.append(1/(p[-1]))\n"
   ]
  },
  {
   "cell_type": "code",
   "execution_count": 53,
   "id": "962d8867-d4d3-4320-a9e6-2a450a384a23",
   "metadata": {},
   "outputs": [],
   "source": [
    "elongation_list = lbar_list"
   ]
  },
  {
   "cell_type": "code",
   "execution_count": 54,
   "id": "23bd3d54-c21a-48b1-8303-7035c74b60ac",
   "metadata": {},
   "outputs": [],
   "source": [
    "for elon, i in zip(elongation_list, list(range(len(elongation_list)))):\n",
    "    elongation_list[i] = elon.tolist()"
   ]
  },
  {
   "cell_type": "markdown",
   "id": "77a56f34-c88b-4a39-b9f6-cb3eaed65b41",
   "metadata": {
    "tags": []
   },
   "source": [
    "## Save as a csv"
   ]
  },
  {
   "cell_type": "code",
   "execution_count": 55,
   "id": "4d699a9c-3604-4e53-a9db-906ebe6c8356",
   "metadata": {},
   "outputs": [],
   "source": [
    "# Create a list that contains all of the gene_ids and transcript_ids of the transcripts\n",
    "gene_id = []\n",
    "transcript_id = []\n",
    "\n",
    "for transcript in transcripts:\n",
    "    gene_id.append(transcript.attr[\"gene_name\"])\n",
    "    transcript_id.append(transcript.attr[\"transcript_id\"])"
   ]
  },
  {
   "cell_type": "code",
   "execution_count": 56,
   "id": "74bf54d1-1ca2-4d71-8b67-c807576c8ba2",
   "metadata": {},
   "outputs": [],
   "source": [
    "# Insert the gene ids and transcript ids into the codon_count list. \n",
    "for i,j in zip(elongation_list, range(len(gene_id))):\n",
    "    i.insert(0,gene_id[j])\n",
    "    i.insert(0,transcript_id[j])"
   ]
  },
  {
   "cell_type": "code",
   "execution_count": 57,
   "id": "2cd6c10c-e2c6-4582-bde3-17db4652a15f",
   "metadata": {
    "tags": []
   },
   "outputs": [],
   "source": [
    "# Calculate the longest cds region in our new list of counts\n",
    "l_tr = kat.find_max_list(elongation_list)\n",
    "\n",
    "# Define a header that includes labels for the transcript and gene ID as \n",
    "# well as numbers that index the cds region position.\n",
    "header=[\"transcript_id\",\"gene_id\"]+list(range(l_tr))\n",
    "\n",
    "# insert that header into our counts list. \n",
    "elongation_list.insert(0,header)"
   ]
  },
  {
   "cell_type": "code",
   "execution_count": 58,
   "id": "10fba29e-8180-4618-b416-11e090cdace7",
   "metadata": {},
   "outputs": [],
   "source": [
    "with open(save_path + mutation + '_' + samp_num + 'raw_elongation_rates', 'w', newline='') as f:\n",
    "    writer = csv.writer(f)\n",
    "    writer.writerows(elongation_list)"
   ]
  },
  {
   "cell_type": "code",
   "execution_count": null,
   "id": "05f2dcaf-be4a-4cc6-a1ca-021ea01492a3",
   "metadata": {},
   "outputs": [],
   "source": []
  }
 ],
 "metadata": {
  "kernelspec": {
   "display_name": "Python 3 (ipykernel)",
   "language": "python",
   "name": "python3"
  },
  "language_info": {
   "codemirror_mode": {
    "name": "ipython",
    "version": 3
   },
   "file_extension": ".py",
   "mimetype": "text/x-python",
   "name": "python",
   "nbconvert_exporter": "python",
   "pygments_lexer": "ipython3",
   "version": "3.8.12"
  }
 },
 "nbformat": 4,
 "nbformat_minor": 5
}
