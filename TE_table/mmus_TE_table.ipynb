{
 "cells": [
  {
   "cell_type": "markdown",
   "id": "f98a5dcf-4a69-4081-8eb2-503252be9404",
   "metadata": {
    "tags": []
   },
   "source": [
    "# Calculating Gene expression. \n",
    "\n",
    "This script calculates gene expression in raw read counts, RPKM and TPM (So we are looking at the raw reads and a normalizsed measure of gene expression) using matched samples of RNA-seq and ribosome profiling data. \n",
    "\n",
    "\n",
    "Gene expression – or, more broadly, read density over from any high-throughput sequencing experiment over any genomic region – can be calculated easily in an interactive Python session.\n",
    "\n",
    "Here I am caclulating read density over coding regions."
   ]
  },
  {
   "cell_type": "markdown",
   "id": "1c0f8df2-b15d-4de9-a2a0-e57302b44593",
   "metadata": {},
   "source": [
    "## Importing packages and defining the path"
   ]
  },
  {
   "cell_type": "code",
   "execution_count": 15,
   "id": "a8439eed-ddbc-45d4-8038-4198ab5ba4d1",
   "metadata": {},
   "outputs": [],
   "source": [
    "import sys\n",
    "sys.path.append('/home/keeganfl/Desktop/Work_Fall_2021/Fall_2021_Work_journal/tools/')"
   ]
  },
  {
   "cell_type": "code",
   "execution_count": 16,
   "id": "e6666e9b-13d6-41ed-a8e3-d1f2583e1b30",
   "metadata": {},
   "outputs": [],
   "source": [
    "# import plastid\n",
    "# data structure for mapping read alignments to genomic positions\n",
    "from plastid import BAMGenomeArray, VariableFivePrimeMapFactory, \\\n",
    "                        GTF2_TranscriptAssembler, GFF3_TranscriptAssembler, \\\n",
    "                        Transcript, ThreePrimeMapFactory, CenterMapFactory\n",
    "from plastid.plotting.plots import *\n",
    "import numpy as np\n",
    "import os\n",
    "from Bio import SeqIO\n",
    "import numpy\n",
    "import math\n",
    "import pandas as pd\n",
    "from scipy import stats\n",
    "import keegan_analysis_tools as kat\n",
    "from statsmodels.nonparametric.smoothers_lowess import lowess\n",
    "import warnings\n",
    "import matplotlib.pyplot as plt\n",
    "%matplotlib inline\n",
    "import csv\n",
    "from scipy.sparse.linalg import lsqr"
   ]
  },
  {
   "cell_type": "code",
   "execution_count": 17,
   "id": "51054253-af94-40e4-b65a-f04c4189885c",
   "metadata": {},
   "outputs": [],
   "source": [
    "# Define the path to our Bam files\n",
    "data_path = \"/home/keeganfl/Desktop/Work_Fall_2021/genomes_&_samples/mmus/\"\n",
    "feat_counts_path = \"/home/keeganfl/Desktop/Work_Fall_2021/feature_counts/mmus/\"\n",
    "save_path = \"/home/keeganfl/Desktop/Work_Fall_2021/data_tables/TE_tables/mmus/\"\n",
    "p_site_path = \"/home/keeganfl/Desktop/Work_Fall_2021/data_tables/p-site_offsets/mmus/\"\n",
    "gtf_name = 'mm10.refGene.gtf'\n",
    "mutation = 'control'\n",
    "samp_num = '1'\n",
    "special = \"\"\n",
    "if os.path.isfile(save_path + mutation + '_' + samp_num + '_' + \"te_table\" + special + \".csv\") == True:\n",
    "    pre_load = True\n",
    "else:\n",
    "    pre_load = False"
   ]
  },
  {
   "cell_type": "markdown",
   "id": "9f5f9a09-7592-42f8-810a-cc2800d720b0",
   "metadata": {},
   "source": [
    "## Loading in the data"
   ]
  },
  {
   "cell_type": "markdown",
   "id": "470ff3e4-3deb-4142-9b18-f6f5c07e056a",
   "metadata": {},
   "source": [
    "Open the read alignments, storing each dataset in a BAMGenomeArray:"
   ]
  },
  {
   "cell_type": "code",
   "execution_count": 18,
   "id": "ce6a3f16-521b-4604-8fb5-57569da65967",
   "metadata": {},
   "outputs": [],
   "source": [
    "my_datasets = { \"ribosome_profiling\" : data_path + mutation +\"_RPF_\" + samp_num + \"_Aligned.sortedByCoord.out.bam\",\n",
    "                \"RNA-seq\"            : data_path + mutation +\"_RNA_\" + samp_num + \"_Aligned.sortedByCoord.out.bam\",\n",
    "              }\n",
    "\n",
    "my_datasets = { K : BAMGenomeArray(V) for K,V in my_datasets.items() }"
   ]
  },
  {
   "cell_type": "markdown",
   "id": "c3cbaeba-a736-4655-832e-f4945d275965",
   "metadata": {},
   "source": [
    "Next, we tell the BAMGenomeArrays which mapping rule to use. We will use a custom built function to apply 3' end mapping to the ribosomal p-site. "
   ]
  },
  {
   "cell_type": "code",
   "execution_count": 19,
   "id": "8f0ba4d0-bcbf-4281-9422-0b9687752475",
   "metadata": {},
   "outputs": [],
   "source": [
    "# Load in the table of P-site offsets. \n",
    "p_offsets=pd.read_csv(p_site_path + mutation +\"_RPF_\" + samp_num + \"_Aligned.toTranscriptome.out_p-site-offsets\", sep=\"\\t\")\n",
    "\n",
    "# Map the ribosome profiling alignments to the p-site. \n",
    "my_datasets[\"ribosome_profiling\"].set_mapping(kat.VariableThreePrimeMapFactory(p_offsets=p_offsets))\n",
    "\n",
    "# Map the RNA sequence alignments along the entire length of each alignment. \n",
    "my_datasets[\"RNA-seq\"].set_mapping(CenterMapFactory())"
   ]
  },
  {
   "cell_type": "code",
   "execution_count": 20,
   "id": "20321931-b6b3-47e2-9c3b-5a1e1a2a774a",
   "metadata": {
    "tags": []
   },
   "outputs": [],
   "source": [
    "# Load up the transcript information from our GTF file\n",
    "gtf_reads=list(GTF2_TranscriptAssembler(open(data_path + gtf_name),return_type=Transcript))"
   ]
  },
  {
   "cell_type": "code",
   "execution_count": null,
   "id": "941e2ea7-d7ae-4497-893c-2e9d24f84522",
   "metadata": {
    "tags": []
   },
   "outputs": [],
   "source": [
    "# we will count gene sub-regions in addition to entire genes\n",
    "region = (\"CDS\")\n",
    "\n",
    "# we will calculate both total counts and RPKM\n",
    "metrics = (\"counts\",\"rpk\",\"lengths\")\n",
    "\n",
    "# create an empty list for each sample, region, and metric\n",
    "my_data = { \"%s_%s\" % (SAMPLE,METRIC) : copy.deepcopy([])\\\n",
    "                                                  for SAMPLE in my_datasets.keys()\\\n",
    "                                                  for METRIC in metrics }\n",
    "\n",
    "# add a list to our dictionary of lists to store transcript IDs\n",
    "my_data[\"transcript_ID\"] = []\n",
    "my_data[\"gene_ID\"] = []\n",
    "\n",
    "for transcript in gtf_reads:\n",
    "        \n",
    "    # First, save ID of transcript we are evaluating\n",
    "    my_data[\"transcript_ID\"].append(transcript.get_name())\n",
    "    my_data[\"gene_ID\"].append(transcript.attr[\"gene_name\"])\n",
    "\n",
    "    # Iterate over each sample, getting the counts over each region\n",
    "    for sample_name, sample_data in my_datasets.items():\n",
    "        # transcript.get_counts() fetches a list of counts at each position\n",
    "        # here we just want the sum\n",
    "        counts = sum(transcript.get_counts(sample_data))\n",
    "        rpk   = float(counts)/(transcript.length/1000)\n",
    "        lengths = transcript.length\n",
    "        #rpkm   = float(counts) / transcript.length * 1000 * 1e6 / sample_data.sum()\n",
    "        my_data[\"%s_counts\" % (sample_name)].append(counts)\n",
    "        my_data[\"%s_rpk\"   % (sample_name)].append(rpk)\n",
    "        my_data[\"%s_lengths\" % (sample_name)].append(lengths)\n",
    "        #my_data[\"%s_rpkm\"   % (sample_name)].append(rpkm)"
   ]
  },
  {
   "cell_type": "code",
   "execution_count": null,
   "id": "8c254b28-34bd-4d35-9a87-bdfc30bd31ad",
   "metadata": {},
   "outputs": [],
   "source": [
    "# convert to Dataframe\n",
    "df = pd.DataFrame(my_data)"
   ]
  },
  {
   "cell_type": "code",
   "execution_count": null,
   "id": "5c2c70c0-5e60-4d90-8326-1a812062ea6c",
   "metadata": {},
   "outputs": [],
   "source": [
    "# Calculate tpm using rpk from our new dataframe. \n",
    "for sample_name, sample_data in my_datasets.items():\n",
    "    per_m_s = sum(df[\"%s_rpk\"   % (sample_name)])/1e6\n",
    "    df[\"%s_tpm\" % (sample_name)] = (df[\"%s_rpk\"   % (sample_name)])/per_m_s\n",
    "    \n",
    "# Calculate rpkm using the read counts. Work in progress.\n",
    "for sample_name, sample_data in my_datasets.items():\n",
    "    counts = df[\"%s_counts\"   % (sample_name)]\n",
    "    rpkm   = counts / df[\"%s_lengths\"   % (sample_name)]*1000 * 1e6 / sum(counts)\n",
    "    df[\"%s_rpkm\" % (sample_name)] = rpkm\n",
    "    \n",
    "    \n",
    "# Calculate translation efficiency using tpm\n",
    "df[\"TE_tpm\"] = df[\"ribosome_profiling_tpm\"] / df[\"RNA-seq_tpm\"]\n",
    "\n",
    "# Calculate translation efficiency using rpkm\n",
    "df[\"TE_rpkm\"] = df[\"ribosome_profiling_rpkm\"] / df[\"RNA-seq_rpkm\"]"
   ]
  },
  {
   "cell_type": "code",
   "execution_count": null,
   "id": "e0924fd1-4458-4120-af35-4c1f2467ff21",
   "metadata": {},
   "outputs": [],
   "source": [
    "# Rearranging Column names to make something more readable. \n",
    "cols = ['transcript_ID', \"gene_ID\", 'TE_tpm','TE_rpkm','ribosome_profiling_tpm',\n",
    "        'RNA-seq_tpm','ribosome_profiling_counts','RNA-seq_counts',\n",
    "        'ribosome_profiling_rpkm', 'RNA-seq_rpkm', 'ribosome_profiling_rpk', \n",
    "       'RNA-seq_rpk', 'ribosome_profiling_lengths', 'RNA-seq_lengths']\n",
    "df = df[cols]"
   ]
  },
  {
   "cell_type": "code",
   "execution_count": null,
   "id": "97622b7c-9329-4c54-955a-72d2bc82ffcc",
   "metadata": {},
   "outputs": [],
   "source": [
    "# save the data frame.\n",
    "if pre_load == False:\n",
    "    df.to_csv(save_path + mutation + '_' + samp_num + '_' + \"te_table\" + special + \".csv\", index=False)"
   ]
  },
  {
   "cell_type": "code",
   "execution_count": null,
   "id": "9b62be0e-5ce6-436f-9682-1c0a33ed8fae",
   "metadata": {},
   "outputs": [],
   "source": [
    "#!# A line of code that quickly loads up the data if it has already been saved. \n",
    "if pre_load == True:\n",
    "    df = pd.read_csv(save_path + mutation + '_' + samp_num + '_' + \"te_table\" + special + \".csv\", index=False)"
   ]
  },
  {
   "cell_type": "markdown",
   "id": "355c298f-0cbb-43a1-bb9d-db3d5f5b8c47",
   "metadata": {},
   "source": [
    "## Distribution of translation efficiency"
   ]
  },
  {
   "cell_type": "code",
   "execution_count": null,
   "id": "6667b962-039c-43ba-a805-e39d7e19ab6c",
   "metadata": {},
   "outputs": [],
   "source": [
    "df_clean=df[~df.isin([np.nan, np.inf, -np.inf, 0]).any(1)]\n",
    "df_interest=df_clean[(df_clean[\"TE_tpm\"] >= 5)&(df_clean[\"TE_tpm\"] <= 800)]"
   ]
  },
  {
   "cell_type": "code",
   "execution_count": null,
   "id": "dd2514e2-04ae-4f6b-9bd5-e80a39b6c716",
   "metadata": {},
   "outputs": [],
   "source": [
    "# plot kernel density estimates of A and B on the same axis\n",
    "fig, ax = kde_plot(df_clean[\"TE_rpkm\"],label=\"TE\")\n",
    "\n",
    "# make things look nice\n",
    "plt.xlabel(\"TE\")\n",
    "plt.ylabel(\"Probability density\")\n",
    "plt.title(\"kde_plot() demo\",y=1.1)\n",
    "plt.xlim(0,100)"
   ]
  },
  {
   "cell_type": "markdown",
   "id": "67873f84-5f9c-42c7-8d1f-0be3682cec11",
   "metadata": {},
   "source": [
    "## Translation levels vs transcription levels"
   ]
  },
  {
   "cell_type": "code",
   "execution_count": null,
   "id": "3a4fad1a-128c-4702-acc0-a3218b3c47e1",
   "metadata": {
    "tags": []
   },
   "outputs": [],
   "source": [
    "my_figure = plt.figure()\n",
    "plt.loglog() # log-scaling makes it easier\n",
    "\n",
    "# make a copy of dataframe for plotting\n",
    "# this is because 0-values cannot be plotted in log-space,\n",
    "# so we set them to a pseudo value called `MIN_VAL`\n",
    "\n",
    "MIN_VAL = np.nan\n",
    "plot_df = copy.deepcopy(df)\n",
    "plot_df[\"RNA-seq_tpm\"].replace({0:MIN_VAL}, inplace=True)\n",
    "plot_df[\"ribosome_profiling_tpm\"].replace({0:MIN_VAL}, inplace=True)\n",
    "\n",
    "# now, make a scatter plot\n",
    "plt.scatter(plot_df[\"RNA-seq_tpm\"],\n",
    "            plot_df[\"ribosome_profiling_tpm\"],\n",
    "            marker=\"o\",alpha=0.5,facecolor=\"none\",edgecolor=\"#007ADF\")\n",
    "plt.xlabel(\"Transcript levels (tpm of mRNA fragments over CDS)\")\n",
    "plt.ylabel(\"Translation (tpm of footprints over CDS)\")"
   ]
  },
  {
   "cell_type": "markdown",
   "id": "7d86f4f5-1863-4936-bf4c-f3fc05e32ae6",
   "metadata": {},
   "source": [
    "## Translation efficiency vs transcript levels."
   ]
  },
  {
   "cell_type": "code",
   "execution_count": null,
   "id": "4dc0b46b-a024-415e-bf35-e9dfdde46b5e",
   "metadata": {},
   "outputs": [],
   "source": [
    "plt.loglog()\n",
    "plot_df = copy.deepcopy(df)\n",
    "plot_df[\"RNA-seq_rpkm\"].replace({0:MIN_VAL}, inplace=True)\n",
    "plot_df[\"ribosome_profiling_rpkm\"].replace({0:MIN_VAL}, inplace=True)\n",
    "\n",
    "# now, make a scatter plot\n",
    "plt.scatter(plot_df[\"RNA-seq_rpkm\"],\n",
    "            plot_df[\"TE_tpm\"],\n",
    "            marker=\"o\",alpha=0.2,facecolor=\"none\",edgecolor=\"#007ADF\")\n",
    "plt.xlabel(\"Transcript levels (RPKM of mRNA fragments over all exons)\")\n",
    "plt.ylabel(\"Translation efficiency\")\n",
    "plt.xlim(1,plt.xlim()[1])\n",
    "plt.ylim(plt.ylim()[0]/10.0,100)\n",
    "\n",
    "plt"
   ]
  },
  {
   "cell_type": "code",
   "execution_count": null,
   "id": "a2ac1c3b-9e9c-4133-8e24-c96132d2076b",
   "metadata": {},
   "outputs": [],
   "source": []
  }
 ],
 "metadata": {
  "kernelspec": {
   "display_name": "Python 3 (ipykernel)",
   "language": "python",
   "name": "python3"
  },
  "language_info": {
   "codemirror_mode": {
    "name": "ipython",
    "version": 3
   },
   "file_extension": ".py",
   "mimetype": "text/x-python",
   "name": "python",
   "nbconvert_exporter": "python",
   "pygments_lexer": "ipython3",
   "version": "3.8.12"
  }
 },
 "nbformat": 4,
 "nbformat_minor": 5
}
