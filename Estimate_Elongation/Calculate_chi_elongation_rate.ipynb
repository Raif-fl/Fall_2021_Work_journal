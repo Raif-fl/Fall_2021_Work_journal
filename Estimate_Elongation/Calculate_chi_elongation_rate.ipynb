{
 "cells": [
  {
   "cell_type": "markdown",
   "id": "05b1a7d4-8ede-4530-8784-598021ff19b7",
   "metadata": {
    "tags": []
   },
   "source": [
    "## Loading up packages"
   ]
  },
  {
   "cell_type": "code",
   "execution_count": 2,
   "id": "689d2f5a-dd27-446c-9ac8-fce87964847a",
   "metadata": {},
   "outputs": [],
   "source": [
    "# Let the program know where to find my tools file.\n",
    "import sys\n",
    "sys.path.append('/home/keeganfl/Desktop/Work_Fall_2021/Fall_2021_Work_journal/tools/')"
   ]
  },
  {
   "cell_type": "code",
   "execution_count": 3,
   "id": "258ba41d-98c8-490c-9e86-9b30381b6a3f",
   "metadata": {},
   "outputs": [],
   "source": [
    "# Load up the necessary packages \n",
    "from plastid import BAMGenomeArray, GenomeArray, VariableFivePrimeMapFactory, \\\n",
    "                        GTF2_TranscriptAssembler, GFF3_TranscriptAssembler, \\\n",
    "                        Transcript, ThreePrimeMapFactory, CenterMapFactory\n",
    "import plastid\n",
    "from plastid.plotting.plots import *\n",
    "import numpy as np\n",
    "import os\n",
    "from Bio import SeqIO\n",
    "import numpy\n",
    "import math\n",
    "import pandas as pd\n",
    "from scipy import stats\n",
    "import keegan_analysis_tools as kat\n",
    "from statsmodels.nonparametric.smoothers_lowess import lowess\n",
    "import warnings\n",
    "import matplotlib.pyplot as plt\n",
    "%matplotlib inline\n",
    "import csv\n",
    "from scipy.sparse.linalg import lsqr\n",
    "from tqdm import tqdm"
   ]
  },
  {
   "cell_type": "code",
   "execution_count": 4,
   "id": "343f487e-3f45-484e-b2f8-902d63ac354b",
   "metadata": {},
   "outputs": [],
   "source": [
    "# Define important paths. \n",
    "data_path = \"/home/keeganfl/Desktop/Work_Fall_2021/genomes_&_samples/dmel/\"\n",
    "position_count_path = \"/home/keeganfl/Desktop/Work_Fall_2021/data_tables/position_counts_codon_resolution/dmel/\"\n",
    "te_table_path = '/home/keeganfl/Desktop/Work_Fall_2021/data_tables/TE_tables/dmel/'\n",
    "save_path = \"/home/keeganfl/Desktop/Work_Fall_2021/data_tables/elongation_rates/dmel/\"\n",
    "save_path2 = \"/home/keeganfl/Desktop/Work_Fall_2021/data_tables/initiation_rates/dmel/\"\n",
    "save_path3 = \"/home/keeganfl/Desktop/Work_Fall_2021/data_tables/termination_rates/dmel/\"\n",
    "gtf_name = \"Drosophila_melanogaster.BDGP6.32.103.gtf\"\n",
    "mutation = 'Fmr1'\n",
    "samp_num = '2'"
   ]
  },
  {
   "cell_type": "markdown",
   "id": "0020ce2d-6798-4126-b4a4-19b807e22235",
   "metadata": {
    "tags": []
   },
   "source": [
    "## Loading up the data files "
   ]
  },
  {
   "cell_type": "code",
   "execution_count": 5,
   "id": "2f5d7d49-3fd4-43f9-af60-b5606a01146b",
   "metadata": {
    "tags": []
   },
   "outputs": [],
   "source": [
    "# load the transcript annotations from the GTF file.\n",
    "# GTF2_TranscriptAssembler returns an iterator, so here we convert it to a list.\n",
    "transcripts = list(GTF2_TranscriptAssembler(open(data_path + gtf_name),return_type=Transcript))"
   ]
  },
  {
   "cell_type": "code",
   "execution_count": 6,
   "id": "b993adda-5136-4a43-b862-0b279a75da54",
   "metadata": {},
   "outputs": [],
   "source": [
    "# Remove non-protein coding transcripts from transcripts list. \n",
    "protein_coding = []\n",
    "for transcript in transcripts:\n",
    "    if transcript.attr['gene_biotype'] == 'protein_coding':\n",
    "        protein_coding.append(transcript)"
   ]
  },
  {
   "cell_type": "code",
   "execution_count": 7,
   "id": "bd341c37-774d-4d65-bccb-602680821fcd",
   "metadata": {},
   "outputs": [],
   "source": [
    "# clear up some memory by deleting original transcript list\n",
    "transcripts.clear()"
   ]
  },
  {
   "cell_type": "markdown",
   "id": "3964f9cb-c183-4a98-ab01-37334ceeade8",
   "metadata": {
    "tags": []
   },
   "source": [
    "## Loading up the position counts file."
   ]
  },
  {
   "cell_type": "code",
   "execution_count": 8,
   "id": "eae6bf14-18c0-4bfc-b790-44f30d26c9c0",
   "metadata": {},
   "outputs": [],
   "source": [
    "data = kat.load_count_positions(mutation + \"_\" + samp_num + \"_counts.csv\",position_count_path)"
   ]
  },
  {
   "cell_type": "markdown",
   "id": "b54f0e8e-c274-4c6d-967b-2083264d58fb",
   "metadata": {},
   "source": [
    "## Loading up the TE table"
   ]
  },
  {
   "cell_type": "code",
   "execution_count": 9,
   "id": "54d27bc3-97f8-4f3c-95c2-c6d6b7f3ef13",
   "metadata": {},
   "outputs": [],
   "source": [
    "te_table = pd.read_csv(te_table_path + mutation + \"_\" + samp_num + \"_te_tablefc.csv\")"
   ]
  },
  {
   "cell_type": "markdown",
   "id": "95aa3b97-85d4-41a0-b929-b1662f6570b8",
   "metadata": {},
   "source": [
    "## Getting the codon sequence"
   ]
  },
  {
   "cell_type": "code",
   "execution_count": 10,
   "id": "f2b35044-5170-43e0-998b-235c6f21640f",
   "metadata": {},
   "outputs": [],
   "source": [
    "# Use SeqIO to load up the sequence information for all the cds regions\n",
    "genome = SeqIO.to_dict(SeqIO.parse(\n",
    "    open(data_path + \"Drosophila_melanogaster.BDGP6.32.cds.all.fa\"),\"fasta\"))"
   ]
  },
  {
   "cell_type": "code",
   "execution_count": 11,
   "id": "18044aa0-05d1-4ee0-9b98-d870a1fcbe4d",
   "metadata": {},
   "outputs": [],
   "source": [
    "# Load up the sequences for all of the protein coding genes into a list\n",
    "cds_sequence=[]\n",
    "for transcript in protein_coding:\n",
    "    t_id = transcript.attr[\"transcript_id\"]\n",
    "    cds_sequence.append(str(genome[t_id].seq))"
   ]
  },
  {
   "cell_type": "code",
   "execution_count": 12,
   "id": "cf940f97-e9e2-4595-b9b8-74a0f53d7dd5",
   "metadata": {},
   "outputs": [],
   "source": [
    "# Create a dictionary that matches every codon to a number. This will be used later for deconvolution\n",
    "cd_dict = {'TTT':0,'TTC':1,'TTG':2,'TTA':3,\n",
    "          'TCT':4,'TCC':5,'TCG':6,'TCA':7,\n",
    "          'TGT':8,'TGC':9,'TGG':10,'TGA':11,\n",
    "          'TAT':12,'TAC':13,'TAG':14,'TAA':15,\n",
    "          'CTT':16,'CTC':17,'CTG':18,'CTA':19,\n",
    "          'CCT':20,'CCC':21,'CCG':22,'CCA':23,\n",
    "          'CGT':24,'CGC':25,'CGG':26,'CGA':27,\n",
    "          'CAT':28,'CAC':29,'CAG':30,'CAA':31,\n",
    "          'GTT':32,'GTC':33,'GTG':34,'GTA':35,\n",
    "          'GCT':36,'GCC':37,'GCG':38,'GCA':39,\n",
    "          'GGT':40,'GGC':41,'GGG':42,'GGA':43,\n",
    "          'GAT':44,'GAC':45,'GAG':46,'GAA':47,\n",
    "          'ATT':48,'ATC':49,'ATG':50,'ATA':51,\n",
    "          'ACT':52,'ACC':53,'ACG':54,'ACA':55,\n",
    "          'AGT':56,'AGC':57,'AGG':58,'AGA':59,\n",
    "          'AAT':60,'AAC':61,'AAG':62,'AAA':63}"
   ]
  },
  {
   "cell_type": "code",
   "execution_count": 13,
   "id": "2e012ccd-2a6d-4c78-9d2f-ebb128ba4f18",
   "metadata": {
    "tags": []
   },
   "outputs": [],
   "source": [
    "# create a list that will hold a set of numbers corresponding to each codon for each gene.\n",
    "codon_seq_list = []\n",
    "for seq in cds_sequence:\n",
    "    codon_seq = []\n",
    "    for i in range(0, len(seq), 3):\n",
    "        try:\n",
    "            codon_seq.append(cd_dict[seq[i:i+3]])\n",
    "        except:\n",
    "            pass\n",
    "    codon_seq_list.append(codon_seq)"
   ]
  },
  {
   "cell_type": "markdown",
   "id": "e5feaf8e-eb9f-4c1b-9e73-e310e35330ad",
   "metadata": {
    "tags": []
   },
   "source": [
    "## Calculating Elongation rates"
   ]
  },
  {
   "cell_type": "code",
   "execution_count": 14,
   "id": "79727356-991f-4c6a-8c24-a7d4236f7ac7",
   "metadata": {},
   "outputs": [],
   "source": [
    "# Create a function to obtain a normalized profile (p) of ribosome footprints using the chi adjustment from sharma et al. \n",
    "def calculate_p_chi(data_counts, data_te, chi = 0.00289):\n",
    "    p_list = []\n",
    "    for i, j in zip(data_counts, te_table.TE_rpkm):\n",
    "        pi = j*chi\n",
    "        i = i+1\n",
    "        M = sum(i)\n",
    "        p = (i/M)*float(pi)*(len(i)-1)\n",
    "        p_list.append(p)\n",
    "    return(p_list)"
   ]
  },
  {
   "cell_type": "code",
   "execution_count": 15,
   "id": "78452e6e-f5c3-4eb1-a6cb-f26b875201af",
   "metadata": {},
   "outputs": [],
   "source": [
    "# determine the normalized profile densities for all genes\n",
    "p_list = calculate_p_chi(data, te_table, 0.00289)"
   ]
  },
  {
   "cell_type": "code",
   "execution_count": 16,
   "id": "38b27296-df85-4da6-bf38-e8a40018fe16",
   "metadata": {},
   "outputs": [],
   "source": [
    "# determine the 10 codon sliding averages of the particle densities for all genes. \n",
    "pbar_list = kat.calculate_pbar(p_list)"
   ]
  },
  {
   "cell_type": "code",
   "execution_count": 17,
   "id": "fc95a2f7-4827-4582-bc9c-95c369617278",
   "metadata": {},
   "outputs": [
    {
     "name": "stderr",
     "output_type": "stream",
     "text": [
      "---------------------------------------------------------------------------\n",
      "RuntimeWarning\n",
      "invalid value encountered in double_scalars\n",
      "in /home/keeganfl/Desktop/Work_Fall_2021/Fall_2021_Work_journal/tools/keegan_analysis_tools.py, line 411:\n",
      "\n",
      "409                 lbar_x=9999\n",
      "410             else:\n",
      "411                 lbar_x = (1-9*pbarx)/(pbarx*(1-pbarx))\n",
      "412             lbar.append(lbar_x)\n",
      "413         lbar_list.append(np.array(lbar))\n",
      "\n",
      "---------------------------------------------------------------------------\n"
     ]
    }
   ],
   "source": [
    "# determine the scaled elongation rates for all genes. \n",
    "lbar_list = kat.calculate_lbar(pbar_list)"
   ]
  },
  {
   "cell_type": "code",
   "execution_count": 18,
   "id": "8197b185-26f4-4528-bd57-1050674993a0",
   "metadata": {},
   "outputs": [],
   "source": [
    "x = -1\n",
    "for pbar in pbar_list:\n",
    "    pbar[0] == 0\n",
    "    x = x+1"
   ]
  },
  {
   "cell_type": "code",
   "execution_count": 19,
   "id": "0366b377-53a3-406f-b7e9-becc899d27ff",
   "metadata": {},
   "outputs": [],
   "source": [
    "# calculate the scaled initiation and termination rates\n",
    "init_r= []\n",
    "for pbar in pbar_list:\n",
    "    if pbar[0] == 0:\n",
    "        init_r.append(1/(1-10*0.00001))\n",
    "    else:\n",
    "        init_r.append(1/(1-10*pbar[0]))\n",
    "\n",
    "term_r = []\n",
    "for p in p_list:\n",
    "    if p[-1] ==0:\n",
    "        term_r.append(1/0.00001)\n",
    "    else:\n",
    "        term_r.append(1/(p[-1]))\n"
   ]
  },
  {
   "cell_type": "code",
   "execution_count": 20,
   "id": "5193c623-c7e6-4a45-b00d-3fe6f6ed3290",
   "metadata": {
    "tags": []
   },
   "outputs": [
    {
     "name": "stderr",
     "output_type": "stream",
     "text": [
      "30710it [04:11, 122.33it/s]\n"
     ]
    }
   ],
   "source": [
    "# determine the scaling constant tau for all genes (note that this will utilize all of your computers processors) \n",
    "tau_list = kat.calculate_tau(lbar_list, codon_seq_list)"
   ]
  },
  {
   "cell_type": "code",
   "execution_count": 23,
   "id": "ac4f3731-c60e-4207-a054-66156b1e75fe",
   "metadata": {},
   "outputs": [],
   "source": [
    "# Calculate the unscaled elongation rates\n",
    "elongation_list = np.array(lbar_list, dtype=object)/np.array(tau_list, dtype=object)\n",
    "\n",
    "# Convert the unscaled elongation rates to a list so they can be more easily saved\n",
    "elongation_list = elongation_list.tolist()\n",
    "for elon, i in zip(elongation_list, list(range(len(elongation_list)))):\n",
    "    elongation_list[i] = elon.tolist()"
   ]
  },
  {
   "cell_type": "code",
   "execution_count": 127,
   "id": "17a2decb-90d8-4fb9-9cee-aeb87c1db400",
   "metadata": {},
   "outputs": [],
   "source": [
    "# Calculate the unscaled initiation rates and termination rates for all genes.\n",
    "initiation_list = np.array(init_r, dtype=object)/np.array(tau_list, dtype =object)\n",
    "termination_list = np.array(term_r, dtype=object)/np.array(tau_list, dtype =object)\n",
    "\n",
    "# save unscaled initiation and termination rates as CSVs\n",
    "np.savetxt(save_path2 + mutation + '_' + samp_num + '_adjusted_initiation_rates', initiation_list, delimiter = \",\")\n",
    "np.savetxt(save_path3 + mutation + '_' + samp_num + '_adjusted_termination_rates', termination_list, delimiter = \",\")"
   ]
  },
  {
   "cell_type": "markdown",
   "id": "a5258c0d-9fcf-4ff4-af49-53ec9479c964",
   "metadata": {
    "tags": []
   },
   "source": [
    "## Save unscaled elongation rates as a csv"
   ]
  },
  {
   "cell_type": "code",
   "execution_count": 24,
   "id": "73f903df-4565-405c-a389-67b66d685fe8",
   "metadata": {},
   "outputs": [],
   "source": [
    "# Create a list that contains all of the gene_ids and transcript_ids of the transcripts\n",
    "gene_id = []\n",
    "transcript_id = []\n",
    "\n",
    "for transcript in protein_coding:\n",
    "    gene_id.append(transcript.attr[\"gene_name\"])\n",
    "    transcript_id.append(transcript.attr[\"transcript_id\"])"
   ]
  },
  {
   "cell_type": "code",
   "execution_count": 25,
   "id": "af714a79-3c54-4b56-b49b-c1ed6e4baa35",
   "metadata": {},
   "outputs": [],
   "source": [
    "# Insert the gene ids and transcript ids into the codon_count list. \n",
    "for i,j in zip(elongation_list, range(len(gene_id))):\n",
    "    i.insert(0,gene_id[j])\n",
    "    i.insert(0,transcript_id[j])"
   ]
  },
  {
   "cell_type": "code",
   "execution_count": 26,
   "id": "f8b87d5a-5439-4e67-8d49-97167b209694",
   "metadata": {
    "tags": []
   },
   "outputs": [],
   "source": [
    "# Calculate the longest cds region in our new list of counts\n",
    "l_tr = kat.find_max_list(elongation_list)\n",
    "\n",
    "# Define a header that includes labels for the transcript and gene ID as \n",
    "# well as numbers that index the cds region position.\n",
    "header=[\"transcript_id\",\"gene_id\"]+list(range(l_tr))\n",
    "\n",
    "# insert that header into our counts list. \n",
    "elongation_list.insert(0,header)"
   ]
  },
  {
   "cell_type": "code",
   "execution_count": 131,
   "id": "2634eac9-4ab0-44b2-9fad-9793849599d2",
   "metadata": {},
   "outputs": [],
   "source": [
    "# save as a csv\n",
    "with open(save_path + mutation + '_' + samp_num + '_adjusted_elongation_rates', 'w', newline='') as f:\n",
    "    writer = csv.writer(f)\n",
    "    writer.writerows(elongation_list)"
   ]
  },
  {
   "cell_type": "code",
   "execution_count": null,
   "id": "76de73e6-2842-480b-8bc1-04bca1f592ab",
   "metadata": {},
   "outputs": [],
   "source": []
  }
 ],
 "metadata": {
  "kernelspec": {
   "display_name": "Python 3 (ipykernel)",
   "language": "python",
   "name": "python3"
  },
  "language_info": {
   "codemirror_mode": {
    "name": "ipython",
    "version": 3
   },
   "file_extension": ".py",
   "mimetype": "text/x-python",
   "name": "python",
   "nbconvert_exporter": "python",
   "pygments_lexer": "ipython3",
   "version": "3.8.12"
  }
 },
 "nbformat": 4,
 "nbformat_minor": 5
}
