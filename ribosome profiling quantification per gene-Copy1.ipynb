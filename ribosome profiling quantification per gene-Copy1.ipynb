{
 "cells": [
  {
   "cell_type": "code",
   "execution_count": 1,
   "metadata": {
    "collapsed": false,
    "jupyter": {
     "outputs_hidden": false
    }
   },
   "outputs": [],
   "source": [
    "import matplotlib.pyplot as plt"
   ]
  },
  {
   "cell_type": "code",
   "execution_count": 1,
   "metadata": {
    "collapsed": false,
    "jupyter": {
     "outputs_hidden": false
    }
   },
   "outputs": [],
   "source": [
    "from plastid import GTF2_Reader, BAMGenomeArray, FivePrimeMapFactory, BED_Reader, Transcript, BigWigGenomeArray, BigWigReader, GenomicSegment"
   ]
  },
  {
   "cell_type": "code",
   "execution_count": 3,
   "metadata": {
    "collapsed": true,
    "jupyter": {
     "outputs_hidden": true
    }
   },
   "outputs": [],
   "source": [
    "import numpy as np"
   ]
  },
  {
   "cell_type": "code",
   "execution_count": null,
   "metadata": {
    "collapsed": false,
    "jupyter": {
     "outputs_hidden": false
    }
   },
   "outputs": [],
   "source": [
    "transcripts = list(GTF2_Reader(\"dmel-mrna-r6.18.gtf\",return_type=Transcript))"
   ]
  },
  {
   "cell_type": "code",
   "execution_count": 5,
   "metadata": {
    "collapsed": true,
    "jupyter": {
     "outputs_hidden": true
    }
   },
   "outputs": [],
   "source": [
    "#returns index of transcript of given name (i.e. FBtr1239821) from transcripts array\n",
    "def find_index(name):\n",
    "    x=0\n",
    "    for transcript in transcripts:\n",
    "        if transcripts[x].get_name()==name:\n",
    "            return x\n",
    "        x += 1"
   ]
  },
  {
   "cell_type": "code",
   "execution_count": 6,
   "metadata": {
    "collapsed": false,
    "jupyter": {
     "outputs_hidden": false
    }
   },
   "outputs": [],
   "source": [
    "#returns counts in count_vector array along protein coding segments of transcripts for given data array (count_data)\n",
    "def get_counts(count_vector, count_data):\n",
    "    i=0\n",
    "    for transcript in transcripts:\n",
    "        if transcript.get_cds().segments != []:\n",
    "            count_vector.append([])\n",
    "            for segment in transcript.get_cds().segments:\n",
    "                count_vector[i]=np.insert(count_vector[i],len(count_vector[i]),count_data[segment])\n",
    "            i+=1\n",
    "        else:\n",
    "            count_vector.append([])\n",
    "            i+=1"
   ]
  },
  {
   "cell_type": "code",
   "execution_count": 7,
   "metadata": {
    "collapsed": true,
    "jupyter": {
     "outputs_hidden": true
    }
   },
   "outputs": [],
   "source": [
    "#returns counts in count_vector array along protein coding segments of transcripts for given data array (count_data)\n",
    "def get_utr5_counts(count_vector, count_data):\n",
    "    i=0\n",
    "    for transcript in transcripts:\n",
    "        if transcript.get_utr5().segments != []:\n",
    "            count_vector.append([])\n",
    "            for segment in transcript.get_utr5().segments:\n",
    "                count_vector[i]=np.insert(count_vector[i],len(count_vector[i]),count_data[segment])\n",
    "            i+=1\n",
    "        else:\n",
    "            count_vector.append([])\n",
    "            i+=1"
   ]
  },
  {
   "cell_type": "code",
   "execution_count": 8,
   "metadata": {
    "collapsed": true,
    "jupyter": {
     "outputs_hidden": true
    }
   },
   "outputs": [],
   "source": [
    "#returns counts in count_vector array along protein coding segments of transcripts for given data array (count_data)\n",
    "def get_utr3_counts(count_vector, count_data):\n",
    "    i=0\n",
    "    for transcript in transcripts:\n",
    "        if transcript.get_utr3().segments != []:\n",
    "            count_vector.append([])\n",
    "            for segment in transcript.get_utr3().segments:\n",
    "                count_vector[i]=np.insert(count_vector[i],len(count_vector[i]),count_data[segment])\n",
    "            i+=1\n",
    "        else:\n",
    "            count_vector.append([])\n",
    "            i+=1"
   ]
  },
  {
   "cell_type": "code",
   "execution_count": 9,
   "metadata": {
    "collapsed": false,
    "jupyter": {
     "outputs_hidden": false
    }
   },
   "outputs": [],
   "source": [
    "#sums the counts for a gene across all its transcripts (giving FPM values)\n",
    "def gene_counts_no_norm(gene_counts_vector,counts_data):\n",
    "\n",
    "    i=0\n",
    "    for index in counts_data:\n",
    "        if gene_IDs[i] not in genes:\n",
    "            genes.append(gene_IDs[i])\n",
    "            gene_counts_vector.append(np.sum(counts_data[i]))\n",
    "        else:\n",
    "            r = genes.index(gene_IDs[i])\n",
    "            gene_counts_vector[r] = gene_counts_vector[r] + np.sum(counts_data[i])\n",
    "        i += 1\n",
    "        "
   ]
  },
  {
   "cell_type": "code",
   "execution_count": 10,
   "metadata": {
    "collapsed": false,
    "jupyter": {
     "outputs_hidden": false
    }
   },
   "outputs": [],
   "source": [
    "#sums the counts for a gene across all its transcripts and normalizes by 1000 / sum transcript length (giving FPKM values)\n",
    "def gene_counts(gene_counts_vector,counts_data):\n",
    "\n",
    "    i=0\n",
    "    genes=[]\n",
    "    for index in counts_data:\n",
    "        if gene_IDs[i] not in genes:\n",
    "            genes.append(gene_IDs[i])\n",
    "            gene_counts_vector.append(np.sum(counts_data[i])*1000/len(counts_data[i]))\n",
    "        else:\n",
    "            r = genes.index(gene_IDs[i])\n",
    "            gene_counts_vector[r] = gene_counts_vector[r] + np.sum(counts_data[i])*1000/len(counts_data[i])\n",
    "        i += 1"
   ]
  },
  {
   "cell_type": "code",
   "execution_count": 11,
   "metadata": {
    "collapsed": true,
    "jupyter": {
     "outputs_hidden": true
    }
   },
   "outputs": [],
   "source": [
    "#return total counts\n",
    "def total(counts_data):\n",
    "    x = 0\n",
    "    for i in counts_data:\n",
    "        x += np.sum(i)\n",
    "    return x"
   ]
  },
  {
   "cell_type": "code",
   "execution_count": 12,
   "metadata": {
    "collapsed": true,
    "jupyter": {
     "outputs_hidden": true
    }
   },
   "outputs": [],
   "source": [
    "#the 'transcript_genes.tsv' constains transcript ID's for all genes\n",
    "transcript_ID_infile = open('riboprofiling/transcript_genes.tsv','r')"
   ]
  },
  {
   "cell_type": "code",
   "execution_count": 13,
   "metadata": {
    "collapsed": false,
    "jupyter": {
     "outputs_hidden": false
    }
   },
   "outputs": [],
   "source": [
    "#copy transcript and gene IDs into 'transcript_IDs' and 'gene_IDs' arrays\n",
    "transcript_IDs = []\n",
    "gene_IDs = []\n",
    "for line in transcript_ID_infile:\n",
    "    l = line.split('\\t')\n",
    "    transcript_IDs.append(l[0])\n",
    "    gene_IDs.append(l[1].split('-R')[0]) #remove transcript -RA -RB etc from transcript name\n",
    "    "
   ]
  },
  {
   "cell_type": "code",
   "execution_count": 14,
   "metadata": {
    "collapsed": false,
    "jupyter": {
     "outputs_hidden": false
    }
   },
   "outputs": [],
   "source": [
    "#copy gene IDs into nonredundant array 'genes'\n",
    "genes=[]\n",
    "i=0\n",
    "for index in gene_IDs:\n",
    "    if index not in genes:\n",
    "        genes.append(index)\n",
    "    i+=1\n",
    "    "
   ]
  },
  {
   "cell_type": "code",
   "execution_count": 17,
   "metadata": {
    "collapsed": false,
    "jupyter": {
     "outputs_hidden": false
    }
   },
   "outputs": [],
   "source": [
    "M_all = BAMGenomeArray(\"M_all.bam\")"
   ]
  },
  {
   "cell_type": "code",
   "execution_count": 18,
   "metadata": {
    "collapsed": false,
    "jupyter": {
     "outputs_hidden": false
    }
   },
   "outputs": [],
   "source": [
    "F_all = BAMGenomeArray(\"F_all.bam\")"
   ]
  },
  {
   "cell_type": "code",
   "execution_count": 19,
   "metadata": {
    "collapsed": true,
    "jupyter": {
     "outputs_hidden": true
    }
   },
   "outputs": [],
   "source": [
    "counts_M = []\n",
    "counts_F = []"
   ]
  },
  {
   "cell_type": "code",
   "execution_count": 52,
   "metadata": {
    "collapsed": false,
    "jupyter": {
     "outputs_hidden": false
    }
   },
   "outputs": [
    {
     "data": {
      "text/plain": [
       "array([ 0.06350806,  0.06350806,  0.06350806, ...,  0.03125   ,\n",
       "        0.03125   ,  0.03125   ])"
      ]
     },
     "execution_count": 52,
     "metadata": {},
     "output_type": "execute_result"
    }
   ],
   "source": [
    "M_counts[4818]"
   ]
  },
  {
   "cell_type": "code",
   "execution_count": 23,
   "metadata": {
    "collapsed": true,
    "jupyter": {
     "outputs_hidden": true
    }
   },
   "outputs": [],
   "source": [
    "M_counts = []\n",
    "F_counts = []"
   ]
  },
  {
   "cell_type": "code",
   "execution_count": 25,
   "metadata": {
    "collapsed": false,
    "jupyter": {
     "outputs_hidden": false
    }
   },
   "outputs": [],
   "source": [
    "for transcript in transcripts:\n",
    "    M_counts.append(transcript.get_counts(M_all))\n",
    "    F_counts.append(transcript.get_counts(F_all))\n",
    "    "
   ]
  },
  {
   "cell_type": "code",
   "execution_count": 31,
   "metadata": {
    "collapsed": false,
    "jupyter": {
     "outputs_hidden": false
    }
   },
   "outputs": [],
   "source": [
    "M_sum = 0\n",
    "F_sum = 0\n",
    "for counts in M_counts:\n",
    "    M_sum+=counts.sum()\n",
    "for counts in F_counts:\n",
    "    F_sum+=counts.sum()"
   ]
  },
  {
   "cell_type": "code",
   "execution_count": 32,
   "metadata": {
    "collapsed": false,
    "jupyter": {
     "outputs_hidden": false
    }
   },
   "outputs": [
    {
     "data": {
      "text/plain": [
       "2475583.7180980104"
      ]
     },
     "execution_count": 32,
     "metadata": {},
     "output_type": "execute_result"
    }
   ],
   "source": [
    "M_sum"
   ]
  },
  {
   "cell_type": "code",
   "execution_count": 33,
   "metadata": {
    "collapsed": false,
    "jupyter": {
     "outputs_hidden": false
    }
   },
   "outputs": [
    {
     "data": {
      "text/plain": [
       "4301261.3360799327"
      ]
     },
     "execution_count": 33,
     "metadata": {},
     "output_type": "execute_result"
    }
   ],
   "source": [
    "F_sum"
   ]
  },
  {
   "cell_type": "code",
   "execution_count": 34,
   "metadata": {
    "collapsed": false,
    "jupyter": {
     "outputs_hidden": false
    }
   },
   "outputs": [
    {
     "data": {
      "text/plain": [
       "2818"
      ]
     },
     "execution_count": 34,
     "metadata": {},
     "output_type": "execute_result"
    }
   ],
   "source": [
    "find_index('FBtr0079545') #poe"
   ]
  },
  {
   "cell_type": "code",
   "execution_count": 41,
   "metadata": {
    "collapsed": false,
    "jupyter": {
     "outputs_hidden": false
    }
   },
   "outputs": [],
   "source": [
    "M_counts_norm = []\n",
    "for counts in M_counts:\n",
    "    M_counts_norm.append(counts*4301261.3360799327 / 2475583.7180980104)"
   ]
  },
  {
   "cell_type": "code",
   "execution_count": 42,
   "metadata": {
    "collapsed": false,
    "jupyter": {
     "outputs_hidden": false
    }
   },
   "outputs": [
    {
     "data": {
      "image/png": "[encoded data removed]",
      "text/plain": [
       "<matplotlib.figure.Figure at 0x10c858950>"
      ]
     },
     "metadata": {},
     "output_type": "display_data"
    }
   ],
   "source": [
    "plt.plot(M_counts_norm[2818])\n",
    "plt.plot(F_counts[2818])\n",
    "plt.show()"
   ]
  },
  {
   "cell_type": "code",
   "execution_count": 39,
   "metadata": {
    "collapsed": false,
    "jupyter": {
     "outputs_hidden": false
    }
   },
   "outputs": [
    {
     "data": {
      "text/plain": [
       "3255"
      ]
     },
     "execution_count": 39,
     "metadata": {},
     "output_type": "execute_result"
    }
   ],
   "source": [
    "find_index('FBtr0079975') #me31b"
   ]
  },
  {
   "cell_type": "code",
   "execution_count": 43,
   "metadata": {
    "collapsed": false,
    "jupyter": {
     "outputs_hidden": false
    }
   },
   "outputs": [
    {
     "data": {
      "image/png": "[encoded data removed]",
      "text/plain": [
       "<matplotlib.figure.Figure at 0x10cb77290>"
      ]
     },
     "metadata": {},
     "output_type": "display_data"
    }
   ],
   "source": [
    "plt.plot(M_counts_norm[3255])\n",
    "plt.plot(F_counts[3255])\n",
    "plt.show()"
   ]
  },
  {
   "cell_type": "code",
   "execution_count": 51,
   "metadata": {
    "collapsed": false,
    "jupyter": {
     "outputs_hidden": false
    }
   },
   "outputs": [],
   "source": [
    "x = find_index('FBtr0074082')\n",
    "x"
   ]
  },
  {
   "cell_type": "code",
   "execution_count": 48,
   "metadata": {
    "collapsed": false,
    "jupyter": {
     "outputs_hidden": false
    }
   },
   "outputs": [],
   "source": [
    "find_index('FBtr0084952')"
   ]
  },
  {
   "cell_type": "code",
   "execution_count": 151,
   "metadata": {
    "collapsed": false,
    "jupyter": {
     "outputs_hidden": false
    }
   },
   "outputs": [
    {
     "name": "stdout",
     "output_type": "stream",
     "text": [
      "1062031.927 1083756.43845 597838.01999 817115.629252 655550.070425 640700.474877 447568.563182 501371.558245\n"
     ]
    }
   ],
   "source": [
    "print total(utr5_counts_eA), total(utr5_counts_1A), total(utr5_counts_1B), total(utr5_counts_4B), total(utr5_counts_7B), total(utr5_counts_10A), total(utr5_counts_10B), total(utr5_counts_14B)"
   ]
  },
  {
   "cell_type": "code",
   "execution_count": 154,
   "metadata": {
    "collapsed": false,
    "jupyter": {
     "outputs_hidden": false
    }
   },
   "outputs": [
    {
     "name": "stdout",
     "output_type": "stream",
     "text": [
      "951894.758085 267778.125635 174400.52625 249959.318766 258213.296593 234872.795444 177378.715344 206316.606869\n"
     ]
    }
   ],
   "source": [
    "print total(utr3_counts_eA), total(utr3_counts_1A), total(utr3_counts_1B), total(utr3_counts_4B), total(utr3_counts_7B), total(utr3_counts_10A), total(utr3_counts_10B), total(utr3_counts_14B)"
   ]
  },
  {
   "cell_type": "code",
   "execution_count": 104,
   "metadata": {
    "collapsed": true,
    "jupyter": {
     "outputs_hidden": true
    }
   },
   "outputs": [],
   "source": [
    "gene_counts_7B = []"
   ]
  },
  {
   "cell_type": "code",
   "execution_count": 24,
   "metadata": {
    "collapsed": false,
    "jupyter": {
     "outputs_hidden": false
    }
   },
   "outputs": [
    {
     "name": "stderr",
     "output_type": "stream",
     "text": [
      "---------------------------------------------------------------------------\n",
      "RuntimeWarning\n",
      "invalid value encountered in double_scalars\n",
      "in /Users/ethan/plastid/lib/python2.7/site-packages/ipykernel/__main__.py, line 9:\n",
      "\n",
      "\n",
      "\n",
      "---------------------------------------------------------------------------\n",
      "---------------------------------------------------------------------------\n",
      "RuntimeWarning\n",
      "invalid value encountered in double_scalars\n",
      "in /Users/ethan/plastid/lib/python2.7/site-packages/ipykernel/__main__.py, line 12:\n",
      "\n",
      "\n",
      "\n",
      "---------------------------------------------------------------------------\n"
     ]
    }
   ],
   "source": [
    "gene_counts(gene_counts_eA, counts_eA)\n",
    "gene_counts(gene_counts_1A, counts_1A)\n",
    "gene_counts(gene_counts_1B, counts_1B)\n",
    "gene_counts(gene_counts_4B, counts_4B)\n",
    "gene_counts(gene_counts_10A, counts_10A)\n",
    "gene_counts(gene_counts_10B, counts_10B)\n",
    "gene_counts(gene_counts_14B, counts_14B)"
   ]
  },
  {
   "cell_type": "code",
   "execution_count": null,
   "metadata": {
    "collapsed": true,
    "jupyter": {
     "outputs_hidden": true
    }
   },
   "outputs": [],
   "source": []
  },
  {
   "cell_type": "code",
   "execution_count": 105,
   "metadata": {
    "collapsed": false,
    "jupyter": {
     "outputs_hidden": false
    }
   },
   "outputs": [
    {
     "name": "stderr",
     "output_type": "stream",
     "text": [
      "---------------------------------------------------------------------------\n",
      "RuntimeWarning\n",
      "invalid value encountered in double_scalars\n",
      "in /Users/ethan/plastid/lib/python2.7/site-packages/ipykernel/__main__.py, line 9:\n",
      "\n",
      "\n",
      "\n",
      "---------------------------------------------------------------------------\n",
      "---------------------------------------------------------------------------\n",
      "RuntimeWarning\n",
      "invalid value encountered in double_scalars\n",
      "in /Users/ethan/plastid/lib/python2.7/site-packages/ipykernel/__main__.py, line 12:\n",
      "\n",
      "\n",
      "\n",
      "---------------------------------------------------------------------------\n"
     ]
    }
   ],
   "source": [
    "gene_counts(gene_counts_7B, counts_7B)"
   ]
  },
  {
   "cell_type": "code",
   "execution_count": 25,
   "metadata": {
    "collapsed": false,
    "jupyter": {
     "outputs_hidden": false
    }
   },
   "outputs": [],
   "source": [
    "#output data into a comma-delimited file\n",
    "outfile = open('normfpkmdata.csv','w')\n",
    "i=0\n",
    "outfile.write('eA , 1A , 1B , 4B , 10A , 10B , 14B\\n')\n",
    "for index in genes:\n",
    "    outfile.write(genes[i] + ' , ' + str(gene_counts_eA[i]) + ' , ' + str(gene_counts_1A[i]) + ' , ' + str(gene_counts_1B[i]) + ' , ' + str(gene_counts_4B[i]) + ' , ' + str(gene_counts_10A[i]) + ' , ' + str(gene_counts_10B[i]) + ' , ' + str(gene_counts_14B[i]) + '\\n')\n",
    "    i+=1\n",
    "outfile.close()"
   ]
  },
  {
   "cell_type": "code",
   "execution_count": 114,
   "metadata": {
    "collapsed": true,
    "jupyter": {
     "outputs_hidden": true
    }
   },
   "outputs": [],
   "source": [
    "#output data into a comma-delimited file\n",
    "outfile = open('normfpkmdata7B.csv','w')\n",
    "i=0\n",
    "outfile.write('7B\\n')\n",
    "for index in genes:\n",
    "    outfile.write(genes[i] + ' , ' + str(gene_counts_7B[i]) + '\\n')\n",
    "    i+=1\n",
    "outfile.close()"
   ]
  },
  {
   "cell_type": "code",
   "execution_count": 26,
   "metadata": {
    "collapsed": false,
    "jupyter": {
     "outputs_hidden": false
    }
   },
   "outputs": [
    {
     "data": {
      "text/plain": [
       "15708"
      ]
     },
     "execution_count": 26,
     "metadata": {},
     "output_type": "execute_result"
    }
   ],
   "source": [
    "find_index('FBtr0076754')"
   ]
  },
  {
   "cell_type": "code",
   "execution_count": 27,
   "metadata": {
    "collapsed": false,
    "jupyter": {
     "outputs_hidden": false
    }
   },
   "outputs": [
    {
     "ename": "NameError",
     "evalue": "name 'eA_counts' is not defined",
     "output_type": "error",
     "traceback": [
      "\u001b[0;31m---------------------------------------------------------------------------\u001b[0m",
      "\u001b[0;31mNameError\u001b[0m                                 Traceback (most recent call last)",
      "\u001b[0;32m<ipython-input-27-5b31d3454e99>\u001b[0m in \u001b[0;36m<module>\u001b[0;34m()\u001b[0m\n\u001b[0;32m----> 1\u001b[0;31m \u001b[0mplt\u001b[0m\u001b[0;34m.\u001b[0m\u001b[0mplot\u001b[0m\u001b[0;34m(\u001b[0m\u001b[0meA_counts\u001b[0m\u001b[0;34m[\u001b[0m\u001b[0;36m15708\u001b[0m\u001b[0;34m]\u001b[0m\u001b[0;34m)\u001b[0m\u001b[0;34m\u001b[0m\u001b[0m\n\u001b[0m",
      "\u001b[0;31mNameError\u001b[0m: name 'eA_counts' is not defined"
     ]
    }
   ],
   "source": [
    "plt.plot(counts_eA[15708])"
   ]
  },
  {
   "cell_type": "code",
   "execution_count": 100,
   "metadata": {
    "collapsed": false,
    "jupyter": {
     "outputs_hidden": false
    },
    "scrolled": true
   },
   "outputs": [
    {
     "data": {
      "image/png": "[encoded data removed]",
      "text/plain": [
       "<matplotlib.figure.Figure at 0x128dfe690>"
      ]
     },
     "metadata": {},
     "output_type": "display_data"
    }
   ],
   "source": [
    "#plotting increase in Nemo translation\n",
    "plt.plot(range(len(counts_1A[15708])),counts_1A[15708],'-')\n",
    "plt.plot(range(len(counts_10B[15708])),counts_10B[15708],'--')\n",
    "plt.plot(range(len(counts_14B[15708])),counts_14B[15708],'--')\n",
    "plt.show()"
   ]
  },
  {
   "cell_type": "code",
   "execution_count": 115,
   "metadata": {
    "collapsed": false,
    "jupyter": {
     "outputs_hidden": false
    }
   },
   "outputs": [
    {
     "data": {
      "text/plain": [
       "['__class__',\n",
       " '__contains__',\n",
       " '__copy__',\n",
       " '__deepcopy__',\n",
       " '__delattr__',\n",
       " '__doc__',\n",
       " '__eq__',\n",
       " '__format__',\n",
       " '__ge__',\n",
       " '__getattribute__',\n",
       " '__getitem__',\n",
       " '__getstate__',\n",
       " '__gt__',\n",
       " '__hash__',\n",
       " '__init__',\n",
       " '__iter__',\n",
       " '__le__',\n",
       " '__len__',\n",
       " '__lt__',\n",
       " '__ne__',\n",
       " '__new__',\n",
       " '__next__',\n",
       " '__pyx_vtable__',\n",
       " '__reduce__',\n",
       " '__reduce_ex__',\n",
       " '__repr__',\n",
       " '__setattr__',\n",
       " '__setstate__',\n",
       " '__sizeof__',\n",
       " '__str__',\n",
       " '__subclasshook__',\n",
       " '_get_8_gff_columns',\n",
       " 'add_masks',\n",
       " 'add_segments',\n",
       " 'antisense_overlaps',\n",
       " 'as_bed',\n",
       " 'as_gff3',\n",
       " 'as_gtf',\n",
       " 'as_psl',\n",
       " 'attr',\n",
       " 'c_strand',\n",
       " 'cds_end',\n",
       " 'cds_genome_end',\n",
       " 'cds_genome_start',\n",
       " 'cds_start',\n",
       " 'chrom',\n",
       " 'covers',\n",
       " 'from_bed',\n",
       " 'from_psl',\n",
       " 'from_str',\n",
       " 'get_antisense',\n",
       " 'get_cds',\n",
       " 'get_counts',\n",
       " 'get_fasta',\n",
       " 'get_gene',\n",
       " 'get_genomic_coordinate',\n",
       " 'get_junctions',\n",
       " 'get_length',\n",
       " 'get_masked_counts',\n",
       " 'get_masked_length',\n",
       " 'get_masked_position_set',\n",
       " 'get_masks',\n",
       " 'get_masks_as_segmentchain',\n",
       " 'get_name',\n",
       " 'get_position_list',\n",
       " 'get_position_set',\n",
       " 'get_segmentchain_coordinate',\n",
       " 'get_sequence',\n",
       " 'get_subchain',\n",
       " 'get_unstranded',\n",
       " 'get_utr3',\n",
       " 'get_utr5',\n",
       " 'length',\n",
       " 'mask_segments',\n",
       " 'masked_length',\n",
       " 'next',\n",
       " 'overlaps',\n",
       " 'reset_masks',\n",
       " 'segments',\n",
       " 'shares_segments_with',\n",
       " 'sort',\n",
       " 'spanning_segment',\n",
       " 'strand',\n",
       " 'unstranded_overlaps']"
      ]
     },
     "execution_count": 115,
     "metadata": {},
     "output_type": "execute_result"
    }
   ],
   "source": [
    "dir(transcripts[0])"
   ]
  },
  {
   "cell_type": "code",
   "execution_count": null,
   "metadata": {
    "collapsed": true,
    "jupyter": {
     "outputs_hidden": true
    }
   },
   "outputs": [],
   "source": [
    "np.sum(counts)"
   ]
  }
 ],
 "metadata": {
  "kernelspec": {
   "display_name": "Python 3 (ipykernel)",
   "language": "python",
   "name": "python3"
  },
  "language_info": {
   "codemirror_mode": {
    "name": "ipython",
    "version": 3
   },
   "file_extension": ".py",
   "mimetype": "text/x-python",
   "name": "python",
   "nbconvert_exporter": "python",
   "pygments_lexer": "ipython3",
   "version": "3.8.12"
  }
 },
 "nbformat": 4,
 "nbformat_minor": 4
}
