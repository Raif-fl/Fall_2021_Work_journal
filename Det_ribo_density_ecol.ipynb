{
 "cells": [
  {
   "cell_type": "code",
   "execution_count": 1,
   "id": "09bf4f1a-303f-405e-9392-2a6a397998b1",
   "metadata": {},
   "outputs": [],
   "source": [
    "# Let the program know where to find your tools file.\n",
    "import sys\n",
    "sys.path.append('/home/keeganfl/Desktop/Work_Fall_2021/Fall_2021_Work_journal/tools/')"
   ]
  },
  {
   "cell_type": "code",
   "execution_count": 2,
   "id": "3c31c8fb-8bbb-4456-ae02-c710b90787d4",
   "metadata": {},
   "outputs": [],
   "source": [
    "# Load up the necessary packages \n",
    "from plastid import BAMGenomeArray, VariableFivePrimeMapFactory, \\\n",
    "                        GTF2_TranscriptAssembler, GFF3_TranscriptAssembler, \\\n",
    "                        Transcript, ThreePrimeMapFactory\n",
    "import numpy as np\n",
    "import os\n",
    "from Bio import SeqIO\n",
    "import numpy\n",
    "import math\n",
    "import pandas as pd\n",
    "from scipy import stats\n",
    "from scipy.stats import kstwo\n",
    "import keegan_analysis_tools as kat\n",
    "from statsmodels.nonparametric.smoothers_lowess import lowess\n",
    "import warnings\n",
    "import matplotlib.pyplot as plt\n",
    "from matplotlib.pyplot import figure\n",
    "%matplotlib inline\n",
    "import csv\n",
    "from scipy.sparse.linalg import lsqr\n",
    "from tqdm import tqdm\n",
    "from multiprocess import Pool\n",
    "import copy"
   ]
  },
  {
   "cell_type": "code",
   "execution_count": 34,
   "id": "20e421e2-8d95-4692-9dfb-1dadd0f20ea5",
   "metadata": {},
   "outputs": [],
   "source": [
    "# Define the path to our data files and the path we want to save our outputs in. \n",
    "data_path = '/home/keeganfl/Desktop/Work_Fall_2021/data_tables/'"
   ]
  },
  {
   "cell_type": "code",
   "execution_count": 35,
   "id": "adf5111a-746a-4031-8d83-1baef3b9f46e",
   "metadata": {},
   "outputs": [],
   "source": [
    "df_te = pd.read_csv(data_path + 'TE data.csv')"
   ]
  },
  {
   "cell_type": "code",
   "execution_count": 36,
   "id": "110eaae8-fa66-456a-9a9f-9d0fbbcc471b",
   "metadata": {},
   "outputs": [],
   "source": [
    "df_mrna_prot = pd.read_csv(data_path + 'ribosomes per mRNA ecoli.csv')"
   ]
  },
  {
   "cell_type": "code",
   "execution_count": 37,
   "id": "dc664c4a-4586-423e-b75c-3252b85290a8",
   "metadata": {},
   "outputs": [],
   "source": [
    "df_merged = pd.merge(df_mrna_prot, df_te, how = 'inner', on = \"Gene\")"
   ]
  },
  {
   "cell_type": "code",
   "execution_count": 39,
   "id": "691d0b5a-05a2-45c4-8de7-c94b38532a68",
   "metadata": {},
   "outputs": [],
   "source": [
    "df_merged[\"length(bp)\"] = df_merged[\"length(aa)\"]*3"
   ]
  },
  {
   "cell_type": "code",
   "execution_count": 59,
   "id": "a22360b4-87c3-40d0-b53f-3048b8780c2c",
   "metadata": {},
   "outputs": [],
   "source": [
    "y = np.array(((df_merged[\"ribosomes_mRNA\"]/df_merged[\"length(bp)\"])*10)/3)"
   ]
  },
  {
   "cell_type": "code",
   "execution_count": 60,
   "id": "25b45d99-1d6a-4f0d-8fe2-a57d27adc2e2",
   "metadata": {},
   "outputs": [],
   "source": [
    "x = (df_merged[\"TE\"])"
   ]
  },
  {
   "cell_type": "code",
   "execution_count": 61,
   "id": "491a55e5-eac6-4014-9f9d-b5624edf6992",
   "metadata": {},
   "outputs": [],
   "source": [
    "m , b = np.polyfit(x, y, 1)"
   ]
  },
  {
   "cell_type": "code",
   "execution_count": 62,
   "id": "d91c2b87-4cf4-4e55-a6c8-7b7dd6b70e7d",
   "metadata": {},
   "outputs": [
    {
     "data": {
      "text/plain": [
       "0.02990775961842372"
      ]
     },
     "execution_count": 62,
     "metadata": {},
     "output_type": "execute_result"
    }
   ],
   "source": [
    "m"
   ]
  },
  {
   "cell_type": "code",
   "execution_count": 63,
   "id": "da8f426c-dcda-4307-afef-01b45e152d46",
   "metadata": {},
   "outputs": [
    {
     "data": {
      "text/plain": [
       "<matplotlib.collections.PathCollection at 0x7f6d03f1a550>"
      ]
     },
     "execution_count": 63,
     "metadata": {},
     "output_type": "execute_result"
    },
    {
     "data": {
      "image/png": "[encoded data removed]",
      "text/plain": [
       "<Figure size 432x288 with 1 Axes>"
      ]
     },
     "metadata": {
      "needs_background": "light"
     },
     "output_type": "display_data"
    }
   ],
   "source": [
    "plt.scatter(x,y)"
   ]
  },
  {
   "cell_type": "code",
   "execution_count": 64,
   "id": "1e7434b7-05d5-44c7-b204-d698b4170807",
   "metadata": {},
   "outputs": [],
   "source": [
    "df_merged.to_csv(data_path + \"ecol_TE_thingy.csv\")"
   ]
  },
  {
   "cell_type": "code",
   "execution_count": null,
   "id": "94427534-b9c4-4824-b9d7-3a6af7a7ec5c",
   "metadata": {},
   "outputs": [],
   "source": []
  }
 ],
 "metadata": {
  "kernelspec": {
   "display_name": "Python 3 (ipykernel)",
   "language": "python",
   "name": "python3"
  },
  "language_info": {
   "codemirror_mode": {
    "name": "ipython",
    "version": 3
   },
   "file_extension": ".py",
   "mimetype": "text/x-python",
   "name": "python",
   "nbconvert_exporter": "python",
   "pygments_lexer": "ipython3",
   "version": "3.8.12"
  }
 },
 "nbformat": 4,
 "nbformat_minor": 5
}
