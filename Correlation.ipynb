{
 "cells": [
  {
   "cell_type": "markdown",
   "id": "23612c75-fd75-4bd7-8565-58a12cfd0b03",
   "metadata": {
    "tags": []
   },
   "source": [
    "## Loess function"
   ]
  },
  {
   "cell_type": "code",
   "execution_count": 1,
   "id": "8dc720cb-4cfd-4837-be54-fca2d954a0e2",
   "metadata": {
    "jupyter": {
     "source_hidden": true
    },
    "tags": []
   },
   "outputs": [],
   "source": [
    "import numpy as np\n",
    "import time\n",
    "import math\n",
    "\n",
    "\n",
    "def tricubic(x):\n",
    "    y = np.zeros_like(x)\n",
    "    idx = (x >= -1) & (x <= 1)\n",
    "    y[idx] = np.power(1.0 - np.power(np.abs(x[idx]), 3), 3)\n",
    "    return y\n",
    "\n",
    "\n",
    "class Loess(object):\n",
    "\n",
    "    @staticmethod\n",
    "    def normalize_array(array):\n",
    "        min_val = np.min(array)\n",
    "        max_val = np.max(array)\n",
    "        return (array - min_val) / (max_val - min_val), min_val, max_val\n",
    "\n",
    "    def __init__(self, xx, yy, degree=1):\n",
    "        self.n_xx, self.min_xx, self.max_xx = self.normalize_array(xx)\n",
    "        self.n_yy, self.min_yy, self.max_yy = self.normalize_array(yy)\n",
    "        self.degree = degree\n",
    "\n",
    "    @staticmethod\n",
    "    def get_min_range(distances, window):\n",
    "        min_idx = np.argmin(distances)\n",
    "        n = len(distances)\n",
    "        if min_idx == 0:\n",
    "            return np.arange(0, window)\n",
    "        if min_idx == n-1:\n",
    "            return np.arange(n - window, n)\n",
    "\n",
    "        min_range = [min_idx]\n",
    "        while len(min_range) < window:\n",
    "            i0 = min_range[0]\n",
    "            i1 = min_range[-1]\n",
    "            if i0 == 0:\n",
    "                min_range.append(i1 + 1)\n",
    "            elif i1 == n-1:\n",
    "                min_range.insert(0, i0 - 1)\n",
    "            elif distances[i0-1] < distances[i1+1]:\n",
    "                min_range.insert(0, i0 - 1)\n",
    "            else:\n",
    "                min_range.append(i1 + 1)\n",
    "        return np.array(min_range)\n",
    "\n",
    "    @staticmethod\n",
    "    def get_weights(distances, min_range):\n",
    "        max_distance = np.max(distances[min_range])\n",
    "        weights = tricubic(distances[min_range] / max_distance)\n",
    "        return weights\n",
    "\n",
    "    def normalize_x(self, value):\n",
    "        return (value - self.min_xx) / (self.max_xx - self.min_xx)\n",
    "\n",
    "    def denormalize_y(self, value):\n",
    "        return value * (self.max_yy - self.min_yy) + self.min_yy\n",
    "\n",
    "    def estimate(self, x, window, use_matrix=False, degree=1):\n",
    "        n_x = self.normalize_x(x)\n",
    "        distances = np.abs(self.n_xx - n_x)\n",
    "        min_range = self.get_min_range(distances, window)\n",
    "        weights = self.get_weights(distances, min_range)\n",
    "\n",
    "        if use_matrix or degree > 1:\n",
    "            wm = np.multiply(np.eye(window), weights)\n",
    "            xm = np.ones((window, degree + 1))\n",
    "\n",
    "            xp = np.array([[math.pow(n_x, p)] for p in range(degree + 1)])\n",
    "            for i in range(1, degree + 1):\n",
    "                xm[:, i] = np.power(self.n_xx[min_range], i)\n",
    "\n",
    "            ym = self.n_yy[min_range]\n",
    "            xmt_wm = np.transpose(xm) @ wm\n",
    "            beta = np.linalg.pinv(xmt_wm @ xm) @ xmt_wm @ ym\n",
    "            y = (beta @ xp)[0]\n",
    "        else:\n",
    "            xx = self.n_xx[min_range]\n",
    "            yy = self.n_yy[min_range]\n",
    "            sum_weight = np.sum(weights)\n",
    "            sum_weight_x = np.dot(xx, weights)\n",
    "            sum_weight_y = np.dot(yy, weights)\n",
    "            sum_weight_x2 = np.dot(np.multiply(xx, xx), weights)\n",
    "            sum_weight_xy = np.dot(np.multiply(xx, yy), weights)\n",
    "\n",
    "            mean_x = sum_weight_x / sum_weight\n",
    "            mean_y = sum_weight_y / sum_weight\n",
    "\n",
    "            b = (sum_weight_xy - mean_x * mean_y * sum_weight) / \\\n",
    "                (sum_weight_x2 - mean_x * mean_x * sum_weight)\n",
    "            a = mean_y - b * mean_x\n",
    "            y = a + b * n_x\n",
    "        return self.denormalize_y(y)"
   ]
  },
  {
   "cell_type": "markdown",
   "id": "407afc7b-e0bb-43e2-8a30-5a1afa2a9f8f",
   "metadata": {
    "tags": []
   },
   "source": [
    "## Loading up packages"
   ]
  },
  {
   "cell_type": "code",
   "execution_count": 26,
   "id": "254ab91f-6f82-4cee-87a4-bf534073f68d",
   "metadata": {},
   "outputs": [],
   "source": [
    "import sys\n",
    "sys.path.append('/home/keeganfl/Desktop/Work_Fall_2021/Fall_2021_Work_journal')"
   ]
  },
  {
   "cell_type": "code",
   "execution_count": 27,
   "id": "c4424cc3-8403-401e-873f-71c4ebf88a88",
   "metadata": {},
   "outputs": [],
   "source": [
    "# import plastid\n",
    "# data structure for mapping read alignments to genomic positions\n",
    "from plastid import BAMGenomeArray, VariableFivePrimeMapFactory, \\\n",
    "                        GTF2_TranscriptAssembler, GFF3_TranscriptAssembler, \\\n",
    "                        Transcript, ThreePrimeMapFactory\n",
    "import numpy as np\n",
    "from Bio import SeqIO\n",
    "import numpy\n",
    "import Loess as lo\n",
    "import pandas as pd\n",
    "from scipy import stats\n",
    "from statsmodels.nonparametric.smoothers_lowess import lowess\n",
    "import warnings\n",
    "import matplotlib.pyplot as plt\n",
    "%matplotlib inline\n",
    "import csv\n",
    "from scipy.sparse.linalg import lsqr"
   ]
  },
  {
   "cell_type": "code",
   "execution_count": 28,
   "id": "b436b1f9-91ae-4f93-b9ba-21c915a8da75",
   "metadata": {},
   "outputs": [],
   "source": [
    "# Define the path to our Bam files\n",
    "data_path = '/home/keeganfl/Desktop/Work_Fall_2021/genomes_&_samples/ecol/'\n",
    "csv_path = '/home/keeganfl/Desktop/Work_Fall_2021/data_tables/position_counts/ecol/'"
   ]
  },
  {
   "cell_type": "code",
   "execution_count": 29,
   "id": "cce365da-3da9-42cf-b4fb-5cf49fd387af",
   "metadata": {},
   "outputs": [],
   "source": [
    "# Create a function that finds the proteins I need. \n",
    "def find_transcripts(gene,transcripts, count_vec_m, count_vec_c):\n",
    "    '''\n",
    "    A function that takes the name of a gene as input and finds \n",
    "    the corresponding transcript from a transcript list. \n",
    "    \n",
    "    returns both the transcript in question and the vector of counts for that transcript.\n",
    "    \n",
    "    This function is still a work in progress as for now it simply gives the last \n",
    "    transcript in the list that matches the gene ID. \n",
    "    '''\n",
    "    for i in transcripts:\n",
    "        if i.attr['transcript_biotype'] == 'protein_coding':\n",
    "            if i.attr['gene_name'] == gene:\n",
    "                my_transcript = i\n",
    "                index = transcripts.index(i)\n",
    "                my_vector_m = count_vec_m[transcripts.index(i)]\n",
    "                my_vector_c = count_vec_c[transcripts.index(i)]\n",
    "                \n",
    "    return my_transcript, my_vector_m, my_vector_c, index"
   ]
  },
  {
   "cell_type": "markdown",
   "id": "cc7a78f0-244a-42fa-ad9d-40bd1a7ade83",
   "metadata": {
    "tags": []
   },
   "source": [
    "## Loading up the data files "
   ]
  },
  {
   "cell_type": "code",
   "execution_count": 30,
   "id": "b4c04f4f-32e7-45d2-a49e-b5ccff516548",
   "metadata": {
    "tags": []
   },
   "outputs": [],
   "source": [
    "# load the transcript annotations from the GTF file.\n",
    "# GTF2_TranscriptAssembler returns an iterator, so here we convert it to a list.\n",
    "transcripts = list(GTF2_TranscriptAssembler(open(data_path + \"Escherichia_coli_str_k_12_substr_mg1655_gca_000005845.ASM584v2.51.gtf\"),return_type=Transcript))"
   ]
  },
  {
   "cell_type": "code",
   "execution_count": 31,
   "id": "40d14bbc-f1b5-455e-97a6-a97259a04903",
   "metadata": {},
   "outputs": [],
   "source": [
    "# Remove non-protein coding transcripts from transcripts list. \n",
    "protein_coding = []\n",
    "for transcript in transcripts:\n",
    "    if transcript.attr['gene_biotype'] == 'protein_coding':\n",
    "        protein_coding.append(transcript)"
   ]
  },
  {
   "cell_type": "code",
   "execution_count": 32,
   "id": "f817e872-e6b7-46f5-a77e-a5feb45a9ada",
   "metadata": {},
   "outputs": [],
   "source": [
    "# clear up some memory by deleting original transcript list\n",
    "transcripts.clear()"
   ]
  },
  {
   "cell_type": "markdown",
   "id": "a9e0489c-ce17-4fca-891a-ea4c97e6b42d",
   "metadata": {
    "tags": []
   },
   "source": [
    "# Loading up the csv file."
   ]
  },
  {
   "cell_type": "code",
   "execution_count": 33,
   "id": "8ce5354b-a48d-4482-9a1f-394f2d06b34c",
   "metadata": {},
   "outputs": [],
   "source": [
    "def load_count_positions(csv_name, csv_path):\n",
    "    data = []\n",
    "    with open(csv_path + csv_name, newline = '') as csvfile:\n",
    "        reader = csv.reader(csvfile)\n",
    "        for row in reader:\n",
    "            data.append(row)\n",
    "    blank=data.pop(0)\n",
    "            \n",
    "    for i,ii in zip(data, range(len(data))):\n",
    "        for j,jj in zip(i, range(len(i))):\n",
    "            try:\n",
    "                x = int(float(j))\n",
    "                data[ii][jj] = x\n",
    "            except:\n",
    "                pass\n",
    "            \n",
    "    # Remove empty space\n",
    "    for i,ii in zip(data, range(len(data))):\n",
    "        x = list(filter(('').__ne__, i))\n",
    "        data[ii] = x\n",
    "        \n",
    "    # Convert lists to np.arrays\n",
    "    for i,ii in zip(data, range(len(data))):\n",
    "        data[ii] = np.array(data[ii][2:])\n",
    "    \n",
    "    return data"
   ]
  },
  {
   "cell_type": "code",
   "execution_count": 34,
   "id": "1b038bd6-aa99-42db-92ce-685c02486c18",
   "metadata": {},
   "outputs": [],
   "source": [
    "data_mutant = load_count_positions(\"efp_1_counts.csv\",csv_path)\n",
    "data_control = load_count_positions(\"control_RPF_1_counts.csv\",csv_path)"
   ]
  },
  {
   "cell_type": "markdown",
   "id": "c2f224fd-65ad-4fca-9c86-b9f31113a654",
   "metadata": {
    "tags": []
   },
   "source": [
    "## Choose the gene of interest and smooth out the array."
   ]
  },
  {
   "cell_type": "markdown",
   "id": "28696992-340f-4faa-aca0-40a17827741f",
   "metadata": {},
   "source": [
    "hmmmm, flk, malZ, csgG, treA, valS all have extremely large pause sites very very close to the 5' end of the transcript. \n",
    "ydhJ has an incredibly large peak right at the end of the transcript that gets even larger in the Mutant"
   ]
  },
  {
   "cell_type": "code",
   "execution_count": 168,
   "id": "c74c4e65-caea-4235-95c5-4218ecfb7997",
   "metadata": {},
   "outputs": [],
   "source": [
    "# Choosing a gene of interest to calculate the elongation rates of. \n",
    "# Get the transcript and vector for the gene of interest.\n",
    "my_transcript, my_vec_mutant, my_vec_control, index = find_transcripts(\"nanS\", \n",
    "                                           protein_coding, data_mutant, data_control)"
   ]
  },
  {
   "cell_type": "code",
   "execution_count": 169,
   "id": "8f38f25f-c14e-42af-8818-27c3708cf8eb",
   "metadata": {},
   "outputs": [],
   "source": [
    "# Create a vector that just reflects the positions along the transcript\n",
    "my_position = np.array(list(range(len(my_vec_mutant))))"
   ]
  },
  {
   "cell_type": "code",
   "execution_count": 170,
   "id": "0d3dc4cf-67fb-414e-ae66-cbc35758dbf4",
   "metadata": {},
   "outputs": [],
   "source": [
    "# define a function that calculates the smoothed vector using loess and calculates the cumulative sum of said vector.\n",
    "def get_smoothed_vector(positions, vector, frac = 0.05):\n",
    "    loess = Loess(positions, vector/sum(vector))\n",
    "    smoothed_vec = []\n",
    "    for x in positions:\n",
    "        y = loess.estimate(x, window=int(len(positions)*frac), use_matrix=False, degree=1)\n",
    "        smoothed_vec.append(y)\n",
    "    smoothed_vec = np.array(smoothed_vec)\n",
    "    cumsum = np.cumsum(smoothed_vec)\n",
    "    return smoothed_vec, cumsum"
   ]
  },
  {
   "cell_type": "code",
   "execution_count": 171,
   "id": "9bbdad2d-81ab-44f1-8082-cf9610c4e00e",
   "metadata": {},
   "outputs": [],
   "source": [
    "smoothed_vec_m, cumul_m = get_smoothed_vector(my_position, my_vec_mutant+0.00000000001)\n",
    "smoothed_vec_c, cumul_c = get_smoothed_vector(my_position, my_vec_control+0.00000000001)"
   ]
  },
  {
   "cell_type": "code",
   "execution_count": 172,
   "id": "939e4481-5ba9-415d-823f-2b3c4c37f6e5",
   "metadata": {},
   "outputs": [
    {
     "data": {
      "text/plain": [
       "[<matplotlib.lines.Line2D at 0x7f77888b73a0>]"
      ]
     },
     "execution_count": 172,
     "metadata": {},
     "output_type": "execute_result"
    },
    {
     "data": {
      "image/png": "[encoded data removed]",
      "text/plain": [
       "<Figure size 432x288 with 1 Axes>"
      ]
     },
     "metadata": {
      "needs_background": "light"
     },
     "output_type": "display_data"
    }
   ],
   "source": [
    "plt.plot(my_vec_mutant)"
   ]
  },
  {
   "cell_type": "code",
   "execution_count": 154,
   "id": "999d012c-43c3-4b40-97b5-b7e2e10e8e9d",
   "metadata": {},
   "outputs": [
    {
     "data": {
      "text/plain": [
       "<matplotlib.legend.Legend at 0x7f77889eff10>"
      ]
     },
     "execution_count": 154,
     "metadata": {},
     "output_type": "execute_result"
    },
    {
     "data": {
      "image/png": "[encoded data removed]",
      "text/plain": [
       "<Figure size 432x288 with 1 Axes>"
      ]
     },
     "metadata": {
      "needs_background": "light"
     },
     "output_type": "display_data"
    }
   ],
   "source": [
    "plt.plot(smoothed_vec_m, label = \"efp-1\")\n",
    "#plt.plot(my_vec_mutant/sum(my_vec_mutant))\n",
    "plt.plot(smoothed_vec_c, label = \"wt\")\n",
    "plt.ylabel(\"Read Density\")\n",
    "plt.xlabel(\"Transcript Position\")\n",
    "plt.title(\"Smoothed and normalized count vectors\")\n",
    "plt.legend()"
   ]
  },
  {
   "cell_type": "markdown",
   "id": "b63a4edd-f277-4750-b575-648a00bf5884",
   "metadata": {},
   "source": [
    "## Plot and calculate the correlation of the cumulative sum * The transcript position"
   ]
  },
  {
   "cell_type": "code",
   "execution_count": 155,
   "id": "5da359b0-d072-447a-9832-c8cb17b3d9e8",
   "metadata": {},
   "outputs": [
    {
     "data": {
      "text/plain": [
       "<matplotlib.legend.Legend at 0x7f77889effa0>"
      ]
     },
     "execution_count": 155,
     "metadata": {},
     "output_type": "execute_result"
    },
    {
     "data": {
      "image/png": "[encoded data removed]",
      "text/plain": [
       "<Figure size 432x288 with 1 Axes>"
      ]
     },
     "metadata": {
      "needs_background": "light"
     },
     "output_type": "display_data"
    }
   ],
   "source": [
    "plt.plot(my_position, cumul_m, label = \"efp-1\")\n",
    "plt.plot(my_position, cumul_c, label = \"wt\")\n",
    "plt.ylabel(\"Cumulative Sum\")\n",
    "plt.xlabel(\"Transcript Position\")\n",
    "plt.title(\"Correlation of ribosome profiles\")\n",
    "plt.legend()"
   ]
  },
  {
   "cell_type": "code",
   "execution_count": 100,
   "id": "13f99326-093d-4043-b06c-bf1d57918be9",
   "metadata": {},
   "outputs": [
    {
     "data": {
      "text/plain": [
       "0.9343035322728022"
      ]
     },
     "execution_count": 100,
     "metadata": {},
     "output_type": "execute_result"
    }
   ],
   "source": [
    "stats.pearsonr(cumul_m, cumul_c)[0]"
   ]
  },
  {
   "cell_type": "markdown",
   "id": "56eabfe8-9fb3-4f24-a315-300f7774dbfa",
   "metadata": {},
   "source": [
    "## Determine correlation for all transcripts"
   ]
  },
  {
   "cell_type": "code",
   "execution_count": 108,
   "id": "63e8b934-2bbd-44f8-ba65-b82fb2e41d16",
   "metadata": {},
   "outputs": [
    {
     "data": {
      "text/plain": [
       "True"
      ]
     },
     "execution_count": 108,
     "metadata": {},
     "output_type": "execute_result"
    }
   ],
   "source": [
    "sum(data_mutant[1]) > 30"
   ]
  },
  {
   "cell_type": "code",
   "execution_count": 111,
   "id": "52cb040c-3086-4aca-a905-c7394a8d5574",
   "metadata": {},
   "outputs": [
    {
     "data": {
      "text/plain": [
       "True"
      ]
     },
     "execution_count": 111,
     "metadata": {},
     "output_type": "execute_result"
    }
   ],
   "source": [
    "sum(data_control[1]) > 30 and sum(data_mutant[1]) > 30"
   ]
  },
  {
   "cell_type": "code",
   "execution_count": 112,
   "id": "21b6d859-b977-4185-bbcc-86087fbffdbb",
   "metadata": {
    "tags": []
   },
   "outputs": [
    {
     "name": "stdout",
     "output_type": "stream",
     "text": [
      "malZ\n",
      "csgG\n",
      "treA\n",
      "intR\n",
      "ydcO\n",
      "ydhJ\n",
      "flk\n",
      "ggt\n",
      "trmL\n",
      "valS\n",
      "nanS\n"
     ]
    }
   ],
   "source": [
    "# Find the correlation between all of the controls and the samples.\n",
    "# Note that many of the lowest values spring from very short transcripts or transcripts with few reads. \n",
    "corr_list = []\n",
    "for tr_m, tr_c, index in zip(data_mutant, data_control, list(range(len(data_mutant)))):\n",
    "    if len(tr_m) > 200 and sum(tr_m) > 100 and sum(tr_c) > 100:\n",
    "        position = np.array(list(range(len(tr_m))))\n",
    "        smoothed_vec_m, cumul_m = get_smoothed_vector(position, tr_m+0.00000000001)\n",
    "        smoothed_vec_c, cumul_c = get_smoothed_vector(position, tr_c+0.00000000001)\n",
    "        corr = stats.pearsonr(cumul_m, cumul_c)[0]\n",
    "        if corr < 0.85 :\n",
    "            print(protein_coding[index].attr[\"gene_name\"])\n",
    "        corr_list.append(corr)"
   ]
  },
  {
   "cell_type": "code",
   "execution_count": 113,
   "id": "828b1c71-a5cc-4ded-ac36-d11820d7341f",
   "metadata": {},
   "outputs": [
    {
     "data": {
      "text/plain": [
       "Text(0.5, 1.0, 'Correlation of all E.coli transcripts')"
      ]
     },
     "execution_count": 113,
     "metadata": {},
     "output_type": "execute_result"
    },
    {
     "data": {
      "image/png": "[encoded data removed]",
      "text/plain": [
       "<Figure size 432x288 with 1 Axes>"
      ]
     },
     "metadata": {
      "needs_background": "light"
     },
     "output_type": "display_data"
    }
   ],
   "source": [
    "plt.scatter(list(range(len(corr_list))), corr_list)\n",
    "plt.ylabel(\"Pearson Correlation\")\n",
    "plt.xlabel(\"Transcript index\")\n",
    "plt.title(\"Correlation of all E.coli transcripts\")"
   ]
  },
  {
   "cell_type": "code",
   "execution_count": null,
   "id": "84faa8d8-3f36-45a5-bc38-c0e1a2530955",
   "metadata": {},
   "outputs": [],
   "source": []
  }
 ],
 "metadata": {
  "kernelspec": {
   "display_name": "Python 3 (ipykernel)",
   "language": "python",
   "name": "python3"
  },
  "language_info": {
   "codemirror_mode": {
    "name": "ipython",
    "version": 3
   },
   "file_extension": ".py",
   "mimetype": "text/x-python",
   "name": "python",
   "nbconvert_exporter": "python",
   "pygments_lexer": "ipython3",
   "version": "3.8.12"
  }
 },
 "nbformat": 4,
 "nbformat_minor": 5
}
