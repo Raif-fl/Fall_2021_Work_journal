{
 "cells": [
  {
   "cell_type": "markdown",
   "id": "90d3509e-0126-4702-a0db-82df3cb97c04",
   "metadata": {},
   "source": [
    "### Step 1\n",
    "Activate the Plastid conda environment and open up a Jupyter Lab session (alternatively, a python file can be run in this python environment)\n",
    "\n",
    "### Step 2\n",
    "Load in all of the necessary Python packages."
   ]
  },
  {
   "cell_type": "code",
   "execution_count": 1,
   "id": "76f57fce-39f5-42a0-aa87-f40caf55e894",
   "metadata": {},
   "outputs": [],
   "source": [
    "# Let the program know where to find your tools file.\n",
    "import sys\n",
    "sys.path.append('/home/keeganfl/Desktop/Work_Fall_2021/Fall_2021_Work_journal/tools/')"
   ]
  },
  {
   "cell_type": "code",
   "execution_count": 27,
   "id": "e53df0b7-e3ea-4657-800b-9da1bb416b30",
   "metadata": {},
   "outputs": [],
   "source": [
    "# Load up the necessary packages \n",
    "from plastid import BAMGenomeArray, VariableFivePrimeMapFactory, \\\n",
    "                        GTF2_TranscriptAssembler, GFF3_TranscriptAssembler, \\\n",
    "                        Transcript, ThreePrimeMapFactory\n",
    "import numpy as np\n",
    "from decimal import Decimal\n",
    "import os\n",
    "from Bio import SeqIO\n",
    "import numpy\n",
    "import math\n",
    "import pandas as pd\n",
    "from plastid.plotting.plots import *\n",
    "from scipy import stats\n",
    "from scipy.stats import kstwo\n",
    "from statsmodels.stats.proportion import proportions_ztest\n",
    "import keegan_analysis_tools as kat\n",
    "from statsmodels.nonparametric.smoothers_lowess import lowess\n",
    "from statsmodels.stats.multitest import multipletests\n",
    "import warnings\n",
    "import matplotlib.pyplot as plt\n",
    "from matplotlib.pyplot import figure\n",
    "%matplotlib inline\n",
    "import csv\n",
    "from scipy.sparse.linalg import lsqr\n",
    "from tqdm import tqdm\n",
    "from multiprocess import Pool\n",
    "import copy\n",
    "import seaborn as sns"
   ]
  },
  {
   "cell_type": "code",
   "execution_count": 12,
   "id": "43e42030-a90b-44a9-8916-b21539f8017a",
   "metadata": {},
   "outputs": [],
   "source": [
    "# Define the path to our data files and the path we want to save our outputs in. \n",
    "target_path = '/home/keeganfl/Desktop/Work_Fall_2021/data_tables/Fmr1_targets/'\n",
    "ks_mmus_path = '/home/keeganfl/Desktop/Work_Fall_2021/data_tables/KS_stats/mmus/'\n",
    "save_path = '/home/keeganfl/Desktop/Work_Fall_2021/Figures/reviewer_figures/'\n",
    "samp_num = '2'"
   ]
  },
  {
   "cell_type": "markdown",
   "id": "d8443e06-0383-4ccf-8ba9-2280d3374f98",
   "metadata": {},
   "source": [
    "### Step 3\n",
    "Load up a table containing a list of targets for your mutant gene and load up the KS table you created during the previous section using pandas pd.read_csv()."
   ]
  },
  {
   "cell_type": "code",
   "execution_count": 4,
   "id": "e91c6faa-e55b-447e-956c-11505b899411",
   "metadata": {},
   "outputs": [],
   "source": [
    "# Load up the target gene names. \n",
    "Fmr1_mmus_table = pd.read_csv(target_path + 'Fmr1_mmus_downreg_genes.txt', names = [\"gene_name\"])\n",
    "\n",
    "# Load up the tables of KS statistics\n",
    "df_mmus = pd.read_csv(ks_mmus_path + \"ks_table_\" + samp_num + \".csv\")"
   ]
  },
  {
   "cell_type": "markdown",
   "id": "6505c85f-3e7d-4615-8c4f-02fb0eb36c55",
   "metadata": {
    "tags": []
   },
   "source": [
    "### Step 4\n",
    "Merge the table of KS statistics and the table of targets into a new table using pd.merge()"
   ]
  },
  {
   "cell_type": "code",
   "execution_count": 5,
   "id": "968af399-f698-416c-8770-fd4fb9547e45",
   "metadata": {},
   "outputs": [],
   "source": [
    "# Merge the ecoli ks table with the list of gene names\n",
    "Fmr1_mmus_ks_table = pd.merge(df_mmus, Fmr1_mmus_table, how='inner', right_on='gene_name', left_on='gene_ID')\n",
    "\n",
    "combo_df = pd.merge(df_mmus, Fmr1_mmus_table, how='left', right_on='gene_name', left_on='gene_ID')"
   ]
  },
  {
   "cell_type": "markdown",
   "id": "cd430304-d2fb-4611-af0a-4d0e098865e4",
   "metadata": {},
   "source": [
    "### Step 5\n",
    "Clean up your new table by removing any duplicates that may have been caused by multiple transcripts having the same gene name. "
   ]
  },
  {
   "cell_type": "code",
   "execution_count": 6,
   "id": "2022ae1f-4738-4189-b243-3ea898510de8",
   "metadata": {},
   "outputs": [],
   "source": [
    "# Keep only one copy of each gene in the Fmr1 table. \n",
    "Fmr1_mmus_ks_table.drop_duplicates(subset =\"gene_name\",keep = \"first\", inplace = True) \n",
    "\n",
    "df_mmus.drop_duplicates(subset =\"gene_ID\",keep = \"first\", inplace = True) \n",
    "\n",
    "combo_df.drop_duplicates(subset =\"gene_ID\",keep = \"first\", inplace = True) "
   ]
  },
  {
   "cell_type": "code",
   "execution_count": 7,
   "id": "5512a536-7bf9-4eda-a25f-7ad6aa82dc3e",
   "metadata": {},
   "outputs": [],
   "source": [
    "Fmr1_mmus_ks_table = Fmr1_mmus_ks_table.sort_values(by = \"ks_stat\")\n",
    "df_mmus = df_mmus.sort_values(by = \"ks_stat\")\n",
    "combo_df = combo_df.sort_values(by = \"ks_stat\")\n",
    "\n",
    "Fmr1_mmus_ks_table = Fmr1_mmus_ks_table.reset_index(drop = True)\n",
    "df_mmus = df_mmus.reset_index(drop = True)\n",
    "combo_df = combo_df.reset_index(drop = True)"
   ]
  },
  {
   "cell_type": "markdown",
   "id": "3cd9e17c-2854-4f73-8afe-42740507dbbb",
   "metadata": {},
   "source": [
    "### Step 6\n",
    "Look at the KS statistic from the control mutant comparisons for all genes and for just the Fmr1 targets. This will help you get an initial sense for how you want to divide up the low, medium, and high KS fractions. For both the merged table and the original table of KS statistics, sort the KS values from smallest to largest using the sorted() function and then plot them as a scatter plot."
   ]
  },
  {
   "cell_type": "code",
   "execution_count": 8,
   "id": "6b1b6e6d-68f6-4f07-b056-c70f73829a0d",
   "metadata": {},
   "outputs": [
    {
     "data": {
      "text/plain": [
       "(0.0, 0.7)"
      ]
     },
     "execution_count": 8,
     "metadata": {},
     "output_type": "execute_result"
    },
    {
     "data": {
      "image/png": "[encoded data removed]",
      "text/plain": [
       "<Figure size 936x432 with 1 Axes>"
      ]
     },
     "metadata": {
      "needs_background": "light"
     },
     "output_type": "display_data"
    },
    {
     "data": {
      "image/png": "[encoded data removed]",
      "text/plain": [
       "<Figure size 936x432 with 1 Axes>"
      ]
     },
     "metadata": {
      "needs_background": "light"
     },
     "output_type": "display_data"
    }
   ],
   "source": [
    "# Plot the KS values for each gene from lowest to highest. \n",
    "figure(figsize = (13,6))\n",
    "plt.scatter(list(range(len(df_mmus[\"ks_stat\"]))), sorted(df_mmus[\"ks_stat\"]), s=6, alpha = 0.4)\n",
    "plt.ylabel(\"KS_statistic\")\n",
    "plt.xlabel(\"Rank\")\n",
    "plt.title(\"KS statistic of all mouse genes\")\n",
    "plt.ylim(0,0.7)\n",
    "plt.show\n",
    "figure(figsize = (13,6))\n",
    "plt.scatter(list(range(len(Fmr1_mmus_ks_table[\"ks_stat\"]))), sorted(Fmr1_mmus_ks_table[\"ks_stat\"]), s=12, alpha = 0.7)\n",
    "plt.ylabel(\"KS_statistic\")\n",
    "plt.xlabel(\"Rank\")\n",
    "plt.title(\"KS statistic of all Fmr1 targets\")\n",
    "plt.ylim(0,0.7)"
   ]
  },
  {
   "cell_type": "code",
   "execution_count": 9,
   "id": "77240048-7ebb-4045-995f-8653f9f76306",
   "metadata": {},
   "outputs": [],
   "source": [
    "targets = combo_df.dropna()\n",
    "\n",
    "non_targets = combo_df[combo_df[\"gene_name\"].isnull()]"
   ]
  },
  {
   "cell_type": "code",
   "execution_count": 30,
   "id": "b6f8edd1-d561-433c-b1b1-ecbffd5e2d39",
   "metadata": {
    "tags": []
   },
   "outputs": [
    {
     "data": {
      "image/png": "[encoded data removed]",
      "text/plain": [
       "<Figure size 468x396 with 1 Axes>"
      ]
     },
     "metadata": {
      "needs_background": "light"
     },
     "output_type": "display_data"
    }
   ],
   "source": [
    "figure(figsize = (6.5,5.5))\n",
    "plt.scatter(list(targets.index), targets[\"ks_stat\"], s=100, alpha = 0.6, facecolors = 'none', edgecolors = 'magenta')\n",
    "plt.ylabel(\"KS_statistic\")\n",
    "plt.xlabel(\"Rank\")\n",
    "plt.title(\"KS statistic of all EFP targets\")\n",
    "plt.ylim(0,0.5)\n",
    "\n",
    "plt.scatter(list(non_targets.index), non_targets[\"ks_stat\"], s=6, alpha = 0.4, color = \"g\")\n",
    "plt.ylabel(\"KS_statistic\")\n",
    "plt.xlabel(\"Rank\")\n",
    "plt.title(\"KS statistic of all Mouse genes\")\n",
    "axes = plt.gca()\n",
    "axes.yaxis.grid(linestyle = \"--\")\n",
    "plt.ylim(0,0.5)\n",
    "plt.xlim(0,6000)\n",
    "plt.savefig(save_path + 'mmus_all_gene.pdf', bbox_inches = \"tight\")"
   ]
  },
  {
   "cell_type": "code",
   "execution_count": 14,
   "id": "5f79ca14-bd9a-4cf0-9909-83538665e452",
   "metadata": {},
   "outputs": [
    {
     "name": "stdout",
     "output_type": "stream",
     "text": [
      "mean KS statistic of Fmr1 target genes = 0.059529690768621406\n",
      "mean KS statistic of all D.mel genes = 0.07700614782065131\n"
     ]
    }
   ],
   "source": [
    "# print out the mean of all polyprolne motif containing genes (efp targets)\n",
    "print(\"mean KS statistic of Fmr1 target genes = \" + str(np.mean(Fmr1_mmus_ks_table.ks_stat)))\n",
    "print(\"mean KS statistic of all D.mel genes = \" + str(np.mean(df_mmus.ks_stat)))"
   ]
  },
  {
   "cell_type": "markdown",
   "id": "b6f79bb7-f252-4611-a960-7d02ff07bb6e",
   "metadata": {},
   "source": [
    "### Step 7\n",
    "Calculate the upper KS statistic by taking the average KS stat of the top 10% of transcripts with the highest KS stat. transcripts that have a higher KS statistic then the upper KS statistic will be within the high KS fraction. Then we choose the number of fractions we would like to observe. Then we use the determine_enrichment() function to determine the ratio between the targets and the total genes within each KS fraction."
   ]
  },
  {
   "cell_type": "code",
   "execution_count": 15,
   "id": "65fc1100-ff81-427f-a2f3-836bcd7931e8",
   "metadata": {},
   "outputs": [],
   "source": [
    "# Calculate the upper KS value as the average of the 10% of transcripts with the highest KS stat. \n",
    "# The upper KS fraction will include all of the transcripts with a KS score above this value.\n",
    "upper_ks = 0.3\n",
    "\n",
    "# Calculate the proportion of genes which are Fmr1 targets in a high, medium, and low KS fraction\n",
    "N_cats = 2\n",
    "enrich_mmus, sections_mmus = kat.determine_enrichment(targets, non_targets, upper_ks, N_cats)"
   ]
  },
  {
   "cell_type": "markdown",
   "id": "139aba63-f96b-4be9-90be-a4b7975c240b",
   "metadata": {},
   "source": [
    "### Step 8\n",
    "Now we want to perform Fisher's exact test to determine if the difference between our observed and expected target proportions are significant. We can use the Fisher_exact_p_values() function to automatically calculate these P-values for each of the KS fractions."
   ]
  },
  {
   "cell_type": "code",
   "execution_count": 23,
   "id": "ce49d027-0b47-4f88-bf59-83a107faadee",
   "metadata": {},
   "outputs": [],
   "source": [
    "# determine if the difference betwqeen the expected proportion of targets \n",
    "# and the observed proportion of targets is significant\n",
    "p_values = kat.Fisher_exact_p_values(Fmr1_mmus_ks_table, df_mmus, sections_mmus)"
   ]
  },
  {
   "cell_type": "code",
   "execution_count": 24,
   "id": "a224b617-8448-4e19-9411-798738fa4851",
   "metadata": {},
   "outputs": [
    {
     "data": {
      "text/plain": [
       "[0.042870489748167456, 0.06386958096827618, 1.0]"
      ]
     },
     "execution_count": 24,
     "metadata": {},
     "output_type": "execute_result"
    }
   ],
   "source": [
    "p_values"
   ]
  },
  {
   "cell_type": "code",
   "execution_count": 25,
   "id": "aa486662-6aa4-4ca2-b1cc-ba3e0a994ece",
   "metadata": {},
   "outputs": [
    {
     "data": {
      "text/plain": [
       "(array([False, False, False]),\n",
       " array([0.09580437, 0.09580437, 1.        ]),\n",
       " 0.016952427508441503,\n",
       " 0.016666666666666666)"
      ]
     },
     "execution_count": 25,
     "metadata": {},
     "output_type": "execute_result"
    }
   ],
   "source": [
    "multipletests(p,method = \"fdr_bh\")"
   ]
  },
  {
   "cell_type": "markdown",
   "id": "3db6ccd5-5fca-4978-9150-f80c6b1e39f0",
   "metadata": {},
   "source": [
    "### Step 9\n",
    "Use matplotlib.pyplot.bar() function to create a series of barplots that show the observed percentage of genes that are targets in each fraction. Then you can draw a a line through this barplot using matplotlib.pyplot.plot() that shows the expected percentage of genes that are targets if there is no enrichment.  "
   ]
  },
  {
   "cell_type": "code",
   "execution_count": 28,
   "id": "f33da3ef-dc11-42b5-bd77-1bc3ba21e415",
   "metadata": {},
   "outputs": [
    {
     "data": {
      "image/png": "[encoded data removed]",
      "text/plain": [
       "<Figure size 468x396 with 1 Axes>"
      ]
     },
     "metadata": {
      "needs_background": "light"
     },
     "output_type": "display_data"
    }
   ],
   "source": [
    "# Create a bar plot that shows the proportion of genes which are Fmr1_mmus targets in each KS fraction.\n",
    "figure(figsize = (6.5,5.5))\n",
    "bps = plt.bar([1,2,3],enrich_mmus, width = 0.5,\n",
    "        tick_label = [\"Low KS Fraction\",\"Medium KS Fraction\",\"High KS Fraction\"],\n",
    "       color = [\"g\", 'b', 'm'], edgecolor = 'black')\n",
    "plt.xticks(fontsize = 13)\n",
    "plt.xlim(0.6,3.4)\n",
    "plt.ylim(0, 4)\n",
    "plt.ylabel(\"Fold enrichment of Fmr1 targets (CLIP-seq)\", fontsize = 13)\n",
    "plt.title(\"Fmr1 KO vs Control (Mouse cortex)\", fontsize = 14)\n",
    "axes = plt.gca()\n",
    "axes.yaxis.grid(linestyle = \"--\")\n",
    "plt.text(3.45, 0.96, \"Expected\", fontsize = 10)\n",
    "\n",
    "for b, p in zip(bps, p_values):\n",
    "    height = b.get_height()\n",
    "    plt.annotate(\"p = \" + \"{}\".format(\"%.2E\" % Decimal(p)),\n",
    "      xy=(b.get_x() + b.get_width() / 2, height),\n",
    "      xytext=(0, 3), textcoords=\"offset points\",\n",
    "      ha=\"center\", va=\"bottom\")\n",
    "\n",
    "# Create a line showing the expected proportion of targets. \n",
    "plt.plot([0,6],[1,1], color = \"black\", linestyle = \"--\")\n",
    "plt.savefig(save_path + 'mmus_proportions.pdf', bbox_inches = \"tight\")"
   ]
  },
  {
   "cell_type": "markdown",
   "id": "bbeaa5d0-5f4f-474c-a32b-0848b697adec",
   "metadata": {},
   "source": [
    "### Step 9\n",
    "Now we want to perform Fisher's exact test to determine if the difference between our observed and expected target proportions are significant. We can use the Fisher_exact_p_values() function to automatically calculate these P-values for each of the KS fractions."
   ]
  },
  {
   "cell_type": "code",
   "execution_count": 15,
   "id": "8358d941-d67f-4dc8-bd1d-9fa30a68e716",
   "metadata": {},
   "outputs": [],
   "source": [
    "def Fisher_exact_p_values(target, all_g, sections, stat = \"ks_stat\"):\n",
    "    '''\n",
    "    A function that uses Fisher's exact test to determine if the enrichment of the target gene is\n",
    "    significant in any KS fractions. \n",
    "    '''\n",
    "    p_values = []\n",
    "    for sec, i in zip(sections, list(range(len(sections)))):\n",
    "        try:\n",
    "            obs = len(target[stat][(target[stat] > sec) & (target[stat] < sections[i + 1])])\n",
    "            all_g_p = len(all_g[stat][(all_g[stat] > sec) & (all_g[stat] < sections[i + 1])])\n",
    "            table = [[obs,len(target)-obs],[all_g_p,len(all_g)-all_g_p]]\n",
    "            print(table)\n",
    "            p_v = stats.fisher_exact(table)[1]\n",
    "            p_values.append(p_v)\n",
    "        except:\n",
    "            pass\n",
    "    obs = len(target[stat][target[stat] > sections[-1]])\n",
    "    all_g_p = len(all_g[stat][all_g[stat] > sections[-1]])\n",
    "    table = [[obs,len(target)-obs],[all_g_p,len(all_g)-all_g_p]]\n",
    "    p_v = stats.fisher_exact(table)[1]\n",
    "    p_values.append(p_v)\n",
    "    return p_values"
   ]
  },
  {
   "cell_type": "code",
   "execution_count": 16,
   "id": "58c9e136-8c00-4141-86e5-554d81ea89ce",
   "metadata": {},
   "outputs": [
    {
     "data": {
      "text/plain": [
       "[1.0471734188778654, 0.18309258820743546, 0.0]"
      ]
     },
     "execution_count": 16,
     "metadata": {},
     "output_type": "execute_result"
    }
   ],
   "source": [
    "enrich_mmus"
   ]
  },
  {
   "cell_type": "code",
   "execution_count": 17,
   "id": "e17ea841-3007-44c0-91fc-68eb65197737",
   "metadata": {},
   "outputs": [
    {
     "name": "stdout",
     "output_type": "stream",
     "text": [
      "[[102, 1], [3758, 211]]\n",
      "[[1, 102], [206, 3763]]\n"
     ]
    }
   ],
   "source": [
    "# determine if the difference betwqeen the expected proportion of targets \n",
    "# and the observed proportion of targets is significant\n",
    "p = Fisher_exact_p_values(Fmr1_mmus_ks_table, df_mmus, sections_mmus)"
   ]
  },
  {
   "cell_type": "code",
   "execution_count": 18,
   "id": "cdcc2747-41d8-44bb-a4a2-656844be25f6",
   "metadata": {},
   "outputs": [
    {
     "data": {
      "text/plain": [
       "[0.042870489748167456, 0.06386958096827618, 1.0]"
      ]
     },
     "execution_count": 18,
     "metadata": {},
     "output_type": "execute_result"
    }
   ],
   "source": [
    "p"
   ]
  },
  {
   "cell_type": "code",
   "execution_count": 19,
   "id": "91d2ec4f-eeec-4317-af34-eb36dc074f40",
   "metadata": {},
   "outputs": [
    {
     "data": {
      "text/plain": [
       "(array([False, False, False]),\n",
       " array([0.09580437, 0.09580437, 1.        ]),\n",
       " 0.016952427508441503,\n",
       " 0.016666666666666666)"
      ]
     },
     "execution_count": 19,
     "metadata": {},
     "output_type": "execute_result"
    }
   ],
   "source": [
    "multipletests(p,method = \"fdr_bh\")"
   ]
  },
  {
   "cell_type": "markdown",
   "id": "39625ec8-b2bd-48d9-b4e3-8adfa52204d9",
   "metadata": {},
   "source": [
    "## Looking at the kernel density estimates"
   ]
  },
  {
   "cell_type": "code",
   "execution_count": 20,
   "id": "22018ba5-c7e7-4bec-beec-ce92967cf194",
   "metadata": {},
   "outputs": [
    {
     "data": {
      "text/plain": [
       "<matplotlib.legend.Legend at 0x7fba673b8fa0>"
      ]
     },
     "execution_count": 20,
     "metadata": {},
     "output_type": "execute_result"
    },
    {
     "data": {
      "image/png": "[encoded data removed]",
      "text/plain": [
       "<Figure size 720x432 with 1 Axes>"
      ]
     },
     "metadata": {
      "needs_background": "light"
     },
     "output_type": "display_data"
    }
   ],
   "source": [
    "figure(figsize = (10,6))\n",
    "sns.kdeplot(df_mmus.ks_stat, label = \"All mouse genes\")\n",
    "sns.kdeplot(Fmr1_mmus_ks_table.ks_stat, label = \"Fmr1 targets\")\n",
    "plt.ylabel(\"Density\")\n",
    "plt.xlabel(\"KS Statistic\")\n",
    "plt.title(\"Density plot comparison for Fmr1 mutants and all genes\")\n",
    "plt.legend()"
   ]
  },
  {
   "cell_type": "code",
   "execution_count": 21,
   "id": "f371ef86-c8ca-473a-971a-b00c2e9e2323",
   "metadata": {},
   "outputs": [
    {
     "name": "stderr",
     "output_type": "stream",
     "text": [
      "---------------------------------------------------------------------------\n",
      "SettingWithCopyWarning\n",
      "\n",
      "A value is trying to be set on a copy of a slice from a DataFrame\n",
      "\n",
      "See the caveats in the documentation: https://pandas.pydata.org/pandas-docs/stable/user_guide/indexing.html#returning-a-view-versus-a-copy\n",
      "in /home/keeganfl/miniconda3/envs/plastid/lib/python3.8/site-packages/pandas/core/frame.py, line 4906:\n",
      "\n",
      "4904                 weight  1.0     0.8\n",
      "4905         \"\"\"\n",
      "4906         return super().drop(\n",
      "4907             labels=labels,\n",
      "4908             axis=axis,\n",
      "\n",
      "---------------------------------------------------------------------------\n"
     ]
    }
   ],
   "source": [
    "targets.drop([\"gene_name\", \"gene_length\"], axis = 1, inplace = True)\n",
    "targets.to_csv(\"/home/keeganfl/Desktop/measuring_binding_domains/Extra_tables/mmus_fmr1_ks_stats.csv\",index = False)"
   ]
  },
  {
   "cell_type": "code",
   "execution_count": null,
   "id": "4e83f551-dd7b-4b7b-b42b-9a2dd284c3ed",
   "metadata": {},
   "outputs": [],
   "source": []
  }
 ],
 "metadata": {
  "kernelspec": {
   "display_name": "Python 3 (ipykernel)",
   "language": "python",
   "name": "python3"
  },
  "language_info": {
   "codemirror_mode": {
    "name": "ipython",
    "version": 3
   },
   "file_extension": ".py",
   "mimetype": "text/x-python",
   "name": "python",
   "nbconvert_exporter": "python",
   "pygments_lexer": "ipython3",
   "version": "3.8.12"
  }
 },
 "nbformat": 4,
 "nbformat_minor": 5
}
