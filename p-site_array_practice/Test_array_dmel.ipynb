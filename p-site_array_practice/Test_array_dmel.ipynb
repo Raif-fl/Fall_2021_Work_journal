{
 "cells": [
  {
   "cell_type": "markdown",
   "id": "9e75d456-5ec0-46d3-8194-7a626e3b9817",
   "metadata": {},
   "source": [
    "Note too self, control_1 and Fmr1_4 are currently pretty much empty... for now. "
   ]
  },
  {
   "cell_type": "markdown",
   "id": "12dbf983-0403-4298-97f6-8d9fef7130ac",
   "metadata": {},
   "source": [
    "# Count Arrays for Greenblatt and Spradling D. Melanogaster data\n",
    "\n",
    "This notebook contains a variety of code that allows me to create arrays of counts at each transcript position (nucleotide precision). \n",
    "\n",
    "Note that depending on the number of samples you are using, this notebook may use up a large amount of RAM (about 1 GB per sample). "
   ]
  },
  {
   "cell_type": "code",
   "execution_count": 1,
   "id": "ef4ccd24-5ff1-481e-b87e-f68fe4f83a68",
   "metadata": {},
   "outputs": [],
   "source": [
    "# import plastid\n",
    "# data structure for mapping read alignments to genomic positions\n",
    "from plastid import BAMGenomeArray, VariableFivePrimeMapFactory, \\\n",
    "                        GTF2_TranscriptAssembler, Transcript\n",
    "import numpy as np"
   ]
  },
  {
   "cell_type": "code",
   "execution_count": 7,
   "id": "8de37de6-d737-4af2-af06-1fdf6e2f8545",
   "metadata": {},
   "outputs": [],
   "source": [
    "PATH = \"/Users/keeganflanagan/Desktop/Khanh_position/genomes_and_samples/Fly/\""
   ]
  },
  {
   "cell_type": "code",
   "execution_count": 8,
   "id": "6602aae6-6ecf-4e5f-b146-24a11b3409fe",
   "metadata": {},
   "outputs": [],
   "source": [
    "# load the transcript annotations from the GTF file.\n",
    "# BED_Reader returns an iterator, so here we convert it to a list.\n",
    "transcripts = list(GTF2_TranscriptAssembler(open(PATH + \"Drosophila_melanogaster.BDGP6.32.103.gtf\"),return_type=Transcript))"
   ]
  },
  {
   "cell_type": "code",
   "execution_count": 45,
   "id": "745290ea-ee82-428b-94a0-3cda4af55eae",
   "metadata": {},
   "outputs": [
    {
     "name": "stderr",
     "output_type": "stream",
     "text": [
      "---------------------------------------------------------------------------\n",
      "UserWarning\n",
      "Given offset '50' longer than read length '37'. Falling back to default '13'.\n",
      "in /opt/anaconda3/envs/plastid/lib/python3.8/site-packages/plastid/util/services/exceptions.py, line 234:\n",
      "\n",
      "232         filterwarnings(\"onceperfamily\", message=pattern, category=category)\n",
      "234     warn(message, category=category, stacklevel=stacklevel)\n",
      "\n",
      "---------------------------------------------------------------------------\n"
     ]
    }
   ],
   "source": [
    "maprule_Fmr1 = VariableFivePrimeMapFactory.from_file(open(PATH + \"dmel_Fmr1_1_riboprofile_p_offsets.txt\"))\n",
    "maprule_control = VariableFivePrimeMapFactory.from_file(open(PATH + \"dmel_control_2_riboprofile_p_offsets.txt\"))\n",
    "\n",
    "# load ribosome profiling data\n",
    "alignments_Fmr1 = BAMGenomeArray(PATH + \"dmel_Fmr1_RPF_1_Aligned.sortedByCoord.out.bam\")\n",
    "alignments_control = BAMGenomeArray(PATH + \"dmel_control_RPF_2_Aligned.sortedByCoord.out.bam\")\n",
    "\n",
    "# set P-site mapping as 14 nucleotides from 5' end\n",
    "alignments_Fmr1.set_mapping(maprule_Fmr1)\n",
    "alignments_control.set_mapping(maprule_control)"
   ]
  },
  {
   "cell_type": "code",
   "execution_count": 11,
   "id": "b08fe770-0a60-4bec-8141-53b9c7dbd7be",
   "metadata": {},
   "outputs": [],
   "source": [
    "top_10 = [\"CG17734\", \"Nf1\", \"Ctl2\", \"CG12517\", \"CG16974\", \"Pi3K92E\", \n",
    "          \"Prosap\", \"ctrip\", \"RpL34b\", \"ALiX\"]"
   ]
  },
  {
   "cell_type": "code",
   "execution_count": 12,
   "id": "be78e106-cf69-4f6b-b056-edfebb36627d",
   "metadata": {},
   "outputs": [],
   "source": [
    "# create a list to hold the vectors\n",
    "count_vectors_Fmr1 = []\n",
    "\n",
    "# get counts for each transcript\n",
    "for transcript in transcripts:\n",
    "    count_vectors_Fmr1.append(transcript.get_counts(alignments_Fmr1))"
   ]
  },
  {
   "cell_type": "code",
   "execution_count": 46,
   "id": "dd7f712f-b607-4f7b-8314-ef0d6764787f",
   "metadata": {},
   "outputs": [],
   "source": [
    "# create a list to hold the vectors\n",
    "count_vectors_control = []\n",
    "\n",
    "# get counts for each transcript\n",
    "for transcript in transcripts:\n",
    "    count_vectors_control.append(transcript.get_counts(alignments_control))"
   ]
  },
  {
   "cell_type": "markdown",
   "id": "c393c56c-c0c4-4f5f-bc6b-b0ffa663fa2d",
   "metadata": {},
   "source": [
    "The function below takes a gene name as input and finds the correct transcript and vector for that gene. Note that this function is specifically made to work with the Drosophila_melanogaster.BDGP6.32.103.gtf file used to create the transcripts in this notebook. If you create the transcripts using a different file this function will need to be altered. "
   ]
  },
  {
   "cell_type": "code",
   "execution_count": 62,
   "id": "e0972b1b-ad28-4411-98b2-afd91cca06cc",
   "metadata": {},
   "outputs": [],
   "source": [
    "# Create a function that finds the proteins I need. \n",
    "def find_transcript(gene,transcripts, count_vectors):\n",
    "    '''\n",
    "    A function that takes the name of a gene as input and finds \n",
    "    the corresponding transcript from a transcript list. \n",
    "    \n",
    "    returns both the transcript in question and the vector of counts for that transcript.\n",
    "    '''\n",
    "    for i in transcripts:\n",
    "        if i.attr['transcript_biotype'] == 'protein_coding':\n",
    "            if i.attr['gene_name'] == gene:\n",
    "                my_transcript = i\n",
    "                my_vector = count_vectors[transcripts.index(i)]\n",
    "                \n",
    "    return my_transcript, my_vector"
   ]
  },
  {
   "cell_type": "code",
   "execution_count": 63,
   "id": "3b1fd565-4baf-4429-9e21-d288ae1882d4",
   "metadata": {},
   "outputs": [],
   "source": [
    "#Get the transcript and vector for the gene of interest\n",
    "my_transcript, my_vector_control = find_transcript('Xbp1', transcripts, count_vectors_control)\n",
    "my_transcript, my_vector_Fmr1 = find_transcript('Xbp1', transcripts, count_vectors_Fmr1)"
   ]
  },
  {
   "cell_type": "code",
   "execution_count": 54,
   "id": "ec4904ac-040d-4d01-b051-349b1171425a",
   "metadata": {},
   "outputs": [
    {
     "data": {
      "text/plain": [
       "<matplotlib.lines.Line2D at 0x14e506d00>"
      ]
     },
     "execution_count": 54,
     "metadata": {},
     "output_type": "execute_result"
    },
    {
     "data": {
      "image/png": "[encoded data removed]",
      "text/plain": [
       "<Figure size 432x288 with 1 Axes>"
      ]
     },
     "metadata": {
      "needs_background": "light"
     },
     "output_type": "display_data"
    }
   ],
   "source": [
    "import numpy\n",
    "\n",
    "# 30-codon sliding window average\n",
    "window = numpy.ones(90).astype(float)/90.0\n",
    "sliding_window_avg = numpy.convolve(my_vector_Fmr1,window,mode=\"valid\")\n",
    "\n",
    "\n",
    "# plot\n",
    "%matplotlib inline\n",
    "import matplotlib.pyplot as plt\n",
    "\n",
    "plt.plot(my_vector_Fmr1,label=\"%s counts\" % my_transcript.get_name())\n",
    "plt.plot(sliding_window_avg,label=\"30 codon average\")\n",
    "plt.xlabel(\"Position in transcript (5' to 3')\")\n",
    "plt.ylabel(\"Ribosome counts\")\n",
    "\n",
    "# add outlines at start & stop codons\n",
    "plt.axvline(my_transcript.cds_start,color=\"#999999\",dashes=[3,2],zorder=-1)\n",
    "plt.axvline(my_transcript.cds_end,color=\"#999999\",dashes=[3,2],zorder=-1)"
   ]
  },
  {
   "cell_type": "markdown",
   "id": "1cdcbc69-2124-4ed9-a0f4-6c4c68232779",
   "metadata": {},
   "source": [
    "transcript position 1230 to 1233 corresponds to the pause site for Xbp1. "
   ]
  },
  {
   "cell_type": "code",
   "execution_count": 61,
   "id": "d8b5b3b9-0049-4ff4-9806-35f838c5b4cf",
   "metadata": {},
   "outputs": [
    {
     "data": {
      "text/plain": [
       "array([ 0.,  0., 15., 17., 21.,  0.,  0.])"
      ]
     },
     "execution_count": 61,
     "metadata": {},
     "output_type": "execute_result"
    }
   ],
   "source": [
    "my_vector_control[1228:1235]"
   ]
  },
  {
   "cell_type": "code",
   "execution_count": 66,
   "id": "9e988452-160f-484d-821b-7d7c6f5fdbe2",
   "metadata": {},
   "outputs": [
    {
     "data": {
      "text/plain": [
       "328"
      ]
     },
     "execution_count": 66,
     "metadata": {},
     "output_type": "execute_result"
    }
   ],
   "source": [
    "my_transcript.cds_start"
   ]
  },
  {
   "cell_type": "code",
   "execution_count": 72,
   "id": "4539e74d-129f-462e-bd2b-35bd514e51a5",
   "metadata": {},
   "outputs": [
    {
     "data": {
      "text/plain": [
       "<function Transcript.get_sequence>"
      ]
     },
     "execution_count": 72,
     "metadata": {},
     "output_type": "execute_result"
    }
   ],
   "source": [
    "my_transcript.get_sequence()"
   ]
  },
  {
   "cell_type": "markdown",
   "id": "8fc2dbd4-5da7-4363-a89e-927220eda1f9",
   "metadata": {},
   "source": [
    "Ok, there is clearly way too much data in this GTF file and I need to find the specific set of the GTF file that is useful to me, at the moment it just gives me everything in a fly that ever was. \n",
    "\n",
    "Hmmmm, I definitely need to pick genes that have a decent number of reads in order to see anything. "
   ]
  },
  {
   "cell_type": "markdown",
   "id": "1c39a68a-2db5-4831-9fb7-2eaa57ccf2a1",
   "metadata": {},
   "source": [
    "Do you think there is such thing as an average count array? I am just trying to figure out how we work multiple samples into this kind of analyses smoothly. "
   ]
  }
 ],
 "metadata": {
  "kernelspec": {
   "display_name": "Python 3 (ipykernel)",
   "language": "python",
   "name": "python3"
  },
  "language_info": {
   "codemirror_mode": {
    "name": "ipython",
    "version": 3
   },
   "file_extension": ".py",
   "mimetype": "text/x-python",
   "name": "python",
   "nbconvert_exporter": "python",
   "pygments_lexer": "ipython3",
   "version": "3.8.10"
  }
 },
 "nbformat": 4,
 "nbformat_minor": 5
}
