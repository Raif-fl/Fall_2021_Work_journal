{
 "cells": [
  {
   "cell_type": "markdown",
   "id": "1c0f8df2-b15d-4de9-a2a0-e57302b44593",
   "metadata": {},
   "source": [
    "## Importing packages and defining the path"
   ]
  },
  {
   "cell_type": "code",
   "execution_count": 67,
   "id": "85970a1e-58be-489c-bdb1-fd1c8e83cefb",
   "metadata": {},
   "outputs": [],
   "source": [
    "import sys\n",
    "sys.path.append('/home/keeganfl/Desktop/Work_Fall_2021/Fall_2021_Work_journal/tools/')"
   ]
  },
  {
   "cell_type": "code",
   "execution_count": 68,
   "id": "3701f454-d539-44ef-bb00-27718993905c",
   "metadata": {},
   "outputs": [],
   "source": [
    "# import plastid\n",
    "# data structure for mapping read alignments to genomic positions\n",
    "from plastid import BAMGenomeArray, GenomeArray, VariableFivePrimeMapFactory, \\\n",
    "                        GTF2_TranscriptAssembler, GFF3_TranscriptAssembler, \\\n",
    "                        Transcript, ThreePrimeMapFactory, CenterMapFactory\n",
    "import plastid\n",
    "from plastid.plotting.plots import *\n",
    "import numpy as np\n",
    "import os\n",
    "from Bio import SeqIO\n",
    "import numpy\n",
    "import math\n",
    "import pandas as pd\n",
    "from scipy import stats\n",
    "import keegan_analysis_tools as kat\n",
    "from statsmodels.nonparametric.smoothers_lowess import lowess\n",
    "import warnings\n",
    "import matplotlib.pyplot as plt\n",
    "%matplotlib inline\n",
    "import csv\n",
    "from scipy.sparse.linalg import lsqr"
   ]
  },
  {
   "cell_type": "code",
   "execution_count": 69,
   "id": "0dbc14a5-12ca-4bd5-ac08-ca4df78ad0fb",
   "metadata": {},
   "outputs": [],
   "source": [
    "# Define the path to our Bam files\n",
    "data_path = \"/home/keeganfl/Desktop/Work_Fall_2021/genomes_&_samples/dmel/\"\n",
    "feat_counts_path = \"/home/keeganfl/Desktop/Work_Fall_2021/feature_counts/dmel/\"\n",
    "save_path = \"/home/keeganfl/Desktop/Work_Fall_2021/data_tables/TE_tables/dmel/\"\n",
    "p_site_path = \"/home/keeganfl/Desktop/Work_Fall_2021/data_tables/p-site_offsets/dmel/\"\n",
    "gtf_name = \"Drosophila_melanogaster.BDGP6.32.103.gtf\"\n",
    "mutation = 'control'\n",
    "samp_num = '2'\n",
    "special = \"fc\"\n",
    "if os.path.isfile(save_path + mutation + '_' + samp_num + '_' + \"te_table\" + special + \".csv\") == True:\n",
    "    pre_load = True\n",
    "else:\n",
    "    pre_load = False"
   ]
  },
  {
   "cell_type": "markdown",
   "id": "9f5f9a09-7592-42f8-810a-cc2800d720b0",
   "metadata": {},
   "source": [
    "## Loading in the ribosome profiling data with plastid"
   ]
  },
  {
   "cell_type": "code",
   "execution_count": 70,
   "id": "47ce7229-65ab-44a8-b8e5-6ccaf9fe020a",
   "metadata": {
    "tags": []
   },
   "outputs": [],
   "source": [
    "# Load up genome annotation as a list of transcript objects\n",
    "gtf_reads=list(GTF2_TranscriptAssembler(open(data_path + gtf_name),return_type=Transcript))"
   ]
  },
  {
   "cell_type": "code",
   "execution_count": 71,
   "id": "ce6a3f16-521b-4604-8fb5-57569da65967",
   "metadata": {},
   "outputs": [],
   "source": [
    "# Open the read alignments, storing each dataset in a BAMGenomeArray:\n",
    "my_datasets = { \"ribosome_profiling\" : data_path + mutation +\"_RPF_\" + samp_num + \"_Aligned.sortedByCoord.out.bam\"\n",
    "              }\n",
    "\n",
    "my_datasets = { K : BAMGenomeArray(V) for K,V in my_datasets.items() }"
   ]
  },
  {
   "cell_type": "code",
   "execution_count": 72,
   "id": "8f0ba4d0-bcbf-4281-9422-0b9687752475",
   "metadata": {},
   "outputs": [],
   "source": [
    "# Load in the table of P-site offsets. \n",
    "p_offsets=pd.read_csv(p_site_path + mutation + '_RPF_' + samp_num + \"_Aligned.toTranscriptome.out_p-site-offsets\", sep=\"\\t\")\n",
    "\n",
    "# Map the ribosome profiling alignments to the p-site. \n",
    "my_datasets[\"ribosome_profiling\"].set_mapping(kat.VariableThreePrimeMapFactory(p_offsets=p_offsets))"
   ]
  },
  {
   "cell_type": "code",
   "execution_count": null,
   "id": "941e2ea7-d7ae-4497-893c-2e9d24f84522",
   "metadata": {
    "tags": []
   },
   "outputs": [],
   "source": [
    "# we will calculate both total counts and RPKM\n",
    "metrics = (\"counts\",\"rpk\",\"lengths\")\n",
    "\n",
    "# create an empty list for each sample and metric\n",
    "my_data = { \"%s_%s\" % (SAMPLE,METRIC) : copy.deepcopy([])\\\n",
    "                                                  for SAMPLE in my_datasets.keys()\\\n",
    "                                                  for METRIC in metrics }\n",
    "\n",
    "# add a list to our dictionary of lists to store transcript IDs\n",
    "my_data[\"transcript_ID\"] = []\n",
    "my_data[\"gene_name\"] = []\n",
    "my_data[\"gene_ID\"] = []\n",
    "\n",
    "for transcript in gtf_reads:\n",
    "        \n",
    "    # First, save ID of transcript we are evaluating\n",
    "    if transcript.attr[\"transcript_biotype\"] == \"protein_coding\":\n",
    "        my_data[\"transcript_ID\"].append(transcript.get_name())\n",
    "        my_data[\"gene_ID\"].append(transcript.attr[\"gene_id\"])\n",
    "        my_data[\"gene_name\"].append(transcript.attr[\"gene_name\"])\n",
    "\n",
    "        # Iterate over each sample\n",
    "        for sample_name, sample_data in my_datasets.items():\n",
    "            # transcript.get_counts() fetches a list of counts at each position\n",
    "            # here we just want the sum\n",
    "            counts = sum(transcript.get_counts(sample_data))\n",
    "            length = transcript.length\n",
    "            rpk   = float(counts)/(length/1000)\n",
    "            my_data[\"%s_counts\" % (sample_name)].append(counts)\n",
    "            my_data[\"%s_rpk\"   % (sample_name)].append(rpk)\n",
    "            my_data[\"%s_lengths\" % (sample_name)].append(length)"
   ]
  },
  {
   "cell_type": "code",
   "execution_count": null,
   "id": "8c254b28-34bd-4d35-9a87-bdfc30bd31ad",
   "metadata": {},
   "outputs": [],
   "source": [
    "# convert to Dataframe\n",
    "df = pd.DataFrame(my_data)"
   ]
  },
  {
   "cell_type": "markdown",
   "id": "c8ab4890-a4ca-4756-a34a-9db7c90ac0f5",
   "metadata": {},
   "source": [
    "## Loading RNA sequencing data from feature counts"
   ]
  },
  {
   "cell_type": "code",
   "execution_count": null,
   "id": "4159c977-cce1-4d96-bdb5-c4de5ba5f758",
   "metadata": {},
   "outputs": [],
   "source": [
    "#Load in feature counts data\n",
    "feature_counts = pd.read_csv(feat_counts_path + 'counts_' + mutation + '_RNA_' + samp_num + '.txt', delimiter = \"\\t\", comment='#')"
   ]
  },
  {
   "cell_type": "code",
   "execution_count": null,
   "id": "da54719c-24e3-44b0-a6ac-caceb3a9ad9f",
   "metadata": {},
   "outputs": [],
   "source": [
    "# Select our columns of interest. \n",
    "cols = [\"Geneid\",\"Length\",mutation + '_RNA_' + samp_num + \"_Aligned.sortedByCoord.out.bam\"]\n",
    "feature_counts = feature_counts[cols]"
   ]
  },
  {
   "cell_type": "code",
   "execution_count": null,
   "id": "35583471-8c11-4626-9715-70a59ceb0c13",
   "metadata": {},
   "outputs": [],
   "source": [
    "# Rename our columns to assist with the merge to the dataframe. \n",
    "feature_counts.rename(columns = {mutation + '_RNA_' + samp_num + \"_Aligned.sortedByCoord.out.bam\" : \"RNA-seq_counts\",\n",
    "                                \"Length\" : \"RNA-seq_lengths\", \"Geneid\" : \"gene_ID\"}, inplace = True)"
   ]
  },
  {
   "cell_type": "code",
   "execution_count": null,
   "id": "5e645eb4-1cca-4b7f-93ff-d3c767e7944a",
   "metadata": {
    "tags": []
   },
   "outputs": [],
   "source": [
    "# create new columns that contain the calculations for tpm and rpkm. \n",
    "feature_counts[\"RNA-seq_rpk\"] = feature_counts[\"RNA-seq_counts\"]/feature_counts[\"RNA-seq_lengths\"]\n",
    "feature_counts[\"RNA-seq_tpm\"] = feature_counts[\"RNA-seq_rpk\"]/(sum(feature_counts[\"RNA-seq_rpk\"])/1e6)\n",
    "feature_counts[\"RNA-seq_rpkm\"] =feature_counts[\"RNA-seq_counts\"]/ feature_counts[\"RNA-seq_lengths\"]*1000 * 1e6 / sum(feature_counts[\"RNA-seq_counts\"])"
   ]
  },
  {
   "cell_type": "code",
   "execution_count": null,
   "id": "7f56a34f-f2bc-424d-b728-abd00746158e",
   "metadata": {},
   "outputs": [],
   "source": [
    "#Merging the table from feature counts with the plastid dataframe based on the gene names. \n",
    "df_merged = pd.merge(df,feature_counts, how = \"inner\", on = \"gene_ID\")"
   ]
  },
  {
   "cell_type": "code",
   "execution_count": null,
   "id": "5d3bf48b-7de9-4ae7-99a6-35d08e251b73",
   "metadata": {},
   "outputs": [],
   "source": [
    "df = df_merged"
   ]
  },
  {
   "cell_type": "markdown",
   "id": "679c7197-53b1-4bc0-ae7d-9da3492bd1cc",
   "metadata": {
    "tags": []
   },
   "source": [
    "# Estimating translation efficiency"
   ]
  },
  {
   "cell_type": "code",
   "execution_count": null,
   "id": "5c2c70c0-5e60-4d90-8326-1a812062ea6c",
   "metadata": {},
   "outputs": [],
   "source": [
    "#df[\"RNA-seq_rpk\"] = df[\"RNA-seq_counts\"]/(df[\"ribosome_profiling_lengths\"]/1000)\n",
    "df[\"ribosome_profiling_rpk\"] = df[\"ribosome_profiling_counts\"]/(df[\"ribosome_profiling_lengths\"]/1000)\n",
    "\n",
    "\n",
    "# Calculate tpm using rpk from our new dataframe. \n",
    "for sample_name in [\"ribosome_profiling\"]:\n",
    "    per_m_s = sum(df[\"%s_rpk\"   % (sample_name)])/1e6\n",
    "    df[\"%s_tpm\" % (sample_name)] = (df[\"%s_rpk\"   % (sample_name)])/per_m_s\n",
    "    \n",
    "# Calculate rpkm using the read counts. Work in progress.\n",
    "for sample_name in [\"ribosome_profiling\"]:\n",
    "    counts = df[\"%s_counts\"   % (sample_name)]\n",
    "    rpkm   = counts / df[\"ribosome_profiling_lengths\"]*1000 * 1e6 / sum(counts)\n",
    "    df[\"%s_rpkm\" % (sample_name)] = rpkm\n",
    "    \n",
    "    \n",
    "# Calculate translation efficiency using tpm\n",
    "df[\"TE_tpm\"] = df[\"ribosome_profiling_tpm\"] / df[\"RNA-seq_tpm\"]\n",
    "\n",
    "# Calculate translation efficiency using rpkm\n",
    "df[\"TE_rpkm\"] = df[\"ribosome_profiling_rpkm\"] / df[\"RNA-seq_rpkm\"]"
   ]
  },
  {
   "cell_type": "code",
   "execution_count": null,
   "id": "e0924fd1-4458-4120-af35-4c1f2467ff21",
   "metadata": {},
   "outputs": [],
   "source": [
    "# Rearranging Column names to make something more readable. \n",
    "cols = ['transcript_ID', \"gene_ID\",\"gene_name\", 'TE_tpm','TE_rpkm','ribosome_profiling_tpm',\n",
    "        'RNA-seq_tpm','ribosome_profiling_counts','RNA-seq_counts',\n",
    "        'ribosome_profiling_rpkm', 'RNA-seq_rpkm', 'ribosome_profiling_rpk', \n",
    "       'RNA-seq_rpk', 'ribosome_profiling_lengths', 'RNA-seq_lengths']\n",
    "df = df[cols]"
   ]
  },
  {
   "cell_type": "code",
   "execution_count": null,
   "id": "97622b7c-9329-4c54-955a-72d2bc82ffcc",
   "metadata": {},
   "outputs": [],
   "source": [
    "# save the data frame.\n",
    "if pre_load == False:\n",
    "    df.to_csv(save_path + mutation + '_' + samp_num + '_' + \"te_table\" + special + \".csv\", index = False)"
   ]
  },
  {
   "cell_type": "code",
   "execution_count": null,
   "id": "9b62be0e-5ce6-436f-9682-1c0a33ed8fae",
   "metadata": {},
   "outputs": [],
   "source": [
    "#!# A line of code that quickly loads up the data if it has already been saved. \n",
    "if pre_load == True:\n",
    "    df = pd.read_csv(save_path + mutation + '_' + samp_num + '_' + \"te_table\" + special + \".csv\")"
   ]
  },
  {
   "cell_type": "markdown",
   "id": "ae468aee-df90-4c79-a9b4-8c9af5a2a68c",
   "metadata": {},
   "source": [
    "## Distribution of translation efficiency"
   ]
  },
  {
   "cell_type": "code",
   "execution_count": null,
   "id": "39f7da94-80e8-49a0-8502-3ec3b626c2c9",
   "metadata": {},
   "outputs": [],
   "source": [
    "# We need to remove zeroes and infinite values in order to make the kernel density estimates\n",
    "df_clean=df[~df.isin([np.nan, np.inf, -np.inf, 0]).any(1)]\n",
    "\n",
    "# We are only going to look at TE values that fall within a certain region. \n",
    "df_interest=df_clean[(df_clean[\"TE_tpm\"] >= 0)&(df_clean[\"TE_tpm\"] <= 800)]"
   ]
  },
  {
   "cell_type": "code",
   "execution_count": null,
   "id": "8c463de9-43b7-4f6a-964c-2862f3f3984f",
   "metadata": {},
   "outputs": [],
   "source": [
    "# plot kernel density estimates of A and B on the same axis\n",
    "fig, ax = kde_plot(df_interest[\"TE_tpm\"],label=\"TE\")\n",
    "\n",
    "# make things look nice\n",
    "plt.xlabel(\"TE\")\n",
    "plt.ylabel(\"Probability density\")\n",
    "plt.title(\"kde_plot() demo\",y=1.1)\n",
    "plt.xlim(0,20)"
   ]
  },
  {
   "cell_type": "markdown",
   "id": "6279df5d-eb19-4c6e-88a5-c4183f60a112",
   "metadata": {},
   "source": [
    "## Translation levels vs transcription levels"
   ]
  },
  {
   "cell_type": "code",
   "execution_count": null,
   "id": "fc516b3c-f9de-427a-8cc6-dd3c0d77ace5",
   "metadata": {
    "tags": []
   },
   "outputs": [],
   "source": [
    "my_figure = plt.figure()\n",
    "plt.loglog() # log-scaling makes it easier\n",
    "\n",
    "# make a copy of dataframe for plotting\n",
    "# this is because 0-values cannot be plotted in log-space,\n",
    "# so we set them to nan so they are ignored. \n",
    "\n",
    "MIN_VAL = np.nan\n",
    "plot_df = copy.deepcopy(df)\n",
    "plot_df[\"RNA-seq_tpm\"].replace({0:MIN_VAL}, inplace=True)\n",
    "plot_df[\"ribosome_profiling_tpm\"].replace({0:MIN_VAL}, inplace=True)\n",
    "\n",
    "# now, make a scatter plot\n",
    "plt.scatter(plot_df[\"RNA-seq_tpm\"],\n",
    "            plot_df[\"ribosome_profiling_tpm\"],\n",
    "            marker=\"o\",alpha=0.5,facecolor=\"none\",edgecolor=\"#007ADF\")\n",
    "plt.xlabel(\"Transcript levels (tpm of mRNA fragments over CDS)\")\n",
    "plt.ylabel(\"Translation (tpm of footprints over CDS)\")"
   ]
  },
  {
   "cell_type": "markdown",
   "id": "23bb4ffe-d941-4c0c-9367-6f1a876736f4",
   "metadata": {},
   "source": [
    "## Translation efficiency vs transcript levels."
   ]
  },
  {
   "cell_type": "code",
   "execution_count": null,
   "id": "4dc0b46b-a024-415e-bf35-e9dfdde46b5e",
   "metadata": {},
   "outputs": [],
   "source": [
    "plt.loglog()\n",
    "plot_df = copy.deepcopy(df)\n",
    "plot_df[\"RNA-seq_rpkm\"].replace({0:MIN_VAL}, inplace=True)\n",
    "plot_df[\"ribosome_profiling_rpkm\"].replace({0:MIN_VAL}, inplace=True)\n",
    "\n",
    "# now, make a scatter plot\n",
    "plt.scatter(plot_df[\"RNA-seq_rpkm\"],\n",
    "            plot_df[\"TE_tpm\"],\n",
    "            marker=\"o\",alpha=0.2,facecolor=\"none\",edgecolor=\"#007ADF\")\n",
    "plt.xlabel(\"Transcript levels (RPKM of mRNA fragments over all exons)\")\n",
    "plt.ylabel(\"Translation efficiency\")\n",
    "plt.xlim(1,plt.xlim()[1])\n",
    "plt.ylim(plt.ylim()[0]/10.0,100)\n",
    "\n",
    "plt"
   ]
  },
  {
   "cell_type": "code",
   "execution_count": null,
   "id": "e3566e8f-c917-4933-8d80-2fabb9ea9ea1",
   "metadata": {},
   "outputs": [],
   "source": []
  }
 ],
 "metadata": {
  "kernelspec": {
   "display_name": "Python 3 (ipykernel)",
   "language": "python",
   "name": "python3"
  },
  "language_info": {
   "codemirror_mode": {
    "name": "ipython",
    "version": 3
   },
   "file_extension": ".py",
   "mimetype": "text/x-python",
   "name": "python",
   "nbconvert_exporter": "python",
   "pygments_lexer": "ipython3",
   "version": "3.8.12"
  }
 },
 "nbformat": 4,
 "nbformat_minor": 5
}
