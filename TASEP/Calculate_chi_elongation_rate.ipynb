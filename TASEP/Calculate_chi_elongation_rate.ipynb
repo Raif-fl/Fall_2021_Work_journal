{
 "cells": [
  {
   "cell_type": "markdown",
   "id": "05b1a7d4-8ede-4530-8784-598021ff19b7",
   "metadata": {
    "tags": []
   },
   "source": [
    "## Loading up packages"
   ]
  },
  {
   "cell_type": "code",
   "execution_count": 1,
   "id": "689d2f5a-dd27-446c-9ac8-fce87964847a",
   "metadata": {},
   "outputs": [],
   "source": [
    "import sys\n",
    "sys.path.append('/home/keeganfl/Desktop/Work_Fall_2021/Fall_2021_Work_journal/tools/')"
   ]
  },
  {
   "cell_type": "code",
   "execution_count": 2,
   "id": "258ba41d-98c8-490c-9e86-9b30381b6a3f",
   "metadata": {},
   "outputs": [],
   "source": [
    "# import plastid\n",
    "# data structure for mapping read alignments to genomic positions\n",
    "from plastid import BAMGenomeArray, GenomeArray, VariableFivePrimeMapFactory, \\\n",
    "                        GTF2_TranscriptAssembler, GFF3_TranscriptAssembler, \\\n",
    "                        Transcript, ThreePrimeMapFactory, CenterMapFactory\n",
    "import plastid\n",
    "from plastid.plotting.plots import *\n",
    "import numpy as np\n",
    "import os\n",
    "from Bio import SeqIO\n",
    "import numpy\n",
    "import math\n",
    "import pandas as pd\n",
    "from scipy import stats\n",
    "import keegan_analysis_tools as kat\n",
    "from statsmodels.nonparametric.smoothers_lowess import lowess\n",
    "import warnings\n",
    "import matplotlib.pyplot as plt\n",
    "%matplotlib inline\n",
    "import csv\n",
    "from scipy.sparse.linalg import lsqr"
   ]
  },
  {
   "cell_type": "code",
   "execution_count": 3,
   "id": "343f487e-3f45-484e-b2f8-902d63ac354b",
   "metadata": {},
   "outputs": [],
   "source": [
    "# Define the path to our Bam files\n",
    "data_path = \"/home/keeganfl/Desktop/Work_Fall_2021/genomes_&_samples/dmel/\"\n",
    "position_count_path = \"/home/keeganfl/Desktop/Work_Fall_2021/data_tables/position_counts/dmel/\"\n",
    "te_table_path = '/home/keeganfl/Desktop/Work_Fall_2021/data_tables/TE_tables/dmel/'\n",
    "save_path = \"/home/keeganfl/Desktop/Work_Fall_2021/data_tables/elongation_rates/dmel/\"\n",
    "gtf_name = \"Drosophila_melanogaster.BDGP6.32.103.gtf\"\n",
    "mutation = 'Fmr1'\n",
    "samp_num = '2'"
   ]
  },
  {
   "cell_type": "markdown",
   "id": "0020ce2d-6798-4126-b4a4-19b807e22235",
   "metadata": {
    "tags": []
   },
   "source": [
    "## Loading up the data files "
   ]
  },
  {
   "cell_type": "code",
   "execution_count": 4,
   "id": "2f5d7d49-3fd4-43f9-af60-b5606a01146b",
   "metadata": {
    "tags": []
   },
   "outputs": [],
   "source": [
    "# load the transcript annotations from the GTF file.\n",
    "# GTF2_TranscriptAssembler returns an iterator, so here we convert it to a list.\n",
    "transcripts = list(GTF2_TranscriptAssembler(open(data_path + gtf_name),return_type=Transcript))"
   ]
  },
  {
   "cell_type": "code",
   "execution_count": 5,
   "id": "b993adda-5136-4a43-b862-0b279a75da54",
   "metadata": {},
   "outputs": [],
   "source": [
    "# Remove non-protein coding transcripts from transcripts list. \n",
    "protein_coding = []\n",
    "for transcript in transcripts:\n",
    "    if transcript.attr['gene_biotype'] == 'protein_coding':\n",
    "        protein_coding.append(transcript)"
   ]
  },
  {
   "cell_type": "code",
   "execution_count": 6,
   "id": "bd341c37-774d-4d65-bccb-602680821fcd",
   "metadata": {},
   "outputs": [],
   "source": [
    "# clear up some memory by deleting original transcript list\n",
    "transcripts.clear()"
   ]
  },
  {
   "cell_type": "markdown",
   "id": "3964f9cb-c183-4a98-ab01-37334ceeade8",
   "metadata": {
    "tags": []
   },
   "source": [
    "# Loading up the position counts file."
   ]
  },
  {
   "cell_type": "code",
   "execution_count": 7,
   "id": "eae6bf14-18c0-4bfc-b790-44f30d26c9c0",
   "metadata": {},
   "outputs": [],
   "source": [
    "data = kat.load_count_positions(mutation + \"_RPF_\" + samp_num + \"_counts.csv\",position_count_path)"
   ]
  },
  {
   "cell_type": "markdown",
   "id": "b54f0e8e-c274-4c6d-967b-2083264d58fb",
   "metadata": {},
   "source": [
    "## Loading up the TE table"
   ]
  },
  {
   "cell_type": "code",
   "execution_count": 8,
   "id": "54d27bc3-97f8-4f3c-95c2-c6d6b7f3ef13",
   "metadata": {},
   "outputs": [],
   "source": [
    "te_table = pd.read_csv(te_table_path + mutation + \"_\" + samp_num + \"_te_tablefc.csv\")"
   ]
  },
  {
   "cell_type": "markdown",
   "id": "95aa3b97-85d4-41a0-b929-b1662f6570b8",
   "metadata": {},
   "source": [
    "## Getting the codon sequence:\n",
    "\n",
    "If get.sequence returns the entire sequence, then it should be fairly simple to just index it with the numbers returned by get_cds stop and end so that I only have to look at the coding regions... Now how am I going to read through this such that each codon gets its own little name? "
   ]
  },
  {
   "cell_type": "markdown",
   "id": "53362441-bc40-4e3d-b09a-e6044c9c48f7",
   "metadata": {},
   "source": [
    "Perhaps I should consider trying to run biopython in such a way that I do not have to save it into it's own dictionary like this."
   ]
  },
  {
   "cell_type": "code",
   "execution_count": 9,
   "id": "f2b35044-5170-43e0-998b-235c6f21640f",
   "metadata": {},
   "outputs": [],
   "source": [
    "genome = SeqIO.to_dict(SeqIO.parse(\n",
    "    open(data_path + \"Drosophila_melanogaster.BDGP6.32.cds.all.fa\"),\"fasta\"))\n",
    "# Using this cds file leads to everything being in "
   ]
  },
  {
   "cell_type": "code",
   "execution_count": 10,
   "id": "18044aa0-05d1-4ee0-9b98-d870a1fcbe4d",
   "metadata": {},
   "outputs": [],
   "source": [
    "cds_sequence=[]\n",
    "\n",
    "for transcript in protein_coding:\n",
    "    t_id = transcript.attr[\"transcript_id\"]\n",
    "    cds_sequence.append(str(genome[t_id].seq))"
   ]
  },
  {
   "cell_type": "code",
   "execution_count": 11,
   "id": "cf940f97-e9e2-4595-b9b8-74a0f53d7dd5",
   "metadata": {},
   "outputs": [],
   "source": [
    "cd_dict = {'TTT':0,'TTC':1,'TTG':2,'TTA':3,\n",
    "          'TCT':4,'TCC':5,'TCG':6,'TCA':7,\n",
    "          'TGT':8,'TGC':9,'TGG':10,'TGA':11,\n",
    "          'TAT':12,'TAC':13,'TAG':14,'TAA':15,\n",
    "          'CTT':16,'CTC':17,'CTG':18,'CTA':19,\n",
    "          'CCT':20,'CCC':21,'CCG':22,'CCA':23,\n",
    "          'CGT':24,'CGC':25,'CGG':26,'CGA':27,\n",
    "          'CAT':28,'CAC':29,'CAG':30,'CAA':31,\n",
    "          'GTT':32,'GTC':33,'GTG':34,'GTA':35,\n",
    "          'GCT':36,'GCC':37,'GCG':38,'GCA':39,\n",
    "          'GGT':40,'GGC':41,'GGG':42,'GGA':43,\n",
    "          'GAT':44,'GAC':45,'GAG':46,'GAA':47,\n",
    "          'ATT':48,'ATC':49,'ATG':50,'ATA':51,\n",
    "          'ACT':52,'ACC':53,'ACG':54,'ACA':55,\n",
    "          'AGT':56,'AGC':57,'AGG':58,'AGA':59,\n",
    "          'AAT':60,'AAC':61,'AAG':62,'AAA':63}"
   ]
  },
  {
   "cell_type": "code",
   "execution_count": 12,
   "id": "2e012ccd-2a6d-4c78-9d2f-ebb128ba4f18",
   "metadata": {
    "tags": []
   },
   "outputs": [],
   "source": [
    "codon_seq_list = []\n",
    "\n",
    "for seq in cds_sequence:\n",
    "    codon_seq = []\n",
    "    for i in range(0, len(seq), 3):\n",
    "        try:\n",
    "            codon_seq.append(cd_dict[seq[i:i+3]])\n",
    "        except:\n",
    "            pass\n",
    "    codon_seq_list.append(codon_seq)"
   ]
  },
  {
   "cell_type": "markdown",
   "id": "428d4432-cf02-4462-a438-21089aead347",
   "metadata": {},
   "source": [
    "ok... I think i need to use the except pass thing because some of the coding sequences is not quite a multiple of three. I need to change that try, except, pass so that it gives me information on the gene in questions whenever it comes up. "
   ]
  },
  {
   "cell_type": "markdown",
   "id": "e5feaf8e-eb9f-4c1b-9e73-e310e35330ad",
   "metadata": {
    "tags": []
   },
   "source": [
    "## Calculating Elongation rates"
   ]
  },
  {
   "cell_type": "code",
   "execution_count": 13,
   "id": "bfa8a779-26ce-438f-bba8-9b61b4ea4dbb",
   "metadata": {},
   "outputs": [
    {
     "name": "stdout",
     "output_type": "stream",
     "text": [
      "transcript_ID\n",
      "gene_ID\n",
      "gene_name\n",
      "TE_tpm\n",
      "TE_rpkm\n",
      "ribosome_profiling_tpm\n",
      "RNA-seq_tpm\n",
      "ribosome_profiling_counts\n",
      "RNA-seq_counts\n",
      "ribosome_profiling_rpkm\n",
      "RNA-seq_rpkm\n",
      "ribosome_profiling_rpk\n",
      "RNA-seq_rpk\n",
      "ribosome_profiling_lengths\n",
      "RNA-seq_lengths\n"
     ]
    }
   ],
   "source": [
    "for j in te_table:\n",
    "    print(j)"
   ]
  },
  {
   "cell_type": "code",
   "execution_count": 14,
   "id": "63bff879-6f0b-4662-97cd-db73c1737acf",
   "metadata": {},
   "outputs": [
    {
     "name": "stdout",
     "output_type": "stream",
     "text": [
      "ok\n"
     ]
    }
   ],
   "source": [
    "if math.isnan(te_table.TE_tpm[1]) == True or te_table.TE_tpm[1] == 0.0:\n",
    "    print(\"ok\")"
   ]
  },
  {
   "cell_type": "code",
   "execution_count": 15,
   "id": "79727356-991f-4c6a-8c24-a7d4236f7ac7",
   "metadata": {},
   "outputs": [],
   "source": [
    "# Create a function to obtain a normalized profile (p) of ribosome footprints.\n",
    "def calculate_p(data):\n",
    "    p_list=[]\n",
    "    for i in data:\n",
    "        i = i+1\n",
    "        M = sum(i)\n",
    "        p = i/M\n",
    "        p_list.append(p)\n",
    "    return(p_list)\n",
    "\n",
    "def calculate_p_chi(data_counts, data_te, chi = 0.00289):\n",
    "    p_list = []\n",
    "    for i, j in zip(data_counts, te_table.TE_rpkm):\n",
    "        pi = j*chi\n",
    "        i = i+1\n",
    "        M = sum(i)\n",
    "        p = (i/M)*float(pi)*(len(i)-1)\n",
    "        p_list.append(p)\n",
    "    return(p_list)"
   ]
  },
  {
   "cell_type": "code",
   "execution_count": 16,
   "id": "78452e6e-f5c3-4eb1-a6cb-f26b875201af",
   "metadata": {},
   "outputs": [],
   "source": [
    "p_list = calculate_p_chi(data, te_table, 0.00289)"
   ]
  },
  {
   "cell_type": "code",
   "execution_count": 17,
   "id": "38b27296-df85-4da6-bf38-e8a40018fe16",
   "metadata": {},
   "outputs": [],
   "source": [
    "pbar_list = kat.calculate_pbar(p_list)"
   ]
  },
  {
   "cell_type": "code",
   "execution_count": 18,
   "id": "fc95a2f7-4827-4582-bc9c-95c369617278",
   "metadata": {},
   "outputs": [
    {
     "name": "stderr",
     "output_type": "stream",
     "text": [
      "---------------------------------------------------------------------------\n",
      "RuntimeWarning\n",
      "invalid value encountered in double_scalars\n",
      "in /home/keeganfl/Desktop/Work_Fall_2021/Fall_2021_Work_journal/tools/keegan_analysis_tools.py, line 404:\n",
      "\n",
      "402 def calculate_lbar(pbar_list):\n",
      "403     lbar_list=[]\n",
      "404     for pbar in pbar_list:\n",
      "405         lbar = []\n",
      "406         for pbarx in pbar:\n",
      "\n",
      "---------------------------------------------------------------------------\n"
     ]
    }
   ],
   "source": [
    "lbar_list = kat.calculate_lbar(pbar_list)"
   ]
  },
  {
   "cell_type": "code",
   "execution_count": 19,
   "id": "0366b377-53a3-406f-b7e9-becc899d27ff",
   "metadata": {},
   "outputs": [],
   "source": [
    "# calculate the scaled initiation and termination rates\n",
    "\n",
    "init_r= []\n",
    "for pbar in pbar_list:\n",
    "    if pbar[0] == 0:\n",
    "        init_r.append(1/(1-10*0.00001))\n",
    "    else:\n",
    "        init_r.append(1/(1-10*pbar[0]))\n",
    "\n",
    "term_r = []\n",
    "for p in p_list:\n",
    "    if p[-1] ==0:\n",
    "        term_r.append(1/0.00001)\n",
    "    else:\n",
    "        term_r.append(1/(p[-1]))\n"
   ]
  },
  {
   "cell_type": "code",
   "execution_count": null,
   "id": "16bbd147-6cca-4c5a-8778-f3138d8064e7",
   "metadata": {},
   "outputs": [],
   "source": [
    "# Why on earth does this use up all 32 of my processors? It should only be using 1!"
   ]
  },
  {
   "cell_type": "code",
   "execution_count": 20,
   "id": "5193c623-c7e6-4a45-b00d-3fe6f6ed3290",
   "metadata": {
    "collapsed": true,
    "jupyter": {
     "outputs_hidden": true
    },
    "tags": []
   },
   "outputs": [
    {
     "ename": "KeyboardInterrupt",
     "evalue": "",
     "output_type": "error",
     "traceback": [
      "\u001b[0;31m---------------------------------------------------------------------------\u001b[0m",
      "\u001b[0;31mKeyboardInterrupt\u001b[0m                         Traceback (most recent call last)",
      "\u001b[0;32m/tmp/ipykernel_560770/1900507471.py\u001b[0m in \u001b[0;36m<module>\u001b[0;34m\u001b[0m\n\u001b[0;32m----> 1\u001b[0;31m \u001b[0mtau_list\u001b[0m \u001b[0;34m=\u001b[0m \u001b[0mkat\u001b[0m\u001b[0;34m.\u001b[0m\u001b[0mcalculate_tau\u001b[0m\u001b[0;34m(\u001b[0m\u001b[0mlbar_list\u001b[0m\u001b[0;34m,\u001b[0m \u001b[0mcodon_seq_list\u001b[0m\u001b[0;34m)\u001b[0m\u001b[0;34m\u001b[0m\u001b[0;34m\u001b[0m\u001b[0m\n\u001b[0m",
      "\u001b[0;32m~/Desktop/Work_Fall_2021/Fall_2021_Work_journal/tools/keegan_analysis_tools.py\u001b[0m in \u001b[0;36mcalculate_tau\u001b[0;34m(lbar_list, codon_seq_list)\u001b[0m\n\u001b[1;32m    416\u001b[0m     \u001b[0mtau_list\u001b[0m \u001b[0;34m=\u001b[0m \u001b[0;34m[\u001b[0m\u001b[0;34m]\u001b[0m\u001b[0;34m\u001b[0m\u001b[0;34m\u001b[0m\u001b[0m\n\u001b[1;32m    417\u001b[0m     \u001b[0;32mfor\u001b[0m \u001b[0mlbar\u001b[0m\u001b[0;34m,\u001b[0m \u001b[0mindex\u001b[0m \u001b[0;32min\u001b[0m \u001b[0mzip\u001b[0m\u001b[0;34m(\u001b[0m\u001b[0mlbar_list\u001b[0m\u001b[0;34m,\u001b[0m \u001b[0mlist\u001b[0m\u001b[0;34m(\u001b[0m\u001b[0mrange\u001b[0m\u001b[0;34m(\u001b[0m\u001b[0mlen\u001b[0m\u001b[0;34m(\u001b[0m\u001b[0mlbar_list\u001b[0m\u001b[0;34m)\u001b[0m\u001b[0;34m)\u001b[0m\u001b[0;34m)\u001b[0m\u001b[0;34m)\u001b[0m\u001b[0;34m:\u001b[0m\u001b[0;34m\u001b[0m\u001b[0;34m\u001b[0m\u001b[0m\n\u001b[0;32m--> 418\u001b[0;31m         \u001b[0mA\u001b[0m \u001b[0;34m=\u001b[0m \u001b[0mnp\u001b[0m\u001b[0;34m.\u001b[0m\u001b[0mzeros\u001b[0m\u001b[0;34m(\u001b[0m\u001b[0;34m(\u001b[0m\u001b[0mlen\u001b[0m\u001b[0;34m(\u001b[0m\u001b[0mlbar\u001b[0m\u001b[0;34m)\u001b[0m\u001b[0;34m,\u001b[0m\u001b[0;36m64\u001b[0m\u001b[0;34m)\u001b[0m\u001b[0;34m)\u001b[0m\u001b[0;34m\u001b[0m\u001b[0;34m\u001b[0m\u001b[0m\n\u001b[0m\u001b[1;32m    419\u001b[0m         \u001b[0;32mfor\u001b[0m \u001b[0mrow\u001b[0m\u001b[0;34m,\u001b[0m \u001b[0mi\u001b[0m \u001b[0;32min\u001b[0m \u001b[0mzip\u001b[0m\u001b[0;34m(\u001b[0m\u001b[0mA\u001b[0m\u001b[0;34m,\u001b[0m \u001b[0mrange\u001b[0m\u001b[0;34m(\u001b[0m\u001b[0mlen\u001b[0m\u001b[0;34m(\u001b[0m\u001b[0mA\u001b[0m\u001b[0;34m)\u001b[0m\u001b[0;34m)\u001b[0m\u001b[0;34m)\u001b[0m\u001b[0;34m:\u001b[0m\u001b[0;34m\u001b[0m\u001b[0;34m\u001b[0m\u001b[0m\n\u001b[1;32m    420\u001b[0m             \u001b[0mset_of_10\u001b[0m \u001b[0;34m=\u001b[0m \u001b[0mcodon_seq_list\u001b[0m\u001b[0;34m[\u001b[0m\u001b[0mindex\u001b[0m\u001b[0;34m]\u001b[0m\u001b[0;34m[\u001b[0m\u001b[0mi\u001b[0m\u001b[0;34m:\u001b[0m\u001b[0mi\u001b[0m\u001b[0;34m+\u001b[0m\u001b[0;36m10\u001b[0m\u001b[0;34m]\u001b[0m \u001b[0;31m# what do I do with the index?\u001b[0m\u001b[0;34m\u001b[0m\u001b[0;34m\u001b[0m\u001b[0m\n",
      "\u001b[0;32m~/miniconda3/envs/plastid/lib/python3.8/site-packages/scipy/sparse/linalg/isolve/lsqr.py\u001b[0m in \u001b[0;36mlsqr\u001b[0;34m(A, b, damp, atol, btol, conlim, iter_lim, show, calc_var, x0)\u001b[0m\n\u001b[1;32m    411\u001b[0m         \u001b[0;31m#     beta*u  =  a*v   -  alfa*u,\u001b[0m\u001b[0;34m\u001b[0m\u001b[0;34m\u001b[0m\u001b[0;34m\u001b[0m\u001b[0m\n\u001b[1;32m    412\u001b[0m         \u001b[0;31m#     alfa*v  =  A'*u  -  beta*v.\u001b[0m\u001b[0;34m\u001b[0m\u001b[0;34m\u001b[0m\u001b[0;34m\u001b[0m\u001b[0m\n\u001b[0;32m--> 413\u001b[0;31m         \u001b[0mu\u001b[0m \u001b[0;34m=\u001b[0m \u001b[0mA\u001b[0m\u001b[0;34m.\u001b[0m\u001b[0mmatvec\u001b[0m\u001b[0;34m(\u001b[0m\u001b[0mv\u001b[0m\u001b[0;34m)\u001b[0m \u001b[0;34m-\u001b[0m \u001b[0malfa\u001b[0m \u001b[0;34m*\u001b[0m \u001b[0mu\u001b[0m\u001b[0;34m\u001b[0m\u001b[0;34m\u001b[0m\u001b[0m\n\u001b[0m\u001b[1;32m    414\u001b[0m         \u001b[0mbeta\u001b[0m \u001b[0;34m=\u001b[0m \u001b[0mnp\u001b[0m\u001b[0;34m.\u001b[0m\u001b[0mlinalg\u001b[0m\u001b[0;34m.\u001b[0m\u001b[0mnorm\u001b[0m\u001b[0;34m(\u001b[0m\u001b[0mu\u001b[0m\u001b[0;34m)\u001b[0m\u001b[0;34m\u001b[0m\u001b[0;34m\u001b[0m\u001b[0m\n\u001b[1;32m    415\u001b[0m \u001b[0;34m\u001b[0m\u001b[0m\n",
      "\u001b[0;32m~/miniconda3/envs/plastid/lib/python3.8/site-packages/scipy/sparse/linalg/interface.py\u001b[0m in \u001b[0;36mmatvec\u001b[0;34m(self, x)\u001b[0m\n\u001b[1;32m    230\u001b[0m             \u001b[0;32mraise\u001b[0m \u001b[0mValueError\u001b[0m\u001b[0;34m(\u001b[0m\u001b[0;34m'dimension mismatch'\u001b[0m\u001b[0;34m)\u001b[0m\u001b[0;34m\u001b[0m\u001b[0;34m\u001b[0m\u001b[0m\n\u001b[1;32m    231\u001b[0m \u001b[0;34m\u001b[0m\u001b[0m\n\u001b[0;32m--> 232\u001b[0;31m         \u001b[0my\u001b[0m \u001b[0;34m=\u001b[0m \u001b[0mself\u001b[0m\u001b[0;34m.\u001b[0m\u001b[0m_matvec\u001b[0m\u001b[0;34m(\u001b[0m\u001b[0mx\u001b[0m\u001b[0;34m)\u001b[0m\u001b[0;34m\u001b[0m\u001b[0;34m\u001b[0m\u001b[0m\n\u001b[0m\u001b[1;32m    233\u001b[0m \u001b[0;34m\u001b[0m\u001b[0m\n\u001b[1;32m    234\u001b[0m         \u001b[0;32mif\u001b[0m \u001b[0misinstance\u001b[0m\u001b[0;34m(\u001b[0m\u001b[0mx\u001b[0m\u001b[0;34m,\u001b[0m \u001b[0mnp\u001b[0m\u001b[0;34m.\u001b[0m\u001b[0mmatrix\u001b[0m\u001b[0;34m)\u001b[0m\u001b[0;34m:\u001b[0m\u001b[0;34m\u001b[0m\u001b[0;34m\u001b[0m\u001b[0m\n",
      "\u001b[0;32m~/miniconda3/envs/plastid/lib/python3.8/site-packages/scipy/sparse/linalg/interface.py\u001b[0m in \u001b[0;36m_matvec\u001b[0;34m(self, x)\u001b[0m\n\u001b[1;32m    197\u001b[0m         \u001b[0mwill\u001b[0m \u001b[0mdefine\u001b[0m \u001b[0mmatrix\u001b[0m\u001b[0;34m-\u001b[0m\u001b[0mvector\u001b[0m \u001b[0mmultiplication\u001b[0m \u001b[0;32mas\u001b[0m \u001b[0mwell\u001b[0m\u001b[0;34m.\u001b[0m\u001b[0;34m\u001b[0m\u001b[0;34m\u001b[0m\u001b[0m\n\u001b[1;32m    198\u001b[0m         \"\"\"\n\u001b[0;32m--> 199\u001b[0;31m         \u001b[0;32mreturn\u001b[0m \u001b[0mself\u001b[0m\u001b[0;34m.\u001b[0m\u001b[0mmatmat\u001b[0m\u001b[0;34m(\u001b[0m\u001b[0mx\u001b[0m\u001b[0;34m.\u001b[0m\u001b[0mreshape\u001b[0m\u001b[0;34m(\u001b[0m\u001b[0;34m-\u001b[0m\u001b[0;36m1\u001b[0m\u001b[0;34m,\u001b[0m \u001b[0;36m1\u001b[0m\u001b[0;34m)\u001b[0m\u001b[0;34m)\u001b[0m\u001b[0;34m\u001b[0m\u001b[0;34m\u001b[0m\u001b[0m\n\u001b[0m\u001b[1;32m    200\u001b[0m \u001b[0;34m\u001b[0m\u001b[0m\n\u001b[1;32m    201\u001b[0m     \u001b[0;32mdef\u001b[0m \u001b[0mmatvec\u001b[0m\u001b[0;34m(\u001b[0m\u001b[0mself\u001b[0m\u001b[0;34m,\u001b[0m \u001b[0mx\u001b[0m\u001b[0;34m)\u001b[0m\u001b[0;34m:\u001b[0m\u001b[0;34m\u001b[0m\u001b[0;34m\u001b[0m\u001b[0m\n",
      "\u001b[0;32m~/miniconda3/envs/plastid/lib/python3.8/site-packages/scipy/sparse/linalg/interface.py\u001b[0m in \u001b[0;36mmatmat\u001b[0;34m(self, X)\u001b[0m\n\u001b[1;32m    335\u001b[0m                              % (self.shape, X.shape))\n\u001b[1;32m    336\u001b[0m \u001b[0;34m\u001b[0m\u001b[0m\n\u001b[0;32m--> 337\u001b[0;31m         \u001b[0mY\u001b[0m \u001b[0;34m=\u001b[0m \u001b[0mself\u001b[0m\u001b[0;34m.\u001b[0m\u001b[0m_matmat\u001b[0m\u001b[0;34m(\u001b[0m\u001b[0mX\u001b[0m\u001b[0;34m)\u001b[0m\u001b[0;34m\u001b[0m\u001b[0;34m\u001b[0m\u001b[0m\n\u001b[0m\u001b[1;32m    338\u001b[0m \u001b[0;34m\u001b[0m\u001b[0m\n\u001b[1;32m    339\u001b[0m         \u001b[0;32mif\u001b[0m \u001b[0misinstance\u001b[0m\u001b[0;34m(\u001b[0m\u001b[0mY\u001b[0m\u001b[0;34m,\u001b[0m \u001b[0mnp\u001b[0m\u001b[0;34m.\u001b[0m\u001b[0mmatrix\u001b[0m\u001b[0;34m)\u001b[0m\u001b[0;34m:\u001b[0m\u001b[0;34m\u001b[0m\u001b[0;34m\u001b[0m\u001b[0m\n",
      "\u001b[0;32m~/miniconda3/envs/plastid/lib/python3.8/site-packages/scipy/sparse/linalg/interface.py\u001b[0m in \u001b[0;36m_matmat\u001b[0;34m(self, X)\u001b[0m\n\u001b[1;32m    729\u001b[0m \u001b[0;34m\u001b[0m\u001b[0m\n\u001b[1;32m    730\u001b[0m     \u001b[0;32mdef\u001b[0m \u001b[0m_matmat\u001b[0m\u001b[0;34m(\u001b[0m\u001b[0mself\u001b[0m\u001b[0;34m,\u001b[0m \u001b[0mX\u001b[0m\u001b[0;34m)\u001b[0m\u001b[0;34m:\u001b[0m\u001b[0;34m\u001b[0m\u001b[0;34m\u001b[0m\u001b[0m\n\u001b[0;32m--> 731\u001b[0;31m         \u001b[0;32mreturn\u001b[0m \u001b[0mself\u001b[0m\u001b[0;34m.\u001b[0m\u001b[0mA\u001b[0m\u001b[0;34m.\u001b[0m\u001b[0mdot\u001b[0m\u001b[0;34m(\u001b[0m\u001b[0mX\u001b[0m\u001b[0;34m)\u001b[0m\u001b[0;34m\u001b[0m\u001b[0;34m\u001b[0m\u001b[0m\n\u001b[0m\u001b[1;32m    732\u001b[0m \u001b[0;34m\u001b[0m\u001b[0m\n\u001b[1;32m    733\u001b[0m     \u001b[0;32mdef\u001b[0m \u001b[0m_adjoint\u001b[0m\u001b[0;34m(\u001b[0m\u001b[0mself\u001b[0m\u001b[0;34m)\u001b[0m\u001b[0;34m:\u001b[0m\u001b[0;34m\u001b[0m\u001b[0;34m\u001b[0m\u001b[0m\n",
      "\u001b[0;31mKeyboardInterrupt\u001b[0m: "
     ]
    }
   ],
   "source": [
    "tau_list = kat.calculate_tau(lbar_list, codon_seq_list)"
   ]
  },
  {
   "cell_type": "code",
   "execution_count": null,
   "id": "ac4f3731-c60e-4207-a054-66156b1e75fe",
   "metadata": {},
   "outputs": [],
   "source": [
    "elongation_list = np.array(lbar_list, dtype=object)/np.array(tau_list, dtype=object)"
   ]
  },
  {
   "cell_type": "code",
   "execution_count": null,
   "id": "902970b7-70a3-463c-aa51-a57c0b6ee82a",
   "metadata": {},
   "outputs": [],
   "source": [
    "elongation_list = elongation_list.tolist()"
   ]
  },
  {
   "cell_type": "code",
   "execution_count": null,
   "id": "822296cf-dd98-41f9-a759-543e24a0bb4e",
   "metadata": {},
   "outputs": [],
   "source": [
    "for elon, i in zip(elongation_list, list(range(len(elongation_list)))):\n",
    "    elongation_list[i] = elon.tolist()"
   ]
  },
  {
   "cell_type": "markdown",
   "id": "a5258c0d-9fcf-4ff4-af49-53ec9479c964",
   "metadata": {
    "tags": []
   },
   "source": [
    "## Save as a csv"
   ]
  },
  {
   "cell_type": "code",
   "execution_count": null,
   "id": "73f903df-4565-405c-a389-67b66d685fe8",
   "metadata": {},
   "outputs": [],
   "source": [
    "# Create a list that contains all of the gene_ids and transcript_ids of the transcripts\n",
    "gene_id = []\n",
    "transcript_id = []\n",
    "\n",
    "for transcript in protein_coding:\n",
    "    gene_id.append(transcript.attr[\"gene_name\"])\n",
    "    transcript_id.append(transcript.attr[\"transcript_id\"])"
   ]
  },
  {
   "cell_type": "code",
   "execution_count": null,
   "id": "af714a79-3c54-4b56-b49b-c1ed6e4baa35",
   "metadata": {},
   "outputs": [],
   "source": [
    "# Insert the gene ids and transcript ids into the codon_count list. \n",
    "for i,j in zip(elongation_list, range(len(gene_id))):\n",
    "    i.insert(0,gene_id[j])\n",
    "    i.insert(0,transcript_id[j])"
   ]
  },
  {
   "cell_type": "code",
   "execution_count": null,
   "id": "f8b87d5a-5439-4e67-8d49-97167b209694",
   "metadata": {
    "tags": []
   },
   "outputs": [],
   "source": [
    "# Calculate the longest cds region in our new list of counts\n",
    "l_tr = kat.find_max_list(elongation_list)\n",
    "\n",
    "# Define a header that includes labels for the transcript and gene ID as \n",
    "# well as numbers that index the cds region position.\n",
    "header=[\"transcript_id\",\"gene_id\"]+list(range(l_tr))\n",
    "\n",
    "# insert that header into our counts list. \n",
    "elongation_list.insert(0,header)"
   ]
  },
  {
   "cell_type": "code",
   "execution_count": null,
   "id": "2634eac9-4ab0-44b2-9fad-9793849599d2",
   "metadata": {},
   "outputs": [],
   "source": [
    "with open(save_path + mutation + '_' + samp_num + 'adjusted_elongation_rates', 'w', newline='') as f:\n",
    "    writer = csv.writer(f)\n",
    "    writer.writerows(elongation_list)"
   ]
  },
  {
   "cell_type": "code",
   "execution_count": null,
   "id": "e37683d7-592e-4b5e-aed2-4253b9bfb1f5",
   "metadata": {},
   "outputs": [],
   "source": []
  }
 ],
 "metadata": {
  "kernelspec": {
   "display_name": "Python 3 (ipykernel)",
   "language": "python",
   "name": "python3"
  },
  "language_info": {
   "codemirror_mode": {
    "name": "ipython",
    "version": 3
   },
   "file_extension": ".py",
   "mimetype": "text/x-python",
   "name": "python",
   "nbconvert_exporter": "python",
   "pygments_lexer": "ipython3",
   "version": "3.8.12"
  }
 },
 "nbformat": 4,
 "nbformat_minor": 5
}
