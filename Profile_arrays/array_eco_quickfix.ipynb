{
 "cells": [
  {
   "cell_type": "markdown",
   "id": "12dbf983-0403-4298-97f6-8d9fef7130ac",
   "metadata": {},
   "source": [
    "# Count Arrays for Woolstenhulme E.coli data\n",
    "\n",
    "This notebook contains a variety of code that allows me to create arrays of counts at each transcript position (nucleotide precision). \n",
    "\n",
    "Note that depending on the number of samples you are using, this notebook may use up a large amount of RAM (about 2-4 GB per sample). "
   ]
  },
  {
   "cell_type": "markdown",
   "id": "9e0c3c45-529f-44f5-b0b8-790f72cc2825",
   "metadata": {},
   "source": [
    "## loading packages"
   ]
  },
  {
   "cell_type": "code",
   "execution_count": 34,
   "id": "a9f02b70-b5ad-4a47-9828-916917be399c",
   "metadata": {},
   "outputs": [],
   "source": [
    "# Let the program know where to find your tools file.\n",
    "import sys\n",
    "sys.path.append('/home/keeganfl/Desktop/Work_Fall_2021/Fall_2021_Work_journal/tools/')"
   ]
  },
  {
   "cell_type": "code",
   "execution_count": 35,
   "id": "d20ce0ba-659f-4587-bf67-3847f889310f",
   "metadata": {},
   "outputs": [],
   "source": [
    "# import plastid\n",
    "# data structure for mapping read alignments to genomic positions\n",
    "from plastid import BAMGenomeArray, VariableFivePrimeMapFactory, \\\n",
    "                        GTF2_TranscriptAssembler, GFF3_TranscriptAssembler, \\\n",
    "                        Transcript, ThreePrimeMapFactory\n",
    "import numpy as np\n",
    "import os\n",
    "from Bio import SeqIO\n",
    "import numpy\n",
    "import math\n",
    "import pandas as pd\n",
    "from plastid.plotting.plots import *\n",
    "from scipy import stats\n",
    "from scipy.stats import kstwo\n",
    "import keegan_analysis_tools as kat\n",
    "from statsmodels.nonparametric.smoothers_lowess import lowess\n",
    "import warnings\n",
    "import matplotlib.pyplot as plt\n",
    "from matplotlib.pyplot import figure\n",
    "%matplotlib inline\n",
    "import csv\n",
    "from scipy.sparse.linalg import lsqr\n",
    "from tqdm import tqdm\n",
    "from multiprocess import Pool\n",
    "import copy\n",
    "import seaborn as sns"
   ]
  },
  {
   "cell_type": "code",
   "execution_count": 197,
   "id": "8de37de6-d737-4af2-af06-1fdf6e2f8545",
   "metadata": {},
   "outputs": [],
   "source": [
    "# Define the path to our Bam files\n",
    "data_path = '/home/keeganfl/Desktop/Work_Fall_2021/genomes_&_samples/ecol/'\n",
    "save_path = \"/home/keeganfl/Desktop/Work_Fall_2021/data_tables/position_counts_codon_resolution/ecol/\"\n",
    "csv_path = '/home/keeganfl/Desktop/Work_Fall_2021/data_tables/position_counts_bp_resolution/ecol/'\n",
    "p_site_path = '/home/keeganfl/Desktop/Work_Fall_2021/data_tables/p-site_offsets/ecol/'\n",
    "mutation = 'control'\n",
    "samp_num = '5'"
   ]
  },
  {
   "cell_type": "code",
   "execution_count": 3,
   "id": "d21a096c-e5fa-47af-8858-cb53ab081e5a",
   "metadata": {},
   "outputs": [],
   "source": [
    "def variable_threeprime_map_function(alignments,segment,p_offsets):\n",
    "        '''\n",
    "        This function is used to map read alignments to the location of the ribosomal p-site \n",
    "        from their 3' end. The offsets to use for each read length are specified by file\n",
    "        generated using RiboWaltz.\n",
    "\n",
    "        alignments:\n",
    "            Information on the genome alignment of an individual read which is passed \n",
    "            to the function from a BamGenome array created by plastid. \n",
    "\n",
    "        segment:\n",
    "            Information on the individual read segment which is passed \n",
    "            to the function from a BamGenome array created by plastid. \n",
    "\n",
    "        p_offsets:\n",
    "            A pandas dataframe that has been loaded into the python environmemt.\n",
    "            This dataframe should follow this template. \n",
    "                length          P_offsets\n",
    "                 28              12\n",
    "                 29              12\n",
    "                 30              13\n",
    "                ...             ...\n",
    "\n",
    "        '''\n",
    "        reads_out = []\n",
    "        count_array = numpy.zeros(len(segment))\n",
    "        for read in alignments: \n",
    "            for length, offset in zip(p_offsets[\"length\"],p_offsets[\"p_offset\"]): \n",
    "                if length != len(read.positions):\n",
    "                    continue # skip read if it is not the length we are currently offsetting.\n",
    "\n",
    "             # count offset 3' to 5' if the `segment` is on the plus-strand\n",
    "             # or is unstranded\n",
    "                if segment.strand == \"+\":\n",
    "                    p_site = read.positions[-offset - 1]\n",
    "                elif segment.strand == \".\":\n",
    "                    p_site = read.positions[-offset - 1]\n",
    "             # count offset from other end if `segment` is on the minus-strand\n",
    "                elif segment.strand == \"-\":\n",
    "                    p_site = read.positions[offset]\n",
    "\n",
    "                if p_site >= segment.start and p_site < segment.end:\n",
    "                    reads_out.append(read)\n",
    "                    count_array[p_site - segment.start] += 1\n",
    "        return reads_out, count_array"
   ]
  },
  {
   "cell_type": "code",
   "execution_count": 4,
   "id": "7e81dc03-6a6e-4238-b14d-4169d1740a37",
   "metadata": {},
   "outputs": [],
   "source": [
    "def VariableThreePrimeMapFactory(p_offsets):\n",
    "    '''\n",
    "    BamGenome array objects will only be able to pass the alignments and segment\n",
    "    arguments to the variable_threeprime_map_function. This wrapper allows me to\n",
    "    also specify the offset that needs to be passed to the function. \n",
    "    '''\n",
    "    def new_func(alignments,segment):\n",
    "        return variable_threeprime_map_function(alignments,segment,p_offsets=p_offsets)\n",
    "\n",
    "    return new_func"
   ]
  },
  {
   "cell_type": "code",
   "execution_count": 5,
   "id": "759a57b3-3a15-4956-a62c-1996c72e1d00",
   "metadata": {},
   "outputs": [],
   "source": [
    "# Create a function that finds the proteins I need. \n",
    "def find_transcript(gene,transcripts, count_vectors):\n",
    "    '''\n",
    "    A function that takes the name of a gene as input and finds \n",
    "    the corresponding transcript from a transcript list. \n",
    "    \n",
    "    returns both the transcript in question and the vector of counts for that transcript.\n",
    "    \n",
    "    This function is still a work in progress as for now it simply gives the last \n",
    "    transcript in the list that matches the gene ID. \n",
    "    '''\n",
    "    for i in transcripts:\n",
    "        if i.attr['transcript_biotype'] == 'protein_coding':\n",
    "            if i.attr['gene_name'] == gene:\n",
    "                my_transcript = i\n",
    "                my_vector = count_vectors[transcripts.index(i)]\n",
    "                index = transcripts.index(i)\n",
    "                \n",
    "    return my_transcript, my_vector, index"
   ]
  },
  {
   "cell_type": "code",
   "execution_count": 6,
   "id": "1234976c-60b5-4bc3-8df1-e8f62ee16d4c",
   "metadata": {},
   "outputs": [],
   "source": [
    "def find_max_list(list):\n",
    "    ''' \n",
    "    A function that finds the longest list/array in a list of lists. \n",
    "    '''\n",
    "    list_len = [len(i) for i in list]\n",
    "    return(max(list_len))"
   ]
  },
  {
   "cell_type": "markdown",
   "id": "0d83bd9b-3686-4901-92e1-8895346a8b32",
   "metadata": {
    "tags": []
   },
   "source": [
    "## Loading up the data files "
   ]
  },
  {
   "cell_type": "code",
   "execution_count": 4,
   "id": "6602aae6-6ecf-4e5f-b146-24a11b3409fe",
   "metadata": {
    "tags": []
   },
   "outputs": [],
   "source": [
    "# load the transcript annotations from the GTF file.\n",
    "# GTF2_TranscriptAssembler returns an iterator, so here we convert it to a list.\n",
    "transcripts = list(GTF2_TranscriptAssembler(open(data_path + \"Escherichia_coli_str_k_12_substr_mg1655_gca_000005845.ASM584v2.51.gtf\"),return_type=Transcript))"
   ]
  },
  {
   "cell_type": "code",
   "execution_count": 5,
   "id": "20615756-c8c0-4960-8ed4-86e18726e377",
   "metadata": {},
   "outputs": [],
   "source": [
    "# Remove non-protein coding transcripts from transcripts list. \n",
    "protein_coding = []\n",
    "for transcript in transcripts:\n",
    "    if transcript.attr['transcript_biotype'] == 'protein_coding':\n",
    "        protein_coding.append(transcript)"
   ]
  },
  {
   "cell_type": "code",
   "execution_count": 6,
   "id": "6f73a1fb-75d0-4968-91ba-db2f25e86f91",
   "metadata": {},
   "outputs": [],
   "source": [
    "transcripts.clear()"
   ]
  },
  {
   "cell_type": "markdown",
   "id": "ed9b5803-ed8d-42e3-826b-b0172c8a7ebb",
   "metadata": {},
   "source": [
    "# Load up the count vectors"
   ]
  },
  {
   "cell_type": "code",
   "execution_count": 198,
   "id": "84983f35-e80b-4144-bb41-14732d3dfb6f",
   "metadata": {},
   "outputs": [],
   "source": [
    "# Load in the count positions data.\n",
    "count_vectors = kat.load_count_positions(mutation+\"_RPF_\"+samp_num+\"_counts.csv\",csv_path)"
   ]
  },
  {
   "cell_type": "markdown",
   "id": "f11093c8-e9bb-4bfd-bb97-8c7dfafc602e",
   "metadata": {},
   "source": [
    "## Alter the count vectors to look at the codons over the cds region."
   ]
  },
  {
   "cell_type": "code",
   "execution_count": 199,
   "id": "0ca2150d-ad66-483b-8bdf-63183d05d126",
   "metadata": {},
   "outputs": [],
   "source": [
    "# Convert the count lists from nucleotide resolution to codon resolution\n",
    "codon_counts = []\n",
    "\n",
    "for i in count_vectors:\n",
    "    codon_counts.append(np.add.reduceat(i, np.arange(0, len(i),3)))"
   ]
  },
  {
   "cell_type": "code",
   "execution_count": 200,
   "id": "947f448a-5c0d-4a44-bf47-acac3fbc49e2",
   "metadata": {},
   "outputs": [],
   "source": [
    "# Convert the unscaled elongation rates to a list so they can be more easily saved\n",
    "for count, i in zip(codon_counts, list(range(len(codon_counts)))):\n",
    "    codon_counts[i] = count.tolist()"
   ]
  },
  {
   "cell_type": "markdown",
   "id": "b8dea320-b6dd-41b7-a982-a7efb49a92e0",
   "metadata": {
    "tags": []
   },
   "source": [
    "## Save as a csv"
   ]
  },
  {
   "cell_type": "code",
   "execution_count": 201,
   "id": "257f0df5-9ef7-4523-801e-bcca61c8214f",
   "metadata": {},
   "outputs": [],
   "source": [
    "# Create a list that contains all of the gene_ids and transcript_ids of the transcripts\n",
    "gene_id = []\n",
    "transcript_id = []\n",
    "\n",
    "for transcript in protein_coding:\n",
    "    gene_id.append(transcript.attr[\"gene_name\"])\n",
    "    transcript_id.append(transcript.attr[\"transcript_id\"])"
   ]
  },
  {
   "cell_type": "code",
   "execution_count": 202,
   "id": "ba7a4462-e3cf-43fc-a1dd-073364addd76",
   "metadata": {},
   "outputs": [],
   "source": [
    "# Insert the gene ids and transcript ids into the codon_count list. \n",
    "for i,j in zip(codon_counts, range(len(gene_id))):\n",
    "    i.insert(0,gene_id[j])\n",
    "    i.insert(0,transcript_id[j])"
   ]
  },
  {
   "cell_type": "code",
   "execution_count": 203,
   "id": "64041873-940f-40d8-84f4-da6dc2961d74",
   "metadata": {
    "tags": []
   },
   "outputs": [],
   "source": [
    "# Calculate the longest cds region in our new list of counts\n",
    "l_tr = kat.find_max_list(codon_counts)\n",
    "\n",
    "# Define a header that includes labels for the transcript and gene ID as \n",
    "# well as numbers that index the cds region position.\n",
    "header=[\"transcript_id\",\"gene_id\"]+list(range(l_tr))\n",
    "\n",
    "# insert that header into our counts list. \n",
    "codon_counts.insert(0,header)"
   ]
  },
  {
   "cell_type": "code",
   "execution_count": 204,
   "id": "326251d4-8f92-4bef-8e4b-e3a00a07a53a",
   "metadata": {},
   "outputs": [],
   "source": [
    "with open(save_path + mutation + \"_\" + samp_num + '_counts.csv', 'w', newline='') as f:\n",
    "    writer = csv.writer(f)\n",
    "    writer.writerows(codon_counts)"
   ]
  },
  {
   "cell_type": "code",
   "execution_count": null,
   "id": "8f77858a-b9f2-4da0-b2a8-915c59e104b7",
   "metadata": {},
   "outputs": [],
   "source": []
  }
 ],
 "metadata": {
  "kernelspec": {
   "display_name": "Python 3 (ipykernel)",
   "language": "python",
   "name": "python3"
  },
  "language_info": {
   "codemirror_mode": {
    "name": "ipython",
    "version": 3
   },
   "file_extension": ".py",
   "mimetype": "text/x-python",
   "name": "python",
   "nbconvert_exporter": "python",
   "pygments_lexer": "ipython3",
   "version": "3.8.12"
  }
 },
 "nbformat": 4,
 "nbformat_minor": 5
}
