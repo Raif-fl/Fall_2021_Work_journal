{
 "cells": [
  {
   "cell_type": "markdown",
   "id": "96200f08-1d1d-4973-97f5-8a14ba2b0f30",
   "metadata": {
    "tags": []
   },
   "source": [
    "## Loading up packages"
   ]
  },
  {
   "cell_type": "code",
   "execution_count": 17,
   "id": "fd69578e-89fd-442e-8b47-c603f923d981",
   "metadata": {},
   "outputs": [],
   "source": [
    "import sys\n",
    "sys.path.append('/home/keeganfl/Desktop/Work_Fall_2021/Fall_2021_Work_journal/tools/')"
   ]
  },
  {
   "cell_type": "code",
   "execution_count": 18,
   "id": "963bc9ea-3e06-4b44-9518-155717a8afc7",
   "metadata": {},
   "outputs": [],
   "source": [
    "# import plastid\n",
    "# data structure for mapping read alignments to genomic positions\n",
    "from plastid import BAMGenomeArray, GenomeArray, VariableFivePrimeMapFactory, \\\n",
    "                        GTF2_TranscriptAssembler, GFF3_TranscriptAssembler, \\\n",
    "                        Transcript, ThreePrimeMapFactory, CenterMapFactory\n",
    "import plastid\n",
    "from plastid.plotting.plots import *\n",
    "import numpy as np\n",
    "import os\n",
    "from Bio import SeqIO\n",
    "import numpy\n",
    "import math\n",
    "import pandas as pd\n",
    "from scipy import stats\n",
    "import keegan_analysis_tools as kat\n",
    "from statsmodels.nonparametric.smoothers_lowess import lowess\n",
    "import warnings\n",
    "import matplotlib.pyplot as plt\n",
    "%matplotlib inline\n",
    "import csv\n",
    "from scipy.sparse.linalg import lsqr\n",
    "from tqdm import tqdm"
   ]
  },
  {
   "cell_type": "code",
   "execution_count": 114,
   "id": "5e541396-7840-4d28-96ae-38510f770d3e",
   "metadata": {
    "tags": []
   },
   "outputs": [],
   "source": [
    "# Define the path to our Bam files\n",
    "data_path = \"/home/keeganfl/Desktop/Work_Fall_2021/genomes_&_samples/dmel/\"\n",
    "position_count_path = \"/home/keeganfl/Desktop/Work_Fall_2021/data_tables/position_counts_codon_resolution/dmel/\"\n",
    "te_table_path = '/home/keeganfl/Desktop/Work_Fall_2021/data_tables/TE_tables/dmel/'\n",
    "save_path = \"/home/keeganfl/Desktop/Work_Fall_2021/data_tables/elongation_rates/dmel/\"\n",
    "save_path2 = \"/home/keeganfl/Desktop/Work_Fall_2021/data_tables/initiation_rates/dmel/\"\n",
    "save_path3 = \"/home/keeganfl/Desktop/Work_Fall_2021/data_tables/termination_rates/dmel/\"\n",
    "elon_path = '/home/keeganfl/Desktop/Work_Fall_2021/data_tables/elongation_rates/dmel/'\n",
    "gtf_name = \"Drosophila_melanogaster.BDGP6.32.103.gtf\"\n",
    "mutation = 'Fmr1'\n",
    "samp_num = '3'"
   ]
  },
  {
   "cell_type": "markdown",
   "id": "25c8e4e2-e3c0-45f0-a648-51d418bf82a1",
   "metadata": {
    "tags": []
   },
   "source": [
    "## Loading up the data files "
   ]
  },
  {
   "cell_type": "code",
   "execution_count": 115,
   "id": "0d138168-3569-493a-9028-667c51b532da",
   "metadata": {},
   "outputs": [],
   "source": [
    "init_mutant = np.loadtxt(save_path2 + mutation + '_' + samp_num + '_adjusted_initiation_rates', delimiter = \",\")"
   ]
  },
  {
   "cell_type": "code",
   "execution_count": 116,
   "id": "6da832d5-73a4-4730-854a-42c7478bca64",
   "metadata": {},
   "outputs": [],
   "source": [
    "term_mutant = np.loadtxt(save_path3 + mutation + '_' + samp_num + '_adjusted_termination_rates', delimiter = \",\")"
   ]
  },
  {
   "cell_type": "code",
   "execution_count": 117,
   "id": "19950ed4-5d42-42e4-8754-48f0989709a1",
   "metadata": {},
   "outputs": [],
   "source": [
    "def load_elongation_rates_v2(csv_name, csv_path):\n",
    "    data = []\n",
    "    gene_names = []\n",
    "    tr_ids = []\n",
    "    with open(csv_path + csv_name, newline = '') as csvfile:\n",
    "        reader = csv.reader(csvfile)\n",
    "        for row in reader:\n",
    "            data.append(row)\n",
    "    blank=data.pop(0)\n",
    "            \n",
    "    for i,ii in zip(data, range(len(data))):\n",
    "        for j,jj in zip(i, range(len(i))):\n",
    "            try:\n",
    "                x = float(j)\n",
    "                data[ii][jj] = x\n",
    "            except:\n",
    "                pass\n",
    "            \n",
    "    # Remove empty space\n",
    "    for i,ii in zip(data, range(len(data))):\n",
    "        x = list(filter(('').__ne__, i))\n",
    "        data[ii] = x\n",
    "        \n",
    "    # Convert lists to np.arrays\n",
    "    for i,ii in zip(data, range(len(data))):\n",
    "        gene_names.append(data[ii][1])\n",
    "        tr_ids.append(data[ii][0])\n",
    "        data[ii] = np.array(data[ii][2:]) # I think that this is my target, I just need it to also capture\n",
    "    \n",
    "    return data, gene_names, tr_ids"
   ]
  },
  {
   "cell_type": "code",
   "execution_count": 118,
   "id": "e22fc9dd-1cf4-4fa8-86c0-e6915ac6e213",
   "metadata": {},
   "outputs": [],
   "source": [
    "# Load in the elongation rates data.\n",
    "elon_mutant, gene_names, tr_ids = load_elongation_rates_v2(mutation + '_' + samp_num + '_adjusted_elongation_rates', elon_path)\n",
    "#elon_control = kat.load_elongation_rates('control' + '_' + samp_num + '_elongation_rates', elon_path)"
   ]
  },
  {
   "cell_type": "code",
   "execution_count": 119,
   "id": "8fa3dbde-1245-42ec-8d6d-be501701a6fd",
   "metadata": {},
   "outputs": [],
   "source": [
    "# Load in the count positions data.\n",
    "counts_mutant = kat.load_count_positions(mutation+\"_\"+samp_num+\"_counts.csv\",position_count_path)\n",
    "counts_control = kat.load_count_positions(\"control_\"+ samp_num +\"_counts.csv\",position_count_path)"
   ]
  },
  {
   "cell_type": "markdown",
   "id": "0f6d8163-d686-4ec0-a3ac-d884670d0623",
   "metadata": {},
   "source": [
    "## Define functions"
   ]
  },
  {
   "cell_type": "code",
   "execution_count": 120,
   "id": "2bf8fa71-9a74-412b-af23-5f366ba331f6",
   "metadata": {},
   "outputs": [],
   "source": [
    "def get_density(lamb, a, B, I = 10, intermediates = False):\n",
    "    lamb_c = copy.deepcopy(lamb)# Create a copy of lamb to work on. \n",
    "    Jmax = min(lamb_c)/((1+np.sqrt(I))**2)\n",
    "    crit_a = ((lamb_c[0] - (I-1) * Jmax) / 2)*(1 - np.sqrt(1 - (4*lamb_c[0]*Jmax)/((lamb_c[0] - (I - 1)*Jmax)**2)))\n",
    "    crit_B = ((lamb_c[-1] - (I-1) * Jmax) / 2)*(1 - np.sqrt(1 - (4*lamb_c[-1]*Jmax)/((lamb_c[-1] - (I - 1)*Jmax)**2)))\n",
    "    if a < crit_a and B > crit_B:\n",
    "        p = low_density(lamb_c, a, I)\n",
    "        density = \"LD\"\n",
    "    elif a > crit_a and B < crit_B:\n",
    "        p = high_density(lamb_c, B, I)\n",
    "        density = \"HD\"\n",
    "    elif a < crit_a and B < crit_B:\n",
    "        Jl = (a*(lamb[0]-a))/(lamb[0] + (I-1)*a)\n",
    "        JR = (B*(lamb[-1]-B))/(lamb[-1] + (I-1)*B)\n",
    "        sign = Jl - JR \n",
    "        if sign > 0:\n",
    "            p = low_density(lamb_c, a, I)\n",
    "            density = \"LD\"\n",
    "        elif sign < 0:\n",
    "            p = high_density(lamb_c, B, I)\n",
    "            density = \"HD\"\n",
    "    elif a > crit_a and B > crit_B:\n",
    "        p = maximum_current(lamb_c, a, B, I)\n",
    "        density = \"MC\"\n",
    "    if intermediates == False:\n",
    "        return p, density\n",
    "    elif intermediates == True:\n",
    "        return p, a, B, crit_a, crit_B, min(lamb_c), lamb_c[0]\n",
    "    \n",
    "def get_critical_values(lamb, a, B, I = 10):\n",
    "    lamb_c = copy.deepcopy(lamb)# Create a copy of lamb to work on. \n",
    "    Jmax = min(lamb_c)/((1+np.sqrt(I))**2)\n",
    "    crit_a = ((lamb_c[0] - (I-1) * Jmax) / 2)*(1 - np.sqrt(1 - (4*lamb_c[0]*Jmax)/((lamb_c[0] - (I - 1)*Jmax)**2)))\n",
    "    crit_B = ((lamb_c[-1] - (I-1) * Jmax) / 2)*(1 - np.sqrt(1 - (4*lamb_c[-1]*Jmax)/((lamb_c[-1] - (I - 1)*Jmax)**2)))\n",
    "    return(crit_a, crit_B)"
   ]
  },
  {
   "cell_type": "markdown",
   "id": "18fa65cf-4876-456e-8ee0-fc413eb7340b",
   "metadata": {},
   "source": [
    "## Clean data"
   ]
  },
  {
   "cell_type": "code",
   "execution_count": 136,
   "id": "0892d528-d31e-44b1-ad74-081289f171b6",
   "metadata": {},
   "outputs": [],
   "source": [
    "# Find the correlation between all of the controls and the samples.\n",
    "# Note that many of the lowest values spring from very short transcripts or transcripts with few reads. \n",
    "clean_elons = []\n",
    "clean_inits = []\n",
    "clean_terms = []\n",
    "clean_gene_names = []\n",
    "clean_tr_ids = []\n",
    "for tr_m, tr_c, el_m, in_m, term_m, gi, tr_id in zip(counts_mutant, counts_control, elon_mutant, init_mutant, term_mutant, gene_names, tr_ids):\n",
    "    if len(tr_m) > 200 and sum(tr_m)/len(tr_m) > 0.15 and sum(tr_c)/len(tr_c) > 0.15:\n",
    "        clean_elons.append(el_m)\n",
    "        clean_inits.append(in_m)\n",
    "        clean_terms.append(term_m)\n",
    "        clean_gene_names.append(gi)\n",
    "        clean_tr_ids.append(tr_id)"
   ]
  },
  {
   "cell_type": "code",
   "execution_count": 137,
   "id": "ffb63960-8401-4936-9849-8c62563b6f2e",
   "metadata": {},
   "outputs": [
    {
     "name": "stderr",
     "output_type": "stream",
     "text": [
      "---------------------------------------------------------------------------\n",
      "RuntimeWarning\n",
      "invalid value encountered in sqrt\n",
      "in /tmp/ipykernel_67886/4077287372.py, line 33:\n",
      "\n",
      "31     lamb_c = copy.deepcopy(lamb)# Create a copy of lamb to work on. \n",
      "32     Jmax = min(lamb_c)/((1+np.sqrt(I))**2)\n",
      "33     crit_a = ((lamb_c[0] - (I-1) * Jmax) / 2)*(1 - np.sqrt(1 - (4*lamb_c[0]*Jmax)/((lamb_c[0] - (I - 1)*Jmax)**2)))\n",
      "34     crit_B = ((lamb_c[-1] - (I-1) * Jmax) / 2)*(1 - np.sqrt(1 - (4*lamb_c[-1]*Jmax)/((lamb_c[-1] - (I - 1)*Jmax)**2)))\n",
      "35     return(crit_a, crit_B)\n",
      "\n",
      "---------------------------------------------------------------------------\n",
      "---------------------------------------------------------------------------\n",
      "RuntimeWarning\n",
      "invalid value encountered in sqrt\n",
      "in /tmp/ipykernel_67886/4077287372.py, line 34:\n",
      "\n",
      "32     Jmax = min(lamb_c)/((1+np.sqrt(I))**2)\n",
      "33     crit_a = ((lamb_c[0] - (I-1) * Jmax) / 2)*(1 - np.sqrt(1 - (4*lamb_c[0]*Jmax)/((lamb_c[0] - (I - 1)*Jmax)**2)))\n",
      "34     crit_B = ((lamb_c[-1] - (I-1) * Jmax) / 2)*(1 - np.sqrt(1 - (4*lamb_c[-1]*Jmax)/((lamb_c[-1] - (I - 1)*Jmax)**2)))\n",
      "35     return(crit_a, crit_B)\n",
      "\n",
      "---------------------------------------------------------------------------\n"
     ]
    }
   ],
   "source": [
    "crit_as = []\n",
    "crit_Bs = []\n",
    "for ce, ci, ct in zip(clean_elons, clean_inits, clean_terms):\n",
    "    crit_a, crit_B = get_critical_values(ce, ci, ct)\n",
    "    crit_as.append(crit_a)\n",
    "    crit_Bs.append(crit_B)"
   ]
  },
  {
   "cell_type": "code",
   "execution_count": 138,
   "id": "6c20c743-a21b-4031-8195-712dd0520c8f",
   "metadata": {},
   "outputs": [],
   "source": [
    "ratio_a = (np.array(clean_inits)/np.array(crit_as))\n",
    "ratio_B = (np.array(clean_terms))/np.array(crit_Bs)"
   ]
  },
  {
   "cell_type": "code",
   "execution_count": 139,
   "id": "f422c49a-dbd5-406f-88ae-584da26a2c73",
   "metadata": {},
   "outputs": [
    {
     "data": {
      "text/plain": [
       "[<matplotlib.lines.Line2D at 0x7f1d6dcc3370>]"
      ]
     },
     "execution_count": 139,
     "metadata": {},
     "output_type": "execute_result"
    },
    {
     "data": {
      "image/png": "[encoded data removed]",
      "text/plain": [
       "<Figure size 432x288 with 1 Axes>"
      ]
     },
     "metadata": {
      "needs_background": "light"
     },
     "output_type": "display_data"
    }
   ],
   "source": [
    "plt.scatter((np.array(clean_inits)/np.array(crit_as)), ((np.array(clean_terms))/np.array(crit_Bs)), s = 10, alpha = 0.4)\n",
    "#plt.ylim([-1,9])\n",
    "#plt.xlim([-1,9])\n",
    "plt.plot([1, 1], [1, 10], 'k-', lw=2)\n",
    "plt.plot([1, 10], [1,1], 'k-', lw = 2)\n",
    "plt.plot([0, 1], [0,1], 'k-', lw = 2)\n",
    "plt.plot([0, 1], [1,1], 'k--', lw = 2)\n",
    "plt.plot([1, 1], [0,1], 'k--', lw = 2)"
   ]
  },
  {
   "cell_type": "code",
   "execution_count": 140,
   "id": "339923ee-f67b-4b73-a674-484aaafa29c5",
   "metadata": {
    "collapsed": true,
    "jupyter": {
     "outputs_hidden": true
    },
    "tags": []
   },
   "outputs": [
    {
     "name": "stdout",
     "output_type": "stream",
     "text": [
      "-169.84759258774125\n",
      "342\n",
      "-131.68191935796568\n",
      "618\n",
      "-194.37361892241034\n",
      "642\n",
      "-213.9420853987796\n",
      "643\n",
      "-1483.6184928333169\n",
      "644\n",
      "-0.7902137614218889\n",
      "973\n",
      "-0.7563891753002296\n",
      "974\n",
      "-0.7964611646993768\n",
      "975\n",
      "-0.6127426711039634\n",
      "976\n",
      "-18.34360921794664\n",
      "1511\n",
      "-18.49703545940002\n",
      "1512\n",
      "-19.383857164910292\n",
      "1860\n",
      "-7.963695546268841\n",
      "2459\n",
      "-0.24525174025596397\n",
      "2551\n",
      "-0.1822461190695566\n",
      "2552\n",
      "-1090.073712783298\n",
      "2882\n",
      "-61.2379679462496\n",
      "3242\n",
      "-56.319822235787996\n",
      "3243\n",
      "-63.79489148173274\n",
      "3244\n",
      "-51.48740517317185\n",
      "3245\n",
      "-151.32589865533447\n",
      "3388\n",
      "-1431.0396249444493\n",
      "3432\n",
      "-32.301935653268224\n",
      "3569\n",
      "-2.987402770473238\n",
      "4411\n",
      "-2.95464582574311\n",
      "4412\n",
      "-488.5951137068656\n",
      "4466\n",
      "-116.73132915791042\n",
      "4467\n",
      "-827.528112626078\n",
      "4468\n",
      "-93.01653220187846\n",
      "4469\n",
      "-0.9184368394278188\n",
      "4685\n",
      "-499.3636786249462\n",
      "4805\n",
      "-970.1748583811681\n",
      "4806\n",
      "-2.0446498523758665\n",
      "4996\n",
      "-1.9986919647419858\n",
      "4997\n",
      "-2.4171025864199787\n",
      "4998\n",
      "-47.960298775151074\n",
      "5055\n",
      "-11.245876589372306\n",
      "5125\n",
      "-8.759677349169218\n",
      "5126\n",
      "-10.407944936205023\n",
      "5127\n",
      "-222.7781747797193\n",
      "5910\n",
      "-207.63653730390376\n",
      "5911\n",
      "-98.33876718830517\n",
      "5912\n",
      "-194.9187419735595\n",
      "5913\n",
      "-306.19062336631333\n",
      "6312\n",
      "-52.687355227088055\n",
      "6528\n",
      "-0.4197047688487789\n",
      "6718\n",
      "-16.55852437196098\n",
      "6750\n",
      "-186.39223919490598\n",
      "6835\n",
      "-176.48394554163502\n",
      "6949\n",
      "-154.59142742969175\n",
      "6950\n",
      "-121.83987112243354\n",
      "6951\n",
      "-122.08495770179687\n",
      "6952\n",
      "-265.4099390134486\n",
      "6953\n",
      "-174.2051546054076\n",
      "6954\n",
      "-1713.6670815818302\n",
      "7510\n",
      "-2113.0126411200235\n",
      "7511\n",
      "-6861.75804392873\n",
      "7512\n",
      "-3707.246345494218\n",
      "7513\n",
      "-0.43396384054705084\n",
      "7791\n",
      "-0.4534353683609503\n",
      "7792\n",
      "-0.9983271262399073\n",
      "7793\n",
      "-322.0257156427656\n",
      "7915\n"
     ]
    }
   ],
   "source": [
    "x = 0\n",
    "for i in ratio_B:\n",
    "    x = x+1\n",
    "    if i < 0:\n",
    "        print(i)\n",
    "        print(x)"
   ]
  },
  {
   "cell_type": "code",
   "execution_count": 134,
   "id": "1dbda74b-04e7-45b4-985c-3c9a639eef59",
   "metadata": {},
   "outputs": [
    {
     "data": {
      "text/plain": [
       "'Ubi-p63E'"
      ]
     },
     "execution_count": 134,
     "metadata": {},
     "output_type": "execute_result"
    }
   ],
   "source": [
    "clean_gene_names[120]"
   ]
  },
  {
   "cell_type": "markdown",
   "id": "07852f71-6ad5-40af-88de-1c37f716271e",
   "metadata": {},
   "source": [
    "## Look at just the Fmr1 targets"
   ]
  },
  {
   "cell_type": "markdown",
   "id": "3c44a1ce-cc41-459f-9654-20752746b3b9",
   "metadata": {},
   "source": [
    "show reduced elongation rate by 50% and look at how that effects it. "
   ]
  }
 ],
 "metadata": {
  "kernelspec": {
   "display_name": "Python 3 (ipykernel)",
   "language": "python",
   "name": "python3"
  },
  "language_info": {
   "codemirror_mode": {
    "name": "ipython",
    "version": 3
   },
   "file_extension": ".py",
   "mimetype": "text/x-python",
   "name": "python",
   "nbconvert_exporter": "python",
   "pygments_lexer": "ipython3",
   "version": "3.8.12"
  }
 },
 "nbformat": 4,
 "nbformat_minor": 5
}
