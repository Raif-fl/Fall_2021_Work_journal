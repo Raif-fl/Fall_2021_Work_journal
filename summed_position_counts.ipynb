{
 "cells": [
  {
   "cell_type": "markdown",
   "id": "7de32ff8-e2dc-40c1-baa8-2ee279b2de61",
   "metadata": {},
   "source": [
    "# Summed Position Counts\n",
    "\n",
    "This notebook is used to create a table of position counts where all of the samples are summed together rather than kept as seperate samples. \n",
    "\n",
    "This notebook needs considerable reworking"
   ]
  },
  {
   "cell_type": "code",
   "execution_count": 4,
   "id": "36c1ba29-d71e-4899-8d68-0c15019dbb64",
   "metadata": {},
   "outputs": [],
   "source": [
    "# Loading up the path to my tools file. \n",
    "import sys\n",
    "sys.path.append('/home/keeganfl/Desktop/Work_Fall_2021/Fall_2021_Work_journal/tools/')"
   ]
  },
  {
   "cell_type": "code",
   "execution_count": 5,
   "id": "49871979-47de-4660-a96a-92c8c4e0c8dd",
   "metadata": {},
   "outputs": [],
   "source": [
    "# Loading up required packages\n",
    "from plastid import BAMGenomeArray, VariableFivePrimeMapFactory, \\\n",
    "                        GTF2_TranscriptAssembler, GFF3_TranscriptAssembler, \\\n",
    "                        Transcript, ThreePrimeMapFactory\n",
    "import numpy as np\n",
    "from Bio import SeqIO\n",
    "import numpy\n",
    "import pandas as pd\n",
    "from scipy import stats\n",
    "import keegan_analysis_tools as kat\n",
    "import matplotlib.pyplot as plt\n",
    "%matplotlib inline\n",
    "import csv\n",
    "import os\n",
    "from scipy.sparse.linalg import lsqr"
   ]
  },
  {
   "cell_type": "code",
   "execution_count": 6,
   "id": "df73b501-3af5-4a3f-a4f8-8f8945eae3cd",
   "metadata": {},
   "outputs": [],
   "source": [
    "# Define the path to important files. \n",
    "data_path = '/home/keeganfl/Desktop/Work_Fall_2021/genomes_&_samples/ecol/'\n",
    "csv_path = '/home/keeganfl/Desktop/Work_Fall_2021/data_tables/position_counts/ecol/'\n",
    "save_path = '/home/keeganfl/Desktop/Work_Fall_2021/data_tables/position_counts/ecol/'\n",
    "gtf_name = \"Escherichia_coli_str_k_12_substr_mg1655_gca_000005845.ASM584v2.51.gtf\""
   ]
  },
  {
   "cell_type": "markdown",
   "id": "b5dfb3f8-f01a-44b0-94a5-c323598376d2",
   "metadata": {},
   "source": [
    "## Load up the transcript data"
   ]
  },
  {
   "cell_type": "code",
   "execution_count": 7,
   "id": "be3bddd9-58ed-4935-b9f2-1df67a8118f1",
   "metadata": {
    "tags": []
   },
   "outputs": [],
   "source": [
    "# load the transcript annotations from the GTF file.\n",
    "# GTF2_TranscriptAssembler returns an iterator, so here we convert it to a list.\n",
    "transcripts = list(GTF2_TranscriptAssembler(open(data_path + gtf_name),return_type=Transcript))"
   ]
  },
  {
   "cell_type": "code",
   "execution_count": 8,
   "id": "85359a2c-a69b-49c3-bd59-a8c1c96130ef",
   "metadata": {
    "tags": []
   },
   "outputs": [],
   "source": [
    "# Remove non-protein coding transcripts from transcripts list. \n",
    "protein_coding = []\n",
    "for transcript in transcripts:\n",
    "    if transcript.attr['transcript_biotype'] == 'protein_coding':\n",
    "        protein_coding.append(transcript)"
   ]
  },
  {
   "cell_type": "code",
   "execution_count": 9,
   "id": "bd897d82-ce2f-4fbb-88b8-7c42af79957c",
   "metadata": {},
   "outputs": [],
   "source": [
    "# clear up some memory by deleting original transcript list\n",
    "transcripts.clear()"
   ]
  },
  {
   "cell_type": "markdown",
   "id": "1332ccd9-ac1b-488d-9fd5-c1bfae4965c9",
   "metadata": {},
   "source": [
    "## Create the summed samples"
   ]
  },
  {
   "cell_type": "code",
   "execution_count": 10,
   "id": "981c4f77-67ce-4be5-ac24-e1d952aaa137",
   "metadata": {},
   "outputs": [],
   "source": [
    "# get a list of all the files you want to sum together. \n",
    "all_samples = os.listdir('/home/keeganfl/Desktop/Work_Fall_2021/data_tables/position_counts/ecol')"
   ]
  },
  {
   "cell_type": "code",
   "execution_count": 11,
   "id": "654c9625-32f7-412f-9ba4-d30224e6d1a2",
   "metadata": {},
   "outputs": [],
   "source": [
    "# Split up the files you want to sum together into mutants and controls\n",
    "mutant_samples = []\n",
    "control_samples = []\n",
    "for sample in all_samples:\n",
    "    if sample.startswith(\"efp\") == True:\n",
    "        mutant_samples.append(sample)\n",
    "    elif sample.startswith(\"control\") == True:\n",
    "        control_samples.append(sample)"
   ]
  },
  {
   "cell_type": "code",
   "execution_count": 12,
   "id": "4cedd8b5-02f8-4b99-a8d4-914ed75aabf5",
   "metadata": {},
   "outputs": [],
   "source": [
    "# Create a function that will load up the necessary count arrays and sum them together\n",
    "def get_summed_array(samples):\n",
    "    count_list = []\n",
    "    for s in samples:\n",
    "        count_list.append(kat.load_count_positions(s, '/home/keeganfl/Desktop/Work_Fall_2021/data_tables/position_counts/ecol/'))\n",
    "    \n",
    "    # Convert count lists to numpy arrays so they can be quickly and easily summmed. \n",
    "    for count, i in zip(count_list, list(range(len(count_list)))):\n",
    "        count_list[i] = np.array(count, dtype=object)\n",
    "    \n",
    "    # Sum all of your newly made count arrays together. \n",
    "    summed_counts = sum(count_list)\n",
    "\n",
    "    # Convert everything back to lists so that you can easily make your data tables. \n",
    "    summed_counts = summed_counts.tolist()\n",
    "    for i, j in zip(summed_counts, list(range(len(summed_counts)))):\n",
    "        summed_counts[j] = i.tolist()\n",
    "    return summed_counts"
   ]
  },
  {
   "cell_type": "code",
   "execution_count": 13,
   "id": "06ed13e3-6157-4f6e-b3ce-8cb2d262b9da",
   "metadata": {},
   "outputs": [],
   "source": [
    "# Load up the summed count arrays\n",
    "mutant_summed_array = get_summed_array(mutant_samples)\n",
    "control_summed_array = get_summed_array(control_samples)"
   ]
  },
  {
   "cell_type": "markdown",
   "id": "123f58fa-e811-4819-8799-c8d4277d208f",
   "metadata": {},
   "source": [
    "## Alter the summed arrays to be saved as CSVs"
   ]
  },
  {
   "cell_type": "code",
   "execution_count": 14,
   "id": "6205a321-b2c4-4fa5-ad62-7e0cde74d306",
   "metadata": {},
   "outputs": [],
   "source": [
    "def load_array_as_csv(transcripts, summed_array):\n",
    "    \n",
    "    # Create a list that contains all of the gene_ids and transcript_ids of the transcripts\n",
    "    gene_id = []\n",
    "    transcript_id = []\n",
    "\n",
    "    for transcript in transcripts:\n",
    "        gene_id.append(transcript.attr[\"gene_name\"])\n",
    "        transcript_id.append(transcript.attr[\"transcript_id\"])\n",
    "    \n",
    "    # Insert the gene ids and transcript ids into the codon_count list. \n",
    "    for i, j in zip(summed_array, range(len(gene_id))):\n",
    "        i.insert(0,gene_id[j])\n",
    "        i.insert(0,transcript_id[j])\n",
    "        \n",
    "    # Calculate the longest cds region in our new list of counts\n",
    "    l_tr = kat.find_max_list(summed_array)\n",
    "\n",
    "    # Define a header that includes labels for the transcript and gene ID as \n",
    "    # well as numbers that index the cds region position.\n",
    "    header=[\"transcript_id\",\"gene_id\"]+list(range(l_tr))\n",
    "\n",
    "    # insert that header into our counts list. \n",
    "    summed_array.insert(0,header)\n",
    "    return summed_array"
   ]
  },
  {
   "cell_type": "code",
   "execution_count": 15,
   "id": "fdb156e9-b738-40f8-8310-0e5c75ec2544",
   "metadata": {},
   "outputs": [],
   "source": [
    "# Convert the summed count arrays to the proper csv format\n",
    "mutant_summed_array = load_array_as_csv(protein_coding, mutant_summed_array)\n",
    "control_summed_array = load_array_as_csv(protein_coding, control_summed_array)"
   ]
  },
  {
   "cell_type": "code",
   "execution_count": 16,
   "id": "8995622c-bf3f-44be-a05b-ef51e04464ac",
   "metadata": {},
   "outputs": [],
   "source": [
    "# save both summed count arrays as CSVs\n",
    "with open(save_path + 'mutant_summed_counts.csv', 'w', newline='') as f:\n",
    "    writer = csv.writer(f)\n",
    "    writer.writerows(mutant_summed_array)\n",
    "    \n",
    "with open(save_path + 'control_summed_counts.csv', 'w', newline='') as f:\n",
    "    writer = csv.writer(f)\n",
    "    writer.writerows(control_summed_array)"
   ]
  }
 ],
 "metadata": {
  "kernelspec": {
   "display_name": "Python 3 (ipykernel)",
   "language": "python",
   "name": "python3"
  },
  "language_info": {
   "codemirror_mode": {
    "name": "ipython",
    "version": 3
   },
   "file_extension": ".py",
   "mimetype": "text/x-python",
   "name": "python",
   "nbconvert_exporter": "python",
   "pygments_lexer": "ipython3",
   "version": "3.8.12"
  }
 },
 "nbformat": 4,
 "nbformat_minor": 5
}
