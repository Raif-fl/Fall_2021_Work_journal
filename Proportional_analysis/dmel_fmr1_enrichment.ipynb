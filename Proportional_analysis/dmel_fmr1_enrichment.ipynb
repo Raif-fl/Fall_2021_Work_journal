{
 "cells": [
  {
   "cell_type": "markdown",
   "id": "752ed8ad-2df8-4950-9831-f6919a22df9b",
   "metadata": {
    "tags": []
   },
   "source": [
    "## Loading up packages"
   ]
  },
  {
   "cell_type": "code",
   "execution_count": 1,
   "id": "76f57fce-39f5-42a0-aa87-f40caf55e894",
   "metadata": {},
   "outputs": [],
   "source": [
    "# Let the program know where to find your tools file.\n",
    "import sys\n",
    "sys.path.append('/home/keeganfl/Desktop/Work_Fall_2021/Fall_2021_Work_journal/tools/')"
   ]
  },
  {
   "cell_type": "code",
   "execution_count": 2,
   "id": "e53df0b7-e3ea-4657-800b-9da1bb416b30",
   "metadata": {},
   "outputs": [],
   "source": [
    "# Load up the necessary packages \n",
    "from plastid import BAMGenomeArray, VariableFivePrimeMapFactory, \\\n",
    "                        GTF2_TranscriptAssembler, GFF3_TranscriptAssembler, \\\n",
    "                        Transcript, ThreePrimeMapFactory\n",
    "import numpy as np\n",
    "import os\n",
    "from Bio import SeqIO\n",
    "import numpy\n",
    "import math\n",
    "import pandas as pd\n",
    "from plastid.plotting.plots import *\n",
    "from scipy import stats\n",
    "from scipy.stats import kstwo\n",
    "from statsmodels.stats.proportion import proportions_ztest\n",
    "import keegan_analysis_tools as kat\n",
    "from statsmodels.nonparametric.smoothers_lowess import lowess\n",
    "import warnings\n",
    "import matplotlib.pyplot as plt\n",
    "from matplotlib.pyplot import figure\n",
    "%matplotlib inline\n",
    "import csv\n",
    "from scipy.sparse.linalg import lsqr\n",
    "from tqdm import tqdm\n",
    "from multiprocess import Pool\n",
    "import copy\n",
    "import seaborn as sns"
   ]
  },
  {
   "cell_type": "code",
   "execution_count": 3,
   "id": "43e42030-a90b-44a9-8916-b21539f8017a",
   "metadata": {},
   "outputs": [],
   "source": [
    "# Define the path to our data files and the path we want to save our outputs in. \n",
    "target_path = '/home/keeganfl/Desktop/Work_Fall_2021/data_tables/Fmr1_targets/'\n",
    "ks_dmel_path = '/home/keeganfl/Desktop/Work_Fall_2021/data_tables/KS_stats/dmel/'\n",
    "save_path = '/home/keeganfl/Desktop/Work_Fall_2021/Presentation_figures/'\n",
    "samp_num = '2'"
   ]
  },
  {
   "cell_type": "markdown",
   "id": "abdce1e1-243d-4f53-be88-ec0dd792b71c",
   "metadata": {},
   "source": [
    "## Defining Functions"
   ]
  },
  {
   "cell_type": "code",
   "execution_count": 4,
   "id": "f4a148e3-7e89-448e-a8ea-64df6d2acded",
   "metadata": {},
   "outputs": [],
   "source": [
    "def split_equal(value, parts):\n",
    "    value = float(value)\n",
    "    return [i*value/parts for i in range(1,parts+1)]"
   ]
  },
  {
   "cell_type": "code",
   "execution_count": 5,
   "id": "e8088f20-e47f-4a05-8c9e-1485637d3e37",
   "metadata": {},
   "outputs": [],
   "source": [
    "def determine_enrichment(targ_ks, all_ks, N_cats, max_ks):\n",
    "    ratios = []\n",
    "    sections = split_equal(max_ks, N_cats)\n",
    "    ratios.append(len(targ_ks.ks_stat[targ_ks.ks_stat < sections[0]])/len(all_ks.ks_stat[all_ks.ks_stat < sections[0]]))\n",
    "    for sec, i in zip(sections, list(range(len(sections)))):\n",
    "        try:\n",
    "            ratios.append(len(targ_ks.ks_stat[(targ_ks.ks_stat > sec) & (targ_ks.ks_stat < sections[i+1])]\n",
    "                )/len(all_ks.ks_stat[(all_ks.ks_stat > sec) & (all_ks.ks_stat < sections[i+1])]))\n",
    "        except:\n",
    "            pass\n",
    "    ratios.append(len(targ_ks.ks_stat[targ_ks.ks_stat > sections[-1]])/len(all_ks.ks_stat[all_ks.ks_stat > sections[-1]]))\n",
    "    return ratios, sections"
   ]
  },
  {
   "cell_type": "code",
   "execution_count": 6,
   "id": "698852f3-5db6-48d6-be2b-cc94472c121c",
   "metadata": {},
   "outputs": [],
   "source": [
    "def det_p_values(targ_ks, all_ks, sections):\n",
    "    p_values = []\n",
    "    for sec, i in zip(sections, list(range(len(sections)))):\n",
    "        try:\n",
    "            obs = len(targ_ks.ks_stat[(targ_ks.ks_stat > sec) & (targ_ks.ks_stat < sections[i + 1])])\n",
    "            all_p = len(all_ks.ks_stat[(all_ks.ks_stat > sec) & (all_ks.ks_stat < sections[i + 1])])\n",
    "            p_v = proportions_ztest(obs, all_p, len(targ_ks)/len(all_ks))[1]\n",
    "            p_values.append(p_v)\n",
    "        except:\n",
    "            pass\n",
    "    obs = len(targ_ks.ks_stat[targ_ks.ks_stat > sections[-1]])\n",
    "    all_p = len(all_ks.ks_stat[all_ks.ks_stat > sections[-1]])\n",
    "    p_v = proportions_ztest(obs, all_p, len(targ_ks)/len(all_ks))[1]\n",
    "    p_values.append(p_v)\n",
    "    return p_values"
   ]
  },
  {
   "cell_type": "markdown",
   "id": "c9355eef-b60f-4a7d-981a-95d01ec048d6",
   "metadata": {},
   "source": [
    "## Calculate the KS stat of all of the Fmr1 targets in the fly data"
   ]
  },
  {
   "cell_type": "code",
   "execution_count": 7,
   "id": "7a4a8674-f7d7-4404-9a82-fe65d6f53458",
   "metadata": {},
   "outputs": [],
   "source": [
    "# Load up the target gene names. \n",
    "Fmr1_table = pd.read_csv(target_path + 'Fmr1_dmel_downreg_genes.txt', names = [\"gene_name\"])\n",
    "\n",
    "# Load up the tables of KS statistics\n",
    "df_dmel = pd.read_csv(ks_dmel_path + \"ks_table_\" + samp_num + \".csv\")"
   ]
  },
  {
   "cell_type": "code",
   "execution_count": 8,
   "id": "aa47ea1b-282e-48f9-9a96-476441662a6a",
   "metadata": {},
   "outputs": [],
   "source": [
    "# Merge the ecoli ks table with the list of gene names\n",
    "Fmr1_ks_table = pd.merge(df_dmel, Fmr1_table, how='inner', right_on='gene_name', left_on='gene_ID')"
   ]
  },
  {
   "cell_type": "code",
   "execution_count": 9,
   "id": "b4bede31-7541-4456-82ba-3395570d6084",
   "metadata": {},
   "outputs": [],
   "source": [
    "# Keep only one copy of each gene in the Fmr1 table. \n",
    "Fmr1_ks_table.sort_values(\"gene_name\", inplace = True)\n",
    "Fmr1_ks_table.drop_duplicates(subset =\"gene_name\",keep = \"first\", inplace = True) "
   ]
  },
  {
   "cell_type": "code",
   "execution_count": 10,
   "id": "b3a6fc4b-8b17-4296-b877-f505eff5e612",
   "metadata": {},
   "outputs": [
    {
     "data": {
      "text/plain": [
       "(0.0, 0.7)"
      ]
     },
     "execution_count": 10,
     "metadata": {},
     "output_type": "execute_result"
    },
    {
     "data": {
      "image/png": "[encoded data removed]",
      "text/plain": [
       "<Figure size 936x432 with 1 Axes>"
      ]
     },
     "metadata": {
      "needs_background": "light"
     },
     "output_type": "display_data"
    },
    {
     "data": {
      "image/png": "[encoded data removed]",
      "text/plain": [
       "<Figure size 936x432 with 1 Axes>"
      ]
     },
     "metadata": {
      "needs_background": "light"
     },
     "output_type": "display_data"
    }
   ],
   "source": [
    "# Plot the KS values for each gene from lowest to highest. \n",
    "figure(figsize = (13,6))\n",
    "plt.scatter(list(range(len(df_dmel[\"ks_stat\"]))), sorted(df_dmel[\"ks_stat\"]), s=6, alpha = 0.4)\n",
    "plt.ylabel(\"KS_statistic\")\n",
    "plt.xlabel(\"Rank\")\n",
    "plt.title(\"KS statistic of all fly genes\")\n",
    "plt.ylim(0,0.7)\n",
    "plt.show\n",
    "figure(figsize = (13,6))\n",
    "plt.scatter(list(range(len(Fmr1_ks_table[\"ks_stat\"]))), sorted(Fmr1_ks_table[\"ks_stat\"]), s=12, alpha = 0.7)\n",
    "plt.ylabel(\"KS_statistic\")\n",
    "plt.xlabel(\"Rank\")\n",
    "plt.title(\"KS statistic of all Fmr1 targets\")\n",
    "plt.ylim(0,0.7)"
   ]
  },
  {
   "cell_type": "code",
   "execution_count": 11,
   "id": "0be15c05-47f7-427b-a7ec-6456f6f7831c",
   "metadata": {},
   "outputs": [
    {
     "name": "stdout",
     "output_type": "stream",
     "text": [
      "mean KS statistic of Fmr1 target genes = 0.09966276320176173\n",
      "mean KS statistic of all D.mel genes = 0.10014650105075408\n"
     ]
    }
   ],
   "source": [
    "# print out the mean of all polyprolne motif containing genes (efp targets)\n",
    "print(\"mean KS statistic of Fmr1 target genes = \" + str(np.mean(Fmr1_ks_table.ks_stat)))\n",
    "print(\"mean KS statistic of all D.mel genes = \" + str(np.mean(df_dmel.ks_stat)))"
   ]
  },
  {
   "cell_type": "code",
   "execution_count": 12,
   "id": "896ed10f-934c-433e-8ac8-836b54a74952",
   "metadata": {},
   "outputs": [
    {
     "name": "stdout",
     "output_type": "stream",
     "text": [
      "0.029911075181891674\n",
      "0.03136531365313653\n"
     ]
    }
   ],
   "source": [
    "# Expected ratio without enrichment\n",
    "print(len(Fmr1_ks_table.ks_stat)/len(df_dmel.ks_stat))\n",
    "\n",
    "# Observed ratio\n",
    "print(len(Fmr1_ks_table.ks_stat[Fmr1_ks_table.ks_stat > 0.15])/len(df_dmel.ks_stat[df_dmel.ks_stat > 0.15]))"
   ]
  },
  {
   "cell_type": "code",
   "execution_count": 13,
   "id": "aeb7d8b2-3a94-4b53-9d72-5ab295d8e7d2",
   "metadata": {},
   "outputs": [],
   "source": [
    "max_ks = 0.15\n",
    "N_cats = 2\n",
    "ratios_dmel, sections_dmel = determine_enrichment(Fmr1_ks_table, df_dmel, N_cats, max_ks)"
   ]
  },
  {
   "cell_type": "code",
   "execution_count": 14,
   "id": "cd5d19e1-fae6-447a-ae4b-db21439b713c",
   "metadata": {},
   "outputs": [],
   "source": [
    "sections_dmel.insert(0,0)"
   ]
  },
  {
   "cell_type": "code",
   "execution_count": 15,
   "id": "eed6fa4d-c964-43b9-805e-c3cec2da4095",
   "metadata": {},
   "outputs": [
    {
     "data": {
      "text/plain": [
       "[0.972495511096236, 0.9365689648958062, 0.8459908431725696]"
      ]
     },
     "execution_count": 15,
     "metadata": {},
     "output_type": "execute_result"
    }
   ],
   "source": [
    "det_p_values(Fmr1_ks_table, df_dmel, sections_dmel)"
   ]
  },
  {
   "cell_type": "markdown",
   "id": "fc9a2cc7-f2c6-44cb-b622-5b97a9f7f3fa",
   "metadata": {},
   "source": [
    "## Looking at the proportion of the targets in each KS-stat categroy"
   ]
  },
  {
   "cell_type": "code",
   "execution_count": 16,
   "id": "95c2359e-d4a0-4ec5-aa63-083622f63084",
   "metadata": {},
   "outputs": [],
   "source": [
    "max_ks = 0.15\n",
    "N_cats = 2\n",
    "ratios_dmel, sections_dmel = determine_enrichment(Fmr1_ks_table, df_dmel, N_cats, max_ks)"
   ]
  },
  {
   "cell_type": "code",
   "execution_count": 17,
   "id": "6a11a30a-2aa4-4907-bf5e-9a57a2040840",
   "metadata": {},
   "outputs": [
    {
     "data": {
      "text/plain": [
       "[0.075, 0.15]"
      ]
     },
     "execution_count": 17,
     "metadata": {},
     "output_type": "execute_result"
    }
   ],
   "source": [
    "sections_dmel"
   ]
  },
  {
   "cell_type": "code",
   "execution_count": 18,
   "id": "d4db1930-2953-446f-9b29-bb7986976933",
   "metadata": {},
   "outputs": [],
   "source": [
    "sections_dmel.insert(0,0)"
   ]
  },
  {
   "cell_type": "code",
   "execution_count": 20,
   "id": "d16fc2e9-5aa5-4a2d-8a43-10fa620e0917",
   "metadata": {},
   "outputs": [
    {
     "data": {
      "image/png": "[encoded data removed]",
      "text/plain": [
       "<Figure size 648x432 with 1 Axes>"
      ]
     },
     "metadata": {
      "needs_background": "light"
     },
     "output_type": "display_data"
    }
   ],
   "source": [
    "expected = len(Fmr1_ks_table.ks_stat)/len(df_dmel.ks_stat)\n",
    "figure(figsize = (9,6))\n",
    "plt.bar([1,2,3],ratios_dmel, width = 0.5, color = \"darkblue\",\n",
    "        tick_label = [\"Low KS fraction\",\"Medium KS fraction\",\"High KS fraction\"])\n",
    "plt.xticks(fontsize = 13)\n",
    "plt.xlim(0.6,3.4)\n",
    "plt.ylim(0, 0.1)\n",
    "plt.ylabel(\"Proportion of Fmr1 targets\", fontsize = 13)\n",
    "plt.title(\"Drosophila melanogaster\", fontsize = 14)\n",
    "#plt.xlabel(\"KS-stat\")\n",
    "plt.plot([0,6],[expected,expected], color = \"black\")\n",
    "plt.savefig(save_path + 'dmel_proportions.pdf')"
   ]
  },
  {
   "cell_type": "markdown",
   "id": "39625ec8-b2bd-48d9-b4e3-8adfa52204d9",
   "metadata": {},
   "source": [
    "## Looking at the kernel density estimates"
   ]
  },
  {
   "cell_type": "code",
   "execution_count": 21,
   "id": "f66102f8-517e-492f-a22f-8251004f69d7",
   "metadata": {},
   "outputs": [
    {
     "data": {
      "text/plain": [
       "<matplotlib.legend.Legend at 0x7eff9ab980a0>"
      ]
     },
     "execution_count": 21,
     "metadata": {},
     "output_type": "execute_result"
    },
    {
     "data": {
      "image/png": "[encoded data removed]",
      "text/plain": [
       "<Figure size 720x432 with 1 Axes>"
      ]
     },
     "metadata": {
      "needs_background": "light"
     },
     "output_type": "display_data"
    }
   ],
   "source": [
    "figure(figsize = (10,6))\n",
    "sns.kdeplot(df_dmel.ks_stat, label = \"All fly genes\")\n",
    "sns.kdeplot(Fmr1_ks_table.ks_stat, label = \"Fmr1_targets\")\n",
    "plt.ylabel(\"Density\")\n",
    "plt.xlabel(\"KS Statistic\")\n",
    "plt.title(\"Density plot comparison for Fmr1 and all_genes\")\n",
    "plt.legend()"
   ]
  },
  {
   "cell_type": "code",
   "execution_count": null,
   "id": "be35b44a-bc7d-4d50-b562-1b80b72d9176",
   "metadata": {},
   "outputs": [],
   "source": []
  }
 ],
 "metadata": {
  "kernelspec": {
   "display_name": "Python 3 (ipykernel)",
   "language": "python",
   "name": "python3"
  },
  "language_info": {
   "codemirror_mode": {
    "name": "ipython",
    "version": 3
   },
   "file_extension": ".py",
   "mimetype": "text/x-python",
   "name": "python",
   "nbconvert_exporter": "python",
   "pygments_lexer": "ipython3",
   "version": "3.8.12"
  }
 },
 "nbformat": 4,
 "nbformat_minor": 5
}
