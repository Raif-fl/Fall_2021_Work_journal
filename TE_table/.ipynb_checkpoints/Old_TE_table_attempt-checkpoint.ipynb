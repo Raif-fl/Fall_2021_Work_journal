{
 "cells": [
  {
   "cell_type": "code",
   "execution_count": 1,
   "id": "0472fb71-254d-4288-8b24-c96b34d6b0a6",
   "metadata": {},
   "outputs": [],
   "source": [
    "import pandas as pd\n",
    "import numpy as np"
   ]
  },
  {
   "cell_type": "code",
   "execution_count": 5,
   "id": "59af0b19-bcbc-4707-987a-6010a29fbd73",
   "metadata": {},
   "outputs": [],
   "source": [
    "df = pd.read_csv(\"raw_read_count_copy.txt\", sep=\"\\t\")"
   ]
  },
  {
   "cell_type": "code",
   "execution_count": 8,
   "id": "558a1635-80d5-4fde-a1a1-0d6106f97c66",
   "metadata": {},
   "outputs": [
    {
     "data": {
      "text/plain": [
       "0          1\n",
       "1          1\n",
       "2          0\n",
       "3        816\n",
       "4        345\n",
       "        ... \n",
       "13963      0\n",
       "13964      1\n",
       "13965      0\n",
       "13966      0\n",
       "13967      0\n",
       "Name: control_RPF_2, Length: 13968, dtype: int64"
      ]
     },
     "execution_count": 8,
     "metadata": {},
     "output_type": "execute_result"
    }
   ],
   "source": [
    "df[\"control_RPF_2\"]"
   ]
  },
  {
   "cell_type": "code",
   "execution_count": 6,
   "id": "079cfeb5-2f9d-4eb7-877c-3adbe866be4f",
   "metadata": {},
   "outputs": [
    {
     "data": {
      "text/html": [
       "<div>\n",
       "<style scoped>\n",
       "    .dataframe tbody tr th:only-of-type {\n",
       "        vertical-align: middle;\n",
       "    }\n",
       "\n",
       "    .dataframe tbody tr th {\n",
       "        vertical-align: top;\n",
       "    }\n",
       "\n",
       "    .dataframe thead th {\n",
       "        text-align: right;\n",
       "    }\n",
       "</style>\n",
       "<table border=\"1\" class=\"dataframe\">\n",
       "  <thead>\n",
       "    <tr style=\"text-align: right;\">\n",
       "      <th></th>\n",
       "      <th>geneid</th>\n",
       "      <th>control_RPF_2</th>\n",
       "      <th>control_RNA_2</th>\n",
       "    </tr>\n",
       "  </thead>\n",
       "  <tbody>\n",
       "    <tr>\n",
       "      <th>0</th>\n",
       "      <td>Myo81F</td>\n",
       "      <td>1</td>\n",
       "      <td>0</td>\n",
       "    </tr>\n",
       "    <tr>\n",
       "      <th>1</th>\n",
       "      <td>Pzl</td>\n",
       "      <td>1</td>\n",
       "      <td>4</td>\n",
       "    </tr>\n",
       "    <tr>\n",
       "      <th>2</th>\n",
       "      <td>spok</td>\n",
       "      <td>0</td>\n",
       "      <td>0</td>\n",
       "    </tr>\n",
       "    <tr>\n",
       "      <th>3</th>\n",
       "      <td>Parp</td>\n",
       "      <td>816</td>\n",
       "      <td>7296</td>\n",
       "    </tr>\n",
       "    <tr>\n",
       "      <th>4</th>\n",
       "      <td>Alg-2</td>\n",
       "      <td>345</td>\n",
       "      <td>2991</td>\n",
       "    </tr>\n",
       "    <tr>\n",
       "      <th>...</th>\n",
       "      <td>...</td>\n",
       "      <td>...</td>\n",
       "      <td>...</td>\n",
       "    </tr>\n",
       "    <tr>\n",
       "      <th>13963</th>\n",
       "      <td>Gpa2</td>\n",
       "      <td>0</td>\n",
       "      <td>0</td>\n",
       "    </tr>\n",
       "    <tr>\n",
       "      <th>13964</th>\n",
       "      <td>klhl10</td>\n",
       "      <td>1</td>\n",
       "      <td>0</td>\n",
       "    </tr>\n",
       "    <tr>\n",
       "      <th>13965</th>\n",
       "      <td>CG41561</td>\n",
       "      <td>0</td>\n",
       "      <td>0</td>\n",
       "    </tr>\n",
       "    <tr>\n",
       "      <th>13966</th>\n",
       "      <td>SteXh:CG42398</td>\n",
       "      <td>0</td>\n",
       "      <td>0</td>\n",
       "    </tr>\n",
       "    <tr>\n",
       "      <th>13967</th>\n",
       "      <td>CG40635</td>\n",
       "      <td>0</td>\n",
       "      <td>0</td>\n",
       "    </tr>\n",
       "  </tbody>\n",
       "</table>\n",
       "<p>13968 rows × 3 columns</p>\n",
       "</div>"
      ],
      "text/plain": [
       "              geneid  control_RPF_2  control_RNA_2\n",
       "0             Myo81F              1              0\n",
       "1                Pzl              1              4\n",
       "2               spok              0              0\n",
       "3               Parp            816           7296\n",
       "4              Alg-2            345           2991\n",
       "...              ...            ...            ...\n",
       "13963           Gpa2              0              0\n",
       "13964         klhl10              1              0\n",
       "13965        CG41561              0              0\n",
       "13966  SteXh:CG42398              0              0\n",
       "13967        CG40635              0              0\n",
       "\n",
       "[13968 rows x 3 columns]"
      ]
     },
     "execution_count": 6,
     "metadata": {},
     "output_type": "execute_result"
    }
   ],
   "source": [
    "df[\"RPKM_RPF\"]=df[\"control_RPF_2\"]/(sum(df[\"control_RPF_2\"])/1000000)"
   ]
  },
  {
   "cell_type": "code",
   "execution_count": 9,
   "id": "ea4cbb71-516b-4912-8509-b2b0d76c6783",
   "metadata": {},
   "outputs": [
    {
     "data": {
      "text/plain": [
       "3.834"
      ]
     },
     "execution_count": 9,
     "metadata": {},
     "output_type": "execute_result"
    }
   ],
   "source": [
    "0.07668*50"
   ]
  },
  {
   "cell_type": "markdown",
   "id": "3d758737-57bf-4016-850f-d9672841bbcd",
   "metadata": {},
   "source": [
    "50? I just used 50? Why on earth did I just use 50? Was it the read length? did I just use the read length? Why did that work? "
   ]
  },
  {
   "cell_type": "code",
   "execution_count": null,
   "id": "d3cd0cb5-ade5-4f88-aee7-88d56035a83e",
   "metadata": {},
   "outputs": [],
   "source": []
  }
 ],
 "metadata": {
  "kernelspec": {
   "display_name": "Python 3 (ipykernel)",
   "language": "python",
   "name": "python3"
  },
  "language_info": {
   "codemirror_mode": {
    "name": "ipython",
    "version": 3
   },
   "file_extension": ".py",
   "mimetype": "text/x-python",
   "name": "python",
   "nbconvert_exporter": "python",
   "pygments_lexer": "ipython3",
   "version": "3.8.10"
  }
 },
 "nbformat": 4,
 "nbformat_minor": 5
}
