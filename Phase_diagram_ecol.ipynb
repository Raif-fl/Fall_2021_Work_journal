{
 "cells": [
  {
   "cell_type": "markdown",
   "id": "96200f08-1d1d-4973-97f5-8a14ba2b0f30",
   "metadata": {
    "tags": []
   },
   "source": [
    "## Loading up packages"
   ]
  },
  {
   "cell_type": "code",
   "execution_count": 1,
   "id": "fd69578e-89fd-442e-8b47-c603f923d981",
   "metadata": {},
   "outputs": [],
   "source": [
    "import sys\n",
    "sys.path.append('/home/keeganfl/Desktop/Work_Fall_2021/Fall_2021_Work_journal/tools/')"
   ]
  },
  {
   "cell_type": "code",
   "execution_count": 2,
   "id": "963bc9ea-3e06-4b44-9518-155717a8afc7",
   "metadata": {},
   "outputs": [],
   "source": [
    "# import plastid\n",
    "# data structure for mapping read alignments to genomic positions\n",
    "from plastid import BAMGenomeArray, GenomeArray, VariableFivePrimeMapFactory, \\\n",
    "                        GTF2_TranscriptAssembler, GFF3_TranscriptAssembler, \\\n",
    "                        Transcript, ThreePrimeMapFactory, CenterMapFactory\n",
    "import plastid\n",
    "from plastid.plotting.plots import *\n",
    "import numpy as np\n",
    "import os\n",
    "from Bio import SeqIO\n",
    "import numpy\n",
    "import math\n",
    "import pandas as pd\n",
    "from scipy import stats\n",
    "import keegan_analysis_tools as kat\n",
    "from statsmodels.nonparametric.smoothers_lowess import lowess\n",
    "import warnings\n",
    "import matplotlib.pyplot as plt\n",
    "%matplotlib inline\n",
    "import csv\n",
    "from scipy.sparse.linalg import lsqr\n",
    "from tqdm import tqdm"
   ]
  },
  {
   "cell_type": "code",
   "execution_count": 3,
   "id": "5e541396-7840-4d28-96ae-38510f770d3e",
   "metadata": {
    "tags": []
   },
   "outputs": [],
   "source": [
    "# Define the path to our Bam files\n",
    "data_path = \"/home/keeganfl/Desktop/Work_Fall_2021/genomes_&_samples/ecol/\"\n",
    "position_count_path = \"/home/keeganfl/Desktop/Work_Fall_2021/data_tables/position_counts_codon_resolution/ecol/\"\n",
    "te_table_path = '/home/keeganfl/Desktop/Work_Fall_2021/data_tables/TE_tables/ecol/'\n",
    "save_path = \"/home/keeganfl/Desktop/Work_Fall_2021/data_tables/elongation_rates/ecol/\"\n",
    "save_path2 = \"/home/keeganfl/Desktop/Work_Fall_2021/data_tables/initiation_rates/ecol/\"\n",
    "save_path3 = \"/home/keeganfl/Desktop/Work_Fall_2021/data_tables/termination_rates/ecol/\"\n",
    "elon_path = '/home/keeganfl/Desktop/Work_Fall_2021/data_tables/elongation_rates/ecol/'\n",
    "mutation = 'efp'\n",
    "samp_num = '2'"
   ]
  },
  {
   "cell_type": "markdown",
   "id": "25c8e4e2-e3c0-45f0-a648-51d418bf82a1",
   "metadata": {
    "tags": []
   },
   "source": [
    "## Loading up the data files "
   ]
  },
  {
   "cell_type": "code",
   "execution_count": 4,
   "id": "0d138168-3569-493a-9028-667c51b532da",
   "metadata": {},
   "outputs": [],
   "source": [
    "init_mutant = np.loadtxt(save_path2 + mutation + '_' + samp_num + '_adjusted_initiation_rates', delimiter = \",\")"
   ]
  },
  {
   "cell_type": "code",
   "execution_count": 5,
   "id": "6da832d5-73a4-4730-854a-42c7478bca64",
   "metadata": {},
   "outputs": [],
   "source": [
    "term_mutant = np.loadtxt(save_path3 + mutation + '_' + samp_num + '_adjusted_termination_rates', delimiter = \",\")\n",
    "master_index = np.loadtxt(save_path3 + mutation + '_' + samp_num + 'master_index', delimiter = \",\")"
   ]
  },
  {
   "cell_type": "code",
   "execution_count": 6,
   "id": "a4f6f957-410f-4f5d-ac42-ad2427dc9678",
   "metadata": {},
   "outputs": [],
   "source": [
    "master_index = list(master_index.astype(int))"
   ]
  },
  {
   "cell_type": "code",
   "execution_count": 7,
   "id": "19950ed4-5d42-42e4-8754-48f0989709a1",
   "metadata": {},
   "outputs": [],
   "source": [
    "def load_elongation_rates_v2(csv_name, csv_path):\n",
    "    data = []\n",
    "    gene_names = []\n",
    "    with open(csv_path + csv_name, newline = '') as csvfile:\n",
    "        reader = csv.reader(csvfile)\n",
    "        for row in reader:\n",
    "            data.append(row)\n",
    "    blank=data.pop(0)\n",
    "            \n",
    "    for i,ii in zip(data, range(len(data))):\n",
    "        for j,jj in zip(i, range(len(i))):\n",
    "            try:\n",
    "                x = float(j)\n",
    "                data[ii][jj] = x\n",
    "            except:\n",
    "                pass\n",
    "            \n",
    "    # Remove empty space\n",
    "    for i,ii in zip(data, range(len(data))):\n",
    "        x = list(filter(('').__ne__, i))\n",
    "        data[ii] = x\n",
    "        \n",
    "    # Convert lists to np.arrays\n",
    "    for i,ii in zip(data, range(len(data))):\n",
    "        gene_names.append(data[ii][0])\n",
    "        data[ii] = np.array(data[ii][1:]) # I think that this is my target, I just need it to also capture\n",
    "    \n",
    "    return data, gene_names\n",
    "\n",
    "def load_count_positions_v2(csv_name, csv_path):\n",
    "    data = []\n",
    "    gene_names = []\n",
    "    with open(csv_path + csv_name, newline = '') as csvfile:\n",
    "        reader = csv.reader(csvfile)\n",
    "        for row in reader:\n",
    "            data.append(row)\n",
    "    blank=data.pop(0)\n",
    "            \n",
    "    for i,ii in zip(data, range(len(data))):\n",
    "        for j,jj in zip(i, range(len(i))):\n",
    "            try:\n",
    "                x = int(float(j))\n",
    "                data[ii][jj] = x\n",
    "            except:\n",
    "                pass\n",
    "            \n",
    "    # Remove empty space\n",
    "    for i,ii in zip(data, range(len(data))):\n",
    "        x = list(filter(('').__ne__, i))\n",
    "        data[ii] = x\n",
    "        \n",
    "    # Convert lists to np.arrays\n",
    "    for i,ii in zip(data, range(len(data))):\n",
    "        gene_names.append(data[ii][1])\n",
    "        data[ii] = np.array(data[ii][2:])\n",
    "    \n",
    "    return data, gene_names"
   ]
  },
  {
   "cell_type": "code",
   "execution_count": 8,
   "id": "e22fc9dd-1cf4-4fa8-86c0-e6915ac6e213",
   "metadata": {},
   "outputs": [],
   "source": [
    "# Load in the elongation rates data.\n",
    "elon_mutant, gene_names = load_elongation_rates_v2(mutation + '_' + samp_num + '_adjusted_elongation_rates', elon_path)"
   ]
  },
  {
   "cell_type": "code",
   "execution_count": 9,
   "id": "8fa3dbde-1245-42ec-8d6d-be501701a6fd",
   "metadata": {},
   "outputs": [],
   "source": [
    "# Load in the count positions data.\n",
    "counts, genes = load_count_positions_v2(mutation+\"_\"+samp_num+\"_counts.csv\",position_count_path)"
   ]
  },
  {
   "cell_type": "code",
   "execution_count": 10,
   "id": "8fa0349e-ddeb-4ccb-a2f9-1e025fd702b0",
   "metadata": {},
   "outputs": [],
   "source": [
    "fixed_counts = []\n",
    "for i in master_index:\n",
    "    fixed_counts.append(counts[i])"
   ]
  },
  {
   "cell_type": "markdown",
   "id": "0f6d8163-d686-4ec0-a3ac-d884670d0623",
   "metadata": {},
   "source": [
    "## Define functions"
   ]
  },
  {
   "cell_type": "code",
   "execution_count": 11,
   "id": "2bf8fa71-9a74-412b-af23-5f366ba331f6",
   "metadata": {},
   "outputs": [],
   "source": [
    "def get_density(lamb, a, B, I = 10, intermediates = False):\n",
    "    lamb_c = copy.deepcopy(lamb)# Create a copy of lamb to work on. \n",
    "    Jmax = min(lamb_c)/((1+np.sqrt(I))**2)\n",
    "    crit_a = ((lamb_c[0] - (I-1) * Jmax) / 2)*(1 - np.sqrt(1 - (4*lamb_c[0]*Jmax)/((lamb_c[0] - (I - 1)*Jmax)**2)))\n",
    "    crit_B = ((lamb_c[-1] - (I-1) * Jmax) / 2)*(1 - np.sqrt(1 - (4*lamb_c[-1]*Jmax)/((lamb_c[-1] - (I - 1)*Jmax)**2)))\n",
    "    if a < crit_a and B > crit_B:\n",
    "        p = low_density(lamb_c, a, I)\n",
    "        density = \"LD\"\n",
    "    elif a > crit_a and B < crit_B:\n",
    "        p = high_density(lamb_c, B, I)\n",
    "        density = \"HD\"\n",
    "    elif a < crit_a and B < crit_B:\n",
    "        Jl = (a*(lamb[0]-a))/(lamb[0] + (I-1)*a)\n",
    "        JR = (B*(lamb[-1]-B))/(lamb[-1] + (I-1)*B)\n",
    "        sign = Jl - JR \n",
    "        if sign > 0:\n",
    "            p = low_density(lamb_c, a, I)\n",
    "            density = \"LD\"\n",
    "        elif sign < 0:\n",
    "            p = high_density(lamb_c, B, I)\n",
    "            density = \"HD\"\n",
    "    elif a > crit_a and B > crit_B:\n",
    "        p = maximum_current(lamb_c, a, B, I)\n",
    "        density = \"MC\"\n",
    "    if intermediates == False:\n",
    "        return p, density\n",
    "    elif intermediates == True:\n",
    "        return p, a, B, crit_a, crit_B, min(lamb_c), lamb_c[0]\n",
    "    \n",
    "def get_critical_values(lamb, a, B, I = 10):\n",
    "    lamb_c = copy.deepcopy(lamb)# Create a copy of lamb to work on. \n",
    "    Jmax = min(lamb_c)/((1+np.sqrt(I))**2)\n",
    "    crit_a = ((lamb_c[0] - (I-1) * Jmax) / 2)*(1 - np.sqrt(1 - (4*lamb_c[0]*Jmax)/((lamb_c[0] - (I - 1)*Jmax)**2)))\n",
    "    crit_B = ((lamb_c[-1] - (I-1) * Jmax) / 2)*(1 - np.sqrt(1 - (4*lamb_c[-1]*Jmax)/((lamb_c[-1] - (I - 1)*Jmax)**2)))\n",
    "    return(crit_a, crit_B)"
   ]
  },
  {
   "cell_type": "markdown",
   "id": "18fa65cf-4876-456e-8ee0-fc413eb7340b",
   "metadata": {},
   "source": [
    "## Clean data"
   ]
  },
  {
   "cell_type": "code",
   "execution_count": 12,
   "id": "0892d528-d31e-44b1-ad74-081289f171b6",
   "metadata": {},
   "outputs": [],
   "source": [
    "# Find the correlation between all of the controls and the samples.\n",
    "# Note that many of the lowest values spring from very short transcripts or transcripts with few reads. \n",
    "clean_elons = []\n",
    "clean_inits = []\n",
    "clean_terms = []\n",
    "clean_gene_names = []\n",
    "clean_tr_ids = []\n",
    "for tr_m, el_m, in_m, term_m, gi in zip(fixed_counts, elon_mutant, init_mutant, term_mutant, gene_names):\n",
    "    #if len(tr_m) > 100 and sum(tr_m)/len(tr_m) > 0.15 and np.any(el_m<0) == False:\n",
    "        clean_elons.append(el_m)\n",
    "        clean_inits.append(in_m)\n",
    "        clean_terms.append(term_m)\n",
    "        clean_gene_names.append(gi)"
   ]
  },
  {
   "cell_type": "code",
   "execution_count": 13,
   "id": "ffb63960-8401-4936-9849-8c62563b6f2e",
   "metadata": {},
   "outputs": [
    {
     "name": "stderr",
     "output_type": "stream",
     "text": [
      "---------------------------------------------------------------------------\n",
      "RuntimeWarning\n",
      "invalid value encountered in sqrt\n",
      "in /tmp/ipykernel_4976/4077287372.py, line 34:\n",
      "\n",
      "32     Jmax = min(lamb_c)/((1+np.sqrt(I))**2)\n",
      "33     crit_a = ((lamb_c[0] - (I-1) * Jmax) / 2)*(1 - np.sqrt(1 - (4*lamb_c[0]*Jmax)/((lamb_c[0] - (I - 1)*Jmax)**2)))\n",
      "34     crit_B = ((lamb_c[-1] - (I-1) * Jmax) / 2)*(1 - np.sqrt(1 - (4*lamb_c[-1]*Jmax)/((lamb_c[-1] - (I - 1)*Jmax)**2)))\n",
      "35     return(crit_a, crit_B)\n",
      "\n",
      "---------------------------------------------------------------------------\n",
      "---------------------------------------------------------------------------\n",
      "RuntimeWarning\n",
      "invalid value encountered in sqrt\n",
      "in /tmp/ipykernel_4976/4077287372.py, line 33:\n",
      "\n",
      "31     lamb_c = copy.deepcopy(lamb)# Create a copy of lamb to work on. \n",
      "32     Jmax = min(lamb_c)/((1+np.sqrt(I))**2)\n",
      "33     crit_a = ((lamb_c[0] - (I-1) * Jmax) / 2)*(1 - np.sqrt(1 - (4*lamb_c[0]*Jmax)/((lamb_c[0] - (I - 1)*Jmax)**2)))\n",
      "34     crit_B = ((lamb_c[-1] - (I-1) * Jmax) / 2)*(1 - np.sqrt(1 - (4*lamb_c[-1]*Jmax)/((lamb_c[-1] - (I - 1)*Jmax)**2)))\n",
      "35     return(crit_a, crit_B)\n",
      "\n",
      "---------------------------------------------------------------------------\n"
     ]
    }
   ],
   "source": [
    "crit_as = []\n",
    "crit_Bs = []\n",
    "for ce, ci, ct in zip(clean_elons, clean_inits, clean_terms):\n",
    "    crit_a, crit_B = get_critical_values(ce, ci, ct)\n",
    "    crit_as.append(crit_a)\n",
    "    crit_Bs.append(crit_B)"
   ]
  },
  {
   "cell_type": "code",
   "execution_count": 14,
   "id": "6c20c743-a21b-4031-8195-712dd0520c8f",
   "metadata": {},
   "outputs": [],
   "source": [
    "ratio_a = (np.array(clean_inits)/np.array(crit_as))\n",
    "ratio_B = (np.array(clean_terms))/np.array(crit_Bs)"
   ]
  },
  {
   "cell_type": "code",
   "execution_count": 15,
   "id": "f422c49a-dbd5-406f-88ae-584da26a2c73",
   "metadata": {},
   "outputs": [
    {
     "data": {
      "text/plain": [
       "[<matplotlib.lines.Line2D at 0x7f7901391700>]"
      ]
     },
     "execution_count": 15,
     "metadata": {},
     "output_type": "execute_result"
    },
    {
     "data": {
      "image/png": "[encoded data removed]",
      "text/plain": [
       "<Figure size 432x288 with 1 Axes>"
      ]
     },
     "metadata": {
      "needs_background": "light"
     },
     "output_type": "display_data"
    }
   ],
   "source": [
    "plt.scatter(ratio_a, ratio_B, s = 10, alpha = 0.4)\n",
    "plt.ylim([-1,750])\n",
    "plt.xlim([-1,6])\n",
    "plt.xlabel(r'$\\alpha / \\alpha * $')\n",
    "plt.ylabel(r'$\\beta / \\beta * $')\n",
    "plt.plot([1, 1], [1, 2000], 'k-', lw=2)\n",
    "plt.plot([1, 200], [1,1], 'k-', lw = 2)\n",
    "plt.plot([0, 1], [0,1], 'k-', lw = 2)\n",
    "plt.plot([0, 1], [1,1], 'k--', lw = 2)\n",
    "plt.plot([1, 1], [0,1], 'k--', lw = 2)"
   ]
  },
  {
   "cell_type": "code",
   "execution_count": 16,
   "id": "e653663d-8da1-4db3-b6a3-98d7130b999f",
   "metadata": {
    "tags": []
   },
   "outputs": [],
   "source": [
    "df = pd.DataFrame(list(zip(clean_gene_names, ratio_a, ratio_B)), columns = [\"Gene\", \"ratio_a\", \"ratio_B\"])"
   ]
  },
  {
   "cell_type": "code",
   "execution_count": 18,
   "id": "82ac4bca-b931-4636-bb79-172b86003e9d",
   "metadata": {},
   "outputs": [
    {
     "data": {
      "text/html": [
       "<div>\n",
       "<style scoped>\n",
       "    .dataframe tbody tr th:only-of-type {\n",
       "        vertical-align: middle;\n",
       "    }\n",
       "\n",
       "    .dataframe tbody tr th {\n",
       "        vertical-align: top;\n",
       "    }\n",
       "\n",
       "    .dataframe thead th {\n",
       "        text-align: right;\n",
       "    }\n",
       "</style>\n",
       "<table border=\"1\" class=\"dataframe\">\n",
       "  <thead>\n",
       "    <tr style=\"text-align: right;\">\n",
       "      <th></th>\n",
       "      <th>Gene</th>\n",
       "      <th>ratio_a</th>\n",
       "      <th>ratio_B</th>\n",
       "    </tr>\n",
       "  </thead>\n",
       "  <tbody>\n",
       "    <tr>\n",
       "      <th>1710</th>\n",
       "      <td>cysQ</td>\n",
       "      <td>0.045934</td>\n",
       "      <td>157.201487</td>\n",
       "    </tr>\n",
       "  </tbody>\n",
       "</table>\n",
       "</div>"
      ],
      "text/plain": [
       "      Gene   ratio_a     ratio_B\n",
       "1710  cysQ  0.045934  157.201487"
      ]
     },
     "execution_count": 18,
     "metadata": {},
     "output_type": "execute_result"
    }
   ],
   "source": [
    "df[df.Gene == \"cysQ\"]"
   ]
  },
  {
   "cell_type": "code",
   "execution_count": 19,
   "id": "43f06472-39ad-4ac4-abc1-660472223433",
   "metadata": {},
   "outputs": [
    {
     "data": {
      "text/html": [
       "<div>\n",
       "<style scoped>\n",
       "    .dataframe tbody tr th:only-of-type {\n",
       "        vertical-align: middle;\n",
       "    }\n",
       "\n",
       "    .dataframe tbody tr th {\n",
       "        vertical-align: top;\n",
       "    }\n",
       "\n",
       "    .dataframe thead th {\n",
       "        text-align: right;\n",
       "    }\n",
       "</style>\n",
       "<table border=\"1\" class=\"dataframe\">\n",
       "  <thead>\n",
       "    <tr style=\"text-align: right;\">\n",
       "      <th></th>\n",
       "      <th>Gene</th>\n",
       "      <th>ratio_a</th>\n",
       "      <th>ratio_B</th>\n",
       "    </tr>\n",
       "  </thead>\n",
       "  <tbody>\n",
       "    <tr>\n",
       "      <th>23</th>\n",
       "      <td>lptD</td>\n",
       "      <td>3.726983</td>\n",
       "      <td>6801.578808</td>\n",
       "    </tr>\n",
       "    <tr>\n",
       "      <th>25</th>\n",
       "      <td>rluA</td>\n",
       "      <td>3.335709</td>\n",
       "      <td>541.708214</td>\n",
       "    </tr>\n",
       "    <tr>\n",
       "      <th>27</th>\n",
       "      <td>araC</td>\n",
       "      <td>13.409890</td>\n",
       "      <td>9137.954525</td>\n",
       "    </tr>\n",
       "    <tr>\n",
       "      <th>40</th>\n",
       "      <td>ftsI</td>\n",
       "      <td>9.903898</td>\n",
       "      <td>219.131851</td>\n",
       "    </tr>\n",
       "    <tr>\n",
       "      <th>163</th>\n",
       "      <td>acpH</td>\n",
       "      <td>4.475961</td>\n",
       "      <td>1141.011729</td>\n",
       "    </tr>\n",
       "    <tr>\n",
       "      <th>277</th>\n",
       "      <td>lnt</td>\n",
       "      <td>6.323056</td>\n",
       "      <td>927.419894</td>\n",
       "    </tr>\n",
       "    <tr>\n",
       "      <th>385</th>\n",
       "      <td>ybjT</td>\n",
       "      <td>3.284255</td>\n",
       "      <td>434.208601</td>\n",
       "    </tr>\n",
       "    <tr>\n",
       "      <th>424</th>\n",
       "      <td>pqiB</td>\n",
       "      <td>5.715270</td>\n",
       "      <td>3567.105330</td>\n",
       "    </tr>\n",
       "    <tr>\n",
       "      <th>613</th>\n",
       "      <td>ydcR</td>\n",
       "      <td>10.203318</td>\n",
       "      <td>15675.052162</td>\n",
       "    </tr>\n",
       "    <tr>\n",
       "      <th>630</th>\n",
       "      <td>eamA</td>\n",
       "      <td>3.061076</td>\n",
       "      <td>157.887863</td>\n",
       "    </tr>\n",
       "    <tr>\n",
       "      <th>673</th>\n",
       "      <td>ydhJ</td>\n",
       "      <td>73.507527</td>\n",
       "      <td>42376.305223</td>\n",
       "    </tr>\n",
       "    <tr>\n",
       "      <th>698</th>\n",
       "      <td>nlpC</td>\n",
       "      <td>4.871580</td>\n",
       "      <td>3379.237017</td>\n",
       "    </tr>\n",
       "    <tr>\n",
       "      <th>708</th>\n",
       "      <td>ynjB</td>\n",
       "      <td>12.937624</td>\n",
       "      <td>1549.081214</td>\n",
       "    </tr>\n",
       "    <tr>\n",
       "      <th>1012</th>\n",
       "      <td>glrR</td>\n",
       "      <td>21.355323</td>\n",
       "      <td>7977.100165</td>\n",
       "    </tr>\n",
       "    <tr>\n",
       "      <th>1271</th>\n",
       "      <td>gltD</td>\n",
       "      <td>46.653852</td>\n",
       "      <td>94570.118186</td>\n",
       "    </tr>\n",
       "    <tr>\n",
       "      <th>1626</th>\n",
       "      <td>rpoB</td>\n",
       "      <td>9.061004</td>\n",
       "      <td>13676.232251</td>\n",
       "    </tr>\n",
       "  </tbody>\n",
       "</table>\n",
       "</div>"
      ],
      "text/plain": [
       "      Gene    ratio_a       ratio_B\n",
       "23    lptD   3.726983   6801.578808\n",
       "25    rluA   3.335709    541.708214\n",
       "27    araC  13.409890   9137.954525\n",
       "40    ftsI   9.903898    219.131851\n",
       "163   acpH   4.475961   1141.011729\n",
       "277    lnt   6.323056    927.419894\n",
       "385   ybjT   3.284255    434.208601\n",
       "424   pqiB   5.715270   3567.105330\n",
       "613   ydcR  10.203318  15675.052162\n",
       "630   eamA   3.061076    157.887863\n",
       "673   ydhJ  73.507527  42376.305223\n",
       "698   nlpC   4.871580   3379.237017\n",
       "708   ynjB  12.937624   1549.081214\n",
       "1012  glrR  21.355323   7977.100165\n",
       "1271  gltD  46.653852  94570.118186\n",
       "1626  rpoB   9.061004  13676.232251"
      ]
     },
     "execution_count": 19,
     "metadata": {},
     "output_type": "execute_result"
    }
   ],
   "source": [
    "df[df.ratio_a > 3]"
   ]
  },
  {
   "cell_type": "markdown",
   "id": "b453acb9-965a-49d7-bd8c-8a982ce16efb",
   "metadata": {},
   "source": [
    "## Next Step, look at Mutant\n",
    "\n",
    "Also, calculate the median or mean change in elongation rate necessary to induce elongation limitation"
   ]
  },
  {
   "cell_type": "code",
   "execution_count": 20,
   "id": "339923ee-f67b-4b73-a674-484aaafa29c5",
   "metadata": {
    "tags": []
   },
   "outputs": [
    {
     "name": "stdout",
     "output_type": "stream",
     "text": [
      "-61716.88610046346\n",
      "65\n",
      "-5774.530156771902\n",
      "78\n",
      "-224.5490604948802\n",
      "200\n",
      "-5111.478341949862\n",
      "207\n",
      "-28.900428881076493\n",
      "213\n",
      "-3858.58618886846\n",
      "223\n",
      "-4.737152292906603\n",
      "255\n",
      "-15.44137404496037\n",
      "383\n",
      "-5725.221252515455\n",
      "572\n",
      "-819.5677820621275\n",
      "634\n",
      "-30.98741124946747\n",
      "723\n",
      "-1.4099734877239707\n",
      "975\n",
      "-233.20791743608117\n",
      "1715\n"
     ]
    }
   ],
   "source": [
    "x = 0\n",
    "for i in ratio_B:\n",
    "    x = x+1\n",
    "    if i < 0:\n",
    "        print(i)\n",
    "        print(x)"
   ]
  },
  {
   "cell_type": "code",
   "execution_count": 21,
   "id": "1dbda74b-04e7-45b4-985c-3c9a639eef59",
   "metadata": {},
   "outputs": [
    {
     "data": {
      "text/plain": [
       "'ivy'"
      ]
     },
     "execution_count": 21,
     "metadata": {},
     "output_type": "execute_result"
    }
   ],
   "source": [
    "clean_gene_names[120]"
   ]
  },
  {
   "cell_type": "markdown",
   "id": "07852f71-6ad5-40af-88de-1c37f716271e",
   "metadata": {},
   "source": [
    "## Look at just the Fmr1 targets"
   ]
  },
  {
   "cell_type": "code",
   "execution_count": 22,
   "id": "73784c89-31a5-4f63-b62f-17223261d846",
   "metadata": {},
   "outputs": [
    {
     "ename": "NameError",
     "evalue": "name 'ks_ecol_path' is not defined",
     "output_type": "error",
     "traceback": [
      "\u001b[0;31m---------------------------------------------------------------------------\u001b[0m",
      "\u001b[0;31mNameError\u001b[0m                                 Traceback (most recent call last)",
      "\u001b[0;32m/tmp/ipykernel_4976/327356753.py\u001b[0m in \u001b[0;36m<module>\u001b[0;34m\u001b[0m\n\u001b[1;32m      3\u001b[0m \u001b[0;34m\u001b[0m\u001b[0m\n\u001b[1;32m      4\u001b[0m \u001b[0;31m# Load up the tables of KS statistics\u001b[0m\u001b[0;34m\u001b[0m\u001b[0;34m\u001b[0m\u001b[0;34m\u001b[0m\u001b[0m\n\u001b[0;32m----> 5\u001b[0;31m \u001b[0mdf_ecol\u001b[0m \u001b[0;34m=\u001b[0m \u001b[0mpd\u001b[0m\u001b[0;34m.\u001b[0m\u001b[0mread_csv\u001b[0m\u001b[0;34m(\u001b[0m\u001b[0mks_ecol_path\u001b[0m \u001b[0;34m+\u001b[0m \u001b[0;34m\"ks_table_\"\u001b[0m \u001b[0;34m+\u001b[0m \u001b[0msamp_num\u001b[0m \u001b[0;34m+\u001b[0m \u001b[0;34m\".csv\"\u001b[0m\u001b[0;34m)\u001b[0m\u001b[0;34m\u001b[0m\u001b[0;34m\u001b[0m\u001b[0m\n\u001b[0m",
      "\u001b[0;31mNameError\u001b[0m: name 'ks_ecol_path' is not defined"
     ]
    }
   ],
   "source": [
    "# Load up the target gene names. \n",
    "PPP_table = pd.read_csv('/home/keeganfl/Desktop/Work_Fall_2021/data_tables/' + 'polyproline_motifs.csv')\n",
    "\n",
    "# Load up the tables of KS statistics\n",
    "df_ecol = pd.read_csv(ks_ecol_path + \"ks_table_\" + samp_num + \".csv\")"
   ]
  },
  {
   "cell_type": "code",
   "execution_count": null,
   "id": "f064c25b-06d7-4123-8b90-ac80572c0204",
   "metadata": {},
   "outputs": [],
   "source": [
    "# Correct the column headings and rows for the polyproline table. \n",
    "PPP_table.columns = PPP_table.iloc[2]\n",
    "PPP_table = PPP_table.drop([0,1,2])\n",
    "\n",
    "# Remove the many unecessary columns from the polyproline data\n",
    "PPP_table = pd.DataFrame(PPP_table.Gene.unique(), columns = [\"Gene\"])\n",
    "\n",
    "# Merge the ecoli ks table with the list of gene names\n",
    "PPP_ks_table = pd.merge(df_ecol, PPP_table, how='inner', right_on='Gene', left_on='gene_ID')"
   ]
  },
  {
   "cell_type": "code",
   "execution_count": null,
   "id": "5f36abb7-d346-404f-85e7-d441d5819cb6",
   "metadata": {},
   "outputs": [],
   "source": [
    "# Several genes have multiple polyproline motifs and thus appear multiple times in the PPP table\n",
    "# Keep only one copy of each gene in the PPP table. \n",
    "PPP_ks_table.sort_values(\"Gene\", inplace = True)\n",
    "PPP_ks_table.drop_duplicates(subset =\"Gene\",keep = \"first\", inplace = True) "
   ]
  },
  {
   "cell_type": "code",
   "execution_count": null,
   "id": "4a30c237-77ad-47bb-aba0-3efc787b0397",
   "metadata": {},
   "outputs": [],
   "source": [
    "Fmr1_crit_as = []\n",
    "Fmr1_crit_Bs = []\n",
    "for ce, ci, ct in zip(Fmr1_elon_table.elon_rate, Fmr1_elon_table.a, Fmr1_elon_table.B):\n",
    "    crit_a, crit_B = get_critical_values(ce, ci, ct)\n",
    "    Fmr1_crit_as.append(crit_a)\n",
    "    Fmr1_crit_Bs.append(crit_B)"
   ]
  },
  {
   "cell_type": "code",
   "execution_count": null,
   "id": "0b96e49b-3527-430a-b96f-f81b96fb6024",
   "metadata": {},
   "outputs": [],
   "source": [
    "ratio_a = (np.array(Fmr1_elon_table.a)/np.array(Fmr1_crit_as))\n",
    "ratio_B = (np.array(Fmr1_elon_table.B))/np.array(Fmr1_crit_Bs)"
   ]
  },
  {
   "cell_type": "code",
   "execution_count": null,
   "id": "cb487217-ba18-4120-8ecc-51e63c7cb8a0",
   "metadata": {},
   "outputs": [],
   "source": [
    "Fmr1_elon_table[\"ratio_a\"] = ratio_a\n",
    "Fmr1_elon_table[\"ratio_B\"] = ratio_B"
   ]
  },
  {
   "cell_type": "code",
   "execution_count": null,
   "id": "c72f72e3-0ac1-4f21-bbe8-21d0ad6ff684",
   "metadata": {},
   "outputs": [],
   "source": [
    "plt.scatter(ratio_a, ratio_B/10, s = 10, alpha = 0.4)\n",
    "plt.ylim([-.5,16])\n",
    "plt.xlim([-.5,9])\n",
    "plt.plot([1, 1], [1, 18], 'k-', lw=2)\n",
    "plt.plot([1, 10], [1,1], 'k-', lw = 2)\n",
    "plt.plot([0, 1], [0,1], 'k-', lw = 2)\n",
    "plt.plot([0, 1], [1,1], 'k--', lw = 2)\n",
    "plt.plot([1, 1], [0,1], 'k--', lw = 2)"
   ]
  },
  {
   "cell_type": "code",
   "execution_count": null,
   "id": "c0dd35d4-cdb4-4a28-93ec-d1fe59a0035f",
   "metadata": {},
   "outputs": [],
   "source": [
    "Fmr1_elon_table[Fmr1_elon_table.ratio_a > 0.6]"
   ]
  },
  {
   "cell_type": "markdown",
   "id": "7e971809-0259-43d8-9696-618906dea114",
   "metadata": {},
   "source": [
    "From what I can see, no matter what, TASEP only cares about the minimum elongation rate (proportional to the strongest pause) and the initiation rate (proportional to the first pause)"
   ]
  },
  {
   "cell_type": "markdown",
   "id": "3c44a1ce-cc41-459f-9654-20752746b3b9",
   "metadata": {},
   "source": [
    "show reduced elongation rate by 50% and look at how that effects it. "
   ]
  }
 ],
 "metadata": {
  "kernelspec": {
   "display_name": "Python 3 (ipykernel)",
   "language": "python",
   "name": "python3"
  },
  "language_info": {
   "codemirror_mode": {
    "name": "ipython",
    "version": 3
   },
   "file_extension": ".py",
   "mimetype": "text/x-python",
   "name": "python",
   "nbconvert_exporter": "python",
   "pygments_lexer": "ipython3",
   "version": "3.8.12"
  }
 },
 "nbformat": 4,
 "nbformat_minor": 5
}
