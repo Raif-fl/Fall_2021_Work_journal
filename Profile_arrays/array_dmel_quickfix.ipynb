{
 "cells": [
  {
   "cell_type": "markdown",
   "id": "12dbf983-0403-4298-97f6-8d9fef7130ac",
   "metadata": {
    "tags": []
   },
   "source": [
    "# Count Arrays for Greenblatt and Spradling D. Melanogaster data"
   ]
  },
  {
   "cell_type": "markdown",
   "id": "9e0c3c45-529f-44f5-b0b8-790f72cc2825",
   "metadata": {},
   "source": [
    "## loading packages"
   ]
  },
  {
   "cell_type": "code",
   "execution_count": 122,
   "id": "c816e29c-746d-45be-a964-934f23269a89",
   "metadata": {},
   "outputs": [],
   "source": [
    "# Let the program know where to find your tools file.\n",
    "import sys\n",
    "sys.path.append('/home/keeganfl/Desktop/Work_Fall_2021/Fall_2021_Work_journal/tools/')"
   ]
  },
  {
   "cell_type": "code",
   "execution_count": 123,
   "id": "96344237-2f90-4adf-890d-76a726ed411f",
   "metadata": {},
   "outputs": [],
   "source": [
    "# import plastid\n",
    "# data structure for mapping read alignments to genomic positions\n",
    "from plastid import BAMGenomeArray, VariableFivePrimeMapFactory, \\\n",
    "                        GTF2_TranscriptAssembler, GFF3_TranscriptAssembler, \\\n",
    "                        Transcript, ThreePrimeMapFactory\n",
    "import numpy as np\n",
    "import os\n",
    "from Bio import SeqIO\n",
    "import numpy\n",
    "import math\n",
    "import pandas as pd\n",
    "from plastid.plotting.plots import *\n",
    "from scipy import stats\n",
    "from scipy.stats import kstwo\n",
    "import keegan_analysis_tools as kat\n",
    "from statsmodels.nonparametric.smoothers_lowess import lowess\n",
    "import warnings\n",
    "import matplotlib.pyplot as plt\n",
    "from matplotlib.pyplot import figure\n",
    "%matplotlib inline\n",
    "import csv\n",
    "from scipy.sparse.linalg import lsqr\n",
    "from tqdm import tqdm\n",
    "from multiprocess import Pool\n",
    "import copy\n",
    "import seaborn as sns"
   ]
  },
  {
   "cell_type": "code",
   "execution_count": 150,
   "id": "8de37de6-d737-4af2-af06-1fdf6e2f8545",
   "metadata": {},
   "outputs": [],
   "source": [
    "# Define the path to our Bam files\n",
    "data_path = \"/home/keeganfl/Desktop/Work_Fall_2021/genomes_&_samples/dmel/\"\n",
    "save_path = \"/home/keeganfl/Desktop/Work_Fall_2021/data_tables/position_counts_codon_resolution/dmel/\"\n",
    "csv_path = '/home/keeganfl/Desktop/Work_Fall_2021/data_tables/position_counts_bp_resolution/dmel/'\n",
    "p_site_path = \"/home/keeganfl/Desktop/Work_Fall_2021/data_tables/p-site_offsets/dmel/\"\n",
    "mutation = 'Fmr1'\n",
    "samp_num = '3'"
   ]
  },
  {
   "cell_type": "code",
   "execution_count": 9,
   "id": "9135eb9e-9e78-45a8-8006-f5987a5c0e5f",
   "metadata": {
    "tags": []
   },
   "outputs": [],
   "source": [
    "# load the transcript annotations from the GTF file.\n",
    "# GTF2_TranscriptAssembler returns an iterator, so here we convert it to a list.\n",
    "transcripts = list(GTF2_TranscriptAssembler(open(data_path + \"Drosophila_melanogaster.BDGP6.32.103.gtf\"),return_type=Transcript))"
   ]
  },
  {
   "cell_type": "code",
   "execution_count": 10,
   "id": "074cda9c-59ef-46d6-aff0-82521efb3743",
   "metadata": {},
   "outputs": [],
   "source": [
    "# Remove non-protein coding transcripts from transcripts list. \n",
    "protein_coding = []\n",
    "for transcript in transcripts:\n",
    "    if transcript.attr['transcript_biotype'] == 'protein_coding':\n",
    "        protein_coding.append(transcript)"
   ]
  },
  {
   "cell_type": "code",
   "execution_count": 11,
   "id": "70206fe1-ddf8-4e8d-b591-5889618a3292",
   "metadata": {},
   "outputs": [],
   "source": [
    "# clear up some memory by deleting original transcript list\n",
    "transcripts.clear()"
   ]
  },
  {
   "cell_type": "markdown",
   "id": "79c3303e-fe17-4a62-a5dd-5e2d09dbbc39",
   "metadata": {},
   "source": [
    "# Load up the count vectors"
   ]
  },
  {
   "cell_type": "code",
   "execution_count": 151,
   "id": "1ed848ae-0297-40ba-a23b-c51f8464483b",
   "metadata": {},
   "outputs": [],
   "source": [
    "# Load in the count positions data.\n",
    "count_vectors = kat.load_count_positions(mutation+\"_RPF_\"+samp_num+\"_counts.csv\",csv_path)"
   ]
  },
  {
   "cell_type": "markdown",
   "id": "f11093c8-e9bb-4bfd-bb97-8c7dfafc602e",
   "metadata": {},
   "source": [
    "## Alter the count vectors to look at the codons over the cds region."
   ]
  },
  {
   "cell_type": "code",
   "execution_count": 152,
   "id": "ff4b401d-6100-4e78-8454-69871c0397a9",
   "metadata": {},
   "outputs": [],
   "source": [
    "#Damnit damnit damnit, I ended up putting them though the cds thingy twice."
   ]
  },
  {
   "cell_type": "code",
   "execution_count": 153,
   "id": "0ca2150d-ad66-483b-8bdf-63183d05d126",
   "metadata": {},
   "outputs": [],
   "source": [
    "# Convert the count lists from nucleotide resolution to codon resolution\n",
    "codon_counts = []\n",
    "\n",
    "for i in count_vectors:\n",
    "    codon_counts.append(np.add.reduceat(i, np.arange(0, len(i),3)))"
   ]
  },
  {
   "cell_type": "code",
   "execution_count": 154,
   "id": "bbc82237-ea2b-471b-b141-4e6bf27c9052",
   "metadata": {},
   "outputs": [],
   "source": [
    "# Convert the unscaled elongation rates to a list so they can be more easily saved\n",
    "for count, i in zip(codon_counts, list(range(len(codon_counts)))):\n",
    "    codon_counts[i] = count.tolist()"
   ]
  },
  {
   "cell_type": "markdown",
   "id": "b8dea320-b6dd-41b7-a982-a7efb49a92e0",
   "metadata": {
    "tags": []
   },
   "source": [
    "## Save as a csv"
   ]
  },
  {
   "cell_type": "code",
   "execution_count": 155,
   "id": "257f0df5-9ef7-4523-801e-bcca61c8214f",
   "metadata": {},
   "outputs": [],
   "source": [
    "# Create a list that contains all of the gene_ids and transcript_ids of the transcripts\n",
    "gene_id = []\n",
    "transcript_id = []\n",
    "\n",
    "for transcript in protein_coding:\n",
    "    gene_id.append(transcript.attr[\"gene_name\"])\n",
    "    transcript_id.append(transcript.attr[\"transcript_id\"])"
   ]
  },
  {
   "cell_type": "code",
   "execution_count": 156,
   "id": "ba7a4462-e3cf-43fc-a1dd-073364addd76",
   "metadata": {},
   "outputs": [],
   "source": [
    "# Insert the gene ids and transcript ids into the codon_count list. \n",
    "for i, j in zip(codon_counts, range(len(gene_id))):\n",
    "    i.insert(0,gene_id[j])\n",
    "    i.insert(0,transcript_id[j])"
   ]
  },
  {
   "cell_type": "code",
   "execution_count": 157,
   "id": "64041873-940f-40d8-84f4-da6dc2961d74",
   "metadata": {
    "tags": []
   },
   "outputs": [],
   "source": [
    "# Calculate the longest cds region in our new list of counts\n",
    "l_tr = kat.find_max_list(codon_counts)\n",
    "\n",
    "# Define a header that includes labels for the transcript and gene ID as \n",
    "# well as numbers that index the cds region position.\n",
    "header=[\"transcript_id\",\"gene_id\"]+list(range(l_tr))\n",
    "\n",
    "# insert that header into our counts list. \n",
    "codon_counts.insert(0,header)"
   ]
  },
  {
   "cell_type": "code",
   "execution_count": 158,
   "id": "326251d4-8f92-4bef-8e4b-e3a00a07a53a",
   "metadata": {},
   "outputs": [],
   "source": [
    "with open(save_path + mutation + \"_\" + samp_num + '_counts.csv', 'w', newline='') as f:\n",
    "    writer = csv.writer(f)\n",
    "    writer.writerows(codon_counts)"
   ]
  },
  {
   "cell_type": "code",
   "execution_count": null,
   "id": "179a6876-2b9c-4adc-b6a1-9f169526d80e",
   "metadata": {},
   "outputs": [],
   "source": []
  }
 ],
 "metadata": {
  "kernelspec": {
   "display_name": "Python 3 (ipykernel)",
   "language": "python",
   "name": "python3"
  },
  "language_info": {
   "codemirror_mode": {
    "name": "ipython",
    "version": 3
   },
   "file_extension": ".py",
   "mimetype": "text/x-python",
   "name": "python",
   "nbconvert_exporter": "python",
   "pygments_lexer": "ipython3",
   "version": "3.8.12"
  }
 },
 "nbformat": 4,
 "nbformat_minor": 5
}
