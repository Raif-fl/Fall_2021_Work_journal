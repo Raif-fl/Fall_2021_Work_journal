{
 "cells": [
  {
   "cell_type": "code",
   "execution_count": 1,
   "id": "fcbb0d82-fa5b-42a6-9473-60157432b2ae",
   "metadata": {},
   "outputs": [],
   "source": [
    "import numpy as np\n",
    "import pandas as pd\n",
    "import csv"
   ]
  },
  {
   "cell_type": "code",
   "execution_count": 2,
   "id": "8249146e-25a8-4949-92ee-ce029cb3d912",
   "metadata": {},
   "outputs": [],
   "source": [
    "#define the function#\n",
    "def find_max_list(list):\n",
    "    list_len = [len(i) for i in list]\n",
    "    print(max(list_len))"
   ]
  },
  {
   "cell_type": "code",
   "execution_count": 5,
   "id": "5c0782a9-cb55-4088-bc18-880f7ec61da8",
   "metadata": {},
   "outputs": [],
   "source": [
    "gene_id = [\"a\",\"b\",\"c\"]\n",
    "transcript_id = [\"Fra\",\"Frb\",\"Frc\"]\n",
    "counts=[np.array([0,0,0,3,5,0,0]),np.array([0,3,0,5,7,2,3,5,6]),\n",
    "        np.array([4,7,9,0,0,0,0,5,6,8,4,6,0,0])]\n",
    "cds_starts = [1, 3, 2]\n",
    "cds_ends = [4, 6, 10]"
   ]
  },
  {
   "cell_type": "code",
   "execution_count": 8,
   "id": "c94c5261-8831-4f43-bb02-b601134a0b63",
   "metadata": {},
   "outputs": [
    {
     "data": {
      "text/plain": [
       "array([0, 0, 3, 5])"
      ]
     },
     "execution_count": 8,
     "metadata": {},
     "output_type": "execute_result"
    }
   ],
   "source": [
    "counts[0][1:4+1]"
   ]
  },
  {
   "cell_type": "code",
   "execution_count": 10,
   "id": "98e26857-518d-4954-952f-64bfafe71704",
   "metadata": {},
   "outputs": [],
   "source": [
    "# This is the part that changes it from list of arrays to list of lists.\n",
    "for i in range(len(counts)):\n",
    "    x = list(counts[i][cds_starts[i]:cds_ends[i]+1])\n",
    "    x.insert(0,gene_id[i])\n",
    "    x.insert(0,transcript_id[i])\n",
    "    counts[i] = x"
   ]
  },
  {
   "cell_type": "code",
   "execution_count": 11,
   "id": "c92f1ffe-6dec-4d79-b6f6-846a4d5e8ece",
   "metadata": {},
   "outputs": [
    {
     "data": {
      "text/plain": [
       "[['Fra', 'a', 0, 0, 3, 5],\n",
       " ['Frb', 'b', 5, 7, 2, 3],\n",
       " ['Frc', 'c', 9, 0, 0, 0, 0, 5, 6, 8, 4]]"
      ]
     },
     "execution_count": 11,
     "metadata": {},
     "output_type": "execute_result"
    }
   ],
   "source": [
    "counts"
   ]
  },
  {
   "cell_type": "code",
   "execution_count": 182,
   "id": "c34e4c9c-2fdf-42f2-bb77-7bb3618a3899",
   "metadata": {},
   "outputs": [],
   "source": [
    "with open('file.csv', 'w', newline='') as f:\n",
    "    writer = csv.writer(f)\n",
    "    writer.writerows(counts)"
   ]
  },
  {
   "cell_type": "code",
   "execution_count": 111,
   "id": "244246f9-e954-42ed-b5fb-a36fcd331373",
   "metadata": {},
   "outputs": [
    {
     "data": {
      "text/plain": [
       "array([0, 0, 0, 3, 5, 0, 0, 0, 3, 0, 4, 7, 9, 0, 0, 0, 0, 5, 6, 8, 4, 6,\n",
       "       0, 0])"
      ]
     },
     "execution_count": 111,
     "metadata": {},
     "output_type": "execute_result"
    }
   ],
   "source": [
    "np.concatenate(counts)"
   ]
  },
  {
   "cell_type": "code",
   "execution_count": 105,
   "id": "25a572a0-0f0a-4ecb-ac88-c73e1c80eb0b",
   "metadata": {},
   "outputs": [],
   "source": [
    "array=np.column_stack((gene_id,transcript_id,counts))"
   ]
  },
  {
   "cell_type": "code",
   "execution_count": 131,
   "id": "cdcf2ee1-5318-4e39-abe5-b9f44daa4f41",
   "metadata": {},
   "outputs": [
    {
     "data": {
      "text/plain": [
       "array(['a', 'Fra', list([0, 0, 0, 3, 5, 0, 0]), 'b', 'Frb',\n",
       "       list([0, 3, 0]), 'c', 'Frc',\n",
       "       list([4, 7, 9, 0, 0, 0, 0, 5, 6, 8, 4, 6, 0, 0])], dtype=object)"
      ]
     },
     "execution_count": 131,
     "metadata": {},
     "output_type": "execute_result"
    }
   ],
   "source": [
    "np.concatenate(array)"
   ]
  },
  {
   "cell_type": "code",
   "execution_count": 107,
   "id": "dc76398a-22d4-4a74-815b-a3927d724e18",
   "metadata": {},
   "outputs": [
    {
     "ename": "ValueError",
     "evalue": "cannot reshape array of size 9 into shape (3,16)",
     "output_type": "error",
     "traceback": [
      "\u001b[0;31m---------------------------------------------------------------------------\u001b[0m",
      "\u001b[0;31mValueError\u001b[0m                                Traceback (most recent call last)",
      "\u001b[0;32m/var/folders/qb/9w2nd7954vj2jt5sb31w7g_80000gn/T/ipykernel_87506/493053717.py\u001b[0m in \u001b[0;36m<module>\u001b[0;34m\u001b[0m\n\u001b[0;32m----> 1\u001b[0;31m \u001b[0marray\u001b[0m\u001b[0;34m.\u001b[0m\u001b[0mreshape\u001b[0m\u001b[0;34m(\u001b[0m\u001b[0;34m(\u001b[0m\u001b[0;36m3\u001b[0m\u001b[0;34m,\u001b[0m\u001b[0;36m16\u001b[0m\u001b[0;34m)\u001b[0m\u001b[0;34m)\u001b[0m\u001b[0;34m\u001b[0m\u001b[0;34m\u001b[0m\u001b[0m\n\u001b[0m",
      "\u001b[0;31mValueError\u001b[0m: cannot reshape array of size 9 into shape (3,16)"
     ]
    }
   ],
   "source": [
    "array.reshape((3,16))"
   ]
  },
  {
   "cell_type": "code",
   "execution_count": null,
   "id": "62047ac9-fc8b-4580-9f5b-3c1e8356cc9c",
   "metadata": {},
   "outputs": [],
   "source": [
    "fmt = '%s , %s, '\n",
    "\n",
    "np.savetxt(\"test.txt\", array, fmt=, delimiter=\",\")"
   ]
  },
  {
   "cell_type": "markdown",
   "id": "43473f06-4861-4476-a683-b6d8de9fad2f",
   "metadata": {},
   "source": [
    "ok, This is the solution I am looking for but the Ram that is used up by trying to convert that into a dataframe is unbelievable. It is just entirely unfeasible. "
   ]
  },
  {
   "cell_type": "code",
   "execution_count": 89,
   "id": "fa6e527b-76f1-4356-b778-19974d031a2e",
   "metadata": {},
   "outputs": [],
   "source": [
    "df.insert(0,\"gene_id\", gene_id)\n",
    "df.insert(1,\"transcript_id\", transcript_id)"
   ]
  },
  {
   "cell_type": "code",
   "execution_count": 90,
   "id": "55459cac-6e36-4f9c-b287-e52e517f256c",
   "metadata": {},
   "outputs": [
    {
     "data": {
      "text/html": [
       "<div>\n",
       "<style scoped>\n",
       "    .dataframe tbody tr th:only-of-type {\n",
       "        vertical-align: middle;\n",
       "    }\n",
       "\n",
       "    .dataframe tbody tr th {\n",
       "        vertical-align: top;\n",
       "    }\n",
       "\n",
       "    .dataframe thead th {\n",
       "        text-align: right;\n",
       "    }\n",
       "</style>\n",
       "<table border=\"1\" class=\"dataframe\">\n",
       "  <thead>\n",
       "    <tr style=\"text-align: right;\">\n",
       "      <th></th>\n",
       "      <th>gene_id</th>\n",
       "      <th>transcript_id</th>\n",
       "      <th>0</th>\n",
       "      <th>1</th>\n",
       "      <th>2</th>\n",
       "      <th>3</th>\n",
       "      <th>4</th>\n",
       "      <th>5</th>\n",
       "      <th>6</th>\n",
       "      <th>7</th>\n",
       "      <th>8</th>\n",
       "      <th>9</th>\n",
       "      <th>10</th>\n",
       "      <th>11</th>\n",
       "      <th>12</th>\n",
       "      <th>13</th>\n",
       "    </tr>\n",
       "  </thead>\n",
       "  <tbody>\n",
       "    <tr>\n",
       "      <th>0</th>\n",
       "      <td>a</td>\n",
       "      <td>Fra</td>\n",
       "      <td>0</td>\n",
       "      <td>0</td>\n",
       "      <td>0</td>\n",
       "      <td>3.0</td>\n",
       "      <td>5.0</td>\n",
       "      <td>0.0</td>\n",
       "      <td>0.0</td>\n",
       "      <td>NaN</td>\n",
       "      <td>NaN</td>\n",
       "      <td>NaN</td>\n",
       "      <td>NaN</td>\n",
       "      <td>NaN</td>\n",
       "      <td>NaN</td>\n",
       "      <td>NaN</td>\n",
       "    </tr>\n",
       "    <tr>\n",
       "      <th>1</th>\n",
       "      <td>b</td>\n",
       "      <td>Frb</td>\n",
       "      <td>0</td>\n",
       "      <td>3</td>\n",
       "      <td>0</td>\n",
       "      <td>NaN</td>\n",
       "      <td>NaN</td>\n",
       "      <td>NaN</td>\n",
       "      <td>NaN</td>\n",
       "      <td>NaN</td>\n",
       "      <td>NaN</td>\n",
       "      <td>NaN</td>\n",
       "      <td>NaN</td>\n",
       "      <td>NaN</td>\n",
       "      <td>NaN</td>\n",
       "      <td>NaN</td>\n",
       "    </tr>\n",
       "    <tr>\n",
       "      <th>2</th>\n",
       "      <td>c</td>\n",
       "      <td>Frc</td>\n",
       "      <td>4</td>\n",
       "      <td>7</td>\n",
       "      <td>9</td>\n",
       "      <td>0.0</td>\n",
       "      <td>0.0</td>\n",
       "      <td>0.0</td>\n",
       "      <td>0.0</td>\n",
       "      <td>5.0</td>\n",
       "      <td>6.0</td>\n",
       "      <td>8.0</td>\n",
       "      <td>4.0</td>\n",
       "      <td>6.0</td>\n",
       "      <td>0.0</td>\n",
       "      <td>0.0</td>\n",
       "    </tr>\n",
       "  </tbody>\n",
       "</table>\n",
       "</div>"
      ],
      "text/plain": [
       "  gene_id transcript_id  0  1  2    3    4    5    6    7    8    9   10   11  \\\n",
       "0       a           Fra  0  0  0  3.0  5.0  0.0  0.0  NaN  NaN  NaN  NaN  NaN   \n",
       "1       b           Frb  0  3  0  NaN  NaN  NaN  NaN  NaN  NaN  NaN  NaN  NaN   \n",
       "2       c           Frc  4  7  9  0.0  0.0  0.0  0.0  5.0  6.0  8.0  4.0  6.0   \n",
       "\n",
       "    12   13  \n",
       "0  NaN  NaN  \n",
       "1  NaN  NaN  \n",
       "2  0.0  0.0  "
      ]
     },
     "execution_count": 90,
     "metadata": {},
     "output_type": "execute_result"
    }
   ],
   "source": [
    "df.to_csv"
   ]
  },
  {
   "cell_type": "code",
   "execution_count": null,
   "id": "0ce781b3-3401-4251-9edb-e1b2a29511d8",
   "metadata": {},
   "outputs": [],
   "source": []
  }
 ],
 "metadata": {
  "kernelspec": {
   "display_name": "Python 3 (ipykernel)",
   "language": "python",
   "name": "python3"
  },
  "language_info": {
   "codemirror_mode": {
    "name": "ipython",
    "version": 3
   },
   "file_extension": ".py",
   "mimetype": "text/x-python",
   "name": "python",
   "nbconvert_exporter": "python",
   "pygments_lexer": "ipython3",
   "version": "3.8.10"
  }
 },
 "nbformat": 4,
 "nbformat_minor": 5
}
