{
 "cells": [
  {
   "cell_type": "markdown",
   "id": "90d3509e-0126-4702-a0db-82df3cb97c04",
   "metadata": {},
   "source": [
    "### Step 1\n",
    "Activate the Plastid conda environment and open up a Jupyter Lab session (alternatively, a python file can be run in this python environment)\n",
    "\n",
    "### Step 2\n",
    "Load in all of the necessary Python packages."
   ]
  },
  {
   "cell_type": "code",
   "execution_count": 1,
   "id": "76f57fce-39f5-42a0-aa87-f40caf55e894",
   "metadata": {},
   "outputs": [],
   "source": [
    "# Let the program know where to find your tools file.\n",
    "import sys\n",
    "sys.path.append('/home/keeganfl/Desktop/Work_Fall_2021/Fall_2021_Work_journal/tools/')"
   ]
  },
  {
   "cell_type": "code",
   "execution_count": 2,
   "id": "e53df0b7-e3ea-4657-800b-9da1bb416b30",
   "metadata": {},
   "outputs": [],
   "source": [
    "# Load up the necessary packages \n",
    "from plastid import BAMGenomeArray, VariableFivePrimeMapFactory, \\\n",
    "                        GTF2_TranscriptAssembler, GFF3_TranscriptAssembler, \\\n",
    "                        Transcript, ThreePrimeMapFactory\n",
    "import numpy as np\n",
    "import os\n",
    "from Bio import SeqIO\n",
    "import numpy\n",
    "import math\n",
    "import pandas as pd\n",
    "from plastid.plotting.plots import *\n",
    "from scipy import stats\n",
    "from scipy.stats import kstwo\n",
    "from statsmodels.stats.proportion import proportions_ztest\n",
    "import keegan_analysis_tools as kat\n",
    "from statsmodels.nonparametric.smoothers_lowess import lowess\n",
    "import warnings\n",
    "import matplotlib.pyplot as plt\n",
    "from matplotlib.pyplot import figure\n",
    "%matplotlib inline\n",
    "import csv\n",
    "from scipy.sparse.linalg import lsqr\n",
    "from tqdm import tqdm\n",
    "from multiprocess import Pool\n",
    "import copy\n",
    "import seaborn as sns"
   ]
  },
  {
   "cell_type": "code",
   "execution_count": 3,
   "id": "43e42030-a90b-44a9-8916-b21539f8017a",
   "metadata": {},
   "outputs": [],
   "source": [
    "# Define the path to our data files and the path we want to save our outputs in. \n",
    "target_path = '/home/keeganfl/Desktop/Work_Fall_2021/data_tables/Fmr1_targets/'\n",
    "ks_mmus_path = '/home/keeganfl/Desktop/Work_Fall_2021/data_tables/KS_stats/mmus/'\n",
    "save_path = '/home/keeganfl/Desktop/Work_Fall_2021/Presentation_figures/'\n",
    "samp_num = '2'"
   ]
  },
  {
   "cell_type": "markdown",
   "id": "d8443e06-0383-4ccf-8ba9-2280d3374f98",
   "metadata": {},
   "source": [
    "### Step 3\n",
    "Load up a table containing a list of targets for your mutant gene and load up the KS table you created during the previous section using pandas pd.read_csv()."
   ]
  },
  {
   "cell_type": "code",
   "execution_count": 4,
   "id": "e91c6faa-e55b-447e-956c-11505b899411",
   "metadata": {},
   "outputs": [],
   "source": [
    "# Load up the target gene names. \n",
    "Fmr1_mmus_table = pd.read_csv(target_path + 'Fmr1_mmus_downreg_genes.txt', names = [\"gene_name\"])\n",
    "\n",
    "# Load up the tables of KS statistics\n",
    "df_mmus = pd.read_csv(ks_mmus_path + \"ks_table_\" + samp_num + \".csv\")"
   ]
  },
  {
   "cell_type": "markdown",
   "id": "6505c85f-3e7d-4615-8c4f-02fb0eb36c55",
   "metadata": {
    "tags": []
   },
   "source": [
    "### Step 4\n",
    "Merge the table of KS statistics and the table of targets into a new table using pd.merge()"
   ]
  },
  {
   "cell_type": "code",
   "execution_count": 5,
   "id": "968af399-f698-416c-8770-fd4fb9547e45",
   "metadata": {},
   "outputs": [],
   "source": [
    "# Merge the ecoli ks table with the list of gene names\n",
    "Fmr1_mmus_ks_table = pd.merge(df_mmus, Fmr1_mmus_table, how='inner', right_on='gene_name', left_on='gene_ID')"
   ]
  },
  {
   "cell_type": "markdown",
   "id": "cd430304-d2fb-4611-af0a-4d0e098865e4",
   "metadata": {},
   "source": [
    "### Step 5\n",
    "Clean up your new table by removing any duplicates that may have been caused by multiple transcripts having the same gene name. "
   ]
  },
  {
   "cell_type": "code",
   "execution_count": 6,
   "id": "2022ae1f-4738-4189-b243-3ea898510de8",
   "metadata": {},
   "outputs": [],
   "source": [
    "# Keep only one copy of each gene in the Fmr1 table. \n",
    "Fmr1_mmus_ks_table.sort_values(\"gene_name\", inplace = True)\n",
    "Fmr1_mmus_ks_table.drop_duplicates(subset =\"gene_name\",keep = \"first\", inplace = True) "
   ]
  },
  {
   "cell_type": "markdown",
   "id": "3cd9e17c-2854-4f73-8afe-42740507dbbb",
   "metadata": {},
   "source": [
    "### Step 6\n",
    "Look at the KS statistic from the control mutant comparisons for all genes and for just the Fmr1 targets. This will help you get an initial sense for how you want to divide up the low, medium, and high KS fractions. For both the merged table and the original table of KS statistics, sort the KS values from smallest to largest using the sorted() function and then plot them as a scatter plot."
   ]
  },
  {
   "cell_type": "code",
   "execution_count": 7,
   "id": "6b1b6e6d-68f6-4f07-b056-c70f73829a0d",
   "metadata": {},
   "outputs": [
    {
     "data": {
      "text/plain": [
       "(0.0, 0.7)"
      ]
     },
     "execution_count": 7,
     "metadata": {},
     "output_type": "execute_result"
    },
    {
     "data": {
      "image/png": "[encoded data removed]",
      "text/plain": [
       "<Figure size 936x432 with 1 Axes>"
      ]
     },
     "metadata": {
      "needs_background": "light"
     },
     "output_type": "display_data"
    },
    {
     "data": {
      "image/png": "[encoded data removed]",
      "text/plain": [
       "<Figure size 936x432 with 1 Axes>"
      ]
     },
     "metadata": {
      "needs_background": "light"
     },
     "output_type": "display_data"
    }
   ],
   "source": [
    "# Plot the KS values for each gene from lowest to highest. \n",
    "figure(figsize = (13,6))\n",
    "plt.scatter(list(range(len(df_mmus[\"ks_stat\"]))), sorted(df_mmus[\"ks_stat\"]), s=6, alpha = 0.4)\n",
    "plt.ylabel(\"KS_statistic\")\n",
    "plt.xlabel(\"Rank\")\n",
    "plt.title(\"KS statistic of all fly genes\")\n",
    "plt.ylim(0,0.7)\n",
    "plt.show\n",
    "figure(figsize = (13,6))\n",
    "plt.scatter(list(range(len(Fmr1_mmus_ks_table[\"ks_stat\"]))), sorted(Fmr1_mmus_ks_table[\"ks_stat\"]), s=12, alpha = 0.7)\n",
    "plt.ylabel(\"KS_statistic\")\n",
    "plt.xlabel(\"Rank\")\n",
    "plt.title(\"KS statistic of all Fmr1 targets\")\n",
    "plt.ylim(0,0.7)"
   ]
  },
  {
   "cell_type": "code",
   "execution_count": 8,
   "id": "5f79ca14-bd9a-4cf0-9909-83538665e452",
   "metadata": {},
   "outputs": [
    {
     "name": "stdout",
     "output_type": "stream",
     "text": [
      "mean KS statistic of Fmr1 target genes = 0.05875790095272582\n",
      "mean KS statistic of all D.mel genes = 0.07277019578897156\n"
     ]
    }
   ],
   "source": [
    "# print out the mean of all polyprolne motif containing genes (efp targets)\n",
    "print(\"mean KS statistic of Fmr1 target genes = \" + str(np.mean(Fmr1_mmus_ks_table.ks_stat)))\n",
    "print(\"mean KS statistic of all D.mel genes = \" + str(np.mean(df_mmus.ks_stat)))"
   ]
  },
  {
   "cell_type": "markdown",
   "id": "b6f79bb7-f252-4611-a960-7d02ff07bb6e",
   "metadata": {},
   "source": [
    "### Step 7\n",
    "Calculate the upper KS statistic by taking the average KS stat of the top 10% of transcripts with the highest KS stat. transcripts that have a higher KS statistic then the upper KS statistic will be within the high KS fraction. Then we choose the number of fractions we would like to observe. Then we use the determine_enrichment() function to determine the ratio between the targets and the total genes within each KS fraction."
   ]
  },
  {
   "cell_type": "code",
   "execution_count": 9,
   "id": "65fc1100-ff81-427f-a2f3-836bcd7931e8",
   "metadata": {},
   "outputs": [],
   "source": [
    "# Calculate the upper KS value as the average of the 10% of transcripts with the highest KS stat. \n",
    "# The upper KS fraction will include all of the transcripts with a KS score above this value.\n",
    "perc = int(len(df_mmus)*0.9)\n",
    "upper_ks = np.mean(sorted(df_mmus.ks_stat)[perc:-1])\n",
    "\n",
    "# Calculate the proportion of genes which are Fmr1 targets in a high, medium, and low KS fraction\n",
    "N_cats = 2\n",
    "ratios_mmus, sections_mmus = kat.determine_enrichment(Fmr1_mmus_ks_table, df_mmus, upper_ks, N_cats)"
   ]
  },
  {
   "cell_type": "markdown",
   "id": "3db6ccd5-5fca-4978-9150-f80c6b1e39f0",
   "metadata": {},
   "source": [
    "### Step 8\n",
    "Use matplotlib.pyplot.bar() function to create a series of barplots that show the observed percentage of genes that are targets in each fraction. Then you can draw a a line through this barplot using matplotlib.pyplot.plot() that shows the expected percentage of genes that are targets if there is no enrichment.  "
   ]
  },
  {
   "cell_type": "code",
   "execution_count": 10,
   "id": "f33da3ef-dc11-42b5-bd77-1bc3ba21e415",
   "metadata": {},
   "outputs": [
    {
     "name": "stderr",
     "output_type": "stream",
     "text": [
      "---------------------------------------------------------------------------\n",
      "UserWarning\n",
      "FixedFormatter should only be used together with FixedLocator\n",
      "in /tmp/ipykernel_170991/4050761934.py, line 16:\n",
      "\n",
      "14 axes = plt.gca()\n",
      "15 axes.yaxis.grid(linestyle = \"--\")\n",
      "16 axes.set_yticklabels([0,2,4,6,8,10])\n",
      "17 plt.text(3.45, expected*0.96, \"All proteins\", fontsize = 10)\n",
      "\n",
      "---------------------------------------------------------------------------\n"
     ]
    },
    {
     "data": {
      "image/png": "[encoded data removed]",
      "text/plain": [
       "<Figure size 468x396 with 1 Axes>"
      ]
     },
     "metadata": {
      "needs_background": "light"
     },
     "output_type": "display_data"
    }
   ],
   "source": [
    "# Calculate the expected proportion of targets\n",
    "expected = len(Fmr1_mmus_ks_table.ks_stat)/len(df_mmus.ks_stat)\n",
    "\n",
    "# Create a bar plot that shows the proportion of genes which are Larp1 targets in each KS fraction.\n",
    "figure(figsize = (6.5,5.5))\n",
    "plt.bar([1,2,3],ratios_mmus, width = 0.5,\n",
    "        tick_label = [\"Low KS Fraction\",\"Medium KS Fraction\",\"High KS Fraction\"],\n",
    "       color = [\"g\", 'b', 'm'], edgecolor = 'black')\n",
    "plt.xticks(fontsize = 13)\n",
    "plt.xlim(0.6,3.4)\n",
    "plt.ylim(0, 0.1)\n",
    "plt.ylabel(\"% Fmr1 targets (CLIP-seq)\", fontsize = 13)\n",
    "plt.title(\"Fmr1 KO vs Control (Mouse cortex)\", fontsize = 14)\n",
    "axes = plt.gca()\n",
    "axes.yaxis.grid(linestyle = \"--\")\n",
    "axes.set_yticklabels([0,2,4,6,8,10])\n",
    "plt.text(3.45, expected*0.96, \"All proteins\", fontsize = 10)\n",
    "\n",
    "# Create a line showing the expected proportion of targets. \n",
    "plt.plot([0,6],[expected,expected], color = \"black\", linestyle = \"--\")\n",
    "plt.savefig(save_path + 'mmus_proportions.pdf', bbox_inches = \"tight\")"
   ]
  },
  {
   "cell_type": "markdown",
   "id": "3af0d3b1-7b08-4dc9-8d38-24219f8dce91",
   "metadata": {},
   "source": [
    "### Step 9\n",
    "Now we want to perform a proportion Z-test to determine if the difference between our observed and expected target proportions are significant. We can use the det_p_values() function to automatically calculate these P-values for each of the KS fractions."
   ]
  },
  {
   "cell_type": "code",
   "execution_count": 11,
   "id": "c5199d42-f427-4fd2-ad25-8990feba4938",
   "metadata": {},
   "outputs": [
    {
     "data": {
      "text/plain": [
       "[0.13455713608314876, 0.026982702840113275, 0.008167191720910764]"
      ]
     },
     "execution_count": 11,
     "metadata": {},
     "output_type": "execute_result"
    }
   ],
   "source": [
    "# determine if the difference betwqeen the expected proportion of targets \n",
    "# and the observed proportion of targets is significant\n",
    "kat.det_p_values(Fmr1_mmus_ks_table, df_mmus, sections_mmus)"
   ]
  },
  {
   "cell_type": "markdown",
   "id": "39625ec8-b2bd-48d9-b4e3-8adfa52204d9",
   "metadata": {},
   "source": [
    "## Looking at the kernel density estimates"
   ]
  },
  {
   "cell_type": "code",
   "execution_count": 12,
   "id": "22018ba5-c7e7-4bec-beec-ce92967cf194",
   "metadata": {},
   "outputs": [
    {
     "data": {
      "text/plain": [
       "<matplotlib.legend.Legend at 0x7fe2065353a0>"
      ]
     },
     "execution_count": 12,
     "metadata": {},
     "output_type": "execute_result"
    },
    {
     "data": {
      "image/png": "[encoded data removed]",
      "text/plain": [
       "<Figure size 720x432 with 1 Axes>"
      ]
     },
     "metadata": {
      "needs_background": "light"
     },
     "output_type": "display_data"
    }
   ],
   "source": [
    "figure(figsize = (10,6))\n",
    "sns.kdeplot(df_mmus.ks_stat, label = \"All mouse genes\")\n",
    "sns.kdeplot(Fmr1_mmus_ks_table.ks_stat, label = \"Fmr1 targets\")\n",
    "plt.ylabel(\"Density\")\n",
    "plt.xlabel(\"KS Statistic\")\n",
    "plt.title(\"Density plot comparison for Fmr1 mutants and all genes\")\n",
    "plt.legend()"
   ]
  },
  {
   "cell_type": "code",
   "execution_count": 13,
   "id": "64537f5d-7590-4fad-85e4-8ad747ead533",
   "metadata": {},
   "outputs": [
    {
     "data": {
      "text/plain": [
       "['Abhd2',\n",
       " 'Add2',\n",
       " 'Adgrb1',\n",
       " 'Afg3l2',\n",
       " 'Ak5',\n",
       " 'Arhgap32',\n",
       " 'Arhgef2',\n",
       " 'Arhgef7',\n",
       " 'Atp2b2',\n",
       " 'Atxn2',\n",
       " 'Atxn2l',\n",
       " 'Brd4',\n",
       " 'C2cd2l',\n",
       " 'Camk2a',\n",
       " 'Camta1',\n",
       " 'Celsr2',\n",
       " 'Clip3',\n",
       " 'Cplx2',\n",
       " 'Crmp1',\n",
       " 'Ctnnd2',\n",
       " 'Dctn1',\n",
       " 'Dgcr2',\n",
       " 'Disp2',\n",
       " 'Dlg3',\n",
       " 'Eif3a',\n",
       " 'Eif3b',\n",
       " 'Epb41l1',\n",
       " 'Fam117b',\n",
       " 'Fam50a',\n",
       " 'Fasn',\n",
       " 'Fnbp1',\n",
       " 'Foxg1',\n",
       " 'H1f10',\n",
       " 'Hap1',\n",
       " 'Hmg20a',\n",
       " 'Hnrnpa3',\n",
       " 'Hnrnpc',\n",
       " 'Hnrnpul2',\n",
       " 'Itpr1',\n",
       " 'Kcnk9',\n",
       " 'Khdrbs1',\n",
       " 'Khsrp',\n",
       " 'Kif1a',\n",
       " 'Kif5a',\n",
       " 'Kif5c',\n",
       " 'Lmtk3',\n",
       " 'Lrp1',\n",
       " 'Map1a',\n",
       " 'Map1b',\n",
       " 'Map6',\n",
       " 'Map7d1',\n",
       " 'Mapk8ip3',\n",
       " 'Mast3',\n",
       " 'Mecp2',\n",
       " 'Myt1l',\n",
       " 'Nfix',\n",
       " 'Nisch',\n",
       " 'Nomo1',\n",
       " 'Nova2',\n",
       " 'Nrcam',\n",
       " 'Pcdh1',\n",
       " 'Polr2m',\n",
       " 'Prepl',\n",
       " 'Prkcg',\n",
       " 'Prrc2b',\n",
       " 'Prrc2c',\n",
       " 'Prrt1',\n",
       " 'Psmc2',\n",
       " 'Ptms',\n",
       " 'Pum1',\n",
       " 'R3hdm2',\n",
       " 'Rbfox3',\n",
       " 'Rims1',\n",
       " 'Rusc2',\n",
       " 'Safb',\n",
       " 'Satb1',\n",
       " 'Sez6l',\n",
       " 'Sh3bp5',\n",
       " 'Shisa7',\n",
       " 'Sik3',\n",
       " 'Slc12a5',\n",
       " 'Slc32a1',\n",
       " 'Slc38a1',\n",
       " 'Slc38a2',\n",
       " 'Slc7a8',\n",
       " 'Sox10',\n",
       " 'Spag9',\n",
       " 'Sumo1',\n",
       " 'Sv2a',\n",
       " 'Syn1',\n",
       " 'Syne1',\n",
       " 'Synpo',\n",
       " 'Tceal5',\n",
       " 'Tnr',\n",
       " 'Trim44',\n",
       " 'Tspyl3',\n",
       " 'Tubb4a',\n",
       " 'Ube2o',\n",
       " 'Vamp2',\n",
       " 'Wbp11',\n",
       " 'Wdr6',\n",
       " 'Ywhag',\n",
       " 'Zfr']"
      ]
     },
     "execution_count": 13,
     "metadata": {},
     "output_type": "execute_result"
    }
   ],
   "source": [
    "list(Fmr1_mmus_ks_table.gene_ID)"
   ]
  },
  {
   "cell_type": "code",
   "execution_count": null,
   "id": "77da8185-21b0-47c1-8525-3e052a84a848",
   "metadata": {},
   "outputs": [],
   "source": []
  }
 ],
 "metadata": {
  "kernelspec": {
   "display_name": "Python 3 (ipykernel)",
   "language": "python",
   "name": "python3"
  },
  "language_info": {
   "codemirror_mode": {
    "name": "ipython",
    "version": 3
   },
   "file_extension": ".py",
   "mimetype": "text/x-python",
   "name": "python",
   "nbconvert_exporter": "python",
   "pygments_lexer": "ipython3",
   "version": "3.8.12"
  }
 },
 "nbformat": 4,
 "nbformat_minor": 5
}
