{
 "cells": [
  {
   "cell_type": "markdown",
   "id": "2a97f045-652f-47d9-a4fb-c8284b3ed770",
   "metadata": {},
   "source": [
    "Something has to be wrong with what plastid is doing here, the total counts for ribosome profiling reads from that table are greater then the total number of counts for the original data itself! The whole thing seems... backwards. And the RNA seq counts from the table are like, 30 times smaller than the one from the dataset?"
   ]
  },
  {
   "cell_type": "markdown",
   "id": "1c0f8df2-b15d-4de9-a2a0-e57302b44593",
   "metadata": {},
   "source": [
    "## Importing packages and defining the path"
   ]
  },
  {
   "cell_type": "code",
   "execution_count": 1,
   "id": "85970a1e-58be-489c-bdb1-fd1c8e83cefb",
   "metadata": {},
   "outputs": [],
   "source": [
    "import sys\n",
    "sys.path.append('/home/keeganfl/Desktop/Work_Fall_2021/Fall_2021_Work_journal/tools/')"
   ]
  },
  {
   "cell_type": "code",
   "execution_count": 2,
   "id": "3701f454-d539-44ef-bb00-27718993905c",
   "metadata": {},
   "outputs": [],
   "source": [
    "# import plastid\n",
    "# data structure for mapping read alignments to genomic positions\n",
    "from plastid import BAMGenomeArray, GenomeArray, VariableFivePrimeMapFactory, \\\n",
    "                        GTF2_TranscriptAssembler, GFF3_TranscriptAssembler, \\\n",
    "                        Transcript, ThreePrimeMapFactory, CenterMapFactory\n",
    "import plastid\n",
    "from plastid.plotting.plots import *\n",
    "import numpy as np\n",
    "import os\n",
    "from Bio import SeqIO\n",
    "import numpy\n",
    "import math\n",
    "import pandas as pd\n",
    "from scipy import stats\n",
    "import keegan_analysis_tools as kat\n",
    "from statsmodels.nonparametric.smoothers_lowess import lowess\n",
    "import warnings\n",
    "import matplotlib.pyplot as plt\n",
    "%matplotlib inline\n",
    "import csv\n",
    "from scipy.sparse.linalg import lsqr"
   ]
  },
  {
   "cell_type": "code",
   "execution_count": 5,
   "id": "0dbc14a5-12ca-4bd5-ac08-ca4df78ad0fb",
   "metadata": {},
   "outputs": [],
   "source": [
    "# Define the path to our Bam files\n",
    "data_path = \"/home/keeganfl/Desktop/Work_Fall_2021/genomes_&_samples/dmel/\"\n",
    "save_path = \"/home/keeganfl/Desktop/Work_Fall_2021/data_tables/TE_tables/dmel/\"\n",
    "p_site_path = \"/home/keeganfl/Desktop/Work_Fall_2021/data_tables/p-site_offsets/dmel/\"\n",
    "gtf_name = \"Drosophila_melanogaster.BDGP6.32.103.gtf\"\n",
    "mutation = 'control'\n",
    "samp_num = '3'\n",
    "special = \"fc\""
   ]
  },
  {
   "cell_type": "markdown",
   "id": "9f5f9a09-7592-42f8-810a-cc2800d720b0",
   "metadata": {},
   "source": [
    "## Loading in the data"
   ]
  },
  {
   "cell_type": "code",
   "execution_count": 6,
   "id": "47ce7229-65ab-44a8-b8e5-6ccaf9fe020a",
   "metadata": {
    "tags": []
   },
   "outputs": [],
   "source": [
    "# Load up genome annotation as a list of transcript objects\n",
    "gtf_reads=list(GTF2_TranscriptAssembler(open(data_path + gtf_name),return_type=Transcript))"
   ]
  },
  {
   "cell_type": "code",
   "execution_count": 7,
   "id": "ce6a3f16-521b-4604-8fb5-57569da65967",
   "metadata": {},
   "outputs": [],
   "source": [
    "# Open the read alignments, storing each dataset in a BAMGenomeArray:\n",
    "my_datasets = { \"ribosome_profiling\" : data_path + mutation +\"_RPF_\" + samp_num + \"_Aligned.sortedByCoord.out.bam\"\n",
    "              }\n",
    "\n",
    "my_datasets = { K : BAMGenomeArray(V) for K,V in my_datasets.items() }"
   ]
  },
  {
   "cell_type": "code",
   "execution_count": 8,
   "id": "d190b092-5c84-401d-aa86-c19dd92adfa8",
   "metadata": {},
   "outputs": [
    {
     "name": "stdout",
     "output_type": "stream",
     "text": [
      "27499\n",
      "27500\n",
      "27501\n",
      "27502\n",
      "27503\n"
     ]
    }
   ],
   "source": [
    "for tr in gtf_reads:\n",
    "    if tr.attr[\"transcript_biotype\"] == \"protein_coding\":\n",
    "        if tr.attr[\"gene_name\"] == \"sqd\":\n",
    "            print(gtf_reads.index(tr))\n",
    "            my_transcript = tr"
   ]
  },
  {
   "cell_type": "code",
   "execution_count": 9,
   "id": "8f0ba4d0-bcbf-4281-9422-0b9687752475",
   "metadata": {},
   "outputs": [
    {
     "ename": "NameError",
     "evalue": "name 'RPF_name' is not defined",
     "output_type": "error",
     "traceback": [
      "\u001b[0;31m---------------------------------------------------------------------------\u001b[0m",
      "\u001b[0;31mNameError\u001b[0m                                 Traceback (most recent call last)",
      "\u001b[0;32m/tmp/ipykernel_143081/4162125466.py\u001b[0m in \u001b[0;36m<module>\u001b[0;34m\u001b[0m\n\u001b[1;32m      1\u001b[0m \u001b[0;31m# Load in the table of P-site offsets.\u001b[0m\u001b[0;34m\u001b[0m\u001b[0;34m\u001b[0m\u001b[0;34m\u001b[0m\u001b[0m\n\u001b[0;32m----> 2\u001b[0;31m \u001b[0mp_offsets\u001b[0m\u001b[0;34m=\u001b[0m\u001b[0mpd\u001b[0m\u001b[0;34m.\u001b[0m\u001b[0mread_csv\u001b[0m\u001b[0;34m(\u001b[0m\u001b[0mp_site_path\u001b[0m \u001b[0;34m+\u001b[0m \u001b[0mRPF_name\u001b[0m \u001b[0;34m+\u001b[0m \u001b[0;34m\"_Aligned.toTranscriptome.out_p-site-offsets\"\u001b[0m\u001b[0;34m,\u001b[0m \u001b[0msep\u001b[0m\u001b[0;34m=\u001b[0m\u001b[0;34m\"\\t\"\u001b[0m\u001b[0;34m)\u001b[0m\u001b[0;34m\u001b[0m\u001b[0;34m\u001b[0m\u001b[0m\n\u001b[0m\u001b[1;32m      3\u001b[0m \u001b[0;34m\u001b[0m\u001b[0m\n\u001b[1;32m      4\u001b[0m \u001b[0;31m# Map the ribosome profiling alignments to the p-site.\u001b[0m\u001b[0;34m\u001b[0m\u001b[0;34m\u001b[0m\u001b[0;34m\u001b[0m\u001b[0m\n\u001b[1;32m      5\u001b[0m \u001b[0mmy_datasets\u001b[0m\u001b[0;34m[\u001b[0m\u001b[0;34m\"ribosome_profiling\"\u001b[0m\u001b[0;34m]\u001b[0m\u001b[0;34m.\u001b[0m\u001b[0mset_mapping\u001b[0m\u001b[0;34m(\u001b[0m\u001b[0mkat\u001b[0m\u001b[0;34m.\u001b[0m\u001b[0mVariableThreePrimeMapFactory\u001b[0m\u001b[0;34m(\u001b[0m\u001b[0mp_offsets\u001b[0m\u001b[0;34m=\u001b[0m\u001b[0mp_offsets\u001b[0m\u001b[0;34m)\u001b[0m\u001b[0;34m)\u001b[0m\u001b[0;34m\u001b[0m\u001b[0;34m\u001b[0m\u001b[0m\n",
      "\u001b[0;31mNameError\u001b[0m: name 'RPF_name' is not defined"
     ]
    }
   ],
   "source": [
    "# Load in the table of P-site offsets. \n",
    "p_offsets=pd.read_csv(p_site_path + RPF_name + \"_Aligned.toTranscriptome.out_p-site-offsets\", sep=\"\\t\")\n",
    "\n",
    "# Map the ribosome profiling alignments to the p-site. \n",
    "my_datasets[\"ribosome_profiling\"].set_mapping(kat.VariableThreePrimeMapFactory(p_offsets=p_offsets))"
   ]
  },
  {
   "cell_type": "code",
   "execution_count": null,
   "id": "941e2ea7-d7ae-4497-893c-2e9d24f84522",
   "metadata": {
    "tags": []
   },
   "outputs": [],
   "source": [
    "# we will calculate both total counts and RPKM\n",
    "metrics = (\"counts\",\"rpk\",\"lengths\")\n",
    "\n",
    "# create an empty list for each sample and metric\n",
    "my_data = { \"%s_%s\" % (SAMPLE,METRIC) : copy.deepcopy([])\\\n",
    "                                                  for SAMPLE in my_datasets.keys()\\\n",
    "                                                  for METRIC in metrics }\n",
    "\n",
    "# add a list to our dictionary of lists to store transcript IDs\n",
    "my_data[\"transcript_ID\"] = []\n",
    "my_data[\"gene_name\"] = []\n",
    "my_data[\"gene_ID\"] = []\n",
    "\n",
    "for transcript in gtf_reads:\n",
    "        \n",
    "    # First, save ID of transcript we are evaluating\n",
    "    if transcript.attr[\"transcript_biotype\"] == \"protein_coding\":\n",
    "        my_data[\"transcript_ID\"].append(transcript.get_name())\n",
    "        my_data[\"gene_ID\"].append(transcript.attr[\"gene_id\"])\n",
    "        my_data[\"gene_name\"].append(transcript.attr[\"gene_name\"])\n",
    "\n",
    "        # Iterate over each sample\n",
    "        for sample_name, sample_data in my_datasets.items():\n",
    "            # transcript.get_counts() fetches a list of counts at each position\n",
    "            # here we just want the sum\n",
    "            counts = sum(transcript.get_counts(sample_data))\n",
    "            rpk   = float(counts)/(transcript.length/1000)\n",
    "            lengths = transcript.length\n",
    "            my_data[\"%s_counts\" % (sample_name)].append(counts)\n",
    "            my_data[\"%s_rpk\"   % (sample_name)].append(rpk)\n",
    "            my_data[\"%s_lengths\" % (sample_name)].append(lengths)"
   ]
  },
  {
   "cell_type": "code",
   "execution_count": null,
   "id": "8c254b28-34bd-4d35-9a87-bdfc30bd31ad",
   "metadata": {},
   "outputs": [],
   "source": [
    "# convert to Dataframe\n",
    "df = pd.DataFrame(my_data)"
   ]
  },
  {
   "cell_type": "code",
   "execution_count": 593,
   "id": "9957b829-7dfb-4f2e-bdd6-ecbae0e93b40",
   "metadata": {},
   "outputs": [
    {
     "data": {
      "text/plain": [
       "23932"
      ]
     },
     "execution_count": 593,
     "metadata": {},
     "output_type": "execute_result"
    }
   ],
   "source": [
    "len(feature_counts)"
   ]
  },
  {
   "cell_type": "markdown",
   "id": "c8ab4890-a4ca-4756-a34a-9db7c90ac0f5",
   "metadata": {},
   "source": [
    "## Loading RNA sequencing data from feature counts"
   ]
  },
  {
   "cell_type": "code",
   "execution_count": 594,
   "id": "4159c977-cce1-4d96-bdb5-c4de5ba5f758",
   "metadata": {},
   "outputs": [],
   "source": [
    "feature_counts = pd.read_csv('/home/keeganfl/Desktop/Work_Fall_2021/counts_control_RNA_3_original.txt', delimiter = \"\\t\", comment='#')"
   ]
  },
  {
   "cell_type": "code",
   "execution_count": 595,
   "id": "da54719c-24e3-44b0-a6ac-caceb3a9ad9f",
   "metadata": {},
   "outputs": [],
   "source": [
    "cols = [\"Geneid\",\"Length\",\"control_RNA_3_Aligned.sortedByCoord.out.bam\"]\n",
    "feature_counts = feature_counts[cols]"
   ]
  },
  {
   "cell_type": "code",
   "execution_count": 596,
   "id": "35583471-8c11-4626-9715-70a59ceb0c13",
   "metadata": {},
   "outputs": [],
   "source": [
    "feature_counts.rename(columns = {\"control_RNA_3_Aligned.sortedByCoord.out.bam\" : \"RNA-seq_counts\",\n",
    "                                \"Length\" : \"RNA-seq_lengths\", \"Geneid\" : \"gene_ID\"}, inplace = True)"
   ]
  },
  {
   "cell_type": "code",
   "execution_count": 597,
   "id": "7f56a34f-f2bc-424d-b728-abd00746158e",
   "metadata": {},
   "outputs": [],
   "source": [
    "df_merged = pd.merge(feature_counts, df, how = \"inner\", on = \"gene_ID\")"
   ]
  },
  {
   "cell_type": "code",
   "execution_count": 598,
   "id": "3d1807e6-c12d-4035-ad58-c1fe800cf428",
   "metadata": {},
   "outputs": [
    {
     "data": {
      "text/html": [
       "<div>\n",
       "<style scoped>\n",
       "    .dataframe tbody tr th:only-of-type {\n",
       "        vertical-align: middle;\n",
       "    }\n",
       "\n",
       "    .dataframe tbody tr th {\n",
       "        vertical-align: top;\n",
       "    }\n",
       "\n",
       "    .dataframe thead th {\n",
       "        text-align: right;\n",
       "    }\n",
       "</style>\n",
       "<table border=\"1\" class=\"dataframe\">\n",
       "  <thead>\n",
       "    <tr style=\"text-align: right;\">\n",
       "      <th></th>\n",
       "      <th>gene_ID</th>\n",
       "      <th>RNA-seq_lengths</th>\n",
       "      <th>RNA-seq_counts</th>\n",
       "      <th>ribosome_profiling_counts</th>\n",
       "      <th>ribosome_profiling_rpk</th>\n",
       "      <th>ribosome_profiling_lengths</th>\n",
       "      <th>transcript_ID</th>\n",
       "      <th>gene_name</th>\n",
       "    </tr>\n",
       "  </thead>\n",
       "  <tbody>\n",
       "    <tr>\n",
       "      <th>0</th>\n",
       "      <td>FBgn0267431</td>\n",
       "      <td>6519</td>\n",
       "      <td>3</td>\n",
       "      <td>2.000000</td>\n",
       "      <td>0.306796</td>\n",
       "      <td>6519</td>\n",
       "      <td>FBtr0392909</td>\n",
       "      <td>Myo81F</td>\n",
       "    </tr>\n",
       "    <tr>\n",
       "      <th>1</th>\n",
       "      <td>FBgn0267430</td>\n",
       "      <td>6490</td>\n",
       "      <td>0</td>\n",
       "      <td>0.645161</td>\n",
       "      <td>0.099409</td>\n",
       "      <td>6490</td>\n",
       "      <td>FBtr0445191</td>\n",
       "      <td>Pzl</td>\n",
       "    </tr>\n",
       "    <tr>\n",
       "      <th>2</th>\n",
       "      <td>FBgn0086917</td>\n",
       "      <td>1767</td>\n",
       "      <td>0</td>\n",
       "      <td>1.730769</td>\n",
       "      <td>0.979496</td>\n",
       "      <td>1767</td>\n",
       "      <td>FBtr0300207</td>\n",
       "      <td>spok</td>\n",
       "    </tr>\n",
       "    <tr>\n",
       "      <th>3</th>\n",
       "      <td>FBgn0010247</td>\n",
       "      <td>3112</td>\n",
       "      <td>8579</td>\n",
       "      <td>934.000000</td>\n",
       "      <td>300.128535</td>\n",
       "      <td>3112</td>\n",
       "      <td>FBtr0113885</td>\n",
       "      <td>Parp</td>\n",
       "    </tr>\n",
       "    <tr>\n",
       "      <th>4</th>\n",
       "      <td>FBgn0086378</td>\n",
       "      <td>1290</td>\n",
       "      <td>3465</td>\n",
       "      <td>495.000000</td>\n",
       "      <td>383.720930</td>\n",
       "      <td>1290</td>\n",
       "      <td>FBtr0301810</td>\n",
       "      <td>Alg-2</td>\n",
       "    </tr>\n",
       "    <tr>\n",
       "      <th>...</th>\n",
       "      <td>...</td>\n",
       "      <td>...</td>\n",
       "      <td>...</td>\n",
       "      <td>...</td>\n",
       "      <td>...</td>\n",
       "      <td>...</td>\n",
       "      <td>...</td>\n",
       "      <td>...</td>\n",
       "    </tr>\n",
       "    <tr>\n",
       "      <th>30705</th>\n",
       "      <td>FBgn0040038</td>\n",
       "      <td>2905</td>\n",
       "      <td>0</td>\n",
       "      <td>0.000000</td>\n",
       "      <td>0.000000</td>\n",
       "      <td>2779</td>\n",
       "      <td>FBtr0113686</td>\n",
       "      <td>klhl10</td>\n",
       "    </tr>\n",
       "    <tr>\n",
       "      <th>30706</th>\n",
       "      <td>FBgn0040038</td>\n",
       "      <td>2905</td>\n",
       "      <td>0</td>\n",
       "      <td>0.000000</td>\n",
       "      <td>0.000000</td>\n",
       "      <td>2706</td>\n",
       "      <td>FBtr0113685</td>\n",
       "      <td>klhl10</td>\n",
       "    </tr>\n",
       "    <tr>\n",
       "      <th>30707</th>\n",
       "      <td>FBgn0085692</td>\n",
       "      <td>1428</td>\n",
       "      <td>0</td>\n",
       "      <td>2.040000</td>\n",
       "      <td>1.428571</td>\n",
       "      <td>1428</td>\n",
       "      <td>FBtr0347010</td>\n",
       "      <td>CG41561</td>\n",
       "    </tr>\n",
       "    <tr>\n",
       "      <th>30708</th>\n",
       "      <td>FBgn0259817</td>\n",
       "      <td>615</td>\n",
       "      <td>0</td>\n",
       "      <td>0.000000</td>\n",
       "      <td>0.000000</td>\n",
       "      <td>615</td>\n",
       "      <td>FBtr0300105</td>\n",
       "      <td>SteXh:CG42398</td>\n",
       "    </tr>\n",
       "    <tr>\n",
       "      <th>30709</th>\n",
       "      <td>FBgn0085506</td>\n",
       "      <td>264</td>\n",
       "      <td>0</td>\n",
       "      <td>0.000000</td>\n",
       "      <td>0.000000</td>\n",
       "      <td>264</td>\n",
       "      <td>FBtr0302344</td>\n",
       "      <td>CG40635</td>\n",
       "    </tr>\n",
       "  </tbody>\n",
       "</table>\n",
       "<p>30710 rows × 8 columns</p>\n",
       "</div>"
      ],
      "text/plain": [
       "           gene_ID  RNA-seq_lengths  RNA-seq_counts  \\\n",
       "0      FBgn0267431             6519               3   \n",
       "1      FBgn0267430             6490               0   \n",
       "2      FBgn0086917             1767               0   \n",
       "3      FBgn0010247             3112            8579   \n",
       "4      FBgn0086378             1290            3465   \n",
       "...            ...              ...             ...   \n",
       "30705  FBgn0040038             2905               0   \n",
       "30706  FBgn0040038             2905               0   \n",
       "30707  FBgn0085692             1428               0   \n",
       "30708  FBgn0259817              615               0   \n",
       "30709  FBgn0085506              264               0   \n",
       "\n",
       "       ribosome_profiling_counts  ribosome_profiling_rpk  \\\n",
       "0                       2.000000                0.306796   \n",
       "1                       0.645161                0.099409   \n",
       "2                       1.730769                0.979496   \n",
       "3                     934.000000              300.128535   \n",
       "4                     495.000000              383.720930   \n",
       "...                          ...                     ...   \n",
       "30705                   0.000000                0.000000   \n",
       "30706                   0.000000                0.000000   \n",
       "30707                   2.040000                1.428571   \n",
       "30708                   0.000000                0.000000   \n",
       "30709                   0.000000                0.000000   \n",
       "\n",
       "       ribosome_profiling_lengths transcript_ID      gene_name  \n",
       "0                            6519   FBtr0392909         Myo81F  \n",
       "1                            6490   FBtr0445191            Pzl  \n",
       "2                            1767   FBtr0300207           spok  \n",
       "3                            3112   FBtr0113885           Parp  \n",
       "4                            1290   FBtr0301810          Alg-2  \n",
       "...                           ...           ...            ...  \n",
       "30705                        2779   FBtr0113686         klhl10  \n",
       "30706                        2706   FBtr0113685         klhl10  \n",
       "30707                        1428   FBtr0347010        CG41561  \n",
       "30708                         615   FBtr0300105  SteXh:CG42398  \n",
       "30709                         264   FBtr0302344        CG40635  \n",
       "\n",
       "[30710 rows x 8 columns]"
      ]
     },
     "execution_count": 598,
     "metadata": {},
     "output_type": "execute_result"
    }
   ],
   "source": [
    "df_merged"
   ]
  },
  {
   "cell_type": "code",
   "execution_count": 599,
   "id": "5d3bf48b-7de9-4ae7-99a6-35d08e251b73",
   "metadata": {},
   "outputs": [],
   "source": [
    "df = df_merged"
   ]
  },
  {
   "cell_type": "markdown",
   "id": "679c7197-53b1-4bc0-ae7d-9da3492bd1cc",
   "metadata": {
    "tags": []
   },
   "source": [
    "# Estimating and plotting translation efficiency\n",
    "\n",
    "Translation efficiency can be estimated by normalizing an mRNA’s translating ribosome density (in TPM, as measured by ribosome profiling) by the mRNA’s abundance (in TPM, measured by RNA-Seq) ([IGNW09]).\n",
    "\n",
    "Making this estimate from the calculations above is simple:"
   ]
  },
  {
   "cell_type": "code",
   "execution_count": 600,
   "id": "5c2c70c0-5e60-4d90-8326-1a812062ea6c",
   "metadata": {},
   "outputs": [],
   "source": [
    "df[\"RNA-seq_rpk\"] = df[\"RNA-seq_counts\"]/(df[\"RNA-seq_lengths\"]/1000)\n",
    "\n",
    "# Calculate tpm using rpk from our new dataframe. \n",
    "for sample_name in [\"RNA-seq\", \"ribosome_profiling\"]:\n",
    "    per_m_s = sum(df[\"%s_rpk\"   % (sample_name)])/1e6\n",
    "    df[\"%s_tpm\" % (sample_name)] = (df[\"%s_rpk\"   % (sample_name)])/per_m_s\n",
    "    \n",
    "# Calculate rpkm using the read counts. Work in progress.\n",
    "for sample_name in [\"RNA-seq\", \"ribosome_profiling\"]:\n",
    "    counts = df[\"%s_counts\"   % (sample_name)]\n",
    "    rpkm   = counts / df[\"%s_lengths\" % (sample_name)]*1000 * 1e6 / sum(counts)\n",
    "    df[\"%s_rpkm\" % (sample_name)] = rpkm\n",
    "    \n",
    "    \n",
    "# Calculate translation efficiency using tpm\n",
    "df[\"TE_tpm\"] = df[\"ribosome_profiling_tpm\"] / df[\"RNA-seq_tpm\"]\n",
    "\n",
    "# Calculate translation efficiency using rpkm\n",
    "df[\"TE_rpkm\"] = df[\"ribosome_profiling_rpkm\"] / df[\"RNA-seq_rpkm\"]"
   ]
  },
  {
   "cell_type": "code",
   "execution_count": 601,
   "id": "e0924fd1-4458-4120-af35-4c1f2467ff21",
   "metadata": {},
   "outputs": [],
   "source": [
    "# Rearranging Column names to make something more readable. \n",
    "cols = ['transcript_ID', \"gene_ID\",\"gene_name\", 'TE_tpm','TE_rpkm','ribosome_profiling_tpm',\n",
    "        'RNA-seq_tpm','ribosome_profiling_counts','RNA-seq_counts',\n",
    "        'ribosome_profiling_rpkm', 'RNA-seq_rpkm', 'ribosome_profiling_rpk', \n",
    "       'RNA-seq_rpk', 'ribosome_profiling_lengths', 'RNA-seq_lengths']\n",
    "df = df[cols]"
   ]
  },
  {
   "cell_type": "code",
   "execution_count": 602,
   "id": "ba71723a-f4d5-4c07-8b3a-5ade634da3d3",
   "metadata": {},
   "outputs": [
    {
     "data": {
      "text/html": [
       "<div>\n",
       "<style scoped>\n",
       "    .dataframe tbody tr th:only-of-type {\n",
       "        vertical-align: middle;\n",
       "    }\n",
       "\n",
       "    .dataframe tbody tr th {\n",
       "        vertical-align: top;\n",
       "    }\n",
       "\n",
       "    .dataframe thead th {\n",
       "        text-align: right;\n",
       "    }\n",
       "</style>\n",
       "<table border=\"1\" class=\"dataframe\">\n",
       "  <thead>\n",
       "    <tr style=\"text-align: right;\">\n",
       "      <th></th>\n",
       "      <th>transcript_ID</th>\n",
       "      <th>gene_ID</th>\n",
       "      <th>gene_name</th>\n",
       "      <th>TE_tpm</th>\n",
       "      <th>TE_rpkm</th>\n",
       "      <th>ribosome_profiling_tpm</th>\n",
       "      <th>RNA-seq_tpm</th>\n",
       "      <th>ribosome_profiling_counts</th>\n",
       "      <th>RNA-seq_counts</th>\n",
       "      <th>ribosome_profiling_rpkm</th>\n",
       "      <th>RNA-seq_rpkm</th>\n",
       "      <th>ribosome_profiling_rpk</th>\n",
       "      <th>RNA-seq_rpk</th>\n",
       "      <th>ribosome_profiling_lengths</th>\n",
       "      <th>RNA-seq_lengths</th>\n",
       "    </tr>\n",
       "  </thead>\n",
       "  <tbody>\n",
       "    <tr>\n",
       "      <th>0</th>\n",
       "      <td>FBtr0392909</td>\n",
       "      <td>FBgn0267431</td>\n",
       "      <td>Myo81F</td>\n",
       "      <td>8.611876</td>\n",
       "      <td>13.291509</td>\n",
       "      <td>0.078052</td>\n",
       "      <td>0.009063</td>\n",
       "      <td>2.000000</td>\n",
       "      <td>3</td>\n",
       "      <td>0.044172</td>\n",
       "      <td>0.003323</td>\n",
       "      <td>0.306796</td>\n",
       "      <td>0.460193</td>\n",
       "      <td>6519</td>\n",
       "      <td>6519</td>\n",
       "    </tr>\n",
       "    <tr>\n",
       "      <th>1</th>\n",
       "      <td>FBtr0445191</td>\n",
       "      <td>FBgn0267430</td>\n",
       "      <td>Pzl</td>\n",
       "      <td>inf</td>\n",
       "      <td>inf</td>\n",
       "      <td>0.025291</td>\n",
       "      <td>0.000000</td>\n",
       "      <td>0.645161</td>\n",
       "      <td>0</td>\n",
       "      <td>0.014313</td>\n",
       "      <td>0.000000</td>\n",
       "      <td>0.099409</td>\n",
       "      <td>0.000000</td>\n",
       "      <td>6490</td>\n",
       "      <td>6490</td>\n",
       "    </tr>\n",
       "    <tr>\n",
       "      <th>2</th>\n",
       "      <td>FBtr0300207</td>\n",
       "      <td>FBgn0086917</td>\n",
       "      <td>spok</td>\n",
       "      <td>inf</td>\n",
       "      <td>inf</td>\n",
       "      <td>0.249195</td>\n",
       "      <td>0.000000</td>\n",
       "      <td>1.730769</td>\n",
       "      <td>0</td>\n",
       "      <td>0.141027</td>\n",
       "      <td>0.000000</td>\n",
       "      <td>0.979496</td>\n",
       "      <td>0.000000</td>\n",
       "      <td>1767</td>\n",
       "      <td>1767</td>\n",
       "    </tr>\n",
       "    <tr>\n",
       "      <th>3</th>\n",
       "      <td>FBtr0113885</td>\n",
       "      <td>FBgn0010247</td>\n",
       "      <td>Parp</td>\n",
       "      <td>1.406369</td>\n",
       "      <td>2.170580</td>\n",
       "      <td>76.356054</td>\n",
       "      <td>54.293050</td>\n",
       "      <td>934.000000</td>\n",
       "      <td>8579</td>\n",
       "      <td>43.212362</td>\n",
       "      <td>19.908212</td>\n",
       "      <td>300.128535</td>\n",
       "      <td>2756.748072</td>\n",
       "      <td>3112</td>\n",
       "      <td>3112</td>\n",
       "    </tr>\n",
       "    <tr>\n",
       "      <th>4</th>\n",
       "      <td>FBtr0301810</td>\n",
       "      <td>FBgn0086378</td>\n",
       "      <td>Alg-2</td>\n",
       "      <td>1.845402</td>\n",
       "      <td>2.848180</td>\n",
       "      <td>97.622893</td>\n",
       "      <td>52.900611</td>\n",
       "      <td>495.000000</td>\n",
       "      <td>3465</td>\n",
       "      <td>55.247955</td>\n",
       "      <td>19.397631</td>\n",
       "      <td>383.720930</td>\n",
       "      <td>2686.046512</td>\n",
       "      <td>1290</td>\n",
       "      <td>1290</td>\n",
       "    </tr>\n",
       "    <tr>\n",
       "      <th>...</th>\n",
       "      <td>...</td>\n",
       "      <td>...</td>\n",
       "      <td>...</td>\n",
       "      <td>...</td>\n",
       "      <td>...</td>\n",
       "      <td>...</td>\n",
       "      <td>...</td>\n",
       "      <td>...</td>\n",
       "      <td>...</td>\n",
       "      <td>...</td>\n",
       "      <td>...</td>\n",
       "      <td>...</td>\n",
       "      <td>...</td>\n",
       "      <td>...</td>\n",
       "      <td>...</td>\n",
       "    </tr>\n",
       "    <tr>\n",
       "      <th>30705</th>\n",
       "      <td>FBtr0113686</td>\n",
       "      <td>FBgn0040038</td>\n",
       "      <td>klhl10</td>\n",
       "      <td>NaN</td>\n",
       "      <td>NaN</td>\n",
       "      <td>0.000000</td>\n",
       "      <td>0.000000</td>\n",
       "      <td>0.000000</td>\n",
       "      <td>0</td>\n",
       "      <td>0.000000</td>\n",
       "      <td>0.000000</td>\n",
       "      <td>0.000000</td>\n",
       "      <td>0.000000</td>\n",
       "      <td>2779</td>\n",
       "      <td>2905</td>\n",
       "    </tr>\n",
       "    <tr>\n",
       "      <th>30706</th>\n",
       "      <td>FBtr0113685</td>\n",
       "      <td>FBgn0040038</td>\n",
       "      <td>klhl10</td>\n",
       "      <td>NaN</td>\n",
       "      <td>NaN</td>\n",
       "      <td>0.000000</td>\n",
       "      <td>0.000000</td>\n",
       "      <td>0.000000</td>\n",
       "      <td>0</td>\n",
       "      <td>0.000000</td>\n",
       "      <td>0.000000</td>\n",
       "      <td>0.000000</td>\n",
       "      <td>0.000000</td>\n",
       "      <td>2706</td>\n",
       "      <td>2905</td>\n",
       "    </tr>\n",
       "    <tr>\n",
       "      <th>30707</th>\n",
       "      <td>FBtr0347010</td>\n",
       "      <td>FBgn0085692</td>\n",
       "      <td>CG41561</td>\n",
       "      <td>inf</td>\n",
       "      <td>inf</td>\n",
       "      <td>0.363445</td>\n",
       "      <td>0.000000</td>\n",
       "      <td>2.040000</td>\n",
       "      <td>0</td>\n",
       "      <td>0.205685</td>\n",
       "      <td>0.000000</td>\n",
       "      <td>1.428571</td>\n",
       "      <td>0.000000</td>\n",
       "      <td>1428</td>\n",
       "      <td>1428</td>\n",
       "    </tr>\n",
       "    <tr>\n",
       "      <th>30708</th>\n",
       "      <td>FBtr0300105</td>\n",
       "      <td>FBgn0259817</td>\n",
       "      <td>SteXh:CG42398</td>\n",
       "      <td>NaN</td>\n",
       "      <td>NaN</td>\n",
       "      <td>0.000000</td>\n",
       "      <td>0.000000</td>\n",
       "      <td>0.000000</td>\n",
       "      <td>0</td>\n",
       "      <td>0.000000</td>\n",
       "      <td>0.000000</td>\n",
       "      <td>0.000000</td>\n",
       "      <td>0.000000</td>\n",
       "      <td>615</td>\n",
       "      <td>615</td>\n",
       "    </tr>\n",
       "    <tr>\n",
       "      <th>30709</th>\n",
       "      <td>FBtr0302344</td>\n",
       "      <td>FBgn0085506</td>\n",
       "      <td>CG40635</td>\n",
       "      <td>NaN</td>\n",
       "      <td>NaN</td>\n",
       "      <td>0.000000</td>\n",
       "      <td>0.000000</td>\n",
       "      <td>0.000000</td>\n",
       "      <td>0</td>\n",
       "      <td>0.000000</td>\n",
       "      <td>0.000000</td>\n",
       "      <td>0.000000</td>\n",
       "      <td>0.000000</td>\n",
       "      <td>264</td>\n",
       "      <td>264</td>\n",
       "    </tr>\n",
       "  </tbody>\n",
       "</table>\n",
       "<p>30710 rows × 15 columns</p>\n",
       "</div>"
      ],
      "text/plain": [
       "      transcript_ID      gene_ID      gene_name    TE_tpm    TE_rpkm  \\\n",
       "0       FBtr0392909  FBgn0267431         Myo81F  8.611876  13.291509   \n",
       "1       FBtr0445191  FBgn0267430            Pzl       inf        inf   \n",
       "2       FBtr0300207  FBgn0086917           spok       inf        inf   \n",
       "3       FBtr0113885  FBgn0010247           Parp  1.406369   2.170580   \n",
       "4       FBtr0301810  FBgn0086378          Alg-2  1.845402   2.848180   \n",
       "...             ...          ...            ...       ...        ...   \n",
       "30705   FBtr0113686  FBgn0040038         klhl10       NaN        NaN   \n",
       "30706   FBtr0113685  FBgn0040038         klhl10       NaN        NaN   \n",
       "30707   FBtr0347010  FBgn0085692        CG41561       inf        inf   \n",
       "30708   FBtr0300105  FBgn0259817  SteXh:CG42398       NaN        NaN   \n",
       "30709   FBtr0302344  FBgn0085506        CG40635       NaN        NaN   \n",
       "\n",
       "       ribosome_profiling_tpm  RNA-seq_tpm  ribosome_profiling_counts  \\\n",
       "0                    0.078052     0.009063                   2.000000   \n",
       "1                    0.025291     0.000000                   0.645161   \n",
       "2                    0.249195     0.000000                   1.730769   \n",
       "3                   76.356054    54.293050                 934.000000   \n",
       "4                   97.622893    52.900611                 495.000000   \n",
       "...                       ...          ...                        ...   \n",
       "30705                0.000000     0.000000                   0.000000   \n",
       "30706                0.000000     0.000000                   0.000000   \n",
       "30707                0.363445     0.000000                   2.040000   \n",
       "30708                0.000000     0.000000                   0.000000   \n",
       "30709                0.000000     0.000000                   0.000000   \n",
       "\n",
       "       RNA-seq_counts  ribosome_profiling_rpkm  RNA-seq_rpkm  \\\n",
       "0                   3                 0.044172      0.003323   \n",
       "1                   0                 0.014313      0.000000   \n",
       "2                   0                 0.141027      0.000000   \n",
       "3                8579                43.212362     19.908212   \n",
       "4                3465                55.247955     19.397631   \n",
       "...               ...                      ...           ...   \n",
       "30705               0                 0.000000      0.000000   \n",
       "30706               0                 0.000000      0.000000   \n",
       "30707               0                 0.205685      0.000000   \n",
       "30708               0                 0.000000      0.000000   \n",
       "30709               0                 0.000000      0.000000   \n",
       "\n",
       "       ribosome_profiling_rpk  RNA-seq_rpk  ribosome_profiling_lengths  \\\n",
       "0                    0.306796     0.460193                        6519   \n",
       "1                    0.099409     0.000000                        6490   \n",
       "2                    0.979496     0.000000                        1767   \n",
       "3                  300.128535  2756.748072                        3112   \n",
       "4                  383.720930  2686.046512                        1290   \n",
       "...                       ...          ...                         ...   \n",
       "30705                0.000000     0.000000                        2779   \n",
       "30706                0.000000     0.000000                        2706   \n",
       "30707                1.428571     0.000000                        1428   \n",
       "30708                0.000000     0.000000                         615   \n",
       "30709                0.000000     0.000000                         264   \n",
       "\n",
       "       RNA-seq_lengths  \n",
       "0                 6519  \n",
       "1                 6490  \n",
       "2                 1767  \n",
       "3                 3112  \n",
       "4                 1290  \n",
       "...                ...  \n",
       "30705             2905  \n",
       "30706             2905  \n",
       "30707             1428  \n",
       "30708              615  \n",
       "30709              264  \n",
       "\n",
       "[30710 rows x 15 columns]"
      ]
     },
     "execution_count": 602,
     "metadata": {},
     "output_type": "execute_result"
    }
   ],
   "source": [
    "df"
   ]
  },
  {
   "cell_type": "code",
   "execution_count": 530,
   "id": "97622b7c-9329-4c54-955a-72d2bc82ffcc",
   "metadata": {},
   "outputs": [],
   "source": [
    "# save the data frame.\n",
    "df.to_csv(save_path + mutation + '_' + samp_num + '_' + \"te_table\" + special + \".csv\", index = False)"
   ]
  },
  {
   "cell_type": "code",
   "execution_count": null,
   "id": "9b62be0e-5ce6-436f-9682-1c0a33ed8fae",
   "metadata": {},
   "outputs": [],
   "source": [
    "#!# A line of code that quickly loads up the data if it has already been saved. \n",
    "df = pd.read_csv(save_path + mutation + '_' + samp_num + '_' + \"te_table\" + special + \".csv\")"
   ]
  },
  {
   "cell_type": "markdown",
   "id": "7bf02d0d-6ef1-46a1-9eb9-691785f8e241",
   "metadata": {},
   "source": [
    "The data above can now be easily plotted in many different ways. For example, the table below shows the correlation between the transcript levels and the translation levels"
   ]
  },
  {
   "cell_type": "code",
   "execution_count": 515,
   "id": "3068f73d-f29a-4ef3-8e71-e59f84a8069b",
   "metadata": {},
   "outputs": [
    {
     "data": {
      "text/html": [
       "<div>\n",
       "<style scoped>\n",
       "    .dataframe tbody tr th:only-of-type {\n",
       "        vertical-align: middle;\n",
       "    }\n",
       "\n",
       "    .dataframe tbody tr th {\n",
       "        vertical-align: top;\n",
       "    }\n",
       "\n",
       "    .dataframe thead th {\n",
       "        text-align: right;\n",
       "    }\n",
       "</style>\n",
       "<table border=\"1\" class=\"dataframe\">\n",
       "  <thead>\n",
       "    <tr style=\"text-align: right;\">\n",
       "      <th></th>\n",
       "      <th>transcript_ID</th>\n",
       "      <th>gene_ID</th>\n",
       "      <th>gene_name</th>\n",
       "      <th>TE_tpm</th>\n",
       "      <th>TE_rpkm</th>\n",
       "      <th>ribosome_profiling_tpm</th>\n",
       "      <th>RNA-seq_tpm</th>\n",
       "      <th>ribosome_profiling_counts</th>\n",
       "      <th>RNA-seq_counts</th>\n",
       "      <th>ribosome_profiling_rpkm</th>\n",
       "      <th>RNA-seq_rpkm</th>\n",
       "      <th>ribosome_profiling_rpk</th>\n",
       "      <th>RNA-seq_rpk</th>\n",
       "      <th>ribosome_profiling_lengths</th>\n",
       "      <th>RNA-seq_lengths</th>\n",
       "    </tr>\n",
       "  </thead>\n",
       "  <tbody>\n",
       "    <tr>\n",
       "      <th>14357</th>\n",
       "      <td>FBtr0076496</td>\n",
       "      <td>FBgn0001225</td>\n",
       "      <td>Hsp26</td>\n",
       "      <td>1.869123</td>\n",
       "      <td>2.884792</td>\n",
       "      <td>2672.269457</td>\n",
       "      <td>1429.691445</td>\n",
       "      <td>10062.585205</td>\n",
       "      <td>73319</td>\n",
       "      <td>1512.323766</td>\n",
       "      <td>524.240212</td>\n",
       "      <td>10503.742385</td>\n",
       "      <td>72593.069307</td>\n",
       "      <td>958</td>\n",
       "      <td>1010</td>\n",
       "    </tr>\n",
       "    <tr>\n",
       "      <th>14358</th>\n",
       "      <td>FBtr0346539</td>\n",
       "      <td>FBgn0001225</td>\n",
       "      <td>Hsp26</td>\n",
       "      <td>1.772891</td>\n",
       "      <td>2.736268</td>\n",
       "      <td>2534.687267</td>\n",
       "      <td>1429.691445</td>\n",
       "      <td>10062.585205</td>\n",
       "      <td>73319</td>\n",
       "      <td>1434.461552</td>\n",
       "      <td>524.240212</td>\n",
       "      <td>9962.955649</td>\n",
       "      <td>72593.069307</td>\n",
       "      <td>1010</td>\n",
       "      <td>1010</td>\n",
       "    </tr>\n",
       "  </tbody>\n",
       "</table>\n",
       "</div>"
      ],
      "text/plain": [
       "      transcript_ID      gene_ID gene_name    TE_tpm   TE_rpkm  \\\n",
       "14357   FBtr0076496  FBgn0001225     Hsp26  1.869123  2.884792   \n",
       "14358   FBtr0346539  FBgn0001225     Hsp26  1.772891  2.736268   \n",
       "\n",
       "       ribosome_profiling_tpm  RNA-seq_tpm  ribosome_profiling_counts  \\\n",
       "14357             2672.269457  1429.691445               10062.585205   \n",
       "14358             2534.687267  1429.691445               10062.585205   \n",
       "\n",
       "       RNA-seq_counts  ribosome_profiling_rpkm  RNA-seq_rpkm  \\\n",
       "14357           73319              1512.323766    524.240212   \n",
       "14358           73319              1434.461552    524.240212   \n",
       "\n",
       "       ribosome_profiling_rpk   RNA-seq_rpk  ribosome_profiling_lengths  \\\n",
       "14357            10503.742385  72593.069307                         958   \n",
       "14358             9962.955649  72593.069307                        1010   \n",
       "\n",
       "       RNA-seq_lengths  \n",
       "14357             1010  \n",
       "14358             1010  "
      ]
     },
     "execution_count": 515,
     "metadata": {},
     "output_type": "execute_result"
    }
   ],
   "source": [
    "df[df[\"gene_name\"] == \"Hsp26\"]"
   ]
  },
  {
   "cell_type": "code",
   "execution_count": 60,
   "id": "fc516b3c-f9de-427a-8cc6-dd3c0d77ace5",
   "metadata": {
    "tags": []
   },
   "outputs": [
    {
     "data": {
      "text/plain": [
       "Text(0, 0.5, 'Translation (tpm of footprints over CDS)')"
      ]
     },
     "execution_count": 60,
     "metadata": {},
     "output_type": "execute_result"
    },
    {
     "data": {
      "image/png": "[encoded data removed]",
      "text/plain": [
       "<Figure size 432x288 with 1 Axes>"
      ]
     },
     "metadata": {
      "needs_background": "light"
     },
     "output_type": "display_data"
    }
   ],
   "source": [
    "my_figure = plt.figure()\n",
    "plt.loglog() # log-scaling makes it easier\n",
    "\n",
    "# make a copy of dataframe for plotting\n",
    "# this is because 0-values cannot be plotted in log-space,\n",
    "# so we set them to a pseudo value called `MIN_VAL`\n",
    "\n",
    "MIN_VAL = np.nan\n",
    "plot_df = copy.deepcopy(df)\n",
    "plot_df[\"RNA-seq_tpm\"].replace({0:MIN_VAL}, inplace=True)\n",
    "plot_df[\"ribosome_profiling_tpm\"].replace({0:MIN_VAL}, inplace=True)\n",
    "\n",
    "# now, make a scatter plot\n",
    "plt.scatter(plot_df[\"RNA-seq_tpm\"],\n",
    "            plot_df[\"ribosome_profiling_tpm\"],\n",
    "            marker=\"o\",alpha=0.5,facecolor=\"none\",edgecolor=\"#007ADF\")\n",
    "plt.xlabel(\"Transcript levels (tpm of mRNA fragments over CDS)\")\n",
    "plt.ylabel(\"Translation (tpm of footprints over CDS)\")"
   ]
  },
  {
   "cell_type": "markdown",
   "id": "355c298f-0cbb-43a1-bb9d-db3d5f5b8c47",
   "metadata": {},
   "source": [
    "## Distribution of translation efficiency"
   ]
  },
  {
   "cell_type": "code",
   "execution_count": 603,
   "id": "6667b962-039c-43ba-a805-e39d7e19ab6c",
   "metadata": {},
   "outputs": [],
   "source": [
    "df_clean=df[~df.isin([np.nan, np.inf, -np.inf, 0]).any(1)]\n",
    "df_interest=df_clean[(df_clean[\"TE_tpm\"] >= 0)&(df_clean[\"TE_tpm\"] <= 800)]"
   ]
  },
  {
   "cell_type": "code",
   "execution_count": 604,
   "id": "dd2514e2-04ae-4f6b-9bd5-e80a39b6c716",
   "metadata": {},
   "outputs": [
    {
     "data": {
      "text/plain": [
       "(0.0, 20.0)"
      ]
     },
     "execution_count": 604,
     "metadata": {},
     "output_type": "execute_result"
    },
    {
     "data": {
      "image/png": "[encoded data removed]",
      "text/plain": [
       "<Figure size 432x288 with 1 Axes>"
      ]
     },
     "metadata": {
      "needs_background": "light"
     },
     "output_type": "display_data"
    }
   ],
   "source": [
    "# plot kernel density estimates of A and B on the same axis\n",
    "fig, ax = kde_plot(df_interest[\"TE_tpm\"],label=\"TE\")\n",
    "\n",
    "# make things look nice\n",
    "plt.xlabel(\"TE\")\n",
    "plt.ylabel(\"Probability density\")\n",
    "plt.title(\"kde_plot() demo\",y=1.1)\n",
    "plt.xlim(0,20)"
   ]
  },
  {
   "cell_type": "markdown",
   "id": "a1bce87e-26a0-4c62-b9b5-86560f6add37",
   "metadata": {},
   "source": [
    "Then, we can compare the effects of transcriptional and translational control:"
   ]
  },
  {
   "cell_type": "code",
   "execution_count": 56,
   "id": "4dc0b46b-a024-415e-bf35-e9dfdde46b5e",
   "metadata": {},
   "outputs": [
    {
     "data": {
      "text/plain": [
       "<module 'matplotlib.pyplot' from '/home/keeganfl/miniconda3/envs/plastid/lib/python3.8/site-packages/matplotlib/pyplot.py'>"
      ]
     },
     "execution_count": 56,
     "metadata": {},
     "output_type": "execute_result"
    },
    {
     "data": {
      "image/png": "[encoded data removed]",
      "text/plain": [
       "<Figure size 432x288 with 1 Axes>"
      ]
     },
     "metadata": {
      "needs_background": "light"
     },
     "output_type": "display_data"
    }
   ],
   "source": [
    "plt.loglog()\n",
    "plot_df = copy.deepcopy(df)\n",
    "plot_df[\"RNA-seq_rpkm\"].replace({0:MIN_VAL}, inplace=True)\n",
    "plot_df[\"ribosome_profiling_rpkm\"].replace({0:MIN_VAL}, inplace=True)\n",
    "\n",
    "# now, make a scatter plot\n",
    "plt.scatter(plot_df[\"RNA-seq_rpkm\"],\n",
    "            plot_df[\"TE_tpm\"],\n",
    "            marker=\"o\",alpha=0.2,facecolor=\"none\",edgecolor=\"#007ADF\")\n",
    "plt.xlabel(\"Transcript levels (RPKM of mRNA fragments over all exons)\")\n",
    "plt.ylabel(\"Translation efficiency\")\n",
    "plt.xlim(1,plt.xlim()[1])\n",
    "plt.ylim(plt.ylim()[0]/10.0,100)\n",
    "\n",
    "plt"
   ]
  }
 ],
 "metadata": {
  "kernelspec": {
   "display_name": "Python 3 (ipykernel)",
   "language": "python",
   "name": "python3"
  },
  "language_info": {
   "codemirror_mode": {
    "name": "ipython",
    "version": 3
   },
   "file_extension": ".py",
   "mimetype": "text/x-python",
   "name": "python",
   "nbconvert_exporter": "python",
   "pygments_lexer": "ipython3",
   "version": "3.8.12"
  }
 },
 "nbformat": 4,
 "nbformat_minor": 5
}
