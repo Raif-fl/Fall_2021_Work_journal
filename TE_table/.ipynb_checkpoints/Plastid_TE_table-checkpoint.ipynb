{
 "cells": [
  {
   "cell_type": "markdown",
   "id": "2a97f045-652f-47d9-a4fb-c8284b3ed770",
   "metadata": {},
   "source": [
    "Something has to be wrong with what plastid is doing here, the total counts for ribosome profiling reads from that table are greater then the total number of counts for the original data itself! The whole thing seems... backwards. And the RNA seq counts from the table are like, 30 times smaller than the one from the dataset?"
   ]
  },
  {
   "cell_type": "markdown",
   "id": "1c0f8df2-b15d-4de9-a2a0-e57302b44593",
   "metadata": {},
   "source": [
    "## Importing packages and defining the path"
   ]
  },
  {
   "cell_type": "code",
   "execution_count": 3,
   "id": "85970a1e-58be-489c-bdb1-fd1c8e83cefb",
   "metadata": {},
   "outputs": [],
   "source": [
    "import sys\n",
    "sys.path.append('/home/keeganfl/Desktop/Work_Fall_2021/Fall_2021_Work_journal/tools/')"
   ]
  },
  {
   "cell_type": "code",
   "execution_count": 4,
   "id": "3701f454-d539-44ef-bb00-27718993905c",
   "metadata": {},
   "outputs": [],
   "source": [
    "# import plastid\n",
    "# data structure for mapping read alignments to genomic positions\n",
    "from plastid import BAMGenomeArray, VariableFivePrimeMapFactory, \\\n",
    "                        GTF2_TranscriptAssembler, GFF3_TranscriptAssembler, \\\n",
    "                        Transcript, ThreePrimeMapFactory, CenterMapFactory\n",
    "from plastid.plotting.plots import *\n",
    "import numpy as np\n",
    "import os\n",
    "from Bio import SeqIO\n",
    "import numpy\n",
    "import math\n",
    "import pandas as pd\n",
    "from scipy import stats\n",
    "import keegan_analysis_tools as kat\n",
    "from statsmodels.nonparametric.smoothers_lowess import lowess\n",
    "import warnings\n",
    "import matplotlib.pyplot as plt\n",
    "%matplotlib inline\n",
    "import csv\n",
    "from scipy.sparse.linalg import lsqr"
   ]
  },
  {
   "cell_type": "code",
   "execution_count": null,
   "id": "2d471e52-792f-4cb0-ab08-021d9e4dc1f8",
   "metadata": {},
   "outputs": [],
   "source": [
    "import copy\n",
    "import pandas as pd\n",
    "import numpy as np\n",
    "%matplotlib inline\n",
    "import matplotlib.pyplot as plt\n",
    "import matplotlib.style\n",
    "matplotlib.style.use(\"ggplot\")\n",
    "from plastid import *\n",
    "from plastid.plotting.plots import *"
   ]
  },
  {
   "cell_type": "code",
   "execution_count": 2,
   "id": "0dbc14a5-12ca-4bd5-ac08-ca4df78ad0fb",
   "metadata": {},
   "outputs": [],
   "source": [
    "# Define the path to our Bam files\n",
    "data_path = \"/home/keeganfl/Desktop/Work_Fall_2021/genomes_&_samples/dmel/\"\n",
    "save_path = \"/home/keeganfl/Desktop/Work_Fall_2021/data_tables/TE_tables/dmel/\"\n",
    "p_site_path = \"/home/keeganfl/Desktop/Work_Fall_2021/data_tables/p-site_offsets/dmel/\"\n",
    "RPF_name = 'control_RPF_2'\n",
    "RNA_name = 'control_RNA_2'"
   ]
  },
  {
   "cell_type": "markdown",
   "id": "72cdd871-1d7d-4fa6-a871-14caee8b0793",
   "metadata": {},
   "source": [
    "## Defining Functions"
   ]
  },
  {
   "cell_type": "code",
   "execution_count": null,
   "id": "beaf11af-012b-4bd7-ad0a-6986ea8a0a9a",
   "metadata": {},
   "outputs": [],
   "source": [
    "def variable_threeprime_map_function(alignments,segment,p_offsets):\n",
    "        '''\n",
    "        This function is used to map read alignments to the location of the ribosomal p-site \n",
    "        from their 3' end. The offsets to use for each read length are specified by file\n",
    "        generated using RiboWaltz.\n",
    "\n",
    "        alignments:\n",
    "            Information on the genome alignment of an individual read which is passed \n",
    "            to the function from a BamGenome array created by plastid. \n",
    "\n",
    "        segment:\n",
    "            Information on the individual read segment which is passed \n",
    "            to the function from a BamGenome array created by plastid. \n",
    "\n",
    "        p_offsets:\n",
    "            A pandas dataframe that has been loaded into the python environmemt.\n",
    "            This dataframe should follow this template. \n",
    "                length          P_offsets\n",
    "                 28              12\n",
    "                 29              12\n",
    "                 30              13\n",
    "                ...             ...\n",
    "        '''\n",
    "        reads_out = []\n",
    "        count_array = numpy.zeros(len(segment))\n",
    "        for read in alignments: \n",
    "            for length, offset in zip(p_offsets[\"length\"],p_offsets[\"p_offset\"]): \n",
    "                if length != len(read.positions):\n",
    "                    continue # skip read if it is not the length we are currently offsetting.\n",
    "\n",
    "             # count offset 3' to 5' if the `segment` is on the plus-strand\n",
    "             # or is unstranded\n",
    "                if segment.strand == \"+\":\n",
    "                    p_site = read.positions[-offset - 1]\n",
    "                elif segment.strand == \".\":\n",
    "                    p_site = read.positions[-offset - 1]\n",
    "             # count offset from other end if `segment` is on the minus-strand\n",
    "                elif segment.strand == \"-\":\n",
    "                    p_site = read.positions[offset]\n",
    "\n",
    "                if p_site >= segment.start and p_site < segment.end:\n",
    "                    reads_out.append(read)\n",
    "                    count_array[p_site - segment.start] += 1\n",
    "        return reads_out, count_array"
   ]
  },
  {
   "cell_type": "code",
   "execution_count": null,
   "id": "dbaacfeb-cc8b-401f-824a-b2fd803aa396",
   "metadata": {},
   "outputs": [],
   "source": [
    "def VariableThreePrimeMapFactory(p_offsets):\n",
    "    '''\n",
    "    BamGenome array objects will only be able to pass the alignments and segment\n",
    "    arguments to the variable_threeprime_map_function. This wrapper allows me to\n",
    "    also specify the offset that needs to be passed to the function. \n",
    "    '''\n",
    "    def new_func(alignments,segment):\n",
    "        return variable_threeprime_map_function(alignments,segment,p_offsets=p_offsets)\n",
    "\n",
    "    return new_func"
   ]
  },
  {
   "cell_type": "markdown",
   "id": "9f5f9a09-7592-42f8-810a-cc2800d720b0",
   "metadata": {},
   "source": [
    "## Loading in the data"
   ]
  },
  {
   "cell_type": "markdown",
   "id": "470ff3e4-3deb-4142-9b18-f6f5c07e056a",
   "metadata": {},
   "source": [
    "Open the read alignments, storing each dataset in a BAMGenomeArray:"
   ]
  },
  {
   "cell_type": "code",
   "execution_count": 5,
   "id": "ce6a3f16-521b-4604-8fb5-57569da65967",
   "metadata": {},
   "outputs": [],
   "source": [
    "my_datasets = { \"ribosome_profiling\" : data_path + RPF_name + \"_Aligned.sortedByCoord.out.bam\",\n",
    "                \"RNA-seq\"            : data_path + RNA_name + \"_Aligned.sortedByCoord.out.bam\",\n",
    "              }\n",
    "\n",
    "my_datasets = { K : BAMGenomeArray(V) for K,V in my_datasets.items() }"
   ]
  },
  {
   "cell_type": "markdown",
   "id": "c3cbaeba-a736-4655-832e-f4945d275965",
   "metadata": {},
   "source": [
    "Next, we tell the BAMGenomeArrays which mapping rule to use. We will use a custom built function to apply 3' end mapping to the ribosomal p-site. "
   ]
  },
  {
   "cell_type": "code",
   "execution_count": 6,
   "id": "8f0ba4d0-bcbf-4281-9422-0b9687752475",
   "metadata": {},
   "outputs": [],
   "source": [
    "# Load in the table of P-site offsets. \n",
    "p_offsets=pd.read_csv(p_site_path + RPF_name + \"_Aligned.toTranscriptome.out_p-site-offsets\", sep=\"\\t\")\n",
    "\n",
    "# Map the ribosome profiling alignments to the p-site. \n",
    "my_datasets[\"ribosome_profiling\"].set_mapping(VariableThreePrimeMapFactory(p_offsets=p_offsets))"
   ]
  },
  {
   "cell_type": "markdown",
   "id": "f05066ff-000a-4830-a21d-bdf47e43c425",
   "metadata": {},
   "source": [
    "We will map the RNA-seq data along the entire length of each read alignment. Each position in each alignment will be attributed 1.0/ℓ, where ℓ is the length of the read alignment. CenterMapFactory() can do this for us:\n",
    "\n",
    "\"Figure out exactly what this is doing\""
   ]
  },
  {
   "cell_type": "code",
   "execution_count": 44,
   "id": "81afb255-58c7-43ab-823b-7d71de157815",
   "metadata": {},
   "outputs": [],
   "source": [
    "my_datasets[\"RNA-seq\"].set_mapping(CenterMapFactory())"
   ]
  },
  {
   "cell_type": "markdown",
   "id": "2332656c-6614-43e9-b027-3369ae331c2c",
   "metadata": {},
   "source": [
    "Let's quickly load up our genome annotation data as a list of plastid transcript objects."
   ]
  },
  {
   "cell_type": "code",
   "execution_count": null,
   "id": "20321931-b6b3-47e2-9c3b-5a1e1a2a774a",
   "metadata": {
    "tags": []
   },
   "outputs": [],
   "source": [
    "gtf_reads=list(GTF2_TranscriptAssembler(open(data_path + \"Drosophila_melanogaster.BDGP6.32.103.gtf\"),return_type=Transcript))"
   ]
  },
  {
   "cell_type": "markdown",
   "id": "7c4b7413-71b8-4224-a6f0-883c3ee44b23",
   "metadata": {},
   "source": [
    "Now, we need to create a place to hold our data. We’ll use dictionary of lists. The call to copy.deepcopy() on the empty list is necessary to prevent all of these dictionary keys from pointing to the same list, which is a weird side effect of the order in which things are evaluated inside comprehensions:\n",
    "\n",
    "Once we have created an empty dictionary of lists to hold our data, we’re ready to start calculating are measurements of transcript expression. We’ll use nested for loops to count expression of each transcript. Note that the code below takes about 1 hour to run. "
   ]
  },
  {
   "cell_type": "code",
   "execution_count": 77,
   "id": "941e2ea7-d7ae-4497-893c-2e9d24f84522",
   "metadata": {
    "tags": []
   },
   "outputs": [],
   "source": [
    "# we will count gene sub-regions in addition to entire genes\n",
    "region = (\"CDS\")\n",
    "\n",
    "# we will calculate both total counts and RPKM\n",
    "metrics = (\"counts\",\"rpk\",\"lengths\")\n",
    "\n",
    "# create an empty list for each sample, region, and metric\n",
    "my_data = { \"%s_%s\" % (SAMPLE,METRIC) : copy.deepcopy([])\\\n",
    "                                                  for SAMPLE in my_datasets.keys()\\\n",
    "                                                  for METRIC in metrics }\n",
    "\n",
    "# add a list to our dictionary of lists to store transcript IDs\n",
    "my_data[\"transcript_ID\"] = []\n",
    "my_data[\"gene_ID\"] = []\n",
    "\n",
    "for transcript in gtf_reads:\n",
    "        \n",
    "    # First, save ID of transcript we are evaluating\n",
    "    my_data[\"transcript_ID\"].append(transcript.get_name())\n",
    "    if transcript.attr[\"transcript_biotype\"] == \"protein_coding\":\n",
    "        my_data[\"gene_ID\"].append(transcript.attr[\"gene_name\"])\n",
    "    else:\n",
    "        my_data[\"gene_ID\"].append(\"NAN\")\n",
    "\n",
    "    # Iterate over each sample, getting the counts over each region\n",
    "    for sample_name, sample_data in my_datasets.items():\n",
    "        # transcript.get_counts() fetches a list of counts at each position\n",
    "        # here we just want the sum\n",
    "        counts = sum(transcript.get_counts(sample_data))\n",
    "        rpk   = float(counts)/(transcript.length/1000)\n",
    "        lengths = transcript.length\n",
    "        #rpkm   = float(counts) / transcript.length * 1000 * 1e6 / sample_data.sum()\n",
    "        my_data[\"%s_counts\" % (sample_name)].append(counts)\n",
    "        my_data[\"%s_rpk\"   % (sample_name)].append(rpk)\n",
    "        my_data[\"%s_lengths\" % (sample_name)].append(lengths)\n",
    "        #my_data[\"%s_rpkm\"   % (sample_name)].append(rpkm)"
   ]
  },
  {
   "cell_type": "markdown",
   "id": "aadeaf97-fe0e-4ede-ba43-8f65b62a3222",
   "metadata": {},
   "source": [
    "Star alignment to only the coding regions"
   ]
  },
  {
   "cell_type": "code",
   "execution_count": 79,
   "id": "8c254b28-34bd-4d35-9a87-bdfc30bd31ad",
   "metadata": {},
   "outputs": [],
   "source": [
    "# convert to Dataframe\n",
    "df = pd.DataFrame(my_data)"
   ]
  },
  {
   "cell_type": "markdown",
   "id": "679c7197-53b1-4bc0-ae7d-9da3492bd1cc",
   "metadata": {
    "tags": []
   },
   "source": [
    "# Estimating and plotting translation efficiency\n",
    "Translation efficiency is a measurement of how much protein is made from a single mRNA. Translation efficiency thus reports specifically on the translational control of gene expression.\n",
    "\n",
    "Translation efficiency can be estimated by normalizing an mRNA’s translating ribosome density (in TPM, as measured by ribosome profiling) by the mRNA’s abundance (in TPM, measured by RNA-Seq) ([IGNW09]).\n",
    "\n",
    "Making this estimate from the calculations above is simple:"
   ]
  },
  {
   "cell_type": "code",
   "execution_count": 80,
   "id": "5c2c70c0-5e60-4d90-8326-1a812062ea6c",
   "metadata": {},
   "outputs": [],
   "source": [
    "# Calculate tpm using rpk from our new dataframe. \n",
    "for sample_name, sample_data in my_datasets.items():\n",
    "    per_m_s = sum(df[\"%s_rpk\"   % (sample_name)])/1e6\n",
    "    df[\"%s_tpm\" % (sample_name)] = (df[\"%s_rpk\"   % (sample_name)])/per_m_s\n",
    "    \n",
    "# Calculate rpkm using the read counts. Work in progress.\n",
    "for sample_name, sample_data in my_datasets.items():\n",
    "    counts = df[\"%s_counts\"   % (sample_name)]\n",
    "    rpkm   = counts / df[\"%s_lengths\"   % (sample_name)]*1000 * 1e6 / sum(counts)\n",
    "    df[\"%s_rpkm\" % (sample_name)] = rpkm\n",
    "    \n",
    "    \n",
    "# Calculate translation efficiency using tpm\n",
    "df[\"TE_tpm\"] = df[\"ribosome_profiling_tpm\"] / df[\"RNA-seq_tpm\"]\n",
    "\n",
    "# Calculate translation efficiency using rpkm\n",
    "df[\"TE_rpkm\"] = df[\"ribosome_profiling_rpkm\"] / df[\"RNA-seq_rpkm\"]"
   ]
  },
  {
   "cell_type": "code",
   "execution_count": 81,
   "id": "e0924fd1-4458-4120-af35-4c1f2467ff21",
   "metadata": {},
   "outputs": [],
   "source": [
    "# Rearranging Column names to make something more readable. \n",
    "cols = ['transcript_ID', \"gene_ID\", 'TE_tpm','TE_rpkm','ribosome_profiling_tpm',\n",
    "        'RNA-seq_tpm','ribosome_profiling_counts','RNA-seq_counts',\n",
    "        'ribosome_profiling_rpkm', 'RNA-seq_rpkm', 'ribosome_profiling_rpk', \n",
    "       'RNA-seq_rpk', 'ribosome_profiling_lengths', 'RNA-seq_lengths']\n",
    "df = df[cols]"
   ]
  },
  {
   "cell_type": "code",
   "execution_count": 82,
   "id": "97622b7c-9329-4c54-955a-72d2bc82ffcc",
   "metadata": {},
   "outputs": [],
   "source": [
    "df.to_csv(save_path + \"control_2_te_table_unclean.csv\", index=False)"
   ]
  },
  {
   "cell_type": "code",
   "execution_count": 93,
   "id": "13f5f0c6-8346-411b-a3dd-e6376016c170",
   "metadata": {},
   "outputs": [
    {
     "data": {
      "text/html": [
       "<div>\n",
       "<style scoped>\n",
       "    .dataframe tbody tr th:only-of-type {\n",
       "        vertical-align: middle;\n",
       "    }\n",
       "\n",
       "    .dataframe tbody tr th {\n",
       "        vertical-align: top;\n",
       "    }\n",
       "\n",
       "    .dataframe thead th {\n",
       "        text-align: right;\n",
       "    }\n",
       "</style>\n",
       "<table border=\"1\" class=\"dataframe\">\n",
       "  <thead>\n",
       "    <tr style=\"text-align: right;\">\n",
       "      <th></th>\n",
       "      <th>transcript_ID</th>\n",
       "      <th>gene_ID</th>\n",
       "      <th>TE_tpm</th>\n",
       "      <th>TE_rpkm</th>\n",
       "      <th>ribosome_profiling_tpm</th>\n",
       "      <th>RNA-seq_tpm</th>\n",
       "      <th>ribosome_profiling_counts</th>\n",
       "      <th>RNA-seq_counts</th>\n",
       "      <th>ribosome_profiling_rpkm</th>\n",
       "      <th>RNA-seq_rpkm</th>\n",
       "      <th>ribosome_profiling_rpk</th>\n",
       "      <th>RNA-seq_rpk</th>\n",
       "      <th>ribosome_profiling_lengths</th>\n",
       "      <th>RNA-seq_lengths</th>\n",
       "    </tr>\n",
       "  </thead>\n",
       "  <tbody>\n",
       "    <tr>\n",
       "      <th>38747</th>\n",
       "      <td>FBtr0301301</td>\n",
       "      <td>Fur2</td>\n",
       "      <td>0.456615</td>\n",
       "      <td>1.730684</td>\n",
       "      <td>3.066581</td>\n",
       "      <td>6.715898</td>\n",
       "      <td>613.0</td>\n",
       "      <td>30.04</td>\n",
       "      <td>7.472895</td>\n",
       "      <td>4.317884</td>\n",
       "      <td>111.902154</td>\n",
       "      <td>5.483753</td>\n",
       "      <td>5478</td>\n",
       "      <td>5478</td>\n",
       "    </tr>\n",
       "    <tr>\n",
       "      <th>38748</th>\n",
       "      <td>FBtr0074262</td>\n",
       "      <td>Fur2</td>\n",
       "      <td>0.458642</td>\n",
       "      <td>1.738365</td>\n",
       "      <td>3.056424</td>\n",
       "      <td>6.664079</td>\n",
       "      <td>619.0</td>\n",
       "      <td>30.20</td>\n",
       "      <td>7.448145</td>\n",
       "      <td>4.284568</td>\n",
       "      <td>111.531532</td>\n",
       "      <td>5.441441</td>\n",
       "      <td>5550</td>\n",
       "      <td>5550</td>\n",
       "    </tr>\n",
       "    <tr>\n",
       "      <th>38749</th>\n",
       "      <td>FBtr0074261</td>\n",
       "      <td>Fur2</td>\n",
       "      <td>0.458642</td>\n",
       "      <td>1.738365</td>\n",
       "      <td>3.051476</td>\n",
       "      <td>6.653290</td>\n",
       "      <td>619.0</td>\n",
       "      <td>30.20</td>\n",
       "      <td>7.436086</td>\n",
       "      <td>4.277632</td>\n",
       "      <td>111.350962</td>\n",
       "      <td>5.432632</td>\n",
       "      <td>5559</td>\n",
       "      <td>5559</td>\n",
       "    </tr>\n",
       "    <tr>\n",
       "      <th>38750</th>\n",
       "      <td>FBtr0301300</td>\n",
       "      <td>Fur2</td>\n",
       "      <td>0.458642</td>\n",
       "      <td>1.738365</td>\n",
       "      <td>3.028594</td>\n",
       "      <td>6.603399</td>\n",
       "      <td>619.0</td>\n",
       "      <td>30.20</td>\n",
       "      <td>7.380326</td>\n",
       "      <td>4.245555</td>\n",
       "      <td>110.515979</td>\n",
       "      <td>5.391894</td>\n",
       "      <td>5601</td>\n",
       "      <td>5601</td>\n",
       "    </tr>\n",
       "    <tr>\n",
       "      <th>38751</th>\n",
       "      <td>FBtr0074264</td>\n",
       "      <td>Fur2</td>\n",
       "      <td>0.458642</td>\n",
       "      <td>1.738365</td>\n",
       "      <td>2.939888</td>\n",
       "      <td>6.409990</td>\n",
       "      <td>619.0</td>\n",
       "      <td>30.20</td>\n",
       "      <td>7.164160</td>\n",
       "      <td>4.121205</td>\n",
       "      <td>107.279029</td>\n",
       "      <td>5.233969</td>\n",
       "      <td>5770</td>\n",
       "      <td>5770</td>\n",
       "    </tr>\n",
       "    <tr>\n",
       "      <th>38752</th>\n",
       "      <td>FBtr0074267</td>\n",
       "      <td>Fur2</td>\n",
       "      <td>0.458642</td>\n",
       "      <td>1.738365</td>\n",
       "      <td>2.937851</td>\n",
       "      <td>6.405549</td>\n",
       "      <td>619.0</td>\n",
       "      <td>30.20</td>\n",
       "      <td>7.159197</td>\n",
       "      <td>4.118350</td>\n",
       "      <td>107.204711</td>\n",
       "      <td>5.230343</td>\n",
       "      <td>5774</td>\n",
       "      <td>5774</td>\n",
       "    </tr>\n",
       "    <tr>\n",
       "      <th>38753</th>\n",
       "      <td>FBtr0074263</td>\n",
       "      <td>Fur2</td>\n",
       "      <td>0.458642</td>\n",
       "      <td>1.738365</td>\n",
       "      <td>3.032926</td>\n",
       "      <td>6.612845</td>\n",
       "      <td>619.0</td>\n",
       "      <td>30.20</td>\n",
       "      <td>7.390882</td>\n",
       "      <td>4.251628</td>\n",
       "      <td>110.674057</td>\n",
       "      <td>5.399607</td>\n",
       "      <td>5593</td>\n",
       "      <td>5593</td>\n",
       "    </tr>\n",
       "    <tr>\n",
       "      <th>38754</th>\n",
       "      <td>FBtr0074265</td>\n",
       "      <td>Fur2</td>\n",
       "      <td>0.458642</td>\n",
       "      <td>1.738365</td>\n",
       "      <td>2.997553</td>\n",
       "      <td>6.535720</td>\n",
       "      <td>619.0</td>\n",
       "      <td>30.20</td>\n",
       "      <td>7.304684</td>\n",
       "      <td>4.202042</td>\n",
       "      <td>109.383283</td>\n",
       "      <td>5.336632</td>\n",
       "      <td>5659</td>\n",
       "      <td>5659</td>\n",
       "    </tr>\n",
       "    <tr>\n",
       "      <th>38755</th>\n",
       "      <td>FBtr0074266</td>\n",
       "      <td>Fur2</td>\n",
       "      <td>0.443942</td>\n",
       "      <td>1.682648</td>\n",
       "      <td>3.000735</td>\n",
       "      <td>6.759301</td>\n",
       "      <td>619.0</td>\n",
       "      <td>31.20</td>\n",
       "      <td>7.312437</td>\n",
       "      <td>4.345790</td>\n",
       "      <td>109.499381</td>\n",
       "      <td>5.519193</td>\n",
       "      <td>5653</td>\n",
       "      <td>5653</td>\n",
       "    </tr>\n",
       "  </tbody>\n",
       "</table>\n",
       "</div>"
      ],
      "text/plain": [
       "      transcript_ID gene_ID    TE_tpm   TE_rpkm  ribosome_profiling_tpm  \\\n",
       "38747   FBtr0301301    Fur2  0.456615  1.730684                3.066581   \n",
       "38748   FBtr0074262    Fur2  0.458642  1.738365                3.056424   \n",
       "38749   FBtr0074261    Fur2  0.458642  1.738365                3.051476   \n",
       "38750   FBtr0301300    Fur2  0.458642  1.738365                3.028594   \n",
       "38751   FBtr0074264    Fur2  0.458642  1.738365                2.939888   \n",
       "38752   FBtr0074267    Fur2  0.458642  1.738365                2.937851   \n",
       "38753   FBtr0074263    Fur2  0.458642  1.738365                3.032926   \n",
       "38754   FBtr0074265    Fur2  0.458642  1.738365                2.997553   \n",
       "38755   FBtr0074266    Fur2  0.443942  1.682648                3.000735   \n",
       "\n",
       "       RNA-seq_tpm  ribosome_profiling_counts  RNA-seq_counts  \\\n",
       "38747     6.715898                      613.0           30.04   \n",
       "38748     6.664079                      619.0           30.20   \n",
       "38749     6.653290                      619.0           30.20   \n",
       "38750     6.603399                      619.0           30.20   \n",
       "38751     6.409990                      619.0           30.20   \n",
       "38752     6.405549                      619.0           30.20   \n",
       "38753     6.612845                      619.0           30.20   \n",
       "38754     6.535720                      619.0           30.20   \n",
       "38755     6.759301                      619.0           31.20   \n",
       "\n",
       "       ribosome_profiling_rpkm  RNA-seq_rpkm  ribosome_profiling_rpk  \\\n",
       "38747                 7.472895      4.317884              111.902154   \n",
       "38748                 7.448145      4.284568              111.531532   \n",
       "38749                 7.436086      4.277632              111.350962   \n",
       "38750                 7.380326      4.245555              110.515979   \n",
       "38751                 7.164160      4.121205              107.279029   \n",
       "38752                 7.159197      4.118350              107.204711   \n",
       "38753                 7.390882      4.251628              110.674057   \n",
       "38754                 7.304684      4.202042              109.383283   \n",
       "38755                 7.312437      4.345790              109.499381   \n",
       "\n",
       "       RNA-seq_rpk  ribosome_profiling_lengths  RNA-seq_lengths  \n",
       "38747     5.483753                        5478             5478  \n",
       "38748     5.441441                        5550             5550  \n",
       "38749     5.432632                        5559             5559  \n",
       "38750     5.391894                        5601             5601  \n",
       "38751     5.233969                        5770             5770  \n",
       "38752     5.230343                        5774             5774  \n",
       "38753     5.399607                        5593             5593  \n",
       "38754     5.336632                        5659             5659  \n",
       "38755     5.519193                        5653             5653  "
      ]
     },
     "execution_count": 93,
     "metadata": {},
     "output_type": "execute_result"
    }
   ],
   "source": [
    "df[df[\"gene_ID\"] == \"Fur2\"]"
   ]
  },
  {
   "cell_type": "code",
   "execution_count": 94,
   "id": "73bc4c04-a542-4482-913e-faff5c589a41",
   "metadata": {},
   "outputs": [],
   "source": [
    "import pandas as pd\n",
    "data = pd.read_excel('/home/keeganfl/Downloads/aas9963-table-S4.xlsx', sheet_name=None)"
   ]
  },
  {
   "cell_type": "code",
   "execution_count": 107,
   "id": "2c53fdfa-f54a-43b8-93bb-06f8bd352f44",
   "metadata": {},
   "outputs": [],
   "source": [
    "data = data[\"Sheet1\"]"
   ]
  },
  {
   "cell_type": "code",
   "execution_count": 118,
   "id": "da8852e3-4aeb-4d5c-8432-fe764d48a49a",
   "metadata": {},
   "outputs": [
    {
     "data": {
      "text/html": [
       "<div>\n",
       "<style scoped>\n",
       "    .dataframe tbody tr th:only-of-type {\n",
       "        vertical-align: middle;\n",
       "    }\n",
       "\n",
       "    .dataframe tbody tr th {\n",
       "        vertical-align: top;\n",
       "    }\n",
       "\n",
       "    .dataframe thead th {\n",
       "        text-align: right;\n",
       "    }\n",
       "</style>\n",
       "<table border=\"1\" class=\"dataframe\">\n",
       "  <thead>\n",
       "    <tr style=\"text-align: right;\">\n",
       "      <th></th>\n",
       "      <th>Table S4.  Compiled Unprocessed Ribosome Profiling and mRNA-seq Data</th>\n",
       "      <th>Unnamed: 1</th>\n",
       "      <th>Unnamed: 2</th>\n",
       "      <th>Unnamed: 3</th>\n",
       "      <th>Unnamed: 4</th>\n",
       "      <th>Unnamed: 5</th>\n",
       "      <th>Unnamed: 6</th>\n",
       "      <th>Unnamed: 7</th>\n",
       "      <th>Unnamed: 8</th>\n",
       "      <th>Unnamed: 9</th>\n",
       "      <th>...</th>\n",
       "      <th>Unnamed: 17</th>\n",
       "      <th>Unnamed: 18</th>\n",
       "      <th>Unnamed: 19</th>\n",
       "      <th>Unnamed: 20</th>\n",
       "      <th>Unnamed: 21</th>\n",
       "      <th>Unnamed: 22</th>\n",
       "      <th>Unnamed: 23</th>\n",
       "      <th>Unnamed: 24</th>\n",
       "      <th>Unnamed: 25</th>\n",
       "      <th>Unnamed: 26</th>\n",
       "    </tr>\n",
       "  </thead>\n",
       "  <tbody>\n",
       "    <tr>\n",
       "      <th>0</th>\n",
       "      <td>NaN</td>\n",
       "      <td>NaN</td>\n",
       "      <td>NaN</td>\n",
       "      <td>NaN</td>\n",
       "      <td>Ribosome Footprinting Data</td>\n",
       "      <td>NaN</td>\n",
       "      <td>NaN</td>\n",
       "      <td>NaN</td>\n",
       "      <td>NaN</td>\n",
       "      <td>NaN</td>\n",
       "      <td>...</td>\n",
       "      <td>NaN</td>\n",
       "      <td>NaN</td>\n",
       "      <td>NaN</td>\n",
       "      <td>NaN</td>\n",
       "      <td>NaN</td>\n",
       "      <td>NaN</td>\n",
       "      <td>NaN</td>\n",
       "      <td>NaN</td>\n",
       "      <td>NaN</td>\n",
       "      <td>NaN</td>\n",
       "    </tr>\n",
       "    <tr>\n",
       "      <th>1</th>\n",
       "      <td>NaN</td>\n",
       "      <td>NaN</td>\n",
       "      <td>NaN</td>\n",
       "      <td>NaN</td>\n",
       "      <td>Control RNAi FPKM</td>\n",
       "      <td>NaN</td>\n",
       "      <td>NaN</td>\n",
       "      <td>NaN</td>\n",
       "      <td>Fmr1 RNAi FPKM</td>\n",
       "      <td>NaN</td>\n",
       "      <td>...</td>\n",
       "      <td>NaN</td>\n",
       "      <td>Fmr1 RNAi FPKM</td>\n",
       "      <td>NaN</td>\n",
       "      <td>NaN</td>\n",
       "      <td>NaN</td>\n",
       "      <td>NaN</td>\n",
       "      <td>NaN</td>\n",
       "      <td>NaN</td>\n",
       "      <td>Collagenase-treated Follicles FPKM</td>\n",
       "      <td>NaN</td>\n",
       "    </tr>\n",
       "    <tr>\n",
       "      <th>2</th>\n",
       "      <td>FBgn</td>\n",
       "      <td>Symbol</td>\n",
       "      <td>fc</td>\n",
       "      <td>ttest</td>\n",
       "      <td>GFP</td>\n",
       "      <td>mCherry_a</td>\n",
       "      <td>mCherry_b</td>\n",
       "      <td>mCherry_c</td>\n",
       "      <td>Fmr1_#1a</td>\n",
       "      <td>Fmr1_#1b</td>\n",
       "      <td>...</td>\n",
       "      <td>mCherry_c</td>\n",
       "      <td>Fmr1_#1a</td>\n",
       "      <td>Fmr1_#1b</td>\n",
       "      <td>Fmr1_#1c</td>\n",
       "      <td>Fmr1_#2a</td>\n",
       "      <td>Fmr1_#2b</td>\n",
       "      <td>Fmr1_#2c</td>\n",
       "      <td>a</td>\n",
       "      <td>b</td>\n",
       "      <td>c</td>\n",
       "    </tr>\n",
       "    <tr>\n",
       "      <th>3</th>\n",
       "      <td>FBgn0028734</td>\n",
       "      <td>Fmr1</td>\n",
       "      <td>0.080678</td>\n",
       "      <td>0.0</td>\n",
       "      <td>97.885</td>\n",
       "      <td>92.2085</td>\n",
       "      <td>103.761</td>\n",
       "      <td>69.0432</td>\n",
       "      <td>8.47435</td>\n",
       "      <td>9.09209</td>\n",
       "      <td>...</td>\n",
       "      <td>141.508</td>\n",
       "      <td>7.04031</td>\n",
       "      <td>6.09817</td>\n",
       "      <td>5.96941</td>\n",
       "      <td>4.74101</td>\n",
       "      <td>5.1014</td>\n",
       "      <td>6.51402</td>\n",
       "      <td>163.78</td>\n",
       "      <td>165.002</td>\n",
       "      <td>162.194</td>\n",
       "    </tr>\n",
       "    <tr>\n",
       "      <th>4</th>\n",
       "      <td>FBgn0034964</td>\n",
       "      <td>IntS1</td>\n",
       "      <td>0.504692</td>\n",
       "      <td>0.000002</td>\n",
       "      <td>23.719</td>\n",
       "      <td>21.9843</td>\n",
       "      <td>22.9889</td>\n",
       "      <td>20.3457</td>\n",
       "      <td>14.2741</td>\n",
       "      <td>10.8046</td>\n",
       "      <td>...</td>\n",
       "      <td>23.8924</td>\n",
       "      <td>25.0521</td>\n",
       "      <td>25.4272</td>\n",
       "      <td>25.807</td>\n",
       "      <td>29.1996</td>\n",
       "      <td>27.4783</td>\n",
       "      <td>27.9437</td>\n",
       "      <td>28.6296</td>\n",
       "      <td>24.0249</td>\n",
       "      <td>27.491</td>\n",
       "    </tr>\n",
       "    <tr>\n",
       "      <th>...</th>\n",
       "      <td>...</td>\n",
       "      <td>...</td>\n",
       "      <td>...</td>\n",
       "      <td>...</td>\n",
       "      <td>...</td>\n",
       "      <td>...</td>\n",
       "      <td>...</td>\n",
       "      <td>...</td>\n",
       "      <td>...</td>\n",
       "      <td>...</td>\n",
       "      <td>...</td>\n",
       "      <td>...</td>\n",
       "      <td>...</td>\n",
       "      <td>...</td>\n",
       "      <td>...</td>\n",
       "      <td>...</td>\n",
       "      <td>...</td>\n",
       "      <td>...</td>\n",
       "      <td>...</td>\n",
       "      <td>...</td>\n",
       "      <td>...</td>\n",
       "    </tr>\n",
       "    <tr>\n",
       "      <th>17243</th>\n",
       "      <td>FBgn0267784</td>\n",
       "      <td>NaN</td>\n",
       "      <td>NaN</td>\n",
       "      <td>NaN</td>\n",
       "      <td>0</td>\n",
       "      <td>0</td>\n",
       "      <td>0</td>\n",
       "      <td>0</td>\n",
       "      <td>0</td>\n",
       "      <td>0</td>\n",
       "      <td>...</td>\n",
       "      <td>0.367608</td>\n",
       "      <td>0.529733</td>\n",
       "      <td>0.741311</td>\n",
       "      <td>0.856701</td>\n",
       "      <td>0.861569</td>\n",
       "      <td>0.248411</td>\n",
       "      <td>0.14049</td>\n",
       "      <td>0.283908</td>\n",
       "      <td>0</td>\n",
       "      <td>0.128493</td>\n",
       "    </tr>\n",
       "    <tr>\n",
       "      <th>17244</th>\n",
       "      <td>FBgn0267785</td>\n",
       "      <td>lncRNA:CR46116</td>\n",
       "      <td>NaN</td>\n",
       "      <td>NaN</td>\n",
       "      <td>0</td>\n",
       "      <td>0</td>\n",
       "      <td>0</td>\n",
       "      <td>0</td>\n",
       "      <td>0</td>\n",
       "      <td>0</td>\n",
       "      <td>...</td>\n",
       "      <td>0</td>\n",
       "      <td>0</td>\n",
       "      <td>0</td>\n",
       "      <td>0</td>\n",
       "      <td>0</td>\n",
       "      <td>0</td>\n",
       "      <td>0</td>\n",
       "      <td>0</td>\n",
       "      <td>0</td>\n",
       "      <td>0</td>\n",
       "    </tr>\n",
       "    <tr>\n",
       "      <th>17245</th>\n",
       "      <td>FBgn0267786</td>\n",
       "      <td>lncRNA:CR46117</td>\n",
       "      <td>NaN</td>\n",
       "      <td>NaN</td>\n",
       "      <td>0</td>\n",
       "      <td>0</td>\n",
       "      <td>0</td>\n",
       "      <td>0</td>\n",
       "      <td>0</td>\n",
       "      <td>0</td>\n",
       "      <td>...</td>\n",
       "      <td>0</td>\n",
       "      <td>0</td>\n",
       "      <td>0</td>\n",
       "      <td>0</td>\n",
       "      <td>0</td>\n",
       "      <td>0</td>\n",
       "      <td>0</td>\n",
       "      <td>0</td>\n",
       "      <td>0</td>\n",
       "      <td>0</td>\n",
       "    </tr>\n",
       "    <tr>\n",
       "      <th>17246</th>\n",
       "      <td>FBgn0267787</td>\n",
       "      <td>lncRNA:CR46118</td>\n",
       "      <td>NaN</td>\n",
       "      <td>NaN</td>\n",
       "      <td>0</td>\n",
       "      <td>0</td>\n",
       "      <td>0</td>\n",
       "      <td>0</td>\n",
       "      <td>0</td>\n",
       "      <td>0</td>\n",
       "      <td>...</td>\n",
       "      <td>0</td>\n",
       "      <td>0</td>\n",
       "      <td>0</td>\n",
       "      <td>0</td>\n",
       "      <td>0</td>\n",
       "      <td>0</td>\n",
       "      <td>0</td>\n",
       "      <td>0</td>\n",
       "      <td>0</td>\n",
       "      <td>0</td>\n",
       "    </tr>\n",
       "    <tr>\n",
       "      <th>17247</th>\n",
       "      <td>FBgn0267789</td>\n",
       "      <td>lncRNA:CR46120</td>\n",
       "      <td>NaN</td>\n",
       "      <td>NaN</td>\n",
       "      <td>0</td>\n",
       "      <td>0</td>\n",
       "      <td>0</td>\n",
       "      <td>0</td>\n",
       "      <td>0</td>\n",
       "      <td>0</td>\n",
       "      <td>...</td>\n",
       "      <td>0</td>\n",
       "      <td>0</td>\n",
       "      <td>0</td>\n",
       "      <td>0</td>\n",
       "      <td>0</td>\n",
       "      <td>0</td>\n",
       "      <td>0</td>\n",
       "      <td>0</td>\n",
       "      <td>0</td>\n",
       "      <td>0</td>\n",
       "    </tr>\n",
       "  </tbody>\n",
       "</table>\n",
       "<p>17248 rows × 27 columns</p>\n",
       "</div>"
      ],
      "text/plain": [
       "      Table S4.  Compiled Unprocessed Ribosome Profiling and mRNA-seq Data  \\\n",
       "0                                                    NaN                     \n",
       "1                                                    NaN                     \n",
       "2                                                   FBgn                     \n",
       "3                                            FBgn0028734                     \n",
       "4                                            FBgn0034964                     \n",
       "...                                                  ...                     \n",
       "17243                                        FBgn0267784                     \n",
       "17244                                        FBgn0267785                     \n",
       "17245                                        FBgn0267786                     \n",
       "17246                                        FBgn0267787                     \n",
       "17247                                        FBgn0267789                     \n",
       "\n",
       "           Unnamed: 1 Unnamed: 2 Unnamed: 3                  Unnamed: 4  \\\n",
       "0                 NaN        NaN        NaN  Ribosome Footprinting Data   \n",
       "1                 NaN        NaN        NaN           Control RNAi FPKM   \n",
       "2              Symbol         fc      ttest                         GFP   \n",
       "3                Fmr1   0.080678        0.0                      97.885   \n",
       "4               IntS1   0.504692   0.000002                      23.719   \n",
       "...               ...        ...        ...                         ...   \n",
       "17243             NaN        NaN        NaN                           0   \n",
       "17244  lncRNA:CR46116        NaN        NaN                           0   \n",
       "17245  lncRNA:CR46117        NaN        NaN                           0   \n",
       "17246  lncRNA:CR46118        NaN        NaN                           0   \n",
       "17247  lncRNA:CR46120        NaN        NaN                           0   \n",
       "\n",
       "      Unnamed: 5 Unnamed: 6 Unnamed: 7      Unnamed: 8 Unnamed: 9  ...  \\\n",
       "0            NaN        NaN        NaN             NaN        NaN  ...   \n",
       "1            NaN        NaN        NaN  Fmr1 RNAi FPKM        NaN  ...   \n",
       "2      mCherry_a  mCherry_b  mCherry_c        Fmr1_#1a   Fmr1_#1b  ...   \n",
       "3        92.2085    103.761    69.0432         8.47435    9.09209  ...   \n",
       "4        21.9843    22.9889    20.3457         14.2741    10.8046  ...   \n",
       "...          ...        ...        ...             ...        ...  ...   \n",
       "17243          0          0          0               0          0  ...   \n",
       "17244          0          0          0               0          0  ...   \n",
       "17245          0          0          0               0          0  ...   \n",
       "17246          0          0          0               0          0  ...   \n",
       "17247          0          0          0               0          0  ...   \n",
       "\n",
       "      Unnamed: 17     Unnamed: 18 Unnamed: 19 Unnamed: 20 Unnamed: 21  \\\n",
       "0             NaN             NaN         NaN         NaN         NaN   \n",
       "1             NaN  Fmr1 RNAi FPKM         NaN         NaN         NaN   \n",
       "2       mCherry_c        Fmr1_#1a    Fmr1_#1b    Fmr1_#1c    Fmr1_#2a   \n",
       "3         141.508         7.04031     6.09817     5.96941     4.74101   \n",
       "4         23.8924         25.0521     25.4272      25.807     29.1996   \n",
       "...           ...             ...         ...         ...         ...   \n",
       "17243    0.367608        0.529733    0.741311    0.856701    0.861569   \n",
       "17244           0               0           0           0           0   \n",
       "17245           0               0           0           0           0   \n",
       "17246           0               0           0           0           0   \n",
       "17247           0               0           0           0           0   \n",
       "\n",
       "      Unnamed: 22 Unnamed: 23 Unnamed: 24                         Unnamed: 25  \\\n",
       "0             NaN         NaN         NaN                                 NaN   \n",
       "1             NaN         NaN         NaN  Collagenase-treated Follicles FPKM   \n",
       "2        Fmr1_#2b    Fmr1_#2c           a                                   b   \n",
       "3          5.1014     6.51402      163.78                             165.002   \n",
       "4         27.4783     27.9437     28.6296                             24.0249   \n",
       "...           ...         ...         ...                                 ...   \n",
       "17243    0.248411     0.14049    0.283908                                   0   \n",
       "17244           0           0           0                                   0   \n",
       "17245           0           0           0                                   0   \n",
       "17246           0           0           0                                   0   \n",
       "17247           0           0           0                                   0   \n",
       "\n",
       "      Unnamed: 26  \n",
       "0             NaN  \n",
       "1             NaN  \n",
       "2               c  \n",
       "3         162.194  \n",
       "4          27.491  \n",
       "...           ...  \n",
       "17243    0.128493  \n",
       "17244           0  \n",
       "17245           0  \n",
       "17246           0  \n",
       "17247           0  \n",
       "\n",
       "[17248 rows x 27 columns]"
      ]
     },
     "execution_count": 118,
     "metadata": {},
     "output_type": "execute_result"
    }
   ],
   "source": [
    "data"
   ]
  },
  {
   "cell_type": "code",
   "execution_count": 122,
   "id": "77b75009-6da6-4c73-9022-a5c1b061457b",
   "metadata": {},
   "outputs": [],
   "source": [
    "ribo_data = data.iloc[list(range(len(data))),list(range(15))] "
   ]
  },
  {
   "cell_type": "code",
   "execution_count": 126,
   "id": "bd7faef8-6246-44ce-baf2-12cbdd184f97",
   "metadata": {},
   "outputs": [],
   "source": [
    "ribo_data = ribo_data.iloc[2:-1]"
   ]
  },
  {
   "cell_type": "code",
   "execution_count": 137,
   "id": "716414c6-2e5b-4ab6-bc62-27d2998ed157",
   "metadata": {},
   "outputs": [],
   "source": [
    "ribo_data.columns = ribo_data.iloc[0]"
   ]
  },
  {
   "cell_type": "code",
   "execution_count": 139,
   "id": "b55815e6-23f1-4aa3-9738-bc508183d5f9",
   "metadata": {},
   "outputs": [],
   "source": [
    "ribo_data = ribo_data.iloc[1:-1]"
   ]
  },
  {
   "cell_type": "code",
   "execution_count": 184,
   "id": "922cab64-9dbb-4618-9a99-054287318371",
   "metadata": {},
   "outputs": [],
   "source": [
    "ribo_merged = pd.merge(df, ribo_data, how = 'inner', right_on = 'Symbol', left_on = 'gene_ID')"
   ]
  },
  {
   "cell_type": "code",
   "execution_count": 198,
   "id": "2cd405a4-4cd5-4b29-a248-b742dcf80564",
   "metadata": {},
   "outputs": [],
   "source": [
    "ribo_merged = ribo_merged[ribo_merged[\"ribosome_profiling_rpkm\"] < 2000]"
   ]
  },
  {
   "cell_type": "code",
   "execution_count": 199,
   "id": "a2bf5c63-8c1f-4dea-b408-9fae815c90e3",
   "metadata": {},
   "outputs": [],
   "source": [
    "m,b=np.polyfit(np.array(ribo_merged[\"GFP\"], dtype=float),np.array(ribo_merged[\"ribosome_profiling_rpkm\"], dtype=float),1)"
   ]
  },
  {
   "cell_type": "code",
   "execution_count": 205,
   "id": "ac6aca25-32d3-46d0-90f2-03249f30dc72",
   "metadata": {},
   "outputs": [
    {
     "data": {
      "text/plain": [
       "(0.0, 2000.0)"
      ]
     },
     "execution_count": 205,
     "metadata": {},
     "output_type": "execute_result"
    },
    {
     "data": {
      "image/png": "[encoded data removed]",
      "text/plain": [
       "<Figure size 432x288 with 1 Axes>"
      ]
     },
     "metadata": {},
     "output_type": "display_data"
    }
   ],
   "source": [
    "plt.scatter(ribo_merged[\"GFP\"],ribo_merged[\"ribosome_profiling_rpkm\"])\n",
    "plt.xlim([0,5000])\n",
    "plt.ylim([0,2000])"
   ]
  },
  {
   "cell_type": "code",
   "execution_count": 157,
   "id": "bc163077-910d-48e2-95f5-9f9b2718af5e",
   "metadata": {},
   "outputs": [],
   "source": [
    "RNA_data = data.iloc[list(range(len(data))),[0,1,16,17,18,19,20,21,22,23,24,25,26]] "
   ]
  },
  {
   "cell_type": "code",
   "execution_count": 158,
   "id": "6dde2d36-9fa7-45be-ac96-1a4ec1125754",
   "metadata": {},
   "outputs": [],
   "source": [
    "RNA_data = RNA_data.iloc[2:-1]"
   ]
  },
  {
   "cell_type": "code",
   "execution_count": 159,
   "id": "5ec9d30b-e324-44ee-bacc-b52b01505b84",
   "metadata": {},
   "outputs": [],
   "source": [
    "RNA_data.columns = RNA_data.iloc[0]"
   ]
  },
  {
   "cell_type": "code",
   "execution_count": 160,
   "id": "a87c2778-5d5e-48d3-a6d2-5106fcfac24d",
   "metadata": {},
   "outputs": [],
   "source": [
    "RNA_data = RNA_data.iloc[1:-1]"
   ]
  },
  {
   "cell_type": "code",
   "execution_count": 161,
   "id": "11656588-4585-465b-9eea-9f97e0e6a170",
   "metadata": {},
   "outputs": [],
   "source": [
    "RNA_merged = pd.merge(RNA_data, df, how = 'inner', left_on = 'Symbol', right_on = 'gene_ID')"
   ]
  },
  {
   "cell_type": "code",
   "execution_count": 165,
   "id": "3c67f767-6412-44b9-984f-3c6649c2c73b",
   "metadata": {},
   "outputs": [
    {
     "data": {
      "text/plain": [
       "(0.0, 2000.0)"
      ]
     },
     "execution_count": 165,
     "metadata": {},
     "output_type": "execute_result"
    },
    {
     "data": {
      "image/png": "[encoded data removed]",
      "text/plain": [
       "<Figure size 432x288 with 1 Axes>"
      ]
     },
     "metadata": {},
     "output_type": "display_data"
    }
   ],
   "source": [
    "plt.scatter(RNA_merged[\"mCherry_b\"],RNA_merged[\"RNA-seq_rpkm\"])\n",
    "plt.xlim([0,5000])\n",
    "plt.ylim([0,2000])"
   ]
  },
  {
   "cell_type": "code",
   "execution_count": 216,
   "id": "2cc7b162-338f-44ac-91e5-3f5b045a6001",
   "metadata": {},
   "outputs": [],
   "source": [
    "for_ethan = RNA_merged.iloc[list(range(len(RNA_merged))),[1,2,22]]\n",
    "for_ethan.columns = [\"Gene\",\"Ethan_RNA_rpkm\", \"Keegan_RNA_rpkm\"]"
   ]
  },
  {
   "cell_type": "code",
   "execution_count": 218,
   "id": "5929d315-df74-4cd3-9fa9-c26ff3174cb3",
   "metadata": {},
   "outputs": [],
   "source": [
    "for_ethan.to_csv(save_path + \"rpkm_comparison\")"
   ]
  },
  {
   "cell_type": "code",
   "execution_count": null,
   "id": "9b62be0e-5ce6-436f-9682-1c0a33ed8fae",
   "metadata": {},
   "outputs": [],
   "source": [
    "#!# A line of code that quickly loads up the data if it has already been saved. \n",
    "df3 = pd.read_csv(save_path + \"control_2_te_table_base.csv\")"
   ]
  },
  {
   "cell_type": "markdown",
   "id": "7bf02d0d-6ef1-46a1-9eb9-691785f8e241",
   "metadata": {},
   "source": [
    "The data above can now be easily plotted in many different ways. For example, the table below shows the correlation between the transcript levels and the translation levels"
   ]
  },
  {
   "cell_type": "code",
   "execution_count": 77,
   "id": "fc516b3c-f9de-427a-8cc6-dd3c0d77ace5",
   "metadata": {
    "tags": []
   },
   "outputs": [
    {
     "data": {
      "text/plain": [
       "Text(0, 0.5, 'Translation (tpm of footprints over CDS)')"
      ]
     },
     "execution_count": 77,
     "metadata": {},
     "output_type": "execute_result"
    },
    {
     "data": {
      "image/png": "[encoded data removed]",
      "text/plain": [
       "<Figure size 432x288 with 1 Axes>"
      ]
     },
     "metadata": {
      "needs_background": "light"
     },
     "output_type": "display_data"
    }
   ],
   "source": [
    "%matplotlib inline\n",
    "my_figure = plt.figure()\n",
    "plt.loglog() # log-scaling makes it easier\n",
    "\n",
    "# make a copy of dataframe for plotting\n",
    "# this is because 0-values cannot be plotted in log-space,\n",
    "# so we set them to a pseudo value called `MIN_VAL`\n",
    "\n",
    "MIN_VAL = np.nan\n",
    "plot_df = copy.deepcopy(df)\n",
    "plot_df[\"RNA-seq_tpm\"].replace({0:MIN_VAL}, inplace=True)\n",
    "plot_df[\"ribosome_profiling_tpm\"].replace({0:MIN_VAL}, inplace=True)\n",
    "\n",
    "# now, make a scatter plot\n",
    "plt.scatter(plot_df[\"RNA-seq_tpm\"],\n",
    "            plot_df[\"ribosome_profiling_tpm\"],\n",
    "            marker=\"o\",alpha=0.5,facecolor=\"none\",edgecolor=\"#007ADF\")\n",
    "plt.xlabel(\"Transcript levels (tpm of mRNA fragments over CDS)\")\n",
    "plt.ylabel(\"Translation (tpm of footprints over CDS)\")"
   ]
  },
  {
   "cell_type": "markdown",
   "id": "355c298f-0cbb-43a1-bb9d-db3d5f5b8c47",
   "metadata": {},
   "source": [
    "## Distribution of translation efficiency"
   ]
  },
  {
   "cell_type": "code",
   "execution_count": 52,
   "id": "6667b962-039c-43ba-a805-e39d7e19ab6c",
   "metadata": {},
   "outputs": [],
   "source": [
    "df_clean=df[~df.isin([np.nan, np.inf, -np.inf, 0]).any(1)]\n",
    "df_interest=df_clean[(df_clean[\"TE_tpm\"] >= 5)&(df_clean[\"TE_tpm\"] <= 800)]"
   ]
  },
  {
   "cell_type": "code",
   "execution_count": 55,
   "id": "dd2514e2-04ae-4f6b-9bd5-e80a39b6c716",
   "metadata": {},
   "outputs": [
    {
     "data": {
      "text/plain": [
       "(0.0, 20.0)"
      ]
     },
     "execution_count": 76,
     "metadata": {},
     "output_type": "execute_result"
    },
    {
     "data": {
      "image/png": "[encoded data removed]",
      "text/plain": [
       "<Figure size 432x288 with 1 Axes>"
      ]
     },
     "metadata": {},
     "output_type": "display_data"
    }
   ],
   "source": [
    "# plot kernel density estimates of A and B on the same axis\n",
    "fig, ax = kde_plot(df_clean[\"TE_rpkm\"],label=\"TE\")\n",
    "\n",
    "# make things look nice\n",
    "plt.xlabel(\"TE\")\n",
    "plt.ylabel(\"Probability density\")\n",
    "plt.title(\"kde_plot() demo\",y=1.1)\n",
    "plt.xlim(0,100)"
   ]
  },
  {
   "cell_type": "markdown",
   "id": "a1bce87e-26a0-4c62-b9b5-86560f6add37",
   "metadata": {},
   "source": [
    "Then, we can compare the effects of transcriptional and translational control:"
   ]
  },
  {
   "cell_type": "code",
   "execution_count": 56,
   "id": "4dc0b46b-a024-415e-bf35-e9dfdde46b5e",
   "metadata": {},
   "outputs": [
    {
     "data": {
      "text/plain": [
       "<module 'matplotlib.pyplot' from '/home/keeganfl/miniconda3/envs/plastid/lib/python3.8/site-packages/matplotlib/pyplot.py'>"
      ]
     },
     "execution_count": 56,
     "metadata": {},
     "output_type": "execute_result"
    },
    {
     "data": {
      "image/png": "[encoded data removed]",
      "text/plain": [
       "<Figure size 432x288 with 1 Axes>"
      ]
     },
     "metadata": {
      "needs_background": "light"
     },
     "output_type": "display_data"
    }
   ],
   "source": [
    "plt.loglog()\n",
    "plot_df = copy.deepcopy(df)\n",
    "plot_df[\"RNA-seq_rpkm\"].replace({0:MIN_VAL}, inplace=True)\n",
    "plot_df[\"ribosome_profiling_rpkm\"].replace({0:MIN_VAL}, inplace=True)\n",
    "\n",
    "# now, make a scatter plot\n",
    "plt.scatter(plot_df[\"RNA-seq_rpkm\"],\n",
    "            plot_df[\"TE_tpm\"],\n",
    "            marker=\"o\",alpha=0.2,facecolor=\"none\",edgecolor=\"#007ADF\")\n",
    "plt.xlabel(\"Transcript levels (RPKM of mRNA fragments over all exons)\")\n",
    "plt.ylabel(\"Translation efficiency\")\n",
    "plt.xlim(1,plt.xlim()[1])\n",
    "plt.ylim(plt.ylim()[0]/10.0,100)\n",
    "\n",
    "plt"
   ]
  },
  {
   "cell_type": "markdown",
   "id": "4dfb0598-d5e0-40b0-92e3-d33fab8229ff",
   "metadata": {},
   "source": [
    "## Creating a table that shows the read counts for transcript. "
   ]
  },
  {
   "cell_type": "code",
   "execution_count": 126,
   "id": "c30751f2-1a77-4717-9b15-5fd0fed708ff",
   "metadata": {},
   "outputs": [],
   "source": [
    "df.to_csv(save_path + \"FMR1_3_te_table.csv\", index=False)"
   ]
  },
  {
   "cell_type": "code",
   "execution_count": null,
   "id": "5aedde00-8445-44a7-b9b3-28b50891d94f",
   "metadata": {},
   "outputs": [],
   "source": []
  }
 ],
 "metadata": {
  "kernelspec": {
   "display_name": "Python 3 (ipykernel)",
   "language": "python",
   "name": "python3"
  },
  "language_info": {
   "codemirror_mode": {
    "name": "ipython",
    "version": 3
   },
   "file_extension": ".py",
   "mimetype": "text/x-python",
   "name": "python",
   "nbconvert_exporter": "python",
   "pygments_lexer": "ipython3",
   "version": "3.8.12"
  }
 },
 "nbformat": 4,
 "nbformat_minor": 5
}
