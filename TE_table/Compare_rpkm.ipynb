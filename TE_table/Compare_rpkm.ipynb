{
 "cells": [
  {
   "cell_type": "code",
   "execution_count": 7,
   "id": "d4b44e55-5144-4726-bccb-e2ad27a5d28e",
   "metadata": {},
   "outputs": [],
   "source": [
    "import pandas as pd\n",
    "data = pd.read_excel('/home/keeganfl/Downloads/aas9963-table-S4.xlsx', sheet_name=None)"
   ]
  },
  {
   "cell_type": "code",
   "execution_count": 19,
   "id": "f12258ce-ba02-4025-b4c4-fe13f2c6a144",
   "metadata": {},
   "outputs": [],
   "source": [
    "# import plastid\n",
    "# data structure for mapping read alignments to genomic positions\n",
    "from plastid import BAMGenomeArray, GenomeArray, VariableFivePrimeMapFactory, \\\n",
    "                        GTF2_TranscriptAssembler, GFF3_TranscriptAssembler, \\\n",
    "                        Transcript, ThreePrimeMapFactory, CenterMapFactory\n",
    "import plastid\n",
    "from plastid.plotting.plots import *\n",
    "import numpy as np\n",
    "import os\n",
    "from Bio import SeqIO\n",
    "import numpy\n",
    "import math\n",
    "import pandas as pd\n",
    "from scipy import stats\n",
    "from statsmodels.nonparametric.smoothers_lowess import lowess\n",
    "import warnings\n",
    "import matplotlib.pyplot as plt\n",
    "%matplotlib inline\n",
    "import csv\n",
    "from scipy.sparse.linalg import lsqr"
   ]
  },
  {
   "cell_type": "code",
   "execution_count": 9,
   "id": "ece03ef5-213f-4b30-8a15-a7566f4cf510",
   "metadata": {},
   "outputs": [],
   "source": [
    "data = data['Sheet1']"
   ]
  },
  {
   "cell_type": "code",
   "execution_count": 4,
   "id": "0f28afb2-7a9f-4166-8abd-b8319c529efa",
   "metadata": {},
   "outputs": [],
   "source": [
    "# Define the path to our Bam files\n",
    "data_path = \"/home/keeganfl/Desktop/Work_Fall_2021/genomes_&_samples/dmel/\"\n",
    "save_path = \"/home/keeganfl/Desktop/Work_Fall_2021/data_tables/TE_tables/dmel/\"\n",
    "p_site_path = \"/home/keeganfl/Desktop/Work_Fall_2021/data_tables/p-site_offsets/dmel/\"\n",
    "gtf_name = '\"Drosophila_melanogaster.BDGP6.32.103.gtf\"'\n",
    "mutation = 'control'\n",
    "samp_num = '3'\n",
    "special = \"fc\""
   ]
  },
  {
   "cell_type": "code",
   "execution_count": 5,
   "id": "98635ddb-9a33-4a10-b598-5f0eed243910",
   "metadata": {},
   "outputs": [],
   "source": [
    "df = pd.read_csv(save_path + mutation + '_' + samp_num + '_' + \"te_table\" + special + \".csv\")"
   ]
  },
  {
   "cell_type": "code",
   "execution_count": 10,
   "id": "e42accb6-1766-4b94-a345-28ea7668af8b",
   "metadata": {},
   "outputs": [],
   "source": [
    "ribo_data = data.iloc[list(range(len(data))),list(range(15))] "
   ]
  },
  {
   "cell_type": "code",
   "execution_count": 11,
   "id": "82a2cfc4-ebfa-463b-a13c-f79bcb33bd60",
   "metadata": {},
   "outputs": [],
   "source": [
    "ribo_data = ribo_data.iloc[2:-1]"
   ]
  },
  {
   "cell_type": "code",
   "execution_count": 12,
   "id": "c50a4994-6639-41dd-acb6-7542d5ed2d42",
   "metadata": {},
   "outputs": [],
   "source": [
    "ribo_data.columns = ribo_data.iloc[0]"
   ]
  },
  {
   "cell_type": "code",
   "execution_count": 13,
   "id": "b9a5c6ab-a48d-461a-93f5-e3711489d8ac",
   "metadata": {},
   "outputs": [],
   "source": [
    "ribo_data = ribo_data.iloc[1:-1]"
   ]
  },
  {
   "cell_type": "code",
   "execution_count": 22,
   "id": "f0d42ff2-4f9a-409d-b0c5-1b392d70f460",
   "metadata": {},
   "outputs": [],
   "source": [
    "ribo_merged = pd.merge(df, ribo_data, how = 'inner', right_on = 'Symbol', left_on = 'gene_name')"
   ]
  },
  {
   "cell_type": "code",
   "execution_count": 23,
   "id": "5e105b46-8ccc-4d44-9b5e-ff119e31a31a",
   "metadata": {},
   "outputs": [],
   "source": [
    "ribo_merged = ribo_merged[ribo_merged[\"ribosome_profiling_rpkm\"] < 2000]"
   ]
  },
  {
   "cell_type": "code",
   "execution_count": 25,
   "id": "fb4988d8-ac05-43fd-9966-7aebba22ebc9",
   "metadata": {},
   "outputs": [
    {
     "data": {
      "text/plain": [
       "(0.0, 5000.0)"
      ]
     },
     "execution_count": 25,
     "metadata": {},
     "output_type": "execute_result"
    },
    {
     "data": {
      "image/png": "[encoded data removed]",
      "text/plain": [
       "<Figure size 432x288 with 1 Axes>"
      ]
     },
     "metadata": {
      "needs_background": "light"
     },
     "output_type": "display_data"
    }
   ],
   "source": [
    "plt.scatter(ribo_merged[\"GFP\"],ribo_merged[\"ribosome_profiling_rpkm\"])\n",
    "plt.xlim([0,5000])\n",
    "plt.ylim([0,5000])"
   ]
  },
  {
   "cell_type": "code",
   "execution_count": 26,
   "id": "0158be93-a1a4-4ce7-bad1-9dc4b43d5d18",
   "metadata": {},
   "outputs": [],
   "source": [
    "RNA_data = data.iloc[list(range(len(data))),[0,1,16,17,18,19,20,21,22,23,24,25,26]] "
   ]
  },
  {
   "cell_type": "code",
   "execution_count": 27,
   "id": "1e12e28c-ebd8-4759-be56-071c5354cfe2",
   "metadata": {},
   "outputs": [],
   "source": [
    "RNA_data = RNA_data.iloc[2:-1]"
   ]
  },
  {
   "cell_type": "code",
   "execution_count": 28,
   "id": "aed02a4f-71a1-4e31-9e2a-d335c3bb1eda",
   "metadata": {},
   "outputs": [],
   "source": [
    "RNA_data.columns = RNA_data.iloc[0]"
   ]
  },
  {
   "cell_type": "code",
   "execution_count": 29,
   "id": "496bd926-bc42-42de-893c-f2a2772addae",
   "metadata": {},
   "outputs": [],
   "source": [
    "RNA_data = RNA_data.iloc[1:-1]"
   ]
  },
  {
   "cell_type": "code",
   "execution_count": 32,
   "id": "1226c831-68d8-4537-bc7b-689f80a9f36c",
   "metadata": {},
   "outputs": [],
   "source": [
    "RNA_merged = pd.merge(RNA_data, df, how = 'inner', left_on = 'Symbol', right_on = 'gene_name')"
   ]
  },
  {
   "cell_type": "code",
   "execution_count": 33,
   "id": "efd9ad65-0f59-4d16-9de6-95bf630e3121",
   "metadata": {},
   "outputs": [
    {
     "data": {
      "text/plain": [
       "(0.0, 2000.0)"
      ]
     },
     "execution_count": 33,
     "metadata": {},
     "output_type": "execute_result"
    },
    {
     "data": {
      "image/png": "[encoded data removed]",
      "text/plain": [
       "<Figure size 432x288 with 1 Axes>"
      ]
     },
     "metadata": {
      "needs_background": "light"
     },
     "output_type": "display_data"
    }
   ],
   "source": [
    "plt.scatter(RNA_merged[\"mCherry_b\"],RNA_merged[\"RNA-seq_rpkm\"])\n",
    "plt.xlim([0,5000])\n",
    "plt.ylim([0,2000])"
   ]
  },
  {
   "cell_type": "code",
   "execution_count": 216,
   "id": "afd84084-baf9-476e-b278-43eb3564a09f",
   "metadata": {},
   "outputs": [],
   "source": [
    "for_ethan = RNA_merged.iloc[list(range(len(RNA_merged))),[1,2,22]]\n",
    "for_ethan.columns = [\"Gene\",\"Ethan_RNA_rpkm\", \"Keegan_RNA_rpkm\"]"
   ]
  },
  {
   "cell_type": "code",
   "execution_count": 218,
   "id": "1ff302f4-1265-4b09-9443-58173f4b32cf",
   "metadata": {},
   "outputs": [],
   "source": [
    "for_ethan.to_csv(save_path + \"rpkm_comparison\")"
   ]
  }
 ],
 "metadata": {
  "kernelspec": {
   "display_name": "Python 3 (ipykernel)",
   "language": "python",
   "name": "python3"
  },
  "language_info": {
   "codemirror_mode": {
    "name": "ipython",
    "version": 3
   },
   "file_extension": ".py",
   "mimetype": "text/x-python",
   "name": "python",
   "nbconvert_exporter": "python",
   "pygments_lexer": "ipython3",
   "version": "3.8.12"
  }
 },
 "nbformat": 4,
 "nbformat_minor": 5
}
