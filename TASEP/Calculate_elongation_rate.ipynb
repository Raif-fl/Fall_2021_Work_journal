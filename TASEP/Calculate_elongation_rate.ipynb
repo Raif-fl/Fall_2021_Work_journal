{
 "cells": [
  {
   "cell_type": "markdown",
   "id": "05b1a7d4-8ede-4530-8784-598021ff19b7",
   "metadata": {},
   "source": [
    "## Loading up packages"
   ]
  },
  {
   "cell_type": "code",
   "execution_count": 1,
   "id": "ceab2473-7d5f-44ca-9727-b10ab5a27f7b",
   "metadata": {},
   "outputs": [],
   "source": [
    "# import plastid\n",
    "# data structure for mapping read alignments to genomic positions\n",
    "from plastid import BAMGenomeArray, VariableFivePrimeMapFactory, \\\n",
    "                        GTF2_TranscriptAssembler, Transcript, ThreePrimeMapFactory\n",
    "import numpy as np\n",
    "import numpy\n",
    "import pandas as pd\n",
    "import warnings\n",
    "import csv"
   ]
  },
  {
   "cell_type": "markdown",
   "id": "b32bb390-4d54-4827-8361-e4af46cf4b5c",
   "metadata": {},
   "source": [
    "# Loading up the csv file."
   ]
  },
  {
   "cell_type": "markdown",
   "id": "0d7a2676-c346-4ed4-b97f-69775f2db79a",
   "metadata": {},
   "source": [
    "Ok, so first I am going to take each position in my table and divide that position by the total number of transcripts... when he says transcripts does he really mean reads? It makes no sense to just use whatever number of transcripts happen to be in the genome, it would be much more sensical to use the sum of all of the reads for a transcript. \n",
    "\n",
    "Then, for each of those positions "
   ]
  }
 ],
 "metadata": {
  "kernelspec": {
   "display_name": "Python 3 (ipykernel)",
   "language": "python",
   "name": "python3"
  },
  "language_info": {
   "codemirror_mode": {
    "name": "ipython",
    "version": 3
   },
   "file_extension": ".py",
   "mimetype": "text/x-python",
   "name": "python",
   "nbconvert_exporter": "python",
   "pygments_lexer": "ipython3",
   "version": "3.8.10"
  }
 },
 "nbformat": 4,
 "nbformat_minor": 5
}
