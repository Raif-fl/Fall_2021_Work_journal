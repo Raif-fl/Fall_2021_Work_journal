{
 "cells": [
  {
   "cell_type": "code",
   "execution_count": 3,
   "id": "36c1ba29-d71e-4899-8d68-0c15019dbb64",
   "metadata": {},
   "outputs": [],
   "source": [
    "import sys\n",
    "sys.path.append('/home/keeganfl/Desktop/Work_Fall_2021/Fall_2021_Work_journal/tools/')"
   ]
  },
  {
   "cell_type": "code",
   "execution_count": 4,
   "id": "49871979-47de-4660-a96a-92c8c4e0c8dd",
   "metadata": {},
   "outputs": [],
   "source": [
    "# import plastid\n",
    "# data structure for mapping read alignments to genomic positions\n",
    "from plastid import BAMGenomeArray, VariableFivePrimeMapFactory, \\\n",
    "                        GTF2_TranscriptAssembler, GFF3_TranscriptAssembler, \\\n",
    "                        Transcript, ThreePrimeMapFactory\n",
    "import numpy as np\n",
    "from Bio import SeqIO\n",
    "import numpy\n",
    "import Loess as lo\n",
    "import pandas as pd\n",
    "from scipy import stats\n",
    "import keegan_analysis_tools as kat\n",
    "from statsmodels.nonparametric.smoothers_lowess import lowess\n",
    "import warnings\n",
    "import matplotlib.pyplot as plt\n",
    "%matplotlib inline\n",
    "import csv\n",
    "import os\n",
    "from scipy.sparse.linalg import lsqr"
   ]
  },
  {
   "cell_type": "code",
   "execution_count": 19,
   "id": "df73b501-3af5-4a3f-a4f8-8f8945eae3cd",
   "metadata": {},
   "outputs": [],
   "source": [
    "# Define the path important files. \n",
    "data_path = '/home/keeganfl/Desktop/Work_Fall_2021/genomes_&_samples/ecol/'\n",
    "csv_path = '/home/keeganfl/Desktop/Work_Fall_2021/data_tables/position_counts/ecol/'\n",
    "save_path = '/home/keeganfl/Desktop/Work_Fall_2021/data_tables/position_counts/ecol/'\n",
    "gtf_name = \"Escherichia_coli_str_k_12_substr_mg1655_gca_000005845.ASM584v2.51.gtf\""
   ]
  },
  {
   "cell_type": "code",
   "execution_count": 20,
   "id": "981c4f77-67ce-4be5-ac24-e1d952aaa137",
   "metadata": {},
   "outputs": [],
   "source": [
    "# get a list of all the files you want to average together. \n",
    "all_counts = os.listdir('/home/keeganfl/Desktop/Work_Fall_2021/data_tables/position_counts/ecol')"
   ]
  },
  {
   "cell_type": "code",
   "execution_count": 21,
   "id": "654c9625-32f7-412f-9ba4-d30224e6d1a2",
   "metadata": {},
   "outputs": [],
   "source": [
    "mutant_counts = []\n",
    "control_counts = []\n",
    "for count in all_counts:\n",
    "    if count.startswith(\"efp\") == True:\n",
    "        mutant_counts.append(count)\n",
    "    elif count.startswith(\"control\") == True:\n",
    "        control_counts.append(count)"
   ]
  },
  {
   "cell_type": "code",
   "execution_count": 22,
   "id": "927277d7-adb5-4e32-90ff-cbb12d705682",
   "metadata": {},
   "outputs": [
    {
     "data": {
      "text/plain": [
       "['control_RPF_5_counts.csv',\n",
       " 'control_RPF_2_counts.csv',\n",
       " 'control_RPF_4_counts.csv',\n",
       " 'control_RPF_3_counts.csv',\n",
       " 'control_RPF_1_counts.csv']"
      ]
     },
     "execution_count": 22,
     "metadata": {},
     "output_type": "execute_result"
    }
   ],
   "source": [
    "control_counts"
   ]
  },
  {
   "cell_type": "markdown",
   "id": "e3cd198e-cfef-47c8-84dd-a38e6e920243",
   "metadata": {},
   "source": [
    "Note too self: If you ever wanted a good example of something that could be run with multiprocessing, this would be it. "
   ]
  },
  {
   "cell_type": "code",
   "execution_count": 23,
   "id": "4cedd8b5-02f8-4b99-a8d4-914ed75aabf5",
   "metadata": {},
   "outputs": [],
   "source": [
    "def get_summed_array(counts):\n",
    "    array_list = []\n",
    "    for c in counts:\n",
    "        array_list.append(kat.load_count_positions(c, '/home/keeganfl/Desktop/Work_Fall_2021/data_tables/position_counts/ecol/'))\n",
    "    \n",
    "    # Convert count lists to numpy arrays so they can be quickly and easily summmed. \n",
    "    for al, i in zip(array_list, list(range(len(array_list)))):\n",
    "        array_list[i] = np.array(al, dtype=object)\n",
    "    \n",
    "    # Sum all of your newly made count arrays together. \n",
    "    summed_array = sum(array_list)\n",
    "\n",
    "    # Convert everything back to lists so that you can easily make your data tables. \n",
    "    summed_array = summed_array.tolist()\n",
    "    for i, j in zip(summed_array, list(range(len(summed_array)))):\n",
    "        summed_array[j] = i.tolist()\n",
    "    return summed_array\n"
   ]
  },
  {
   "cell_type": "code",
   "execution_count": 24,
   "id": "06ed13e3-6157-4f6e-b3ce-8cb2d262b9da",
   "metadata": {},
   "outputs": [],
   "source": [
    "mutant_summed_array = get_summed_array(mutant_counts)"
   ]
  },
  {
   "cell_type": "code",
   "execution_count": 25,
   "id": "94115212-7d8a-4331-aa31-4834da2ade3b",
   "metadata": {},
   "outputs": [],
   "source": [
    "control_summed_array = get_summed_array(control_counts)"
   ]
  },
  {
   "cell_type": "code",
   "execution_count": 26,
   "id": "17487e65-13a3-44c4-87aa-a8e3962bde52",
   "metadata": {
    "tags": []
   },
   "outputs": [],
   "source": [
    "# load the transcript annotations from the GTF file.\n",
    "# GTF2_TranscriptAssembler returns an iterator, so here we convert it to a list.\n",
    "transcripts = list(GTF2_TranscriptAssembler(open(data_path + gtf_name),return_type=Transcript))"
   ]
  },
  {
   "cell_type": "code",
   "execution_count": 27,
   "id": "de44ee24-fed4-4f42-a8da-5418e4a5844b",
   "metadata": {
    "tags": []
   },
   "outputs": [],
   "source": [
    "# Remove non-protein coding transcripts from transcripts list. \n",
    "protein_coding = []\n",
    "for transcript in transcripts:\n",
    "    if transcript.attr['transcript_biotype'] == 'protein_coding':\n",
    "        protein_coding.append(transcript)"
   ]
  },
  {
   "cell_type": "code",
   "execution_count": 28,
   "id": "7ecd617b-78f1-43ab-8216-ca90e5ea4b92",
   "metadata": {},
   "outputs": [],
   "source": [
    "# clear up some memory by deleting original transcript list\n",
    "transcripts.clear()"
   ]
  },
  {
   "cell_type": "code",
   "execution_count": 29,
   "id": "6205a321-b2c4-4fa5-ad62-7e0cde74d306",
   "metadata": {},
   "outputs": [],
   "source": [
    "def load_array_as_csv(transcripts, summed_array):\n",
    "    \n",
    "    # Create a list that contains all of the gene_ids and transcript_ids of the transcripts\n",
    "    gene_id = []\n",
    "    transcript_id = []\n",
    "\n",
    "    for transcript in transcripts:\n",
    "        gene_id.append(transcript.attr[\"gene_name\"])\n",
    "        transcript_id.append(transcript.attr[\"transcript_id\"])\n",
    "    \n",
    "    # Insert the gene ids and transcript ids into the codon_count list. \n",
    "    for i, j in zip(summed_array, range(len(gene_id))):\n",
    "        i.insert(0,gene_id[j])\n",
    "        i.insert(0,transcript_id[j])\n",
    "        \n",
    "    # Calculate the longest cds region in our new list of counts\n",
    "    l_tr = kat.find_max_list(summed_array)\n",
    "\n",
    "    # Define a header that includes labels for the transcript and gene ID as \n",
    "    # well as numbers that index the cds region position.\n",
    "    header=[\"transcript_id\",\"gene_id\"]+list(range(l_tr))\n",
    "\n",
    "    # insert that header into our counts list. \n",
    "    summed_array.insert(0,header)\n",
    "    return summed_array"
   ]
  },
  {
   "cell_type": "code",
   "execution_count": 30,
   "id": "fdb156e9-b738-40f8-8310-0e5c75ec2544",
   "metadata": {},
   "outputs": [],
   "source": [
    "mutant_summed_array = load_array_as_csv(protein_coding, mutant_summed_array)\n",
    "control_summed_array = load_array_as_csv(protein_coding, control_summed_array)"
   ]
  },
  {
   "cell_type": "code",
   "execution_count": 31,
   "id": "8995622c-bf3f-44be-a05b-ef51e04464ac",
   "metadata": {},
   "outputs": [],
   "source": [
    "with open(save_path + 'mutant_summed_counts.csv', 'w', newline='') as f:\n",
    "    writer = csv.writer(f)\n",
    "    writer.writerows(mutant_summed_array)\n",
    "    \n",
    "with open(save_path + 'control_summed_counts.csv', 'w', newline='') as f:\n",
    "    writer = csv.writer(f)\n",
    "    writer.writerows(control_summed_array)"
   ]
  },
  {
   "cell_type": "code",
   "execution_count": null,
   "id": "b1e97c6a-a2f5-4c3f-a6b9-b35cb25758a1",
   "metadata": {},
   "outputs": [],
   "source": []
  }
 ],
 "metadata": {
  "kernelspec": {
   "display_name": "Python 3 (ipykernel)",
   "language": "python",
   "name": "python3"
  },
  "language_info": {
   "codemirror_mode": {
    "name": "ipython",
    "version": 3
   },
   "file_extension": ".py",
   "mimetype": "text/x-python",
   "name": "python",
   "nbconvert_exporter": "python",
   "pygments_lexer": "ipython3",
   "version": "3.8.12"
  }
 },
 "nbformat": 4,
 "nbformat_minor": 5
}
